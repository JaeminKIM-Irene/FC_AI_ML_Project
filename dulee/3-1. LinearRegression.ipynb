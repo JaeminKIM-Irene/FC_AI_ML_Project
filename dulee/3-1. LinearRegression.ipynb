{
 "cells": [
  {
   "cell_type": "code",
   "execution_count": 1,
   "id": "710c0bff",
   "metadata": {},
   "outputs": [],
   "source": [
    "import numpy as np\n",
    "import pandas as pd\n",
    "import matplotlib.pyplot as plt\n",
    "import seaborn as sns\n",
    "\n",
    "from sklearn.linear_model import LogisticRegression\n",
    "from sklearn.model_selection import StratifiedKFold\n",
    "import optuna"
   ]
  },
  {
   "cell_type": "code",
   "execution_count": 2,
   "id": "421a7bef",
   "metadata": {},
   "outputs": [],
   "source": [
    "from sklearn.metrics import roc_auc_score"
   ]
  },
  {
   "cell_type": "markdown",
   "id": "ed174e63",
   "metadata": {},
   "source": [
    "# 데이터 로드"
   ]
  },
  {
   "cell_type": "code",
   "execution_count": 3,
   "id": "905ff80d",
   "metadata": {},
   "outputs": [],
   "source": [
    "data_path = '../data/'\n",
    "submission_df = pd.read_csv(data_path+'sample_submission.csv', index_col='id')\n",
    "\n",
    "train = pd.read_csv('train.csv', index_col='id')\n",
    "test = pd.read_csv('test.csv', index_col='id')"
   ]
  },
  {
   "cell_type": "markdown",
   "id": "2bdc155e",
   "metadata": {},
   "source": [
    "##### 변수 설정"
   ]
  },
  {
   "cell_type": "code",
   "execution_count": 4,
   "id": "43768aa9",
   "metadata": {},
   "outputs": [],
   "source": [
    "X = train.drop(columns=['defects'])\n",
    "y = train['defects']\n",
    "X_test = test"
   ]
  },
  {
   "cell_type": "markdown",
   "id": "e5dcf746",
   "metadata": {},
   "source": [
    "##### train, val 분리"
   ]
  },
  {
   "cell_type": "code",
   "execution_count": 5,
   "id": "e85602b7",
   "metadata": {},
   "outputs": [
    {
     "name": "stdout",
     "output_type": "stream",
     "text": [
      "{False: 62874, True: 18536}\tTrue 비율: 22.77 %\n",
      "{False: 15825, True: 4528}\tTrue 비율: 22.25 %\n"
     ]
    }
   ],
   "source": [
    "from sklearn.model_selection import train_test_split\n",
    "X_train, X_val, y_train, y_val = train_test_split(X, y, random_state=42, train_size=0.8)\n",
    "\n",
    "print(tf_train:=dict(y_train.value_counts()), end='\\t')\n",
    "print('True 비율:', np.round(y_train.mean() * 100, 2), '%')\n",
    "print(tf_val:=dict(y_val.value_counts()), end='\\t')\n",
    "print('True 비율:', y_val.mean().round(4) * 100, '%')"
   ]
  },
  {
   "cell_type": "markdown",
   "id": "00bbe03c",
   "metadata": {},
   "source": [
    "# 모델 학습"
   ]
  },
  {
   "cell_type": "markdown",
   "id": "a34887e3",
   "metadata": {},
   "source": [
    "### Logistic Regression"
   ]
  },
  {
   "cell_type": "code",
   "execution_count": 6,
   "id": "50821873",
   "metadata": {},
   "outputs": [
    {
     "data": {
      "text/plain": [
       "0.7786744790358324"
      ]
     },
     "execution_count": 6,
     "metadata": {},
     "output_type": "execute_result"
    }
   ],
   "source": [
    "lr = LogisticRegression(max_iter=1000) # ConvergenceWarning 방지\n",
    "lr.fit(X_train, y_train)\n",
    "roc_auc_score(y_val, lr.predict_proba(X_val)[:, 1])"
   ]
  },
  {
   "cell_type": "code",
   "execution_count": 7,
   "id": "4deb479f",
   "metadata": {},
   "outputs": [
    {
     "data": {
      "text/plain": [
       "array([0.19705764, 0.18822999, 0.69524216, ..., 0.15945283, 0.14275481,\n",
       "       0.57015351])"
      ]
     },
     "execution_count": 7,
     "metadata": {},
     "output_type": "execute_result"
    }
   ],
   "source": [
    "y_proba_lr = lr.predict_proba(X_test)[:, 1]\n",
    "y_proba_lr"
   ]
  },
  {
   "cell_type": "markdown",
   "id": "5cf4cfe8",
   "metadata": {},
   "source": [
    "# 제출"
   ]
  },
  {
   "cell_type": "code",
   "execution_count": 8,
   "id": "8301cdb3",
   "metadata": {
    "scrolled": false
   },
   "outputs": [
    {
     "data": {
      "text/html": [
       "<div>\n",
       "<style scoped>\n",
       "    .dataframe tbody tr th:only-of-type {\n",
       "        vertical-align: middle;\n",
       "    }\n",
       "\n",
       "    .dataframe tbody tr th {\n",
       "        vertical-align: top;\n",
       "    }\n",
       "\n",
       "    .dataframe thead th {\n",
       "        text-align: right;\n",
       "    }\n",
       "</style>\n",
       "<table border=\"1\" class=\"dataframe\">\n",
       "  <thead>\n",
       "    <tr style=\"text-align: right;\">\n",
       "      <th></th>\n",
       "      <th>defects</th>\n",
       "    </tr>\n",
       "    <tr>\n",
       "      <th>id</th>\n",
       "      <th></th>\n",
       "    </tr>\n",
       "  </thead>\n",
       "  <tbody>\n",
       "    <tr>\n",
       "      <th>101763</th>\n",
       "      <td>0.197058</td>\n",
       "    </tr>\n",
       "    <tr>\n",
       "      <th>101764</th>\n",
       "      <td>0.188230</td>\n",
       "    </tr>\n",
       "    <tr>\n",
       "      <th>101765</th>\n",
       "      <td>0.695242</td>\n",
       "    </tr>\n",
       "    <tr>\n",
       "      <th>101766</th>\n",
       "      <td>0.338176</td>\n",
       "    </tr>\n",
       "    <tr>\n",
       "      <th>101767</th>\n",
       "      <td>0.156598</td>\n",
       "    </tr>\n",
       "    <tr>\n",
       "      <th>...</th>\n",
       "      <td>...</td>\n",
       "    </tr>\n",
       "    <tr>\n",
       "      <th>169600</th>\n",
       "      <td>0.211176</td>\n",
       "    </tr>\n",
       "    <tr>\n",
       "      <th>169601</th>\n",
       "      <td>0.150993</td>\n",
       "    </tr>\n",
       "    <tr>\n",
       "      <th>169602</th>\n",
       "      <td>0.159453</td>\n",
       "    </tr>\n",
       "    <tr>\n",
       "      <th>169603</th>\n",
       "      <td>0.142755</td>\n",
       "    </tr>\n",
       "    <tr>\n",
       "      <th>169604</th>\n",
       "      <td>0.570154</td>\n",
       "    </tr>\n",
       "  </tbody>\n",
       "</table>\n",
       "<p>67842 rows × 1 columns</p>\n",
       "</div>"
      ],
      "text/plain": [
       "         defects\n",
       "id              \n",
       "101763  0.197058\n",
       "101764  0.188230\n",
       "101765  0.695242\n",
       "101766  0.338176\n",
       "101767  0.156598\n",
       "...          ...\n",
       "169600  0.211176\n",
       "169601  0.150993\n",
       "169602  0.159453\n",
       "169603  0.142755\n",
       "169604  0.570154\n",
       "\n",
       "[67842 rows x 1 columns]"
      ]
     },
     "execution_count": 8,
     "metadata": {},
     "output_type": "execute_result"
    }
   ],
   "source": [
    "submission_df['defects'] = y_proba_lr\n",
    "submission_df.to_csv('submission.csv')\n",
    "submission_df"
   ]
  },
  {
   "cell_type": "markdown",
   "id": "d091df9a",
   "metadata": {},
   "source": [
    "### 확인"
   ]
  },
  {
   "cell_type": "code",
   "execution_count": 9,
   "id": "5b1e84e1",
   "metadata": {},
   "outputs": [
    {
     "data": {
      "text/html": [
       "<div>\n",
       "<style scoped>\n",
       "    .dataframe tbody tr th:only-of-type {\n",
       "        vertical-align: middle;\n",
       "    }\n",
       "\n",
       "    .dataframe tbody tr th {\n",
       "        vertical-align: top;\n",
       "    }\n",
       "\n",
       "    .dataframe thead th {\n",
       "        text-align: right;\n",
       "    }\n",
       "</style>\n",
       "<table border=\"1\" class=\"dataframe\">\n",
       "  <thead>\n",
       "    <tr style=\"text-align: right;\">\n",
       "      <th></th>\n",
       "      <th>defects</th>\n",
       "    </tr>\n",
       "    <tr>\n",
       "      <th>id</th>\n",
       "      <th></th>\n",
       "    </tr>\n",
       "  </thead>\n",
       "  <tbody>\n",
       "    <tr>\n",
       "      <th>101763</th>\n",
       "      <td>0.197058</td>\n",
       "    </tr>\n",
       "    <tr>\n",
       "      <th>101764</th>\n",
       "      <td>0.188230</td>\n",
       "    </tr>\n",
       "    <tr>\n",
       "      <th>101765</th>\n",
       "      <td>0.695242</td>\n",
       "    </tr>\n",
       "    <tr>\n",
       "      <th>101766</th>\n",
       "      <td>0.338176</td>\n",
       "    </tr>\n",
       "    <tr>\n",
       "      <th>101767</th>\n",
       "      <td>0.156598</td>\n",
       "    </tr>\n",
       "    <tr>\n",
       "      <th>...</th>\n",
       "      <td>...</td>\n",
       "    </tr>\n",
       "    <tr>\n",
       "      <th>169600</th>\n",
       "      <td>0.211176</td>\n",
       "    </tr>\n",
       "    <tr>\n",
       "      <th>169601</th>\n",
       "      <td>0.150993</td>\n",
       "    </tr>\n",
       "    <tr>\n",
       "      <th>169602</th>\n",
       "      <td>0.159453</td>\n",
       "    </tr>\n",
       "    <tr>\n",
       "      <th>169603</th>\n",
       "      <td>0.142755</td>\n",
       "    </tr>\n",
       "    <tr>\n",
       "      <th>169604</th>\n",
       "      <td>0.570154</td>\n",
       "    </tr>\n",
       "  </tbody>\n",
       "</table>\n",
       "<p>67842 rows × 1 columns</p>\n",
       "</div>"
      ],
      "text/plain": [
       "         defects\n",
       "id              \n",
       "101763  0.197058\n",
       "101764  0.188230\n",
       "101765  0.695242\n",
       "101766  0.338176\n",
       "101767  0.156598\n",
       "...          ...\n",
       "169600  0.211176\n",
       "169601  0.150993\n",
       "169602  0.159453\n",
       "169603  0.142755\n",
       "169604  0.570154\n",
       "\n",
       "[67842 rows x 1 columns]"
      ]
     },
     "execution_count": 9,
     "metadata": {},
     "output_type": "execute_result"
    }
   ],
   "source": [
    "pd.read_csv('submission.csv', index_col='id')"
   ]
  },
  {
   "cell_type": "code",
   "execution_count": null,
   "id": "4fe5e053",
   "metadata": {},
   "outputs": [],
   "source": []
  }
 ],
 "metadata": {
  "kernelspec": {
   "display_name": "Python 3 (ipykernel)",
   "language": "python",
   "name": "python3"
  },
  "language_info": {
   "codemirror_mode": {
    "name": "ipython",
    "version": 3
   },
   "file_extension": ".py",
   "mimetype": "text/x-python",
   "name": "python",
   "nbconvert_exporter": "python",
   "pygments_lexer": "ipython3",
   "version": "3.9.7"
  }
 },
 "nbformat": 4,
 "nbformat_minor": 5
}
