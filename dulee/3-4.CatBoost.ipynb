{
 "cells": [
  {
   "cell_type": "code",
   "execution_count": null,
   "id": "710c0bff",
   "metadata": {
    "id": "710c0bff"
   },
   "outputs": [],
   "source": [
    "import numpy as np\n",
    "import pandas as pd\n",
    "import matplotlib.pyplot as plt\n",
    "import seaborn as sns\n",
    "\n",
    "\n",
    "from sklearn.model_selection import StratifiedKFold\n",
    "from catboost import CatBoostClassifier, Pool, metrics, cv\n",
    "\n",
    "import optuna"
   ]
  },
  {
   "cell_type": "code",
   "execution_count": null,
   "id": "421a7bef",
   "metadata": {
    "id": "421a7bef"
   },
   "outputs": [],
   "source": [
    "from sklearn.metrics import roc_auc_score"
   ]
  },
  {
   "cell_type": "markdown",
   "id": "ed174e63",
   "metadata": {
    "id": "ed174e63"
   },
   "source": [
    "# 데이터 로드"
   ]
  },
  {
   "cell_type": "code",
   "execution_count": null,
   "id": "7cOrJsA0McSn",
   "metadata": {
    "id": "7cOrJsA0McSn"
   },
   "outputs": [],
   "source": [
    "import os\n",
    "\n",
    "colab = os.path.isdir('./sample_data')\n",
    "mount = os.path.isdir('/content/drive')\n",
    "if colab:\n",
    "    if not mount:\n",
    "        from google.colab import drive\n",
    "        drive.mount('/content/drive')\n",
    "    base_path = '/content/drive/MyDrive/Colab Notebooks/5_ML_Project/dulee/'\n",
    "    data_path = '/content/drive/MyDrive/Colab Notebooks/5_ML_Project/data/'\n",
    "else:\n",
    "    base_path = ''\n",
    "    data_path = '../data/'"
   ]
  },
  {
   "cell_type": "code",
   "execution_count": null,
   "id": "905ff80d",
   "metadata": {
    "id": "905ff80d"
   },
   "outputs": [],
   "source": [
    "submission_df = pd.read_csv(data_path + 'sample_submission.csv', index_col='id')\n",
    "\n",
    "train = pd.read_csv(base_path + 'train.csv', index_col='id')\n",
    "test = pd.read_csv(base_path + 'test.csv', index_col='id')"
   ]
  },
  {
   "cell_type": "markdown",
   "id": "5decb7ca",
   "metadata": {
    "id": "5decb7ca"
   },
   "source": [
    "##### 변수 설정"
   ]
  },
  {
   "cell_type": "code",
   "execution_count": null,
   "id": "18649eb1",
   "metadata": {
    "id": "18649eb1"
   },
   "outputs": [],
   "source": [
    "X = train.drop(columns=['defects'])\n",
    "y = train['defects']\n",
    "X_test = test"
   ]
  },
  {
   "cell_type": "markdown",
   "id": "00bbe03c",
   "metadata": {
    "id": "00bbe03c"
   },
   "source": [
    "# 모델 학습"
   ]
  },
  {
   "cell_type": "markdown",
   "id": "149eb8f6",
   "metadata": {
    "id": "149eb8f6"
   },
   "source": [
    "### Light GBM"
   ]
  },
  {
   "cell_type": "code",
   "execution_count": null,
   "id": "2bc2c278",
   "metadata": {
    "id": "2bc2c278"
   },
   "outputs": [],
   "source": [
    "def optimizer(trial):\n",
    "    num_leaves = trial.suggest_categorical('num_leaves', [4, 8, 16, 32])\n",
    "    learning_rate = trial.suggest_float('learning_rate', 0.01, 0.3)\n",
    "    n_estimators = trial.suggest_int('n_estimators', 100, 300)\n",
    "\n",
    "    iterations\n",
    "    learning_rate = trial.suggest_float('learning_rate', 0.01, 0.3)\n",
    "    depth\n",
    "    border_count\n",
    "    rsm\n",
    "\n",
    "\n",
    "    model = CatBoostClassifier(\n",
    "        custom_loss=[metrics.Accuracy()],\n",
    "        random_seed=61,\n",
    "        logging_level='Silent',\n",
    "\n",
    "    )\n",
    "\n",
    "    folds = StratifiedKFold(shuffle=True, random_state=61) # n_splits=5 (default값)\n",
    "    scores = []\n",
    "    for train_idx, val_idx in folds.split(X, y):      # index로 분리: memory 절약\n",
    "        model.fit(X.iloc[train_idx], y.iloc[train_idx],\n",
    "                  eval_set=(X_val, y_val),\n",
    "                  plot=True,\n",
    "        )\n",
    "\n",
    "        y_true = y.iloc[val_idx]\n",
    "        y_proba = model.predict_proba(X.iloc[val_idx])[:, 1]\n",
    "        scores.append(roc_auc_score(y_true, y_proba))\n",
    "    return np.mean(scores)"
   ]
  },
  {
   "cell_type": "code",
   "execution_count": null,
   "id": "552c6acd",
   "metadata": {
    "id": "552c6acd",
    "outputId": "b4c3840a-b051-49e1-9588-5375dc248af6"
   },
   "outputs": [
    {
     "name": "stderr",
     "output_type": "stream",
     "text": [
      "[I 2023-10-12 16:32:32,738] A new study created in memory with name: no-name-9e8833f1-5dfa-4902-b656-6e02e19bee96\n"
     ]
    },
    {
     "name": "stdout",
     "output_type": "stream",
     "text": [
      "[LightGBM] [Info] Number of positive: 18451, number of negative: 62959\n",
      "[LightGBM] [Info] Auto-choosing col-wise multi-threading, the overhead of testing was 0.008309 seconds.\n",
      "You can set `force_col_wise=true` to remove the overhead.\n",
      "[LightGBM] [Info] Total Bins 3547\n",
      "[LightGBM] [Info] Number of data points in the train set: 81410, number of used features: 21\n",
      "[LightGBM] [Info] [binary:BoostFromScore]: pavg=0.226643 -> initscore=-1.227365\n",
      "[LightGBM] [Info] Start training from score -1.227365\n",
      "[LightGBM] [Info] Number of positive: 18451, number of negative: 62959\n",
      "[LightGBM] [Info] Auto-choosing col-wise multi-threading, the overhead of testing was 0.007369 seconds.\n",
      "You can set `force_col_wise=true` to remove the overhead.\n",
      "[LightGBM] [Info] Total Bins 3546\n",
      "[LightGBM] [Info] Number of data points in the train set: 81410, number of used features: 21\n",
      "[LightGBM] [Info] [binary:BoostFromScore]: pavg=0.226643 -> initscore=-1.227365\n",
      "[LightGBM] [Info] Start training from score -1.227365\n",
      "[LightGBM] [Info] Number of positive: 18451, number of negative: 62959\n",
      "[LightGBM] [Info] Auto-choosing col-wise multi-threading, the overhead of testing was 0.007809 seconds.\n",
      "You can set `force_col_wise=true` to remove the overhead.\n",
      "[LightGBM] [Info] Total Bins 3551\n",
      "[LightGBM] [Info] Number of data points in the train set: 81410, number of used features: 21\n",
      "[LightGBM] [Info] [binary:BoostFromScore]: pavg=0.226643 -> initscore=-1.227365\n",
      "[LightGBM] [Info] Start training from score -1.227365\n",
      "[LightGBM] [Info] Number of positive: 18452, number of negative: 62959\n",
      "[LightGBM] [Info] Auto-choosing col-wise multi-threading, the overhead of testing was 0.008115 seconds.\n",
      "You can set `force_col_wise=true` to remove the overhead.\n",
      "[LightGBM] [Info] Total Bins 3558\n",
      "[LightGBM] [Info] Number of data points in the train set: 81411, number of used features: 21\n",
      "[LightGBM] [Info] [binary:BoostFromScore]: pavg=0.226652 -> initscore=-1.227311\n",
      "[LightGBM] [Info] Start training from score -1.227311\n",
      "[LightGBM] [Info] Number of positive: 18451, number of negative: 62960\n",
      "[LightGBM] [Info] Auto-choosing col-wise multi-threading, the overhead of testing was 0.007883 seconds.\n",
      "You can set `force_col_wise=true` to remove the overhead.\n",
      "[LightGBM] [Info] Total Bins 3552\n",
      "[LightGBM] [Info] Number of data points in the train set: 81411, number of used features: 21\n",
      "[LightGBM] [Info] [binary:BoostFromScore]: pavg=0.226640 -> initscore=-1.227381\n",
      "[LightGBM] [Info] Start training from score -1.227381\n"
     ]
    },
    {
     "name": "stderr",
     "output_type": "stream",
     "text": [
      "[I 2023-10-12 16:32:35,938] Trial 0 finished with value: 0.7918478491127541 and parameters: {'num_leaves': 4, 'learning_rate': 0.23454987368458047, 'n_estimators': 220}. Best is trial 0 with value: 0.7918478491127541.\n"
     ]
    },
    {
     "name": "stdout",
     "output_type": "stream",
     "text": [
      "[LightGBM] [Info] Number of positive: 18451, number of negative: 62959\n",
      "[LightGBM] [Info] Auto-choosing col-wise multi-threading, the overhead of testing was 0.008049 seconds.\n",
      "You can set `force_col_wise=true` to remove the overhead.\n",
      "[LightGBM] [Info] Total Bins 3547\n",
      "[LightGBM] [Info] Number of data points in the train set: 81410, number of used features: 21\n",
      "[LightGBM] [Info] [binary:BoostFromScore]: pavg=0.226643 -> initscore=-1.227365\n",
      "[LightGBM] [Info] Start training from score -1.227365\n",
      "[LightGBM] [Info] Number of positive: 18451, number of negative: 62959\n",
      "[LightGBM] [Info] Auto-choosing col-wise multi-threading, the overhead of testing was 0.008053 seconds.\n",
      "You can set `force_col_wise=true` to remove the overhead.\n",
      "[LightGBM] [Info] Total Bins 3546\n",
      "[LightGBM] [Info] Number of data points in the train set: 81410, number of used features: 21\n",
      "[LightGBM] [Info] [binary:BoostFromScore]: pavg=0.226643 -> initscore=-1.227365\n",
      "[LightGBM] [Info] Start training from score -1.227365\n",
      "[LightGBM] [Info] Number of positive: 18451, number of negative: 62959\n",
      "[LightGBM] [Info] Auto-choosing col-wise multi-threading, the overhead of testing was 0.008066 seconds.\n",
      "You can set `force_col_wise=true` to remove the overhead.\n",
      "[LightGBM] [Info] Total Bins 3551\n",
      "[LightGBM] [Info] Number of data points in the train set: 81410, number of used features: 21\n",
      "[LightGBM] [Info] [binary:BoostFromScore]: pavg=0.226643 -> initscore=-1.227365\n",
      "[LightGBM] [Info] Start training from score -1.227365\n",
      "[LightGBM] [Info] Number of positive: 18452, number of negative: 62959\n",
      "[LightGBM] [Info] Auto-choosing col-wise multi-threading, the overhead of testing was 0.007362 seconds.\n",
      "You can set `force_col_wise=true` to remove the overhead.\n",
      "[LightGBM] [Info] Total Bins 3558\n",
      "[LightGBM] [Info] Number of data points in the train set: 81411, number of used features: 21\n",
      "[LightGBM] [Info] [binary:BoostFromScore]: pavg=0.226652 -> initscore=-1.227311\n",
      "[LightGBM] [Info] Start training from score -1.227311\n",
      "[LightGBM] [Info] Number of positive: 18451, number of negative: 62960\n",
      "[LightGBM] [Info] Auto-choosing col-wise multi-threading, the overhead of testing was 0.008222 seconds.\n",
      "You can set `force_col_wise=true` to remove the overhead.\n",
      "[LightGBM] [Info] Total Bins 3552\n",
      "[LightGBM] [Info] Number of data points in the train set: 81411, number of used features: 21\n",
      "[LightGBM] [Info] [binary:BoostFromScore]: pavg=0.226640 -> initscore=-1.227381\n",
      "[LightGBM] [Info] Start training from score -1.227381\n"
     ]
    },
    {
     "name": "stderr",
     "output_type": "stream",
     "text": [
      "[I 2023-10-12 16:32:39,431] Trial 1 finished with value: 0.7914452930391892 and parameters: {'num_leaves': 8, 'learning_rate': 0.03341249736704836, 'n_estimators': 163}. Best is trial 0 with value: 0.7918478491127541.\n"
     ]
    },
    {
     "name": "stdout",
     "output_type": "stream",
     "text": [
      "[LightGBM] [Info] Number of positive: 18451, number of negative: 62959\n",
      "[LightGBM] [Info] Auto-choosing col-wise multi-threading, the overhead of testing was 0.007342 seconds.\n",
      "You can set `force_col_wise=true` to remove the overhead.\n",
      "[LightGBM] [Info] Total Bins 3547\n",
      "[LightGBM] [Info] Number of data points in the train set: 81410, number of used features: 21\n",
      "[LightGBM] [Info] [binary:BoostFromScore]: pavg=0.226643 -> initscore=-1.227365\n",
      "[LightGBM] [Info] Start training from score -1.227365\n",
      "[LightGBM] [Info] Number of positive: 18451, number of negative: 62959\n",
      "[LightGBM] [Info] Auto-choosing col-wise multi-threading, the overhead of testing was 0.007989 seconds.\n",
      "You can set `force_col_wise=true` to remove the overhead.\n",
      "[LightGBM] [Info] Total Bins 3546\n",
      "[LightGBM] [Info] Number of data points in the train set: 81410, number of used features: 21\n",
      "[LightGBM] [Info] [binary:BoostFromScore]: pavg=0.226643 -> initscore=-1.227365\n",
      "[LightGBM] [Info] Start training from score -1.227365\n",
      "[LightGBM] [Info] Number of positive: 18451, number of negative: 62959\n",
      "[LightGBM] [Info] Auto-choosing col-wise multi-threading, the overhead of testing was 0.007148 seconds.\n",
      "You can set `force_col_wise=true` to remove the overhead.\n",
      "[LightGBM] [Info] Total Bins 3551\n",
      "[LightGBM] [Info] Number of data points in the train set: 81410, number of used features: 21\n",
      "[LightGBM] [Info] [binary:BoostFromScore]: pavg=0.226643 -> initscore=-1.227365\n",
      "[LightGBM] [Info] Start training from score -1.227365\n",
      "[LightGBM] [Info] Number of positive: 18452, number of negative: 62959\n",
      "[LightGBM] [Info] Auto-choosing col-wise multi-threading, the overhead of testing was 0.008246 seconds.\n",
      "You can set `force_col_wise=true` to remove the overhead.\n",
      "[LightGBM] [Info] Total Bins 3558\n",
      "[LightGBM] [Info] Number of data points in the train set: 81411, number of used features: 21\n",
      "[LightGBM] [Info] [binary:BoostFromScore]: pavg=0.226652 -> initscore=-1.227311\n",
      "[LightGBM] [Info] Start training from score -1.227311\n",
      "[LightGBM] [Info] Number of positive: 18451, number of negative: 62960\n",
      "[LightGBM] [Info] Auto-choosing col-wise multi-threading, the overhead of testing was 0.007235 seconds.\n",
      "You can set `force_col_wise=true` to remove the overhead.\n",
      "[LightGBM] [Info] Total Bins 3552\n",
      "[LightGBM] [Info] Number of data points in the train set: 81411, number of used features: 21\n",
      "[LightGBM] [Info] [binary:BoostFromScore]: pavg=0.226640 -> initscore=-1.227381\n",
      "[LightGBM] [Info] Start training from score -1.227381\n"
     ]
    },
    {
     "name": "stderr",
     "output_type": "stream",
     "text": [
      "[I 2023-10-12 16:32:42,786] Trial 2 finished with value: 0.7920704681091975 and parameters: {'num_leaves': 4, 'learning_rate': 0.16467547044594108, 'n_estimators': 230}. Best is trial 2 with value: 0.7920704681091975.\n"
     ]
    },
    {
     "name": "stdout",
     "output_type": "stream",
     "text": [
      "[LightGBM] [Info] Number of positive: 18451, number of negative: 62959\n",
      "[LightGBM] [Info] Auto-choosing col-wise multi-threading, the overhead of testing was 0.008151 seconds.\n",
      "You can set `force_col_wise=true` to remove the overhead.\n",
      "[LightGBM] [Info] Total Bins 3547\n",
      "[LightGBM] [Info] Number of data points in the train set: 81410, number of used features: 21\n",
      "[LightGBM] [Info] [binary:BoostFromScore]: pavg=0.226643 -> initscore=-1.227365\n",
      "[LightGBM] [Info] Start training from score -1.227365\n",
      "[LightGBM] [Info] Number of positive: 18451, number of negative: 62959\n",
      "[LightGBM] [Info] Auto-choosing col-wise multi-threading, the overhead of testing was 0.006086 seconds.\n",
      "You can set `force_col_wise=true` to remove the overhead.\n",
      "[LightGBM] [Info] Total Bins 3546\n",
      "[LightGBM] [Info] Number of data points in the train set: 81410, number of used features: 21\n",
      "[LightGBM] [Info] [binary:BoostFromScore]: pavg=0.226643 -> initscore=-1.227365\n",
      "[LightGBM] [Info] Start training from score -1.227365\n",
      "[LightGBM] [Info] Number of positive: 18451, number of negative: 62959\n",
      "[LightGBM] [Info] Auto-choosing col-wise multi-threading, the overhead of testing was 0.007520 seconds.\n",
      "You can set `force_col_wise=true` to remove the overhead.\n",
      "[LightGBM] [Info] Total Bins 3551\n",
      "[LightGBM] [Info] Number of data points in the train set: 81410, number of used features: 21\n",
      "[LightGBM] [Info] [binary:BoostFromScore]: pavg=0.226643 -> initscore=-1.227365\n",
      "[LightGBM] [Info] Start training from score -1.227365\n",
      "[LightGBM] [Info] Number of positive: 18452, number of negative: 62959\n",
      "[LightGBM] [Info] Auto-choosing col-wise multi-threading, the overhead of testing was 0.007465 seconds.\n",
      "You can set `force_col_wise=true` to remove the overhead.\n",
      "[LightGBM] [Info] Total Bins 3558\n",
      "[LightGBM] [Info] Number of data points in the train set: 81411, number of used features: 21\n",
      "[LightGBM] [Info] [binary:BoostFromScore]: pavg=0.226652 -> initscore=-1.227311\n",
      "[LightGBM] [Info] Start training from score -1.227311\n",
      "[LightGBM] [Info] Number of positive: 18451, number of negative: 62960\n",
      "[LightGBM] [Info] Auto-choosing col-wise multi-threading, the overhead of testing was 0.007963 seconds.\n",
      "You can set `force_col_wise=true` to remove the overhead.\n",
      "[LightGBM] [Info] Total Bins 3552\n",
      "[LightGBM] [Info] Number of data points in the train set: 81411, number of used features: 21\n",
      "[LightGBM] [Info] [binary:BoostFromScore]: pavg=0.226640 -> initscore=-1.227381\n",
      "[LightGBM] [Info] Start training from score -1.227381\n"
     ]
    },
    {
     "name": "stderr",
     "output_type": "stream",
     "text": [
      "[I 2023-10-12 16:32:47,096] Trial 3 finished with value: 0.7919330793903555 and parameters: {'num_leaves': 8, 'learning_rate': 0.07964593373183428, 'n_estimators': 263}. Best is trial 2 with value: 0.7920704681091975.\n"
     ]
    },
    {
     "name": "stdout",
     "output_type": "stream",
     "text": [
      "[LightGBM] [Info] Number of positive: 18451, number of negative: 62959\n",
      "[LightGBM] [Info] Auto-choosing col-wise multi-threading, the overhead of testing was 0.008030 seconds.\n",
      "You can set `force_col_wise=true` to remove the overhead.\n",
      "[LightGBM] [Info] Total Bins 3547\n",
      "[LightGBM] [Info] Number of data points in the train set: 81410, number of used features: 21\n",
      "[LightGBM] [Info] [binary:BoostFromScore]: pavg=0.226643 -> initscore=-1.227365\n",
      "[LightGBM] [Info] Start training from score -1.227365\n",
      "[LightGBM] [Info] Number of positive: 18451, number of negative: 62959\n",
      "[LightGBM] [Info] Auto-choosing col-wise multi-threading, the overhead of testing was 0.008231 seconds.\n",
      "You can set `force_col_wise=true` to remove the overhead.\n",
      "[LightGBM] [Info] Total Bins 3546\n",
      "[LightGBM] [Info] Number of data points in the train set: 81410, number of used features: 21\n",
      "[LightGBM] [Info] [binary:BoostFromScore]: pavg=0.226643 -> initscore=-1.227365\n",
      "[LightGBM] [Info] Start training from score -1.227365\n",
      "[LightGBM] [Info] Number of positive: 18451, number of negative: 62959\n",
      "[LightGBM] [Info] Auto-choosing col-wise multi-threading, the overhead of testing was 0.007227 seconds.\n",
      "You can set `force_col_wise=true` to remove the overhead.\n",
      "[LightGBM] [Info] Total Bins 3551\n",
      "[LightGBM] [Info] Number of data points in the train set: 81410, number of used features: 21\n",
      "[LightGBM] [Info] [binary:BoostFromScore]: pavg=0.226643 -> initscore=-1.227365\n",
      "[LightGBM] [Info] Start training from score -1.227365\n",
      "[LightGBM] [Info] Number of positive: 18452, number of negative: 62959\n",
      "[LightGBM] [Info] Auto-choosing col-wise multi-threading, the overhead of testing was 0.007283 seconds.\n",
      "You can set `force_col_wise=true` to remove the overhead.\n",
      "[LightGBM] [Info] Total Bins 3558\n",
      "[LightGBM] [Info] Number of data points in the train set: 81411, number of used features: 21\n",
      "[LightGBM] [Info] [binary:BoostFromScore]: pavg=0.226652 -> initscore=-1.227311\n",
      "[LightGBM] [Info] Start training from score -1.227311\n",
      "[LightGBM] [Info] Number of positive: 18451, number of negative: 62960\n",
      "[LightGBM] [Info] Auto-choosing col-wise multi-threading, the overhead of testing was 0.008130 seconds.\n",
      "You can set `force_col_wise=true` to remove the overhead.\n",
      "[LightGBM] [Info] Total Bins 3552\n",
      "[LightGBM] [Info] Number of data points in the train set: 81411, number of used features: 21\n",
      "[LightGBM] [Info] [binary:BoostFromScore]: pavg=0.226640 -> initscore=-1.227381\n",
      "[LightGBM] [Info] Start training from score -1.227381\n"
     ]
    },
    {
     "name": "stderr",
     "output_type": "stream",
     "text": [
      "[I 2023-10-12 16:32:49,866] Trial 4 finished with value: 0.7894298681847436 and parameters: {'num_leaves': 8, 'learning_rate': 0.2977126105299686, 'n_estimators': 170}. Best is trial 2 with value: 0.7920704681091975.\n"
     ]
    },
    {
     "name": "stdout",
     "output_type": "stream",
     "text": [
      "[LightGBM] [Info] Number of positive: 18451, number of negative: 62959\n",
      "[LightGBM] [Info] Auto-choosing col-wise multi-threading, the overhead of testing was 0.008009 seconds.\n",
      "You can set `force_col_wise=true` to remove the overhead.\n",
      "[LightGBM] [Info] Total Bins 3547\n",
      "[LightGBM] [Info] Number of data points in the train set: 81410, number of used features: 21\n",
      "[LightGBM] [Info] [binary:BoostFromScore]: pavg=0.226643 -> initscore=-1.227365\n",
      "[LightGBM] [Info] Start training from score -1.227365\n",
      "[LightGBM] [Info] Number of positive: 18451, number of negative: 62959\n",
      "[LightGBM] [Info] Auto-choosing col-wise multi-threading, the overhead of testing was 0.008099 seconds.\n",
      "You can set `force_col_wise=true` to remove the overhead.\n",
      "[LightGBM] [Info] Total Bins 3546\n",
      "[LightGBM] [Info] Number of data points in the train set: 81410, number of used features: 21\n",
      "[LightGBM] [Info] [binary:BoostFromScore]: pavg=0.226643 -> initscore=-1.227365\n",
      "[LightGBM] [Info] Start training from score -1.227365\n",
      "[LightGBM] [Info] Number of positive: 18451, number of negative: 62959\n",
      "[LightGBM] [Info] Auto-choosing col-wise multi-threading, the overhead of testing was 0.008437 seconds.\n",
      "You can set `force_col_wise=true` to remove the overhead.\n",
      "[LightGBM] [Info] Total Bins 3551\n",
      "[LightGBM] [Info] Number of data points in the train set: 81410, number of used features: 21\n",
      "[LightGBM] [Info] [binary:BoostFromScore]: pavg=0.226643 -> initscore=-1.227365\n",
      "[LightGBM] [Info] Start training from score -1.227365\n",
      "[LightGBM] [Info] Number of positive: 18452, number of negative: 62959\n",
      "[LightGBM] [Info] Auto-choosing col-wise multi-threading, the overhead of testing was 0.007286 seconds.\n",
      "You can set `force_col_wise=true` to remove the overhead.\n",
      "[LightGBM] [Info] Total Bins 3558\n",
      "[LightGBM] [Info] Number of data points in the train set: 81411, number of used features: 21\n",
      "[LightGBM] [Info] [binary:BoostFromScore]: pavg=0.226652 -> initscore=-1.227311\n",
      "[LightGBM] [Info] Start training from score -1.227311\n",
      "[LightGBM] [Info] Number of positive: 18451, number of negative: 62960\n",
      "[LightGBM] [Info] Auto-choosing col-wise multi-threading, the overhead of testing was 0.007650 seconds.\n",
      "You can set `force_col_wise=true` to remove the overhead.\n",
      "[LightGBM] [Info] Total Bins 3552\n",
      "[LightGBM] [Info] Number of data points in the train set: 81411, number of used features: 21\n",
      "[LightGBM] [Info] [binary:BoostFromScore]: pavg=0.226640 -> initscore=-1.227381\n",
      "[LightGBM] [Info] Start training from score -1.227381\n"
     ]
    },
    {
     "name": "stderr",
     "output_type": "stream",
     "text": [
      "[I 2023-10-12 16:32:52,044] Trial 5 finished with value: 0.7878659769034405 and parameters: {'num_leaves': 16, 'learning_rate': 0.2877510847364864, 'n_estimators': 101}. Best is trial 2 with value: 0.7920704681091975.\n"
     ]
    },
    {
     "name": "stdout",
     "output_type": "stream",
     "text": [
      "[LightGBM] [Info] Number of positive: 18451, number of negative: 62959\n",
      "[LightGBM] [Info] Auto-choosing col-wise multi-threading, the overhead of testing was 0.005806 seconds.\n",
      "You can set `force_col_wise=true` to remove the overhead.\n",
      "[LightGBM] [Info] Total Bins 3547\n",
      "[LightGBM] [Info] Number of data points in the train set: 81410, number of used features: 21\n",
      "[LightGBM] [Info] [binary:BoostFromScore]: pavg=0.226643 -> initscore=-1.227365\n",
      "[LightGBM] [Info] Start training from score -1.227365\n",
      "[LightGBM] [Info] Number of positive: 18451, number of negative: 62959\n",
      "[LightGBM] [Info] Auto-choosing col-wise multi-threading, the overhead of testing was 0.008342 seconds.\n",
      "You can set `force_col_wise=true` to remove the overhead.\n",
      "[LightGBM] [Info] Total Bins 3546\n",
      "[LightGBM] [Info] Number of data points in the train set: 81410, number of used features: 21\n",
      "[LightGBM] [Info] [binary:BoostFromScore]: pavg=0.226643 -> initscore=-1.227365\n",
      "[LightGBM] [Info] Start training from score -1.227365\n",
      "[LightGBM] [Info] Number of positive: 18451, number of negative: 62959\n",
      "[LightGBM] [Info] Auto-choosing col-wise multi-threading, the overhead of testing was 0.008777 seconds.\n",
      "You can set `force_col_wise=true` to remove the overhead.\n",
      "[LightGBM] [Info] Total Bins 3551\n",
      "[LightGBM] [Info] Number of data points in the train set: 81410, number of used features: 21\n",
      "[LightGBM] [Info] [binary:BoostFromScore]: pavg=0.226643 -> initscore=-1.227365\n",
      "[LightGBM] [Info] Start training from score -1.227365\n",
      "[LightGBM] [Info] Number of positive: 18452, number of negative: 62959\n",
      "[LightGBM] [Info] Auto-choosing col-wise multi-threading, the overhead of testing was 0.007445 seconds.\n",
      "You can set `force_col_wise=true` to remove the overhead.\n",
      "[LightGBM] [Info] Total Bins 3558\n",
      "[LightGBM] [Info] Number of data points in the train set: 81411, number of used features: 21\n",
      "[LightGBM] [Info] [binary:BoostFromScore]: pavg=0.226652 -> initscore=-1.227311\n",
      "[LightGBM] [Info] Start training from score -1.227311\n",
      "[LightGBM] [Info] Number of positive: 18451, number of negative: 62960\n",
      "[LightGBM] [Info] Auto-choosing col-wise multi-threading, the overhead of testing was 0.008163 seconds.\n",
      "You can set `force_col_wise=true` to remove the overhead.\n",
      "[LightGBM] [Info] Total Bins 3552\n",
      "[LightGBM] [Info] Number of data points in the train set: 81411, number of used features: 21\n",
      "[LightGBM] [Info] [binary:BoostFromScore]: pavg=0.226640 -> initscore=-1.227381\n",
      "[LightGBM] [Info] Start training from score -1.227381\n"
     ]
    },
    {
     "name": "stderr",
     "output_type": "stream",
     "text": [
      "[I 2023-10-12 16:32:56,354] Trial 6 finished with value: 0.7882089519702639 and parameters: {'num_leaves': 16, 'learning_rate': 0.1839539279711176, 'n_estimators': 238}. Best is trial 2 with value: 0.7920704681091975.\n"
     ]
    },
    {
     "name": "stdout",
     "output_type": "stream",
     "text": [
      "[LightGBM] [Info] Number of positive: 18451, number of negative: 62959\n",
      "[LightGBM] [Info] Auto-choosing col-wise multi-threading, the overhead of testing was 0.007930 seconds.\n",
      "You can set `force_col_wise=true` to remove the overhead.\n",
      "[LightGBM] [Info] Total Bins 3547\n",
      "[LightGBM] [Info] Number of data points in the train set: 81410, number of used features: 21\n",
      "[LightGBM] [Info] [binary:BoostFromScore]: pavg=0.226643 -> initscore=-1.227365\n",
      "[LightGBM] [Info] Start training from score -1.227365\n",
      "[LightGBM] [Info] Number of positive: 18451, number of negative: 62959\n",
      "[LightGBM] [Info] Auto-choosing col-wise multi-threading, the overhead of testing was 0.007952 seconds.\n",
      "You can set `force_col_wise=true` to remove the overhead.\n",
      "[LightGBM] [Info] Total Bins 3546\n",
      "[LightGBM] [Info] Number of data points in the train set: 81410, number of used features: 21\n",
      "[LightGBM] [Info] [binary:BoostFromScore]: pavg=0.226643 -> initscore=-1.227365\n",
      "[LightGBM] [Info] Start training from score -1.227365\n",
      "[LightGBM] [Info] Number of positive: 18451, number of negative: 62959\n",
      "[LightGBM] [Info] Auto-choosing col-wise multi-threading, the overhead of testing was 0.007933 seconds.\n",
      "You can set `force_col_wise=true` to remove the overhead.\n",
      "[LightGBM] [Info] Total Bins 3551\n",
      "[LightGBM] [Info] Number of data points in the train set: 81410, number of used features: 21\n",
      "[LightGBM] [Info] [binary:BoostFromScore]: pavg=0.226643 -> initscore=-1.227365\n",
      "[LightGBM] [Info] Start training from score -1.227365\n",
      "[LightGBM] [Info] Number of positive: 18452, number of negative: 62959\n",
      "[LightGBM] [Info] Auto-choosing col-wise multi-threading, the overhead of testing was 0.007311 seconds.\n",
      "You can set `force_col_wise=true` to remove the overhead.\n",
      "[LightGBM] [Info] Total Bins 3558\n",
      "[LightGBM] [Info] Number of data points in the train set: 81411, number of used features: 21\n",
      "[LightGBM] [Info] [binary:BoostFromScore]: pavg=0.226652 -> initscore=-1.227311\n",
      "[LightGBM] [Info] Start training from score -1.227311\n",
      "[LightGBM] [Info] Number of positive: 18451, number of negative: 62960\n",
      "[LightGBM] [Info] Auto-choosing col-wise multi-threading, the overhead of testing was 0.007950 seconds.\n",
      "You can set `force_col_wise=true` to remove the overhead.\n",
      "[LightGBM] [Info] Total Bins 3552\n",
      "[LightGBM] [Info] Number of data points in the train set: 81411, number of used features: 21\n",
      "[LightGBM] [Info] [binary:BoostFromScore]: pavg=0.226640 -> initscore=-1.227381\n",
      "[LightGBM] [Info] Start training from score -1.227381\n"
     ]
    },
    {
     "name": "stderr",
     "output_type": "stream",
     "text": [
      "[I 2023-10-12 16:33:00,012] Trial 7 finished with value: 0.7825087035642434 and parameters: {'num_leaves': 32, 'learning_rate': 0.2276756592004073, 'n_estimators': 181}. Best is trial 2 with value: 0.7920704681091975.\n"
     ]
    },
    {
     "name": "stdout",
     "output_type": "stream",
     "text": [
      "[LightGBM] [Info] Number of positive: 18451, number of negative: 62959\n",
      "[LightGBM] [Info] Auto-choosing col-wise multi-threading, the overhead of testing was 0.007127 seconds.\n",
      "You can set `force_col_wise=true` to remove the overhead.\n",
      "[LightGBM] [Info] Total Bins 3547\n",
      "[LightGBM] [Info] Number of data points in the train set: 81410, number of used features: 21\n",
      "[LightGBM] [Info] [binary:BoostFromScore]: pavg=0.226643 -> initscore=-1.227365\n",
      "[LightGBM] [Info] Start training from score -1.227365\n",
      "[LightGBM] [Info] Number of positive: 18451, number of negative: 62959\n",
      "[LightGBM] [Info] Auto-choosing col-wise multi-threading, the overhead of testing was 0.007597 seconds.\n",
      "You can set `force_col_wise=true` to remove the overhead.\n",
      "[LightGBM] [Info] Total Bins 3546\n",
      "[LightGBM] [Info] Number of data points in the train set: 81410, number of used features: 21\n",
      "[LightGBM] [Info] [binary:BoostFromScore]: pavg=0.226643 -> initscore=-1.227365\n",
      "[LightGBM] [Info] Start training from score -1.227365\n",
      "[LightGBM] [Info] Number of positive: 18451, number of negative: 62959\n",
      "[LightGBM] [Info] Auto-choosing col-wise multi-threading, the overhead of testing was 0.007155 seconds.\n",
      "You can set `force_col_wise=true` to remove the overhead.\n",
      "[LightGBM] [Info] Total Bins 3551\n",
      "[LightGBM] [Info] Number of data points in the train set: 81410, number of used features: 21\n",
      "[LightGBM] [Info] [binary:BoostFromScore]: pavg=0.226643 -> initscore=-1.227365\n",
      "[LightGBM] [Info] Start training from score -1.227365\n",
      "[LightGBM] [Info] Number of positive: 18452, number of negative: 62959\n",
      "[LightGBM] [Info] Auto-choosing col-wise multi-threading, the overhead of testing was 0.008056 seconds.\n",
      "You can set `force_col_wise=true` to remove the overhead.\n",
      "[LightGBM] [Info] Total Bins 3558\n",
      "[LightGBM] [Info] Number of data points in the train set: 81411, number of used features: 21\n",
      "[LightGBM] [Info] [binary:BoostFromScore]: pavg=0.226652 -> initscore=-1.227311\n",
      "[LightGBM] [Info] Start training from score -1.227311\n",
      "[LightGBM] [Info] Number of positive: 18451, number of negative: 62960\n",
      "[LightGBM] [Info] Auto-choosing col-wise multi-threading, the overhead of testing was 0.008088 seconds.\n",
      "You can set `force_col_wise=true` to remove the overhead.\n",
      "[LightGBM] [Info] Total Bins 3552\n",
      "[LightGBM] [Info] Number of data points in the train set: 81411, number of used features: 21\n",
      "[LightGBM] [Info] [binary:BoostFromScore]: pavg=0.226640 -> initscore=-1.227381\n",
      "[LightGBM] [Info] Start training from score -1.227381\n"
     ]
    },
    {
     "name": "stderr",
     "output_type": "stream",
     "text": [
      "[I 2023-10-12 16:33:02,935] Trial 8 finished with value: 0.7916755136639329 and parameters: {'num_leaves': 16, 'learning_rate': 0.1017570337940963, 'n_estimators': 130}. Best is trial 2 with value: 0.7920704681091975.\n"
     ]
    },
    {
     "name": "stdout",
     "output_type": "stream",
     "text": [
      "[LightGBM] [Info] Number of positive: 18451, number of negative: 62959\n",
      "[LightGBM] [Info] Auto-choosing col-wise multi-threading, the overhead of testing was 0.007877 seconds.\n",
      "You can set `force_col_wise=true` to remove the overhead.\n",
      "[LightGBM] [Info] Total Bins 3547\n",
      "[LightGBM] [Info] Number of data points in the train set: 81410, number of used features: 21\n",
      "[LightGBM] [Info] [binary:BoostFromScore]: pavg=0.226643 -> initscore=-1.227365\n",
      "[LightGBM] [Info] Start training from score -1.227365\n",
      "[LightGBM] [Info] Number of positive: 18451, number of negative: 62959\n",
      "[LightGBM] [Info] Auto-choosing col-wise multi-threading, the overhead of testing was 0.007532 seconds.\n",
      "You can set `force_col_wise=true` to remove the overhead.\n",
      "[LightGBM] [Info] Total Bins 3546\n",
      "[LightGBM] [Info] Number of data points in the train set: 81410, number of used features: 21\n",
      "[LightGBM] [Info] [binary:BoostFromScore]: pavg=0.226643 -> initscore=-1.227365\n",
      "[LightGBM] [Info] Start training from score -1.227365\n",
      "[LightGBM] [Info] Number of positive: 18451, number of negative: 62959\n",
      "[LightGBM] [Info] Auto-choosing col-wise multi-threading, the overhead of testing was 0.006023 seconds.\n",
      "You can set `force_col_wise=true` to remove the overhead.\n",
      "[LightGBM] [Info] Total Bins 3551\n",
      "[LightGBM] [Info] Number of data points in the train set: 81410, number of used features: 21\n",
      "[LightGBM] [Info] [binary:BoostFromScore]: pavg=0.226643 -> initscore=-1.227365\n",
      "[LightGBM] [Info] Start training from score -1.227365\n",
      "[LightGBM] [Info] Number of positive: 18452, number of negative: 62959\n",
      "[LightGBM] [Info] Auto-choosing col-wise multi-threading, the overhead of testing was 0.008101 seconds.\n",
      "You can set `force_col_wise=true` to remove the overhead.\n",
      "[LightGBM] [Info] Total Bins 3558\n",
      "[LightGBM] [Info] Number of data points in the train set: 81411, number of used features: 21\n",
      "[LightGBM] [Info] [binary:BoostFromScore]: pavg=0.226652 -> initscore=-1.227311\n",
      "[LightGBM] [Info] Start training from score -1.227311\n",
      "[LightGBM] [Info] Number of positive: 18451, number of negative: 62960\n",
      "[LightGBM] [Info] Auto-choosing col-wise multi-threading, the overhead of testing was 0.007428 seconds.\n",
      "You can set `force_col_wise=true` to remove the overhead.\n",
      "[LightGBM] [Info] Total Bins 3552\n",
      "[LightGBM] [Info] Number of data points in the train set: 81411, number of used features: 21\n",
      "[LightGBM] [Info] [binary:BoostFromScore]: pavg=0.226640 -> initscore=-1.227381\n",
      "[LightGBM] [Info] Start training from score -1.227381\n"
     ]
    },
    {
     "name": "stderr",
     "output_type": "stream",
     "text": [
      "[I 2023-10-12 16:33:05,689] Trial 9 finished with value: 0.7914477570950289 and parameters: {'num_leaves': 4, 'learning_rate': 0.07783368622938219, 'n_estimators': 175}. Best is trial 2 with value: 0.7920704681091975.\n"
     ]
    }
   ],
   "source": [
    "study = optuna.create_study(direction=\"maximize\")\n",
    "study.optimize(optimizer, n_trials=10)"
   ]
  },
  {
   "cell_type": "markdown",
   "id": "ca853096",
   "metadata": {
    "id": "ca853096"
   },
   "source": []
  },
  {
   "cell_type": "code",
   "execution_count": null,
   "id": "61bc3d8f",
   "metadata": {
    "id": "61bc3d8f",
    "outputId": "4cfe54be-c262-4b0f-f142-f665afedd66f"
   },
   "outputs": [
    {
     "name": "stdout",
     "output_type": "stream",
     "text": [
      "Best roc_auc_score: 0.7921\n",
      "Best params:  {'num_leaves': 4, 'learning_rate': 0.16467547044594108, 'n_estimators': 230}\n"
     ]
    }
   ],
   "source": [
    "print(\"Best roc_auc_score: %.4f\" % study.best_value)\n",
    "print(\"Best params: \", study.best_trial.params) # best score일 때의 하이퍼파라미터들"
   ]
  },
  {
   "cell_type": "markdown",
   "id": "97702dfe",
   "metadata": {
    "id": "97702dfe"
   },
   "source": [
    "##### best model"
   ]
  },
  {
   "cell_type": "code",
   "execution_count": null,
   "id": "5b4dca65",
   "metadata": {
    "id": "5b4dca65",
    "outputId": "7bae899f-fd89-4de9-befd-0e1b6a47e6eb"
   },
   "outputs": [
    {
     "name": "stdout",
     "output_type": "stream",
     "text": [
      "[LightGBM] [Info] Number of positive: 23064, number of negative: 78699\n",
      "[LightGBM] [Info] Auto-choosing col-wise multi-threading, the overhead of testing was 0.008714 seconds.\n",
      "You can set `force_col_wise=true` to remove the overhead.\n",
      "[LightGBM] [Info] Total Bins 3585\n",
      "[LightGBM] [Info] Number of data points in the train set: 101763, number of used features: 21\n",
      "[LightGBM] [Info] [binary:BoostFromScore]: pavg=0.226644 -> initscore=-1.227357\n",
      "[LightGBM] [Info] Start training from score -1.227357\n"
     ]
    },
    {
     "data": {
      "text/plain": [
       "LGBMClassifier(learning_rate=0.16467547044594108, n_estimators=230,\n",
       "               num_leaves=4, random_state=61)"
      ]
     },
     "execution_count": 8,
     "metadata": {},
     "output_type": "execute_result"
    }
   ],
   "source": [
    "lgbm_best = LGBMClassifier(**study.best_trial.params,\n",
    "                           random_state=61)\n",
    "lgbm_best.fit(X, y)"
   ]
  },
  {
   "cell_type": "code",
   "execution_count": null,
   "id": "dc276719",
   "metadata": {
    "id": "dc276719",
    "outputId": "503ccc9a-8682-4556-87b7-9b0843bebb49"
   },
   "outputs": [
    {
     "data": {
      "text/plain": [
       "array([0.24763181, 0.19089683, 0.67823088, ..., 0.17399854, 0.10006992,\n",
       "       0.77278434])"
      ]
     },
     "execution_count": 9,
     "metadata": {},
     "output_type": "execute_result"
    }
   ],
   "source": [
    "y_proba_lgbm = lgbm_best.predict_proba(X_test)[:, 1]\n",
    "y_proba_lgbm"
   ]
  },
  {
   "cell_type": "markdown",
   "id": "5cf4cfe8",
   "metadata": {
    "id": "5cf4cfe8"
   },
   "source": [
    "# 제출"
   ]
  },
  {
   "cell_type": "code",
   "execution_count": null,
   "id": "8301cdb3",
   "metadata": {
    "id": "8301cdb3",
    "outputId": "3ec19ca0-ead2-426c-a137-635582ed2cdc",
    "scrolled": false
   },
   "outputs": [
    {
     "data": {
      "text/html": [
       "<div>\n",
       "<style scoped>\n",
       "    .dataframe tbody tr th:only-of-type {\n",
       "        vertical-align: middle;\n",
       "    }\n",
       "\n",
       "    .dataframe tbody tr th {\n",
       "        vertical-align: top;\n",
       "    }\n",
       "\n",
       "    .dataframe thead th {\n",
       "        text-align: right;\n",
       "    }\n",
       "</style>\n",
       "<table border=\"1\" class=\"dataframe\">\n",
       "  <thead>\n",
       "    <tr style=\"text-align: right;\">\n",
       "      <th></th>\n",
       "      <th>defects</th>\n",
       "    </tr>\n",
       "    <tr>\n",
       "      <th>id</th>\n",
       "      <th></th>\n",
       "    </tr>\n",
       "  </thead>\n",
       "  <tbody>\n",
       "    <tr>\n",
       "      <th>101763</th>\n",
       "      <td>0.247632</td>\n",
       "    </tr>\n",
       "    <tr>\n",
       "      <th>101764</th>\n",
       "      <td>0.190897</td>\n",
       "    </tr>\n",
       "    <tr>\n",
       "      <th>101765</th>\n",
       "      <td>0.678231</td>\n",
       "    </tr>\n",
       "    <tr>\n",
       "      <th>101766</th>\n",
       "      <td>0.473671</td>\n",
       "    </tr>\n",
       "    <tr>\n",
       "      <th>101767</th>\n",
       "      <td>0.137227</td>\n",
       "    </tr>\n",
       "    <tr>\n",
       "      <th>...</th>\n",
       "      <td>...</td>\n",
       "    </tr>\n",
       "    <tr>\n",
       "      <th>169600</th>\n",
       "      <td>0.288798</td>\n",
       "    </tr>\n",
       "    <tr>\n",
       "      <th>169601</th>\n",
       "      <td>0.113389</td>\n",
       "    </tr>\n",
       "    <tr>\n",
       "      <th>169602</th>\n",
       "      <td>0.173999</td>\n",
       "    </tr>\n",
       "    <tr>\n",
       "      <th>169603</th>\n",
       "      <td>0.100070</td>\n",
       "    </tr>\n",
       "    <tr>\n",
       "      <th>169604</th>\n",
       "      <td>0.772784</td>\n",
       "    </tr>\n",
       "  </tbody>\n",
       "</table>\n",
       "<p>67842 rows × 1 columns</p>\n",
       "</div>"
      ],
      "text/plain": [
       "         defects\n",
       "id              \n",
       "101763  0.247632\n",
       "101764  0.190897\n",
       "101765  0.678231\n",
       "101766  0.473671\n",
       "101767  0.137227\n",
       "...          ...\n",
       "169600  0.288798\n",
       "169601  0.113389\n",
       "169602  0.173999\n",
       "169603  0.100070\n",
       "169604  0.772784\n",
       "\n",
       "[67842 rows x 1 columns]"
      ]
     },
     "execution_count": 10,
     "metadata": {},
     "output_type": "execute_result"
    }
   ],
   "source": [
    "submission_df['defects'] = y_proba_lgbm\n",
    "submission_df.to_csv(base_path + 'submission.csv')\n",
    "submission_df"
   ]
  },
  {
   "cell_type": "markdown",
   "id": "d091df9a",
   "metadata": {
    "id": "d091df9a"
   },
   "source": [
    "### 확인"
   ]
  },
  {
   "cell_type": "code",
   "execution_count": null,
   "id": "5b1e84e1",
   "metadata": {
    "id": "5b1e84e1",
    "outputId": "d72d7de4-5f79-4772-c8f7-0e3848d7a223"
   },
   "outputs": [
    {
     "data": {
      "text/html": [
       "<div>\n",
       "<style scoped>\n",
       "    .dataframe tbody tr th:only-of-type {\n",
       "        vertical-align: middle;\n",
       "    }\n",
       "\n",
       "    .dataframe tbody tr th {\n",
       "        vertical-align: top;\n",
       "    }\n",
       "\n",
       "    .dataframe thead th {\n",
       "        text-align: right;\n",
       "    }\n",
       "</style>\n",
       "<table border=\"1\" class=\"dataframe\">\n",
       "  <thead>\n",
       "    <tr style=\"text-align: right;\">\n",
       "      <th></th>\n",
       "      <th>defects</th>\n",
       "    </tr>\n",
       "    <tr>\n",
       "      <th>id</th>\n",
       "      <th></th>\n",
       "    </tr>\n",
       "  </thead>\n",
       "  <tbody>\n",
       "    <tr>\n",
       "      <th>101763</th>\n",
       "      <td>0.247632</td>\n",
       "    </tr>\n",
       "    <tr>\n",
       "      <th>101764</th>\n",
       "      <td>0.190897</td>\n",
       "    </tr>\n",
       "    <tr>\n",
       "      <th>101765</th>\n",
       "      <td>0.678231</td>\n",
       "    </tr>\n",
       "    <tr>\n",
       "      <th>101766</th>\n",
       "      <td>0.473671</td>\n",
       "    </tr>\n",
       "    <tr>\n",
       "      <th>101767</th>\n",
       "      <td>0.137227</td>\n",
       "    </tr>\n",
       "    <tr>\n",
       "      <th>...</th>\n",
       "      <td>...</td>\n",
       "    </tr>\n",
       "    <tr>\n",
       "      <th>169600</th>\n",
       "      <td>0.288798</td>\n",
       "    </tr>\n",
       "    <tr>\n",
       "      <th>169601</th>\n",
       "      <td>0.113389</td>\n",
       "    </tr>\n",
       "    <tr>\n",
       "      <th>169602</th>\n",
       "      <td>0.173999</td>\n",
       "    </tr>\n",
       "    <tr>\n",
       "      <th>169603</th>\n",
       "      <td>0.100070</td>\n",
       "    </tr>\n",
       "    <tr>\n",
       "      <th>169604</th>\n",
       "      <td>0.772784</td>\n",
       "    </tr>\n",
       "  </tbody>\n",
       "</table>\n",
       "<p>67842 rows × 1 columns</p>\n",
       "</div>"
      ],
      "text/plain": [
       "         defects\n",
       "id              \n",
       "101763  0.247632\n",
       "101764  0.190897\n",
       "101765  0.678231\n",
       "101766  0.473671\n",
       "101767  0.137227\n",
       "...          ...\n",
       "169600  0.288798\n",
       "169601  0.113389\n",
       "169602  0.173999\n",
       "169603  0.100070\n",
       "169604  0.772784\n",
       "\n",
       "[67842 rows x 1 columns]"
      ]
     },
     "execution_count": 11,
     "metadata": {},
     "output_type": "execute_result"
    }
   ],
   "source": [
    "pd.read_csv(base_path + 'submission.csv', index_col='id')"
   ]
  },
  {
   "cell_type": "code",
   "execution_count": null,
   "id": "4fe5e053",
   "metadata": {
    "id": "4fe5e053"
   },
   "outputs": [],
   "source": []
  }
 ],
 "metadata": {
  "colab": {
   "provenance": []
  },
  "kernelspec": {
   "display_name": "Python 3 (ipykernel)",
   "language": "python",
   "name": "python3"
  },
  "language_info": {
   "codemirror_mode": {
    "name": "ipython",
    "version": 3
   },
   "file_extension": ".py",
   "mimetype": "text/x-python",
   "name": "python",
   "nbconvert_exporter": "python",
   "pygments_lexer": "ipython3",
   "version": "3.9.7"
  }
 },
 "nbformat": 4,
 "nbformat_minor": 5
}
