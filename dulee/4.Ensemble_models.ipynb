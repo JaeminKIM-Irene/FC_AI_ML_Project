{
 "cells": [
  {
   "cell_type": "code",
   "execution_count": 1,
   "id": "0b615be4",
   "metadata": {
    "id": "0b615be4"
   },
   "outputs": [],
   "source": [
    "import pandas as pd\n",
    "import numpy as np\n",
    "\n",
    "from sklearn.model_selection import StratifiedKFold\n",
    "from sklearn.metrics import roc_auc_score\n",
    "from sklearn.ensemble import RandomForestClassifier, ExtraTreesClassifier\n",
    "from sklearn.ensemble import VotingClassifier\n",
    "from lightgbm import LGBMClassifier\n",
    "\n",
    "import pickle"
   ]
  },
  {
   "cell_type": "markdown",
   "id": "c42c4f1b",
   "metadata": {
    "id": "c42c4f1b"
   },
   "source": [
    "# 데이터 로드"
   ]
  },
  {
   "cell_type": "code",
   "execution_count": 2,
   "id": "705cc889",
   "metadata": {
    "colab": {
     "base_uri": "https://localhost:8080/"
    },
    "executionInfo": {
     "elapsed": 15490,
     "status": "ok",
     "timestamp": 1697451007209,
     "user": {
      "displayName": "DongWook Lee",
      "userId": "05076389224694363980"
     },
     "user_tz": -540
    },
    "id": "705cc889",
    "outputId": "1eb19061-abd1-46b0-8d07-2ac7f21d855c"
   },
   "outputs": [],
   "source": [
    "import os\n",
    "\n",
    "colab = os.path.isdir('./sample_data')\n",
    "mount = os.path.isdir('/content/drive')\n",
    "if colab:\n",
    "    if not mount:\n",
    "        from google.colab import drive\n",
    "        drive.mount('/content/drive')\n",
    "    base_path = '/content/drive/MyDrive/Colab Notebooks/5_ML_Project/dulee/'\n",
    "    data_path = '/content/drive/MyDrive/Colab Notebooks/5_ML_Project/data/'\n",
    "else:\n",
    "    base_path = ''\n",
    "    data_path = '../data/'"
   ]
  },
  {
   "cell_type": "code",
   "execution_count": 3,
   "id": "a84a299c",
   "metadata": {
    "id": "a84a299c"
   },
   "outputs": [],
   "source": [
    "submission_df = pd.read_csv(data_path+'sample_submission.csv', index_col='id')\n",
    "\n",
    "train = pd.read_csv(base_path + 'train.csv', index_col='id')\n",
    "test = pd.read_csv(base_path + 'test.csv', index_col='id')"
   ]
  },
  {
   "cell_type": "markdown",
   "id": "c709ca3d",
   "metadata": {
    "id": "c709ca3d"
   },
   "source": [
    "##### 변수 설정"
   ]
  },
  {
   "cell_type": "code",
   "execution_count": 4,
   "id": "934d218a",
   "metadata": {
    "id": "934d218a"
   },
   "outputs": [],
   "source": [
    "X = train.drop(columns=['defects'])\n",
    "y = train['defects']\n",
    "X_test = test\n",
    "\n",
    "K = 15"
   ]
  },
  {
   "cell_type": "code",
   "execution_count": 5,
   "id": "20dc36d8",
   "metadata": {
    "colab": {
     "base_uri": "https://localhost:8080/",
     "height": 92
    },
    "executionInfo": {
     "elapsed": 1208,
     "status": "ok",
     "timestamp": 1697451270503,
     "user": {
      "displayName": "DongWook Lee",
      "userId": "05076389224694363980"
     },
     "user_tz": -540
    },
    "id": "20dc36d8",
    "outputId": "b1d4c77d-ad4c-4052-b0f1-0a05be7ef301"
   },
   "outputs": [
    {
     "data": {
      "text/plain": [
       "RandomForestClassifier(max_depth=9, max_features=0.68758604791617,\n",
       "                       min_samples_leaf=141, random_state=61)"
      ]
     },
     "execution_count": 5,
     "metadata": {},
     "output_type": "execute_result"
    }
   ],
   "source": [
    "rf = RandomForestClassifier(\n",
    "    min_samples_leaf=141,\n",
    "    max_depth=9,\n",
    "    max_features=0.68758604791617,\n",
    "    random_state=61,\n",
    ")\n",
    "# rf = pickle.load(open(base_path + \"rf_best_1.pickle\", \"rb\"))\n",
    "rf"
   ]
  },
  {
   "cell_type": "code",
   "execution_count": 6,
   "id": "4a4ed6cd",
   "metadata": {
    "colab": {
     "base_uri": "https://localhost:8080/",
     "height": 240
    },
    "executionInfo": {
     "elapsed": 2729,
     "status": "ok",
     "timestamp": 1697451273227,
     "user": {
      "displayName": "DongWook Lee",
      "userId": "05076389224694363980"
     },
     "user_tz": -540
    },
    "id": "4a4ed6cd",
    "outputId": "19d577ee-da20-4442-a0d6-c3f1b69d38f3"
   },
   "outputs": [
    {
     "data": {
      "text/plain": [
       "ExtraTreesClassifier(max_depth=16, max_features=0.7994174320161516,\n",
       "                     min_samples_split=26, n_estimators=700, random_state=61)"
      ]
     },
     "execution_count": 6,
     "metadata": {},
     "output_type": "execute_result"
    }
   ],
   "source": [
    "# et = ExtraTreesClassifier(\n",
    "#     n_estimators=700,\n",
    "#     min_samples_leaf=2,\n",
    "#     max_depth=16,\n",
    "#     max_features=0.793614074795712,\n",
    "#     min_samples_split=48,\n",
    "#     random_state=61,\n",
    "# )\n",
    "et = pickle.load(open(base_path + \"et_best_1.pickle\", \"rb\"))\n",
    "et"
   ]
  },
  {
   "cell_type": "code",
   "execution_count": 7,
   "id": "9bcc39c7",
   "metadata": {
    "colab": {
     "base_uri": "https://localhost:8080/",
     "height": 109
    },
    "executionInfo": {
     "elapsed": 9,
     "status": "ok",
     "timestamp": 1697451273227,
     "user": {
      "displayName": "DongWook Lee",
      "userId": "05076389224694363980"
     },
     "user_tz": -540
    },
    "id": "9bcc39c7",
    "outputId": "2bba835b-8741-47f8-bbe2-770be2016d8c"
   },
   "outputs": [
    {
     "data": {
      "text/plain": [
       "LGBMClassifier(colsample_bytree=0.5878524120000573, force_row_wise=True,\n",
       "               learning_rate=0.0891461451200261, min_child_samples=90,\n",
       "               n_estimators=648, n_jobs=-1, random_state=61)"
      ]
     },
     "execution_count": 7,
     "metadata": {},
     "output_type": "execute_result"
    }
   ],
   "source": [
    "# lgbm = LGBMClassifier(\n",
    "#     num_leaves=4,\n",
    "#     learning_rate=0.16467547044594108,\n",
    "#     n_estimators=230,\n",
    "#     random_state=61,\n",
    "#     force_col_wise=True,\n",
    "# )\n",
    "lgbm = pickle.load(open(base_path + \"lgbm_best_1.pickle\", \"rb\"))\n",
    "lgbm"
   ]
  },
  {
   "cell_type": "code",
   "execution_count": 8,
   "id": "a66306ec",
   "metadata": {
    "id": "a66306ec"
   },
   "outputs": [],
   "source": [
    "ensemble = VotingClassifier(\n",
    "    [('rf', rf), ('et',et), ('lgbm', lgbm)],\n",
    "    voting='soft',\n",
    "    weights = [0.3, 0.3, 0.4],\n",
    ")"
   ]
  },
  {
   "cell_type": "code",
   "execution_count": 9,
   "id": "a5624ce8",
   "metadata": {
    "id": "a5624ce8"
   },
   "outputs": [],
   "source": [
    "def oof_predict(model):\n",
    "    folds = StratifiedKFold(n_splits=K, shuffle=True, random_state=61)\n",
    "    scores = []\n",
    "    predict_probas = []\n",
    "    for train_idx, val_idx in folds.split(X, y):\n",
    "        model.fit(X.iloc[train_idx], y.iloc[train_idx])\n",
    "        y_proba = model.predict_proba(X.iloc[val_idx])[:, 1]\n",
    "        y_true = y.iloc[val_idx]\n",
    "        scores.append(roc_auc_score(y_true, y_proba))\n",
    "\n",
    "        predict_probas.append(model.predict_proba(X_test)[:, 1])\n",
    "    print(f\"# AUC {np.mean(scores):.5f}\")\n",
    "    return np.mean(predict_probas, axis=0)"
   ]
  },
  {
   "cell_type": "code",
   "execution_count": 10,
   "id": "d9f4e2f6",
   "metadata": {
    "colab": {
     "base_uri": "https://localhost:8080/"
    },
    "executionInfo": {
     "elapsed": 776143,
     "status": "ok",
     "timestamp": 1697452049364,
     "user": {
      "displayName": "DongWook Lee",
      "userId": "05076389224694363980"
     },
     "user_tz": -540
    },
    "id": "d9f4e2f6",
    "outputId": "281302f2-6041-4777-832a-3938eb2b97e6"
   },
   "outputs": [
    {
     "name": "stdout",
     "output_type": "stream",
     "text": [
      "[LightGBM] [Info] Number of positive: 23064, number of negative: 78699\n",
      "[LightGBM] [Info] Total Bins 3585\n",
      "[LightGBM] [Info] Number of data points in the train set: 101763, number of used features: 21\n",
      "[LightGBM] [Info] [binary:BoostFromScore]: pavg=0.226644 -> initscore=-1.227357\n",
      "[LightGBM] [Info] Start training from score -1.227357\n",
      "[LightGBM] [Info] Number of positive: 21526, number of negative: 73452\n",
      "[LightGBM] [Info] Total Bins 3574\n",
      "[LightGBM] [Info] Number of data points in the train set: 94978, number of used features: 21\n",
      "[LightGBM] [Info] [binary:BoostFromScore]: pavg=0.226642 -> initscore=-1.227371\n",
      "[LightGBM] [Info] Start training from score -1.227371\n",
      "[LightGBM] [Info] Number of positive: 21526, number of negative: 73452\n",
      "[LightGBM] [Info] Total Bins 3572\n",
      "[LightGBM] [Info] Number of data points in the train set: 94978, number of used features: 21\n",
      "[LightGBM] [Info] [binary:BoostFromScore]: pavg=0.226642 -> initscore=-1.227371\n",
      "[LightGBM] [Info] Start training from score -1.227371\n",
      "[LightGBM] [Info] Number of positive: 21526, number of negative: 73452\n",
      "[LightGBM] [Info] Total Bins 3568\n",
      "[LightGBM] [Info] Number of data points in the train set: 94978, number of used features: 21\n",
      "[LightGBM] [Info] [binary:BoostFromScore]: pavg=0.226642 -> initscore=-1.227371\n",
      "[LightGBM] [Info] Start training from score -1.227371\n",
      "[LightGBM] [Info] Number of positive: 21527, number of negative: 73452\n",
      "[LightGBM] [Info] Total Bins 3573\n",
      "[LightGBM] [Info] Number of data points in the train set: 94979, number of used features: 21\n",
      "[LightGBM] [Info] [binary:BoostFromScore]: pavg=0.226650 -> initscore=-1.227324\n",
      "[LightGBM] [Info] Start training from score -1.227324\n",
      "[LightGBM] [Info] Number of positive: 21527, number of negative: 73452\n",
      "[LightGBM] [Info] Total Bins 3571\n",
      "[LightGBM] [Info] Number of data points in the train set: 94979, number of used features: 21\n",
      "[LightGBM] [Info] [binary:BoostFromScore]: pavg=0.226650 -> initscore=-1.227324\n",
      "[LightGBM] [Info] Start training from score -1.227324\n",
      "[LightGBM] [Info] Number of positive: 21527, number of negative: 73452\n",
      "[LightGBM] [Info] Total Bins 3573\n",
      "[LightGBM] [Info] Number of data points in the train set: 94979, number of used features: 21\n",
      "[LightGBM] [Info] [binary:BoostFromScore]: pavg=0.226650 -> initscore=-1.227324\n",
      "[LightGBM] [Info] Start training from score -1.227324\n",
      "[LightGBM] [Info] Number of positive: 21527, number of negative: 73452\n",
      "[LightGBM] [Info] Total Bins 3574\n",
      "[LightGBM] [Info] Number of data points in the train set: 94979, number of used features: 21\n",
      "[LightGBM] [Info] [binary:BoostFromScore]: pavg=0.226650 -> initscore=-1.227324\n",
      "[LightGBM] [Info] Start training from score -1.227324\n",
      "[LightGBM] [Info] Number of positive: 21527, number of negative: 73452\n",
      "[LightGBM] [Info] Total Bins 3571\n",
      "[LightGBM] [Info] Number of data points in the train set: 94979, number of used features: 21\n",
      "[LightGBM] [Info] [binary:BoostFromScore]: pavg=0.226650 -> initscore=-1.227324\n",
      "[LightGBM] [Info] Start training from score -1.227324\n",
      "[LightGBM] [Info] Number of positive: 21527, number of negative: 73452\n",
      "[LightGBM] [Info] Total Bins 3572\n",
      "[LightGBM] [Info] Number of data points in the train set: 94979, number of used features: 21\n",
      "[LightGBM] [Info] [binary:BoostFromScore]: pavg=0.226650 -> initscore=-1.227324\n",
      "[LightGBM] [Info] Start training from score -1.227324\n",
      "[LightGBM] [Info] Number of positive: 21526, number of negative: 73453\n",
      "[LightGBM] [Info] Total Bins 3573\n",
      "[LightGBM] [Info] Number of data points in the train set: 94979, number of used features: 21\n",
      "[LightGBM] [Info] [binary:BoostFromScore]: pavg=0.226640 -> initscore=-1.227384\n",
      "[LightGBM] [Info] Start training from score -1.227384\n",
      "[LightGBM] [Info] Number of positive: 21526, number of negative: 73453\n",
      "[LightGBM] [Info] Total Bins 3573\n",
      "[LightGBM] [Info] Number of data points in the train set: 94979, number of used features: 21\n",
      "[LightGBM] [Info] [binary:BoostFromScore]: pavg=0.226640 -> initscore=-1.227384\n",
      "[LightGBM] [Info] Start training from score -1.227384\n",
      "[LightGBM] [Info] Number of positive: 21526, number of negative: 73453\n",
      "[LightGBM] [Info] Total Bins 3577\n",
      "[LightGBM] [Info] Number of data points in the train set: 94979, number of used features: 21\n",
      "[LightGBM] [Info] [binary:BoostFromScore]: pavg=0.226640 -> initscore=-1.227384\n",
      "[LightGBM] [Info] Start training from score -1.227384\n",
      "[LightGBM] [Info] Number of positive: 21526, number of negative: 73453\n",
      "[LightGBM] [Info] Total Bins 3573\n",
      "[LightGBM] [Info] Number of data points in the train set: 94979, number of used features: 21\n",
      "[LightGBM] [Info] [binary:BoostFromScore]: pavg=0.226640 -> initscore=-1.227384\n",
      "[LightGBM] [Info] Start training from score -1.227384\n",
      "[LightGBM] [Info] Number of positive: 21526, number of negative: 73453\n",
      "[LightGBM] [Info] Total Bins 3573\n",
      "[LightGBM] [Info] Number of data points in the train set: 94979, number of used features: 21\n",
      "[LightGBM] [Info] [binary:BoostFromScore]: pavg=0.226640 -> initscore=-1.227384\n",
      "[LightGBM] [Info] Start training from score -1.227384\n",
      "[LightGBM] [Info] Number of positive: 21526, number of negative: 73453\n",
      "[LightGBM] [Info] Total Bins 3569\n",
      "[LightGBM] [Info] Number of data points in the train set: 94979, number of used features: 21\n",
      "[LightGBM] [Info] [binary:BoostFromScore]: pavg=0.226640 -> initscore=-1.227384\n",
      "[LightGBM] [Info] Start training from score -1.227384\n",
      "# AUC 0.79221\n"
     ]
    }
   ],
   "source": [
    "ensemble.fit(X, y)\n",
    "y_proba = ensemble.predict_proba(X_test)[:, 1]\n",
    "y_proba_oof = oof_predict(ensemble)"
   ]
  },
  {
   "cell_type": "code",
   "execution_count": 11,
   "id": "b5d13e1d",
   "metadata": {
    "colab": {
     "base_uri": "https://localhost:8080/",
     "height": 455
    },
    "executionInfo": {
     "elapsed": 1035,
     "status": "ok",
     "timestamp": 1697452050396,
     "user": {
      "displayName": "DongWook Lee",
      "userId": "05076389224694363980"
     },
     "user_tz": -540
    },
    "id": "b5d13e1d",
    "outputId": "475eb169-dffe-4d6f-a1e0-9ac4d5312268"
   },
   "outputs": [
    {
     "data": {
      "text/html": [
       "<div>\n",
       "<style scoped>\n",
       "    .dataframe tbody tr th:only-of-type {\n",
       "        vertical-align: middle;\n",
       "    }\n",
       "\n",
       "    .dataframe tbody tr th {\n",
       "        vertical-align: top;\n",
       "    }\n",
       "\n",
       "    .dataframe thead th {\n",
       "        text-align: right;\n",
       "    }\n",
       "</style>\n",
       "<table border=\"1\" class=\"dataframe\">\n",
       "  <thead>\n",
       "    <tr style=\"text-align: right;\">\n",
       "      <th></th>\n",
       "      <th>defects</th>\n",
       "    </tr>\n",
       "    <tr>\n",
       "      <th>id</th>\n",
       "      <th></th>\n",
       "    </tr>\n",
       "  </thead>\n",
       "  <tbody>\n",
       "    <tr>\n",
       "      <th>101763</th>\n",
       "      <td>0.241656</td>\n",
       "    </tr>\n",
       "    <tr>\n",
       "      <th>101764</th>\n",
       "      <td>0.182790</td>\n",
       "    </tr>\n",
       "    <tr>\n",
       "      <th>101765</th>\n",
       "      <td>0.643669</td>\n",
       "    </tr>\n",
       "    <tr>\n",
       "      <th>101766</th>\n",
       "      <td>0.461809</td>\n",
       "    </tr>\n",
       "    <tr>\n",
       "      <th>101767</th>\n",
       "      <td>0.142048</td>\n",
       "    </tr>\n",
       "    <tr>\n",
       "      <th>...</th>\n",
       "      <td>...</td>\n",
       "    </tr>\n",
       "    <tr>\n",
       "      <th>169600</th>\n",
       "      <td>0.257936</td>\n",
       "    </tr>\n",
       "    <tr>\n",
       "      <th>169601</th>\n",
       "      <td>0.114541</td>\n",
       "    </tr>\n",
       "    <tr>\n",
       "      <th>169602</th>\n",
       "      <td>0.169719</td>\n",
       "    </tr>\n",
       "    <tr>\n",
       "      <th>169603</th>\n",
       "      <td>0.099490</td>\n",
       "    </tr>\n",
       "    <tr>\n",
       "      <th>169604</th>\n",
       "      <td>0.818219</td>\n",
       "    </tr>\n",
       "  </tbody>\n",
       "</table>\n",
       "<p>67842 rows × 1 columns</p>\n",
       "</div>"
      ],
      "text/plain": [
       "         defects\n",
       "id              \n",
       "101763  0.241656\n",
       "101764  0.182790\n",
       "101765  0.643669\n",
       "101766  0.461809\n",
       "101767  0.142048\n",
       "...          ...\n",
       "169600  0.257936\n",
       "169601  0.114541\n",
       "169602  0.169719\n",
       "169603  0.099490\n",
       "169604  0.818219\n",
       "\n",
       "[67842 rows x 1 columns]"
      ]
     },
     "execution_count": 11,
     "metadata": {},
     "output_type": "execute_result"
    }
   ],
   "source": [
    "submission_df['defects'] = y_proba\n",
    "submission_df.to_csv(base_path + 'submission_ensemble.csv')\n",
    "submission_df['defects'] = y_proba_oof\n",
    "submission_df.to_csv(base_path + 'submission_ensemble_oof.csv')\n",
    "submission_df"
   ]
  },
  {
   "cell_type": "code",
   "execution_count": null,
   "id": "b36cf2bf",
   "metadata": {
    "id": "b36cf2bf"
   },
   "outputs": [],
   "source": []
  }
 ],
 "metadata": {
  "accelerator": "GPU",
  "colab": {
   "gpuType": "T4",
   "provenance": []
  },
  "kernelspec": {
   "display_name": "Python 3 (ipykernel)",
   "language": "python",
   "name": "python3"
  },
  "language_info": {
   "codemirror_mode": {
    "name": "ipython",
    "version": 3
   },
   "file_extension": ".py",
   "mimetype": "text/x-python",
   "name": "python",
   "nbconvert_exporter": "python",
   "pygments_lexer": "ipython3",
   "version": "3.9.7"
  }
 },
 "nbformat": 4,
 "nbformat_minor": 5
}
