{
 "cells": [
  {
   "cell_type": "code",
   "execution_count": 1,
   "id": "0b615be4",
   "metadata": {},
   "outputs": [],
   "source": [
    "import pandas as pd\n",
    "import numpy as np\n",
    "\n",
    "from sklearn.model_selection import StratifiedKFold\n",
    "from sklearn.metrics import roc_auc_score\n",
    "from sklearn.ensemble import RandomForestClassifier, ExtraTreesClassifier\n",
    "from sklearn.ensemble import VotingClassifier\n",
    "from lightgbm import LGBMClassifier"
   ]
  },
  {
   "cell_type": "markdown",
   "id": "c42c4f1b",
   "metadata": {},
   "source": [
    "# 데이터 로드"
   ]
  },
  {
   "cell_type": "code",
   "execution_count": 2,
   "id": "705cc889",
   "metadata": {},
   "outputs": [],
   "source": [
    "import os\n",
    "\n",
    "colab = os.path.isdir('./sample_data')\n",
    "mount = os.path.isdir('/content/drive')\n",
    "if colab:\n",
    "    if not mount:\n",
    "        from google.colab import drive\n",
    "        drive.mount('/content/drive')\n",
    "    base_path = '/content/drive/MyDrive/Colab Notebooks/5_ML_Project/dulee/'\n",
    "    data_path = '/content/drive/MyDrive/Colab Notebooks/5_ML_Project/data/'\n",
    "else:\n",
    "    base_path = ''\n",
    "    data_path = '../data/'"
   ]
  },
  {
   "cell_type": "code",
   "execution_count": 3,
   "id": "a84a299c",
   "metadata": {},
   "outputs": [],
   "source": [
    "submission_df = pd.read_csv(data_path+'sample_submission.csv', index_col='id')\n",
    "\n",
    "train = pd.read_csv(base_path + 'train.csv', index_col='id')\n",
    "test = pd.read_csv(base_path + 'test.csv', index_col='id')"
   ]
  },
  {
   "cell_type": "markdown",
   "id": "c709ca3d",
   "metadata": {},
   "source": [
    "##### 변수 설정"
   ]
  },
  {
   "cell_type": "code",
   "execution_count": 4,
   "id": "934d218a",
   "metadata": {},
   "outputs": [],
   "source": [
    "X = train.drop(columns=['defects'])\n",
    "y = train['defects']\n",
    "X_test = test"
   ]
  },
  {
   "cell_type": "code",
   "execution_count": 5,
   "id": "20dc36d8",
   "metadata": {},
   "outputs": [],
   "source": [
    "rf = RandomForestClassifier(\n",
    "    min_samples_leaf=78,\n",
    "    max_depth=9,\n",
    "    max_features=0.6222106369274514,\n",
    "    random_state=61,\n",
    ")"
   ]
  },
  {
   "cell_type": "code",
   "execution_count": 6,
   "id": "4a4ed6cd",
   "metadata": {},
   "outputs": [],
   "source": [
    "et = ExtraTreesClassifier(\n",
    "    n_estimators=700,\n",
    "    min_samples_leaf=2,\n",
    "    max_depth=16,\n",
    "    max_features=0.793614074795712,\n",
    "    min_samples_split=48,\n",
    "    random_state=61,\n",
    ")"
   ]
  },
  {
   "cell_type": "code",
   "execution_count": 7,
   "id": "9bcc39c7",
   "metadata": {},
   "outputs": [],
   "source": [
    "lgbm = LGBMClassifier(\n",
    "    num_leaves=4,\n",
    "    learning_rate=0.16467547044594108,\n",
    "    n_estimators=230,\n",
    "    random_state=61\n",
    ")"
   ]
  },
  {
   "cell_type": "code",
   "execution_count": 8,
   "id": "a66306ec",
   "metadata": {},
   "outputs": [],
   "source": [
    "ensemble = VotingClassifier(\n",
    "    [('rf', rf), ('et',et), ('lgbm', lgbm)],\n",
    "    voting='soft',\n",
    "    weights = [0.3, 0.3, 0.4],\n",
    ")"
   ]
  },
  {
   "cell_type": "code",
   "execution_count": 9,
   "id": "a5624ce8",
   "metadata": {},
   "outputs": [],
   "source": [
    "def oof_predict(model):\n",
    "    folds = StratifiedKFold(shuffle=True, random_state=61)\n",
    "    scores = []\n",
    "    predict_probas = []\n",
    "    for train_idx, val_idx in folds.split(X, y):\n",
    "        model.fit(X.iloc[train_idx], y.iloc[train_idx])\n",
    "        y_proba = model.predict_proba(X.iloc[val_idx])[:, 1]\n",
    "        y_true = y.iloc[val_idx]\n",
    "        scores.append(roc_auc_score(y_true, y_proba))\n",
    "        \n",
    "        predict_probas.append(model.predict_proba(X_test)[:, 1])\n",
    "    print(f\"# AUC {np.mean(scores):.5f}\")\n",
    "    return np.mean(predict_probas, axis=0)"
   ]
  },
  {
   "cell_type": "code",
   "execution_count": 10,
   "id": "d9f4e2f6",
   "metadata": {},
   "outputs": [
    {
     "name": "stdout",
     "output_type": "stream",
     "text": [
      "[LightGBM] [Info] Number of positive: 23064, number of negative: 78699\n",
      "[LightGBM] [Info] Auto-choosing row-wise multi-threading, the overhead of testing was 0.003698 seconds.\n",
      "You can set `force_row_wise=true` to remove the overhead.\n",
      "And if memory is not enough, you can set `force_col_wise=true`.\n",
      "[LightGBM] [Info] Total Bins 3585\n",
      "[LightGBM] [Info] Number of data points in the train set: 101763, number of used features: 21\n",
      "[LightGBM] [Info] [binary:BoostFromScore]: pavg=0.226644 -> initscore=-1.227357\n",
      "[LightGBM] [Info] Start training from score -1.227357\n",
      "[LightGBM] [Info] Number of positive: 18451, number of negative: 62959\n",
      "[LightGBM] [Info] Auto-choosing col-wise multi-threading, the overhead of testing was 0.005112 seconds.\n",
      "You can set `force_col_wise=true` to remove the overhead.\n",
      "[LightGBM] [Info] Total Bins 3547\n",
      "[LightGBM] [Info] Number of data points in the train set: 81410, number of used features: 21\n",
      "[LightGBM] [Info] [binary:BoostFromScore]: pavg=0.226643 -> initscore=-1.227365\n",
      "[LightGBM] [Info] Start training from score -1.227365\n",
      "[LightGBM] [Info] Number of positive: 18451, number of negative: 62959\n",
      "[LightGBM] [Info] Auto-choosing col-wise multi-threading, the overhead of testing was 0.006611 seconds.\n",
      "You can set `force_col_wise=true` to remove the overhead.\n",
      "[LightGBM] [Info] Total Bins 3546\n",
      "[LightGBM] [Info] Number of data points in the train set: 81410, number of used features: 21\n",
      "[LightGBM] [Info] [binary:BoostFromScore]: pavg=0.226643 -> initscore=-1.227365\n",
      "[LightGBM] [Info] Start training from score -1.227365\n",
      "[LightGBM] [Info] Number of positive: 18451, number of negative: 62959\n",
      "[LightGBM] [Info] Auto-choosing col-wise multi-threading, the overhead of testing was 0.007479 seconds.\n",
      "You can set `force_col_wise=true` to remove the overhead.\n",
      "[LightGBM] [Info] Total Bins 3551\n",
      "[LightGBM] [Info] Number of data points in the train set: 81410, number of used features: 21\n",
      "[LightGBM] [Info] [binary:BoostFromScore]: pavg=0.226643 -> initscore=-1.227365\n",
      "[LightGBM] [Info] Start training from score -1.227365\n",
      "[LightGBM] [Info] Number of positive: 18452, number of negative: 62959\n",
      "[LightGBM] [Info] Auto-choosing col-wise multi-threading, the overhead of testing was 0.007362 seconds.\n",
      "You can set `force_col_wise=true` to remove the overhead.\n",
      "[LightGBM] [Info] Total Bins 3558\n",
      "[LightGBM] [Info] Number of data points in the train set: 81411, number of used features: 21\n",
      "[LightGBM] [Info] [binary:BoostFromScore]: pavg=0.226652 -> initscore=-1.227311\n",
      "[LightGBM] [Info] Start training from score -1.227311\n",
      "[LightGBM] [Info] Number of positive: 18451, number of negative: 62960\n",
      "[LightGBM] [Info] Auto-choosing col-wise multi-threading, the overhead of testing was 0.007367 seconds.\n",
      "You can set `force_col_wise=true` to remove the overhead.\n",
      "[LightGBM] [Info] Total Bins 3552\n",
      "[LightGBM] [Info] Number of data points in the train set: 81411, number of used features: 21\n",
      "[LightGBM] [Info] [binary:BoostFromScore]: pavg=0.226640 -> initscore=-1.227381\n",
      "[LightGBM] [Info] Start training from score -1.227381\n",
      "# AUC 0.79265\n"
     ]
    }
   ],
   "source": [
    "ensemble.fit(X, y)\n",
    "y_proba = ensemble.predict_proba(X_test)[:, 1]\n",
    "y_proba_oof = oof_predict(ensemble)"
   ]
  },
  {
   "cell_type": "code",
   "execution_count": 11,
   "id": "b5d13e1d",
   "metadata": {},
   "outputs": [
    {
     "data": {
      "text/html": [
       "<div>\n",
       "<style scoped>\n",
       "    .dataframe tbody tr th:only-of-type {\n",
       "        vertical-align: middle;\n",
       "    }\n",
       "\n",
       "    .dataframe tbody tr th {\n",
       "        vertical-align: top;\n",
       "    }\n",
       "\n",
       "    .dataframe thead th {\n",
       "        text-align: right;\n",
       "    }\n",
       "</style>\n",
       "<table border=\"1\" class=\"dataframe\">\n",
       "  <thead>\n",
       "    <tr style=\"text-align: right;\">\n",
       "      <th></th>\n",
       "      <th>defects</th>\n",
       "    </tr>\n",
       "    <tr>\n",
       "      <th>id</th>\n",
       "      <th></th>\n",
       "    </tr>\n",
       "  </thead>\n",
       "  <tbody>\n",
       "    <tr>\n",
       "      <th>101763</th>\n",
       "      <td>0.246789</td>\n",
       "    </tr>\n",
       "    <tr>\n",
       "      <th>101764</th>\n",
       "      <td>0.194710</td>\n",
       "    </tr>\n",
       "    <tr>\n",
       "      <th>101765</th>\n",
       "      <td>0.655302</td>\n",
       "    </tr>\n",
       "    <tr>\n",
       "      <th>101766</th>\n",
       "      <td>0.470759</td>\n",
       "    </tr>\n",
       "    <tr>\n",
       "      <th>101767</th>\n",
       "      <td>0.138548</td>\n",
       "    </tr>\n",
       "    <tr>\n",
       "      <th>...</th>\n",
       "      <td>...</td>\n",
       "    </tr>\n",
       "    <tr>\n",
       "      <th>169600</th>\n",
       "      <td>0.280177</td>\n",
       "    </tr>\n",
       "    <tr>\n",
       "      <th>169601</th>\n",
       "      <td>0.112983</td>\n",
       "    </tr>\n",
       "    <tr>\n",
       "      <th>169602</th>\n",
       "      <td>0.163022</td>\n",
       "    </tr>\n",
       "    <tr>\n",
       "      <th>169603</th>\n",
       "      <td>0.100564</td>\n",
       "    </tr>\n",
       "    <tr>\n",
       "      <th>169604</th>\n",
       "      <td>0.784545</td>\n",
       "    </tr>\n",
       "  </tbody>\n",
       "</table>\n",
       "<p>67842 rows × 1 columns</p>\n",
       "</div>"
      ],
      "text/plain": [
       "         defects\n",
       "id              \n",
       "101763  0.246789\n",
       "101764  0.194710\n",
       "101765  0.655302\n",
       "101766  0.470759\n",
       "101767  0.138548\n",
       "...          ...\n",
       "169600  0.280177\n",
       "169601  0.112983\n",
       "169602  0.163022\n",
       "169603  0.100564\n",
       "169604  0.784545\n",
       "\n",
       "[67842 rows x 1 columns]"
      ]
     },
     "execution_count": 11,
     "metadata": {},
     "output_type": "execute_result"
    }
   ],
   "source": [
    "submission_df['defects'] = y_proba\n",
    "submission_df.to_csv(base_path + 'submission_ensemble.csv')\n",
    "submission_df['defects'] = y_proba_oof\n",
    "submission_df.to_csv(base_path + 'submission_ensemble_oof.csv')\n",
    "submission_df"
   ]
  },
  {
   "cell_type": "code",
   "execution_count": null,
   "id": "b36cf2bf",
   "metadata": {},
   "outputs": [],
   "source": []
  }
 ],
 "metadata": {
  "kernelspec": {
   "display_name": "Python 3 (ipykernel)",
   "language": "python",
   "name": "python3"
  },
  "language_info": {
   "codemirror_mode": {
    "name": "ipython",
    "version": 3
   },
   "file_extension": ".py",
   "mimetype": "text/x-python",
   "name": "python",
   "nbconvert_exporter": "python",
   "pygments_lexer": "ipython3",
   "version": "3.9.7"
  }
 },
 "nbformat": 4,
 "nbformat_minor": 5
}
