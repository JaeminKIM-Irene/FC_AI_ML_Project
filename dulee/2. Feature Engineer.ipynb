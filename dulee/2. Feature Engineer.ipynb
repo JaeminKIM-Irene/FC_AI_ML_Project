{
 "cells": [
  {
   "cell_type": "code",
   "execution_count": 1,
   "id": "710c0bff",
   "metadata": {},
   "outputs": [],
   "source": [
    "import numpy as np\n",
    "import pandas as pd\n",
    "import matplotlib.pyplot as plt\n",
    "import seaborn as sns\n",
    "\n",
    "from sklearn.preprocessing import StandardScaler, FunctionTransformer, PolynomialFeatures"
   ]
  },
  {
   "cell_type": "markdown",
   "id": "ed174e63",
   "metadata": {},
   "source": [
    "# 데이터 로드"
   ]
  },
  {
   "cell_type": "code",
   "execution_count": 2,
   "id": "905ff80d",
   "metadata": {},
   "outputs": [],
   "source": [
    "data_path = '../data/'\n",
    "\n",
    "train_df = pd.read_csv(data_path+'train.csv', index_col='id')\n",
    "test_df = pd.read_csv(data_path+'test.csv', index_col='id')\n",
    "submission_df = pd.read_csv(data_path+'sample_submission.csv', index_col='id')"
   ]
  },
  {
   "cell_type": "markdown",
   "id": "c84bd3d3",
   "metadata": {},
   "source": [
    "## Feature Engineering"
   ]
  },
  {
   "cell_type": "markdown",
   "id": "a5e6901f",
   "metadata": {},
   "source": [
    "##### 1. Original"
   ]
  },
  {
   "cell_type": "code",
   "execution_count": 3,
   "id": "24a1caee",
   "metadata": {},
   "outputs": [],
   "source": [
    "train = train_df\n",
    "test = test_df"
   ]
  },
  {
   "cell_type": "markdown",
   "id": "a689e365",
   "metadata": {},
   "source": [
    "##### 2. drop column (derived measure, usless measure)"
   ]
  },
  {
   "cell_type": "code",
   "execution_count": 4,
   "id": "7f47943f",
   "metadata": {},
   "outputs": [],
   "source": [
    "# drop_columns = ['n', 'v', 'l', 'd', 'i', 'e', 'b', 't', 'lOCode', 'locCodeAndComment']\n",
    "# drop_columns = ['n', 'v', 'l', 'd', 'i', 'e', 'b', 't', 'lOCode', 'locCodeAndComment', 'total_Op', 'total_Opnd', 'branchCount']\n",
    "# train = train_df.drop(columns=drop_columns)\n",
    "# test = test_df.drop(columns=drop_columns)"
   ]
  },
  {
   "cell_type": "markdown",
   "id": "f35ad74a",
   "metadata": {},
   "source": [
    "##### 3. McCabe's"
   ]
  },
  {
   "cell_type": "code",
   "execution_count": 5,
   "id": "4e136111",
   "metadata": {},
   "outputs": [],
   "source": [
    "# columns = ['loc', 'v(g)', 'ev(g)', 'iv(g)']\n",
    "# train = train_df[columns + ['defects']]\n",
    "# test = test_df[columns]"
   ]
  },
  {
   "cell_type": "markdown",
   "id": "2867f07a",
   "metadata": {},
   "source": [
    "### Log Transform (모델에 따라서 선택)"
   ]
  },
  {
   "cell_type": "code",
   "execution_count": 6,
   "id": "ca9a4bad",
   "metadata": {},
   "outputs": [],
   "source": [
    "# X = train.drop(columns=['defects'])\n",
    "# y = train['defects']\n",
    "\n",
    "# X = FunctionTransformer(np.log1p).fit_transform(X)\n",
    "# test = FunctionTransformer(np.log1p).fit_transform(test)\n",
    "\n",
    "# train = pd.concat([X, y], axis=1)"
   ]
  },
  {
   "cell_type": "markdown",
   "id": "875b3220",
   "metadata": {},
   "source": [
    "### data 저장"
   ]
  },
  {
   "cell_type": "code",
   "execution_count": 7,
   "id": "2f2c7566",
   "metadata": {},
   "outputs": [],
   "source": [
    "train.to_csv('train.csv')\n",
    "test.to_csv('test.csv')"
   ]
  }
 ],
 "metadata": {
  "kernelspec": {
   "display_name": "Python 3 (ipykernel)",
   "language": "python",
   "name": "python3"
  },
  "language_info": {
   "codemirror_mode": {
    "name": "ipython",
    "version": 3
   },
   "file_extension": ".py",
   "mimetype": "text/x-python",
   "name": "python",
   "nbconvert_exporter": "python",
   "pygments_lexer": "ipython3",
   "version": "3.9.7"
  }
 },
 "nbformat": 4,
 "nbformat_minor": 5
}
