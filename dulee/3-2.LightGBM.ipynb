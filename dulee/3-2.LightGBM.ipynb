{
 "cells": [
  {
   "cell_type": "code",
   "execution_count": 1,
   "id": "W9MglRnZWFgA",
   "metadata": {
    "colab": {
     "base_uri": "https://localhost:8080/"
    },
    "executionInfo": {
     "elapsed": 18252,
     "status": "ok",
     "timestamp": 1697540609171,
     "user": {
      "displayName": "DongWook Lee",
      "userId": "05076389224694363980"
     },
     "user_tz": -540
    },
    "id": "W9MglRnZWFgA",
    "outputId": "1e4d3ece-27e3-4067-c4fe-236251448475"
   },
   "outputs": [],
   "source": [
    "# !pip install optuna"
   ]
  },
  {
   "cell_type": "code",
   "execution_count": 2,
   "id": "710c0bff",
   "metadata": {
    "id": "710c0bff"
   },
   "outputs": [],
   "source": [
    "import numpy as np\n",
    "import pandas as pd\n",
    "import matplotlib.pyplot as plt\n",
    "import seaborn as sns\n",
    "\n",
    "from sklearn.model_selection import StratifiedKFold\n",
    "from sklearn.metrics import roc_auc_score\n",
    "\n",
    "from lightgbm import LGBMClassifier\n",
    "\n",
    "import optuna, pickle, os"
   ]
  },
  {
   "cell_type": "markdown",
   "id": "ed174e63",
   "metadata": {
    "id": "ed174e63"
   },
   "source": [
    "# 데이터 로드"
   ]
  },
  {
   "cell_type": "code",
   "execution_count": 3,
   "id": "7cOrJsA0McSn",
   "metadata": {
    "colab": {
     "base_uri": "https://localhost:8080/"
    },
    "executionInfo": {
     "elapsed": 16920,
     "status": "ok",
     "timestamp": 1697540630172,
     "user": {
      "displayName": "DongWook Lee",
      "userId": "05076389224694363980"
     },
     "user_tz": -540
    },
    "id": "7cOrJsA0McSn",
    "outputId": "f5ed49c6-4c4c-402b-e4f0-4a4679c148d1"
   },
   "outputs": [],
   "source": [
    "import os\n",
    "\n",
    "colab = os.path.isdir('./sample_data')\n",
    "mount = os.path.isdir('/content/drive')\n",
    "if colab:\n",
    "    if not mount:\n",
    "        from google.colab import drive\n",
    "        drive.mount('/content/drive')\n",
    "    base_path = '/content/drive/MyDrive/Colab Notebooks/5_ML_Project/dulee/'\n",
    "    data_path = '/content/drive/MyDrive/Colab Notebooks/5_ML_Project/data/'\n",
    "else:\n",
    "    base_path = ''\n",
    "    data_path = '../data/'"
   ]
  },
  {
   "cell_type": "code",
   "execution_count": 4,
   "id": "905ff80d",
   "metadata": {
    "id": "905ff80d"
   },
   "outputs": [],
   "source": [
    "submission_df = pd.read_csv(data_path + 'sample_submission.csv', index_col='id')\n",
    "\n",
    "# train = pd.read_csv(base_path + 'train.csv', index_col='id')\n",
    "# train = pd.read_csv(base_path + 'train_down.csv', index_col='id') # 다운 샘플링\n",
    "train = pd.read_csv(base_path + 'train_scaling.csv', index_col='id') # 업 샘플링\n",
    "test = pd.read_csv(base_path + 'test.csv', index_col='id')"
   ]
  },
  {
   "cell_type": "markdown",
   "id": "5decb7ca",
   "metadata": {
    "id": "5decb7ca"
   },
   "source": [
    "##### 변수 설정"
   ]
  },
  {
   "cell_type": "code",
   "execution_count": 5,
   "id": "18649eb1",
   "metadata": {
    "id": "18649eb1"
   },
   "outputs": [],
   "source": [
    "X = train.drop(columns=['defects'])\n",
    "y = train['defects']\n",
    "X_test = test\n",
    "\n",
    "K = 15"
   ]
  },
  {
   "cell_type": "markdown",
   "id": "00bbe03c",
   "metadata": {
    "id": "00bbe03c"
   },
   "source": [
    "# 모델 학습"
   ]
  },
  {
   "cell_type": "markdown",
   "id": "149eb8f6",
   "metadata": {
    "id": "149eb8f6"
   },
   "source": [
    "### Light GBM"
   ]
  },
  {
   "cell_type": "code",
   "execution_count": 6,
   "id": "lgFIsI_hc2N2",
   "metadata": {
    "colab": {
     "base_uri": "https://localhost:8080/"
    },
    "executionInfo": {
     "elapsed": 16,
     "status": "ok",
     "timestamp": 1697540633417,
     "user": {
      "displayName": "DongWook Lee",
      "userId": "05076389224694363980"
     },
     "user_tz": -540
    },
    "id": "lgFIsI_hc2N2",
    "outputId": "41f3e085-de5b-4bfe-c44c-395acda2a625"
   },
   "outputs": [
    {
     "data": {
      "text/plain": [
       "8"
      ]
     },
     "execution_count": 6,
     "metadata": {},
     "output_type": "execute_result"
    }
   ],
   "source": [
    "os.cpu_count()"
   ]
  },
  {
   "cell_type": "markdown",
   "id": "_W9Wn2mzfNN1",
   "metadata": {
    "id": "_W9Wn2mzfNN1"
   },
   "source": [
    "##### Hyper-parameter Tuning\n",
    "1. min_child_samples: min_samples_leaf과 비슷\n",
    "2. colsample_bytree: node split시 동일한 세팅이어야하기에 global randomization을 제공"
   ]
  },
  {
   "cell_type": "code",
   "execution_count": 7,
   "id": "4eef4b21",
   "metadata": {
    "id": "4eef4b21"
   },
   "outputs": [],
   "source": [
    "from sklearn.metrics import accuracy_score, precision_score\n",
    "from sklearn.metrics import f1_score, recall_score\n",
    "def metrics(y_true, y_pred, y_proba):\n",
    "    accuracy = accuracy_score(y_true, y_pred)\n",
    "    precision = precision_score(y_true, y_pred)\n",
    "    recall = recall_score(y_true, y_pred)\n",
    "    f1 = f1_score(y_true, y_pred)\n",
    "    roc_score = roc_auc_score(y_true, y_proba)\n",
    "    print(f'acc : {accuracy:.2f}, precision : {precision:.2f}', end=', ')\n",
    "    print(f'recall : {recall:.2f}, f1-score : {f1:.2f}, auc : {roc_score:.5f}')"
   ]
  },
  {
   "cell_type": "code",
   "execution_count": 8,
   "id": "2bc2c278",
   "metadata": {
    "id": "2bc2c278"
   },
   "outputs": [],
   "source": [
    "def optimizer(trial):\n",
    "    # max_depth = trial.suggest_int('max_depth', 15, 25)\n",
    "    # num_leaves = trial.suggest_categorical('num_leaves', [4, 8, 16, 32])\n",
    "    min_child_samples = trial.suggest_int('min_child_samples', 1, 100)\n",
    "    colsample_bytree = trial.suggest_float('colsample_bytree', 0.7, 1.0)\n",
    "\n",
    "    learning_rate = trial.suggest_float('learning_rate', 0.1, 0.3)\n",
    "    n_estimators = trial.suggest_int('n_estimators', 500, 1000)\n",
    "    # n_estimators = trial.suggest_int('n_estimators', 100, 30000)\n",
    "\n",
    "    model = LGBMClassifier(\n",
    "        # max_depth=max_depth,\n",
    "        num_leaves=4,\n",
    "        min_child_samples=min_child_samples,\n",
    "        colsample_bytree=colsample_bytree,\n",
    "\n",
    "        learning_rate=learning_rate,\n",
    "        n_estimators=n_estimators,\n",
    "\n",
    "#         class_weight = 'balanced',\n",
    "        force_col_wise = True,\n",
    "        verbose=-100,\n",
    "        random_state = 61,\n",
    "        n_jobs = os.cpu_count(),\n",
    "    )\n",
    "\n",
    "    folds = StratifiedKFold(n_splits=K, shuffle=True, random_state=61) # n_splits=5 (default값)\n",
    "    scores = []\n",
    "    for i, (train_idx, val_idx) in enumerate(folds.split(X, y)):\n",
    "        model.fit(X.iloc[train_idx], y.iloc[train_idx])\n",
    "\n",
    "        y_true = y.iloc[val_idx]\n",
    "        y_pred = model.predict(X.iloc[val_idx])\n",
    "        y_proba = model.predict_proba(X.iloc[val_idx])[:, 1]\n",
    "        print(f'-----------------\\t\\tfold {i}\\t\\t-----------------')\n",
    "        metrics(y_true, y_pred, y_proba)\n",
    "        scores.append(roc_auc_score(y_true, y_proba))\n",
    "    return np.mean(scores)"
   ]
  },
  {
   "cell_type": "code",
   "execution_count": null,
   "id": "552c6acd",
   "metadata": {
    "colab": {
     "background_save": true,
     "base_uri": "https://localhost:8080/"
    },
    "id": "552c6acd",
    "outputId": "2922f935-37eb-4de5-cc83-c8d9fa82cd06",
    "scrolled": false
   },
   "outputs": [
    {
     "name": "stderr",
     "output_type": "stream",
     "text": [
      "[I 2023-10-18 13:29:56,222] A new study created in memory with name: no-name-dc272198-aa4d-47b4-8720-854819fb568f\n"
     ]
    },
    {
     "name": "stdout",
     "output_type": "stream",
     "text": [
      "-----------------\t\tfold 0\t\t-----------------\n",
      "acc : 0.73, precision : 0.74, recall : 0.66, f1-score : 0.70, auc : 0.79724\n",
      "-----------------\t\tfold 1\t\t-----------------\n",
      "acc : 0.73, precision : 0.74, recall : 0.65, f1-score : 0.69, auc : 0.79266\n",
      "-----------------\t\tfold 2\t\t-----------------\n",
      "acc : 0.73, precision : 0.74, recall : 0.66, f1-score : 0.70, auc : 0.79692\n",
      "-----------------\t\tfold 3\t\t-----------------\n",
      "acc : 0.72, precision : 0.74, recall : 0.63, f1-score : 0.68, auc : 0.78993\n",
      "-----------------\t\tfold 4\t\t-----------------\n",
      "acc : 0.74, precision : 0.75, recall : 0.67, f1-score : 0.71, auc : 0.80237\n",
      "-----------------\t\tfold 5\t\t-----------------\n",
      "acc : 0.74, precision : 0.75, recall : 0.66, f1-score : 0.70, auc : 0.79964\n",
      "-----------------\t\tfold 6\t\t-----------------\n",
      "acc : 0.73, precision : 0.74, recall : 0.64, f1-score : 0.69, auc : 0.79505\n",
      "-----------------\t\tfold 7\t\t-----------------\n",
      "acc : 0.73, precision : 0.74, recall : 0.65, f1-score : 0.69, auc : 0.80102\n",
      "-----------------\t\tfold 8\t\t-----------------\n",
      "acc : 0.74, precision : 0.75, recall : 0.65, f1-score : 0.70, auc : 0.80547\n",
      "-----------------\t\tfold 9\t\t-----------------\n",
      "acc : 0.73, precision : 0.74, recall : 0.65, f1-score : 0.69, auc : 0.79653\n",
      "-----------------\t\tfold 10\t\t-----------------\n",
      "acc : 0.73, precision : 0.75, recall : 0.65, f1-score : 0.69, auc : 0.79700\n",
      "-----------------\t\tfold 11\t\t-----------------\n",
      "acc : 0.74, precision : 0.75, recall : 0.65, f1-score : 0.70, auc : 0.80627\n",
      "-----------------\t\tfold 12\t\t-----------------\n",
      "acc : 0.73, precision : 0.74, recall : 0.66, f1-score : 0.70, auc : 0.79940\n",
      "-----------------\t\tfold 13\t\t-----------------\n",
      "acc : 0.73, precision : 0.74, recall : 0.65, f1-score : 0.69, auc : 0.79337\n"
     ]
    },
    {
     "name": "stderr",
     "output_type": "stream",
     "text": [
      "[I 2023-10-18 13:30:25,591] Trial 0 finished with value: 0.7980350872903046 and parameters: {'min_child_samples': 44, 'colsample_bytree': 0.9431182692784608, 'learning_rate': 0.13035223116058353, 'n_estimators': 610}. Best is trial 0 with value: 0.7980350872903046.\n"
     ]
    },
    {
     "name": "stdout",
     "output_type": "stream",
     "text": [
      "-----------------\t\tfold 14\t\t-----------------\n",
      "acc : 0.73, precision : 0.75, recall : 0.65, f1-score : 0.69, auc : 0.79765\n",
      "-----------------\t\tfold 0\t\t-----------------\n",
      "acc : 0.73, precision : 0.74, recall : 0.66, f1-score : 0.70, auc : 0.79998\n",
      "-----------------\t\tfold 1\t\t-----------------\n",
      "acc : 0.73, precision : 0.74, recall : 0.66, f1-score : 0.70, auc : 0.79654\n",
      "-----------------\t\tfold 2\t\t-----------------\n",
      "acc : 0.74, precision : 0.74, recall : 0.66, f1-score : 0.70, auc : 0.80059\n",
      "-----------------\t\tfold 3\t\t-----------------\n",
      "acc : 0.73, precision : 0.74, recall : 0.64, f1-score : 0.68, auc : 0.79289\n",
      "-----------------\t\tfold 4\t\t-----------------\n",
      "acc : 0.74, precision : 0.75, recall : 0.67, f1-score : 0.71, auc : 0.80632\n",
      "-----------------\t\tfold 5\t\t-----------------\n",
      "acc : 0.74, precision : 0.75, recall : 0.66, f1-score : 0.70, auc : 0.80357\n",
      "-----------------\t\tfold 6\t\t-----------------\n",
      "acc : 0.73, precision : 0.75, recall : 0.64, f1-score : 0.69, auc : 0.79895\n",
      "-----------------\t\tfold 7\t\t-----------------\n",
      "acc : 0.73, precision : 0.74, recall : 0.66, f1-score : 0.70, auc : 0.80488\n",
      "-----------------\t\tfold 8\t\t-----------------\n",
      "acc : 0.74, precision : 0.75, recall : 0.66, f1-score : 0.71, auc : 0.80914\n",
      "-----------------\t\tfold 9\t\t-----------------\n",
      "acc : 0.73, precision : 0.75, recall : 0.66, f1-score : 0.70, auc : 0.79985\n",
      "-----------------\t\tfold 10\t\t-----------------\n",
      "acc : 0.73, precision : 0.75, recall : 0.65, f1-score : 0.70, auc : 0.80081\n",
      "-----------------\t\tfold 11\t\t-----------------\n",
      "acc : 0.74, precision : 0.75, recall : 0.66, f1-score : 0.70, auc : 0.80924\n",
      "-----------------\t\tfold 12\t\t-----------------\n",
      "acc : 0.74, precision : 0.75, recall : 0.66, f1-score : 0.70, auc : 0.80237\n",
      "-----------------\t\tfold 13\t\t-----------------\n",
      "acc : 0.73, precision : 0.74, recall : 0.65, f1-score : 0.69, auc : 0.79599\n"
     ]
    },
    {
     "name": "stderr",
     "output_type": "stream",
     "text": [
      "[I 2023-10-18 13:31:01,380] Trial 1 finished with value: 0.8015562676511296 and parameters: {'min_child_samples': 8, 'colsample_bytree': 0.9930899211836357, 'learning_rate': 0.23522522285374198, 'n_estimators': 686}. Best is trial 1 with value: 0.8015562676511296.\n"
     ]
    },
    {
     "name": "stdout",
     "output_type": "stream",
     "text": [
      "-----------------\t\tfold 14\t\t-----------------\n",
      "acc : 0.74, precision : 0.75, recall : 0.66, f1-score : 0.70, auc : 0.80220\n",
      "-----------------\t\tfold 0\t\t-----------------\n",
      "acc : 0.73, precision : 0.74, recall : 0.66, f1-score : 0.70, auc : 0.79790\n",
      "-----------------\t\tfold 1\t\t-----------------\n",
      "acc : 0.73, precision : 0.74, recall : 0.65, f1-score : 0.69, auc : 0.79368\n",
      "-----------------\t\tfold 2\t\t-----------------\n",
      "acc : 0.73, precision : 0.74, recall : 0.66, f1-score : 0.70, auc : 0.79734\n",
      "-----------------\t\tfold 3\t\t-----------------\n",
      "acc : 0.72, precision : 0.74, recall : 0.63, f1-score : 0.68, auc : 0.79092\n",
      "-----------------\t\tfold 4\t\t-----------------\n",
      "acc : 0.74, precision : 0.75, recall : 0.67, f1-score : 0.71, auc : 0.80284\n",
      "-----------------\t\tfold 5\t\t-----------------\n",
      "acc : 0.74, precision : 0.75, recall : 0.65, f1-score : 0.70, auc : 0.80009\n",
      "-----------------\t\tfold 6\t\t-----------------\n",
      "acc : 0.73, precision : 0.74, recall : 0.64, f1-score : 0.69, auc : 0.79644\n",
      "-----------------\t\tfold 7\t\t-----------------\n",
      "acc : 0.73, precision : 0.74, recall : 0.66, f1-score : 0.70, auc : 0.80157\n",
      "-----------------\t\tfold 8\t\t-----------------\n",
      "acc : 0.74, precision : 0.75, recall : 0.66, f1-score : 0.70, auc : 0.80584\n",
      "-----------------\t\tfold 9\t\t-----------------\n",
      "acc : 0.73, precision : 0.74, recall : 0.65, f1-score : 0.69, auc : 0.79790\n",
      "-----------------\t\tfold 10\t\t-----------------\n",
      "acc : 0.73, precision : 0.75, recall : 0.65, f1-score : 0.69, auc : 0.79742\n",
      "-----------------\t\tfold 11\t\t-----------------\n",
      "acc : 0.74, precision : 0.75, recall : 0.66, f1-score : 0.70, auc : 0.80640\n",
      "-----------------\t\tfold 12\t\t-----------------\n",
      "acc : 0.73, precision : 0.74, recall : 0.66, f1-score : 0.70, auc : 0.79999\n",
      "-----------------\t\tfold 13\t\t-----------------\n",
      "acc : 0.73, precision : 0.74, recall : 0.65, f1-score : 0.69, auc : 0.79448\n"
     ]
    },
    {
     "name": "stderr",
     "output_type": "stream",
     "text": [
      "[I 2023-10-18 13:31:31,254] Trial 2 finished with value: 0.798700457821968 and parameters: {'min_child_samples': 59, 'colsample_bytree': 0.878199792425139, 'learning_rate': 0.1471585008269974, 'n_estimators': 632}. Best is trial 1 with value: 0.8015562676511296.\n"
     ]
    },
    {
     "name": "stdout",
     "output_type": "stream",
     "text": [
      "-----------------\t\tfold 14\t\t-----------------\n",
      "acc : 0.73, precision : 0.74, recall : 0.65, f1-score : 0.70, auc : 0.79770\n",
      "-----------------\t\tfold 0\t\t-----------------\n",
      "acc : 0.74, precision : 0.74, recall : 0.67, f1-score : 0.70, auc : 0.80329\n",
      "-----------------\t\tfold 1\t\t-----------------\n",
      "acc : 0.73, precision : 0.74, recall : 0.66, f1-score : 0.70, auc : 0.79948\n",
      "-----------------\t\tfold 2\t\t-----------------\n",
      "acc : 0.73, precision : 0.74, recall : 0.66, f1-score : 0.70, auc : 0.80297\n",
      "-----------------\t\tfold 3\t\t-----------------\n",
      "acc : 0.73, precision : 0.74, recall : 0.64, f1-score : 0.69, auc : 0.79473\n",
      "-----------------\t\tfold 4\t\t-----------------\n",
      "acc : 0.74, precision : 0.75, recall : 0.67, f1-score : 0.71, auc : 0.80869\n",
      "-----------------\t\tfold 5\t\t-----------------\n",
      "acc : 0.74, precision : 0.75, recall : 0.66, f1-score : 0.70, auc : 0.80497\n",
      "-----------------\t\tfold 6\t\t-----------------\n",
      "acc : 0.73, precision : 0.75, recall : 0.65, f1-score : 0.69, auc : 0.80181\n",
      "-----------------\t\tfold 7\t\t-----------------\n",
      "acc : 0.74, precision : 0.74, recall : 0.66, f1-score : 0.70, auc : 0.80683\n",
      "-----------------\t\tfold 8\t\t-----------------\n",
      "acc : 0.74, precision : 0.75, recall : 0.66, f1-score : 0.71, auc : 0.81089\n",
      "-----------------\t\tfold 9\t\t-----------------\n",
      "acc : 0.74, precision : 0.75, recall : 0.66, f1-score : 0.70, auc : 0.80170\n",
      "-----------------\t\tfold 10\t\t-----------------\n",
      "acc : 0.73, precision : 0.75, recall : 0.66, f1-score : 0.70, auc : 0.80204\n",
      "-----------------\t\tfold 11\t\t-----------------\n",
      "acc : 0.74, precision : 0.75, recall : 0.66, f1-score : 0.71, auc : 0.81091\n",
      "-----------------\t\tfold 12\t\t-----------------\n",
      "acc : 0.74, precision : 0.74, recall : 0.66, f1-score : 0.70, auc : 0.80434\n",
      "-----------------\t\tfold 13\t\t-----------------\n",
      "acc : 0.73, precision : 0.74, recall : 0.66, f1-score : 0.70, auc : 0.79948\n"
     ]
    },
    {
     "name": "stderr",
     "output_type": "stream",
     "text": [
      "[I 2023-10-18 13:32:14,242] Trial 3 finished with value: 0.8037382636817739 and parameters: {'min_child_samples': 45, 'colsample_bytree': 0.9110404964627821, 'learning_rate': 0.25720834971302375, 'n_estimators': 903}. Best is trial 3 with value: 0.8037382636817739.\n"
     ]
    },
    {
     "name": "stdout",
     "output_type": "stream",
     "text": [
      "-----------------\t\tfold 14\t\t-----------------\n",
      "acc : 0.74, precision : 0.75, recall : 0.66, f1-score : 0.70, auc : 0.80394\n",
      "-----------------\t\tfold 0\t\t-----------------\n",
      "acc : 0.74, precision : 0.74, recall : 0.67, f1-score : 0.70, auc : 0.80102\n",
      "-----------------\t\tfold 1\t\t-----------------\n",
      "acc : 0.73, precision : 0.74, recall : 0.66, f1-score : 0.70, auc : 0.79797\n",
      "-----------------\t\tfold 2\t\t-----------------\n",
      "acc : 0.74, precision : 0.74, recall : 0.66, f1-score : 0.70, auc : 0.80210\n",
      "-----------------\t\tfold 3\t\t-----------------\n",
      "acc : 0.73, precision : 0.74, recall : 0.64, f1-score : 0.69, auc : 0.79486\n",
      "-----------------\t\tfold 4\t\t-----------------\n",
      "acc : 0.74, precision : 0.75, recall : 0.68, f1-score : 0.71, auc : 0.80735\n",
      "-----------------\t\tfold 5\t\t-----------------\n",
      "acc : 0.74, precision : 0.75, recall : 0.66, f1-score : 0.70, auc : 0.80517\n",
      "-----------------\t\tfold 6\t\t-----------------\n",
      "acc : 0.74, precision : 0.75, recall : 0.65, f1-score : 0.70, auc : 0.80070\n",
      "-----------------\t\tfold 7\t\t-----------------\n",
      "acc : 0.74, precision : 0.75, recall : 0.66, f1-score : 0.70, auc : 0.80524\n",
      "-----------------\t\tfold 8\t\t-----------------\n",
      "acc : 0.74, precision : 0.75, recall : 0.66, f1-score : 0.70, auc : 0.81000\n",
      "-----------------\t\tfold 9\t\t-----------------\n",
      "acc : 0.73, precision : 0.75, recall : 0.66, f1-score : 0.70, auc : 0.80219\n",
      "-----------------\t\tfold 10\t\t-----------------\n",
      "acc : 0.73, precision : 0.74, recall : 0.66, f1-score : 0.70, auc : 0.80190\n",
      "-----------------\t\tfold 11\t\t-----------------\n",
      "acc : 0.74, precision : 0.75, recall : 0.66, f1-score : 0.70, auc : 0.80953\n",
      "-----------------\t\tfold 12\t\t-----------------\n",
      "acc : 0.74, precision : 0.74, recall : 0.66, f1-score : 0.70, auc : 0.80329\n",
      "-----------------\t\tfold 13\t\t-----------------\n",
      "acc : 0.73, precision : 0.74, recall : 0.65, f1-score : 0.70, auc : 0.79844\n"
     ]
    },
    {
     "name": "stderr",
     "output_type": "stream",
     "text": [
      "[I 2023-10-18 13:32:51,942] Trial 4 finished with value: 0.8027523515056817 and parameters: {'min_child_samples': 76, 'colsample_bytree': 0.969564888580908, 'learning_rate': 0.28225794227710643, 'n_estimators': 780}. Best is trial 3 with value: 0.8037382636817739.\n"
     ]
    },
    {
     "name": "stdout",
     "output_type": "stream",
     "text": [
      "-----------------\t\tfold 14\t\t-----------------\n",
      "acc : 0.74, precision : 0.75, recall : 0.66, f1-score : 0.70, auc : 0.80155\n",
      "-----------------\t\tfold 0\t\t-----------------\n",
      "acc : 0.74, precision : 0.75, recall : 0.67, f1-score : 0.70, auc : 0.80248\n",
      "-----------------\t\tfold 1\t\t-----------------\n",
      "acc : 0.73, precision : 0.74, recall : 0.66, f1-score : 0.70, auc : 0.79912\n",
      "-----------------\t\tfold 2\t\t-----------------\n",
      "acc : 0.74, precision : 0.75, recall : 0.66, f1-score : 0.70, auc : 0.80233\n",
      "-----------------\t\tfold 3\t\t-----------------\n",
      "acc : 0.73, precision : 0.75, recall : 0.64, f1-score : 0.69, auc : 0.79536\n",
      "-----------------\t\tfold 4\t\t-----------------\n",
      "acc : 0.74, precision : 0.75, recall : 0.67, f1-score : 0.71, auc : 0.80786\n",
      "-----------------\t\tfold 5\t\t-----------------\n",
      "acc : 0.74, precision : 0.75, recall : 0.66, f1-score : 0.70, auc : 0.80470\n",
      "-----------------\t\tfold 6\t\t-----------------\n",
      "acc : 0.73, precision : 0.75, recall : 0.65, f1-score : 0.70, auc : 0.80095\n",
      "-----------------\t\tfold 7\t\t-----------------\n",
      "acc : 0.74, precision : 0.74, recall : 0.67, f1-score : 0.70, auc : 0.80530\n",
      "-----------------\t\tfold 8\t\t-----------------\n",
      "acc : 0.74, precision : 0.75, recall : 0.66, f1-score : 0.71, auc : 0.81227\n",
      "-----------------\t\tfold 9\t\t-----------------\n",
      "acc : 0.73, precision : 0.75, recall : 0.65, f1-score : 0.70, auc : 0.80141\n",
      "-----------------\t\tfold 10\t\t-----------------\n",
      "acc : 0.74, precision : 0.75, recall : 0.66, f1-score : 0.70, auc : 0.80260\n",
      "-----------------\t\tfold 11\t\t-----------------\n",
      "acc : 0.74, precision : 0.75, recall : 0.66, f1-score : 0.71, auc : 0.81031\n",
      "-----------------\t\tfold 12\t\t-----------------\n",
      "acc : 0.74, precision : 0.74, recall : 0.66, f1-score : 0.70, auc : 0.80368\n",
      "-----------------\t\tfold 13\t\t-----------------\n",
      "acc : 0.73, precision : 0.74, recall : 0.65, f1-score : 0.69, auc : 0.79832\n"
     ]
    },
    {
     "name": "stderr",
     "output_type": "stream",
     "text": [
      "[I 2023-10-18 13:33:31,053] Trial 5 finished with value: 0.8032058458342665 and parameters: {'min_child_samples': 16, 'colsample_bytree': 0.947615087087528, 'learning_rate': 0.273957581686451, 'n_estimators': 800}. Best is trial 3 with value: 0.8037382636817739.\n"
     ]
    },
    {
     "name": "stdout",
     "output_type": "stream",
     "text": [
      "-----------------\t\tfold 14\t\t-----------------\n",
      "acc : 0.74, precision : 0.75, recall : 0.66, f1-score : 0.70, auc : 0.80142\n",
      "-----------------\t\tfold 0\t\t-----------------\n",
      "acc : 0.73, precision : 0.74, recall : 0.66, f1-score : 0.70, auc : 0.79944\n",
      "-----------------\t\tfold 1\t\t-----------------\n",
      "acc : 0.73, precision : 0.74, recall : 0.65, f1-score : 0.69, auc : 0.79515\n",
      "-----------------\t\tfold 2\t\t-----------------\n",
      "acc : 0.73, precision : 0.74, recall : 0.66, f1-score : 0.70, auc : 0.79860\n",
      "-----------------\t\tfold 3\t\t-----------------\n",
      "acc : 0.73, precision : 0.74, recall : 0.63, f1-score : 0.68, auc : 0.79203\n",
      "-----------------\t\tfold 4\t\t-----------------\n",
      "acc : 0.74, precision : 0.75, recall : 0.67, f1-score : 0.71, auc : 0.80479\n",
      "-----------------\t\tfold 5\t\t-----------------\n",
      "acc : 0.74, precision : 0.75, recall : 0.66, f1-score : 0.70, auc : 0.80165\n",
      "-----------------\t\tfold 6\t\t-----------------\n",
      "acc : 0.73, precision : 0.75, recall : 0.64, f1-score : 0.69, auc : 0.79729\n",
      "-----------------\t\tfold 7\t\t-----------------\n",
      "acc : 0.73, precision : 0.74, recall : 0.66, f1-score : 0.70, auc : 0.80287\n",
      "-----------------\t\tfold 8\t\t-----------------\n",
      "acc : 0.74, precision : 0.75, recall : 0.66, f1-score : 0.70, auc : 0.80711\n",
      "-----------------\t\tfold 9\t\t-----------------\n",
      "acc : 0.73, precision : 0.74, recall : 0.65, f1-score : 0.69, auc : 0.79866\n",
      "-----------------\t\tfold 10\t\t-----------------\n",
      "acc : 0.73, precision : 0.75, recall : 0.65, f1-score : 0.70, auc : 0.79868\n",
      "-----------------\t\tfold 11\t\t-----------------\n",
      "acc : 0.74, precision : 0.75, recall : 0.66, f1-score : 0.70, auc : 0.80768\n",
      "-----------------\t\tfold 12\t\t-----------------\n",
      "acc : 0.73, precision : 0.74, recall : 0.66, f1-score : 0.70, auc : 0.80122\n",
      "-----------------\t\tfold 13\t\t-----------------\n",
      "acc : 0.73, precision : 0.74, recall : 0.65, f1-score : 0.69, auc : 0.79542\n"
     ]
    },
    {
     "name": "stderr",
     "output_type": "stream",
     "text": [
      "[I 2023-10-18 13:34:02,777] Trial 6 finished with value: 0.8000444307749277 and parameters: {'min_child_samples': 65, 'colsample_bytree': 0.9240072457115966, 'learning_rate': 0.19478856057308744, 'n_estimators': 647}. Best is trial 3 with value: 0.8037382636817739.\n"
     ]
    },
    {
     "name": "stdout",
     "output_type": "stream",
     "text": [
      "-----------------\t\tfold 14\t\t-----------------\n",
      "acc : 0.73, precision : 0.74, recall : 0.65, f1-score : 0.70, auc : 0.80008\n",
      "-----------------\t\tfold 0\t\t-----------------\n",
      "acc : 0.73, precision : 0.74, recall : 0.66, f1-score : 0.70, auc : 0.79735\n",
      "-----------------\t\tfold 1\t\t-----------------\n",
      "acc : 0.73, precision : 0.74, recall : 0.65, f1-score : 0.69, auc : 0.79263\n",
      "-----------------\t\tfold 2\t\t-----------------\n",
      "acc : 0.73, precision : 0.74, recall : 0.65, f1-score : 0.69, auc : 0.79686\n",
      "-----------------\t\tfold 3\t\t-----------------\n",
      "acc : 0.73, precision : 0.74, recall : 0.63, f1-score : 0.68, auc : 0.78987\n",
      "-----------------\t\tfold 4\t\t-----------------\n",
      "acc : 0.74, precision : 0.75, recall : 0.67, f1-score : 0.71, auc : 0.80230\n",
      "-----------------\t\tfold 5\t\t-----------------\n",
      "acc : 0.73, precision : 0.75, recall : 0.65, f1-score : 0.70, auc : 0.79881\n",
      "-----------------\t\tfold 6\t\t-----------------\n",
      "acc : 0.73, precision : 0.74, recall : 0.64, f1-score : 0.69, auc : 0.79519\n",
      "-----------------\t\tfold 7\t\t-----------------\n",
      "acc : 0.73, precision : 0.74, recall : 0.65, f1-score : 0.69, auc : 0.80063\n",
      "-----------------\t\tfold 8\t\t-----------------\n",
      "acc : 0.74, precision : 0.75, recall : 0.65, f1-score : 0.70, auc : 0.80432\n",
      "-----------------\t\tfold 9\t\t-----------------\n",
      "acc : 0.73, precision : 0.74, recall : 0.65, f1-score : 0.69, auc : 0.79667\n",
      "-----------------\t\tfold 10\t\t-----------------\n",
      "acc : 0.73, precision : 0.75, recall : 0.65, f1-score : 0.69, auc : 0.79644\n",
      "-----------------\t\tfold 11\t\t-----------------\n",
      "acc : 0.74, precision : 0.75, recall : 0.65, f1-score : 0.70, auc : 0.80592\n",
      "-----------------\t\tfold 12\t\t-----------------\n",
      "acc : 0.73, precision : 0.74, recall : 0.66, f1-score : 0.70, auc : 0.79940\n",
      "-----------------\t\tfold 13\t\t-----------------\n",
      "acc : 0.73, precision : 0.74, recall : 0.65, f1-score : 0.69, auc : 0.79318\n"
     ]
    },
    {
     "name": "stderr",
     "output_type": "stream",
     "text": [
      "[I 2023-10-18 13:34:28,581] Trial 7 finished with value: 0.797775472027995 and parameters: {'min_child_samples': 56, 'colsample_bytree': 0.7906566614272591, 'learning_rate': 0.13280782227925134, 'n_estimators': 579}. Best is trial 3 with value: 0.8037382636817739.\n"
     ]
    },
    {
     "name": "stdout",
     "output_type": "stream",
     "text": [
      "-----------------\t\tfold 14\t\t-----------------\n",
      "acc : 0.73, precision : 0.74, recall : 0.65, f1-score : 0.69, auc : 0.79705\n",
      "-----------------\t\tfold 0\t\t-----------------\n",
      "acc : 0.73, precision : 0.74, recall : 0.67, f1-score : 0.70, auc : 0.79979\n",
      "-----------------\t\tfold 1\t\t-----------------\n",
      "acc : 0.73, precision : 0.74, recall : 0.65, f1-score : 0.69, auc : 0.79586\n",
      "-----------------\t\tfold 2\t\t-----------------\n",
      "acc : 0.73, precision : 0.74, recall : 0.66, f1-score : 0.70, auc : 0.80007\n",
      "-----------------\t\tfold 3\t\t-----------------\n",
      "acc : 0.73, precision : 0.74, recall : 0.63, f1-score : 0.68, auc : 0.79282\n",
      "-----------------\t\tfold 4\t\t-----------------\n",
      "acc : 0.74, precision : 0.75, recall : 0.67, f1-score : 0.71, auc : 0.80595\n",
      "-----------------\t\tfold 5\t\t-----------------\n",
      "acc : 0.74, precision : 0.75, recall : 0.66, f1-score : 0.70, auc : 0.80205\n",
      "-----------------\t\tfold 6\t\t-----------------\n",
      "acc : 0.73, precision : 0.74, recall : 0.64, f1-score : 0.69, auc : 0.79819\n",
      "-----------------\t\tfold 7\t\t-----------------\n",
      "acc : 0.73, precision : 0.74, recall : 0.66, f1-score : 0.70, auc : 0.80374\n",
      "-----------------\t\tfold 8\t\t-----------------\n",
      "acc : 0.74, precision : 0.75, recall : 0.66, f1-score : 0.70, auc : 0.80746\n",
      "-----------------\t\tfold 9\t\t-----------------\n",
      "acc : 0.73, precision : 0.75, recall : 0.65, f1-score : 0.69, auc : 0.79936\n",
      "-----------------\t\tfold 10\t\t-----------------\n",
      "acc : 0.73, precision : 0.74, recall : 0.65, f1-score : 0.70, auc : 0.79964\n",
      "-----------------\t\tfold 11\t\t-----------------\n",
      "acc : 0.74, precision : 0.75, recall : 0.66, f1-score : 0.70, auc : 0.80851\n",
      "-----------------\t\tfold 12\t\t-----------------\n",
      "acc : 0.73, precision : 0.74, recall : 0.66, f1-score : 0.70, auc : 0.80175\n",
      "-----------------\t\tfold 13\t\t-----------------\n",
      "acc : 0.73, precision : 0.74, recall : 0.65, f1-score : 0.69, auc : 0.79672\n"
     ]
    },
    {
     "name": "stderr",
     "output_type": "stream",
     "text": [
      "[I 2023-10-18 13:34:59,734] Trial 8 finished with value: 0.8007967700344886 and parameters: {'min_child_samples': 99, 'colsample_bytree': 0.8573164868755867, 'learning_rate': 0.21427563165084784, 'n_estimators': 694}. Best is trial 3 with value: 0.8037382636817739.\n"
     ]
    },
    {
     "name": "stdout",
     "output_type": "stream",
     "text": [
      "-----------------\t\tfold 14\t\t-----------------\n",
      "acc : 0.73, precision : 0.74, recall : 0.66, f1-score : 0.70, auc : 0.80003\n",
      "-----------------\t\tfold 0\t\t-----------------\n",
      "acc : 0.73, precision : 0.74, recall : 0.67, f1-score : 0.70, auc : 0.80095\n",
      "-----------------\t\tfold 1\t\t-----------------\n",
      "acc : 0.73, precision : 0.74, recall : 0.66, f1-score : 0.70, auc : 0.79766\n",
      "-----------------\t\tfold 2\t\t-----------------\n",
      "acc : 0.74, precision : 0.75, recall : 0.66, f1-score : 0.70, auc : 0.80200\n",
      "-----------------\t\tfold 3\t\t-----------------\n",
      "acc : 0.73, precision : 0.75, recall : 0.63, f1-score : 0.69, auc : 0.79363\n",
      "-----------------\t\tfold 4\t\t-----------------\n",
      "acc : 0.74, precision : 0.75, recall : 0.67, f1-score : 0.71, auc : 0.80708\n",
      "-----------------\t\tfold 5\t\t-----------------\n",
      "acc : 0.74, precision : 0.75, recall : 0.66, f1-score : 0.70, auc : 0.80339\n",
      "-----------------\t\tfold 6\t\t-----------------\n",
      "acc : 0.73, precision : 0.75, recall : 0.65, f1-score : 0.70, auc : 0.79936\n",
      "-----------------\t\tfold 7\t\t-----------------\n",
      "acc : 0.73, precision : 0.74, recall : 0.66, f1-score : 0.70, auc : 0.80536\n",
      "-----------------\t\tfold 8\t\t-----------------\n",
      "acc : 0.74, precision : 0.75, recall : 0.66, f1-score : 0.70, auc : 0.81030\n",
      "-----------------\t\tfold 9\t\t-----------------\n",
      "acc : 0.73, precision : 0.75, recall : 0.65, f1-score : 0.70, auc : 0.80002\n",
      "-----------------\t\tfold 10\t\t-----------------\n",
      "acc : 0.73, precision : 0.75, recall : 0.65, f1-score : 0.70, auc : 0.80060\n",
      "-----------------\t\tfold 11\t\t-----------------\n",
      "acc : 0.74, precision : 0.75, recall : 0.66, f1-score : 0.70, auc : 0.80920\n",
      "-----------------\t\tfold 12\t\t-----------------\n",
      "acc : 0.74, precision : 0.74, recall : 0.66, f1-score : 0.70, auc : 0.80266\n",
      "-----------------\t\tfold 13\t\t-----------------\n",
      "acc : 0.73, precision : 0.75, recall : 0.65, f1-score : 0.70, auc : 0.79706\n"
     ]
    },
    {
     "name": "stderr",
     "output_type": "stream",
     "text": [
      "[I 2023-10-18 13:35:42,682] Trial 9 finished with value: 0.8020603875581604 and parameters: {'min_child_samples': 36, 'colsample_bytree': 0.9710357039699753, 'learning_rate': 0.20174150780419203, 'n_estimators': 868}. Best is trial 3 with value: 0.8037382636817739.\n"
     ]
    },
    {
     "name": "stdout",
     "output_type": "stream",
     "text": [
      "-----------------\t\tfold 14\t\t-----------------\n",
      "acc : 0.74, precision : 0.75, recall : 0.66, f1-score : 0.70, auc : 0.80163\n",
      "-----------------\t\tfold 0\t\t-----------------\n",
      "acc : 0.74, precision : 0.75, recall : 0.67, f1-score : 0.70, auc : 0.80416\n",
      "-----------------\t\tfold 1\t\t-----------------\n",
      "acc : 0.73, precision : 0.74, recall : 0.66, f1-score : 0.70, auc : 0.79984\n",
      "-----------------\t\tfold 2\t\t-----------------\n",
      "acc : 0.74, precision : 0.75, recall : 0.66, f1-score : 0.70, auc : 0.80463\n",
      "-----------------\t\tfold 3\t\t-----------------\n",
      "acc : 0.73, precision : 0.74, recall : 0.64, f1-score : 0.69, auc : 0.79640\n",
      "-----------------\t\tfold 4\t\t-----------------\n",
      "acc : 0.74, precision : 0.75, recall : 0.67, f1-score : 0.71, auc : 0.81008\n",
      "-----------------\t\tfold 5\t\t-----------------\n",
      "acc : 0.74, precision : 0.75, recall : 0.66, f1-score : 0.70, auc : 0.80695\n",
      "-----------------\t\tfold 6\t\t-----------------\n",
      "acc : 0.73, precision : 0.75, recall : 0.65, f1-score : 0.69, auc : 0.80314\n",
      "-----------------\t\tfold 7\t\t-----------------\n",
      "acc : 0.74, precision : 0.74, recall : 0.67, f1-score : 0.70, auc : 0.80740\n",
      "-----------------\t\tfold 8\t\t-----------------\n",
      "acc : 0.74, precision : 0.76, recall : 0.66, f1-score : 0.71, auc : 0.81317\n",
      "-----------------\t\tfold 9\t\t-----------------\n",
      "acc : 0.74, precision : 0.75, recall : 0.66, f1-score : 0.70, auc : 0.80489\n",
      "-----------------\t\tfold 10\t\t-----------------\n",
      "acc : 0.73, precision : 0.75, recall : 0.65, f1-score : 0.70, auc : 0.80331\n",
      "-----------------\t\tfold 11\t\t-----------------\n",
      "acc : 0.74, precision : 0.76, recall : 0.67, f1-score : 0.71, auc : 0.81305\n",
      "-----------------\t\tfold 12\t\t-----------------\n",
      "acc : 0.74, precision : 0.75, recall : 0.67, f1-score : 0.70, auc : 0.80518\n",
      "-----------------\t\tfold 13\t\t-----------------\n",
      "acc : 0.73, precision : 0.74, recall : 0.65, f1-score : 0.70, auc : 0.80133\n"
     ]
    },
    {
     "name": "stderr",
     "output_type": "stream",
     "text": [
      "[I 2023-10-18 13:36:22,790] Trial 10 finished with value: 0.8052285296424129 and parameters: {'min_child_samples': 28, 'colsample_bytree': 0.721690263471372, 'learning_rate': 0.29458468657247655, 'n_estimators': 974}. Best is trial 10 with value: 0.8052285296424129.\n"
     ]
    },
    {
     "name": "stdout",
     "output_type": "stream",
     "text": [
      "-----------------\t\tfold 14\t\t-----------------\n",
      "acc : 0.74, precision : 0.75, recall : 0.66, f1-score : 0.70, auc : 0.80490\n",
      "-----------------\t\tfold 0\t\t-----------------\n",
      "acc : 0.74, precision : 0.74, recall : 0.67, f1-score : 0.71, auc : 0.80403\n",
      "-----------------\t\tfold 1\t\t-----------------\n",
      "acc : 0.73, precision : 0.74, recall : 0.66, f1-score : 0.70, auc : 0.80072\n",
      "-----------------\t\tfold 2\t\t-----------------\n",
      "acc : 0.74, precision : 0.75, recall : 0.66, f1-score : 0.70, auc : 0.80413\n",
      "-----------------\t\tfold 3\t\t-----------------\n",
      "acc : 0.73, precision : 0.74, recall : 0.64, f1-score : 0.69, auc : 0.79564\n",
      "-----------------\t\tfold 4\t\t-----------------\n",
      "acc : 0.74, precision : 0.75, recall : 0.68, f1-score : 0.71, auc : 0.80967\n",
      "-----------------\t\tfold 5\t\t-----------------\n",
      "acc : 0.74, precision : 0.75, recall : 0.67, f1-score : 0.70, auc : 0.80662\n",
      "-----------------\t\tfold 6\t\t-----------------\n",
      "acc : 0.73, precision : 0.75, recall : 0.65, f1-score : 0.69, auc : 0.80340\n",
      "-----------------\t\tfold 7\t\t-----------------\n",
      "acc : 0.74, precision : 0.74, recall : 0.66, f1-score : 0.70, auc : 0.80739\n",
      "-----------------\t\tfold 8\t\t-----------------\n",
      "acc : 0.74, precision : 0.76, recall : 0.66, f1-score : 0.71, auc : 0.81334\n",
      "-----------------\t\tfold 9\t\t-----------------\n",
      "acc : 0.74, precision : 0.75, recall : 0.65, f1-score : 0.70, auc : 0.80235\n",
      "-----------------\t\tfold 10\t\t-----------------\n",
      "acc : 0.73, precision : 0.75, recall : 0.66, f1-score : 0.70, auc : 0.80326\n",
      "-----------------\t\tfold 11\t\t-----------------\n",
      "acc : 0.74, precision : 0.75, recall : 0.66, f1-score : 0.71, auc : 0.81335\n",
      "-----------------\t\tfold 12\t\t-----------------\n",
      "acc : 0.74, precision : 0.74, recall : 0.67, f1-score : 0.70, auc : 0.80686\n",
      "-----------------\t\tfold 13\t\t-----------------\n",
      "acc : 0.74, precision : 0.75, recall : 0.66, f1-score : 0.70, auc : 0.80218\n"
     ]
    },
    {
     "name": "stderr",
     "output_type": "stream",
     "text": [
      "[I 2023-10-18 13:37:04,084] Trial 11 finished with value: 0.8051738256192351 and parameters: {'min_child_samples': 28, 'colsample_bytree': 0.7111330549358229, 'learning_rate': 0.29613316899034253, 'n_estimators': 997}. Best is trial 10 with value: 0.8052285296424129.\n"
     ]
    },
    {
     "name": "stdout",
     "output_type": "stream",
     "text": [
      "-----------------\t\tfold 14\t\t-----------------\n",
      "acc : 0.74, precision : 0.75, recall : 0.66, f1-score : 0.70, auc : 0.80468\n",
      "-----------------\t\tfold 0\t\t-----------------\n",
      "acc : 0.74, precision : 0.74, recall : 0.67, f1-score : 0.70, auc : 0.80443\n",
      "-----------------\t\tfold 1\t\t-----------------\n",
      "acc : 0.74, precision : 0.74, recall : 0.66, f1-score : 0.70, auc : 0.80133\n",
      "-----------------\t\tfold 2\t\t-----------------\n",
      "acc : 0.73, precision : 0.74, recall : 0.66, f1-score : 0.70, auc : 0.80470\n",
      "-----------------\t\tfold 3\t\t-----------------\n",
      "acc : 0.73, precision : 0.74, recall : 0.64, f1-score : 0.69, auc : 0.79632\n",
      "-----------------\t\tfold 4\t\t-----------------\n",
      "acc : 0.74, precision : 0.75, recall : 0.68, f1-score : 0.71, auc : 0.80938\n",
      "-----------------\t\tfold 5\t\t-----------------\n",
      "acc : 0.74, precision : 0.75, recall : 0.66, f1-score : 0.70, auc : 0.80726\n",
      "-----------------\t\tfold 6\t\t-----------------\n",
      "acc : 0.74, precision : 0.75, recall : 0.65, f1-score : 0.70, auc : 0.80308\n",
      "-----------------\t\tfold 7\t\t-----------------\n",
      "acc : 0.73, precision : 0.74, recall : 0.66, f1-score : 0.70, auc : 0.80690\n",
      "-----------------\t\tfold 8\t\t-----------------\n",
      "acc : 0.74, precision : 0.76, recall : 0.66, f1-score : 0.71, auc : 0.81327\n",
      "-----------------\t\tfold 9\t\t-----------------\n",
      "acc : 0.73, precision : 0.75, recall : 0.65, f1-score : 0.70, auc : 0.80306\n",
      "-----------------\t\tfold 10\t\t-----------------\n",
      "acc : 0.73, precision : 0.75, recall : 0.66, f1-score : 0.70, auc : 0.80346\n",
      "-----------------\t\tfold 11\t\t-----------------\n",
      "acc : 0.74, precision : 0.75, recall : 0.66, f1-score : 0.71, auc : 0.81232\n",
      "-----------------\t\tfold 12\t\t-----------------\n",
      "acc : 0.74, precision : 0.75, recall : 0.67, f1-score : 0.70, auc : 0.80603\n",
      "-----------------\t\tfold 13\t\t-----------------\n",
      "acc : 0.73, precision : 0.74, recall : 0.65, f1-score : 0.69, auc : 0.79986\n"
     ]
    },
    {
     "name": "stderr",
     "output_type": "stream",
     "text": [
      "[I 2023-10-18 13:37:46,282] Trial 12 finished with value: 0.8049319238541279 and parameters: {'min_child_samples': 25, 'colsample_bytree': 0.7023216069815389, 'learning_rate': 0.29509079187545967, 'n_estimators': 998}. Best is trial 10 with value: 0.8052285296424129.\n"
     ]
    },
    {
     "name": "stdout",
     "output_type": "stream",
     "text": [
      "-----------------\t\tfold 14\t\t-----------------\n",
      "acc : 0.73, precision : 0.74, recall : 0.66, f1-score : 0.70, auc : 0.80257\n",
      "-----------------\t\tfold 0\t\t-----------------\n",
      "acc : 0.74, precision : 0.75, recall : 0.67, f1-score : 0.70, auc : 0.80488\n",
      "-----------------\t\tfold 1\t\t-----------------\n",
      "acc : 0.74, precision : 0.75, recall : 0.66, f1-score : 0.70, auc : 0.80125\n",
      "-----------------\t\tfold 2\t\t-----------------\n",
      "acc : 0.74, precision : 0.74, recall : 0.66, f1-score : 0.70, auc : 0.80613\n",
      "-----------------\t\tfold 3\t\t-----------------\n",
      "acc : 0.73, precision : 0.74, recall : 0.63, f1-score : 0.68, auc : 0.79625\n",
      "-----------------\t\tfold 4\t\t-----------------\n",
      "acc : 0.75, precision : 0.75, recall : 0.68, f1-score : 0.71, auc : 0.81100\n",
      "-----------------\t\tfold 5\t\t-----------------\n",
      "acc : 0.74, precision : 0.75, recall : 0.66, f1-score : 0.70, auc : 0.80786\n",
      "-----------------\t\tfold 6\t\t-----------------\n",
      "acc : 0.73, precision : 0.75, recall : 0.65, f1-score : 0.69, auc : 0.80458\n",
      "-----------------\t\tfold 7\t\t-----------------\n",
      "acc : 0.74, precision : 0.74, recall : 0.66, f1-score : 0.70, auc : 0.80869\n",
      "-----------------\t\tfold 8\t\t-----------------\n",
      "acc : 0.74, precision : 0.76, recall : 0.66, f1-score : 0.70, auc : 0.81302\n",
      "-----------------\t\tfold 9\t\t-----------------\n",
      "acc : 0.74, precision : 0.75, recall : 0.66, f1-score : 0.70, auc : 0.80446\n",
      "-----------------\t\tfold 10\t\t-----------------\n",
      "acc : 0.73, precision : 0.75, recall : 0.65, f1-score : 0.70, auc : 0.80435\n",
      "-----------------\t\tfold 11\t\t-----------------\n",
      "acc : 0.74, precision : 0.75, recall : 0.66, f1-score : 0.71, auc : 0.81264\n",
      "-----------------\t\tfold 12\t\t-----------------\n",
      "acc : 0.74, precision : 0.74, recall : 0.66, f1-score : 0.70, auc : 0.80669\n",
      "-----------------\t\tfold 13\t\t-----------------\n",
      "acc : 0.73, precision : 0.75, recall : 0.65, f1-score : 0.70, auc : 0.80203\n"
     ]
    },
    {
     "name": "stderr",
     "output_type": "stream",
     "text": [
      "[I 2023-10-18 13:38:27,616] Trial 13 finished with value: 0.8059573226432913 and parameters: {'min_child_samples': 1, 'colsample_bytree': 0.7013031230861149, 'learning_rate': 0.2956406271280229, 'n_estimators': 982}. Best is trial 13 with value: 0.8059573226432913.\n"
     ]
    },
    {
     "name": "stdout",
     "output_type": "stream",
     "text": [
      "-----------------\t\tfold 14\t\t-----------------\n",
      "acc : 0.74, precision : 0.75, recall : 0.67, f1-score : 0.70, auc : 0.80552\n",
      "-----------------\t\tfold 0\t\t-----------------\n",
      "acc : 0.73, precision : 0.74, recall : 0.66, f1-score : 0.70, auc : 0.80300\n",
      "-----------------\t\tfold 1\t\t-----------------\n",
      "acc : 0.73, precision : 0.74, recall : 0.66, f1-score : 0.70, auc : 0.80005\n",
      "-----------------\t\tfold 2\t\t-----------------\n",
      "acc : 0.74, precision : 0.75, recall : 0.66, f1-score : 0.70, auc : 0.80370\n",
      "-----------------\t\tfold 3\t\t-----------------\n",
      "acc : 0.73, precision : 0.75, recall : 0.64, f1-score : 0.69, auc : 0.79445\n",
      "-----------------\t\tfold 4\t\t-----------------\n",
      "acc : 0.74, precision : 0.75, recall : 0.68, f1-score : 0.71, auc : 0.81004\n",
      "-----------------\t\tfold 5\t\t-----------------\n",
      "acc : 0.74, precision : 0.75, recall : 0.66, f1-score : 0.70, auc : 0.80557\n",
      "-----------------\t\tfold 6\t\t-----------------\n",
      "acc : 0.73, precision : 0.75, recall : 0.65, f1-score : 0.70, auc : 0.80064\n",
      "-----------------\t\tfold 7\t\t-----------------\n",
      "acc : 0.74, precision : 0.74, recall : 0.66, f1-score : 0.70, auc : 0.80631\n",
      "-----------------\t\tfold 8\t\t-----------------\n",
      "acc : 0.74, precision : 0.76, recall : 0.66, f1-score : 0.71, auc : 0.81241\n",
      "-----------------\t\tfold 9\t\t-----------------\n",
      "acc : 0.73, precision : 0.75, recall : 0.65, f1-score : 0.70, auc : 0.80276\n",
      "-----------------\t\tfold 10\t\t-----------------\n",
      "acc : 0.73, precision : 0.75, recall : 0.66, f1-score : 0.70, auc : 0.80327\n",
      "-----------------\t\tfold 11\t\t-----------------\n",
      "acc : 0.74, precision : 0.75, recall : 0.66, f1-score : 0.71, auc : 0.81064\n",
      "-----------------\t\tfold 12\t\t-----------------\n",
      "acc : 0.74, precision : 0.75, recall : 0.66, f1-score : 0.70, auc : 0.80490\n",
      "-----------------\t\tfold 13\t\t-----------------\n",
      "acc : 0.73, precision : 0.75, recall : 0.65, f1-score : 0.70, auc : 0.79876\n"
     ]
    },
    {
     "name": "stderr",
     "output_type": "stream",
     "text": [
      "[I 2023-10-18 13:39:04,991] Trial 14 finished with value: 0.8040520322886326 and parameters: {'min_child_samples': 2, 'colsample_bytree': 0.7570903317646767, 'learning_rate': 0.2560165610392945, 'n_estimators': 906}. Best is trial 13 with value: 0.8059573226432913.\n"
     ]
    },
    {
     "name": "stdout",
     "output_type": "stream",
     "text": [
      "-----------------\t\tfold 14\t\t-----------------\n",
      "acc : 0.74, precision : 0.75, recall : 0.67, f1-score : 0.70, auc : 0.80427\n",
      "-----------------\t\tfold 0\t\t-----------------\n",
      "acc : 0.74, precision : 0.74, recall : 0.66, f1-score : 0.70, auc : 0.80024\n",
      "-----------------\t\tfold 1\t\t-----------------\n",
      "acc : 0.73, precision : 0.74, recall : 0.65, f1-score : 0.69, auc : 0.79597\n",
      "-----------------\t\tfold 2\t\t-----------------\n",
      "acc : 0.73, precision : 0.74, recall : 0.65, f1-score : 0.70, auc : 0.79925\n",
      "-----------------\t\tfold 3\t\t-----------------\n",
      "acc : 0.73, precision : 0.74, recall : 0.64, f1-score : 0.69, auc : 0.79226\n",
      "-----------------\t\tfold 4\t\t-----------------\n",
      "acc : 0.74, precision : 0.75, recall : 0.67, f1-score : 0.71, auc : 0.80664\n",
      "-----------------\t\tfold 5\t\t-----------------\n",
      "acc : 0.73, precision : 0.75, recall : 0.65, f1-score : 0.70, auc : 0.80265\n",
      "-----------------\t\tfold 6\t\t-----------------\n",
      "acc : 0.73, precision : 0.74, recall : 0.64, f1-score : 0.69, auc : 0.79875\n",
      "-----------------\t\tfold 7\t\t-----------------\n",
      "acc : 0.73, precision : 0.74, recall : 0.65, f1-score : 0.69, auc : 0.80196\n",
      "-----------------\t\tfold 8\t\t-----------------\n",
      "acc : 0.74, precision : 0.75, recall : 0.66, f1-score : 0.70, auc : 0.80845\n",
      "-----------------\t\tfold 9\t\t-----------------\n",
      "acc : 0.73, precision : 0.75, recall : 0.65, f1-score : 0.70, auc : 0.79901\n",
      "-----------------\t\tfold 10\t\t-----------------\n",
      "acc : 0.73, precision : 0.75, recall : 0.65, f1-score : 0.70, auc : 0.79932\n",
      "-----------------\t\tfold 11\t\t-----------------\n",
      "acc : 0.74, precision : 0.75, recall : 0.66, f1-score : 0.70, auc : 0.80852\n",
      "-----------------\t\tfold 12\t\t-----------------\n",
      "acc : 0.74, precision : 0.74, recall : 0.66, f1-score : 0.70, auc : 0.80232\n",
      "-----------------\t\tfold 13\t\t-----------------\n",
      "acc : 0.73, precision : 0.74, recall : 0.65, f1-score : 0.69, auc : 0.79503\n"
     ]
    },
    {
     "name": "stderr",
     "output_type": "stream",
     "text": [
      "[I 2023-10-18 13:39:28,119] Trial 15 finished with value: 0.8007152559512192 and parameters: {'min_child_samples': 17, 'colsample_bytree': 0.7945499729826897, 'learning_rate': 0.2998217451684683, 'n_estimators': 500}. Best is trial 13 with value: 0.8059573226432913.\n"
     ]
    },
    {
     "name": "stdout",
     "output_type": "stream",
     "text": [
      "-----------------\t\tfold 14\t\t-----------------\n",
      "acc : 0.74, precision : 0.74, recall : 0.66, f1-score : 0.70, auc : 0.80035\n",
      "-----------------\t\tfold 0\t\t-----------------\n",
      "acc : 0.74, precision : 0.74, recall : 0.67, f1-score : 0.71, auc : 0.80441\n",
      "-----------------\t\tfold 1\t\t-----------------\n",
      "acc : 0.74, precision : 0.75, recall : 0.66, f1-score : 0.70, auc : 0.80026\n",
      "-----------------\t\tfold 2\t\t-----------------\n",
      "acc : 0.74, precision : 0.75, recall : 0.66, f1-score : 0.70, auc : 0.80341\n",
      "-----------------\t\tfold 3\t\t-----------------\n",
      "acc : 0.73, precision : 0.74, recall : 0.64, f1-score : 0.69, auc : 0.79664\n",
      "-----------------\t\tfold 4\t\t-----------------\n",
      "acc : 0.74, precision : 0.75, recall : 0.67, f1-score : 0.71, auc : 0.80833\n",
      "-----------------\t\tfold 5\t\t-----------------\n",
      "acc : 0.74, precision : 0.75, recall : 0.66, f1-score : 0.70, auc : 0.80664\n",
      "-----------------\t\tfold 6\t\t-----------------\n",
      "acc : 0.73, precision : 0.75, recall : 0.65, f1-score : 0.69, auc : 0.80190\n",
      "-----------------\t\tfold 7\t\t-----------------\n",
      "acc : 0.73, precision : 0.74, recall : 0.66, f1-score : 0.70, auc : 0.80819\n",
      "-----------------\t\tfold 8\t\t-----------------\n",
      "acc : 0.74, precision : 0.76, recall : 0.66, f1-score : 0.70, auc : 0.81327\n",
      "-----------------\t\tfold 9\t\t-----------------\n",
      "acc : 0.73, precision : 0.75, recall : 0.66, f1-score : 0.70, auc : 0.80121\n",
      "-----------------\t\tfold 10\t\t-----------------\n",
      "acc : 0.73, precision : 0.75, recall : 0.65, f1-score : 0.70, auc : 0.80298\n",
      "-----------------\t\tfold 11\t\t-----------------\n",
      "acc : 0.74, precision : 0.75, recall : 0.66, f1-score : 0.70, auc : 0.81232\n",
      "-----------------\t\tfold 12\t\t-----------------\n",
      "acc : 0.74, precision : 0.74, recall : 0.66, f1-score : 0.70, auc : 0.80692\n",
      "-----------------\t\tfold 13\t\t-----------------\n",
      "acc : 0.73, precision : 0.74, recall : 0.65, f1-score : 0.69, auc : 0.80084\n"
     ]
    },
    {
     "name": "stderr",
     "output_type": "stream",
     "text": [
      "[I 2023-10-18 13:40:07,635] Trial 16 finished with value: 0.8048256151317434 and parameters: {'min_child_samples': 1, 'colsample_bytree': 0.7468796406838064, 'learning_rate': 0.2695077987191026, 'n_estimators': 956}. Best is trial 13 with value: 0.8059573226432913.\n"
     ]
    },
    {
     "name": "stdout",
     "output_type": "stream",
     "text": [
      "-----------------\t\tfold 14\t\t-----------------\n",
      "acc : 0.74, precision : 0.75, recall : 0.66, f1-score : 0.70, auc : 0.80505\n",
      "-----------------\t\tfold 0\t\t-----------------\n",
      "acc : 0.74, precision : 0.74, recall : 0.67, f1-score : 0.70, auc : 0.80155\n",
      "-----------------\t\tfold 1\t\t-----------------\n",
      "acc : 0.73, precision : 0.74, recall : 0.66, f1-score : 0.70, auc : 0.79789\n",
      "-----------------\t\tfold 2\t\t-----------------\n",
      "acc : 0.74, precision : 0.74, recall : 0.66, f1-score : 0.70, auc : 0.80180\n",
      "-----------------\t\tfold 3\t\t-----------------\n",
      "acc : 0.73, precision : 0.74, recall : 0.64, f1-score : 0.69, auc : 0.79481\n",
      "-----------------\t\tfold 4\t\t-----------------\n",
      "acc : 0.74, precision : 0.75, recall : 0.67, f1-score : 0.71, auc : 0.80750\n",
      "-----------------\t\tfold 5\t\t-----------------\n",
      "acc : 0.74, precision : 0.75, recall : 0.66, f1-score : 0.70, auc : 0.80474\n",
      "-----------------\t\tfold 6\t\t-----------------\n",
      "acc : 0.73, precision : 0.75, recall : 0.64, f1-score : 0.69, auc : 0.79961\n",
      "-----------------\t\tfold 7\t\t-----------------\n",
      "acc : 0.73, precision : 0.74, recall : 0.66, f1-score : 0.70, auc : 0.80499\n",
      "-----------------\t\tfold 8\t\t-----------------\n",
      "acc : 0.74, precision : 0.75, recall : 0.66, f1-score : 0.70, auc : 0.80988\n",
      "-----------------\t\tfold 9\t\t-----------------\n",
      "acc : 0.73, precision : 0.75, recall : 0.65, f1-score : 0.70, auc : 0.80107\n",
      "-----------------\t\tfold 10\t\t-----------------\n",
      "acc : 0.73, precision : 0.74, recall : 0.65, f1-score : 0.70, auc : 0.80094\n",
      "-----------------\t\tfold 11\t\t-----------------\n",
      "acc : 0.74, precision : 0.75, recall : 0.66, f1-score : 0.70, auc : 0.80930\n",
      "-----------------\t\tfold 12\t\t-----------------\n",
      "acc : 0.73, precision : 0.74, recall : 0.66, f1-score : 0.70, auc : 0.80337\n",
      "-----------------\t\tfold 13\t\t-----------------\n",
      "acc : 0.73, precision : 0.74, recall : 0.66, f1-score : 0.70, auc : 0.79782\n"
     ]
    },
    {
     "name": "stderr",
     "output_type": "stream",
     "text": [
      "[I 2023-10-18 13:40:43,451] Trial 17 finished with value: 0.8025302197750632 and parameters: {'min_child_samples': 31, 'colsample_bytree': 0.814798700577785, 'learning_rate': 0.2387951262166001, 'n_estimators': 847}. Best is trial 13 with value: 0.8059573226432913.\n"
     ]
    },
    {
     "name": "stdout",
     "output_type": "stream",
     "text": [
      "-----------------\t\tfold 14\t\t-----------------\n",
      "acc : 0.74, precision : 0.75, recall : 0.66, f1-score : 0.70, auc : 0.80267\n",
      "-----------------\t\tfold 0\t\t-----------------\n",
      "acc : 0.74, precision : 0.74, recall : 0.67, f1-score : 0.70, auc : 0.80308\n",
      "-----------------\t\tfold 1\t\t-----------------\n",
      "acc : 0.73, precision : 0.74, recall : 0.66, f1-score : 0.70, auc : 0.79882\n",
      "-----------------\t\tfold 2\t\t-----------------\n",
      "acc : 0.73, precision : 0.74, recall : 0.66, f1-score : 0.70, auc : 0.80335\n",
      "-----------------\t\tfold 3\t\t-----------------\n",
      "acc : 0.73, precision : 0.75, recall : 0.64, f1-score : 0.69, auc : 0.79454\n",
      "-----------------\t\tfold 4\t\t-----------------\n",
      "acc : 0.74, precision : 0.75, recall : 0.68, f1-score : 0.71, auc : 0.80937\n",
      "-----------------\t\tfold 5\t\t-----------------\n",
      "acc : 0.74, precision : 0.75, recall : 0.66, f1-score : 0.70, auc : 0.80603\n",
      "-----------------\t\tfold 6\t\t-----------------\n",
      "acc : 0.73, precision : 0.74, recall : 0.65, f1-score : 0.69, auc : 0.80151\n",
      "-----------------\t\tfold 7\t\t-----------------\n",
      "acc : 0.74, precision : 0.75, recall : 0.66, f1-score : 0.70, auc : 0.80720\n",
      "-----------------\t\tfold 8\t\t-----------------\n",
      "acc : 0.74, precision : 0.75, recall : 0.66, f1-score : 0.71, auc : 0.81235\n",
      "-----------------\t\tfold 9\t\t-----------------\n",
      "acc : 0.73, precision : 0.75, recall : 0.65, f1-score : 0.69, auc : 0.80122\n",
      "-----------------\t\tfold 10\t\t-----------------\n",
      "acc : 0.73, precision : 0.75, recall : 0.65, f1-score : 0.70, auc : 0.80248\n",
      "-----------------\t\tfold 11\t\t-----------------\n",
      "acc : 0.74, precision : 0.76, recall : 0.66, f1-score : 0.71, auc : 0.81306\n",
      "-----------------\t\tfold 12\t\t-----------------\n",
      "acc : 0.74, precision : 0.75, recall : 0.66, f1-score : 0.70, auc : 0.80554\n",
      "-----------------\t\tfold 13\t\t-----------------\n",
      "acc : 0.73, precision : 0.74, recall : 0.66, f1-score : 0.70, auc : 0.79960\n"
     ]
    },
    {
     "name": "stderr",
     "output_type": "stream",
     "text": [
      "[I 2023-10-18 13:41:23,079] Trial 18 finished with value: 0.8041293937681593 and parameters: {'min_child_samples': 15, 'colsample_bytree': 0.7361685310519397, 'learning_rate': 0.2706366131128532, 'n_estimators': 932}. Best is trial 13 with value: 0.8059573226432913.\n"
     ]
    },
    {
     "name": "stdout",
     "output_type": "stream",
     "text": [
      "-----------------\t\tfold 14\t\t-----------------\n",
      "acc : 0.74, precision : 0.75, recall : 0.67, f1-score : 0.71, auc : 0.80378\n",
      "-----------------\t\tfold 0\t\t-----------------\n",
      "acc : 0.73, precision : 0.74, recall : 0.67, f1-score : 0.70, auc : 0.80205\n",
      "-----------------\t\tfold 1\t\t-----------------\n",
      "acc : 0.73, precision : 0.74, recall : 0.65, f1-score : 0.70, auc : 0.79750\n",
      "-----------------\t\tfold 2\t\t-----------------\n",
      "acc : 0.73, precision : 0.74, recall : 0.66, f1-score : 0.70, auc : 0.80096\n",
      "-----------------\t\tfold 3\t\t-----------------\n",
      "acc : 0.73, precision : 0.75, recall : 0.64, f1-score : 0.69, auc : 0.79330\n",
      "-----------------\t\tfold 4\t\t-----------------\n",
      "acc : 0.74, precision : 0.75, recall : 0.68, f1-score : 0.71, auc : 0.80699\n",
      "-----------------\t\tfold 5\t\t-----------------\n",
      "acc : 0.74, precision : 0.75, recall : 0.66, f1-score : 0.70, auc : 0.80436\n",
      "-----------------\t\tfold 6\t\t-----------------\n",
      "acc : 0.73, precision : 0.75, recall : 0.64, f1-score : 0.69, auc : 0.79938\n",
      "-----------------\t\tfold 7\t\t-----------------\n",
      "acc : 0.73, precision : 0.74, recall : 0.66, f1-score : 0.70, auc : 0.80518\n",
      "-----------------\t\tfold 8\t\t-----------------\n",
      "acc : 0.74, precision : 0.75, recall : 0.66, f1-score : 0.70, auc : 0.80972\n",
      "-----------------\t\tfold 9\t\t-----------------\n",
      "acc : 0.73, precision : 0.75, recall : 0.65, f1-score : 0.70, auc : 0.80069\n",
      "-----------------\t\tfold 10\t\t-----------------\n",
      "acc : 0.73, precision : 0.75, recall : 0.66, f1-score : 0.70, auc : 0.80066\n",
      "-----------------\t\tfold 11\t\t-----------------\n",
      "acc : 0.74, precision : 0.75, recall : 0.66, f1-score : 0.70, auc : 0.80899\n",
      "-----------------\t\tfold 12\t\t-----------------\n",
      "acc : 0.73, precision : 0.74, recall : 0.66, f1-score : 0.70, auc : 0.80326\n",
      "-----------------\t\tfold 13\t\t-----------------\n",
      "acc : 0.73, precision : 0.74, recall : 0.65, f1-score : 0.69, auc : 0.79690\n"
     ]
    },
    {
     "name": "stderr",
     "output_type": "stream",
     "text": [
      "[I 2023-10-18 13:41:58,371] Trial 19 finished with value: 0.802118857731714 and parameters: {'min_child_samples': 75, 'colsample_bytree': 0.7080742890417082, 'learning_rate': 0.24464330616595978, 'n_estimators': 833}. Best is trial 13 with value: 0.8059573226432913.\n"
     ]
    },
    {
     "name": "stdout",
     "output_type": "stream",
     "text": [
      "-----------------\t\tfold 14\t\t-----------------\n",
      "acc : 0.73, precision : 0.74, recall : 0.66, f1-score : 0.70, auc : 0.80186\n",
      "-----------------\t\tfold 0\t\t-----------------\n",
      "acc : 0.73, precision : 0.74, recall : 0.67, f1-score : 0.70, auc : 0.80171\n",
      "-----------------\t\tfold 1\t\t-----------------\n",
      "acc : 0.73, precision : 0.74, recall : 0.65, f1-score : 0.70, auc : 0.79778\n",
      "-----------------\t\tfold 2\t\t-----------------\n",
      "acc : 0.74, precision : 0.75, recall : 0.66, f1-score : 0.70, auc : 0.80280\n",
      "-----------------\t\tfold 3\t\t-----------------\n",
      "acc : 0.72, precision : 0.74, recall : 0.64, f1-score : 0.68, auc : 0.79360\n",
      "-----------------\t\tfold 4\t\t-----------------\n",
      "acc : 0.74, precision : 0.75, recall : 0.67, f1-score : 0.71, auc : 0.80776\n",
      "-----------------\t\tfold 5\t\t-----------------\n",
      "acc : 0.74, precision : 0.75, recall : 0.66, f1-score : 0.70, auc : 0.80456\n",
      "-----------------\t\tfold 6\t\t-----------------\n",
      "acc : 0.73, precision : 0.75, recall : 0.65, f1-score : 0.69, auc : 0.80071\n",
      "-----------------\t\tfold 7\t\t-----------------\n",
      "acc : 0.73, precision : 0.74, recall : 0.66, f1-score : 0.70, auc : 0.80526\n",
      "-----------------\t\tfold 8\t\t-----------------\n",
      "acc : 0.74, precision : 0.75, recall : 0.65, f1-score : 0.70, auc : 0.80967\n",
      "-----------------\t\tfold 9\t\t-----------------\n",
      "acc : 0.73, precision : 0.74, recall : 0.65, f1-score : 0.69, auc : 0.80082\n",
      "-----------------\t\tfold 10\t\t-----------------\n",
      "acc : 0.73, precision : 0.75, recall : 0.65, f1-score : 0.70, auc : 0.80186\n",
      "-----------------\t\tfold 11\t\t-----------------\n",
      "acc : 0.74, precision : 0.75, recall : 0.66, f1-score : 0.70, auc : 0.80977\n",
      "-----------------\t\tfold 12\t\t-----------------\n",
      "acc : 0.74, precision : 0.75, recall : 0.66, f1-score : 0.70, auc : 0.80401\n",
      "-----------------\t\tfold 13\t\t-----------------\n",
      "acc : 0.73, precision : 0.74, recall : 0.65, f1-score : 0.70, auc : 0.79798\n"
     ]
    },
    {
     "name": "stderr",
     "output_type": "stream",
     "text": [
      "[I 2023-10-18 13:42:29,879] Trial 20 finished with value: 0.802611831002524 and parameters: {'min_child_samples': 40, 'colsample_bytree': 0.766130498096935, 'learning_rate': 0.282986607766808, 'n_estimators': 741}. Best is trial 13 with value: 0.8059573226432913.\n"
     ]
    },
    {
     "name": "stdout",
     "output_type": "stream",
     "text": [
      "-----------------\t\tfold 14\t\t-----------------\n",
      "acc : 0.73, precision : 0.74, recall : 0.66, f1-score : 0.70, auc : 0.80089\n",
      "-----------------\t\tfold 0\t\t-----------------\n",
      "acc : 0.74, precision : 0.75, recall : 0.67, f1-score : 0.70, auc : 0.80385\n",
      "-----------------\t\tfold 1\t\t-----------------\n",
      "acc : 0.73, precision : 0.74, recall : 0.66, f1-score : 0.70, auc : 0.80009\n",
      "-----------------\t\tfold 2\t\t-----------------\n",
      "acc : 0.74, precision : 0.75, recall : 0.66, f1-score : 0.70, auc : 0.80462\n",
      "-----------------\t\tfold 3\t\t-----------------\n",
      "acc : 0.73, precision : 0.74, recall : 0.64, f1-score : 0.69, auc : 0.79531\n",
      "-----------------\t\tfold 4\t\t-----------------\n",
      "acc : 0.74, precision : 0.75, recall : 0.67, f1-score : 0.71, auc : 0.80968\n",
      "-----------------\t\tfold 5\t\t-----------------\n",
      "acc : 0.74, precision : 0.75, recall : 0.66, f1-score : 0.70, auc : 0.80655\n",
      "-----------------\t\tfold 6\t\t-----------------\n",
      "acc : 0.73, precision : 0.75, recall : 0.65, f1-score : 0.70, auc : 0.80275\n",
      "-----------------\t\tfold 7\t\t-----------------\n",
      "acc : 0.73, precision : 0.74, recall : 0.66, f1-score : 0.70, auc : 0.80723\n",
      "-----------------\t\tfold 8\t\t-----------------\n",
      "acc : 0.74, precision : 0.76, recall : 0.66, f1-score : 0.71, auc : 0.81353\n",
      "-----------------\t\tfold 9\t\t-----------------\n",
      "acc : 0.73, precision : 0.75, recall : 0.65, f1-score : 0.70, auc : 0.80379\n",
      "-----------------\t\tfold 10\t\t-----------------\n",
      "acc : 0.73, precision : 0.75, recall : 0.65, f1-score : 0.70, auc : 0.80428\n",
      "-----------------\t\tfold 11\t\t-----------------\n",
      "acc : 0.74, precision : 0.76, recall : 0.67, f1-score : 0.71, auc : 0.81273\n",
      "-----------------\t\tfold 12\t\t-----------------\n",
      "acc : 0.74, precision : 0.75, recall : 0.67, f1-score : 0.70, auc : 0.80584\n",
      "-----------------\t\tfold 13\t\t-----------------\n",
      "acc : 0.73, precision : 0.74, recall : 0.65, f1-score : 0.70, auc : 0.79966\n"
     ]
    },
    {
     "name": "stderr",
     "output_type": "stream",
     "text": [
      "[I 2023-10-18 13:43:11,226] Trial 21 finished with value: 0.8049542296024128 and parameters: {'min_child_samples': 25, 'colsample_bytree': 0.7201979484079521, 'learning_rate': 0.2939323134906572, 'n_estimators': 1000}. Best is trial 13 with value: 0.8059573226432913.\n"
     ]
    },
    {
     "name": "stdout",
     "output_type": "stream",
     "text": [
      "-----------------\t\tfold 14\t\t-----------------\n",
      "acc : 0.74, precision : 0.75, recall : 0.66, f1-score : 0.70, auc : 0.80440\n",
      "-----------------\t\tfold 0\t\t-----------------\n",
      "acc : 0.74, precision : 0.74, recall : 0.66, f1-score : 0.70, auc : 0.80371\n",
      "-----------------\t\tfold 1\t\t-----------------\n",
      "acc : 0.73, precision : 0.74, recall : 0.66, f1-score : 0.70, auc : 0.79959\n",
      "-----------------\t\tfold 2\t\t-----------------\n",
      "acc : 0.74, precision : 0.75, recall : 0.66, f1-score : 0.70, auc : 0.80410\n",
      "-----------------\t\tfold 3\t\t-----------------\n",
      "acc : 0.73, precision : 0.74, recall : 0.63, f1-score : 0.68, auc : 0.79609\n",
      "-----------------\t\tfold 4\t\t-----------------\n",
      "acc : 0.75, precision : 0.75, recall : 0.68, f1-score : 0.71, auc : 0.81036\n",
      "-----------------\t\tfold 5\t\t-----------------\n",
      "acc : 0.74, precision : 0.75, recall : 0.67, f1-score : 0.70, auc : 0.80628\n",
      "-----------------\t\tfold 6\t\t-----------------\n",
      "acc : 0.73, precision : 0.75, recall : 0.65, f1-score : 0.70, auc : 0.80274\n",
      "-----------------\t\tfold 7\t\t-----------------\n",
      "acc : 0.73, precision : 0.74, recall : 0.66, f1-score : 0.70, auc : 0.80756\n",
      "-----------------\t\tfold 8\t\t-----------------\n",
      "acc : 0.74, precision : 0.76, recall : 0.66, f1-score : 0.71, auc : 0.81261\n",
      "-----------------\t\tfold 9\t\t-----------------\n",
      "acc : 0.74, precision : 0.75, recall : 0.66, f1-score : 0.70, auc : 0.80364\n",
      "-----------------\t\tfold 10\t\t-----------------\n",
      "acc : 0.73, precision : 0.74, recall : 0.66, f1-score : 0.70, auc : 0.80330\n",
      "-----------------\t\tfold 11\t\t-----------------\n",
      "acc : 0.74, precision : 0.75, recall : 0.66, f1-score : 0.71, auc : 0.81177\n",
      "-----------------\t\tfold 12\t\t-----------------\n",
      "acc : 0.74, precision : 0.74, recall : 0.67, f1-score : 0.70, auc : 0.80611\n",
      "-----------------\t\tfold 13\t\t-----------------\n",
      "acc : 0.73, precision : 0.75, recall : 0.66, f1-score : 0.70, auc : 0.80091\n"
     ]
    },
    {
     "name": "stderr",
     "output_type": "stream",
     "text": [
      "[I 2023-10-18 13:43:51,233] Trial 22 finished with value: 0.8048280839317307 and parameters: {'min_child_samples': 27, 'colsample_bytree': 0.7295779654093713, 'learning_rate': 0.2961236595584845, 'n_estimators': 955}. Best is trial 13 with value: 0.8059573226432913.\n"
     ]
    },
    {
     "name": "stdout",
     "output_type": "stream",
     "text": [
      "-----------------\t\tfold 14\t\t-----------------\n",
      "acc : 0.74, precision : 0.75, recall : 0.66, f1-score : 0.70, auc : 0.80365\n",
      "-----------------\t\tfold 0\t\t-----------------\n",
      "acc : 0.73, precision : 0.74, recall : 0.67, f1-score : 0.70, auc : 0.80358\n",
      "-----------------\t\tfold 1\t\t-----------------\n",
      "acc : 0.74, precision : 0.75, recall : 0.66, f1-score : 0.70, auc : 0.80078\n",
      "-----------------\t\tfold 2\t\t-----------------\n",
      "acc : 0.74, precision : 0.74, recall : 0.66, f1-score : 0.70, auc : 0.80412\n",
      "-----------------\t\tfold 3\t\t-----------------\n",
      "acc : 0.73, precision : 0.74, recall : 0.64, f1-score : 0.69, auc : 0.79498\n",
      "-----------------\t\tfold 4\t\t-----------------\n",
      "acc : 0.74, precision : 0.75, recall : 0.67, f1-score : 0.71, auc : 0.81006\n",
      "-----------------\t\tfold 5\t\t-----------------\n",
      "acc : 0.74, precision : 0.75, recall : 0.67, f1-score : 0.71, auc : 0.80762\n",
      "-----------------\t\tfold 6\t\t-----------------\n",
      "acc : 0.73, precision : 0.75, recall : 0.65, f1-score : 0.70, auc : 0.80286\n",
      "-----------------\t\tfold 7\t\t-----------------\n",
      "acc : 0.73, precision : 0.74, recall : 0.66, f1-score : 0.70, auc : 0.80730\n",
      "-----------------\t\tfold 8\t\t-----------------\n",
      "acc : 0.74, precision : 0.76, recall : 0.66, f1-score : 0.70, auc : 0.81250\n",
      "-----------------\t\tfold 9\t\t-----------------\n",
      "acc : 0.74, precision : 0.75, recall : 0.65, f1-score : 0.70, auc : 0.80230\n",
      "-----------------\t\tfold 10\t\t-----------------\n",
      "acc : 0.74, precision : 0.75, recall : 0.66, f1-score : 0.70, auc : 0.80400\n",
      "-----------------\t\tfold 11\t\t-----------------\n",
      "acc : 0.74, precision : 0.75, recall : 0.66, f1-score : 0.70, auc : 0.81204\n",
      "-----------------\t\tfold 12\t\t-----------------\n",
      "acc : 0.74, precision : 0.75, recall : 0.66, f1-score : 0.70, auc : 0.80644\n",
      "-----------------\t\tfold 13\t\t-----------------\n",
      "acc : 0.74, precision : 0.75, recall : 0.66, f1-score : 0.70, auc : 0.80059\n"
     ]
    },
    {
     "name": "stderr",
     "output_type": "stream",
     "text": [
      "[I 2023-10-18 13:44:31,173] Trial 23 finished with value: 0.8049171280527264 and parameters: {'min_child_samples': 10, 'colsample_bytree': 0.7004821330576786, 'learning_rate': 0.2805276100707245, 'n_estimators': 969}. Best is trial 13 with value: 0.8059573226432913.\n"
     ]
    },
    {
     "name": "stdout",
     "output_type": "stream",
     "text": [
      "-----------------\t\tfold 14\t\t-----------------\n",
      "acc : 0.74, precision : 0.75, recall : 0.66, f1-score : 0.70, auc : 0.80458\n",
      "-----------------\t\tfold 0\t\t-----------------\n",
      "acc : 0.74, precision : 0.74, recall : 0.67, f1-score : 0.70, auc : 0.80295\n",
      "-----------------\t\tfold 1\t\t-----------------\n",
      "acc : 0.73, precision : 0.74, recall : 0.66, f1-score : 0.70, auc : 0.79957\n",
      "-----------------\t\tfold 2\t\t-----------------\n",
      "acc : 0.73, precision : 0.74, recall : 0.66, f1-score : 0.70, auc : 0.80428\n",
      "-----------------\t\tfold 3\t\t-----------------\n",
      "acc : 0.73, precision : 0.74, recall : 0.64, f1-score : 0.69, auc : 0.79608\n",
      "-----------------\t\tfold 4\t\t-----------------\n",
      "acc : 0.75, precision : 0.75, recall : 0.68, f1-score : 0.71, auc : 0.81017\n",
      "-----------------\t\tfold 5\t\t-----------------\n",
      "acc : 0.74, precision : 0.75, recall : 0.66, f1-score : 0.70, auc : 0.80583\n",
      "-----------------\t\tfold 6\t\t-----------------\n",
      "acc : 0.73, precision : 0.75, recall : 0.65, f1-score : 0.69, auc : 0.80267\n",
      "-----------------\t\tfold 7\t\t-----------------\n",
      "acc : 0.73, precision : 0.74, recall : 0.66, f1-score : 0.70, auc : 0.80628\n",
      "-----------------\t\tfold 8\t\t-----------------\n",
      "acc : 0.74, precision : 0.76, recall : 0.66, f1-score : 0.71, auc : 0.81427\n",
      "-----------------\t\tfold 9\t\t-----------------\n",
      "acc : 0.73, precision : 0.75, recall : 0.65, f1-score : 0.70, auc : 0.80315\n",
      "-----------------\t\tfold 10\t\t-----------------\n",
      "acc : 0.74, precision : 0.75, recall : 0.65, f1-score : 0.70, auc : 0.80370\n",
      "-----------------\t\tfold 11\t\t-----------------\n",
      "acc : 0.74, precision : 0.75, recall : 0.66, f1-score : 0.70, auc : 0.81158\n",
      "-----------------\t\tfold 12\t\t-----------------\n",
      "acc : 0.74, precision : 0.74, recall : 0.67, f1-score : 0.70, auc : 0.80515\n",
      "-----------------\t\tfold 13\t\t-----------------\n",
      "acc : 0.73, precision : 0.74, recall : 0.65, f1-score : 0.70, auc : 0.80014\n"
     ]
    },
    {
     "name": "stderr",
     "output_type": "stream",
     "text": [
      "[I 2023-10-18 13:45:08,767] Trial 24 finished with value: 0.8046405134588397 and parameters: {'min_child_samples': 21, 'colsample_bytree': 0.7304539033359408, 'learning_rate': 0.29976729582915485, 'n_estimators': 901}. Best is trial 13 with value: 0.8059573226432913.\n"
     ]
    },
    {
     "name": "stdout",
     "output_type": "stream",
     "text": [
      "-----------------\t\tfold 14\t\t-----------------\n",
      "acc : 0.74, precision : 0.75, recall : 0.66, f1-score : 0.70, auc : 0.80379\n",
      "-----------------\t\tfold 0\t\t-----------------\n",
      "acc : 0.74, precision : 0.74, recall : 0.67, f1-score : 0.70, auc : 0.80242\n",
      "-----------------\t\tfold 1\t\t-----------------\n",
      "acc : 0.73, precision : 0.75, recall : 0.66, f1-score : 0.70, auc : 0.79990\n",
      "-----------------\t\tfold 2\t\t-----------------\n",
      "acc : 0.74, precision : 0.75, recall : 0.66, f1-score : 0.70, auc : 0.80335\n",
      "-----------------\t\tfold 3\t\t-----------------\n",
      "acc : 0.73, precision : 0.74, recall : 0.64, f1-score : 0.69, auc : 0.79428\n",
      "-----------------\t\tfold 4\t\t-----------------\n",
      "acc : 0.74, precision : 0.75, recall : 0.68, f1-score : 0.71, auc : 0.80888\n",
      "-----------------\t\tfold 5\t\t-----------------\n",
      "acc : 0.74, precision : 0.75, recall : 0.66, f1-score : 0.71, auc : 0.80683\n",
      "-----------------\t\tfold 6\t\t-----------------\n",
      "acc : 0.73, precision : 0.75, recall : 0.65, f1-score : 0.69, auc : 0.80266\n",
      "-----------------\t\tfold 7\t\t-----------------\n",
      "acc : 0.74, precision : 0.74, recall : 0.66, f1-score : 0.70, auc : 0.80672\n",
      "-----------------\t\tfold 8\t\t-----------------\n",
      "acc : 0.74, precision : 0.76, recall : 0.66, f1-score : 0.71, auc : 0.81275\n",
      "-----------------\t\tfold 9\t\t-----------------\n",
      "acc : 0.73, precision : 0.75, recall : 0.66, f1-score : 0.70, auc : 0.80275\n",
      "-----------------\t\tfold 10\t\t-----------------\n",
      "acc : 0.73, precision : 0.75, recall : 0.65, f1-score : 0.70, auc : 0.80285\n",
      "-----------------\t\tfold 11\t\t-----------------\n",
      "acc : 0.74, precision : 0.76, recall : 0.66, f1-score : 0.71, auc : 0.81242\n",
      "-----------------\t\tfold 12\t\t-----------------\n",
      "acc : 0.74, precision : 0.75, recall : 0.67, f1-score : 0.70, auc : 0.80540\n",
      "-----------------\t\tfold 13\t\t-----------------\n",
      "acc : 0.73, precision : 0.74, recall : 0.66, f1-score : 0.70, auc : 0.79966\n"
     ]
    },
    {
     "name": "stderr",
     "output_type": "stream",
     "text": [
      "[I 2023-10-18 13:45:51,891] Trial 25 finished with value: 0.804207269162852 and parameters: {'min_child_samples': 31, 'colsample_bytree': 0.7641287163344752, 'learning_rate': 0.2608852368419267, 'n_estimators': 995}. Best is trial 13 with value: 0.8059573226432913.\n"
     ]
    },
    {
     "name": "stdout",
     "output_type": "stream",
     "text": [
      "-----------------\t\tfold 14\t\t-----------------\n",
      "acc : 0.74, precision : 0.75, recall : 0.66, f1-score : 0.70, auc : 0.80224\n",
      "-----------------\t\tfold 0\t\t-----------------\n",
      "acc : 0.74, precision : 0.74, recall : 0.67, f1-score : 0.70, auc : 0.80385\n",
      "-----------------\t\tfold 1\t\t-----------------\n",
      "acc : 0.73, precision : 0.74, recall : 0.66, f1-score : 0.70, auc : 0.79995\n",
      "-----------------\t\tfold 2\t\t-----------------\n",
      "acc : 0.74, precision : 0.75, recall : 0.66, f1-score : 0.70, auc : 0.80390\n",
      "-----------------\t\tfold 3\t\t-----------------\n",
      "acc : 0.73, precision : 0.74, recall : 0.64, f1-score : 0.69, auc : 0.79565\n",
      "-----------------\t\tfold 4\t\t-----------------\n",
      "acc : 0.74, precision : 0.75, recall : 0.68, f1-score : 0.71, auc : 0.80977\n",
      "-----------------\t\tfold 5\t\t-----------------\n",
      "acc : 0.74, precision : 0.75, recall : 0.66, f1-score : 0.70, auc : 0.80666\n",
      "-----------------\t\tfold 6\t\t-----------------\n",
      "acc : 0.74, precision : 0.75, recall : 0.65, f1-score : 0.70, auc : 0.80228\n",
      "-----------------\t\tfold 7\t\t-----------------\n",
      "acc : 0.73, precision : 0.74, recall : 0.66, f1-score : 0.70, auc : 0.80562\n",
      "-----------------\t\tfold 8\t\t-----------------\n",
      "acc : 0.74, precision : 0.76, recall : 0.66, f1-score : 0.70, auc : 0.81150\n",
      "-----------------\t\tfold 9\t\t-----------------\n",
      "acc : 0.73, precision : 0.74, recall : 0.66, f1-score : 0.70, auc : 0.80334\n",
      "-----------------\t\tfold 10\t\t-----------------\n",
      "acc : 0.74, precision : 0.75, recall : 0.66, f1-score : 0.70, auc : 0.80292\n",
      "-----------------\t\tfold 11\t\t-----------------\n",
      "acc : 0.74, precision : 0.75, recall : 0.67, f1-score : 0.71, auc : 0.81133\n",
      "-----------------\t\tfold 12\t\t-----------------\n",
      "acc : 0.74, precision : 0.74, recall : 0.67, f1-score : 0.70, auc : 0.80508\n",
      "-----------------\t\tfold 13\t\t-----------------\n",
      "acc : 0.73, precision : 0.74, recall : 0.66, f1-score : 0.70, auc : 0.80032\n"
     ]
    },
    {
     "name": "stderr",
     "output_type": "stream",
     "text": [
      "[I 2023-10-18 13:46:30,701] Trial 26 finished with value: 0.8043819545719991 and parameters: {'min_child_samples': 51, 'colsample_bytree': 0.7203565389724178, 'learning_rate': 0.2808280318573597, 'n_estimators': 929}. Best is trial 13 with value: 0.8059573226432913.\n"
     ]
    },
    {
     "name": "stdout",
     "output_type": "stream",
     "text": [
      "-----------------\t\tfold 14\t\t-----------------\n",
      "acc : 0.74, precision : 0.75, recall : 0.66, f1-score : 0.70, auc : 0.80355\n",
      "-----------------\t\tfold 0\t\t-----------------\n",
      "acc : 0.74, precision : 0.74, recall : 0.67, f1-score : 0.70, auc : 0.80299\n",
      "-----------------\t\tfold 1\t\t-----------------\n",
      "acc : 0.73, precision : 0.74, recall : 0.66, f1-score : 0.70, auc : 0.79892\n",
      "-----------------\t\tfold 2\t\t-----------------\n",
      "acc : 0.74, precision : 0.75, recall : 0.67, f1-score : 0.70, auc : 0.80333\n",
      "-----------------\t\tfold 3\t\t-----------------\n",
      "acc : 0.73, precision : 0.74, recall : 0.64, f1-score : 0.68, auc : 0.79511\n",
      "-----------------\t\tfold 4\t\t-----------------\n",
      "acc : 0.74, precision : 0.75, recall : 0.67, f1-score : 0.71, auc : 0.80848\n",
      "-----------------\t\tfold 5\t\t-----------------\n",
      "acc : 0.74, precision : 0.75, recall : 0.66, f1-score : 0.70, auc : 0.80608\n",
      "-----------------\t\tfold 6\t\t-----------------\n",
      "acc : 0.73, precision : 0.75, recall : 0.65, f1-score : 0.69, auc : 0.80111\n",
      "-----------------\t\tfold 7\t\t-----------------\n",
      "acc : 0.74, precision : 0.75, recall : 0.66, f1-score : 0.70, auc : 0.80706\n",
      "-----------------\t\tfold 8\t\t-----------------\n",
      "acc : 0.74, precision : 0.76, recall : 0.66, f1-score : 0.71, auc : 0.81207\n",
      "-----------------\t\tfold 9\t\t-----------------\n",
      "acc : 0.73, precision : 0.74, recall : 0.65, f1-score : 0.70, auc : 0.80131\n",
      "-----------------\t\tfold 10\t\t-----------------\n",
      "acc : 0.73, precision : 0.75, recall : 0.65, f1-score : 0.70, auc : 0.80372\n",
      "-----------------\t\tfold 11\t\t-----------------\n",
      "acc : 0.74, precision : 0.75, recall : 0.66, f1-score : 0.70, auc : 0.81128\n",
      "-----------------\t\tfold 12\t\t-----------------\n",
      "acc : 0.74, precision : 0.74, recall : 0.67, f1-score : 0.70, auc : 0.80413\n",
      "-----------------\t\tfold 13\t\t-----------------\n",
      "acc : 0.73, precision : 0.74, recall : 0.65, f1-score : 0.70, auc : 0.80023\n"
     ]
    },
    {
     "name": "stderr",
     "output_type": "stream",
     "text": [
      "[I 2023-10-18 13:47:07,999] Trial 27 finished with value: 0.8039616081209844 and parameters: {'min_child_samples': 10, 'colsample_bytree': 0.7421431471229686, 'learning_rate': 0.2626194187105712, 'n_estimators': 881}. Best is trial 13 with value: 0.8059573226432913.\n"
     ]
    },
    {
     "name": "stdout",
     "output_type": "stream",
     "text": [
      "-----------------\t\tfold 14\t\t-----------------\n",
      "acc : 0.74, precision : 0.75, recall : 0.66, f1-score : 0.70, auc : 0.80361\n",
      "-----------------\t\tfold 0\t\t-----------------\n",
      "acc : 0.74, precision : 0.74, recall : 0.67, f1-score : 0.70, auc : 0.80300\n",
      "-----------------\t\tfold 1\t\t-----------------\n",
      "acc : 0.73, precision : 0.74, recall : 0.66, f1-score : 0.70, auc : 0.80026\n",
      "-----------------\t\tfold 2\t\t-----------------\n",
      "acc : 0.74, precision : 0.75, recall : 0.66, f1-score : 0.70, auc : 0.80402\n",
      "-----------------\t\tfold 3\t\t-----------------\n",
      "acc : 0.73, precision : 0.74, recall : 0.64, f1-score : 0.69, auc : 0.79600\n",
      "-----------------\t\tfold 4\t\t-----------------\n",
      "acc : 0.74, precision : 0.75, recall : 0.68, f1-score : 0.71, auc : 0.80917\n",
      "-----------------\t\tfold 5\t\t-----------------\n",
      "acc : 0.74, precision : 0.75, recall : 0.66, f1-score : 0.70, auc : 0.80650\n",
      "-----------------\t\tfold 6\t\t-----------------\n",
      "acc : 0.73, precision : 0.75, recall : 0.65, f1-score : 0.69, auc : 0.80189\n",
      "-----------------\t\tfold 7\t\t-----------------\n",
      "acc : 0.73, precision : 0.74, recall : 0.66, f1-score : 0.70, auc : 0.80674\n",
      "-----------------\t\tfold 8\t\t-----------------\n",
      "acc : 0.74, precision : 0.76, recall : 0.66, f1-score : 0.70, auc : 0.81203\n",
      "-----------------\t\tfold 9\t\t-----------------\n",
      "acc : 0.73, precision : 0.75, recall : 0.65, f1-score : 0.70, auc : 0.80161\n",
      "-----------------\t\tfold 10\t\t-----------------\n",
      "acc : 0.73, precision : 0.75, recall : 0.66, f1-score : 0.70, auc : 0.80215\n",
      "-----------------\t\tfold 11\t\t-----------------\n",
      "acc : 0.74, precision : 0.75, recall : 0.66, f1-score : 0.70, auc : 0.81172\n",
      "-----------------\t\tfold 12\t\t-----------------\n",
      "acc : 0.74, precision : 0.74, recall : 0.66, f1-score : 0.70, auc : 0.80443\n",
      "-----------------\t\tfold 13\t\t-----------------\n",
      "acc : 0.73, precision : 0.74, recall : 0.66, f1-score : 0.70, auc : 0.80001\n"
     ]
    },
    {
     "name": "stderr",
     "output_type": "stream",
     "text": [
      "[I 2023-10-18 13:47:47,990] Trial 28 finished with value: 0.804253273430138 and parameters: {'min_child_samples': 39, 'colsample_bytree': 0.7047921147194156, 'learning_rate': 0.27954155756513194, 'n_estimators': 954}. Best is trial 13 with value: 0.8059573226432913.\n"
     ]
    },
    {
     "name": "stdout",
     "output_type": "stream",
     "text": [
      "-----------------\t\tfold 14\t\t-----------------\n",
      "acc : 0.74, precision : 0.74, recall : 0.66, f1-score : 0.70, auc : 0.80426\n",
      "-----------------\t\tfold 0\t\t-----------------\n",
      "acc : 0.73, precision : 0.74, recall : 0.67, f1-score : 0.70, auc : 0.80281\n",
      "-----------------\t\tfold 1\t\t-----------------\n",
      "acc : 0.73, precision : 0.74, recall : 0.66, f1-score : 0.70, auc : 0.79829\n",
      "-----------------\t\tfold 2\t\t-----------------\n",
      "acc : 0.74, precision : 0.75, recall : 0.66, f1-score : 0.70, auc : 0.80358\n",
      "-----------------\t\tfold 3\t\t-----------------\n",
      "acc : 0.73, precision : 0.74, recall : 0.64, f1-score : 0.69, auc : 0.79382\n",
      "-----------------\t\tfold 4\t\t-----------------\n",
      "acc : 0.74, precision : 0.75, recall : 0.67, f1-score : 0.71, auc : 0.80923\n",
      "-----------------\t\tfold 5\t\t-----------------\n",
      "acc : 0.74, precision : 0.75, recall : 0.66, f1-score : 0.70, auc : 0.80588\n",
      "-----------------\t\tfold 6\t\t-----------------\n",
      "acc : 0.73, precision : 0.75, recall : 0.65, f1-score : 0.70, auc : 0.80138\n",
      "-----------------\t\tfold 7\t\t-----------------\n",
      "acc : 0.73, precision : 0.74, recall : 0.66, f1-score : 0.70, auc : 0.80584\n",
      "-----------------\t\tfold 8\t\t-----------------\n",
      "acc : 0.74, precision : 0.75, recall : 0.66, f1-score : 0.70, auc : 0.81100\n",
      "-----------------\t\tfold 9\t\t-----------------\n",
      "acc : 0.73, precision : 0.75, recall : 0.65, f1-score : 0.70, auc : 0.80179\n",
      "-----------------\t\tfold 10\t\t-----------------\n",
      "acc : 0.73, precision : 0.75, recall : 0.66, f1-score : 0.70, auc : 0.80201\n",
      "-----------------\t\tfold 11\t\t-----------------\n",
      "acc : 0.74, precision : 0.75, recall : 0.66, f1-score : 0.70, auc : 0.81100\n",
      "-----------------\t\tfold 12\t\t-----------------\n",
      "acc : 0.73, precision : 0.74, recall : 0.66, f1-score : 0.70, auc : 0.80453\n",
      "-----------------\t\tfold 13\t\t-----------------\n",
      "acc : 0.73, precision : 0.75, recall : 0.66, f1-score : 0.70, auc : 0.79981\n"
     ]
    },
    {
     "name": "stderr",
     "output_type": "stream",
     "text": [
      "[I 2023-10-18 13:48:27,203] Trial 29 finished with value: 0.8035669347932931 and parameters: {'min_child_samples': 44, 'colsample_bytree': 0.7699936843778872, 'learning_rate': 0.24976968906255434, 'n_estimators': 926}. Best is trial 13 with value: 0.8059573226432913.\n"
     ]
    },
    {
     "name": "stdout",
     "output_type": "stream",
     "text": [
      "-----------------\t\tfold 14\t\t-----------------\n",
      "acc : 0.74, precision : 0.75, recall : 0.66, f1-score : 0.70, auc : 0.80255\n",
      "-----------------\t\tfold 0\t\t-----------------\n",
      "acc : 0.74, precision : 0.74, recall : 0.67, f1-score : 0.70, auc : 0.80098\n",
      "-----------------\t\tfold 1\t\t-----------------\n",
      "acc : 0.73, precision : 0.74, recall : 0.65, f1-score : 0.70, auc : 0.79727\n",
      "-----------------\t\tfold 2\t\t-----------------\n",
      "acc : 0.74, precision : 0.74, recall : 0.66, f1-score : 0.70, auc : 0.80112\n",
      "-----------------\t\tfold 3\t\t-----------------\n",
      "acc : 0.73, precision : 0.74, recall : 0.64, f1-score : 0.69, auc : 0.79346\n",
      "-----------------\t\tfold 4\t\t-----------------\n",
      "acc : 0.74, precision : 0.75, recall : 0.67, f1-score : 0.71, auc : 0.80622\n",
      "-----------------\t\tfold 5\t\t-----------------\n",
      "acc : 0.74, precision : 0.75, recall : 0.66, f1-score : 0.70, auc : 0.80468\n",
      "-----------------\t\tfold 6\t\t-----------------\n",
      "acc : 0.73, precision : 0.75, recall : 0.64, f1-score : 0.69, auc : 0.79968\n",
      "-----------------\t\tfold 7\t\t-----------------\n",
      "acc : 0.73, precision : 0.74, recall : 0.66, f1-score : 0.70, auc : 0.80494\n",
      "-----------------\t\tfold 8\t\t-----------------\n",
      "acc : 0.74, precision : 0.75, recall : 0.66, f1-score : 0.70, auc : 0.80949\n",
      "-----------------\t\tfold 9\t\t-----------------\n",
      "acc : 0.73, precision : 0.75, recall : 0.65, f1-score : 0.69, auc : 0.79959\n",
      "-----------------\t\tfold 10\t\t-----------------\n",
      "acc : 0.73, precision : 0.75, recall : 0.65, f1-score : 0.70, auc : 0.80022\n",
      "-----------------\t\tfold 11\t\t-----------------\n",
      "acc : 0.74, precision : 0.75, recall : 0.66, f1-score : 0.70, auc : 0.80914\n",
      "-----------------\t\tfold 12\t\t-----------------\n",
      "acc : 0.73, precision : 0.74, recall : 0.66, f1-score : 0.70, auc : 0.80327\n",
      "-----------------\t\tfold 13\t\t-----------------\n",
      "acc : 0.73, precision : 0.74, recall : 0.65, f1-score : 0.69, auc : 0.79680\n"
     ]
    },
    {
     "name": "stderr",
     "output_type": "stream",
     "text": [
      "[I 2023-10-18 13:49:01,601] Trial 30 finished with value: 0.8018695841277349 and parameters: {'min_child_samples': 31, 'colsample_bytree': 0.7429101766230033, 'learning_rate': 0.2309467426906313, 'n_estimators': 818}. Best is trial 13 with value: 0.8059573226432913.\n"
     ]
    },
    {
     "name": "stdout",
     "output_type": "stream",
     "text": [
      "-----------------\t\tfold 14\t\t-----------------\n",
      "acc : 0.74, precision : 0.75, recall : 0.66, f1-score : 0.70, auc : 0.80117\n",
      "-----------------\t\tfold 0\t\t-----------------\n",
      "acc : 0.74, precision : 0.74, recall : 0.67, f1-score : 0.70, auc : 0.80432\n",
      "-----------------\t\tfold 1\t\t-----------------\n",
      "acc : 0.74, precision : 0.75, recall : 0.66, f1-score : 0.70, auc : 0.80116\n",
      "-----------------\t\tfold 2\t\t-----------------\n",
      "acc : 0.74, precision : 0.75, recall : 0.66, f1-score : 0.70, auc : 0.80423\n",
      "-----------------\t\tfold 3\t\t-----------------\n",
      "acc : 0.73, precision : 0.74, recall : 0.64, f1-score : 0.69, auc : 0.79608\n",
      "-----------------\t\tfold 4\t\t-----------------\n",
      "acc : 0.75, precision : 0.76, recall : 0.68, f1-score : 0.72, auc : 0.81072\n",
      "-----------------\t\tfold 5\t\t-----------------\n",
      "acc : 0.74, precision : 0.75, recall : 0.67, f1-score : 0.70, auc : 0.80756\n",
      "-----------------\t\tfold 6\t\t-----------------\n",
      "acc : 0.74, precision : 0.75, recall : 0.65, f1-score : 0.70, auc : 0.80281\n",
      "-----------------\t\tfold 7\t\t-----------------\n",
      "acc : 0.73, precision : 0.74, recall : 0.66, f1-score : 0.70, auc : 0.80812\n",
      "-----------------\t\tfold 8\t\t-----------------\n",
      "acc : 0.74, precision : 0.75, recall : 0.66, f1-score : 0.70, auc : 0.81293\n",
      "-----------------\t\tfold 9\t\t-----------------\n",
      "acc : 0.73, precision : 0.75, recall : 0.66, f1-score : 0.70, auc : 0.80340\n",
      "-----------------\t\tfold 10\t\t-----------------\n",
      "acc : 0.74, precision : 0.75, recall : 0.66, f1-score : 0.70, auc : 0.80345\n",
      "-----------------\t\tfold 11\t\t-----------------\n",
      "acc : 0.74, precision : 0.75, recall : 0.66, f1-score : 0.71, auc : 0.81221\n",
      "-----------------\t\tfold 12\t\t-----------------\n",
      "acc : 0.74, precision : 0.75, recall : 0.67, f1-score : 0.70, auc : 0.80611\n",
      "-----------------\t\tfold 13\t\t-----------------\n",
      "acc : 0.73, precision : 0.74, recall : 0.66, f1-score : 0.70, auc : 0.80100\n"
     ]
    },
    {
     "name": "stderr",
     "output_type": "stream",
     "text": [
      "[I 2023-10-18 13:49:43,068] Trial 31 finished with value: 0.8052264988783188 and parameters: {'min_child_samples': 24, 'colsample_bytree': 0.7180471597611658, 'learning_rate': 0.2893990820797321, 'n_estimators': 987}. Best is trial 13 with value: 0.8059573226432913.\n"
     ]
    },
    {
     "name": "stdout",
     "output_type": "stream",
     "text": [
      "-----------------\t\tfold 14\t\t-----------------\n",
      "acc : 0.74, precision : 0.75, recall : 0.66, f1-score : 0.70, auc : 0.80427\n",
      "-----------------\t\tfold 0\t\t-----------------\n",
      "acc : 0.74, precision : 0.75, recall : 0.67, f1-score : 0.70, auc : 0.80414\n",
      "-----------------\t\tfold 1\t\t-----------------\n",
      "acc : 0.74, precision : 0.74, recall : 0.66, f1-score : 0.70, auc : 0.80104\n",
      "-----------------\t\tfold 2\t\t-----------------\n",
      "acc : 0.73, precision : 0.74, recall : 0.66, f1-score : 0.70, auc : 0.80381\n",
      "-----------------\t\tfold 3\t\t-----------------\n",
      "acc : 0.73, precision : 0.75, recall : 0.64, f1-score : 0.69, auc : 0.79615\n",
      "-----------------\t\tfold 4\t\t-----------------\n",
      "acc : 0.74, precision : 0.75, recall : 0.67, f1-score : 0.71, auc : 0.81041\n",
      "-----------------\t\tfold 5\t\t-----------------\n",
      "acc : 0.74, precision : 0.75, recall : 0.66, f1-score : 0.70, auc : 0.80727\n",
      "-----------------\t\tfold 6\t\t-----------------\n",
      "acc : 0.73, precision : 0.75, recall : 0.64, f1-score : 0.69, auc : 0.80230\n",
      "-----------------\t\tfold 7\t\t-----------------\n",
      "acc : 0.73, precision : 0.74, recall : 0.66, f1-score : 0.70, auc : 0.80782\n",
      "-----------------\t\tfold 8\t\t-----------------\n",
      "acc : 0.74, precision : 0.76, recall : 0.66, f1-score : 0.70, auc : 0.81241\n",
      "-----------------\t\tfold 9\t\t-----------------\n",
      "acc : 0.74, precision : 0.75, recall : 0.66, f1-score : 0.70, auc : 0.80334\n",
      "-----------------\t\tfold 10\t\t-----------------\n",
      "acc : 0.74, precision : 0.75, recall : 0.66, f1-score : 0.70, auc : 0.80306\n",
      "-----------------\t\tfold 11\t\t-----------------\n",
      "acc : 0.74, precision : 0.75, recall : 0.67, f1-score : 0.71, auc : 0.81277\n",
      "-----------------\t\tfold 12\t\t-----------------\n",
      "acc : 0.74, precision : 0.74, recall : 0.67, f1-score : 0.70, auc : 0.80578\n",
      "-----------------\t\tfold 13\t\t-----------------\n",
      "acc : 0.74, precision : 0.75, recall : 0.66, f1-score : 0.70, auc : 0.80176\n"
     ]
    },
    {
     "name": "stderr",
     "output_type": "stream",
     "text": [
      "[I 2023-10-18 13:50:23,450] Trial 32 finished with value: 0.8051175419605131 and parameters: {'min_child_samples': 21, 'colsample_bytree': 0.7193553302155956, 'learning_rate': 0.28908563144792015, 'n_estimators': 972}. Best is trial 13 with value: 0.8059573226432913.\n"
     ]
    },
    {
     "name": "stdout",
     "output_type": "stream",
     "text": [
      "-----------------\t\tfold 14\t\t-----------------\n",
      "acc : 0.74, precision : 0.75, recall : 0.67, f1-score : 0.70, auc : 0.80469\n",
      "-----------------\t\tfold 0\t\t-----------------\n",
      "acc : 0.74, precision : 0.75, recall : 0.67, f1-score : 0.71, auc : 0.80496\n",
      "-----------------\t\tfold 1\t\t-----------------\n",
      "acc : 0.73, precision : 0.75, recall : 0.66, f1-score : 0.70, auc : 0.80082\n",
      "-----------------\t\tfold 2\t\t-----------------\n",
      "acc : 0.74, precision : 0.74, recall : 0.67, f1-score : 0.70, auc : 0.80423\n",
      "-----------------\t\tfold 3\t\t-----------------\n",
      "acc : 0.73, precision : 0.74, recall : 0.64, f1-score : 0.69, auc : 0.79686\n",
      "-----------------\t\tfold 4\t\t-----------------\n",
      "acc : 0.74, precision : 0.75, recall : 0.67, f1-score : 0.71, auc : 0.81020\n",
      "-----------------\t\tfold 5\t\t-----------------\n",
      "acc : 0.74, precision : 0.75, recall : 0.66, f1-score : 0.71, auc : 0.80665\n",
      "-----------------\t\tfold 6\t\t-----------------\n",
      "acc : 0.73, precision : 0.75, recall : 0.65, f1-score : 0.69, auc : 0.80311\n",
      "-----------------\t\tfold 7\t\t-----------------\n",
      "acc : 0.73, precision : 0.74, recall : 0.66, f1-score : 0.70, auc : 0.80739\n",
      "-----------------\t\tfold 8\t\t-----------------\n",
      "acc : 0.74, precision : 0.75, recall : 0.66, f1-score : 0.70, auc : 0.81355\n",
      "-----------------\t\tfold 9\t\t-----------------\n",
      "acc : 0.73, precision : 0.75, recall : 0.65, f1-score : 0.70, auc : 0.80233\n",
      "-----------------\t\tfold 10\t\t-----------------\n",
      "acc : 0.74, precision : 0.75, recall : 0.66, f1-score : 0.70, auc : 0.80422\n",
      "-----------------\t\tfold 11\t\t-----------------\n",
      "acc : 0.74, precision : 0.75, recall : 0.66, f1-score : 0.71, auc : 0.81365\n",
      "-----------------\t\tfold 12\t\t-----------------\n",
      "acc : 0.74, precision : 0.75, recall : 0.67, f1-score : 0.70, auc : 0.80703\n",
      "-----------------\t\tfold 13\t\t-----------------\n",
      "acc : 0.73, precision : 0.75, recall : 0.66, f1-score : 0.70, auc : 0.80082\n"
     ]
    },
    {
     "name": "stderr",
     "output_type": "stream",
     "text": [
      "[I 2023-10-18 13:51:04,244] Trial 33 finished with value: 0.8053133185698386 and parameters: {'min_child_samples': 9, 'colsample_bytree': 0.7000649570701558, 'learning_rate': 0.28613647579551077, 'n_estimators': 978}. Best is trial 13 with value: 0.8059573226432913.\n"
     ]
    },
    {
     "name": "stdout",
     "output_type": "stream",
     "text": [
      "-----------------\t\tfold 14\t\t-----------------\n",
      "acc : 0.74, precision : 0.75, recall : 0.66, f1-score : 0.70, auc : 0.80389\n",
      "-----------------\t\tfold 0\t\t-----------------\n",
      "acc : 0.74, precision : 0.74, recall : 0.67, f1-score : 0.70, auc : 0.80249\n",
      "-----------------\t\tfold 1\t\t-----------------\n",
      "acc : 0.73, precision : 0.74, recall : 0.66, f1-score : 0.70, auc : 0.79950\n",
      "-----------------\t\tfold 2\t\t-----------------\n",
      "acc : 0.74, precision : 0.74, recall : 0.66, f1-score : 0.70, auc : 0.80287\n",
      "-----------------\t\tfold 3\t\t-----------------\n",
      "acc : 0.73, precision : 0.74, recall : 0.64, f1-score : 0.69, auc : 0.79422\n",
      "-----------------\t\tfold 4\t\t-----------------\n",
      "acc : 0.74, precision : 0.75, recall : 0.67, f1-score : 0.71, auc : 0.80923\n",
      "-----------------\t\tfold 5\t\t-----------------\n",
      "acc : 0.74, precision : 0.75, recall : 0.66, f1-score : 0.70, auc : 0.80477\n",
      "-----------------\t\tfold 6\t\t-----------------\n",
      "acc : 0.73, precision : 0.75, recall : 0.65, f1-score : 0.69, auc : 0.80096\n",
      "-----------------\t\tfold 7\t\t-----------------\n",
      "acc : 0.73, precision : 0.74, recall : 0.66, f1-score : 0.70, auc : 0.80708\n",
      "-----------------\t\tfold 8\t\t-----------------\n",
      "acc : 0.74, precision : 0.76, recall : 0.66, f1-score : 0.70, auc : 0.81176\n",
      "-----------------\t\tfold 9\t\t-----------------\n",
      "acc : 0.73, precision : 0.75, recall : 0.65, f1-score : 0.70, auc : 0.80219\n",
      "-----------------\t\tfold 10\t\t-----------------\n",
      "acc : 0.74, precision : 0.75, recall : 0.66, f1-score : 0.70, auc : 0.80296\n",
      "-----------------\t\tfold 11\t\t-----------------\n",
      "acc : 0.74, precision : 0.75, recall : 0.66, f1-score : 0.70, auc : 0.81151\n",
      "-----------------\t\tfold 12\t\t-----------------\n",
      "acc : 0.74, precision : 0.74, recall : 0.67, f1-score : 0.70, auc : 0.80485\n",
      "-----------------\t\tfold 13\t\t-----------------\n",
      "acc : 0.73, precision : 0.75, recall : 0.65, f1-score : 0.70, auc : 0.79917\n"
     ]
    },
    {
     "name": "stderr",
     "output_type": "stream",
     "text": [
      "[I 2023-10-18 13:51:40,898] Trial 34 finished with value: 0.8038267616517714 and parameters: {'min_child_samples': 6, 'colsample_bytree': 0.7285403014267324, 'learning_rate': 0.26814465486223776, 'n_estimators': 865}. Best is trial 13 with value: 0.8059573226432913.\n"
     ]
    },
    {
     "name": "stdout",
     "output_type": "stream",
     "text": [
      "-----------------\t\tfold 14\t\t-----------------\n",
      "acc : 0.74, precision : 0.75, recall : 0.66, f1-score : 0.70, auc : 0.80383\n",
      "-----------------\t\tfold 0\t\t-----------------\n",
      "acc : 0.74, precision : 0.74, recall : 0.67, f1-score : 0.70, auc : 0.80364\n",
      "-----------------\t\tfold 1\t\t-----------------\n",
      "acc : 0.73, precision : 0.74, recall : 0.66, f1-score : 0.70, auc : 0.79968\n",
      "-----------------\t\tfold 2\t\t-----------------\n",
      "acc : 0.73, precision : 0.74, recall : 0.66, f1-score : 0.70, auc : 0.80423\n",
      "-----------------\t\tfold 3\t\t-----------------\n",
      "acc : 0.73, precision : 0.74, recall : 0.64, f1-score : 0.69, auc : 0.79549\n",
      "-----------------\t\tfold 4\t\t-----------------\n",
      "acc : 0.74, precision : 0.75, recall : 0.68, f1-score : 0.71, auc : 0.80882\n",
      "-----------------\t\tfold 5\t\t-----------------\n",
      "acc : 0.74, precision : 0.75, recall : 0.66, f1-score : 0.70, auc : 0.80625\n",
      "-----------------\t\tfold 6\t\t-----------------\n",
      "acc : 0.73, precision : 0.75, recall : 0.65, f1-score : 0.69, auc : 0.80214\n",
      "-----------------\t\tfold 7\t\t-----------------\n",
      "acc : 0.74, precision : 0.75, recall : 0.66, f1-score : 0.70, auc : 0.80890\n",
      "-----------------\t\tfold 8\t\t-----------------\n",
      "acc : 0.74, precision : 0.75, recall : 0.66, f1-score : 0.70, auc : 0.81267\n",
      "-----------------\t\tfold 9\t\t-----------------\n",
      "acc : 0.73, precision : 0.75, recall : 0.65, f1-score : 0.70, auc : 0.80335\n",
      "-----------------\t\tfold 10\t\t-----------------\n",
      "acc : 0.74, precision : 0.75, recall : 0.65, f1-score : 0.70, auc : 0.80293\n",
      "-----------------\t\tfold 11\t\t-----------------\n",
      "acc : 0.74, precision : 0.75, recall : 0.66, f1-score : 0.70, auc : 0.81217\n",
      "-----------------\t\tfold 12\t\t-----------------\n",
      "acc : 0.73, precision : 0.74, recall : 0.66, f1-score : 0.70, auc : 0.80468\n",
      "-----------------\t\tfold 13\t\t-----------------\n",
      "acc : 0.73, precision : 0.75, recall : 0.66, f1-score : 0.70, auc : 0.80026\n"
     ]
    },
    {
     "name": "stderr",
     "output_type": "stream",
     "text": [
      "[I 2023-10-18 13:52:19,128] Trial 35 finished with value: 0.8046808537563852 and parameters: {'min_child_samples': 7, 'colsample_bytree': 0.7016964632059635, 'learning_rate': 0.28601748544852096, 'n_estimators': 932}. Best is trial 13 with value: 0.8059573226432913.\n"
     ]
    },
    {
     "name": "stdout",
     "output_type": "stream",
     "text": [
      "-----------------\t\tfold 14\t\t-----------------\n",
      "acc : 0.74, precision : 0.75, recall : 0.66, f1-score : 0.70, auc : 0.80501\n",
      "-----------------\t\tfold 0\t\t-----------------\n",
      "acc : 0.74, precision : 0.74, recall : 0.67, f1-score : 0.71, auc : 0.80419\n",
      "-----------------\t\tfold 1\t\t-----------------\n",
      "acc : 0.73, precision : 0.74, recall : 0.66, f1-score : 0.70, auc : 0.79917\n",
      "-----------------\t\tfold 2\t\t-----------------\n",
      "acc : 0.74, precision : 0.75, recall : 0.66, f1-score : 0.70, auc : 0.80379\n",
      "-----------------\t\tfold 3\t\t-----------------\n",
      "acc : 0.73, precision : 0.74, recall : 0.64, f1-score : 0.69, auc : 0.79657\n",
      "-----------------\t\tfold 4\t\t-----------------\n",
      "acc : 0.75, precision : 0.75, recall : 0.68, f1-score : 0.71, auc : 0.80996\n",
      "-----------------\t\tfold 5\t\t-----------------\n",
      "acc : 0.74, precision : 0.75, recall : 0.66, f1-score : 0.70, auc : 0.80681\n",
      "-----------------\t\tfold 6\t\t-----------------\n",
      "acc : 0.74, precision : 0.75, recall : 0.65, f1-score : 0.70, auc : 0.80202\n",
      "-----------------\t\tfold 7\t\t-----------------\n",
      "acc : 0.74, precision : 0.75, recall : 0.66, f1-score : 0.70, auc : 0.80679\n",
      "-----------------\t\tfold 8\t\t-----------------\n",
      "acc : 0.74, precision : 0.75, recall : 0.66, f1-score : 0.70, auc : 0.81184\n",
      "-----------------\t\tfold 9\t\t-----------------\n",
      "acc : 0.73, precision : 0.75, recall : 0.65, f1-score : 0.70, auc : 0.80200\n",
      "-----------------\t\tfold 10\t\t-----------------\n",
      "acc : 0.73, precision : 0.74, recall : 0.65, f1-score : 0.70, auc : 0.80265\n",
      "-----------------\t\tfold 11\t\t-----------------\n",
      "acc : 0.74, precision : 0.75, recall : 0.67, f1-score : 0.71, auc : 0.81113\n",
      "-----------------\t\tfold 12\t\t-----------------\n",
      "acc : 0.74, precision : 0.74, recall : 0.66, f1-score : 0.70, auc : 0.80535\n",
      "-----------------\t\tfold 13\t\t-----------------\n",
      "acc : 0.73, precision : 0.74, recall : 0.66, f1-score : 0.70, auc : 0.79995\n"
     ]
    },
    {
     "name": "stderr",
     "output_type": "stream",
     "text": [
      "[I 2023-10-18 13:52:56,157] Trial 36 finished with value: 0.8044098421117014 and parameters: {'min_child_samples': 12, 'colsample_bytree': 0.7436031666506459, 'learning_rate': 0.2725340500741113, 'n_estimators': 894}. Best is trial 13 with value: 0.8059573226432913.\n"
     ]
    },
    {
     "name": "stdout",
     "output_type": "stream",
     "text": [
      "-----------------\t\tfold 14\t\t-----------------\n",
      "acc : 0.74, precision : 0.74, recall : 0.66, f1-score : 0.70, auc : 0.80394\n",
      "-----------------\t\tfold 0\t\t-----------------\n",
      "acc : 0.73, precision : 0.74, recall : 0.67, f1-score : 0.70, auc : 0.80131\n",
      "-----------------\t\tfold 1\t\t-----------------\n",
      "acc : 0.73, precision : 0.74, recall : 0.65, f1-score : 0.69, auc : 0.79666\n",
      "-----------------\t\tfold 2\t\t-----------------\n",
      "acc : 0.74, precision : 0.75, recall : 0.66, f1-score : 0.70, auc : 0.80166\n",
      "-----------------\t\tfold 3\t\t-----------------\n",
      "acc : 0.72, precision : 0.74, recall : 0.64, f1-score : 0.68, auc : 0.79306\n",
      "-----------------\t\tfold 4\t\t-----------------\n",
      "acc : 0.74, precision : 0.75, recall : 0.67, f1-score : 0.71, auc : 0.80751\n",
      "-----------------\t\tfold 5\t\t-----------------\n",
      "acc : 0.74, precision : 0.75, recall : 0.66, f1-score : 0.70, auc : 0.80450\n",
      "-----------------\t\tfold 6\t\t-----------------\n",
      "acc : 0.73, precision : 0.75, recall : 0.64, f1-score : 0.69, auc : 0.79959\n",
      "-----------------\t\tfold 7\t\t-----------------\n",
      "acc : 0.73, precision : 0.74, recall : 0.66, f1-score : 0.70, auc : 0.80548\n",
      "-----------------\t\tfold 8\t\t-----------------\n",
      "acc : 0.74, precision : 0.75, recall : 0.66, f1-score : 0.70, auc : 0.81034\n",
      "-----------------\t\tfold 9\t\t-----------------\n",
      "acc : 0.73, precision : 0.75, recall : 0.65, f1-score : 0.70, auc : 0.79992\n",
      "-----------------\t\tfold 10\t\t-----------------\n",
      "acc : 0.73, precision : 0.74, recall : 0.65, f1-score : 0.70, auc : 0.80131\n",
      "-----------------\t\tfold 11\t\t-----------------\n",
      "acc : 0.74, precision : 0.75, recall : 0.66, f1-score : 0.70, auc : 0.80883\n",
      "-----------------\t\tfold 12\t\t-----------------\n",
      "acc : 0.74, precision : 0.74, recall : 0.66, f1-score : 0.70, auc : 0.80297\n",
      "-----------------\t\tfold 13\t\t-----------------\n",
      "acc : 0.73, precision : 0.74, recall : 0.65, f1-score : 0.69, auc : 0.79726\n"
     ]
    },
    {
     "name": "stderr",
     "output_type": "stream",
     "text": [
      "[I 2023-10-18 13:53:28,648] Trial 37 finished with value: 0.8020992732802913 and parameters: {'min_child_samples': 19, 'colsample_bytree': 0.7231090995776962, 'learning_rate': 0.2573557879911583, 'n_estimators': 749}. Best is trial 13 with value: 0.8059573226432913.\n"
     ]
    },
    {
     "name": "stdout",
     "output_type": "stream",
     "text": [
      "-----------------\t\tfold 14\t\t-----------------\n",
      "acc : 0.74, precision : 0.75, recall : 0.66, f1-score : 0.70, auc : 0.80110\n",
      "-----------------\t\tfold 0\t\t-----------------\n",
      "acc : 0.74, precision : 0.74, recall : 0.67, f1-score : 0.70, auc : 0.80499\n",
      "-----------------\t\tfold 1\t\t-----------------\n",
      "acc : 0.74, precision : 0.75, recall : 0.66, f1-score : 0.70, auc : 0.80086\n",
      "-----------------\t\tfold 2\t\t-----------------\n",
      "acc : 0.74, precision : 0.74, recall : 0.67, f1-score : 0.70, auc : 0.80479\n",
      "-----------------\t\tfold 3\t\t-----------------\n",
      "acc : 0.73, precision : 0.74, recall : 0.64, f1-score : 0.69, auc : 0.79577\n",
      "-----------------\t\tfold 4\t\t-----------------\n",
      "acc : 0.74, precision : 0.75, recall : 0.67, f1-score : 0.71, auc : 0.81014\n",
      "-----------------\t\tfold 5\t\t-----------------\n",
      "acc : 0.74, precision : 0.75, recall : 0.66, f1-score : 0.70, auc : 0.80636\n",
      "-----------------\t\tfold 6\t\t-----------------\n",
      "acc : 0.73, precision : 0.75, recall : 0.65, f1-score : 0.69, auc : 0.80321\n",
      "-----------------\t\tfold 7\t\t-----------------\n",
      "acc : 0.74, precision : 0.74, recall : 0.66, f1-score : 0.70, auc : 0.80782\n",
      "-----------------\t\tfold 8\t\t-----------------\n",
      "acc : 0.74, precision : 0.76, recall : 0.66, f1-score : 0.71, auc : 0.81419\n",
      "-----------------\t\tfold 9\t\t-----------------\n",
      "acc : 0.74, precision : 0.75, recall : 0.66, f1-score : 0.70, auc : 0.80360\n",
      "-----------------\t\tfold 10\t\t-----------------\n",
      "acc : 0.73, precision : 0.75, recall : 0.65, f1-score : 0.70, auc : 0.80455\n",
      "-----------------\t\tfold 11\t\t-----------------\n",
      "acc : 0.74, precision : 0.75, recall : 0.66, f1-score : 0.70, auc : 0.81262\n",
      "-----------------\t\tfold 12\t\t-----------------\n",
      "acc : 0.74, precision : 0.75, recall : 0.67, f1-score : 0.70, auc : 0.80604\n",
      "-----------------\t\tfold 13\t\t-----------------\n",
      "acc : 0.73, precision : 0.74, recall : 0.65, f1-score : 0.69, auc : 0.80215\n"
     ]
    },
    {
     "name": "stderr",
     "output_type": "stream",
     "text": [
      "[I 2023-10-18 13:54:08,877] Trial 38 finished with value: 0.8055234814803636 and parameters: {'min_child_samples': 7, 'colsample_bytree': 0.7516832546655631, 'learning_rate': 0.28805230651046293, 'n_estimators': 971}. Best is trial 13 with value: 0.8059573226432913.\n"
     ]
    },
    {
     "name": "stdout",
     "output_type": "stream",
     "text": [
      "-----------------\t\tfold 14\t\t-----------------\n",
      "acc : 0.74, precision : 0.75, recall : 0.66, f1-score : 0.70, auc : 0.80576\n",
      "-----------------\t\tfold 0\t\t-----------------\n",
      "acc : 0.74, precision : 0.74, recall : 0.67, f1-score : 0.70, auc : 0.80349\n",
      "-----------------\t\tfold 1\t\t-----------------\n",
      "acc : 0.73, precision : 0.75, recall : 0.66, f1-score : 0.70, auc : 0.80042\n",
      "-----------------\t\tfold 2\t\t-----------------\n",
      "acc : 0.74, precision : 0.74, recall : 0.66, f1-score : 0.70, auc : 0.80383\n",
      "-----------------\t\tfold 3\t\t-----------------\n",
      "acc : 0.73, precision : 0.74, recall : 0.64, f1-score : 0.69, auc : 0.79486\n",
      "-----------------\t\tfold 4\t\t-----------------\n",
      "acc : 0.74, precision : 0.75, recall : 0.68, f1-score : 0.71, auc : 0.80960\n",
      "-----------------\t\tfold 5\t\t-----------------\n",
      "acc : 0.74, precision : 0.75, recall : 0.66, f1-score : 0.70, auc : 0.80679\n",
      "-----------------\t\tfold 6\t\t-----------------\n",
      "acc : 0.73, precision : 0.75, recall : 0.65, f1-score : 0.70, auc : 0.80283\n",
      "-----------------\t\tfold 7\t\t-----------------\n",
      "acc : 0.74, precision : 0.75, recall : 0.66, f1-score : 0.70, auc : 0.80811\n",
      "-----------------\t\tfold 8\t\t-----------------\n",
      "acc : 0.74, precision : 0.76, recall : 0.66, f1-score : 0.71, auc : 0.81231\n",
      "-----------------\t\tfold 9\t\t-----------------\n",
      "acc : 0.73, precision : 0.75, recall : 0.66, f1-score : 0.70, auc : 0.80379\n",
      "-----------------\t\tfold 10\t\t-----------------\n",
      "acc : 0.74, precision : 0.75, recall : 0.66, f1-score : 0.70, auc : 0.80473\n",
      "-----------------\t\tfold 11\t\t-----------------\n",
      "acc : 0.74, precision : 0.76, recall : 0.66, f1-score : 0.71, auc : 0.81213\n",
      "-----------------\t\tfold 12\t\t-----------------\n",
      "acc : 0.74, precision : 0.74, recall : 0.67, f1-score : 0.70, auc : 0.80598\n",
      "-----------------\t\tfold 13\t\t-----------------\n",
      "acc : 0.73, precision : 0.74, recall : 0.66, f1-score : 0.70, auc : 0.80084\n"
     ]
    },
    {
     "name": "stderr",
     "output_type": "stream",
     "text": [
      "[I 2023-10-18 13:54:48,000] Trial 39 finished with value: 0.8049658675172197 and parameters: {'min_child_samples': 1, 'colsample_bytree': 0.7520804038149584, 'learning_rate': 0.27584978575143354, 'n_estimators': 949}. Best is trial 13 with value: 0.8059573226432913.\n"
     ]
    },
    {
     "name": "stdout",
     "output_type": "stream",
     "text": [
      "-----------------\t\tfold 14\t\t-----------------\n",
      "acc : 0.74, precision : 0.75, recall : 0.66, f1-score : 0.70, auc : 0.80477\n",
      "-----------------\t\tfold 0\t\t-----------------\n",
      "acc : 0.73, precision : 0.74, recall : 0.67, f1-score : 0.70, auc : 0.80346\n",
      "-----------------\t\tfold 1\t\t-----------------\n",
      "acc : 0.74, precision : 0.74, recall : 0.66, f1-score : 0.70, auc : 0.80092\n",
      "-----------------\t\tfold 2\t\t-----------------\n",
      "acc : 0.73, precision : 0.74, recall : 0.65, f1-score : 0.70, auc : 0.80259\n",
      "-----------------\t\tfold 3\t\t-----------------\n",
      "acc : 0.73, precision : 0.74, recall : 0.64, f1-score : 0.69, auc : 0.79532\n",
      "-----------------\t\tfold 4\t\t-----------------\n",
      "acc : 0.74, precision : 0.75, recall : 0.67, f1-score : 0.71, auc : 0.81025\n",
      "-----------------\t\tfold 5\t\t-----------------\n",
      "acc : 0.74, precision : 0.75, recall : 0.66, f1-score : 0.70, auc : 0.80689\n",
      "-----------------\t\tfold 6\t\t-----------------\n",
      "acc : 0.74, precision : 0.75, recall : 0.65, f1-score : 0.70, auc : 0.80141\n",
      "-----------------\t\tfold 7\t\t-----------------\n",
      "acc : 0.74, precision : 0.75, recall : 0.67, f1-score : 0.70, auc : 0.80789\n",
      "-----------------\t\tfold 8\t\t-----------------\n",
      "acc : 0.74, precision : 0.75, recall : 0.66, f1-score : 0.70, auc : 0.81239\n",
      "-----------------\t\tfold 9\t\t-----------------\n",
      "acc : 0.73, precision : 0.74, recall : 0.66, f1-score : 0.70, auc : 0.80342\n",
      "-----------------\t\tfold 10\t\t-----------------\n",
      "acc : 0.73, precision : 0.75, recall : 0.65, f1-score : 0.70, auc : 0.80272\n",
      "-----------------\t\tfold 11\t\t-----------------\n",
      "acc : 0.74, precision : 0.76, recall : 0.66, f1-score : 0.71, auc : 0.81197\n",
      "-----------------\t\tfold 12\t\t-----------------\n",
      "acc : 0.74, precision : 0.74, recall : 0.67, f1-score : 0.70, auc : 0.80485\n",
      "-----------------\t\tfold 13\t\t-----------------\n",
      "acc : 0.73, precision : 0.74, recall : 0.65, f1-score : 0.70, auc : 0.80034\n"
     ]
    },
    {
     "name": "stderr",
     "output_type": "stream",
     "text": [
      "[I 2023-10-18 13:55:29,691] Trial 40 finished with value: 0.8046188880209403 and parameters: {'min_child_samples': 14, 'colsample_bytree': 0.7794836355209831, 'learning_rate': 0.2874842334416395, 'n_estimators': 913}. Best is trial 13 with value: 0.8059573226432913.\n"
     ]
    },
    {
     "name": "stdout",
     "output_type": "stream",
     "text": [
      "-----------------\t\tfold 14\t\t-----------------\n",
      "acc : 0.74, precision : 0.75, recall : 0.67, f1-score : 0.70, auc : 0.80486\n",
      "-----------------\t\tfold 0\t\t-----------------\n",
      "acc : 0.74, precision : 0.74, recall : 0.67, f1-score : 0.70, auc : 0.80591\n",
      "-----------------\t\tfold 1\t\t-----------------\n",
      "acc : 0.73, precision : 0.74, recall : 0.66, f1-score : 0.70, auc : 0.80052\n",
      "-----------------\t\tfold 2\t\t-----------------\n",
      "acc : 0.73, precision : 0.74, recall : 0.66, f1-score : 0.70, auc : 0.80373\n",
      "-----------------\t\tfold 3\t\t-----------------\n",
      "acc : 0.73, precision : 0.74, recall : 0.64, f1-score : 0.69, auc : 0.79536\n",
      "-----------------\t\tfold 4\t\t-----------------\n",
      "acc : 0.74, precision : 0.75, recall : 0.67, f1-score : 0.71, auc : 0.81001\n",
      "-----------------\t\tfold 5\t\t-----------------\n",
      "acc : 0.74, precision : 0.75, recall : 0.67, f1-score : 0.71, auc : 0.80735\n",
      "-----------------\t\tfold 6\t\t-----------------\n",
      "acc : 0.73, precision : 0.75, recall : 0.65, f1-score : 0.70, auc : 0.80328\n",
      "-----------------\t\tfold 7\t\t-----------------\n",
      "acc : 0.74, precision : 0.74, recall : 0.66, f1-score : 0.70, auc : 0.80765\n",
      "-----------------\t\tfold 8\t\t-----------------\n",
      "acc : 0.74, precision : 0.75, recall : 0.66, f1-score : 0.71, auc : 0.81372\n",
      "-----------------\t\tfold 9\t\t-----------------\n",
      "acc : 0.73, precision : 0.75, recall : 0.65, f1-score : 0.70, auc : 0.80385\n",
      "-----------------\t\tfold 10\t\t-----------------\n",
      "acc : 0.74, precision : 0.75, recall : 0.66, f1-score : 0.70, auc : 0.80425\n",
      "-----------------\t\tfold 11\t\t-----------------\n",
      "acc : 0.74, precision : 0.76, recall : 0.66, f1-score : 0.70, auc : 0.81196\n",
      "-----------------\t\tfold 12\t\t-----------------\n",
      "acc : 0.74, precision : 0.75, recall : 0.67, f1-score : 0.70, auc : 0.80676\n",
      "-----------------\t\tfold 13\t\t-----------------\n",
      "acc : 0.73, precision : 0.75, recall : 0.66, f1-score : 0.70, auc : 0.80235\n"
     ]
    },
    {
     "name": "stderr",
     "output_type": "stream",
     "text": [
      "[I 2023-10-18 13:56:13,807] Trial 41 finished with value: 0.8054514071192848 and parameters: {'min_child_samples': 5, 'colsample_bytree': 0.7203834695326645, 'learning_rate': 0.2880911670810712, 'n_estimators': 978}. Best is trial 13 with value: 0.8059573226432913.\n"
     ]
    },
    {
     "name": "stdout",
     "output_type": "stream",
     "text": [
      "-----------------\t\tfold 14\t\t-----------------\n",
      "acc : 0.74, precision : 0.75, recall : 0.66, f1-score : 0.70, auc : 0.80508\n",
      "-----------------\t\tfold 0\t\t-----------------\n",
      "acc : 0.74, precision : 0.74, recall : 0.67, f1-score : 0.70, auc : 0.80402\n",
      "-----------------\t\tfold 1\t\t-----------------\n",
      "acc : 0.73, precision : 0.75, recall : 0.66, f1-score : 0.70, auc : 0.79943\n",
      "-----------------\t\tfold 2\t\t-----------------\n",
      "acc : 0.74, precision : 0.75, recall : 0.66, f1-score : 0.70, auc : 0.80449\n",
      "-----------------\t\tfold 3\t\t-----------------\n",
      "acc : 0.73, precision : 0.74, recall : 0.64, f1-score : 0.69, auc : 0.79580\n",
      "-----------------\t\tfold 4\t\t-----------------\n",
      "acc : 0.74, precision : 0.75, recall : 0.68, f1-score : 0.71, auc : 0.81029\n",
      "-----------------\t\tfold 5\t\t-----------------\n",
      "acc : 0.74, precision : 0.75, recall : 0.66, f1-score : 0.70, auc : 0.80737\n",
      "-----------------\t\tfold 6\t\t-----------------\n",
      "acc : 0.73, precision : 0.75, recall : 0.65, f1-score : 0.69, auc : 0.80151\n",
      "-----------------\t\tfold 7\t\t-----------------\n",
      "acc : 0.74, precision : 0.74, recall : 0.66, f1-score : 0.70, auc : 0.80761\n",
      "-----------------\t\tfold 8\t\t-----------------\n",
      "acc : 0.74, precision : 0.76, recall : 0.66, f1-score : 0.71, auc : 0.81162\n",
      "-----------------\t\tfold 9\t\t-----------------\n",
      "acc : 0.73, precision : 0.75, recall : 0.65, f1-score : 0.70, auc : 0.80275\n",
      "-----------------\t\tfold 10\t\t-----------------\n",
      "acc : 0.74, precision : 0.75, recall : 0.66, f1-score : 0.70, auc : 0.80356\n",
      "-----------------\t\tfold 11\t\t-----------------\n",
      "acc : 0.74, precision : 0.75, recall : 0.66, f1-score : 0.70, auc : 0.81161\n",
      "-----------------\t\tfold 12\t\t-----------------\n",
      "acc : 0.74, precision : 0.74, recall : 0.66, f1-score : 0.70, auc : 0.80661\n",
      "-----------------\t\tfold 13\t\t-----------------\n",
      "acc : 0.73, precision : 0.74, recall : 0.65, f1-score : 0.70, auc : 0.80095\n"
     ]
    },
    {
     "name": "stderr",
     "output_type": "stream",
     "text": [
      "[I 2023-10-18 13:56:59,015] Trial 42 finished with value: 0.8048036382375509 and parameters: {'min_child_samples': 6, 'colsample_bytree': 0.7349942320973194, 'learning_rate': 0.26538283365701776, 'n_estimators': 975}. Best is trial 13 with value: 0.8059573226432913.\n"
     ]
    },
    {
     "name": "stdout",
     "output_type": "stream",
     "text": [
      "-----------------\t\tfold 14\t\t-----------------\n",
      "acc : 0.74, precision : 0.75, recall : 0.67, f1-score : 0.71, auc : 0.80443\n",
      "-----------------\t\tfold 0\t\t-----------------\n",
      "acc : 0.74, precision : 0.74, recall : 0.67, f1-score : 0.70, auc : 0.80336\n",
      "-----------------\t\tfold 1\t\t-----------------\n",
      "acc : 0.73, precision : 0.74, recall : 0.66, f1-score : 0.70, auc : 0.80159\n"
     ]
    }
   ],
   "source": [
    "study = optuna.create_study(direction=\"maximize\")\n",
    "study.optimize(optimizer, n_trials=50)"
   ]
  },
  {
   "cell_type": "markdown",
   "id": "ca853096",
   "metadata": {
    "id": "ca853096"
   },
   "source": []
  },
  {
   "cell_type": "code",
   "execution_count": null,
   "id": "61bc3d8f",
   "metadata": {
    "colab": {
     "background_save": true
    },
    "id": "61bc3d8f",
    "scrolled": true
   },
   "outputs": [],
   "source": [
    "print(f\"Best roc_auc_score: {study.best_value:.5f}\")\n",
    "print(\"Best params: \", study.best_trial.params)\n",
    "print(study.trials_dataframe()['duration'].sum())\n",
    "\n",
    "# Best roc_auc_score: 0.78978 (K=15)\n",
    "# Best roc_auc_score: 0.79246 (K=5)"
   ]
  },
  {
   "cell_type": "markdown",
   "id": "97702dfe",
   "metadata": {
    "id": "97702dfe"
   },
   "source": [
    "##### best model"
   ]
  },
  {
   "cell_type": "code",
   "execution_count": null,
   "id": "0a881f97",
   "metadata": {
    "colab": {
     "background_save": true
    },
    "id": "0a881f97"
   },
   "outputs": [],
   "source": [
    "def oof_predict(best_model):\n",
    "    folds = StratifiedKFold(n_splits=K, random_state=61, shuffle=True)\n",
    "    predicted_probas = []\n",
    "\n",
    "    for i, (train_idx, val_idx) in enumerate(folds.split(X, y)):\n",
    "        best_model.fit(X.iloc[train_idx], y.iloc[train_idx])\n",
    "        y_true = y.iloc[val_idx]\n",
    "        y_pred = best_model.predict(X.iloc[val_idx])\n",
    "        y_proba = best_model.predict_proba(X_test)[:, 1]\n",
    "        print(f'-----------------\\t\\tfold {i}\\t\\t-----------------')\n",
    "        metrics(y_true, y_pred, y_proba)\n",
    "\n",
    "        predicted_probas.append()\n",
    "    return np.mean(predicted_probas, axis=0)"
   ]
  },
  {
   "cell_type": "code",
   "execution_count": null,
   "id": "dc276719",
   "metadata": {
    "colab": {
     "background_save": true
    },
    "id": "dc276719"
   },
   "outputs": [],
   "source": [
    "model_best = LGBMClassifier(\n",
    "    **study.best_trial.params,\n",
    "    random_state=61,\n",
    "    n_jobs=-1,\n",
    "    force_row_wise=True,\n",
    "    verbose=-100,\n",
    ")\n",
    "model_best.fit(X, y)\n",
    "y_proba = model_best.predict_proba(X_test)[:, 1]\n",
    "# y_proba_oof = oof_predict(model_best)"
   ]
  },
  {
   "cell_type": "code",
   "execution_count": null,
   "id": "b4f9fcc8",
   "metadata": {
    "colab": {
     "background_save": true
    },
    "id": "b4f9fcc8"
   },
   "outputs": [],
   "source": [
    "# save model\n",
    "pickle.dump(model_best, open(base_path + \"lgbm_best.pickle\", \"wb\"))"
   ]
  },
  {
   "cell_type": "code",
   "execution_count": null,
   "id": "wgY_NdAXmOa_",
   "metadata": {
    "colab": {
     "background_save": true
    },
    "id": "wgY_NdAXmOa_"
   },
   "outputs": [],
   "source": [
    "# optuna가 시도했던 모든 실험 관련 데이터\n",
    "param_analysis = study.trials_dataframe().sort_values(by=['value'], ascending=False)\n",
    "param_analysis.to_csv(base_path + 'LGBM_param_analysis.csv')\n",
    "\n",
    "fig, axes = plt.subplots(2, 3, figsize=(12, 8))\n",
    "for col, ax in zip(param_analysis.columns[5:-1], axes.ravel()):\n",
    "    sns.scatterplot(param_analysis, x='value', y=col, ax=ax)\n",
    "plt.tight_layout()\n",
    "plt.show()\n",
    "fig.savefig(base_path + 'LGBM_param_analysis.png')"
   ]
  },
  {
   "cell_type": "code",
   "execution_count": null,
   "id": "kCH7UZawmSVP",
   "metadata": {
    "colab": {
     "background_save": true
    },
    "id": "kCH7UZawmSVP"
   },
   "outputs": [],
   "source": [
    "# 실험 기록 시각화\n",
    "optuna.visualization.plot_optimization_history(study)"
   ]
  },
  {
   "cell_type": "code",
   "execution_count": null,
   "id": "-UvFYg-YmSI0",
   "metadata": {
    "colab": {
     "background_save": true
    },
    "id": "-UvFYg-YmSI0"
   },
   "outputs": [],
   "source": [
    "# hyper-parameter들의 중요도\n",
    "optuna.visualization.plot_param_importances(study)"
   ]
  },
  {
   "cell_type": "markdown",
   "id": "5cf4cfe8",
   "metadata": {
    "id": "5cf4cfe8"
   },
   "source": [
    "# 제출"
   ]
  },
  {
   "cell_type": "code",
   "execution_count": null,
   "id": "8301cdb3",
   "metadata": {
    "colab": {
     "background_save": true
    },
    "id": "8301cdb3",
    "scrolled": false
   },
   "outputs": [],
   "source": [
    "submission_df['defects'] = y_proba\n",
    "submission_df.to_csv(base_path + 'submission_lgbm.csv')\n",
    "# submission_df['defects'] = y_proba_oof\n",
    "# submission_df.to_csv(base_path + 'submission_lgbm_oof.csv')\n",
    "submission_df"
   ]
  },
  {
   "cell_type": "code",
   "execution_count": null,
   "id": "c748f773",
   "metadata": {},
   "outputs": [],
   "source": []
  }
 ],
 "metadata": {
  "accelerator": "GPU",
  "colab": {
   "gpuType": "T4",
   "provenance": []
  },
  "kernelspec": {
   "display_name": "Python 3 (ipykernel)",
   "language": "python",
   "name": "python3"
  },
  "language_info": {
   "codemirror_mode": {
    "name": "ipython",
    "version": 3
   },
   "file_extension": ".py",
   "mimetype": "text/x-python",
   "name": "python",
   "nbconvert_exporter": "python",
   "pygments_lexer": "ipython3",
   "version": "3.11.5"
  }
 },
 "nbformat": 4,
 "nbformat_minor": 5
}
