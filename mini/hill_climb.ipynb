{
 "cells": [
  {
   "cell_type": "code",
   "execution_count": 109,
   "id": "2a212a2a",
   "metadata": {},
   "outputs": [],
   "source": [
    "import numpy as np\n",
    "import pandas as pd\n",
    "import matplotlib.pyplot as plt\n",
    "import seaborn as sns\n",
    "\n",
    "# 모델들, 성능 평가\n",
    "# (저는 일반적으로 정형데이터로 머신러닝 분석할 때는 이 2개 모델은 그냥 돌려봅니다. 특히 RF가 테스트하기 좋습니다.)\n",
    "from sklearn.ensemble import RandomForestClassifier, RandomForestRegressor\n",
    "from xgboost import XGBClassifier\n",
    "from sklearn.ensemble import HistGradientBoostingClassifier\n",
    "# KFold(CV), partial : optuna를 사용하기 위함\n",
    "from sklearn.model_selection import StratifiedKFold, RepeatedStratifiedKFold\n",
    "from sklearn.metrics import roc_auc_score\n",
    "from functools import partial\n",
    "\n",
    "# hyper-parameter tuning을 위한 라이브러리, optuna\n",
    "#!pip install optuna\n",
    "import optuna"
   ]
  },
  {
   "cell_type": "markdown",
   "id": "90ca12b5",
   "metadata": {},
   "source": [
    "## 데이터 load & Split"
   ]
  },
  {
   "cell_type": "code",
   "execution_count": 110,
   "id": "f1d66507",
   "metadata": {},
   "outputs": [],
   "source": [
    "base_path = '../data/'\n",
    "train = pd.read_csv(base_path + 'train.csv')\n",
    "test = pd.read_csv(base_path + 'test.csv').drop(columns = ['id'], axis = 1)\n",
    "submission = pd.read_csv(base_path + 'sample_submission.csv')\n",
    "\n",
    "#from sklearn.model_selection import train_test_split\n",
    "X = train.drop(columns=['id', 'defects'])\n",
    "Y = train.defects.map({False: 0, True: 1})\n",
    "\n",
    "evaluation_metric = roc_auc_score\n",
    "from sklearn.utils import class_weight\n",
    "cls_weight = (y_train.shape[0] - np.sum(y_train)) / np.sum(y_train)"
   ]
  },
  {
   "cell_type": "markdown",
   "id": "ca57d5b6",
   "metadata": {},
   "source": [
    "## Hill_climibing 함수"
   ]
  },
  {
   "cell_type": "markdown",
   "id": "58238061",
   "metadata": {},
   "source": [
    "#### 식이 굉장히 복잡함\n",
    "x: 모델 예측값 df, y: 실제 학습값, x_test: 테스트 data 예측값 포함 df\n",
    "1. 모든 모델 성능 측정(AUC score)\n",
    "2. 성능 기준 모델 정렬, 높은 성능 모델부터 사용\n",
    "3. 현재 최고의 앙상블 변수: current_best_ensemble, \n",
    "   테스트 데이터 예측 current_best_test_preds\n",
    "4. 가능한 앙상블 구성 및 가중치를 테스트하며 반복(최고를 찾기 위한)\n",
    "\n",
    "potential_new_best_cv_score: 현재 가장 좋은 교차 검증 점수 저장\n",
    "MODELS: 현재 앙상블에 추가할 수 있는 모델 포함\n",
    "weight_range: 앙상블에서 각 모델에 할당할 수 있는 가중치 범의 정의\n",
    "\n",
    "모델 알고리즘:\n",
    "1. k_best / wgt_best: 반복문을 통해 가능한 앙상블 구성 및 가중치, 교차 검증 점수 저장\n",
    "2. 각 반복에서 최고 교차 검증 점수를 history 리스트에 추가\n",
    "3. k_best = None or MDELS에 모델이 남아 있지 않으면 알고리즘 중지\n",
    "4. 알고리즘 종료: hill_ens_pred_1, hill_ens_pred2 반환(예측과 테스트 데이터 최적 예측)"
   ]
  },
  {
   "cell_type": "code",
   "execution_count": 111,
   "id": "4af286ab",
   "metadata": {},
   "outputs": [],
   "source": [
    "def hill_climbing(x, y, x_test):\n",
    "    #x : pd.DataFrame({'XGB' : XGB_pred, 'Hist' : hist_pred})\n",
    "    #y : Y_test\n",
    "    #x_test : pd.DataFrame({'XGB' : XGB_pred_test, 'Hist' : hist_pred_test})\n",
    "    \n",
    "    #Evaluating oof predictions\n",
    "    scores = {}\n",
    "    for col in x.columns:\n",
    "        scores[col] = roc_auc_score(y, x[col])\n",
    "    \n",
    "    #Sorting the model scores\n",
    "    scores = {k: v for k, v in sorted(scores.items(), \n",
    "                                      key =lambda item: item[1], reverse = True)}\n",
    "    #Sort oof_df and test_preds\n",
    "    x = x[list(scores.keys())]\n",
    "    x_test = x_test[list(scores.keys())]\n",
    "    \n",
    "    STOP = False\n",
    "    current_best_ensemble = x.iloc[:,0]\n",
    "    current_best_test_preds = x_test.iloc[:,0]\n",
    "    MODELS = x.iloc[:,1:]\n",
    "    weight_range = np.arange(-0.5, 0.51, 0.01)\n",
    "    history = [roc_auc_score(y, current_best_ensemble)]\n",
    "    j = 0\n",
    "    \n",
    "    while not STOP:\n",
    "        j += 1\n",
    "        potential_new_best_cv_score = roc_auc_score(y, current_best_ensemble)\n",
    "        k_best, wgt_best = None, None\n",
    "        for k in MODELS:\n",
    "            for wgt in weight_range:\n",
    "                potential_ensemble = (1 - wgt) * current_best_ensemble + wgt * MODELS[k]\n",
    "                cv_score = roc_auc_score(y, potential_ensemble)\n",
    "                if cv_score > potential_new_best_cv_score:\n",
    "                    potential_new_best_cv_score = cv_score\n",
    "                    k_best, wgt_best = k, wgt\n",
    "        if k_best is not None:\n",
    "            current_best_ensemble = (1 - wgt_best) * current_best_ensemble + wgt_best * MODELS[k_best]\n",
    "            current_best_test_preds = (1 - wgt_best) * current_best_test_preds + wgt_best * x_test[k_best]\n",
    "            MODELS.drop(k_best, axis = 1, inplace = True)\n",
    "    \n",
    "            if MODELS.shape[1] == 0:\n",
    "                STOP = True\n",
    "            history.append(potential_new_best_cv_score)\n",
    "        else:\n",
    "            STOP = True\n",
    "        \n",
    "        hill_ens_pred_1 = current_best_ensemble\n",
    "        hill_ens_pred_2 = current_best_test_preds\n",
    "        \n",
    "        return [hill_ens_pred_1, hill_ens_pred_2]"
   ]
  },
  {
   "cell_type": "markdown",
   "id": "134b2cf3",
   "metadata": {},
   "source": [
    "## K-Fold 생성 및 모델 학습"
   ]
  },
  {
   "cell_type": "code",
   "execution_count": 112,
   "id": "86d7d38a",
   "metadata": {},
   "outputs": [
    {
     "name": "stdout",
     "output_type": "stream",
     "text": [
      "--------------------------------------------\n",
      "Fold 0 ==> XGB oof ROC-AUC score is ==> 0.7870367802059866\n",
      "Fold 0 ==> HGBM oof ROC-AUC score is ==> 0.7906487824723841\n",
      "Fold 0 ==> Average Ensemble oof ROC-AUC score is ==> 0.78992649219886\n"
     ]
    },
    {
     "name": "stderr",
     "output_type": "stream",
     "text": [
      "C:\\Users\\user\\AppData\\Local\\Temp\\ipykernel_30852\\2432060217.py:37: SettingWithCopyWarning: \n",
      "A value is trying to be set on a copy of a slice from a DataFrame\n",
      "\n",
      "See the caveats in the documentation: https://pandas.pydata.org/pandas-docs/stable/user_guide/indexing.html#returning-a-view-versus-a-copy\n",
      "  MODELS.drop(k_best, axis = 1, inplace = True)\n"
     ]
    },
    {
     "name": "stdout",
     "output_type": "stream",
     "text": [
      "Fold 0 ==> Hill Climbing Ensemble oof ROC-AUC score is ==> 0.7909290315667754\n",
      "--------------------------------------------\n",
      "Fold 1 ==> XGB oof ROC-AUC score is ==> 0.7960501383995455\n",
      "Fold 1 ==> HGBM oof ROC-AUC score is ==> 0.7991694650029156\n",
      "Fold 1 ==> Average Ensemble oof ROC-AUC score is ==> 0.7987631014058663\n"
     ]
    },
    {
     "name": "stderr",
     "output_type": "stream",
     "text": [
      "C:\\Users\\user\\AppData\\Local\\Temp\\ipykernel_30852\\2432060217.py:37: SettingWithCopyWarning: \n",
      "A value is trying to be set on a copy of a slice from a DataFrame\n",
      "\n",
      "See the caveats in the documentation: https://pandas.pydata.org/pandas-docs/stable/user_guide/indexing.html#returning-a-view-versus-a-copy\n",
      "  MODELS.drop(k_best, axis = 1, inplace = True)\n"
     ]
    },
    {
     "name": "stdout",
     "output_type": "stream",
     "text": [
      "Fold 1 ==> Hill Climbing Ensemble oof ROC-AUC score is ==> 0.7996214017013408\n",
      "--------------------------------------------\n",
      "Fold 2 ==> XGB oof ROC-AUC score is ==> 0.7879665596178526\n",
      "Fold 2 ==> HGBM oof ROC-AUC score is ==> 0.7891780342334009\n",
      "Fold 2 ==> Average Ensemble oof ROC-AUC score is ==> 0.7899987012561318\n"
     ]
    },
    {
     "name": "stderr",
     "output_type": "stream",
     "text": [
      "C:\\Users\\user\\AppData\\Local\\Temp\\ipykernel_30852\\2432060217.py:37: SettingWithCopyWarning: \n",
      "A value is trying to be set on a copy of a slice from a DataFrame\n",
      "\n",
      "See the caveats in the documentation: https://pandas.pydata.org/pandas-docs/stable/user_guide/indexing.html#returning-a-view-versus-a-copy\n",
      "  MODELS.drop(k_best, axis = 1, inplace = True)\n"
     ]
    },
    {
     "name": "stdout",
     "output_type": "stream",
     "text": [
      "Fold 2 ==> Hill Climbing Ensemble oof ROC-AUC score is ==> 0.7902352985086343\n",
      "--------------------------------------------\n",
      "Fold 3 ==> XGB oof ROC-AUC score is ==> 0.7881012022115668\n",
      "Fold 3 ==> HGBM oof ROC-AUC score is ==> 0.7933104871992955\n",
      "Fold 3 ==> Average Ensemble oof ROC-AUC score is ==> 0.7915815641974807\n"
     ]
    },
    {
     "name": "stderr",
     "output_type": "stream",
     "text": [
      "C:\\Users\\user\\AppData\\Local\\Temp\\ipykernel_30852\\2432060217.py:37: SettingWithCopyWarning: \n",
      "A value is trying to be set on a copy of a slice from a DataFrame\n",
      "\n",
      "See the caveats in the documentation: https://pandas.pydata.org/pandas-docs/stable/user_guide/indexing.html#returning-a-view-versus-a-copy\n",
      "  MODELS.drop(k_best, axis = 1, inplace = True)\n"
     ]
    },
    {
     "name": "stdout",
     "output_type": "stream",
     "text": [
      "Fold 3 ==> Hill Climbing Ensemble oof ROC-AUC score is ==> 0.7933379347947072\n",
      "--------------------------------------------\n",
      "Fold 4 ==> XGB oof ROC-AUC score is ==> 0.7806251451107926\n",
      "Fold 4 ==> HGBM oof ROC-AUC score is ==> 0.784701573013732\n",
      "Fold 4 ==> Average Ensemble oof ROC-AUC score is ==> 0.7835107089888302\n",
      "Fold 4 ==> Hill Climbing Ensemble oof ROC-AUC score is ==> 0.7848431698817946\n"
     ]
    },
    {
     "name": "stderr",
     "output_type": "stream",
     "text": [
      "C:\\Users\\user\\AppData\\Local\\Temp\\ipykernel_30852\\2432060217.py:37: SettingWithCopyWarning: \n",
      "A value is trying to be set on a copy of a slice from a DataFrame\n",
      "\n",
      "See the caveats in the documentation: https://pandas.pydata.org/pandas-docs/stable/user_guide/indexing.html#returning-a-view-versus-a-copy\n",
      "  MODELS.drop(k_best, axis = 1, inplace = True)\n"
     ]
    }
   ],
   "source": [
    "ens_cv_scores, ens_preds = list(), list()\n",
    "hill_ens_cv_scores, hill_ens_preds = list(), list()\n",
    "\n",
    "#K_Fold 생성, n_splits = fold 분할 횟수, n_repeats = 반복횟수\n",
    "sk = RepeatedStratifiedKFold(n_splits = 5, n_repeats = 1, random_state = 61)\n",
    "for i, (train_idx, test_idx) in enumerate(sk.split(X, Y)):\n",
    "    X_train, X_test = X.iloc[train_idx], X.iloc[test_idx]\n",
    "    Y_train, Y_test = Y.iloc[train_idx], Y.iloc[test_idx]\n",
    "    print('--------------------------------------------')\n",
    "    \n",
    "    #XGB 모델\n",
    "    XGB_md = XGBClassifier(\n",
    "    max_depth=5,\n",
    "    colsample_bynode=0.682606021920177,\n",
    "    reg_lambda=4.630616411012709,\n",
    "    n_estimators=84,\n",
    "    learning_rate=0.29465063270539604,\n",
    "    random_state=61,\n",
    "    scale_pos_weight=cls_weight,\n",
    "    eval_metric=evaluation_metric\n",
    "    ).fit(X_train, Y_train)\n",
    "    \n",
    "    XGB_pred = XGB_md.predict_proba(X_test)[:, 1]\n",
    "    XGB_score = roc_auc_score(Y_test, XGB_pred)\n",
    "    \n",
    "    print('Fold', i, '==> XGB oof ROC-AUC score is ==>', XGB_score)\n",
    "    XGB_pred_test = XGB_md.predict_proba(test)[:, 1]\n",
    "    \n",
    "    #HGBM 모델\n",
    "    hist_md = HistGradientBoostingClassifier(loss='log_loss', learning_rate=0.09494605702447576,\n",
    "                                           max_depth=83, l2_regularization=0.00045512891761208057,\n",
    "                                           max_iter=110, random_state=61).fit(X_train, Y_train)\n",
    "    \n",
    "    hist_pred = hist_md.predict_proba(X_test)[:, 1]\n",
    "    hist_score = roc_auc_score(Y_test, hist_pred)\n",
    "    \n",
    "    print('Fold', i, '==> HGBM oof ROC-AUC score is ==>', hist_score)\n",
    "    hist_pred_test = hist_md.predict_proba(test)[:, 1]\n",
    "    \n",
    "    ##ensemble##\n",
    "    ens_pred_1 = (XGB_pred + hist_pred) / 2\n",
    "    ens_pred_2 = (XGB_pred_test + hist_pred_test) / 2\n",
    "    ens_score_fold =roc_auc_score(Y_test, ens_pred_1)\n",
    "    ens_cv_scores.append(ens_score_fold)\n",
    "    ens_preds.append(ens_pred_2)\n",
    "    print('Fold', i, '==> Average Ensemble oof ROC-AUC score is ==>', ens_score_fold)\n",
    "    \n",
    "    ##Hill Climb ensemble##\n",
    "    x = pd.DataFrame({'XGB' : XGB_pred, 'Hist' : hist_pred})\n",
    "    y = Y_test\n",
    "    \n",
    "    x_test = pd.DataFrame({'XGB' : XGB_pred_test, 'Hist' : hist_pred_test})\n",
    "    \n",
    "    hill_results = hill_climbing(x, y, x_test)\n",
    "    hill_ens_score_fold = roc_auc_score(y, hill_results[0])\n",
    "    hill_ens_cv_scores.append(hill_ens_score_fold)\n",
    "    hill_ens_preds.append(hill_results[1])\n",
    "    \n",
    "    print('Fold', i, '==> Hill Climbing Ensemble oof ROC-AUC score is ==>', hill_ens_score_fold)"
   ]
  },
  {
   "cell_type": "code",
   "execution_count": 113,
   "id": "79c800ad",
   "metadata": {},
   "outputs": [
    {
     "name": "stdout",
     "output_type": "stream",
     "text": [
      "The average ensemble oof ROC-AUC score over the 10-folds is 0.7907561136094337\n",
      "The hill climbing ensemble oof ROC-AUC score over the 10-folds is 0.7917933672906505\n"
     ]
    }
   ],
   "source": [
    "print('The average ensemble oof ROC-AUC score over the 5-folds is', np.mean(ens_cv_scores))\n",
    "print('The hill climbing ensemble oof ROC-AUC score over the 5-folds is', np.mean(hill_ens_cv_scores))"
   ]
  },
  {
   "cell_type": "code",
   "execution_count": null,
   "id": "9a0b9d29",
   "metadata": {},
   "outputs": [],
   "source": [
    "ens_preds_test = pd.DataFrame(ens_preds).apply(np.mean, axis = 0)\n",
    "submission['defects'] = ens_preds_test\n",
    "submission.to_csv('Avereage_2_Ensemble_submission.csv', index = False)\n",
    "\n",
    "ens_preds_test = pd.DataFrame(hill_ens_preds).apply(np.mean, axis = 0)\n",
    "\n",
    "submission['defects'] = ens_preds_test\n",
    "submission.to_csv('Hill_Ensemble_2_Ensemble_submission.csv', index = False)"
   ]
  },
  {
   "cell_type": "markdown",
   "id": "d2cb336a",
   "metadata": {},
   "source": [
    "ens_pred"
   ]
  },
  {
   "cell_type": "code",
   "execution_count": 117,
   "id": "e7dc9152",
   "metadata": {},
   "outputs": [
    {
     "data": {
      "text/plain": [
       "-0.0010372536812168764"
      ]
     },
     "execution_count": 117,
     "metadata": {},
     "output_type": "execute_result"
    }
   ],
   "source": [
    "0.7907561136094337 - 0.7917933672906505"
   ]
  }
 ],
 "metadata": {
  "kernelspec": {
   "display_name": "Python 3 (ipykernel)",
   "language": "python",
   "name": "python3"
  },
  "language_info": {
   "codemirror_mode": {
    "name": "ipython",
    "version": 3
   },
   "file_extension": ".py",
   "mimetype": "text/x-python",
   "name": "python",
   "nbconvert_exporter": "python",
   "pygments_lexer": "ipython3",
   "version": "3.11.3"
  }
 },
 "nbformat": 4,
 "nbformat_minor": 5
}
