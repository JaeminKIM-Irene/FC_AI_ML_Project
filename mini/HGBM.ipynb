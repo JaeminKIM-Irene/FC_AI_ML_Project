{
 "cells": [
  {
   "cell_type": "markdown",
   "id": "17d8e632",
   "metadata": {},
   "source": [
    "loss: log_loss (이진, 다항 분류 모두 사용가능)\n",
    "\n",
    "learning_rate: 0 ~ 1\n",
    "\n",
    "max_iter: 부스팅 반복 횟수\n",
    "\n",
    "max_leaf_nodes: 최대 리프 노드 수 지정\n",
    "\n",
    "max_depth: 트리의 최대 깊이를 제한\n",
    "\n",
    "min_samples_leaf: 리프 노드의 최소 샘플 수\n",
    "\n",
    "l2_regularization: L2 정규화 항 추가\n",
    "\n",
    "max_bins: 히스토그램의 최대 구간 수 지정\n",
    "\n",
    "early_stopping: 조기 중지를 활성화, 개선이 멈추면 학습을 중지\n",
    "\n",
    "validation_fraction: 검증 데이터 세트에 할당된 비율을 지정\n",
    "\n",
    "n_iter_no_change: 조기 중지를 활성화, 지정된 반복 횟수 동안 모델 성능 비개선 시 학습중지\n",
    "\n",
    "random_state: 61\n",
    "\n",
    "verbose: 학습 과정 중에 출력되는 정보의 양 제어\n",
    "\n",
    "warm_start: True: 이전 모델을 재사용한 추가 훈련 수행\n",
    "\n",
    "categorical_features: 범주형 변수로 처리할 특성의 인덱스를 지정\n",
    "\n",
    "monotonic_cst: 특성과 예측 클래스 간의 증가 또는 감소 제약을 지정"
   ]
  },
  {
   "cell_type": "markdown",
   "id": "3d29932b",
   "metadata": {},
   "source": [
    "HGBM 공식\n",
    "https://scikit-learn.org/stable/modules/generated/sklearn.ensemble.HistGradientBoostingClassifier.html\n",
    "\n",
    "Light GBM VS HistGradientBoostingmachine\n",
    "\n",
    "1. 동작 방식의 차이: 트리 분할방법(리프중심 VS 히스토그램 중심)\n",
    "2. 속도 및 메모리 사용 우수 정도: LGBM < HGBM\n",
    "3. 트리 확장방법: 수직적(n_estimators 사용) / 수평적(n_estimators 사용 x)\n",
    "\n",
    "공통 파라미터:\n",
    "\n",
    "num_leaves\n",
    "max_depth\n",
    "learning_rate\n",
    "feature_fraction: 각 트리 분할에서 고려할 피처의 비율\n",
    "\n",
    "HGBM 특유의 파라미터:\n",
    "\n",
    "max_iter: 최대 반복 횟수, 트리를 확장하며 예측 오차를 줄이는 데 사용\n",
    "l2_regularization: L2 정규화의 강도, 높을수록 정규화 ↑\n",
    "max_bins: 데이터를 히스토그램으로 분할하는 데 사용.\n",
    "categorical_features: 범주형 변수의 목록을 지정"
   ]
  },
  {
   "cell_type": "code",
   "execution_count": 28,
   "id": "a6587266",
   "metadata": {},
   "outputs": [
    {
     "name": "stdout",
     "output_type": "stream",
     "text": [
      "Collecting optuna\n",
      "  Downloading optuna-3.3.0-py3-none-any.whl (404 kB)\n",
      "                                              0.0/404.2 kB ? eta -:--:--\n",
      "     --                                    30.7/404.2 kB 660.6 kB/s eta 0:00:01\n",
      "     -------------------------------------  399.4/404.2 kB 4.2 MB/s eta 0:00:01\n",
      "     -------------------------------------- 404.2/404.2 kB 4.2 MB/s eta 0:00:00\n",
      "Collecting alembic>=1.5.0 (from optuna)\n",
      "  Downloading alembic-1.12.0-py3-none-any.whl (226 kB)\n",
      "                                              0.0/226.0 kB ? eta -:--:--\n",
      "     ------------------------------------- 226.0/226.0 kB 13.5 MB/s eta 0:00:00\n",
      "Collecting cmaes>=0.10.0 (from optuna)\n",
      "  Downloading cmaes-0.10.0-py3-none-any.whl (29 kB)\n",
      "Collecting colorlog (from optuna)\n",
      "  Downloading colorlog-6.7.0-py2.py3-none-any.whl (11 kB)\n",
      "Requirement already satisfied: numpy in c:\\users\\user\\anaconda3\\lib\\site-packages (from optuna) (1.24.3)\n",
      "Requirement already satisfied: packaging>=20.0 in c:\\users\\user\\appdata\\roaming\\python\\python311\\site-packages (from optuna) (23.1)\n",
      "Requirement already satisfied: sqlalchemy>=1.3.0 in c:\\users\\user\\anaconda3\\lib\\site-packages (from optuna) (1.4.39)\n",
      "Requirement already satisfied: tqdm in c:\\users\\user\\anaconda3\\lib\\site-packages (from optuna) (4.65.0)\n",
      "Requirement already satisfied: PyYAML in c:\\users\\user\\anaconda3\\lib\\site-packages (from optuna) (6.0)\n",
      "Collecting Mako (from alembic>=1.5.0->optuna)\n",
      "  Downloading Mako-1.2.4-py3-none-any.whl (78 kB)\n",
      "                                              0.0/78.7 kB ? eta -:--:--\n",
      "     ---------------------------------------- 78.7/78.7 kB 4.6 MB/s eta 0:00:00\n",
      "Requirement already satisfied: typing-extensions>=4 in c:\\users\\user\\anaconda3\\lib\\site-packages (from alembic>=1.5.0->optuna) (4.6.3)\n",
      "Requirement already satisfied: greenlet!=0.4.17 in c:\\users\\user\\anaconda3\\lib\\site-packages (from sqlalchemy>=1.3.0->optuna) (2.0.1)\n",
      "Requirement already satisfied: colorama in c:\\users\\user\\appdata\\roaming\\python\\python311\\site-packages (from colorlog->optuna) (0.4.6)\n",
      "Requirement already satisfied: MarkupSafe>=0.9.2 in c:\\users\\user\\anaconda3\\lib\\site-packages (from Mako->alembic>=1.5.0->optuna) (2.1.1)\n",
      "Installing collected packages: Mako, colorlog, cmaes, alembic, optuna\n",
      "Successfully installed Mako-1.2.4 alembic-1.12.0 cmaes-0.10.0 colorlog-6.7.0 optuna-3.3.0\n",
      "Note: you may need to restart the kernel to use updated packages.\n"
     ]
    }
   ],
   "source": [
    "pip install optuna"
   ]
  },
  {
   "cell_type": "code",
   "execution_count": 16,
   "id": "e88b6ecb",
   "metadata": {},
   "outputs": [],
   "source": [
    "import optuna\n",
    "import numpy as np\n",
    "import pandas as pd\n",
    "import matplotlib.pyplot as plt\n",
    "\n",
    "from sklearn.model_selection import train_test_split\n",
    "from sklearn.experimental import enable_hist_gradient_boosting\n",
    "#HGBM\n",
    "from sklearn.ensemble import HistGradientBoostingClassifier\n",
    "#AUC\n",
    "import sklearn.metrics as metrics"
   ]
  },
  {
   "cell_type": "code",
   "execution_count": 17,
   "id": "d4350738",
   "metadata": {},
   "outputs": [],
   "source": [
    "#데이터 생성\n",
    "train = pd.read_csv('./play/train.csv', index_col = 'id')\n",
    "test = pd.read_csv('./play/test.csv', index_col = 'id')\n",
    "submission_df = pd.read_csv('./play/sample_submission.csv', index_col='id')"
   ]
  },
  {
   "cell_type": "code",
   "execution_count": 18,
   "id": "7c768ece",
   "metadata": {},
   "outputs": [],
   "source": [
    "X = train.drop(columns = ['defects'])\n",
    "y = train.defects.astype(int)"
   ]
  },
  {
   "cell_type": "code",
   "execution_count": 19,
   "id": "f2581ff6",
   "metadata": {},
   "outputs": [
    {
     "data": {
      "text/plain": [
       "0.661660214285162"
      ]
     },
     "execution_count": 19,
     "metadata": {},
     "output_type": "execute_result"
    }
   ],
   "source": [
    "# 데이터 분할\n",
    "X_train, X_test, y_train, y_test = train_test_split(X, y, test_size=0.2, random_state=61)\n",
    "\n",
    "# HistGradientBoostingClassifier 모델\n",
    "model = HistGradientBoostingClassifier()\n",
    "\n",
    "# 모델 훈련\n",
    "model.fit(X_train, y_train)\n",
    "\n",
    "# 테스트 데이터로 예측\n",
    "y_pred = model.predict(X_test)\n",
    "\n",
    "# 데이터로 모델 평가\n",
    "auc = metrics.roc_auc_score(y_test, y_pred)\n",
    "auc\n",
    "#cm = confusion_matrix(y_test, y_pred)\n",
    "#f1 = f1_score(y_test, y_pred, average='weighted')  # F1 점수 계산\n",
    "\n",
    "#print(\"confusion Matrix\", cm)"
   ]
  },
  {
   "cell_type": "code",
   "execution_count": 28,
   "id": "d90cba09",
   "metadata": {},
   "outputs": [
    {
     "name": "stderr",
     "output_type": "stream",
     "text": [
      "[I 2023-10-11 20:10:07,396] A new study created in memory with name: no-name-30edcfb4-4a51-48d6-b4eb-7194a9d8178e\n",
      "[I 2023-10-11 20:10:09,252] Trial 0 finished with value: 0.660572053636394 and parameters: {'max_iter': 610, 'learning_rate': 0.015922423533422003, 'max_depth': 47, 'l2_regularization': 0.0003431420010760205}. Best is trial 0 with value: 0.660572053636394.\n",
      "[I 2023-10-11 20:10:11,069] Trial 1 finished with value: 0.6615159034513873 and parameters: {'max_iter': 856, 'learning_rate': 0.015436470962669344, 'max_depth': 24, 'l2_regularization': 0.00022875991167100473}. Best is trial 1 with value: 0.6615159034513873.\n",
      "[I 2023-10-11 20:10:11,475] Trial 2 finished with value: 0.6617239654008066 and parameters: {'max_iter': 357, 'learning_rate': 0.09381141886043964, 'max_depth': 10, 'l2_regularization': 0.0003705978754837451}. Best is trial 2 with value: 0.6617239654008066.\n",
      "[I 2023-10-11 20:10:12,002] Trial 3 finished with value: 0.6617390323561432 and parameters: {'max_iter': 169, 'learning_rate': 0.0704372708801611, 'max_depth': 82, 'l2_regularization': 0.0003032720810698693}. Best is trial 3 with value: 0.6617390323561432.\n",
      "[I 2023-10-11 20:10:12,441] Trial 4 finished with value: 0.6610669956062135 and parameters: {'max_iter': 951, 'learning_rate': 0.09710173935672121, 'max_depth': 89, 'l2_regularization': 0.0006101005129167507}. Best is trial 3 with value: 0.6617390323561432.\n",
      "[I 2023-10-11 20:10:12,949] Trial 5 finished with value: 0.6613157916089544 and parameters: {'max_iter': 374, 'learning_rate': 0.07670627994880186, 'max_depth': 90, 'l2_regularization': 0.0001624609441658808}. Best is trial 3 with value: 0.6617390323561432.\n",
      "[I 2023-10-11 20:10:13,463] Trial 6 finished with value: 0.6617328238963059 and parameters: {'max_iter': 151, 'learning_rate': 0.08154846275024213, 'max_depth': 73, 'l2_regularization': 0.0009909943888196636}. Best is trial 3 with value: 0.6617390323561432.\n",
      "[I 2023-10-11 20:10:14,209] Trial 7 finished with value: 0.6620515794745285 and parameters: {'max_iter': 666, 'learning_rate': 0.04597561152600219, 'max_depth': 46, 'l2_regularization': 9.136325085540692e-05}. Best is trial 7 with value: 0.6620515794745285.\n",
      "[I 2023-10-11 20:10:14,837] Trial 8 finished with value: 0.66206308800569 and parameters: {'max_iter': 908, 'learning_rate': 0.0650495203179649, 'max_depth': 51, 'l2_regularization': 0.000216461314765794}. Best is trial 8 with value: 0.66206308800569.\n",
      "[I 2023-10-11 20:10:15,330] Trial 9 finished with value: 0.6621817317414797 and parameters: {'max_iter': 694, 'learning_rate': 0.08349760723442252, 'max_depth': 34, 'l2_regularization': 0.0007907143825482627}. Best is trial 9 with value: 0.6621817317414797.\n",
      "[I 2023-10-11 20:10:16,004] Trial 10 finished with value: 0.6618806931542557 and parameters: {'max_iter': 709, 'learning_rate': 0.05216500107861302, 'max_depth': 29, 'l2_regularization': 0.0007080747433702046}. Best is trial 9 with value: 0.6621817317414797.\n",
      "[I 2023-10-11 20:10:16,601] Trial 11 finished with value: 0.6614432938402435 and parameters: {'max_iter': 782, 'learning_rate': 0.062250323712675526, 'max_depth': 64, 'l2_regularization': 3.31201441375034e-05}. Best is trial 9 with value: 0.6621817317414797.\n",
      "[I 2023-10-11 20:10:17,064] Trial 12 finished with value: 0.660296682147155 and parameters: {'max_iter': 991, 'learning_rate': 0.08529832575063263, 'max_depth': 39, 'l2_regularization': 0.00045341676566461363}. Best is trial 9 with value: 0.6621817317414797.\n",
      "[I 2023-10-11 20:10:17,675] Trial 13 finished with value: 0.6632212082299398 and parameters: {'max_iter': 503, 'learning_rate': 0.06437040286862385, 'max_depth': 58, 'l2_regularization': 0.0007630432481819078}. Best is trial 13 with value: 0.6632212082299398.\n",
      "[I 2023-10-11 20:10:18,141] Trial 14 finished with value: 0.6627607918536046 and parameters: {'max_iter': 476, 'learning_rate': 0.09948955215605455, 'max_depth': 66, 'l2_regularization': 0.0007948729725977382}. Best is trial 13 with value: 0.6632212082299398.\n",
      "[I 2023-10-11 20:10:18,580] Trial 15 finished with value: 0.6611882893776653 and parameters: {'max_iter': 480, 'learning_rate': 0.0997315648588462, 'max_depth': 63, 'l2_regularization': 0.000888551037502392}. Best is trial 13 with value: 0.6632212082299398.\n",
      "[I 2023-10-11 20:10:19,414] Trial 16 finished with value: 0.6615566375047089 and parameters: {'max_iter': 514, 'learning_rate': 0.040686240447438474, 'max_depth': 62, 'l2_regularization': 0.0005955010548921446}. Best is trial 13 with value: 0.6632212082299398.\n",
      "[I 2023-10-11 20:10:19,880] Trial 17 finished with value: 0.6618665345874322 and parameters: {'max_iter': 361, 'learning_rate': 0.09082142029854195, 'max_depth': 99, 'l2_regularization': 0.0007749409992754752}. Best is trial 13 with value: 0.6632212082299398.\n",
      "[I 2023-10-11 20:10:20,430] Trial 18 finished with value: 0.6627289162957822 and parameters: {'max_iter': 451, 'learning_rate': 0.07354316712569021, 'max_depth': 71, 'l2_regularization': 0.0006341141554012651}. Best is trial 13 with value: 0.6632212082299398.\n",
      "[I 2023-10-11 20:10:20,904] Trial 19 finished with value: 0.6617646994541281 and parameters: {'max_iter': 261, 'learning_rate': 0.08911742153450446, 'max_depth': 75, 'l2_regularization': 0.0005249289747282718}. Best is trial 13 with value: 0.6632212082299398.\n",
      "[I 2023-10-11 20:10:21,549] Trial 20 finished with value: 0.661431785309082 and parameters: {'max_iter': 567, 'learning_rate': 0.05956503751937459, 'max_depth': 57, 'l2_regularization': 0.0008806365541577346}. Best is trial 13 with value: 0.6632212082299398.\n",
      "[I 2023-10-11 20:10:22,099] Trial 21 finished with value: 0.6627289162957822 and parameters: {'max_iter': 453, 'learning_rate': 0.07353509463961243, 'max_depth': 71, 'l2_regularization': 0.0006789140850798929}. Best is trial 13 with value: 0.6632212082299398.\n",
      "[I 2023-10-11 20:10:22,604] Trial 22 finished with value: 0.6619763198277225 and parameters: {'max_iter': 444, 'learning_rate': 0.07835444837470679, 'max_depth': 80, 'l2_regularization': 0.0006943537680608483}. Best is trial 13 with value: 0.6632212082299398.\n",
      "[I 2023-10-11 20:10:23,203] Trial 23 finished with value: 0.6615707960715325 and parameters: {'max_iter': 272, 'learning_rate': 0.06874508445457594, 'max_depth': 68, 'l2_regularization': 0.0005984417977718714}. Best is trial 13 with value: 0.6632212082299398.\n",
      "[I 2023-10-11 20:10:23,710] Trial 24 finished with value: 0.6617071567983208 and parameters: {'max_iter': 593, 'learning_rate': 0.08887199452413674, 'max_depth': 55, 'l2_regularization': 0.0008003738747247222}. Best is trial 13 with value: 0.6632212082299398.\n",
      "[I 2023-10-11 20:10:24,254] Trial 25 finished with value: 0.6621294891569967 and parameters: {'max_iter': 415, 'learning_rate': 0.07558051651123102, 'max_depth': 58, 'l2_regularization': 0.0004898231687490603}. Best is trial 13 with value: 0.6632212082299398.\n",
      "[I 2023-10-11 20:10:24,695] Trial 26 finished with value: 0.6620542295101906 and parameters: {'max_iter': 274, 'learning_rate': 0.09963102389946646, 'max_depth': 79, 'l2_regularization': 0.0007389719460800291}. Best is trial 13 with value: 0.6632212082299398.\n",
      "[I 2023-10-11 20:10:25,193] Trial 27 finished with value: 0.6609802274282461 and parameters: {'max_iter': 513, 'learning_rate': 0.08257518673693531, 'max_depth': 43, 'l2_regularization': 0.0006320960915210999}. Best is trial 13 with value: 0.6632212082299398.\n",
      "[I 2023-10-11 20:10:25,787] Trial 28 finished with value: 0.6618488175964334 and parameters: {'max_iter': 637, 'learning_rate': 0.06871579013823724, 'max_depth': 86, 'l2_regularization': 0.0008801109656113989}. Best is trial 13 with value: 0.6632212082299398.\n",
      "[I 2023-10-11 20:10:26,449] Trial 29 finished with value: 0.6614778194337277 and parameters: {'max_iter': 558, 'learning_rate': 0.05416484034633998, 'max_depth': 50, 'l2_regularization': 0.0006565676906375532}. Best is trial 13 with value: 0.6632212082299398.\n",
      "[I 2023-10-11 20:10:26,879] Trial 30 finished with value: 0.6606154377253777 and parameters: {'max_iter': 755, 'learning_rate': 0.09276406628550339, 'max_depth': 67, 'l2_regularization': 0.0005492292632923574}. Best is trial 13 with value: 0.6632212082299398.\n",
      "[I 2023-10-11 20:10:27,406] Trial 31 finished with value: 0.6607597485591523 and parameters: {'max_iter': 441, 'learning_rate': 0.074151027459068, 'max_depth': 72, 'l2_regularization': 0.0007076554723345001}. Best is trial 13 with value: 0.6632212082299398.\n"
     ]
    },
    {
     "name": "stderr",
     "output_type": "stream",
     "text": [
      "[I 2023-10-11 20:10:28,095] Trial 32 finished with value: 0.6622020987681404 and parameters: {'max_iter': 505, 'learning_rate': 0.05967340165388839, 'max_depth': 71, 'l2_regularization': 0.0006645203160189844}. Best is trial 13 with value: 0.6632212082299398.\n",
      "[I 2023-10-11 20:10:28,679] Trial 33 finished with value: 0.6612635490244714 and parameters: {'max_iter': 317, 'learning_rate': 0.07268875251873894, 'max_depth': 58, 'l2_regularization': 0.0007346982422816084}. Best is trial 13 with value: 0.6632212082299398.\n",
      "[I 2023-10-11 20:10:29,242] Trial 34 finished with value: 0.6616956482671594 and parameters: {'max_iter': 383, 'learning_rate': 0.06535149053906152, 'max_depth': 77, 'l2_regularization': 0.0008182973903726179}. Best is trial 13 with value: 0.6632212082299398.\n",
      "[I 2023-10-11 20:10:29,787] Trial 35 finished with value: 0.6621179806258352 and parameters: {'max_iter': 448, 'learning_rate': 0.07922217961344595, 'max_depth': 18, 'l2_regularization': 0.000565639349036172}. Best is trial 13 with value: 0.6632212082299398.\n",
      "[I 2023-10-11 20:10:30,231] Trial 36 finished with value: 0.6622392743972869 and parameters: {'max_iter': 621, 'learning_rate': 0.09434063887573321, 'max_depth': 97, 'l2_regularization': 0.0006815883150143059}. Best is trial 13 with value: 0.6632212082299398.\n",
      "[I 2023-10-11 20:10:30,729] Trial 37 finished with value: 0.6631255815564729 and parameters: {'max_iter': 193, 'learning_rate': 0.08634167463143883, 'max_depth': 69, 'l2_regularization': 0.0006519307334177202}. Best is trial 13 with value: 0.6632212082299398.\n",
      "[I 2023-10-11 20:10:31,207] Trial 38 finished with value: 0.6633079764079073 and parameters: {'max_iter': 110, 'learning_rate': 0.09494605702447576, 'max_depth': 83, 'l2_regularization': 0.00045512891761208057}. Best is trial 38 with value: 0.6633079764079073.\n",
      "[I 2023-10-11 20:10:31,646] Trial 39 finished with value: 0.6614893279648892 and parameters: {'max_iter': 198, 'learning_rate': 0.09507847610698515, 'max_depth': 85, 'l2_regularization': 0.0003647098781263998}. Best is trial 38 with value: 0.6633079764079073.\n",
      "[I 2023-10-11 20:10:32,119] Trial 40 finished with value: 0.6605428281142338 and parameters: {'max_iter': 130, 'learning_rate': 0.08701068794987386, 'max_depth': 51, 'l2_regularization': 0.0004365813420533906}. Best is trial 38 with value: 0.6633079764079073.\n",
      "[I 2023-10-11 20:10:32,618] Trial 41 finished with value: 0.6618895516497552 and parameters: {'max_iter': 192, 'learning_rate': 0.09312395081018929, 'max_depth': 91, 'l2_regularization': 0.0006307640817080657}. Best is trial 38 with value: 0.6633079764079073.\n",
      "[I 2023-10-11 20:10:33,125] Trial 42 finished with value: 0.6622251158304634 and parameters: {'max_iter': 117, 'learning_rate': 0.08517218030600006, 'max_depth': 67, 'l2_regularization': 0.0005074126497007043}. Best is trial 38 with value: 0.6633079764079073.\n",
      "[I 2023-10-11 20:10:33,572] Trial 43 finished with value: 0.6618054335074498 and parameters: {'max_iter': 315, 'learning_rate': 0.09652383607373624, 'max_depth': 81, 'l2_regularization': 0.0003024104307271161}. Best is trial 38 with value: 0.6633079764079073.\n",
      "[I 2023-10-11 20:10:34,067] Trial 44 finished with value: 0.6615504290448717 and parameters: {'max_iter': 184, 'learning_rate': 0.08056167523226532, 'max_depth': 62, 'l2_regularization': 0.0005784672949423787}. Best is trial 38 with value: 0.6633079764079073.\n",
      "[I 2023-10-11 20:10:34,560] Trial 45 finished with value: 0.6616256886916777 and parameters: {'max_iter': 105, 'learning_rate': 0.08804702806628885, 'max_depth': 94, 'l2_regularization': 0.0006327559179694784}. Best is trial 38 with value: 0.6633079764079073.\n",
      "[I 2023-10-11 20:10:34,987] Trial 46 finished with value: 0.6626970407379601 and parameters: {'max_iter': 237, 'learning_rate': 0.09945896731614662, 'max_depth': 85, 'l2_regularization': 0.0007432316011009206}. Best is trial 38 with value: 0.6633079764079073.\n",
      "[I 2023-10-11 20:10:35,476] Trial 47 finished with value: 0.6609510019060859 and parameters: {'max_iter': 866, 'learning_rate': 0.08347478261655446, 'max_depth': 77, 'l2_regularization': 0.00044075648295940076}. Best is trial 38 with value: 0.6633079764079073.\n",
      "[I 2023-10-11 20:10:35,958] Trial 48 finished with value: 0.6599292424086246 and parameters: {'max_iter': 151, 'learning_rate': 0.09118524279510101, 'max_depth': 54, 'l2_regularization': 0.0005553788194145713}. Best is trial 38 with value: 0.6633079764079073.\n",
      "[I 2023-10-11 20:10:36,491] Trial 49 finished with value: 0.6616460557183385 and parameters: {'max_iter': 332, 'learning_rate': 0.07774616582362963, 'max_depth': 61, 'l2_regularization': 0.0008420597302039431}. Best is trial 38 with value: 0.6633079764079073.\n"
     ]
    },
    {
     "name": "stdout",
     "output_type": "stream",
     "text": [
      "Best AUC: 0.6633\n",
      "Best params:  {'max_iter': 110, 'learning_rate': 0.09494605702447576, 'max_depth': 83, 'l2_regularization': 0.00045512891761208057}\n"
     ]
    }
   ],
   "source": [
    "# HistGradientBoostingClassifier + optuna\n",
    "def optimizer(trial):\n",
    "    loss = \"log_loss\"  # 자동으로 손실 함수 선택\n",
    "    max_iter = trial.suggest_int(\"max_iter\", 100, 1000)\n",
    "    learning_rate = trial.suggest_float('learning_rate', 0.01, 0.1)\n",
    "    max_depth = trial.suggest_int('max_depth', 10, 100)\n",
    "    l2_regularization = trial.suggest_float('l2_regularization', 1e-5, 1e-3)\n",
    "    model = HistGradientBoostingClassifier(loss=loss, learning_rate=learning_rate,\n",
    "                                           max_depth=max_depth, l2_regularization=l2_regularization,\n",
    "                                           max_iter=max_iter, random_state=61)\n",
    "    model.fit(X_train, y_train)\n",
    "    y_pred = model.predict(X_test)\n",
    "\n",
    "    auc = metrics.roc_auc_score(y_test, y_pred)\n",
    "    return auc\n",
    "\n",
    "study = optuna.create_study(direction='maximize')\n",
    "study.optimize(optimizer, n_trials=50)\n",
    "\n",
    "print(\"Best AUC: %.4f\" % study.best_value)\n",
    "print(\"Best params: \", study.best_params)"
   ]
  },
  {
   "cell_type": "code",
   "execution_count": 29,
   "id": "a2214738",
   "metadata": {},
   "outputs": [
    {
     "data": {
      "text/html": [
       "<div>\n",
       "<style scoped>\n",
       "    .dataframe tbody tr th:only-of-type {\n",
       "        vertical-align: middle;\n",
       "    }\n",
       "\n",
       "    .dataframe tbody tr th {\n",
       "        vertical-align: top;\n",
       "    }\n",
       "\n",
       "    .dataframe thead th {\n",
       "        text-align: right;\n",
       "    }\n",
       "</style>\n",
       "<table border=\"1\" class=\"dataframe\">\n",
       "  <thead>\n",
       "    <tr style=\"text-align: right;\">\n",
       "      <th></th>\n",
       "      <th>number</th>\n",
       "      <th>value</th>\n",
       "      <th>datetime_start</th>\n",
       "      <th>datetime_complete</th>\n",
       "      <th>duration</th>\n",
       "      <th>params_l2_regularization</th>\n",
       "      <th>params_learning_rate</th>\n",
       "      <th>params_max_depth</th>\n",
       "      <th>params_max_iter</th>\n",
       "      <th>state</th>\n",
       "    </tr>\n",
       "  </thead>\n",
       "  <tbody>\n",
       "    <tr>\n",
       "      <th>0</th>\n",
       "      <td>0</td>\n",
       "      <td>0.660572</td>\n",
       "      <td>2023-10-11 20:10:07.397564</td>\n",
       "      <td>2023-10-11 20:10:09.252817</td>\n",
       "      <td>0 days 00:00:01.855253</td>\n",
       "      <td>0.000343</td>\n",
       "      <td>0.015922</td>\n",
       "      <td>47</td>\n",
       "      <td>610</td>\n",
       "      <td>COMPLETE</td>\n",
       "    </tr>\n",
       "    <tr>\n",
       "      <th>1</th>\n",
       "      <td>1</td>\n",
       "      <td>0.661516</td>\n",
       "      <td>2023-10-11 20:10:09.253817</td>\n",
       "      <td>2023-10-11 20:10:11.069224</td>\n",
       "      <td>0 days 00:00:01.815407</td>\n",
       "      <td>0.000229</td>\n",
       "      <td>0.015436</td>\n",
       "      <td>24</td>\n",
       "      <td>856</td>\n",
       "      <td>COMPLETE</td>\n",
       "    </tr>\n",
       "    <tr>\n",
       "      <th>2</th>\n",
       "      <td>2</td>\n",
       "      <td>0.661724</td>\n",
       "      <td>2023-10-11 20:10:11.070225</td>\n",
       "      <td>2023-10-11 20:10:11.475315</td>\n",
       "      <td>0 days 00:00:00.405090</td>\n",
       "      <td>0.000371</td>\n",
       "      <td>0.093811</td>\n",
       "      <td>10</td>\n",
       "      <td>357</td>\n",
       "      <td>COMPLETE</td>\n",
       "    </tr>\n",
       "    <tr>\n",
       "      <th>3</th>\n",
       "      <td>3</td>\n",
       "      <td>0.661739</td>\n",
       "      <td>2023-10-11 20:10:11.476315</td>\n",
       "      <td>2023-10-11 20:10:12.001433</td>\n",
       "      <td>0 days 00:00:00.525118</td>\n",
       "      <td>0.000303</td>\n",
       "      <td>0.070437</td>\n",
       "      <td>82</td>\n",
       "      <td>169</td>\n",
       "      <td>COMPLETE</td>\n",
       "    </tr>\n",
       "    <tr>\n",
       "      <th>4</th>\n",
       "      <td>4</td>\n",
       "      <td>0.661067</td>\n",
       "      <td>2023-10-11 20:10:12.002433</td>\n",
       "      <td>2023-10-11 20:10:12.441532</td>\n",
       "      <td>0 days 00:00:00.439099</td>\n",
       "      <td>0.000610</td>\n",
       "      <td>0.097102</td>\n",
       "      <td>89</td>\n",
       "      <td>951</td>\n",
       "      <td>COMPLETE</td>\n",
       "    </tr>\n",
       "    <tr>\n",
       "      <th>5</th>\n",
       "      <td>5</td>\n",
       "      <td>0.661316</td>\n",
       "      <td>2023-10-11 20:10:12.442532</td>\n",
       "      <td>2023-10-11 20:10:12.948646</td>\n",
       "      <td>0 days 00:00:00.506114</td>\n",
       "      <td>0.000162</td>\n",
       "      <td>0.076706</td>\n",
       "      <td>90</td>\n",
       "      <td>374</td>\n",
       "      <td>COMPLETE</td>\n",
       "    </tr>\n",
       "    <tr>\n",
       "      <th>6</th>\n",
       "      <td>6</td>\n",
       "      <td>0.661733</td>\n",
       "      <td>2023-10-11 20:10:12.949646</td>\n",
       "      <td>2023-10-11 20:10:13.463761</td>\n",
       "      <td>0 days 00:00:00.514115</td>\n",
       "      <td>0.000991</td>\n",
       "      <td>0.081548</td>\n",
       "      <td>73</td>\n",
       "      <td>151</td>\n",
       "      <td>COMPLETE</td>\n",
       "    </tr>\n",
       "    <tr>\n",
       "      <th>7</th>\n",
       "      <td>7</td>\n",
       "      <td>0.662052</td>\n",
       "      <td>2023-10-11 20:10:13.464761</td>\n",
       "      <td>2023-10-11 20:10:14.209928</td>\n",
       "      <td>0 days 00:00:00.745167</td>\n",
       "      <td>0.000091</td>\n",
       "      <td>0.045976</td>\n",
       "      <td>46</td>\n",
       "      <td>666</td>\n",
       "      <td>COMPLETE</td>\n",
       "    </tr>\n",
       "    <tr>\n",
       "      <th>8</th>\n",
       "      <td>8</td>\n",
       "      <td>0.662063</td>\n",
       "      <td>2023-10-11 20:10:14.210929</td>\n",
       "      <td>2023-10-11 20:10:14.837069</td>\n",
       "      <td>0 days 00:00:00.626140</td>\n",
       "      <td>0.000216</td>\n",
       "      <td>0.065050</td>\n",
       "      <td>51</td>\n",
       "      <td>908</td>\n",
       "      <td>COMPLETE</td>\n",
       "    </tr>\n",
       "    <tr>\n",
       "      <th>9</th>\n",
       "      <td>9</td>\n",
       "      <td>0.662182</td>\n",
       "      <td>2023-10-11 20:10:14.838069</td>\n",
       "      <td>2023-10-11 20:10:15.330180</td>\n",
       "      <td>0 days 00:00:00.492111</td>\n",
       "      <td>0.000791</td>\n",
       "      <td>0.083498</td>\n",
       "      <td>34</td>\n",
       "      <td>694</td>\n",
       "      <td>COMPLETE</td>\n",
       "    </tr>\n",
       "    <tr>\n",
       "      <th>10</th>\n",
       "      <td>10</td>\n",
       "      <td>0.661881</td>\n",
       "      <td>2023-10-11 20:10:15.331180</td>\n",
       "      <td>2023-10-11 20:10:16.004331</td>\n",
       "      <td>0 days 00:00:00.673151</td>\n",
       "      <td>0.000708</td>\n",
       "      <td>0.052165</td>\n",
       "      <td>29</td>\n",
       "      <td>709</td>\n",
       "      <td>COMPLETE</td>\n",
       "    </tr>\n",
       "    <tr>\n",
       "      <th>11</th>\n",
       "      <td>11</td>\n",
       "      <td>0.661443</td>\n",
       "      <td>2023-10-11 20:10:16.005331</td>\n",
       "      <td>2023-10-11 20:10:16.600465</td>\n",
       "      <td>0 days 00:00:00.595134</td>\n",
       "      <td>0.000033</td>\n",
       "      <td>0.062250</td>\n",
       "      <td>64</td>\n",
       "      <td>782</td>\n",
       "      <td>COMPLETE</td>\n",
       "    </tr>\n",
       "    <tr>\n",
       "      <th>12</th>\n",
       "      <td>12</td>\n",
       "      <td>0.660297</td>\n",
       "      <td>2023-10-11 20:10:16.601465</td>\n",
       "      <td>2023-10-11 20:10:17.064569</td>\n",
       "      <td>0 days 00:00:00.463104</td>\n",
       "      <td>0.000453</td>\n",
       "      <td>0.085298</td>\n",
       "      <td>39</td>\n",
       "      <td>991</td>\n",
       "      <td>COMPLETE</td>\n",
       "    </tr>\n",
       "    <tr>\n",
       "      <th>13</th>\n",
       "      <td>13</td>\n",
       "      <td>0.663221</td>\n",
       "      <td>2023-10-11 20:10:17.065569</td>\n",
       "      <td>2023-10-11 20:10:17.675706</td>\n",
       "      <td>0 days 00:00:00.610137</td>\n",
       "      <td>0.000763</td>\n",
       "      <td>0.064370</td>\n",
       "      <td>58</td>\n",
       "      <td>503</td>\n",
       "      <td>COMPLETE</td>\n",
       "    </tr>\n",
       "    <tr>\n",
       "      <th>14</th>\n",
       "      <td>14</td>\n",
       "      <td>0.662761</td>\n",
       "      <td>2023-10-11 20:10:17.676706</td>\n",
       "      <td>2023-10-11 20:10:18.140811</td>\n",
       "      <td>0 days 00:00:00.464105</td>\n",
       "      <td>0.000795</td>\n",
       "      <td>0.099490</td>\n",
       "      <td>66</td>\n",
       "      <td>476</td>\n",
       "      <td>COMPLETE</td>\n",
       "    </tr>\n",
       "    <tr>\n",
       "      <th>15</th>\n",
       "      <td>15</td>\n",
       "      <td>0.661188</td>\n",
       "      <td>2023-10-11 20:10:18.141811</td>\n",
       "      <td>2023-10-11 20:10:18.580909</td>\n",
       "      <td>0 days 00:00:00.439098</td>\n",
       "      <td>0.000889</td>\n",
       "      <td>0.099732</td>\n",
       "      <td>63</td>\n",
       "      <td>480</td>\n",
       "      <td>COMPLETE</td>\n",
       "    </tr>\n",
       "    <tr>\n",
       "      <th>16</th>\n",
       "      <td>16</td>\n",
       "      <td>0.661557</td>\n",
       "      <td>2023-10-11 20:10:18.581909</td>\n",
       "      <td>2023-10-11 20:10:19.414096</td>\n",
       "      <td>0 days 00:00:00.832187</td>\n",
       "      <td>0.000596</td>\n",
       "      <td>0.040686</td>\n",
       "      <td>62</td>\n",
       "      <td>514</td>\n",
       "      <td>COMPLETE</td>\n",
       "    </tr>\n",
       "    <tr>\n",
       "      <th>17</th>\n",
       "      <td>17</td>\n",
       "      <td>0.661867</td>\n",
       "      <td>2023-10-11 20:10:19.415097</td>\n",
       "      <td>2023-10-11 20:10:19.880200</td>\n",
       "      <td>0 days 00:00:00.465103</td>\n",
       "      <td>0.000775</td>\n",
       "      <td>0.090821</td>\n",
       "      <td>99</td>\n",
       "      <td>361</td>\n",
       "      <td>COMPLETE</td>\n",
       "    </tr>\n",
       "    <tr>\n",
       "      <th>18</th>\n",
       "      <td>18</td>\n",
       "      <td>0.662729</td>\n",
       "      <td>2023-10-11 20:10:19.881201</td>\n",
       "      <td>2023-10-11 20:10:20.429324</td>\n",
       "      <td>0 days 00:00:00.548123</td>\n",
       "      <td>0.000634</td>\n",
       "      <td>0.073543</td>\n",
       "      <td>71</td>\n",
       "      <td>451</td>\n",
       "      <td>COMPLETE</td>\n",
       "    </tr>\n",
       "    <tr>\n",
       "      <th>19</th>\n",
       "      <td>19</td>\n",
       "      <td>0.661765</td>\n",
       "      <td>2023-10-11 20:10:20.430324</td>\n",
       "      <td>2023-10-11 20:10:20.904430</td>\n",
       "      <td>0 days 00:00:00.474106</td>\n",
       "      <td>0.000525</td>\n",
       "      <td>0.089117</td>\n",
       "      <td>75</td>\n",
       "      <td>261</td>\n",
       "      <td>COMPLETE</td>\n",
       "    </tr>\n",
       "    <tr>\n",
       "      <th>20</th>\n",
       "      <td>20</td>\n",
       "      <td>0.661432</td>\n",
       "      <td>2023-10-11 20:10:20.905430</td>\n",
       "      <td>2023-10-11 20:10:21.549575</td>\n",
       "      <td>0 days 00:00:00.644145</td>\n",
       "      <td>0.000881</td>\n",
       "      <td>0.059565</td>\n",
       "      <td>57</td>\n",
       "      <td>567</td>\n",
       "      <td>COMPLETE</td>\n",
       "    </tr>\n",
       "    <tr>\n",
       "      <th>21</th>\n",
       "      <td>21</td>\n",
       "      <td>0.662729</td>\n",
       "      <td>2023-10-11 20:10:21.550575</td>\n",
       "      <td>2023-10-11 20:10:22.099699</td>\n",
       "      <td>0 days 00:00:00.549124</td>\n",
       "      <td>0.000679</td>\n",
       "      <td>0.073535</td>\n",
       "      <td>71</td>\n",
       "      <td>453</td>\n",
       "      <td>COMPLETE</td>\n",
       "    </tr>\n",
       "    <tr>\n",
       "      <th>22</th>\n",
       "      <td>22</td>\n",
       "      <td>0.661976</td>\n",
       "      <td>2023-10-11 20:10:22.100699</td>\n",
       "      <td>2023-10-11 20:10:22.604812</td>\n",
       "      <td>0 days 00:00:00.504113</td>\n",
       "      <td>0.000694</td>\n",
       "      <td>0.078354</td>\n",
       "      <td>80</td>\n",
       "      <td>444</td>\n",
       "      <td>COMPLETE</td>\n",
       "    </tr>\n",
       "    <tr>\n",
       "      <th>23</th>\n",
       "      <td>23</td>\n",
       "      <td>0.661571</td>\n",
       "      <td>2023-10-11 20:10:22.605812</td>\n",
       "      <td>2023-10-11 20:10:23.203946</td>\n",
       "      <td>0 days 00:00:00.598134</td>\n",
       "      <td>0.000598</td>\n",
       "      <td>0.068745</td>\n",
       "      <td>68</td>\n",
       "      <td>272</td>\n",
       "      <td>COMPLETE</td>\n",
       "    </tr>\n",
       "    <tr>\n",
       "      <th>24</th>\n",
       "      <td>24</td>\n",
       "      <td>0.661707</td>\n",
       "      <td>2023-10-11 20:10:23.204946</td>\n",
       "      <td>2023-10-11 20:10:23.709059</td>\n",
       "      <td>0 days 00:00:00.504113</td>\n",
       "      <td>0.000800</td>\n",
       "      <td>0.088872</td>\n",
       "      <td>55</td>\n",
       "      <td>593</td>\n",
       "      <td>COMPLETE</td>\n",
       "    </tr>\n",
       "    <tr>\n",
       "      <th>25</th>\n",
       "      <td>25</td>\n",
       "      <td>0.662129</td>\n",
       "      <td>2023-10-11 20:10:23.710059</td>\n",
       "      <td>2023-10-11 20:10:24.254181</td>\n",
       "      <td>0 days 00:00:00.544122</td>\n",
       "      <td>0.000490</td>\n",
       "      <td>0.075581</td>\n",
       "      <td>58</td>\n",
       "      <td>415</td>\n",
       "      <td>COMPLETE</td>\n",
       "    </tr>\n",
       "    <tr>\n",
       "      <th>26</th>\n",
       "      <td>26</td>\n",
       "      <td>0.662054</td>\n",
       "      <td>2023-10-11 20:10:24.255182</td>\n",
       "      <td>2023-10-11 20:10:24.695280</td>\n",
       "      <td>0 days 00:00:00.440098</td>\n",
       "      <td>0.000739</td>\n",
       "      <td>0.099631</td>\n",
       "      <td>79</td>\n",
       "      <td>274</td>\n",
       "      <td>COMPLETE</td>\n",
       "    </tr>\n",
       "    <tr>\n",
       "      <th>27</th>\n",
       "      <td>27</td>\n",
       "      <td>0.660980</td>\n",
       "      <td>2023-10-11 20:10:24.696280</td>\n",
       "      <td>2023-10-11 20:10:25.193392</td>\n",
       "      <td>0 days 00:00:00.497112</td>\n",
       "      <td>0.000632</td>\n",
       "      <td>0.082575</td>\n",
       "      <td>43</td>\n",
       "      <td>513</td>\n",
       "      <td>COMPLETE</td>\n",
       "    </tr>\n",
       "    <tr>\n",
       "      <th>28</th>\n",
       "      <td>28</td>\n",
       "      <td>0.661849</td>\n",
       "      <td>2023-10-11 20:10:25.194392</td>\n",
       "      <td>2023-10-11 20:10:25.787525</td>\n",
       "      <td>0 days 00:00:00.593133</td>\n",
       "      <td>0.000880</td>\n",
       "      <td>0.068716</td>\n",
       "      <td>86</td>\n",
       "      <td>637</td>\n",
       "      <td>COMPLETE</td>\n",
       "    </tr>\n",
       "    <tr>\n",
       "      <th>29</th>\n",
       "      <td>29</td>\n",
       "      <td>0.661478</td>\n",
       "      <td>2023-10-11 20:10:25.788526</td>\n",
       "      <td>2023-10-11 20:10:26.449674</td>\n",
       "      <td>0 days 00:00:00.661148</td>\n",
       "      <td>0.000657</td>\n",
       "      <td>0.054165</td>\n",
       "      <td>50</td>\n",
       "      <td>558</td>\n",
       "      <td>COMPLETE</td>\n",
       "    </tr>\n",
       "    <tr>\n",
       "      <th>30</th>\n",
       "      <td>30</td>\n",
       "      <td>0.660615</td>\n",
       "      <td>2023-10-11 20:10:26.450674</td>\n",
       "      <td>2023-10-11 20:10:26.879770</td>\n",
       "      <td>0 days 00:00:00.429096</td>\n",
       "      <td>0.000549</td>\n",
       "      <td>0.092764</td>\n",
       "      <td>67</td>\n",
       "      <td>755</td>\n",
       "      <td>COMPLETE</td>\n",
       "    </tr>\n",
       "    <tr>\n",
       "      <th>31</th>\n",
       "      <td>31</td>\n",
       "      <td>0.660760</td>\n",
       "      <td>2023-10-11 20:10:26.880770</td>\n",
       "      <td>2023-10-11 20:10:27.406889</td>\n",
       "      <td>0 days 00:00:00.526119</td>\n",
       "      <td>0.000708</td>\n",
       "      <td>0.074151</td>\n",
       "      <td>72</td>\n",
       "      <td>441</td>\n",
       "      <td>COMPLETE</td>\n",
       "    </tr>\n",
       "    <tr>\n",
       "      <th>32</th>\n",
       "      <td>32</td>\n",
       "      <td>0.662202</td>\n",
       "      <td>2023-10-11 20:10:27.407889</td>\n",
       "      <td>2023-10-11 20:10:28.095043</td>\n",
       "      <td>0 days 00:00:00.687154</td>\n",
       "      <td>0.000665</td>\n",
       "      <td>0.059673</td>\n",
       "      <td>71</td>\n",
       "      <td>505</td>\n",
       "      <td>COMPLETE</td>\n",
       "    </tr>\n",
       "    <tr>\n",
       "      <th>33</th>\n",
       "      <td>33</td>\n",
       "      <td>0.661264</td>\n",
       "      <td>2023-10-11 20:10:28.096044</td>\n",
       "      <td>2023-10-11 20:10:28.679174</td>\n",
       "      <td>0 days 00:00:00.583130</td>\n",
       "      <td>0.000735</td>\n",
       "      <td>0.072689</td>\n",
       "      <td>58</td>\n",
       "      <td>317</td>\n",
       "      <td>COMPLETE</td>\n",
       "    </tr>\n",
       "    <tr>\n",
       "      <th>34</th>\n",
       "      <td>34</td>\n",
       "      <td>0.661696</td>\n",
       "      <td>2023-10-11 20:10:28.680174</td>\n",
       "      <td>2023-10-11 20:10:29.242300</td>\n",
       "      <td>0 days 00:00:00.562126</td>\n",
       "      <td>0.000818</td>\n",
       "      <td>0.065351</td>\n",
       "      <td>77</td>\n",
       "      <td>383</td>\n",
       "      <td>COMPLETE</td>\n",
       "    </tr>\n",
       "    <tr>\n",
       "      <th>35</th>\n",
       "      <td>35</td>\n",
       "      <td>0.662118</td>\n",
       "      <td>2023-10-11 20:10:29.243301</td>\n",
       "      <td>2023-10-11 20:10:29.787423</td>\n",
       "      <td>0 days 00:00:00.544122</td>\n",
       "      <td>0.000566</td>\n",
       "      <td>0.079222</td>\n",
       "      <td>18</td>\n",
       "      <td>448</td>\n",
       "      <td>COMPLETE</td>\n",
       "    </tr>\n",
       "    <tr>\n",
       "      <th>36</th>\n",
       "      <td>36</td>\n",
       "      <td>0.662239</td>\n",
       "      <td>2023-10-11 20:10:29.788423</td>\n",
       "      <td>2023-10-11 20:10:30.231522</td>\n",
       "      <td>0 days 00:00:00.443099</td>\n",
       "      <td>0.000682</td>\n",
       "      <td>0.094341</td>\n",
       "      <td>97</td>\n",
       "      <td>621</td>\n",
       "      <td>COMPLETE</td>\n",
       "    </tr>\n",
       "    <tr>\n",
       "      <th>37</th>\n",
       "      <td>37</td>\n",
       "      <td>0.663126</td>\n",
       "      <td>2023-10-11 20:10:30.232523</td>\n",
       "      <td>2023-10-11 20:10:30.729634</td>\n",
       "      <td>0 days 00:00:00.497111</td>\n",
       "      <td>0.000652</td>\n",
       "      <td>0.086342</td>\n",
       "      <td>69</td>\n",
       "      <td>193</td>\n",
       "      <td>COMPLETE</td>\n",
       "    </tr>\n",
       "    <tr>\n",
       "      <th>38</th>\n",
       "      <td>38</td>\n",
       "      <td>0.663308</td>\n",
       "      <td>2023-10-11 20:10:30.730634</td>\n",
       "      <td>2023-10-11 20:10:31.207741</td>\n",
       "      <td>0 days 00:00:00.477107</td>\n",
       "      <td>0.000455</td>\n",
       "      <td>0.094946</td>\n",
       "      <td>83</td>\n",
       "      <td>110</td>\n",
       "      <td>COMPLETE</td>\n",
       "    </tr>\n",
       "    <tr>\n",
       "      <th>39</th>\n",
       "      <td>39</td>\n",
       "      <td>0.661489</td>\n",
       "      <td>2023-10-11 20:10:31.208741</td>\n",
       "      <td>2023-10-11 20:10:31.646839</td>\n",
       "      <td>0 days 00:00:00.438098</td>\n",
       "      <td>0.000365</td>\n",
       "      <td>0.095078</td>\n",
       "      <td>85</td>\n",
       "      <td>198</td>\n",
       "      <td>COMPLETE</td>\n",
       "    </tr>\n",
       "    <tr>\n",
       "      <th>40</th>\n",
       "      <td>40</td>\n",
       "      <td>0.660543</td>\n",
       "      <td>2023-10-11 20:10:31.647840</td>\n",
       "      <td>2023-10-11 20:10:32.119946</td>\n",
       "      <td>0 days 00:00:00.472106</td>\n",
       "      <td>0.000437</td>\n",
       "      <td>0.087011</td>\n",
       "      <td>51</td>\n",
       "      <td>130</td>\n",
       "      <td>COMPLETE</td>\n",
       "    </tr>\n",
       "    <tr>\n",
       "      <th>41</th>\n",
       "      <td>41</td>\n",
       "      <td>0.661890</td>\n",
       "      <td>2023-10-11 20:10:32.120946</td>\n",
       "      <td>2023-10-11 20:10:32.618058</td>\n",
       "      <td>0 days 00:00:00.497112</td>\n",
       "      <td>0.000631</td>\n",
       "      <td>0.093124</td>\n",
       "      <td>91</td>\n",
       "      <td>192</td>\n",
       "      <td>COMPLETE</td>\n",
       "    </tr>\n",
       "    <tr>\n",
       "      <th>42</th>\n",
       "      <td>42</td>\n",
       "      <td>0.662225</td>\n",
       "      <td>2023-10-11 20:10:32.619058</td>\n",
       "      <td>2023-10-11 20:10:33.125171</td>\n",
       "      <td>0 days 00:00:00.506113</td>\n",
       "      <td>0.000507</td>\n",
       "      <td>0.085172</td>\n",
       "      <td>67</td>\n",
       "      <td>117</td>\n",
       "      <td>COMPLETE</td>\n",
       "    </tr>\n",
       "    <tr>\n",
       "      <th>43</th>\n",
       "      <td>43</td>\n",
       "      <td>0.661805</td>\n",
       "      <td>2023-10-11 20:10:33.125171</td>\n",
       "      <td>2023-10-11 20:10:33.572272</td>\n",
       "      <td>0 days 00:00:00.447101</td>\n",
       "      <td>0.000302</td>\n",
       "      <td>0.096524</td>\n",
       "      <td>81</td>\n",
       "      <td>315</td>\n",
       "      <td>COMPLETE</td>\n",
       "    </tr>\n",
       "    <tr>\n",
       "      <th>44</th>\n",
       "      <td>44</td>\n",
       "      <td>0.661550</td>\n",
       "      <td>2023-10-11 20:10:33.573272</td>\n",
       "      <td>2023-10-11 20:10:34.067886</td>\n",
       "      <td>0 days 00:00:00.494614</td>\n",
       "      <td>0.000578</td>\n",
       "      <td>0.080562</td>\n",
       "      <td>62</td>\n",
       "      <td>184</td>\n",
       "      <td>COMPLETE</td>\n",
       "    </tr>\n",
       "    <tr>\n",
       "      <th>45</th>\n",
       "      <td>45</td>\n",
       "      <td>0.661626</td>\n",
       "      <td>2023-10-11 20:10:34.068887</td>\n",
       "      <td>2023-10-11 20:10:34.559996</td>\n",
       "      <td>0 days 00:00:00.491109</td>\n",
       "      <td>0.000633</td>\n",
       "      <td>0.088047</td>\n",
       "      <td>94</td>\n",
       "      <td>105</td>\n",
       "      <td>COMPLETE</td>\n",
       "    </tr>\n",
       "    <tr>\n",
       "      <th>46</th>\n",
       "      <td>46</td>\n",
       "      <td>0.662697</td>\n",
       "      <td>2023-10-11 20:10:34.560997</td>\n",
       "      <td>2023-10-11 20:10:34.987093</td>\n",
       "      <td>0 days 00:00:00.426096</td>\n",
       "      <td>0.000743</td>\n",
       "      <td>0.099459</td>\n",
       "      <td>85</td>\n",
       "      <td>237</td>\n",
       "      <td>COMPLETE</td>\n",
       "    </tr>\n",
       "    <tr>\n",
       "      <th>47</th>\n",
       "      <td>47</td>\n",
       "      <td>0.660951</td>\n",
       "      <td>2023-10-11 20:10:34.988093</td>\n",
       "      <td>2023-10-11 20:10:35.476202</td>\n",
       "      <td>0 days 00:00:00.488109</td>\n",
       "      <td>0.000441</td>\n",
       "      <td>0.083475</td>\n",
       "      <td>77</td>\n",
       "      <td>866</td>\n",
       "      <td>COMPLETE</td>\n",
       "    </tr>\n",
       "    <tr>\n",
       "      <th>48</th>\n",
       "      <td>48</td>\n",
       "      <td>0.659929</td>\n",
       "      <td>2023-10-11 20:10:35.477202</td>\n",
       "      <td>2023-10-11 20:10:35.958311</td>\n",
       "      <td>0 days 00:00:00.481109</td>\n",
       "      <td>0.000555</td>\n",
       "      <td>0.091185</td>\n",
       "      <td>54</td>\n",
       "      <td>151</td>\n",
       "      <td>COMPLETE</td>\n",
       "    </tr>\n",
       "    <tr>\n",
       "      <th>49</th>\n",
       "      <td>49</td>\n",
       "      <td>0.661646</td>\n",
       "      <td>2023-10-11 20:10:35.959311</td>\n",
       "      <td>2023-10-11 20:10:36.491430</td>\n",
       "      <td>0 days 00:00:00.532119</td>\n",
       "      <td>0.000842</td>\n",
       "      <td>0.077746</td>\n",
       "      <td>61</td>\n",
       "      <td>332</td>\n",
       "      <td>COMPLETE</td>\n",
       "    </tr>\n",
       "  </tbody>\n",
       "</table>\n",
       "</div>"
      ],
      "text/plain": [
       "    number     value             datetime_start          datetime_complete  \\\n",
       "0        0  0.660572 2023-10-11 20:10:07.397564 2023-10-11 20:10:09.252817   \n",
       "1        1  0.661516 2023-10-11 20:10:09.253817 2023-10-11 20:10:11.069224   \n",
       "2        2  0.661724 2023-10-11 20:10:11.070225 2023-10-11 20:10:11.475315   \n",
       "3        3  0.661739 2023-10-11 20:10:11.476315 2023-10-11 20:10:12.001433   \n",
       "4        4  0.661067 2023-10-11 20:10:12.002433 2023-10-11 20:10:12.441532   \n",
       "5        5  0.661316 2023-10-11 20:10:12.442532 2023-10-11 20:10:12.948646   \n",
       "6        6  0.661733 2023-10-11 20:10:12.949646 2023-10-11 20:10:13.463761   \n",
       "7        7  0.662052 2023-10-11 20:10:13.464761 2023-10-11 20:10:14.209928   \n",
       "8        8  0.662063 2023-10-11 20:10:14.210929 2023-10-11 20:10:14.837069   \n",
       "9        9  0.662182 2023-10-11 20:10:14.838069 2023-10-11 20:10:15.330180   \n",
       "10      10  0.661881 2023-10-11 20:10:15.331180 2023-10-11 20:10:16.004331   \n",
       "11      11  0.661443 2023-10-11 20:10:16.005331 2023-10-11 20:10:16.600465   \n",
       "12      12  0.660297 2023-10-11 20:10:16.601465 2023-10-11 20:10:17.064569   \n",
       "13      13  0.663221 2023-10-11 20:10:17.065569 2023-10-11 20:10:17.675706   \n",
       "14      14  0.662761 2023-10-11 20:10:17.676706 2023-10-11 20:10:18.140811   \n",
       "15      15  0.661188 2023-10-11 20:10:18.141811 2023-10-11 20:10:18.580909   \n",
       "16      16  0.661557 2023-10-11 20:10:18.581909 2023-10-11 20:10:19.414096   \n",
       "17      17  0.661867 2023-10-11 20:10:19.415097 2023-10-11 20:10:19.880200   \n",
       "18      18  0.662729 2023-10-11 20:10:19.881201 2023-10-11 20:10:20.429324   \n",
       "19      19  0.661765 2023-10-11 20:10:20.430324 2023-10-11 20:10:20.904430   \n",
       "20      20  0.661432 2023-10-11 20:10:20.905430 2023-10-11 20:10:21.549575   \n",
       "21      21  0.662729 2023-10-11 20:10:21.550575 2023-10-11 20:10:22.099699   \n",
       "22      22  0.661976 2023-10-11 20:10:22.100699 2023-10-11 20:10:22.604812   \n",
       "23      23  0.661571 2023-10-11 20:10:22.605812 2023-10-11 20:10:23.203946   \n",
       "24      24  0.661707 2023-10-11 20:10:23.204946 2023-10-11 20:10:23.709059   \n",
       "25      25  0.662129 2023-10-11 20:10:23.710059 2023-10-11 20:10:24.254181   \n",
       "26      26  0.662054 2023-10-11 20:10:24.255182 2023-10-11 20:10:24.695280   \n",
       "27      27  0.660980 2023-10-11 20:10:24.696280 2023-10-11 20:10:25.193392   \n",
       "28      28  0.661849 2023-10-11 20:10:25.194392 2023-10-11 20:10:25.787525   \n",
       "29      29  0.661478 2023-10-11 20:10:25.788526 2023-10-11 20:10:26.449674   \n",
       "30      30  0.660615 2023-10-11 20:10:26.450674 2023-10-11 20:10:26.879770   \n",
       "31      31  0.660760 2023-10-11 20:10:26.880770 2023-10-11 20:10:27.406889   \n",
       "32      32  0.662202 2023-10-11 20:10:27.407889 2023-10-11 20:10:28.095043   \n",
       "33      33  0.661264 2023-10-11 20:10:28.096044 2023-10-11 20:10:28.679174   \n",
       "34      34  0.661696 2023-10-11 20:10:28.680174 2023-10-11 20:10:29.242300   \n",
       "35      35  0.662118 2023-10-11 20:10:29.243301 2023-10-11 20:10:29.787423   \n",
       "36      36  0.662239 2023-10-11 20:10:29.788423 2023-10-11 20:10:30.231522   \n",
       "37      37  0.663126 2023-10-11 20:10:30.232523 2023-10-11 20:10:30.729634   \n",
       "38      38  0.663308 2023-10-11 20:10:30.730634 2023-10-11 20:10:31.207741   \n",
       "39      39  0.661489 2023-10-11 20:10:31.208741 2023-10-11 20:10:31.646839   \n",
       "40      40  0.660543 2023-10-11 20:10:31.647840 2023-10-11 20:10:32.119946   \n",
       "41      41  0.661890 2023-10-11 20:10:32.120946 2023-10-11 20:10:32.618058   \n",
       "42      42  0.662225 2023-10-11 20:10:32.619058 2023-10-11 20:10:33.125171   \n",
       "43      43  0.661805 2023-10-11 20:10:33.125171 2023-10-11 20:10:33.572272   \n",
       "44      44  0.661550 2023-10-11 20:10:33.573272 2023-10-11 20:10:34.067886   \n",
       "45      45  0.661626 2023-10-11 20:10:34.068887 2023-10-11 20:10:34.559996   \n",
       "46      46  0.662697 2023-10-11 20:10:34.560997 2023-10-11 20:10:34.987093   \n",
       "47      47  0.660951 2023-10-11 20:10:34.988093 2023-10-11 20:10:35.476202   \n",
       "48      48  0.659929 2023-10-11 20:10:35.477202 2023-10-11 20:10:35.958311   \n",
       "49      49  0.661646 2023-10-11 20:10:35.959311 2023-10-11 20:10:36.491430   \n",
       "\n",
       "                 duration  params_l2_regularization  params_learning_rate  \\\n",
       "0  0 days 00:00:01.855253                  0.000343              0.015922   \n",
       "1  0 days 00:00:01.815407                  0.000229              0.015436   \n",
       "2  0 days 00:00:00.405090                  0.000371              0.093811   \n",
       "3  0 days 00:00:00.525118                  0.000303              0.070437   \n",
       "4  0 days 00:00:00.439099                  0.000610              0.097102   \n",
       "5  0 days 00:00:00.506114                  0.000162              0.076706   \n",
       "6  0 days 00:00:00.514115                  0.000991              0.081548   \n",
       "7  0 days 00:00:00.745167                  0.000091              0.045976   \n",
       "8  0 days 00:00:00.626140                  0.000216              0.065050   \n",
       "9  0 days 00:00:00.492111                  0.000791              0.083498   \n",
       "10 0 days 00:00:00.673151                  0.000708              0.052165   \n",
       "11 0 days 00:00:00.595134                  0.000033              0.062250   \n",
       "12 0 days 00:00:00.463104                  0.000453              0.085298   \n",
       "13 0 days 00:00:00.610137                  0.000763              0.064370   \n",
       "14 0 days 00:00:00.464105                  0.000795              0.099490   \n",
       "15 0 days 00:00:00.439098                  0.000889              0.099732   \n",
       "16 0 days 00:00:00.832187                  0.000596              0.040686   \n",
       "17 0 days 00:00:00.465103                  0.000775              0.090821   \n",
       "18 0 days 00:00:00.548123                  0.000634              0.073543   \n",
       "19 0 days 00:00:00.474106                  0.000525              0.089117   \n",
       "20 0 days 00:00:00.644145                  0.000881              0.059565   \n",
       "21 0 days 00:00:00.549124                  0.000679              0.073535   \n",
       "22 0 days 00:00:00.504113                  0.000694              0.078354   \n",
       "23 0 days 00:00:00.598134                  0.000598              0.068745   \n",
       "24 0 days 00:00:00.504113                  0.000800              0.088872   \n",
       "25 0 days 00:00:00.544122                  0.000490              0.075581   \n",
       "26 0 days 00:00:00.440098                  0.000739              0.099631   \n",
       "27 0 days 00:00:00.497112                  0.000632              0.082575   \n",
       "28 0 days 00:00:00.593133                  0.000880              0.068716   \n",
       "29 0 days 00:00:00.661148                  0.000657              0.054165   \n",
       "30 0 days 00:00:00.429096                  0.000549              0.092764   \n",
       "31 0 days 00:00:00.526119                  0.000708              0.074151   \n",
       "32 0 days 00:00:00.687154                  0.000665              0.059673   \n",
       "33 0 days 00:00:00.583130                  0.000735              0.072689   \n",
       "34 0 days 00:00:00.562126                  0.000818              0.065351   \n",
       "35 0 days 00:00:00.544122                  0.000566              0.079222   \n",
       "36 0 days 00:00:00.443099                  0.000682              0.094341   \n",
       "37 0 days 00:00:00.497111                  0.000652              0.086342   \n",
       "38 0 days 00:00:00.477107                  0.000455              0.094946   \n",
       "39 0 days 00:00:00.438098                  0.000365              0.095078   \n",
       "40 0 days 00:00:00.472106                  0.000437              0.087011   \n",
       "41 0 days 00:00:00.497112                  0.000631              0.093124   \n",
       "42 0 days 00:00:00.506113                  0.000507              0.085172   \n",
       "43 0 days 00:00:00.447101                  0.000302              0.096524   \n",
       "44 0 days 00:00:00.494614                  0.000578              0.080562   \n",
       "45 0 days 00:00:00.491109                  0.000633              0.088047   \n",
       "46 0 days 00:00:00.426096                  0.000743              0.099459   \n",
       "47 0 days 00:00:00.488109                  0.000441              0.083475   \n",
       "48 0 days 00:00:00.481109                  0.000555              0.091185   \n",
       "49 0 days 00:00:00.532119                  0.000842              0.077746   \n",
       "\n",
       "    params_max_depth  params_max_iter     state  \n",
       "0                 47              610  COMPLETE  \n",
       "1                 24              856  COMPLETE  \n",
       "2                 10              357  COMPLETE  \n",
       "3                 82              169  COMPLETE  \n",
       "4                 89              951  COMPLETE  \n",
       "5                 90              374  COMPLETE  \n",
       "6                 73              151  COMPLETE  \n",
       "7                 46              666  COMPLETE  \n",
       "8                 51              908  COMPLETE  \n",
       "9                 34              694  COMPLETE  \n",
       "10                29              709  COMPLETE  \n",
       "11                64              782  COMPLETE  \n",
       "12                39              991  COMPLETE  \n",
       "13                58              503  COMPLETE  \n",
       "14                66              476  COMPLETE  \n",
       "15                63              480  COMPLETE  \n",
       "16                62              514  COMPLETE  \n",
       "17                99              361  COMPLETE  \n",
       "18                71              451  COMPLETE  \n",
       "19                75              261  COMPLETE  \n",
       "20                57              567  COMPLETE  \n",
       "21                71              453  COMPLETE  \n",
       "22                80              444  COMPLETE  \n",
       "23                68              272  COMPLETE  \n",
       "24                55              593  COMPLETE  \n",
       "25                58              415  COMPLETE  \n",
       "26                79              274  COMPLETE  \n",
       "27                43              513  COMPLETE  \n",
       "28                86              637  COMPLETE  \n",
       "29                50              558  COMPLETE  \n",
       "30                67              755  COMPLETE  \n",
       "31                72              441  COMPLETE  \n",
       "32                71              505  COMPLETE  \n",
       "33                58              317  COMPLETE  \n",
       "34                77              383  COMPLETE  \n",
       "35                18              448  COMPLETE  \n",
       "36                97              621  COMPLETE  \n",
       "37                69              193  COMPLETE  \n",
       "38                83              110  COMPLETE  \n",
       "39                85              198  COMPLETE  \n",
       "40                51              130  COMPLETE  \n",
       "41                91              192  COMPLETE  \n",
       "42                67              117  COMPLETE  \n",
       "43                81              315  COMPLETE  \n",
       "44                62              184  COMPLETE  \n",
       "45                94              105  COMPLETE  \n",
       "46                85              237  COMPLETE  \n",
       "47                77              866  COMPLETE  \n",
       "48                54              151  COMPLETE  \n",
       "49                61              332  COMPLETE  "
      ]
     },
     "execution_count": 29,
     "metadata": {},
     "output_type": "execute_result"
    }
   ],
   "source": [
    "study.trials_dataframe()"
   ]
  },
  {
   "cell_type": "code",
   "execution_count": 30,
   "id": "b2ba7feb",
   "metadata": {},
   "outputs": [
    {
     "data": {
      "text/plain": [
       "{'max_iter': 110,\n",
       " 'learning_rate': 0.09494605702447576,\n",
       " 'max_depth': 83,\n",
       " 'l2_regularization': 0.00045512891761208057}"
      ]
     },
     "execution_count": 30,
     "metadata": {},
     "output_type": "execute_result"
    }
   ],
   "source": [
    "study.best_trial.params"
   ]
  },
  {
   "cell_type": "code",
   "execution_count": 33,
   "id": "b5dd9137",
   "metadata": {},
   "outputs": [
    {
     "data": {
      "application/vnd.plotly.v1+json": {
       "config": {
        "plotlyServerURL": "https://plot.ly"
       },
       "data": [
        {
         "cliponaxis": false,
         "hovertemplate": [
          "learning_rate (FloatDistribution): 0.18887375401807427<extra></extra>",
          "max_depth (IntDistribution): 0.19266890003061357<extra></extra>",
          "l2_regularization (FloatDistribution): 0.304169589675995<extra></extra>",
          "max_iter (IntDistribution): 0.31428775627531724<extra></extra>"
         ],
         "marker": {
          "color": "rgb(66,146,198)"
         },
         "orientation": "h",
         "text": [
          "0.19",
          "0.19",
          "0.30",
          "0.31"
         ],
         "textposition": "outside",
         "type": "bar",
         "x": [
          0.18887375401807427,
          0.19266890003061357,
          0.304169589675995,
          0.31428775627531724
         ],
         "y": [
          "learning_rate",
          "max_depth",
          "l2_regularization",
          "max_iter"
         ]
        }
       ],
       "layout": {
        "showlegend": false,
        "template": {
         "data": {
          "bar": [
           {
            "error_x": {
             "color": "#2a3f5f"
            },
            "error_y": {
             "color": "#2a3f5f"
            },
            "marker": {
             "line": {
              "color": "#E5ECF6",
              "width": 0.5
             },
             "pattern": {
              "fillmode": "overlay",
              "size": 10,
              "solidity": 0.2
             }
            },
            "type": "bar"
           }
          ],
          "barpolar": [
           {
            "marker": {
             "line": {
              "color": "#E5ECF6",
              "width": 0.5
             },
             "pattern": {
              "fillmode": "overlay",
              "size": 10,
              "solidity": 0.2
             }
            },
            "type": "barpolar"
           }
          ],
          "carpet": [
           {
            "aaxis": {
             "endlinecolor": "#2a3f5f",
             "gridcolor": "white",
             "linecolor": "white",
             "minorgridcolor": "white",
             "startlinecolor": "#2a3f5f"
            },
            "baxis": {
             "endlinecolor": "#2a3f5f",
             "gridcolor": "white",
             "linecolor": "white",
             "minorgridcolor": "white",
             "startlinecolor": "#2a3f5f"
            },
            "type": "carpet"
           }
          ],
          "choropleth": [
           {
            "colorbar": {
             "outlinewidth": 0,
             "ticks": ""
            },
            "type": "choropleth"
           }
          ],
          "contour": [
           {
            "colorbar": {
             "outlinewidth": 0,
             "ticks": ""
            },
            "colorscale": [
             [
              0,
              "#0d0887"
             ],
             [
              0.1111111111111111,
              "#46039f"
             ],
             [
              0.2222222222222222,
              "#7201a8"
             ],
             [
              0.3333333333333333,
              "#9c179e"
             ],
             [
              0.4444444444444444,
              "#bd3786"
             ],
             [
              0.5555555555555556,
              "#d8576b"
             ],
             [
              0.6666666666666666,
              "#ed7953"
             ],
             [
              0.7777777777777778,
              "#fb9f3a"
             ],
             [
              0.8888888888888888,
              "#fdca26"
             ],
             [
              1,
              "#f0f921"
             ]
            ],
            "type": "contour"
           }
          ],
          "contourcarpet": [
           {
            "colorbar": {
             "outlinewidth": 0,
             "ticks": ""
            },
            "type": "contourcarpet"
           }
          ],
          "heatmap": [
           {
            "colorbar": {
             "outlinewidth": 0,
             "ticks": ""
            },
            "colorscale": [
             [
              0,
              "#0d0887"
             ],
             [
              0.1111111111111111,
              "#46039f"
             ],
             [
              0.2222222222222222,
              "#7201a8"
             ],
             [
              0.3333333333333333,
              "#9c179e"
             ],
             [
              0.4444444444444444,
              "#bd3786"
             ],
             [
              0.5555555555555556,
              "#d8576b"
             ],
             [
              0.6666666666666666,
              "#ed7953"
             ],
             [
              0.7777777777777778,
              "#fb9f3a"
             ],
             [
              0.8888888888888888,
              "#fdca26"
             ],
             [
              1,
              "#f0f921"
             ]
            ],
            "type": "heatmap"
           }
          ],
          "heatmapgl": [
           {
            "colorbar": {
             "outlinewidth": 0,
             "ticks": ""
            },
            "colorscale": [
             [
              0,
              "#0d0887"
             ],
             [
              0.1111111111111111,
              "#46039f"
             ],
             [
              0.2222222222222222,
              "#7201a8"
             ],
             [
              0.3333333333333333,
              "#9c179e"
             ],
             [
              0.4444444444444444,
              "#bd3786"
             ],
             [
              0.5555555555555556,
              "#d8576b"
             ],
             [
              0.6666666666666666,
              "#ed7953"
             ],
             [
              0.7777777777777778,
              "#fb9f3a"
             ],
             [
              0.8888888888888888,
              "#fdca26"
             ],
             [
              1,
              "#f0f921"
             ]
            ],
            "type": "heatmapgl"
           }
          ],
          "histogram": [
           {
            "marker": {
             "pattern": {
              "fillmode": "overlay",
              "size": 10,
              "solidity": 0.2
             }
            },
            "type": "histogram"
           }
          ],
          "histogram2d": [
           {
            "colorbar": {
             "outlinewidth": 0,
             "ticks": ""
            },
            "colorscale": [
             [
              0,
              "#0d0887"
             ],
             [
              0.1111111111111111,
              "#46039f"
             ],
             [
              0.2222222222222222,
              "#7201a8"
             ],
             [
              0.3333333333333333,
              "#9c179e"
             ],
             [
              0.4444444444444444,
              "#bd3786"
             ],
             [
              0.5555555555555556,
              "#d8576b"
             ],
             [
              0.6666666666666666,
              "#ed7953"
             ],
             [
              0.7777777777777778,
              "#fb9f3a"
             ],
             [
              0.8888888888888888,
              "#fdca26"
             ],
             [
              1,
              "#f0f921"
             ]
            ],
            "type": "histogram2d"
           }
          ],
          "histogram2dcontour": [
           {
            "colorbar": {
             "outlinewidth": 0,
             "ticks": ""
            },
            "colorscale": [
             [
              0,
              "#0d0887"
             ],
             [
              0.1111111111111111,
              "#46039f"
             ],
             [
              0.2222222222222222,
              "#7201a8"
             ],
             [
              0.3333333333333333,
              "#9c179e"
             ],
             [
              0.4444444444444444,
              "#bd3786"
             ],
             [
              0.5555555555555556,
              "#d8576b"
             ],
             [
              0.6666666666666666,
              "#ed7953"
             ],
             [
              0.7777777777777778,
              "#fb9f3a"
             ],
             [
              0.8888888888888888,
              "#fdca26"
             ],
             [
              1,
              "#f0f921"
             ]
            ],
            "type": "histogram2dcontour"
           }
          ],
          "mesh3d": [
           {
            "colorbar": {
             "outlinewidth": 0,
             "ticks": ""
            },
            "type": "mesh3d"
           }
          ],
          "parcoords": [
           {
            "line": {
             "colorbar": {
              "outlinewidth": 0,
              "ticks": ""
             }
            },
            "type": "parcoords"
           }
          ],
          "pie": [
           {
            "automargin": true,
            "type": "pie"
           }
          ],
          "scatter": [
           {
            "fillpattern": {
             "fillmode": "overlay",
             "size": 10,
             "solidity": 0.2
            },
            "type": "scatter"
           }
          ],
          "scatter3d": [
           {
            "line": {
             "colorbar": {
              "outlinewidth": 0,
              "ticks": ""
             }
            },
            "marker": {
             "colorbar": {
              "outlinewidth": 0,
              "ticks": ""
             }
            },
            "type": "scatter3d"
           }
          ],
          "scattercarpet": [
           {
            "marker": {
             "colorbar": {
              "outlinewidth": 0,
              "ticks": ""
             }
            },
            "type": "scattercarpet"
           }
          ],
          "scattergeo": [
           {
            "marker": {
             "colorbar": {
              "outlinewidth": 0,
              "ticks": ""
             }
            },
            "type": "scattergeo"
           }
          ],
          "scattergl": [
           {
            "marker": {
             "colorbar": {
              "outlinewidth": 0,
              "ticks": ""
             }
            },
            "type": "scattergl"
           }
          ],
          "scattermapbox": [
           {
            "marker": {
             "colorbar": {
              "outlinewidth": 0,
              "ticks": ""
             }
            },
            "type": "scattermapbox"
           }
          ],
          "scatterpolar": [
           {
            "marker": {
             "colorbar": {
              "outlinewidth": 0,
              "ticks": ""
             }
            },
            "type": "scatterpolar"
           }
          ],
          "scatterpolargl": [
           {
            "marker": {
             "colorbar": {
              "outlinewidth": 0,
              "ticks": ""
             }
            },
            "type": "scatterpolargl"
           }
          ],
          "scatterternary": [
           {
            "marker": {
             "colorbar": {
              "outlinewidth": 0,
              "ticks": ""
             }
            },
            "type": "scatterternary"
           }
          ],
          "surface": [
           {
            "colorbar": {
             "outlinewidth": 0,
             "ticks": ""
            },
            "colorscale": [
             [
              0,
              "#0d0887"
             ],
             [
              0.1111111111111111,
              "#46039f"
             ],
             [
              0.2222222222222222,
              "#7201a8"
             ],
             [
              0.3333333333333333,
              "#9c179e"
             ],
             [
              0.4444444444444444,
              "#bd3786"
             ],
             [
              0.5555555555555556,
              "#d8576b"
             ],
             [
              0.6666666666666666,
              "#ed7953"
             ],
             [
              0.7777777777777778,
              "#fb9f3a"
             ],
             [
              0.8888888888888888,
              "#fdca26"
             ],
             [
              1,
              "#f0f921"
             ]
            ],
            "type": "surface"
           }
          ],
          "table": [
           {
            "cells": {
             "fill": {
              "color": "#EBF0F8"
             },
             "line": {
              "color": "white"
             }
            },
            "header": {
             "fill": {
              "color": "#C8D4E3"
             },
             "line": {
              "color": "white"
             }
            },
            "type": "table"
           }
          ]
         },
         "layout": {
          "annotationdefaults": {
           "arrowcolor": "#2a3f5f",
           "arrowhead": 0,
           "arrowwidth": 1
          },
          "autotypenumbers": "strict",
          "coloraxis": {
           "colorbar": {
            "outlinewidth": 0,
            "ticks": ""
           }
          },
          "colorscale": {
           "diverging": [
            [
             0,
             "#8e0152"
            ],
            [
             0.1,
             "#c51b7d"
            ],
            [
             0.2,
             "#de77ae"
            ],
            [
             0.3,
             "#f1b6da"
            ],
            [
             0.4,
             "#fde0ef"
            ],
            [
             0.5,
             "#f7f7f7"
            ],
            [
             0.6,
             "#e6f5d0"
            ],
            [
             0.7,
             "#b8e186"
            ],
            [
             0.8,
             "#7fbc41"
            ],
            [
             0.9,
             "#4d9221"
            ],
            [
             1,
             "#276419"
            ]
           ],
           "sequential": [
            [
             0,
             "#0d0887"
            ],
            [
             0.1111111111111111,
             "#46039f"
            ],
            [
             0.2222222222222222,
             "#7201a8"
            ],
            [
             0.3333333333333333,
             "#9c179e"
            ],
            [
             0.4444444444444444,
             "#bd3786"
            ],
            [
             0.5555555555555556,
             "#d8576b"
            ],
            [
             0.6666666666666666,
             "#ed7953"
            ],
            [
             0.7777777777777778,
             "#fb9f3a"
            ],
            [
             0.8888888888888888,
             "#fdca26"
            ],
            [
             1,
             "#f0f921"
            ]
           ],
           "sequentialminus": [
            [
             0,
             "#0d0887"
            ],
            [
             0.1111111111111111,
             "#46039f"
            ],
            [
             0.2222222222222222,
             "#7201a8"
            ],
            [
             0.3333333333333333,
             "#9c179e"
            ],
            [
             0.4444444444444444,
             "#bd3786"
            ],
            [
             0.5555555555555556,
             "#d8576b"
            ],
            [
             0.6666666666666666,
             "#ed7953"
            ],
            [
             0.7777777777777778,
             "#fb9f3a"
            ],
            [
             0.8888888888888888,
             "#fdca26"
            ],
            [
             1,
             "#f0f921"
            ]
           ]
          },
          "colorway": [
           "#636efa",
           "#EF553B",
           "#00cc96",
           "#ab63fa",
           "#FFA15A",
           "#19d3f3",
           "#FF6692",
           "#B6E880",
           "#FF97FF",
           "#FECB52"
          ],
          "font": {
           "color": "#2a3f5f"
          },
          "geo": {
           "bgcolor": "white",
           "lakecolor": "white",
           "landcolor": "#E5ECF6",
           "showlakes": true,
           "showland": true,
           "subunitcolor": "white"
          },
          "hoverlabel": {
           "align": "left"
          },
          "hovermode": "closest",
          "mapbox": {
           "style": "light"
          },
          "paper_bgcolor": "white",
          "plot_bgcolor": "#E5ECF6",
          "polar": {
           "angularaxis": {
            "gridcolor": "white",
            "linecolor": "white",
            "ticks": ""
           },
           "bgcolor": "#E5ECF6",
           "radialaxis": {
            "gridcolor": "white",
            "linecolor": "white",
            "ticks": ""
           }
          },
          "scene": {
           "xaxis": {
            "backgroundcolor": "#E5ECF6",
            "gridcolor": "white",
            "gridwidth": 2,
            "linecolor": "white",
            "showbackground": true,
            "ticks": "",
            "zerolinecolor": "white"
           },
           "yaxis": {
            "backgroundcolor": "#E5ECF6",
            "gridcolor": "white",
            "gridwidth": 2,
            "linecolor": "white",
            "showbackground": true,
            "ticks": "",
            "zerolinecolor": "white"
           },
           "zaxis": {
            "backgroundcolor": "#E5ECF6",
            "gridcolor": "white",
            "gridwidth": 2,
            "linecolor": "white",
            "showbackground": true,
            "ticks": "",
            "zerolinecolor": "white"
           }
          },
          "shapedefaults": {
           "line": {
            "color": "#2a3f5f"
           }
          },
          "ternary": {
           "aaxis": {
            "gridcolor": "white",
            "linecolor": "white",
            "ticks": ""
           },
           "baxis": {
            "gridcolor": "white",
            "linecolor": "white",
            "ticks": ""
           },
           "bgcolor": "#E5ECF6",
           "caxis": {
            "gridcolor": "white",
            "linecolor": "white",
            "ticks": ""
           }
          },
          "title": {
           "x": 0.05
          },
          "xaxis": {
           "automargin": true,
           "gridcolor": "white",
           "linecolor": "white",
           "ticks": "",
           "title": {
            "standoff": 15
           },
           "zerolinecolor": "white",
           "zerolinewidth": 2
          },
          "yaxis": {
           "automargin": true,
           "gridcolor": "white",
           "linecolor": "white",
           "ticks": "",
           "title": {
            "standoff": 15
           },
           "zerolinecolor": "white",
           "zerolinewidth": 2
          }
         }
        },
        "title": {
         "text": "Hyperparameter Importances"
        },
        "xaxis": {
         "title": {
          "text": "Importance for Objective Value"
         }
        },
        "yaxis": {
         "title": {
          "text": "Hyperparameter"
         }
        }
       }
      },
      "text/html": [
       "<div>                            <div id=\"b272d614-2532-4e77-9c77-f0b358ed4e8a\" class=\"plotly-graph-div\" style=\"height:525px; width:100%;\"></div>            <script type=\"text/javascript\">                require([\"plotly\"], function(Plotly) {                    window.PLOTLYENV=window.PLOTLYENV || {};                                    if (document.getElementById(\"b272d614-2532-4e77-9c77-f0b358ed4e8a\")) {                    Plotly.newPlot(                        \"b272d614-2532-4e77-9c77-f0b358ed4e8a\",                        [{\"cliponaxis\":false,\"hovertemplate\":[\"learning_rate (FloatDistribution): 0.18887375401807427<extra></extra>\",\"max_depth (IntDistribution): 0.19266890003061357<extra></extra>\",\"l2_regularization (FloatDistribution): 0.304169589675995<extra></extra>\",\"max_iter (IntDistribution): 0.31428775627531724<extra></extra>\"],\"marker\":{\"color\":\"rgb(66,146,198)\"},\"orientation\":\"h\",\"text\":[\"0.19\",\"0.19\",\"0.30\",\"0.31\"],\"textposition\":\"outside\",\"x\":[0.18887375401807427,0.19266890003061357,0.304169589675995,0.31428775627531724],\"y\":[\"learning_rate\",\"max_depth\",\"l2_regularization\",\"max_iter\"],\"type\":\"bar\"}],                        {\"showlegend\":false,\"title\":{\"text\":\"Hyperparameter Importances\"},\"xaxis\":{\"title\":{\"text\":\"Importance for Objective Value\"}},\"yaxis\":{\"title\":{\"text\":\"Hyperparameter\"}},\"template\":{\"data\":{\"histogram2dcontour\":[{\"type\":\"histogram2dcontour\",\"colorbar\":{\"outlinewidth\":0,\"ticks\":\"\"},\"colorscale\":[[0.0,\"#0d0887\"],[0.1111111111111111,\"#46039f\"],[0.2222222222222222,\"#7201a8\"],[0.3333333333333333,\"#9c179e\"],[0.4444444444444444,\"#bd3786\"],[0.5555555555555556,\"#d8576b\"],[0.6666666666666666,\"#ed7953\"],[0.7777777777777778,\"#fb9f3a\"],[0.8888888888888888,\"#fdca26\"],[1.0,\"#f0f921\"]]}],\"choropleth\":[{\"type\":\"choropleth\",\"colorbar\":{\"outlinewidth\":0,\"ticks\":\"\"}}],\"histogram2d\":[{\"type\":\"histogram2d\",\"colorbar\":{\"outlinewidth\":0,\"ticks\":\"\"},\"colorscale\":[[0.0,\"#0d0887\"],[0.1111111111111111,\"#46039f\"],[0.2222222222222222,\"#7201a8\"],[0.3333333333333333,\"#9c179e\"],[0.4444444444444444,\"#bd3786\"],[0.5555555555555556,\"#d8576b\"],[0.6666666666666666,\"#ed7953\"],[0.7777777777777778,\"#fb9f3a\"],[0.8888888888888888,\"#fdca26\"],[1.0,\"#f0f921\"]]}],\"heatmap\":[{\"type\":\"heatmap\",\"colorbar\":{\"outlinewidth\":0,\"ticks\":\"\"},\"colorscale\":[[0.0,\"#0d0887\"],[0.1111111111111111,\"#46039f\"],[0.2222222222222222,\"#7201a8\"],[0.3333333333333333,\"#9c179e\"],[0.4444444444444444,\"#bd3786\"],[0.5555555555555556,\"#d8576b\"],[0.6666666666666666,\"#ed7953\"],[0.7777777777777778,\"#fb9f3a\"],[0.8888888888888888,\"#fdca26\"],[1.0,\"#f0f921\"]]}],\"heatmapgl\":[{\"type\":\"heatmapgl\",\"colorbar\":{\"outlinewidth\":0,\"ticks\":\"\"},\"colorscale\":[[0.0,\"#0d0887\"],[0.1111111111111111,\"#46039f\"],[0.2222222222222222,\"#7201a8\"],[0.3333333333333333,\"#9c179e\"],[0.4444444444444444,\"#bd3786\"],[0.5555555555555556,\"#d8576b\"],[0.6666666666666666,\"#ed7953\"],[0.7777777777777778,\"#fb9f3a\"],[0.8888888888888888,\"#fdca26\"],[1.0,\"#f0f921\"]]}],\"contourcarpet\":[{\"type\":\"contourcarpet\",\"colorbar\":{\"outlinewidth\":0,\"ticks\":\"\"}}],\"contour\":[{\"type\":\"contour\",\"colorbar\":{\"outlinewidth\":0,\"ticks\":\"\"},\"colorscale\":[[0.0,\"#0d0887\"],[0.1111111111111111,\"#46039f\"],[0.2222222222222222,\"#7201a8\"],[0.3333333333333333,\"#9c179e\"],[0.4444444444444444,\"#bd3786\"],[0.5555555555555556,\"#d8576b\"],[0.6666666666666666,\"#ed7953\"],[0.7777777777777778,\"#fb9f3a\"],[0.8888888888888888,\"#fdca26\"],[1.0,\"#f0f921\"]]}],\"surface\":[{\"type\":\"surface\",\"colorbar\":{\"outlinewidth\":0,\"ticks\":\"\"},\"colorscale\":[[0.0,\"#0d0887\"],[0.1111111111111111,\"#46039f\"],[0.2222222222222222,\"#7201a8\"],[0.3333333333333333,\"#9c179e\"],[0.4444444444444444,\"#bd3786\"],[0.5555555555555556,\"#d8576b\"],[0.6666666666666666,\"#ed7953\"],[0.7777777777777778,\"#fb9f3a\"],[0.8888888888888888,\"#fdca26\"],[1.0,\"#f0f921\"]]}],\"mesh3d\":[{\"type\":\"mesh3d\",\"colorbar\":{\"outlinewidth\":0,\"ticks\":\"\"}}],\"scatter\":[{\"fillpattern\":{\"fillmode\":\"overlay\",\"size\":10,\"solidity\":0.2},\"type\":\"scatter\"}],\"parcoords\":[{\"type\":\"parcoords\",\"line\":{\"colorbar\":{\"outlinewidth\":0,\"ticks\":\"\"}}}],\"scatterpolargl\":[{\"type\":\"scatterpolargl\",\"marker\":{\"colorbar\":{\"outlinewidth\":0,\"ticks\":\"\"}}}],\"bar\":[{\"error_x\":{\"color\":\"#2a3f5f\"},\"error_y\":{\"color\":\"#2a3f5f\"},\"marker\":{\"line\":{\"color\":\"#E5ECF6\",\"width\":0.5},\"pattern\":{\"fillmode\":\"overlay\",\"size\":10,\"solidity\":0.2}},\"type\":\"bar\"}],\"scattergeo\":[{\"type\":\"scattergeo\",\"marker\":{\"colorbar\":{\"outlinewidth\":0,\"ticks\":\"\"}}}],\"scatterpolar\":[{\"type\":\"scatterpolar\",\"marker\":{\"colorbar\":{\"outlinewidth\":0,\"ticks\":\"\"}}}],\"histogram\":[{\"marker\":{\"pattern\":{\"fillmode\":\"overlay\",\"size\":10,\"solidity\":0.2}},\"type\":\"histogram\"}],\"scattergl\":[{\"type\":\"scattergl\",\"marker\":{\"colorbar\":{\"outlinewidth\":0,\"ticks\":\"\"}}}],\"scatter3d\":[{\"type\":\"scatter3d\",\"line\":{\"colorbar\":{\"outlinewidth\":0,\"ticks\":\"\"}},\"marker\":{\"colorbar\":{\"outlinewidth\":0,\"ticks\":\"\"}}}],\"scattermapbox\":[{\"type\":\"scattermapbox\",\"marker\":{\"colorbar\":{\"outlinewidth\":0,\"ticks\":\"\"}}}],\"scatterternary\":[{\"type\":\"scatterternary\",\"marker\":{\"colorbar\":{\"outlinewidth\":0,\"ticks\":\"\"}}}],\"scattercarpet\":[{\"type\":\"scattercarpet\",\"marker\":{\"colorbar\":{\"outlinewidth\":0,\"ticks\":\"\"}}}],\"carpet\":[{\"aaxis\":{\"endlinecolor\":\"#2a3f5f\",\"gridcolor\":\"white\",\"linecolor\":\"white\",\"minorgridcolor\":\"white\",\"startlinecolor\":\"#2a3f5f\"},\"baxis\":{\"endlinecolor\":\"#2a3f5f\",\"gridcolor\":\"white\",\"linecolor\":\"white\",\"minorgridcolor\":\"white\",\"startlinecolor\":\"#2a3f5f\"},\"type\":\"carpet\"}],\"table\":[{\"cells\":{\"fill\":{\"color\":\"#EBF0F8\"},\"line\":{\"color\":\"white\"}},\"header\":{\"fill\":{\"color\":\"#C8D4E3\"},\"line\":{\"color\":\"white\"}},\"type\":\"table\"}],\"barpolar\":[{\"marker\":{\"line\":{\"color\":\"#E5ECF6\",\"width\":0.5},\"pattern\":{\"fillmode\":\"overlay\",\"size\":10,\"solidity\":0.2}},\"type\":\"barpolar\"}],\"pie\":[{\"automargin\":true,\"type\":\"pie\"}]},\"layout\":{\"autotypenumbers\":\"strict\",\"colorway\":[\"#636efa\",\"#EF553B\",\"#00cc96\",\"#ab63fa\",\"#FFA15A\",\"#19d3f3\",\"#FF6692\",\"#B6E880\",\"#FF97FF\",\"#FECB52\"],\"font\":{\"color\":\"#2a3f5f\"},\"hovermode\":\"closest\",\"hoverlabel\":{\"align\":\"left\"},\"paper_bgcolor\":\"white\",\"plot_bgcolor\":\"#E5ECF6\",\"polar\":{\"bgcolor\":\"#E5ECF6\",\"angularaxis\":{\"gridcolor\":\"white\",\"linecolor\":\"white\",\"ticks\":\"\"},\"radialaxis\":{\"gridcolor\":\"white\",\"linecolor\":\"white\",\"ticks\":\"\"}},\"ternary\":{\"bgcolor\":\"#E5ECF6\",\"aaxis\":{\"gridcolor\":\"white\",\"linecolor\":\"white\",\"ticks\":\"\"},\"baxis\":{\"gridcolor\":\"white\",\"linecolor\":\"white\",\"ticks\":\"\"},\"caxis\":{\"gridcolor\":\"white\",\"linecolor\":\"white\",\"ticks\":\"\"}},\"coloraxis\":{\"colorbar\":{\"outlinewidth\":0,\"ticks\":\"\"}},\"colorscale\":{\"sequential\":[[0.0,\"#0d0887\"],[0.1111111111111111,\"#46039f\"],[0.2222222222222222,\"#7201a8\"],[0.3333333333333333,\"#9c179e\"],[0.4444444444444444,\"#bd3786\"],[0.5555555555555556,\"#d8576b\"],[0.6666666666666666,\"#ed7953\"],[0.7777777777777778,\"#fb9f3a\"],[0.8888888888888888,\"#fdca26\"],[1.0,\"#f0f921\"]],\"sequentialminus\":[[0.0,\"#0d0887\"],[0.1111111111111111,\"#46039f\"],[0.2222222222222222,\"#7201a8\"],[0.3333333333333333,\"#9c179e\"],[0.4444444444444444,\"#bd3786\"],[0.5555555555555556,\"#d8576b\"],[0.6666666666666666,\"#ed7953\"],[0.7777777777777778,\"#fb9f3a\"],[0.8888888888888888,\"#fdca26\"],[1.0,\"#f0f921\"]],\"diverging\":[[0,\"#8e0152\"],[0.1,\"#c51b7d\"],[0.2,\"#de77ae\"],[0.3,\"#f1b6da\"],[0.4,\"#fde0ef\"],[0.5,\"#f7f7f7\"],[0.6,\"#e6f5d0\"],[0.7,\"#b8e186\"],[0.8,\"#7fbc41\"],[0.9,\"#4d9221\"],[1,\"#276419\"]]},\"xaxis\":{\"gridcolor\":\"white\",\"linecolor\":\"white\",\"ticks\":\"\",\"title\":{\"standoff\":15},\"zerolinecolor\":\"white\",\"automargin\":true,\"zerolinewidth\":2},\"yaxis\":{\"gridcolor\":\"white\",\"linecolor\":\"white\",\"ticks\":\"\",\"title\":{\"standoff\":15},\"zerolinecolor\":\"white\",\"automargin\":true,\"zerolinewidth\":2},\"scene\":{\"xaxis\":{\"backgroundcolor\":\"#E5ECF6\",\"gridcolor\":\"white\",\"linecolor\":\"white\",\"showbackground\":true,\"ticks\":\"\",\"zerolinecolor\":\"white\",\"gridwidth\":2},\"yaxis\":{\"backgroundcolor\":\"#E5ECF6\",\"gridcolor\":\"white\",\"linecolor\":\"white\",\"showbackground\":true,\"ticks\":\"\",\"zerolinecolor\":\"white\",\"gridwidth\":2},\"zaxis\":{\"backgroundcolor\":\"#E5ECF6\",\"gridcolor\":\"white\",\"linecolor\":\"white\",\"showbackground\":true,\"ticks\":\"\",\"zerolinecolor\":\"white\",\"gridwidth\":2}},\"shapedefaults\":{\"line\":{\"color\":\"#2a3f5f\"}},\"annotationdefaults\":{\"arrowcolor\":\"#2a3f5f\",\"arrowhead\":0,\"arrowwidth\":1},\"geo\":{\"bgcolor\":\"white\",\"landcolor\":\"#E5ECF6\",\"subunitcolor\":\"white\",\"showland\":true,\"showlakes\":true,\"lakecolor\":\"white\"},\"title\":{\"x\":0.05},\"mapbox\":{\"style\":\"light\"}}}},                        {\"responsive\": true}                    ).then(function(){\n",
       "                            \n",
       "var gd = document.getElementById('b272d614-2532-4e77-9c77-f0b358ed4e8a');\n",
       "var x = new MutationObserver(function (mutations, observer) {{\n",
       "        var display = window.getComputedStyle(gd).display;\n",
       "        if (!display || display === 'none') {{\n",
       "            console.log([gd, 'removed!']);\n",
       "            Plotly.purge(gd);\n",
       "            observer.disconnect();\n",
       "        }}\n",
       "}});\n",
       "\n",
       "// Listen for the removal of the full notebook cells\n",
       "var notebookContainer = gd.closest('#notebook-container');\n",
       "if (notebookContainer) {{\n",
       "    x.observe(notebookContainer, {childList: true});\n",
       "}}\n",
       "\n",
       "// Listen for the clearing of the current output cell\n",
       "var outputEl = gd.closest('.output');\n",
       "if (outputEl) {{\n",
       "    x.observe(outputEl, {childList: true});\n",
       "}}\n",
       "\n",
       "                        })                };                });            </script>        </div>"
      ]
     },
     "metadata": {},
     "output_type": "display_data"
    }
   ],
   "source": [
    "optuna.visualization.plot_optimization_history(study)\n",
    "optuna.visualization.plot_param_importances(study) #max_iter : 0.31, l2 : 0.3"
   ]
  },
  {
   "cell_type": "code",
   "execution_count": 36,
   "id": "ba3f94d8",
   "metadata": {},
   "outputs": [],
   "source": [
    "Hgbm_best = HistGradientBoostingClassifier(**study.best_trial.params,\n",
    "                                           loss = \"log_loss\", \n",
    "                                            random_state=61)"
   ]
  },
  {
   "cell_type": "code",
   "execution_count": 37,
   "id": "4685a207",
   "metadata": {},
   "outputs": [
    {
     "data": {
      "text/html": [
       "<style>#sk-container-id-1 {color: black;}#sk-container-id-1 pre{padding: 0;}#sk-container-id-1 div.sk-toggleable {background-color: white;}#sk-container-id-1 label.sk-toggleable__label {cursor: pointer;display: block;width: 100%;margin-bottom: 0;padding: 0.3em;box-sizing: border-box;text-align: center;}#sk-container-id-1 label.sk-toggleable__label-arrow:before {content: \"▸\";float: left;margin-right: 0.25em;color: #696969;}#sk-container-id-1 label.sk-toggleable__label-arrow:hover:before {color: black;}#sk-container-id-1 div.sk-estimator:hover label.sk-toggleable__label-arrow:before {color: black;}#sk-container-id-1 div.sk-toggleable__content {max-height: 0;max-width: 0;overflow: hidden;text-align: left;background-color: #f0f8ff;}#sk-container-id-1 div.sk-toggleable__content pre {margin: 0.2em;color: black;border-radius: 0.25em;background-color: #f0f8ff;}#sk-container-id-1 input.sk-toggleable__control:checked~div.sk-toggleable__content {max-height: 200px;max-width: 100%;overflow: auto;}#sk-container-id-1 input.sk-toggleable__control:checked~label.sk-toggleable__label-arrow:before {content: \"▾\";}#sk-container-id-1 div.sk-estimator input.sk-toggleable__control:checked~label.sk-toggleable__label {background-color: #d4ebff;}#sk-container-id-1 div.sk-label input.sk-toggleable__control:checked~label.sk-toggleable__label {background-color: #d4ebff;}#sk-container-id-1 input.sk-hidden--visually {border: 0;clip: rect(1px 1px 1px 1px);clip: rect(1px, 1px, 1px, 1px);height: 1px;margin: -1px;overflow: hidden;padding: 0;position: absolute;width: 1px;}#sk-container-id-1 div.sk-estimator {font-family: monospace;background-color: #f0f8ff;border: 1px dotted black;border-radius: 0.25em;box-sizing: border-box;margin-bottom: 0.5em;}#sk-container-id-1 div.sk-estimator:hover {background-color: #d4ebff;}#sk-container-id-1 div.sk-parallel-item::after {content: \"\";width: 100%;border-bottom: 1px solid gray;flex-grow: 1;}#sk-container-id-1 div.sk-label:hover label.sk-toggleable__label {background-color: #d4ebff;}#sk-container-id-1 div.sk-serial::before {content: \"\";position: absolute;border-left: 1px solid gray;box-sizing: border-box;top: 0;bottom: 0;left: 50%;z-index: 0;}#sk-container-id-1 div.sk-serial {display: flex;flex-direction: column;align-items: center;background-color: white;padding-right: 0.2em;padding-left: 0.2em;position: relative;}#sk-container-id-1 div.sk-item {position: relative;z-index: 1;}#sk-container-id-1 div.sk-parallel {display: flex;align-items: stretch;justify-content: center;background-color: white;position: relative;}#sk-container-id-1 div.sk-item::before, #sk-container-id-1 div.sk-parallel-item::before {content: \"\";position: absolute;border-left: 1px solid gray;box-sizing: border-box;top: 0;bottom: 0;left: 50%;z-index: -1;}#sk-container-id-1 div.sk-parallel-item {display: flex;flex-direction: column;z-index: 1;position: relative;background-color: white;}#sk-container-id-1 div.sk-parallel-item:first-child::after {align-self: flex-end;width: 50%;}#sk-container-id-1 div.sk-parallel-item:last-child::after {align-self: flex-start;width: 50%;}#sk-container-id-1 div.sk-parallel-item:only-child::after {width: 0;}#sk-container-id-1 div.sk-dashed-wrapped {border: 1px dashed gray;margin: 0 0.4em 0.5em 0.4em;box-sizing: border-box;padding-bottom: 0.4em;background-color: white;}#sk-container-id-1 div.sk-label label {font-family: monospace;font-weight: bold;display: inline-block;line-height: 1.2em;}#sk-container-id-1 div.sk-label-container {text-align: center;}#sk-container-id-1 div.sk-container {/* jupyter's `normalize.less` sets `[hidden] { display: none; }` but bootstrap.min.css set `[hidden] { display: none !important; }` so we also need the `!important` here to be able to override the default hidden behavior on the sphinx rendered scikit-learn.org. See: https://github.com/scikit-learn/scikit-learn/issues/21755 */display: inline-block !important;position: relative;}#sk-container-id-1 div.sk-text-repr-fallback {display: none;}</style><div id=\"sk-container-id-1\" class=\"sk-top-container\"><div class=\"sk-text-repr-fallback\"><pre>HistGradientBoostingClassifier(l2_regularization=0.00045512891761208057,\n",
       "                               learning_rate=0.09494605702447576, max_depth=83,\n",
       "                               max_iter=110, random_state=61)</pre><b>In a Jupyter environment, please rerun this cell to show the HTML representation or trust the notebook. <br />On GitHub, the HTML representation is unable to render, please try loading this page with nbviewer.org.</b></div><div class=\"sk-container\" hidden><div class=\"sk-item\"><div class=\"sk-estimator sk-toggleable\"><input class=\"sk-toggleable__control sk-hidden--visually\" id=\"sk-estimator-id-1\" type=\"checkbox\" checked><label for=\"sk-estimator-id-1\" class=\"sk-toggleable__label sk-toggleable__label-arrow\">HistGradientBoostingClassifier</label><div class=\"sk-toggleable__content\"><pre>HistGradientBoostingClassifier(l2_regularization=0.00045512891761208057,\n",
       "                               learning_rate=0.09494605702447576, max_depth=83,\n",
       "                               max_iter=110, random_state=61)</pre></div></div></div></div></div>"
      ],
      "text/plain": [
       "HistGradientBoostingClassifier(l2_regularization=0.00045512891761208057,\n",
       "                               learning_rate=0.09494605702447576, max_depth=83,\n",
       "                               max_iter=110, random_state=61)"
      ]
     },
     "execution_count": 37,
     "metadata": {},
     "output_type": "execute_result"
    }
   ],
   "source": [
    "Hgbm_best.fit(X_train, y_train)"
   ]
  },
  {
   "cell_type": "code",
   "execution_count": 38,
   "id": "b4753511",
   "metadata": {},
   "outputs": [
    {
     "name": "stdout",
     "output_type": "stream",
     "text": [
      "[0 1]\n",
      "[[0.77541812 0.22458188]\n",
      " [0.75834061 0.24165939]\n",
      " [0.28970196 0.71029804]\n",
      " ...\n",
      " [0.74912132 0.25087868]\n",
      " [0.90831426 0.09168574]\n",
      " [0.20386966 0.79613034]]\n"
     ]
    },
    {
     "data": {
      "text/html": [
       "<div>\n",
       "<style scoped>\n",
       "    .dataframe tbody tr th:only-of-type {\n",
       "        vertical-align: middle;\n",
       "    }\n",
       "\n",
       "    .dataframe tbody tr th {\n",
       "        vertical-align: top;\n",
       "    }\n",
       "\n",
       "    .dataframe thead th {\n",
       "        text-align: right;\n",
       "    }\n",
       "</style>\n",
       "<table border=\"1\" class=\"dataframe\">\n",
       "  <thead>\n",
       "    <tr style=\"text-align: right;\">\n",
       "      <th></th>\n",
       "      <th>defects</th>\n",
       "    </tr>\n",
       "    <tr>\n",
       "      <th>id</th>\n",
       "      <th></th>\n",
       "    </tr>\n",
       "  </thead>\n",
       "  <tbody>\n",
       "    <tr>\n",
       "      <th>101763</th>\n",
       "      <td>0.224582</td>\n",
       "    </tr>\n",
       "    <tr>\n",
       "      <th>101764</th>\n",
       "      <td>0.241659</td>\n",
       "    </tr>\n",
       "    <tr>\n",
       "      <th>101765</th>\n",
       "      <td>0.710298</td>\n",
       "    </tr>\n",
       "    <tr>\n",
       "      <th>101766</th>\n",
       "      <td>0.476019</td>\n",
       "    </tr>\n",
       "    <tr>\n",
       "      <th>101767</th>\n",
       "      <td>0.142550</td>\n",
       "    </tr>\n",
       "    <tr>\n",
       "      <th>...</th>\n",
       "      <td>...</td>\n",
       "    </tr>\n",
       "    <tr>\n",
       "      <th>169600</th>\n",
       "      <td>0.265374</td>\n",
       "    </tr>\n",
       "    <tr>\n",
       "      <th>169601</th>\n",
       "      <td>0.101148</td>\n",
       "    </tr>\n",
       "    <tr>\n",
       "      <th>169602</th>\n",
       "      <td>0.250879</td>\n",
       "    </tr>\n",
       "    <tr>\n",
       "      <th>169603</th>\n",
       "      <td>0.091686</td>\n",
       "    </tr>\n",
       "    <tr>\n",
       "      <th>169604</th>\n",
       "      <td>0.796130</td>\n",
       "    </tr>\n",
       "  </tbody>\n",
       "</table>\n",
       "<p>67842 rows × 1 columns</p>\n",
       "</div>"
      ],
      "text/plain": [
       "         defects\n",
       "id              \n",
       "101763  0.224582\n",
       "101764  0.241659\n",
       "101765  0.710298\n",
       "101766  0.476019\n",
       "101767  0.142550\n",
       "...          ...\n",
       "169600  0.265374\n",
       "169601  0.101148\n",
       "169602  0.250879\n",
       "169603  0.091686\n",
       "169604  0.796130\n",
       "\n",
       "[67842 rows x 1 columns]"
      ]
     },
     "execution_count": 38,
     "metadata": {},
     "output_type": "execute_result"
    }
   ],
   "source": [
    "print(y.unique())\n",
    "y_proba = Hgbm_best.predict_proba(test)\n",
    "print(y_proba)\n",
    "submission_df['defects'] = y_proba[:, 1]\n",
    "submission_df.to_csv('submission.csv')\n",
    "submission_df"
   ]
  },
  {
   "cell_type": "code",
   "execution_count": 90,
   "id": "ae1e0e61",
   "metadata": {},
   "outputs": [
    {
     "data": {
      "text/html": [
       "<div>\n",
       "<style scoped>\n",
       "    .dataframe tbody tr th:only-of-type {\n",
       "        vertical-align: middle;\n",
       "    }\n",
       "\n",
       "    .dataframe tbody tr th {\n",
       "        vertical-align: top;\n",
       "    }\n",
       "\n",
       "    .dataframe thead th {\n",
       "        text-align: right;\n",
       "    }\n",
       "</style>\n",
       "<table border=\"1\" class=\"dataframe\">\n",
       "  <thead>\n",
       "    <tr style=\"text-align: right;\">\n",
       "      <th></th>\n",
       "      <th>defects</th>\n",
       "    </tr>\n",
       "    <tr>\n",
       "      <th>id</th>\n",
       "      <th></th>\n",
       "    </tr>\n",
       "  </thead>\n",
       "  <tbody>\n",
       "    <tr>\n",
       "      <th>101763</th>\n",
       "      <td>0.251435</td>\n",
       "    </tr>\n",
       "    <tr>\n",
       "      <th>101764</th>\n",
       "      <td>0.215032</td>\n",
       "    </tr>\n",
       "    <tr>\n",
       "      <th>101765</th>\n",
       "      <td>0.690652</td>\n",
       "    </tr>\n",
       "    <tr>\n",
       "      <th>101766</th>\n",
       "      <td>0.483614</td>\n",
       "    </tr>\n",
       "    <tr>\n",
       "      <th>101767</th>\n",
       "      <td>0.141881</td>\n",
       "    </tr>\n",
       "    <tr>\n",
       "      <th>...</th>\n",
       "      <td>...</td>\n",
       "    </tr>\n",
       "    <tr>\n",
       "      <th>169600</th>\n",
       "      <td>0.274047</td>\n",
       "    </tr>\n",
       "    <tr>\n",
       "      <th>169601</th>\n",
       "      <td>0.104643</td>\n",
       "    </tr>\n",
       "    <tr>\n",
       "      <th>169602</th>\n",
       "      <td>0.206772</td>\n",
       "    </tr>\n",
       "    <tr>\n",
       "      <th>169603</th>\n",
       "      <td>0.098215</td>\n",
       "    </tr>\n",
       "    <tr>\n",
       "      <th>169604</th>\n",
       "      <td>0.790932</td>\n",
       "    </tr>\n",
       "  </tbody>\n",
       "</table>\n",
       "<p>67842 rows × 1 columns</p>\n",
       "</div>"
      ],
      "text/plain": [
       "         defects\n",
       "id              \n",
       "101763  0.251435\n",
       "101764  0.215032\n",
       "101765  0.690652\n",
       "101766  0.483614\n",
       "101767  0.141881\n",
       "...          ...\n",
       "169600  0.274047\n",
       "169601  0.104643\n",
       "169602  0.206772\n",
       "169603  0.098215\n",
       "169604  0.790932\n",
       "\n",
       "[67842 rows x 1 columns]"
      ]
     },
     "execution_count": 90,
     "metadata": {},
     "output_type": "execute_result"
    }
   ],
   "source": [
    "pd.read_csv('submission.csv', index_col='id')"
   ]
  },
  {
   "cell_type": "code",
   "execution_count": null,
   "id": "05ddf6b7",
   "metadata": {},
   "outputs": [],
   "source": []
  },
  {
   "cell_type": "code",
   "execution_count": null,
   "id": "69b81f43",
   "metadata": {},
   "outputs": [],
   "source": []
  },
  {
   "cell_type": "code",
   "execution_count": null,
   "id": "256f7e94",
   "metadata": {},
   "outputs": [],
   "source": []
  },
  {
   "cell_type": "code",
   "execution_count": null,
   "id": "acf40ccf",
   "metadata": {},
   "outputs": [],
   "source": []
  }
 ],
 "metadata": {
  "kernelspec": {
   "display_name": "Python 3 (ipykernel)",
   "language": "python",
   "name": "python3"
  },
  "language_info": {
   "codemirror_mode": {
    "name": "ipython",
    "version": 3
   },
   "file_extension": ".py",
   "mimetype": "text/x-python",
   "name": "python",
   "nbconvert_exporter": "python",
   "pygments_lexer": "ipython3",
   "version": "3.11.5"
  }
 },
 "nbformat": 4,
 "nbformat_minor": 5
}
