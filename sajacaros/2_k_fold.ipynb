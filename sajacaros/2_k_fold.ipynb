{
 "cells": [
  {
   "cell_type": "code",
   "execution_count": 31,
   "metadata": {
    "collapsed": true
   },
   "outputs": [],
   "source": [
    "import pandas as pd\n",
    "import numpy as np\n",
    "import matplotlib.pyplot as plt\n",
    "import seaborn as sns"
   ]
  },
  {
   "cell_type": "code",
   "execution_count": 32,
   "outputs": [],
   "source": [
    "from xgboost import XGBClassifier\n",
    "from sklearn.metrics import roc_auc_score"
   ],
   "metadata": {
    "collapsed": false,
    "pycharm": {
     "name": "#%%\n"
    }
   }
  },
  {
   "cell_type": "code",
   "execution_count": 33,
   "outputs": [],
   "source": [
    "data_path = '../data/'\n",
    "\n",
    "train_df = pd.read_csv(data_path+'train.csv', index_col='id')\n",
    "test_df = pd.read_csv(data_path+'test.csv', index_col='id')\n",
    "submission_df = pd.read_csv(data_path+'sample_submission.csv', index_col='id')"
   ],
   "metadata": {
    "collapsed": false,
    "pycharm": {
     "name": "#%%\n"
    }
   }
  },
  {
   "cell_type": "code",
   "execution_count": 34,
   "outputs": [
    {
     "data": {
      "text/plain": "     loc  v(g)  ev(g)  iv(g)     n       v     l      d      i        e  ...  \\\nid                                                                       ...   \n0   22.0   3.0    1.0    2.0  60.0  278.63  0.06  19.56  14.25  5448.79  ...   \n1   14.0   2.0    1.0    2.0  32.0  151.27  0.14   7.00  21.11   936.71  ...   \n2   11.0   2.0    1.0    2.0  45.0  197.65  0.11   8.05  22.76  1754.01  ...   \n3    8.0   1.0    1.0    1.0  23.0   94.01  0.19   5.25  17.86   473.66  ...   \n4   11.0   2.0    1.0    2.0  17.0   60.94  0.18   5.63  12.44   365.67  ...   \n\n    lOCode  lOComment  lOBlank  locCodeAndComment  uniq_Op  uniq_Opnd  \\\nid                                                                      \n0       17          1        1                  0     16.0        9.0   \n1       11          0        1                  0     11.0       11.0   \n2        8          0        1                  0     12.0       11.0   \n3        4          0        2                  0      8.0        6.0   \n4        7          0        2                  0      7.0        6.0   \n\n    total_Op  total_Opnd  branchCount  defects  \nid                                              \n0       38.0        22.0          5.0    False  \n1       18.0        14.0          3.0    False  \n2       28.0        17.0          3.0    False  \n3       16.0         7.0          1.0     True  \n4       10.0        10.0          3.0    False  \n\n[5 rows x 22 columns]",
      "text/html": "<div>\n<style scoped>\n    .dataframe tbody tr th:only-of-type {\n        vertical-align: middle;\n    }\n\n    .dataframe tbody tr th {\n        vertical-align: top;\n    }\n\n    .dataframe thead th {\n        text-align: right;\n    }\n</style>\n<table border=\"1\" class=\"dataframe\">\n  <thead>\n    <tr style=\"text-align: right;\">\n      <th></th>\n      <th>loc</th>\n      <th>v(g)</th>\n      <th>ev(g)</th>\n      <th>iv(g)</th>\n      <th>n</th>\n      <th>v</th>\n      <th>l</th>\n      <th>d</th>\n      <th>i</th>\n      <th>e</th>\n      <th>...</th>\n      <th>lOCode</th>\n      <th>lOComment</th>\n      <th>lOBlank</th>\n      <th>locCodeAndComment</th>\n      <th>uniq_Op</th>\n      <th>uniq_Opnd</th>\n      <th>total_Op</th>\n      <th>total_Opnd</th>\n      <th>branchCount</th>\n      <th>defects</th>\n    </tr>\n    <tr>\n      <th>id</th>\n      <th></th>\n      <th></th>\n      <th></th>\n      <th></th>\n      <th></th>\n      <th></th>\n      <th></th>\n      <th></th>\n      <th></th>\n      <th></th>\n      <th></th>\n      <th></th>\n      <th></th>\n      <th></th>\n      <th></th>\n      <th></th>\n      <th></th>\n      <th></th>\n      <th></th>\n      <th></th>\n      <th></th>\n    </tr>\n  </thead>\n  <tbody>\n    <tr>\n      <th>0</th>\n      <td>22.0</td>\n      <td>3.0</td>\n      <td>1.0</td>\n      <td>2.0</td>\n      <td>60.0</td>\n      <td>278.63</td>\n      <td>0.06</td>\n      <td>19.56</td>\n      <td>14.25</td>\n      <td>5448.79</td>\n      <td>...</td>\n      <td>17</td>\n      <td>1</td>\n      <td>1</td>\n      <td>0</td>\n      <td>16.0</td>\n      <td>9.0</td>\n      <td>38.0</td>\n      <td>22.0</td>\n      <td>5.0</td>\n      <td>False</td>\n    </tr>\n    <tr>\n      <th>1</th>\n      <td>14.0</td>\n      <td>2.0</td>\n      <td>1.0</td>\n      <td>2.0</td>\n      <td>32.0</td>\n      <td>151.27</td>\n      <td>0.14</td>\n      <td>7.00</td>\n      <td>21.11</td>\n      <td>936.71</td>\n      <td>...</td>\n      <td>11</td>\n      <td>0</td>\n      <td>1</td>\n      <td>0</td>\n      <td>11.0</td>\n      <td>11.0</td>\n      <td>18.0</td>\n      <td>14.0</td>\n      <td>3.0</td>\n      <td>False</td>\n    </tr>\n    <tr>\n      <th>2</th>\n      <td>11.0</td>\n      <td>2.0</td>\n      <td>1.0</td>\n      <td>2.0</td>\n      <td>45.0</td>\n      <td>197.65</td>\n      <td>0.11</td>\n      <td>8.05</td>\n      <td>22.76</td>\n      <td>1754.01</td>\n      <td>...</td>\n      <td>8</td>\n      <td>0</td>\n      <td>1</td>\n      <td>0</td>\n      <td>12.0</td>\n      <td>11.0</td>\n      <td>28.0</td>\n      <td>17.0</td>\n      <td>3.0</td>\n      <td>False</td>\n    </tr>\n    <tr>\n      <th>3</th>\n      <td>8.0</td>\n      <td>1.0</td>\n      <td>1.0</td>\n      <td>1.0</td>\n      <td>23.0</td>\n      <td>94.01</td>\n      <td>0.19</td>\n      <td>5.25</td>\n      <td>17.86</td>\n      <td>473.66</td>\n      <td>...</td>\n      <td>4</td>\n      <td>0</td>\n      <td>2</td>\n      <td>0</td>\n      <td>8.0</td>\n      <td>6.0</td>\n      <td>16.0</td>\n      <td>7.0</td>\n      <td>1.0</td>\n      <td>True</td>\n    </tr>\n    <tr>\n      <th>4</th>\n      <td>11.0</td>\n      <td>2.0</td>\n      <td>1.0</td>\n      <td>2.0</td>\n      <td>17.0</td>\n      <td>60.94</td>\n      <td>0.18</td>\n      <td>5.63</td>\n      <td>12.44</td>\n      <td>365.67</td>\n      <td>...</td>\n      <td>7</td>\n      <td>0</td>\n      <td>2</td>\n      <td>0</td>\n      <td>7.0</td>\n      <td>6.0</td>\n      <td>10.0</td>\n      <td>10.0</td>\n      <td>3.0</td>\n      <td>False</td>\n    </tr>\n  </tbody>\n</table>\n<p>5 rows × 22 columns</p>\n</div>"
     },
     "execution_count": 34,
     "metadata": {},
     "output_type": "execute_result"
    }
   ],
   "source": [
    "train_df.head()"
   ],
   "metadata": {
    "collapsed": false,
    "pycharm": {
     "name": "#%%\n"
    }
   }
  },
  {
   "cell_type": "code",
   "execution_count": 35,
   "outputs": [],
   "source": [
    "X = train_df.drop(columns='defects')\n",
    "y = train_df['defects'].astype(int)"
   ],
   "metadata": {
    "collapsed": false,
    "pycharm": {
     "name": "#%%\n"
    }
   }
  },
  {
   "cell_type": "code",
   "execution_count": 36,
   "outputs": [],
   "source": [
    "model = XGBClassifier(booster='gbtree', objective='binary:logistic')"
   ],
   "metadata": {
    "collapsed": false,
    "pycharm": {
     "name": "#%%\n"
    }
   }
  },
  {
   "cell_type": "code",
   "execution_count": 37,
   "outputs": [
    {
     "name": "stdout",
     "output_type": "stream",
     "text": [
      "roc auc : [0.7864 0.7825 0.7876 0.7837 0.7815]\n",
      "roc auc mean : 0.7843294228456473\n"
     ]
    }
   ],
   "source": [
    "from sklearn.model_selection import cross_val_score\n",
    "\n",
    "# https://scikit-learn.org/stable/modules/generated/sklearn.model_selection.cross_val_score.html\n",
    "# https://scikit-learn.org/stable/modules/model_evaluation.html#scoring-parameter\n",
    "scores = cross_val_score(model, X, y, cv=5, scoring='roc_auc')\n",
    "print(f'roc auc : {np.round(scores, 4)}')\n",
    "print(f'roc auc mean : {scores.mean()}')"
   ],
   "metadata": {
    "collapsed": false,
    "pycharm": {
     "name": "#%%\n"
    }
   }
  },
  {
   "cell_type": "code",
   "execution_count": 46,
   "outputs": [
    {
     "name": "stdout",
     "output_type": "stream",
     "text": [
      "roc auc : [0.7864 0.7825 0.7876 0.7837 0.7815]\n",
      "roc auc mean : 0.7843294228456473\n"
     ]
    }
   ],
   "source": [
    "from sklearn.model_selection import StratifiedKFold\n",
    "\n",
    "# kfold = StratifiedKFold(n_splits=5, shuffle=True, random_state=61)\n",
    "kfold = StratifiedKFold(n_splits=5) #, shuffle=True, random_state=61)\n",
    "scores = cross_val_score(model, X, y, cv=kfold, scoring='roc_auc')\n",
    "print(f'roc auc : {np.round(scores, 4)}')\n",
    "print(f'roc auc mean : {scores.mean()}')"
   ],
   "metadata": {
    "collapsed": false,
    "pycharm": {
     "name": "#%%\n"
    }
   }
  },
  {
   "cell_type": "code",
   "execution_count": 39,
   "outputs": [
    {
     "name": "stdout",
     "output_type": "stream",
     "text": [
      "전체 데이터의 클래스 분포 : [78699 23064]\n",
      "1번째 훈련 폴드 : [62959 18451]\n",
      "1번째 검증 폴드 : [15740  4613]\n",
      "------------------------------\n",
      "2번째 훈련 폴드 : [62959 18451]\n",
      "2번째 검증 폴드 : [15740  4613]\n",
      "------------------------------\n",
      "3번째 훈련 폴드 : [62959 18451]\n",
      "3번째 검증 폴드 : [15740  4613]\n",
      "------------------------------\n",
      "4번째 훈련 폴드 : [62959 18452]\n",
      "4번째 검증 폴드 : [15740  4612]\n",
      "------------------------------\n",
      "5번째 훈련 폴드 : [62960 18451]\n",
      "5번째 검증 폴드 : [15739  4613]\n",
      "------------------------------\n"
     ]
    }
   ],
   "source": [
    "# kfold 알아보기\n",
    "print(f'전체 데이터의 클래스 분포 : {np.bincount(y)}')\n",
    "for idx, (train_idx, valid_idx) in enumerate(kfold.split(X, y)):\n",
    "    print(f'{idx+1}번째 훈련 폴드 : {np.bincount(y[train_idx])}')\n",
    "    print(f'{idx+1}번째 검증 폴드 : {np.bincount(y[valid_idx])}', end=f\"\\n{'-'*30}\\n\")"
   ],
   "metadata": {
    "collapsed": false,
    "pycharm": {
     "name": "#%%\n"
    }
   }
  },
  {
   "cell_type": "code",
   "execution_count": 40,
   "outputs": [],
   "source": [
    "# kfold의 활용\n",
    "from sklearn.model_selection import GridSearchCV, RandomizedSearchCV"
   ],
   "metadata": {
    "collapsed": false,
    "pycharm": {
     "name": "#%%\n"
    }
   }
  },
  {
   "cell_type": "code",
   "execution_count": 41,
   "outputs": [],
   "source": [
    "def grid_search(params, random=False):\n",
    "    xgb = XGBClassifier(\n",
    "        booster='gbtree',\n",
    "        objective='binary:logistic',\n",
    "        random_state=61,\n",
    "        verbosity=0,\n",
    "        use_label_encder=False,\n",
    "    )\n",
    "    kfold = StratifiedKFold(n_splits=5, shuffle=True, random_state=61)\n",
    "    if random:\n",
    "        grid = RandomizedSearchCV(xgb, params, cv=kfold, n_iter=20, n_jobs=-1, random_state=61)\n",
    "    else:\n",
    "        grid = GridSearchCV(xgb, params, cv=kfold, n_jobs=-1)\n",
    "    grid.fit(X, y)\n",
    "    best_params = grid.best_params_\n",
    "    print(f'최고의 매개변수 : {best_params}')\n",
    "    best_score = grid.best_score_\n",
    "    print(f'최상의 점수 : {best_score:.4f}')\n",
    "    return best_params"
   ],
   "metadata": {
    "collapsed": false,
    "pycharm": {
     "name": "#%%\n"
    }
   }
  },
  {
   "cell_type": "code",
   "execution_count": 42,
   "outputs": [
    {
     "name": "stdout",
     "output_type": "stream",
     "text": [
      "최고의 매개변수 : {'nestimators': 100}\n",
      "최상의 점수 : 0.8109\n"
     ]
    }
   ],
   "source": [
    "# https://xgboost.readthedocs.io/en/stable/parameter.html\n",
    "best_params = grid_search(params={'nestimators': [100, 200, 400, 800]})"
   ],
   "metadata": {
    "collapsed": false,
    "pycharm": {
     "name": "#%%\n"
    }
   }
  },
  {
   "cell_type": "code",
   "execution_count": 43,
   "outputs": [
    {
     "name": "stdout",
     "output_type": "stream",
     "text": [
      "101763\n",
      "roc auc : 0.6972940837796624\n"
     ]
    }
   ],
   "source": [
    "xgb = XGBClassifier(\n",
    "        booster='gbtree',\n",
    "        objective='binary:logistic',\n",
    "        random_state=61,\n",
    "        verbosity=0,\n",
    "        use_label_encder=False,\n",
    "        **best_params,\n",
    "    )\n",
    "xgb.fit(X,y)\n",
    "preds = xgb.predict(X)\n",
    "print(len(preds))\n",
    "print(f'roc auc : {roc_auc_score(y, preds)}')"
   ],
   "metadata": {
    "collapsed": false,
    "pycharm": {
     "name": "#%%\n"
    }
   }
  },
  {
   "cell_type": "code",
   "execution_count": 44,
   "outputs": [
    {
     "name": "stdout",
     "output_type": "stream",
     "text": [
      "[0.22478987 0.16803485 0.5567377  0.4821386  0.13984482 0.4636549\n",
      " 0.1374425  0.6345678  0.31232557 0.06660065]\n"
     ]
    }
   ],
   "source": [
    "y_preds = xgb.predict_proba(test_df)[:, 1]\n",
    "print(y_preds[:10])"
   ],
   "metadata": {
    "collapsed": false,
    "pycharm": {
     "name": "#%%\n"
    }
   }
  },
  {
   "cell_type": "code",
   "execution_count": 45,
   "outputs": [],
   "source": [
    "submission_df['defects'] = y_preds\n",
    "submission_df.to_csv(data_path + 'submission.csv')"
   ],
   "metadata": {
    "collapsed": false,
    "pycharm": {
     "name": "#%%\n"
    }
   }
  },
  {
   "cell_type": "code",
   "execution_count": 45,
   "outputs": [],
   "source": [],
   "metadata": {
    "collapsed": false,
    "pycharm": {
     "name": "#%%\n"
    }
   }
  }
 ],
 "metadata": {
  "kernelspec": {
   "display_name": "Python 3",
   "language": "python",
   "name": "python3"
  },
  "language_info": {
   "codemirror_mode": {
    "name": "ipython",
    "version": 2
   },
   "file_extension": ".py",
   "mimetype": "text/x-python",
   "name": "python",
   "nbconvert_exporter": "python",
   "pygments_lexer": "ipython2",
   "version": "2.7.6"
  }
 },
 "nbformat": 4,
 "nbformat_minor": 0
}