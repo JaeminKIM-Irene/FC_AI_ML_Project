{
 "cells": [
  {
   "cell_type": "markdown",
   "id": "8f3119aa",
   "metadata": {
    "id": "8f3119aa"
   },
   "source": [
    "## Machine Learning 프로젝트 수행을 위한 코드 구조화"
   ]
  },
  {
   "cell_type": "markdown",
   "id": "9f7610ea",
   "metadata": {
    "id": "9f7610ea"
   },
   "source": [
    "- ML project를 위해서 사용하는 템플릿 코드를 만듭니다.\n",
    "\n",
    "1. **필요한 라이브러리와 데이터를 불러옵니다.**\n",
    "\n",
    "\n",
    "2. **EDA를 수행합니다.** 이 때 EDA의 목적은 풀어야하는 문제를 위해서 수행됩니다.\n",
    "\n",
    "\n",
    "3. **전처리를 수행합니다.** 이 때 중요한건 **feature engineering**을 어떻게 하느냐 입니다.\n",
    "\n",
    "\n",
    "4. **데이터 분할을 합니다.** 이 때 train data와 test data 간의 분포 차이가 없는지 확인합니다.\n",
    "\n",
    "\n",
    "5. **학습을 진행합니다.** 어떤 모델을 사용하여 학습할지 정합니다. 성능이 잘 나오는 GBM을 추천합니다.\n",
    "\n",
    "\n",
    "6. **hyper-parameter tuning을 수행합니다.** 원하는 목표 성능이 나올 때 까지 진행합니다. 검증 단계를 통해 지속적으로 **overfitting이 되지 않게 주의**하세요.\n",
    "\n",
    "\n",
    "7. **최종 테스트를 진행합니다.** 데이터 분석 대회 포맷에 맞는 submission 파일을 만들어서 성능을 확인해보세요."
   ]
  },
  {
   "cell_type": "markdown",
   "id": "bd2f7530",
   "metadata": {
    "id": "bd2f7530"
   },
   "source": [
    "## 1. 라이브러리, 데이터 불러오기"
   ]
  },
  {
   "cell_type": "code",
   "execution_count": 26,
   "id": "125fc348",
   "metadata": {
    "id": "125fc348"
   },
   "outputs": [],
   "source": [
    "# 데이터분석 4종 세트\n",
    "import numpy as np\n",
    "import pandas as pd\n",
    "import matplotlib.pyplot as plt\n",
    "import seaborn as sns\n",
    "\n",
    "# 모델들, 성능 평가\n",
    "# (저는 일반적으로 정형데이터로 머신러닝 분석할 때는 이 2개 모델은 그냥 돌려봅니다. 특히 RF가 테스트하기 좋습니다.)\n",
    "from sklearn.ensemble import RandomForestClassifier, RandomForestRegressor\n",
    "from xgboost import XGBClassifier\n",
    "\n",
    "# KFold(CV), partial : optuna를 사용하기 위함\n",
    "from sklearn.model_selection import StratifiedKFold\n",
    "from sklearn.metrics import roc_auc_score\n",
    "from functools import partial\n",
    "\n",
    "# hyper-parameter tuning을 위한 라이브러리, optuna\n",
    "import optuna"
   ]
  },
  {
   "cell_type": "code",
   "execution_count": 27,
   "id": "3615c24a",
   "metadata": {
    "colab": {
     "base_uri": "https://localhost:8080/"
    },
    "id": "3615c24a",
    "outputId": "6dc93ad0-06c8-4ee0-a96d-8d9a5dd6ddaf"
   },
   "outputs": [
    {
     "name": "stdout",
     "output_type": "stream",
     "text": [
      "(101763, 23) (67842, 22) (67842, 2)\n"
     ]
    }
   ],
   "source": [
    "# 데이터를 불러옵니다.\n",
    "base_path = '../../data/'\n",
    "train = pd.read_csv(base_path + 'train.csv')\n",
    "test = pd.read_csv(base_path + 'test.csv')\n",
    "submission = pd.read_csv(base_path + 'sample_submission.csv')\n",
    "print(train.shape, test.shape, submission.shape)"
   ]
  },
  {
   "cell_type": "markdown",
   "id": "c9c9acb8",
   "metadata": {
    "id": "c9c9acb8"
   },
   "source": [
    "## 2. EDA"
   ]
  },
  {
   "cell_type": "markdown",
   "id": "6fdf620b",
   "metadata": {
    "id": "6fdf620b"
   },
   "source": [
    "- 데이터에서 찾아야 하는 기초적인 내용들을 확인합니다.\n",
    "\n",
    "\n",
    "- class imbalance, target distribution, outlier, correlation을 확인합니다."
   ]
  },
  {
   "cell_type": "code",
   "source": [
    "train.columns"
   ],
   "metadata": {
    "colab": {
     "base_uri": "https://localhost:8080/"
    },
    "id": "R1TxMunIv4zb",
    "outputId": "56e20880-07fb-4f2a-c614-ef0c3202a0d0"
   },
   "id": "R1TxMunIv4zb",
   "execution_count": 28,
   "outputs": [
    {
     "data": {
      "text/plain": "Index(['id', 'loc', 'v(g)', 'ev(g)', 'iv(g)', 'n', 'v', 'l', 'd', 'i', 'e',\n       'b', 't', 'lOCode', 'lOComment', 'lOBlank', 'locCodeAndComment',\n       'uniq_Op', 'uniq_Opnd', 'total_Op', 'total_Opnd', 'branchCount',\n       'defects'],\n      dtype='object')"
     },
     "execution_count": 28,
     "metadata": {},
     "output_type": "execute_result"
    }
   ]
  },
  {
   "cell_type": "markdown",
   "id": "9dbb8802",
   "metadata": {
    "id": "9dbb8802"
   },
   "source": [
    "### 3. 전처리"
   ]
  },
  {
   "cell_type": "markdown",
   "id": "b79a6f0a",
   "metadata": {
    "id": "b79a6f0a"
   },
   "source": [
    "#### 결측치 처리"
   ]
  },
  {
   "cell_type": "markdown",
   "id": "f497a2d8",
   "metadata": {
    "id": "f497a2d8"
   },
   "source": [
    "### 4. 학습 데이터 분할"
   ]
  },
  {
   "cell_type": "code",
   "execution_count": 29,
   "id": "47306aaf",
   "metadata": {
    "id": "47306aaf"
   },
   "outputs": [],
   "source": [
    "# 첫번째 테스트용으로 사용하고, 실제 학습시에는 K-Fold CV를 사용합니다.\n",
    "from sklearn.model_selection import train_test_split\n",
    "\n",
    "X = train.drop(columns=['defects'])\n",
    "y = train.defects\n",
    "\n",
    "# for OOF-prediction split 5% of data as validation dataset.\n",
    "X_train, X_val, y_train, y_val = train_test_split(X, y, test_size=0.2, random_state=61, stratify=y)"
   ]
  },
  {
   "cell_type": "code",
   "execution_count": 30,
   "id": "67efd2ee",
   "metadata": {
    "colab": {
     "base_uri": "https://localhost:8080/"
    },
    "id": "67efd2ee",
    "outputId": "a8a904f0-8109-4e87-b0d8-81d97dde4a49"
   },
   "outputs": [
    {
     "name": "stdout",
     "output_type": "stream",
     "text": [
      "(81410, 22) (81410,) (20353, 22) (20353,)\n",
      "0.2266429185603734 0.22664963396059548\n"
     ]
    }
   ],
   "source": [
    "print(X_train.shape, y_train.shape, X_val.shape, y_val.shape)\n",
    "print(y_train.mean(), y_val.mean())"
   ]
  },
  {
   "cell_type": "markdown",
   "id": "58056e51",
   "metadata": {
    "id": "58056e51"
   },
   "source": [
    "### 5. 학습 및 평가"
   ]
  },
  {
   "cell_type": "code",
   "execution_count": 31,
   "id": "39fd2515",
   "metadata": {
    "id": "39fd2515"
   },
   "outputs": [],
   "source": [
    "# 간단하게 LightGBM 테스트\n",
    "# 적당한 hyper-parameter 조합을 두었습니다. (항상 best는 아닙니다. 예시입니다.)\n",
    "model = XGBClassifier(\n",
    "    booster='gbtree',\n",
    "    objective='binary:logistic',\n",
    "    max_depth=6,\n",
    "    learning_rate=0.1,\n",
    "    n_estimators=100,\n",
    "    n_jobs=-1,\n",
    "    random_state=61\n",
    ")"
   ]
  },
  {
   "cell_type": "code",
   "execution_count": 32,
   "id": "ddffa474",
   "metadata": {
    "scrolled": true,
    "colab": {
     "base_uri": "https://localhost:8080/",
     "height": 214
    },
    "id": "ddffa474",
    "outputId": "4e723622-af5a-4fea-9cd4-dfcd3c65630a"
   },
   "outputs": [
    {
     "name": "stdout",
     "output_type": "stream",
     "text": [
      "\n",
      "Fitting LightGBM...\n"
     ]
    },
    {
     "data": {
      "text/plain": "XGBClassifier(base_score=None, booster='gbtree', callbacks=None,\n              colsample_bylevel=None, colsample_bynode=None,\n              colsample_bytree=None, early_stopping_rounds=None,\n              enable_categorical=False, eval_metric=None, feature_types=None,\n              gamma=None, gpu_id=None, grow_policy=None, importance_type=None,\n              interaction_constraints=None, learning_rate=0.1, max_bin=None,\n              max_cat_threshold=None, max_cat_to_onehot=None,\n              max_delta_step=None, max_depth=6, max_leaves=None,\n              min_child_weight=None, missing=nan, monotone_constraints=None,\n              n_estimators=100, n_jobs=-1, num_parallel_tree=None,\n              predictor=None, random_state=61, ...)",
      "text/html": "<style>#sk-container-id-2 {color: black;}#sk-container-id-2 pre{padding: 0;}#sk-container-id-2 div.sk-toggleable {background-color: white;}#sk-container-id-2 label.sk-toggleable__label {cursor: pointer;display: block;width: 100%;margin-bottom: 0;padding: 0.3em;box-sizing: border-box;text-align: center;}#sk-container-id-2 label.sk-toggleable__label-arrow:before {content: \"▸\";float: left;margin-right: 0.25em;color: #696969;}#sk-container-id-2 label.sk-toggleable__label-arrow:hover:before {color: black;}#sk-container-id-2 div.sk-estimator:hover label.sk-toggleable__label-arrow:before {color: black;}#sk-container-id-2 div.sk-toggleable__content {max-height: 0;max-width: 0;overflow: hidden;text-align: left;background-color: #f0f8ff;}#sk-container-id-2 div.sk-toggleable__content pre {margin: 0.2em;color: black;border-radius: 0.25em;background-color: #f0f8ff;}#sk-container-id-2 input.sk-toggleable__control:checked~div.sk-toggleable__content {max-height: 200px;max-width: 100%;overflow: auto;}#sk-container-id-2 input.sk-toggleable__control:checked~label.sk-toggleable__label-arrow:before {content: \"▾\";}#sk-container-id-2 div.sk-estimator input.sk-toggleable__control:checked~label.sk-toggleable__label {background-color: #d4ebff;}#sk-container-id-2 div.sk-label input.sk-toggleable__control:checked~label.sk-toggleable__label {background-color: #d4ebff;}#sk-container-id-2 input.sk-hidden--visually {border: 0;clip: rect(1px 1px 1px 1px);clip: rect(1px, 1px, 1px, 1px);height: 1px;margin: -1px;overflow: hidden;padding: 0;position: absolute;width: 1px;}#sk-container-id-2 div.sk-estimator {font-family: monospace;background-color: #f0f8ff;border: 1px dotted black;border-radius: 0.25em;box-sizing: border-box;margin-bottom: 0.5em;}#sk-container-id-2 div.sk-estimator:hover {background-color: #d4ebff;}#sk-container-id-2 div.sk-parallel-item::after {content: \"\";width: 100%;border-bottom: 1px solid gray;flex-grow: 1;}#sk-container-id-2 div.sk-label:hover label.sk-toggleable__label {background-color: #d4ebff;}#sk-container-id-2 div.sk-serial::before {content: \"\";position: absolute;border-left: 1px solid gray;box-sizing: border-box;top: 0;bottom: 0;left: 50%;z-index: 0;}#sk-container-id-2 div.sk-serial {display: flex;flex-direction: column;align-items: center;background-color: white;padding-right: 0.2em;padding-left: 0.2em;position: relative;}#sk-container-id-2 div.sk-item {position: relative;z-index: 1;}#sk-container-id-2 div.sk-parallel {display: flex;align-items: stretch;justify-content: center;background-color: white;position: relative;}#sk-container-id-2 div.sk-item::before, #sk-container-id-2 div.sk-parallel-item::before {content: \"\";position: absolute;border-left: 1px solid gray;box-sizing: border-box;top: 0;bottom: 0;left: 50%;z-index: -1;}#sk-container-id-2 div.sk-parallel-item {display: flex;flex-direction: column;z-index: 1;position: relative;background-color: white;}#sk-container-id-2 div.sk-parallel-item:first-child::after {align-self: flex-end;width: 50%;}#sk-container-id-2 div.sk-parallel-item:last-child::after {align-self: flex-start;width: 50%;}#sk-container-id-2 div.sk-parallel-item:only-child::after {width: 0;}#sk-container-id-2 div.sk-dashed-wrapped {border: 1px dashed gray;margin: 0 0.4em 0.5em 0.4em;box-sizing: border-box;padding-bottom: 0.4em;background-color: white;}#sk-container-id-2 div.sk-label label {font-family: monospace;font-weight: bold;display: inline-block;line-height: 1.2em;}#sk-container-id-2 div.sk-label-container {text-align: center;}#sk-container-id-2 div.sk-container {/* jupyter's `normalize.less` sets `[hidden] { display: none; }` but bootstrap.min.css set `[hidden] { display: none !important; }` so we also need the `!important` here to be able to override the default hidden behavior on the sphinx rendered scikit-learn.org. See: https://github.com/scikit-learn/scikit-learn/issues/21755 */display: inline-block !important;position: relative;}#sk-container-id-2 div.sk-text-repr-fallback {display: none;}</style><div id=\"sk-container-id-2\" class=\"sk-top-container\"><div class=\"sk-text-repr-fallback\"><pre>XGBClassifier(base_score=None, booster=&#x27;gbtree&#x27;, callbacks=None,\n              colsample_bylevel=None, colsample_bynode=None,\n              colsample_bytree=None, early_stopping_rounds=None,\n              enable_categorical=False, eval_metric=None, feature_types=None,\n              gamma=None, gpu_id=None, grow_policy=None, importance_type=None,\n              interaction_constraints=None, learning_rate=0.1, max_bin=None,\n              max_cat_threshold=None, max_cat_to_onehot=None,\n              max_delta_step=None, max_depth=6, max_leaves=None,\n              min_child_weight=None, missing=nan, monotone_constraints=None,\n              n_estimators=100, n_jobs=-1, num_parallel_tree=None,\n              predictor=None, random_state=61, ...)</pre><b>In a Jupyter environment, please rerun this cell to show the HTML representation or trust the notebook. <br />On GitHub, the HTML representation is unable to render, please try loading this page with nbviewer.org.</b></div><div class=\"sk-container\" hidden><div class=\"sk-item\"><div class=\"sk-estimator sk-toggleable\"><input class=\"sk-toggleable__control sk-hidden--visually\" id=\"sk-estimator-id-2\" type=\"checkbox\" checked><label for=\"sk-estimator-id-2\" class=\"sk-toggleable__label sk-toggleable__label-arrow\">XGBClassifier</label><div class=\"sk-toggleable__content\"><pre>XGBClassifier(base_score=None, booster=&#x27;gbtree&#x27;, callbacks=None,\n              colsample_bylevel=None, colsample_bynode=None,\n              colsample_bytree=None, early_stopping_rounds=None,\n              enable_categorical=False, eval_metric=None, feature_types=None,\n              gamma=None, gpu_id=None, grow_policy=None, importance_type=None,\n              interaction_constraints=None, learning_rate=0.1, max_bin=None,\n              max_cat_threshold=None, max_cat_to_onehot=None,\n              max_delta_step=None, max_depth=6, max_leaves=None,\n              min_child_weight=None, missing=nan, monotone_constraints=None,\n              n_estimators=100, n_jobs=-1, num_parallel_tree=None,\n              predictor=None, random_state=61, ...)</pre></div></div></div></div></div>"
     },
     "execution_count": 32,
     "metadata": {},
     "output_type": "execute_result"
    }
   ],
   "source": [
    "print(\"\\nFitting LightGBM...\")\n",
    "model.fit(X_train, y_train)"
   ]
  },
  {
   "cell_type": "code",
   "execution_count": 33,
   "id": "6c8b0259",
   "metadata": {
    "id": "6c8b0259"
   },
   "outputs": [],
   "source": [
    "# metric은 그때마다 맞게 바꿔줘야 합니다.\n",
    "evaluation_metric = roc_auc_score"
   ]
  },
  {
   "cell_type": "code",
   "execution_count": 34,
   "id": "a6b39be5",
   "metadata": {
    "colab": {
     "base_uri": "https://localhost:8080/"
    },
    "id": "a6b39be5",
    "outputId": "2e2c256f-fe78-4deb-8fab-727306e3ffec"
   },
   "outputs": [
    {
     "name": "stdout",
     "output_type": "stream",
     "text": [
      "Prediction\n",
      "Train Score : 0.6810\n",
      "Validation Score : 0.6668\n"
     ]
    }
   ],
   "source": [
    "print(\"Prediction\")\n",
    "pred_train = model.predict(X_train)\n",
    "pred_val = model.predict(X_val)\n",
    "\n",
    "\n",
    "train_score = evaluation_metric(y_train, pred_train)\n",
    "val_score = evaluation_metric(y_val, pred_val)\n",
    "\n",
    "print(\"Train Score : %.4f\" % train_score)\n",
    "print(\"Validation Score : %.4f\" % val_score)"
   ]
  },
  {
   "cell_type": "markdown",
   "id": "bc755b17",
   "metadata": {
    "id": "bc755b17"
   },
   "source": [
    "### 6. Hyper-parameter Tuning"
   ]
  },
  {
   "cell_type": "code",
   "execution_count": 35,
   "id": "34ce4986",
   "metadata": {
    "id": "34ce4986"
   },
   "outputs": [],
   "source": [
    "def optimizer(trial, X, y, K):\n",
    "    # 조절할 hyper-parameter 조합을 적어줍니다.\n",
    "    max_depth = trial.suggest_int('max_depth', 2, 5)\n",
    "    colsample_bynode = trial.suggest_float('colsample_bynode', 0.5, 0.8)\n",
    "    reg_lambda = trial.suggest_float('reg_lambda', 1.0, 2.0)\n",
    "    n_estimators = trial.suggest_int('n_estimators', 20, 50)\n",
    "    learning_rate = trial.suggest_float('learning_rate', 0.1, 0.2)\n",
    "\n",
    "    # 원하는 모델을 지정합니다, optuna는 시간이 오래걸리기 때문에 저는 보통 RF로 일단 테스트를 해본 뒤에 LGBM을 사용합니다.\n",
    "    model = XGBClassifier(\n",
    "        max_depth=max_depth,\n",
    "        colsample_bynode=colsample_bynode,\n",
    "        reg_lambda=reg_lambda,\n",
    "        n_estimators=n_estimators,\n",
    "        learning_rate=learning_rate,\n",
    "        random_state=61,\n",
    "        eval_metric=evaluation_metric,\n",
    "    )\n",
    "\n",
    "    # K-Fold Cross validation을 구현합니다.\n",
    "    folds = StratifiedKFold(n_splits=K, random_state=61, shuffle=True)\n",
    "    losses = []\n",
    "\n",
    "    for train_idx, val_idx in folds.split(X, y):\n",
    "        X_train = X.iloc[train_idx, :]\n",
    "        y_train = y.iloc[train_idx]\n",
    "\n",
    "        X_val = X.iloc[val_idx, :]\n",
    "        y_val = y.iloc[val_idx]\n",
    "\n",
    "        model.fit(X_train, y_train)\n",
    "        preds = model.predict(X_val)\n",
    "        loss = evaluation_metric(y_val, preds)\n",
    "        losses.append(loss)\n",
    "\n",
    "\n",
    "    # K-Fold의 평균 loss값을 돌려줍니다.\n",
    "    return np.mean(losses)"
   ]
  },
  {
   "cell_type": "code",
   "execution_count": 36,
   "id": "7150b210",
   "metadata": {
    "scrolled": false,
    "colab": {
     "base_uri": "https://localhost:8080/"
    },
    "id": "7150b210",
    "outputId": "fa1c663f-0f17-4f21-8016-ac43d456666d"
   },
   "outputs": [
    {
     "name": "stderr",
     "output_type": "stream",
     "text": [
      "[I 2023-10-15 01:22:27,077] A new study created in memory with name: no-name-3699be1f-afca-4f0d-8065-4689c366ebd9\n",
      "[I 2023-10-15 01:22:31,361] Trial 0 finished with value: 0.6658877458138204 and parameters: {'max_depth': 3, 'colsample_bynode': 0.6826054729742932, 'reg_lambda': 1.37999505188472, 'n_estimators': 40, 'learning_rate': 0.16608970727170508}. Best is trial 0 with value: 0.6658877458138204.\n",
      "[I 2023-10-15 01:22:35,613] Trial 1 finished with value: 0.6658062204338558 and parameters: {'max_depth': 3, 'colsample_bynode': 0.7220550286118781, 'reg_lambda': 1.046172467583564, 'n_estimators': 39, 'learning_rate': 0.12025817793581041}. Best is trial 0 with value: 0.6658877458138204.\n",
      "[I 2023-10-15 01:22:38,308] Trial 2 finished with value: 0.6631236671505308 and parameters: {'max_depth': 2, 'colsample_bynode': 0.7295769414169548, 'reg_lambda': 1.1831127173183544, 'n_estimators': 25, 'learning_rate': 0.1784334916139706}. Best is trial 0 with value: 0.6658877458138204.\n",
      "[I 2023-10-15 01:22:43,898] Trial 3 finished with value: 0.666685784650429 and parameters: {'max_depth': 4, 'colsample_bynode': 0.6728908464142316, 'reg_lambda': 1.2695556150249683, 'n_estimators': 27, 'learning_rate': 0.17284944348583753}. Best is trial 3 with value: 0.666685784650429.\n",
      "[I 2023-10-15 01:22:48,634] Trial 4 finished with value: 0.6653678358838957 and parameters: {'max_depth': 3, 'colsample_bynode': 0.716006744217137, 'reg_lambda': 1.343369606469202, 'n_estimators': 33, 'learning_rate': 0.1553062802890296}. Best is trial 3 with value: 0.666685784650429.\n",
      "[I 2023-10-15 01:22:54,885] Trial 5 finished with value: 0.6666689218856658 and parameters: {'max_depth': 4, 'colsample_bynode': 0.5152076380712173, 'reg_lambda': 1.7954663325975369, 'n_estimators': 43, 'learning_rate': 0.178433232047835}. Best is trial 3 with value: 0.666685784650429.\n",
      "[I 2023-10-15 01:23:01,487] Trial 6 finished with value: 0.6660772109028112 and parameters: {'max_depth': 4, 'colsample_bynode': 0.713225084587931, 'reg_lambda': 1.0379334976417258, 'n_estimators': 40, 'learning_rate': 0.12814903868478938}. Best is trial 3 with value: 0.666685784650429.\n",
      "[I 2023-10-15 01:23:09,000] Trial 7 finished with value: 0.6659583765207726 and parameters: {'max_depth': 5, 'colsample_bynode': 0.7655323609178271, 'reg_lambda': 1.896621899578931, 'n_estimators': 32, 'learning_rate': 0.16489582328437918}. Best is trial 3 with value: 0.666685784650429.\n",
      "[I 2023-10-15 01:23:15,104] Trial 8 finished with value: 0.66613188567633 and parameters: {'max_depth': 5, 'colsample_bynode': 0.6797647422693343, 'reg_lambda': 1.4561844581843406, 'n_estimators': 31, 'learning_rate': 0.11191382886549453}. Best is trial 3 with value: 0.666685784650429.\n",
      "[I 2023-10-15 01:23:19,172] Trial 9 finished with value: 0.6624990709207729 and parameters: {'max_depth': 2, 'colsample_bynode': 0.7716571669883885, 'reg_lambda': 1.381921107553949, 'n_estimators': 42, 'learning_rate': 0.10461008563986436}. Best is trial 3 with value: 0.666685784650429.\n",
      "[I 2023-10-15 01:23:22,503] Trial 10 finished with value: 0.6661194553406069 and parameters: {'max_depth': 4, 'colsample_bynode': 0.5976745378675171, 'reg_lambda': 1.6768033247854917, 'n_estimators': 20, 'learning_rate': 0.19551514958003838}. Best is trial 3 with value: 0.666685784650429.\n",
      "[I 2023-10-15 01:23:29,180] Trial 11 finished with value: 0.6660704981233385 and parameters: {'max_depth': 4, 'colsample_bynode': 0.5241939013275836, 'reg_lambda': 1.6759461480522106, 'n_estimators': 50, 'learning_rate': 0.18903355829523039}. Best is trial 3 with value: 0.666685784650429.\n",
      "[I 2023-10-15 01:23:36,295] Trial 12 finished with value: 0.666791563077174 and parameters: {'max_depth': 4, 'colsample_bynode': 0.6142281253899509, 'reg_lambda': 1.99503100161614, 'n_estimators': 50, 'learning_rate': 0.1765251854718008}. Best is trial 12 with value: 0.666791563077174.\n",
      "[I 2023-10-15 01:23:45,836] Trial 13 finished with value: 0.6662578072854404 and parameters: {'max_depth': 5, 'colsample_bynode': 0.6247192471263068, 'reg_lambda': 1.991722808446413, 'n_estimators': 50, 'learning_rate': 0.14154202785068476}. Best is trial 12 with value: 0.666791563077174.\n",
      "[I 2023-10-15 01:23:50,211] Trial 14 finished with value: 0.6662364007822479 and parameters: {'max_depth': 4, 'colsample_bynode': 0.5967021911539311, 'reg_lambda': 1.5893209759135805, 'n_estimators': 27, 'learning_rate': 0.1458842246680054}. Best is trial 12 with value: 0.666791563077174.\n",
      "[I 2023-10-15 01:23:53,790] Trial 15 finished with value: 0.6662107446598409 and parameters: {'max_depth': 3, 'colsample_bynode': 0.6554310986931022, 'reg_lambda': 1.5364650200575485, 'n_estimators': 26, 'learning_rate': 0.19820838941446642}. Best is trial 12 with value: 0.666791563077174.\n",
      "[I 2023-10-15 01:24:02,968] Trial 16 finished with value: 0.6660177927429155 and parameters: {'max_depth': 5, 'colsample_bynode': 0.633317162453048, 'reg_lambda': 1.2472192474380737, 'n_estimators': 46, 'learning_rate': 0.18034685007550538}. Best is trial 12 with value: 0.666791563077174.\n",
      "[I 2023-10-15 01:24:08,108] Trial 17 finished with value: 0.6661266285638655 and parameters: {'max_depth': 4, 'colsample_bynode': 0.5819050089245907, 'reg_lambda': 1.993444532810878, 'n_estimators': 36, 'learning_rate': 0.1635902403386353}. Best is trial 12 with value: 0.666791563077174.\n",
      "[I 2023-10-15 01:24:10,978] Trial 18 finished with value: 0.6649603641651448 and parameters: {'max_depth': 3, 'colsample_bynode': 0.5564893357364785, 'reg_lambda': 1.8197814836795652, 'n_estimators': 23, 'learning_rate': 0.1848408575510597}. Best is trial 12 with value: 0.666791563077174.\n",
      "[I 2023-10-15 01:24:16,537] Trial 19 finished with value: 0.6661064055566517 and parameters: {'max_depth': 5, 'colsample_bynode': 0.6551013116777848, 'reg_lambda': 1.4912535971156613, 'n_estimators': 29, 'learning_rate': 0.16968906349723564}. Best is trial 12 with value: 0.666791563077174.\n",
      "[I 2023-10-15 01:24:21,916] Trial 20 finished with value: 0.667070011130844 and parameters: {'max_depth': 4, 'colsample_bynode': 0.6288180365431347, 'reg_lambda': 1.7062243340268068, 'n_estimators': 36, 'learning_rate': 0.1738586842102968}. Best is trial 20 with value: 0.667070011130844.\n",
      "[I 2023-10-15 01:24:27,468] Trial 21 finished with value: 0.6670367461528862 and parameters: {'max_depth': 4, 'colsample_bynode': 0.6223399551722756, 'reg_lambda': 1.7091519115816283, 'n_estimators': 36, 'learning_rate': 0.1735864052362083}. Best is trial 20 with value: 0.667070011130844.\n",
      "[I 2023-10-15 01:24:33,848] Trial 22 finished with value: 0.6664203727192687 and parameters: {'max_depth': 4, 'colsample_bynode': 0.6203326562077272, 'reg_lambda': 1.7258266016682848, 'n_estimators': 36, 'learning_rate': 0.186448262856258}. Best is trial 20 with value: 0.667070011130844.\n",
      "[I 2023-10-15 01:24:41,463] Trial 23 finished with value: 0.6660584993657974 and parameters: {'max_depth': 4, 'colsample_bynode': 0.5700812445718442, 'reg_lambda': 1.87542279780308, 'n_estimators': 45, 'learning_rate': 0.158529248223993}. Best is trial 20 with value: 0.667070011130844.\n",
      "[I 2023-10-15 01:24:46,207] Trial 24 finished with value: 0.6658238694449496 and parameters: {'max_depth': 3, 'colsample_bynode': 0.6176783966405128, 'reg_lambda': 1.6254477771984397, 'n_estimators': 35, 'learning_rate': 0.17111802209700075}. Best is trial 20 with value: 0.667070011130844.\n",
      "[I 2023-10-15 01:24:53,683] Trial 25 finished with value: 0.665878740924376 and parameters: {'max_depth': 4, 'colsample_bynode': 0.6361980416642826, 'reg_lambda': 1.7309684177494271, 'n_estimators': 47, 'learning_rate': 0.15443031366810872}. Best is trial 20 with value: 0.667070011130844.\n",
      "[I 2023-10-15 01:25:02,086] Trial 26 finished with value: 0.6675136202044092 and parameters: {'max_depth': 5, 'colsample_bynode': 0.6028784042231218, 'reg_lambda': 1.9107959408881667, 'n_estimators': 38, 'learning_rate': 0.19089614460186538}. Best is trial 26 with value: 0.6675136202044092.\n",
      "[I 2023-10-15 01:25:09,405] Trial 27 finished with value: 0.6659980021212079 and parameters: {'max_depth': 5, 'colsample_bynode': 0.5537267348926743, 'reg_lambda': 1.7798453954261708, 'n_estimators': 37, 'learning_rate': 0.19183820534869064}. Best is trial 26 with value: 0.6675136202044092.\n",
      "[I 2023-10-15 01:25:17,232] Trial 28 finished with value: 0.666062251726691 and parameters: {'max_depth': 5, 'colsample_bynode': 0.6466067100184969, 'reg_lambda': 1.878632724223976, 'n_estimators': 38, 'learning_rate': 0.18562627033466553}. Best is trial 26 with value: 0.6675136202044092.\n",
      "[I 2023-10-15 01:25:27,225] Trial 29 finished with value: 0.6659808169801604 and parameters: {'max_depth': 5, 'colsample_bynode': 0.601832478401555, 'reg_lambda': 1.5762451190700244, 'n_estimators': 41, 'learning_rate': 0.1982074947042364}. Best is trial 26 with value: 0.6675136202044092.\n",
      "[I 2023-10-15 01:25:30,596] Trial 30 finished with value: 0.6636065774124482 and parameters: {'max_depth': 2, 'colsample_bynode': 0.6665492128998962, 'reg_lambda': 1.6613540127564839, 'n_estimators': 34, 'learning_rate': 0.1917822329644231}. Best is trial 26 with value: 0.6675136202044092.\n",
      "[I 2023-10-15 01:25:35,762] Trial 31 finished with value: 0.6671948384869486 and parameters: {'max_depth': 4, 'colsample_bynode': 0.6164358356332278, 'reg_lambda': 1.9303268521267207, 'n_estimators': 31, 'learning_rate': 0.17692081756108058}. Best is trial 26 with value: 0.6675136202044092.\n",
      "[I 2023-10-15 01:25:39,465] Trial 32 finished with value: 0.6650632068325539 and parameters: {'max_depth': 3, 'colsample_bynode': 0.6360650408806362, 'reg_lambda': 1.9003456058221957, 'n_estimators': 30, 'learning_rate': 0.166566937686193}. Best is trial 26 with value: 0.6675136202044092.\n",
      "[I 2023-10-15 01:25:45,110] Trial 33 finished with value: 0.6662443414419433 and parameters: {'max_depth': 4, 'colsample_bynode': 0.5876312261160276, 'reg_lambda': 1.7348222687614037, 'n_estimators': 38, 'learning_rate': 0.18134358427072175}. Best is trial 26 with value: 0.6675136202044092.\n",
      "[I 2023-10-15 01:25:50,643] Trial 34 finished with value: 0.6666260199575849 and parameters: {'max_depth': 4, 'colsample_bynode': 0.6503343613522018, 'reg_lambda': 1.8372624181736492, 'n_estimators': 34, 'learning_rate': 0.17438921815749817}. Best is trial 26 with value: 0.6675136202044092.\n",
      "[I 2023-10-15 01:25:58,063] Trial 35 finished with value: 0.6663695643883343 and parameters: {'max_depth': 5, 'colsample_bynode': 0.6113534984430482, 'reg_lambda': 1.9251039175419833, 'n_estimators': 39, 'learning_rate': 0.1748355492247937}. Best is trial 26 with value: 0.6675136202044092.\n",
      "[I 2023-10-15 01:26:02,049] Trial 36 finished with value: 0.6664158493064656 and parameters: {'max_depth': 3, 'colsample_bynode': 0.5781773362723127, 'reg_lambda': 1.8324111317158767, 'n_estimators': 32, 'learning_rate': 0.1825298074382206}. Best is trial 26 with value: 0.6675136202044092.\n",
      "[I 2023-10-15 01:26:10,040] Trial 37 finished with value: 0.6655206775466018 and parameters: {'max_depth': 4, 'colsample_bynode': 0.6964232852646492, 'reg_lambda': 1.9399213103342707, 'n_estimators': 28, 'learning_rate': 0.19159236242712022}. Best is trial 26 with value: 0.6675136202044092.\n",
      "[I 2023-10-15 01:26:16,191] Trial 38 finished with value: 0.6668371770144278 and parameters: {'max_depth': 4, 'colsample_bynode': 0.6065574230039695, 'reg_lambda': 1.7588442478124406, 'n_estimators': 40, 'learning_rate': 0.17857617642522733}. Best is trial 26 with value: 0.6675136202044092.\n",
      "[I 2023-10-15 01:26:22,822] Trial 39 finished with value: 0.666005139033467 and parameters: {'max_depth': 5, 'colsample_bynode': 0.6692413384017388, 'reg_lambda': 1.8071619463946074, 'n_estimators': 33, 'learning_rate': 0.1689495627829069}. Best is trial 26 with value: 0.6675136202044092.\n",
      "[I 2023-10-15 01:26:26,760] Trial 40 finished with value: 0.6624859296960585 and parameters: {'max_depth': 2, 'colsample_bynode': 0.633578721335543, 'reg_lambda': 1.8561430011358222, 'n_estimators': 44, 'learning_rate': 0.16269276370880253}. Best is trial 26 with value: 0.6675136202044092.\n",
      "[I 2023-10-15 01:26:32,988] Trial 41 finished with value: 0.6664547965436982 and parameters: {'max_depth': 4, 'colsample_bynode': 0.6049468826123845, 'reg_lambda': 1.7707587825984865, 'n_estimators': 40, 'learning_rate': 0.17897451398441006}. Best is trial 26 with value: 0.6675136202044092.\n",
      "[I 2023-10-15 01:26:38,902] Trial 42 finished with value: 0.6668656031286273 and parameters: {'max_depth': 4, 'colsample_bynode': 0.5955294287887782, 'reg_lambda': 1.9452646443718056, 'n_estimators': 37, 'learning_rate': 0.17575114362754057}. Best is trial 26 with value: 0.6675136202044092.\n",
      "[I 2023-10-15 01:26:44,640] Trial 43 finished with value: 0.666695558833505 and parameters: {'max_depth': 4, 'colsample_bynode': 0.6237776465649089, 'reg_lambda': 1.9381302566290903, 'n_estimators': 36, 'learning_rate': 0.17344944561101971}. Best is trial 26 with value: 0.6675136202044092.\n",
      "[I 2023-10-15 01:26:48,617] Trial 44 finished with value: 0.6666591988587975 and parameters: {'max_depth': 3, 'colsample_bynode': 0.5847120901580111, 'reg_lambda': 1.9428138853934498, 'n_estimators': 31, 'learning_rate': 0.18683130166104117}. Best is trial 26 with value: 0.6675136202044092.\n",
      "[I 2023-10-15 01:26:56,754] Trial 45 finished with value: 0.6666544295488567 and parameters: {'max_depth': 4, 'colsample_bynode': 0.5985771096962268, 'reg_lambda': 1.8663253465018483, 'n_estimators': 38, 'learning_rate': 0.1712388227688792}. Best is trial 26 with value: 0.6675136202044092.\n",
      "[I 2023-10-15 01:27:03,565] Trial 46 finished with value: 0.6658925548076875 and parameters: {'max_depth': 4, 'colsample_bynode': 0.6855836766500357, 'reg_lambda': 1.7001355573298917, 'n_estimators': 42, 'learning_rate': 0.18178569463400027}. Best is trial 26 with value: 0.6675136202044092.\n",
      "[I 2023-10-15 01:27:09,171] Trial 47 finished with value: 0.6667557379712417 and parameters: {'max_depth': 4, 'colsample_bynode': 0.6212688565421094, 'reg_lambda': 1.8239328570441071, 'n_estimators': 35, 'learning_rate': 0.17568814855693263}. Best is trial 26 with value: 0.6675136202044092.\n",
      "[I 2023-10-15 01:27:15,818] Trial 48 finished with value: 0.6662917958181694 and parameters: {'max_depth': 5, 'colsample_bynode': 0.5926567645512234, 'reg_lambda': 1.7745081146416934, 'n_estimators': 33, 'learning_rate': 0.19450524802301652}. Best is trial 26 with value: 0.6675136202044092.\n",
      "[I 2023-10-15 01:27:21,632] Trial 49 finished with value: 0.6660536816980602 and parameters: {'max_depth': 4, 'colsample_bynode': 0.5639932990522482, 'reg_lambda': 1.9604888158350626, 'n_estimators': 37, 'learning_rate': 0.1658763724232044}. Best is trial 26 with value: 0.6675136202044092.\n"
     ]
    }
   ],
   "source": [
    "K = 5   # Kfold 수\n",
    "opt_func = partial(optimizer, X=X, y=y, K=K)\n",
    "\n",
    "study = optuna.create_study(direction=\"maximize\") # 최소/최대 어느 방향의 최적값을 구할 건지.\n",
    "study.optimize(opt_func, n_trials=50)"
   ]
  },
  {
   "cell_type": "markdown",
   "source": [],
   "metadata": {
    "collapsed": false
   }
  },
  {
   "cell_type": "code",
   "execution_count": 37,
   "id": "72d0a118",
   "metadata": {
    "colab": {
     "base_uri": "https://localhost:8080/",
     "height": 1000
    },
    "id": "72d0a118",
    "outputId": "978d6a99-5370-4b0e-c5f7-bb38fdde033b"
   },
   "outputs": [
    {
     "data": {
      "text/plain": "    number     value             datetime_start          datetime_complete  \\\n0        0  0.665888 2023-10-15 01:22:27.079930 2023-10-15 01:22:31.361099   \n1        1  0.665806 2023-10-15 01:22:31.362099 2023-10-15 01:22:35.612898   \n2        2  0.663124 2023-10-15 01:22:35.614912 2023-10-15 01:22:38.308670   \n3        3  0.666686 2023-10-15 01:22:38.309670 2023-10-15 01:22:43.897503   \n4        4  0.665368 2023-10-15 01:22:43.900506 2023-10-15 01:22:48.634027   \n5        5  0.666669 2023-10-15 01:22:48.636093 2023-10-15 01:22:54.884510   \n6        6  0.666077 2023-10-15 01:22:54.886920 2023-10-15 01:23:01.487437   \n7        7  0.665958 2023-10-15 01:23:01.488437 2023-10-15 01:23:08.999446   \n8        8  0.666132 2023-10-15 01:23:09.001821 2023-10-15 01:23:15.104659   \n9        9  0.662499 2023-10-15 01:23:15.105658 2023-10-15 01:23:19.172947   \n10      10  0.666119 2023-10-15 01:23:19.173947 2023-10-15 01:23:22.502727   \n11      11  0.666070 2023-10-15 01:23:22.504729 2023-10-15 01:23:29.180231   \n12      12  0.666792 2023-10-15 01:23:29.181547 2023-10-15 01:23:36.295106   \n13      13  0.666258 2023-10-15 01:23:36.296625 2023-10-15 01:23:45.836172   \n14      14  0.666236 2023-10-15 01:23:45.837173 2023-10-15 01:23:50.210099   \n15      15  0.666211 2023-10-15 01:23:50.212118 2023-10-15 01:23:53.790069   \n16      16  0.666018 2023-10-15 01:23:53.791069 2023-10-15 01:24:02.968076   \n17      17  0.666127 2023-10-15 01:24:02.969076 2023-10-15 01:24:08.107183   \n18      18  0.664960 2023-10-15 01:24:08.110001 2023-10-15 01:24:10.977774   \n19      19  0.666106 2023-10-15 01:24:10.979775 2023-10-15 01:24:16.536841   \n20      20  0.667070 2023-10-15 01:24:16.538357 2023-10-15 01:24:21.915918   \n21      21  0.667037 2023-10-15 01:24:21.918928 2023-10-15 01:24:27.467259   \n22      22  0.666420 2023-10-15 01:24:27.469320 2023-10-15 01:24:33.846614   \n23      23  0.666058 2023-10-15 01:24:33.849813 2023-10-15 01:24:41.463200   \n24      24  0.665824 2023-10-15 01:24:41.464731 2023-10-15 01:24:46.207249   \n25      25  0.665879 2023-10-15 01:24:46.208268 2023-10-15 01:24:53.683916   \n26      26  0.667514 2023-10-15 01:24:53.685809 2023-10-15 01:25:02.086032   \n27      27  0.665998 2023-10-15 01:25:02.087947 2023-10-15 01:25:09.404440   \n28      28  0.666062 2023-10-15 01:25:09.406443 2023-10-15 01:25:17.231894   \n29      29  0.665981 2023-10-15 01:25:17.234895 2023-10-15 01:25:27.224607   \n30      30  0.663607 2023-10-15 01:25:27.226607 2023-10-15 01:25:30.596506   \n31      31  0.667195 2023-10-15 01:25:30.598333 2023-10-15 01:25:35.761510   \n32      32  0.665063 2023-10-15 01:25:35.763512 2023-10-15 01:25:39.465453   \n33      33  0.666244 2023-10-15 01:25:39.466454 2023-10-15 01:25:45.110731   \n34      34  0.666626 2023-10-15 01:25:45.112732 2023-10-15 01:25:50.642660   \n35      35  0.666370 2023-10-15 01:25:50.644663 2023-10-15 01:25:58.062939   \n36      36  0.666416 2023-10-15 01:25:58.064941 2023-10-15 01:26:02.048538   \n37      37  0.665521 2023-10-15 01:26:02.050538 2023-10-15 01:26:10.040100   \n38      38  0.666837 2023-10-15 01:26:10.040972 2023-10-15 01:26:16.190705   \n39      39  0.666005 2023-10-15 01:26:16.192725 2023-10-15 01:26:22.821895   \n40      40  0.662486 2023-10-15 01:26:22.823893 2023-10-15 01:26:26.759570   \n41      41  0.666455 2023-10-15 01:26:26.761570 2023-10-15 01:26:32.988312   \n42      42  0.666866 2023-10-15 01:26:32.989314 2023-10-15 01:26:38.901011   \n43      43  0.666696 2023-10-15 01:26:38.903014 2023-10-15 01:26:44.639537   \n44      44  0.666659 2023-10-15 01:26:44.642377 2023-10-15 01:26:48.616568   \n45      45  0.666654 2023-10-15 01:26:48.619122 2023-10-15 01:26:56.754252   \n46      46  0.665893 2023-10-15 01:26:56.756316 2023-10-15 01:27:03.565748   \n47      47  0.666756 2023-10-15 01:27:03.567749 2023-10-15 01:27:09.170410   \n48      48  0.666292 2023-10-15 01:27:09.172688 2023-10-15 01:27:15.818508   \n49      49  0.666054 2023-10-15 01:27:15.820250 2023-10-15 01:27:21.632878   \n\n                 duration  params_colsample_bynode  params_learning_rate  \\\n0  0 days 00:00:04.281169                 0.682605              0.166090   \n1  0 days 00:00:04.250799                 0.722055              0.120258   \n2  0 days 00:00:02.693758                 0.729577              0.178433   \n3  0 days 00:00:05.587833                 0.672891              0.172849   \n4  0 days 00:00:04.733521                 0.716007              0.155306   \n5  0 days 00:00:06.248417                 0.515208              0.178433   \n6  0 days 00:00:06.600517                 0.713225              0.128149   \n7  0 days 00:00:07.511009                 0.765532              0.164896   \n8  0 days 00:00:06.102838                 0.679765              0.111914   \n9  0 days 00:00:04.067289                 0.771657              0.104610   \n10 0 days 00:00:03.328780                 0.597675              0.195515   \n11 0 days 00:00:06.675502                 0.524194              0.189034   \n12 0 days 00:00:07.113559                 0.614228              0.176525   \n13 0 days 00:00:09.539547                 0.624719              0.141542   \n14 0 days 00:00:04.372926                 0.596702              0.145884   \n15 0 days 00:00:03.577951                 0.655431              0.198208   \n16 0 days 00:00:09.177007                 0.633317              0.180347   \n17 0 days 00:00:05.138107                 0.581905              0.163590   \n18 0 days 00:00:02.867773                 0.556489              0.184841   \n19 0 days 00:00:05.557066                 0.655101              0.169689   \n20 0 days 00:00:05.377561                 0.628818              0.173859   \n21 0 days 00:00:05.548331                 0.622340              0.173586   \n22 0 days 00:00:06.377294                 0.620333              0.186448   \n23 0 days 00:00:07.613387                 0.570081              0.158529   \n24 0 days 00:00:04.742518                 0.617678              0.171118   \n25 0 days 00:00:07.475648                 0.636198              0.154430   \n26 0 days 00:00:08.400223                 0.602878              0.190896   \n27 0 days 00:00:07.316493                 0.553727              0.191838   \n28 0 days 00:00:07.825451                 0.646607              0.185626   \n29 0 days 00:00:09.989712                 0.601832              0.198207   \n30 0 days 00:00:03.369899                 0.666549              0.191782   \n31 0 days 00:00:05.163177                 0.616436              0.176921   \n32 0 days 00:00:03.701941                 0.636065              0.166567   \n33 0 days 00:00:05.644277                 0.587631              0.181344   \n34 0 days 00:00:05.529928                 0.650334              0.174389   \n35 0 days 00:00:07.418276                 0.611353              0.174836   \n36 0 days 00:00:03.983597                 0.578177              0.182530   \n37 0 days 00:00:07.989562                 0.696423              0.191592   \n38 0 days 00:00:06.149733                 0.606557              0.178576   \n39 0 days 00:00:06.629170                 0.669241              0.168950   \n40 0 days 00:00:03.935677                 0.633579              0.162693   \n41 0 days 00:00:06.226742                 0.604947              0.178975   \n42 0 days 00:00:05.911697                 0.595529              0.175751   \n43 0 days 00:00:05.736523                 0.623778              0.173449   \n44 0 days 00:00:03.974191                 0.584712              0.186831   \n45 0 days 00:00:08.135130                 0.598577              0.171239   \n46 0 days 00:00:06.809432                 0.685584              0.181786   \n47 0 days 00:00:05.602661                 0.621269              0.175688   \n48 0 days 00:00:06.645820                 0.592657              0.194505   \n49 0 days 00:00:05.812628                 0.563993              0.165876   \n\n    params_max_depth  params_n_estimators  params_reg_lambda     state  \n0                  3                   40           1.379995  COMPLETE  \n1                  3                   39           1.046172  COMPLETE  \n2                  2                   25           1.183113  COMPLETE  \n3                  4                   27           1.269556  COMPLETE  \n4                  3                   33           1.343370  COMPLETE  \n5                  4                   43           1.795466  COMPLETE  \n6                  4                   40           1.037933  COMPLETE  \n7                  5                   32           1.896622  COMPLETE  \n8                  5                   31           1.456184  COMPLETE  \n9                  2                   42           1.381921  COMPLETE  \n10                 4                   20           1.676803  COMPLETE  \n11                 4                   50           1.675946  COMPLETE  \n12                 4                   50           1.995031  COMPLETE  \n13                 5                   50           1.991723  COMPLETE  \n14                 4                   27           1.589321  COMPLETE  \n15                 3                   26           1.536465  COMPLETE  \n16                 5                   46           1.247219  COMPLETE  \n17                 4                   36           1.993445  COMPLETE  \n18                 3                   23           1.819781  COMPLETE  \n19                 5                   29           1.491254  COMPLETE  \n20                 4                   36           1.706224  COMPLETE  \n21                 4                   36           1.709152  COMPLETE  \n22                 4                   36           1.725827  COMPLETE  \n23                 4                   45           1.875423  COMPLETE  \n24                 3                   35           1.625448  COMPLETE  \n25                 4                   47           1.730968  COMPLETE  \n26                 5                   38           1.910796  COMPLETE  \n27                 5                   37           1.779845  COMPLETE  \n28                 5                   38           1.878633  COMPLETE  \n29                 5                   41           1.576245  COMPLETE  \n30                 2                   34           1.661354  COMPLETE  \n31                 4                   31           1.930327  COMPLETE  \n32                 3                   30           1.900346  COMPLETE  \n33                 4                   38           1.734822  COMPLETE  \n34                 4                   34           1.837262  COMPLETE  \n35                 5                   39           1.925104  COMPLETE  \n36                 3                   32           1.832411  COMPLETE  \n37                 4                   28           1.939921  COMPLETE  \n38                 4                   40           1.758844  COMPLETE  \n39                 5                   33           1.807162  COMPLETE  \n40                 2                   44           1.856143  COMPLETE  \n41                 4                   40           1.770759  COMPLETE  \n42                 4                   37           1.945265  COMPLETE  \n43                 4                   36           1.938130  COMPLETE  \n44                 3                   31           1.942814  COMPLETE  \n45                 4                   38           1.866325  COMPLETE  \n46                 4                   42           1.700136  COMPLETE  \n47                 4                   35           1.823933  COMPLETE  \n48                 5                   33           1.774508  COMPLETE  \n49                 4                   37           1.960489  COMPLETE  ",
      "text/html": "<div>\n<style scoped>\n    .dataframe tbody tr th:only-of-type {\n        vertical-align: middle;\n    }\n\n    .dataframe tbody tr th {\n        vertical-align: top;\n    }\n\n    .dataframe thead th {\n        text-align: right;\n    }\n</style>\n<table border=\"1\" class=\"dataframe\">\n  <thead>\n    <tr style=\"text-align: right;\">\n      <th></th>\n      <th>number</th>\n      <th>value</th>\n      <th>datetime_start</th>\n      <th>datetime_complete</th>\n      <th>duration</th>\n      <th>params_colsample_bynode</th>\n      <th>params_learning_rate</th>\n      <th>params_max_depth</th>\n      <th>params_n_estimators</th>\n      <th>params_reg_lambda</th>\n      <th>state</th>\n    </tr>\n  </thead>\n  <tbody>\n    <tr>\n      <th>0</th>\n      <td>0</td>\n      <td>0.665888</td>\n      <td>2023-10-15 01:22:27.079930</td>\n      <td>2023-10-15 01:22:31.361099</td>\n      <td>0 days 00:00:04.281169</td>\n      <td>0.682605</td>\n      <td>0.166090</td>\n      <td>3</td>\n      <td>40</td>\n      <td>1.379995</td>\n      <td>COMPLETE</td>\n    </tr>\n    <tr>\n      <th>1</th>\n      <td>1</td>\n      <td>0.665806</td>\n      <td>2023-10-15 01:22:31.362099</td>\n      <td>2023-10-15 01:22:35.612898</td>\n      <td>0 days 00:00:04.250799</td>\n      <td>0.722055</td>\n      <td>0.120258</td>\n      <td>3</td>\n      <td>39</td>\n      <td>1.046172</td>\n      <td>COMPLETE</td>\n    </tr>\n    <tr>\n      <th>2</th>\n      <td>2</td>\n      <td>0.663124</td>\n      <td>2023-10-15 01:22:35.614912</td>\n      <td>2023-10-15 01:22:38.308670</td>\n      <td>0 days 00:00:02.693758</td>\n      <td>0.729577</td>\n      <td>0.178433</td>\n      <td>2</td>\n      <td>25</td>\n      <td>1.183113</td>\n      <td>COMPLETE</td>\n    </tr>\n    <tr>\n      <th>3</th>\n      <td>3</td>\n      <td>0.666686</td>\n      <td>2023-10-15 01:22:38.309670</td>\n      <td>2023-10-15 01:22:43.897503</td>\n      <td>0 days 00:00:05.587833</td>\n      <td>0.672891</td>\n      <td>0.172849</td>\n      <td>4</td>\n      <td>27</td>\n      <td>1.269556</td>\n      <td>COMPLETE</td>\n    </tr>\n    <tr>\n      <th>4</th>\n      <td>4</td>\n      <td>0.665368</td>\n      <td>2023-10-15 01:22:43.900506</td>\n      <td>2023-10-15 01:22:48.634027</td>\n      <td>0 days 00:00:04.733521</td>\n      <td>0.716007</td>\n      <td>0.155306</td>\n      <td>3</td>\n      <td>33</td>\n      <td>1.343370</td>\n      <td>COMPLETE</td>\n    </tr>\n    <tr>\n      <th>5</th>\n      <td>5</td>\n      <td>0.666669</td>\n      <td>2023-10-15 01:22:48.636093</td>\n      <td>2023-10-15 01:22:54.884510</td>\n      <td>0 days 00:00:06.248417</td>\n      <td>0.515208</td>\n      <td>0.178433</td>\n      <td>4</td>\n      <td>43</td>\n      <td>1.795466</td>\n      <td>COMPLETE</td>\n    </tr>\n    <tr>\n      <th>6</th>\n      <td>6</td>\n      <td>0.666077</td>\n      <td>2023-10-15 01:22:54.886920</td>\n      <td>2023-10-15 01:23:01.487437</td>\n      <td>0 days 00:00:06.600517</td>\n      <td>0.713225</td>\n      <td>0.128149</td>\n      <td>4</td>\n      <td>40</td>\n      <td>1.037933</td>\n      <td>COMPLETE</td>\n    </tr>\n    <tr>\n      <th>7</th>\n      <td>7</td>\n      <td>0.665958</td>\n      <td>2023-10-15 01:23:01.488437</td>\n      <td>2023-10-15 01:23:08.999446</td>\n      <td>0 days 00:00:07.511009</td>\n      <td>0.765532</td>\n      <td>0.164896</td>\n      <td>5</td>\n      <td>32</td>\n      <td>1.896622</td>\n      <td>COMPLETE</td>\n    </tr>\n    <tr>\n      <th>8</th>\n      <td>8</td>\n      <td>0.666132</td>\n      <td>2023-10-15 01:23:09.001821</td>\n      <td>2023-10-15 01:23:15.104659</td>\n      <td>0 days 00:00:06.102838</td>\n      <td>0.679765</td>\n      <td>0.111914</td>\n      <td>5</td>\n      <td>31</td>\n      <td>1.456184</td>\n      <td>COMPLETE</td>\n    </tr>\n    <tr>\n      <th>9</th>\n      <td>9</td>\n      <td>0.662499</td>\n      <td>2023-10-15 01:23:15.105658</td>\n      <td>2023-10-15 01:23:19.172947</td>\n      <td>0 days 00:00:04.067289</td>\n      <td>0.771657</td>\n      <td>0.104610</td>\n      <td>2</td>\n      <td>42</td>\n      <td>1.381921</td>\n      <td>COMPLETE</td>\n    </tr>\n    <tr>\n      <th>10</th>\n      <td>10</td>\n      <td>0.666119</td>\n      <td>2023-10-15 01:23:19.173947</td>\n      <td>2023-10-15 01:23:22.502727</td>\n      <td>0 days 00:00:03.328780</td>\n      <td>0.597675</td>\n      <td>0.195515</td>\n      <td>4</td>\n      <td>20</td>\n      <td>1.676803</td>\n      <td>COMPLETE</td>\n    </tr>\n    <tr>\n      <th>11</th>\n      <td>11</td>\n      <td>0.666070</td>\n      <td>2023-10-15 01:23:22.504729</td>\n      <td>2023-10-15 01:23:29.180231</td>\n      <td>0 days 00:00:06.675502</td>\n      <td>0.524194</td>\n      <td>0.189034</td>\n      <td>4</td>\n      <td>50</td>\n      <td>1.675946</td>\n      <td>COMPLETE</td>\n    </tr>\n    <tr>\n      <th>12</th>\n      <td>12</td>\n      <td>0.666792</td>\n      <td>2023-10-15 01:23:29.181547</td>\n      <td>2023-10-15 01:23:36.295106</td>\n      <td>0 days 00:00:07.113559</td>\n      <td>0.614228</td>\n      <td>0.176525</td>\n      <td>4</td>\n      <td>50</td>\n      <td>1.995031</td>\n      <td>COMPLETE</td>\n    </tr>\n    <tr>\n      <th>13</th>\n      <td>13</td>\n      <td>0.666258</td>\n      <td>2023-10-15 01:23:36.296625</td>\n      <td>2023-10-15 01:23:45.836172</td>\n      <td>0 days 00:00:09.539547</td>\n      <td>0.624719</td>\n      <td>0.141542</td>\n      <td>5</td>\n      <td>50</td>\n      <td>1.991723</td>\n      <td>COMPLETE</td>\n    </tr>\n    <tr>\n      <th>14</th>\n      <td>14</td>\n      <td>0.666236</td>\n      <td>2023-10-15 01:23:45.837173</td>\n      <td>2023-10-15 01:23:50.210099</td>\n      <td>0 days 00:00:04.372926</td>\n      <td>0.596702</td>\n      <td>0.145884</td>\n      <td>4</td>\n      <td>27</td>\n      <td>1.589321</td>\n      <td>COMPLETE</td>\n    </tr>\n    <tr>\n      <th>15</th>\n      <td>15</td>\n      <td>0.666211</td>\n      <td>2023-10-15 01:23:50.212118</td>\n      <td>2023-10-15 01:23:53.790069</td>\n      <td>0 days 00:00:03.577951</td>\n      <td>0.655431</td>\n      <td>0.198208</td>\n      <td>3</td>\n      <td>26</td>\n      <td>1.536465</td>\n      <td>COMPLETE</td>\n    </tr>\n    <tr>\n      <th>16</th>\n      <td>16</td>\n      <td>0.666018</td>\n      <td>2023-10-15 01:23:53.791069</td>\n      <td>2023-10-15 01:24:02.968076</td>\n      <td>0 days 00:00:09.177007</td>\n      <td>0.633317</td>\n      <td>0.180347</td>\n      <td>5</td>\n      <td>46</td>\n      <td>1.247219</td>\n      <td>COMPLETE</td>\n    </tr>\n    <tr>\n      <th>17</th>\n      <td>17</td>\n      <td>0.666127</td>\n      <td>2023-10-15 01:24:02.969076</td>\n      <td>2023-10-15 01:24:08.107183</td>\n      <td>0 days 00:00:05.138107</td>\n      <td>0.581905</td>\n      <td>0.163590</td>\n      <td>4</td>\n      <td>36</td>\n      <td>1.993445</td>\n      <td>COMPLETE</td>\n    </tr>\n    <tr>\n      <th>18</th>\n      <td>18</td>\n      <td>0.664960</td>\n      <td>2023-10-15 01:24:08.110001</td>\n      <td>2023-10-15 01:24:10.977774</td>\n      <td>0 days 00:00:02.867773</td>\n      <td>0.556489</td>\n      <td>0.184841</td>\n      <td>3</td>\n      <td>23</td>\n      <td>1.819781</td>\n      <td>COMPLETE</td>\n    </tr>\n    <tr>\n      <th>19</th>\n      <td>19</td>\n      <td>0.666106</td>\n      <td>2023-10-15 01:24:10.979775</td>\n      <td>2023-10-15 01:24:16.536841</td>\n      <td>0 days 00:00:05.557066</td>\n      <td>0.655101</td>\n      <td>0.169689</td>\n      <td>5</td>\n      <td>29</td>\n      <td>1.491254</td>\n      <td>COMPLETE</td>\n    </tr>\n    <tr>\n      <th>20</th>\n      <td>20</td>\n      <td>0.667070</td>\n      <td>2023-10-15 01:24:16.538357</td>\n      <td>2023-10-15 01:24:21.915918</td>\n      <td>0 days 00:00:05.377561</td>\n      <td>0.628818</td>\n      <td>0.173859</td>\n      <td>4</td>\n      <td>36</td>\n      <td>1.706224</td>\n      <td>COMPLETE</td>\n    </tr>\n    <tr>\n      <th>21</th>\n      <td>21</td>\n      <td>0.667037</td>\n      <td>2023-10-15 01:24:21.918928</td>\n      <td>2023-10-15 01:24:27.467259</td>\n      <td>0 days 00:00:05.548331</td>\n      <td>0.622340</td>\n      <td>0.173586</td>\n      <td>4</td>\n      <td>36</td>\n      <td>1.709152</td>\n      <td>COMPLETE</td>\n    </tr>\n    <tr>\n      <th>22</th>\n      <td>22</td>\n      <td>0.666420</td>\n      <td>2023-10-15 01:24:27.469320</td>\n      <td>2023-10-15 01:24:33.846614</td>\n      <td>0 days 00:00:06.377294</td>\n      <td>0.620333</td>\n      <td>0.186448</td>\n      <td>4</td>\n      <td>36</td>\n      <td>1.725827</td>\n      <td>COMPLETE</td>\n    </tr>\n    <tr>\n      <th>23</th>\n      <td>23</td>\n      <td>0.666058</td>\n      <td>2023-10-15 01:24:33.849813</td>\n      <td>2023-10-15 01:24:41.463200</td>\n      <td>0 days 00:00:07.613387</td>\n      <td>0.570081</td>\n      <td>0.158529</td>\n      <td>4</td>\n      <td>45</td>\n      <td>1.875423</td>\n      <td>COMPLETE</td>\n    </tr>\n    <tr>\n      <th>24</th>\n      <td>24</td>\n      <td>0.665824</td>\n      <td>2023-10-15 01:24:41.464731</td>\n      <td>2023-10-15 01:24:46.207249</td>\n      <td>0 days 00:00:04.742518</td>\n      <td>0.617678</td>\n      <td>0.171118</td>\n      <td>3</td>\n      <td>35</td>\n      <td>1.625448</td>\n      <td>COMPLETE</td>\n    </tr>\n    <tr>\n      <th>25</th>\n      <td>25</td>\n      <td>0.665879</td>\n      <td>2023-10-15 01:24:46.208268</td>\n      <td>2023-10-15 01:24:53.683916</td>\n      <td>0 days 00:00:07.475648</td>\n      <td>0.636198</td>\n      <td>0.154430</td>\n      <td>4</td>\n      <td>47</td>\n      <td>1.730968</td>\n      <td>COMPLETE</td>\n    </tr>\n    <tr>\n      <th>26</th>\n      <td>26</td>\n      <td>0.667514</td>\n      <td>2023-10-15 01:24:53.685809</td>\n      <td>2023-10-15 01:25:02.086032</td>\n      <td>0 days 00:00:08.400223</td>\n      <td>0.602878</td>\n      <td>0.190896</td>\n      <td>5</td>\n      <td>38</td>\n      <td>1.910796</td>\n      <td>COMPLETE</td>\n    </tr>\n    <tr>\n      <th>27</th>\n      <td>27</td>\n      <td>0.665998</td>\n      <td>2023-10-15 01:25:02.087947</td>\n      <td>2023-10-15 01:25:09.404440</td>\n      <td>0 days 00:00:07.316493</td>\n      <td>0.553727</td>\n      <td>0.191838</td>\n      <td>5</td>\n      <td>37</td>\n      <td>1.779845</td>\n      <td>COMPLETE</td>\n    </tr>\n    <tr>\n      <th>28</th>\n      <td>28</td>\n      <td>0.666062</td>\n      <td>2023-10-15 01:25:09.406443</td>\n      <td>2023-10-15 01:25:17.231894</td>\n      <td>0 days 00:00:07.825451</td>\n      <td>0.646607</td>\n      <td>0.185626</td>\n      <td>5</td>\n      <td>38</td>\n      <td>1.878633</td>\n      <td>COMPLETE</td>\n    </tr>\n    <tr>\n      <th>29</th>\n      <td>29</td>\n      <td>0.665981</td>\n      <td>2023-10-15 01:25:17.234895</td>\n      <td>2023-10-15 01:25:27.224607</td>\n      <td>0 days 00:00:09.989712</td>\n      <td>0.601832</td>\n      <td>0.198207</td>\n      <td>5</td>\n      <td>41</td>\n      <td>1.576245</td>\n      <td>COMPLETE</td>\n    </tr>\n    <tr>\n      <th>30</th>\n      <td>30</td>\n      <td>0.663607</td>\n      <td>2023-10-15 01:25:27.226607</td>\n      <td>2023-10-15 01:25:30.596506</td>\n      <td>0 days 00:00:03.369899</td>\n      <td>0.666549</td>\n      <td>0.191782</td>\n      <td>2</td>\n      <td>34</td>\n      <td>1.661354</td>\n      <td>COMPLETE</td>\n    </tr>\n    <tr>\n      <th>31</th>\n      <td>31</td>\n      <td>0.667195</td>\n      <td>2023-10-15 01:25:30.598333</td>\n      <td>2023-10-15 01:25:35.761510</td>\n      <td>0 days 00:00:05.163177</td>\n      <td>0.616436</td>\n      <td>0.176921</td>\n      <td>4</td>\n      <td>31</td>\n      <td>1.930327</td>\n      <td>COMPLETE</td>\n    </tr>\n    <tr>\n      <th>32</th>\n      <td>32</td>\n      <td>0.665063</td>\n      <td>2023-10-15 01:25:35.763512</td>\n      <td>2023-10-15 01:25:39.465453</td>\n      <td>0 days 00:00:03.701941</td>\n      <td>0.636065</td>\n      <td>0.166567</td>\n      <td>3</td>\n      <td>30</td>\n      <td>1.900346</td>\n      <td>COMPLETE</td>\n    </tr>\n    <tr>\n      <th>33</th>\n      <td>33</td>\n      <td>0.666244</td>\n      <td>2023-10-15 01:25:39.466454</td>\n      <td>2023-10-15 01:25:45.110731</td>\n      <td>0 days 00:00:05.644277</td>\n      <td>0.587631</td>\n      <td>0.181344</td>\n      <td>4</td>\n      <td>38</td>\n      <td>1.734822</td>\n      <td>COMPLETE</td>\n    </tr>\n    <tr>\n      <th>34</th>\n      <td>34</td>\n      <td>0.666626</td>\n      <td>2023-10-15 01:25:45.112732</td>\n      <td>2023-10-15 01:25:50.642660</td>\n      <td>0 days 00:00:05.529928</td>\n      <td>0.650334</td>\n      <td>0.174389</td>\n      <td>4</td>\n      <td>34</td>\n      <td>1.837262</td>\n      <td>COMPLETE</td>\n    </tr>\n    <tr>\n      <th>35</th>\n      <td>35</td>\n      <td>0.666370</td>\n      <td>2023-10-15 01:25:50.644663</td>\n      <td>2023-10-15 01:25:58.062939</td>\n      <td>0 days 00:00:07.418276</td>\n      <td>0.611353</td>\n      <td>0.174836</td>\n      <td>5</td>\n      <td>39</td>\n      <td>1.925104</td>\n      <td>COMPLETE</td>\n    </tr>\n    <tr>\n      <th>36</th>\n      <td>36</td>\n      <td>0.666416</td>\n      <td>2023-10-15 01:25:58.064941</td>\n      <td>2023-10-15 01:26:02.048538</td>\n      <td>0 days 00:00:03.983597</td>\n      <td>0.578177</td>\n      <td>0.182530</td>\n      <td>3</td>\n      <td>32</td>\n      <td>1.832411</td>\n      <td>COMPLETE</td>\n    </tr>\n    <tr>\n      <th>37</th>\n      <td>37</td>\n      <td>0.665521</td>\n      <td>2023-10-15 01:26:02.050538</td>\n      <td>2023-10-15 01:26:10.040100</td>\n      <td>0 days 00:00:07.989562</td>\n      <td>0.696423</td>\n      <td>0.191592</td>\n      <td>4</td>\n      <td>28</td>\n      <td>1.939921</td>\n      <td>COMPLETE</td>\n    </tr>\n    <tr>\n      <th>38</th>\n      <td>38</td>\n      <td>0.666837</td>\n      <td>2023-10-15 01:26:10.040972</td>\n      <td>2023-10-15 01:26:16.190705</td>\n      <td>0 days 00:00:06.149733</td>\n      <td>0.606557</td>\n      <td>0.178576</td>\n      <td>4</td>\n      <td>40</td>\n      <td>1.758844</td>\n      <td>COMPLETE</td>\n    </tr>\n    <tr>\n      <th>39</th>\n      <td>39</td>\n      <td>0.666005</td>\n      <td>2023-10-15 01:26:16.192725</td>\n      <td>2023-10-15 01:26:22.821895</td>\n      <td>0 days 00:00:06.629170</td>\n      <td>0.669241</td>\n      <td>0.168950</td>\n      <td>5</td>\n      <td>33</td>\n      <td>1.807162</td>\n      <td>COMPLETE</td>\n    </tr>\n    <tr>\n      <th>40</th>\n      <td>40</td>\n      <td>0.662486</td>\n      <td>2023-10-15 01:26:22.823893</td>\n      <td>2023-10-15 01:26:26.759570</td>\n      <td>0 days 00:00:03.935677</td>\n      <td>0.633579</td>\n      <td>0.162693</td>\n      <td>2</td>\n      <td>44</td>\n      <td>1.856143</td>\n      <td>COMPLETE</td>\n    </tr>\n    <tr>\n      <th>41</th>\n      <td>41</td>\n      <td>0.666455</td>\n      <td>2023-10-15 01:26:26.761570</td>\n      <td>2023-10-15 01:26:32.988312</td>\n      <td>0 days 00:00:06.226742</td>\n      <td>0.604947</td>\n      <td>0.178975</td>\n      <td>4</td>\n      <td>40</td>\n      <td>1.770759</td>\n      <td>COMPLETE</td>\n    </tr>\n    <tr>\n      <th>42</th>\n      <td>42</td>\n      <td>0.666866</td>\n      <td>2023-10-15 01:26:32.989314</td>\n      <td>2023-10-15 01:26:38.901011</td>\n      <td>0 days 00:00:05.911697</td>\n      <td>0.595529</td>\n      <td>0.175751</td>\n      <td>4</td>\n      <td>37</td>\n      <td>1.945265</td>\n      <td>COMPLETE</td>\n    </tr>\n    <tr>\n      <th>43</th>\n      <td>43</td>\n      <td>0.666696</td>\n      <td>2023-10-15 01:26:38.903014</td>\n      <td>2023-10-15 01:26:44.639537</td>\n      <td>0 days 00:00:05.736523</td>\n      <td>0.623778</td>\n      <td>0.173449</td>\n      <td>4</td>\n      <td>36</td>\n      <td>1.938130</td>\n      <td>COMPLETE</td>\n    </tr>\n    <tr>\n      <th>44</th>\n      <td>44</td>\n      <td>0.666659</td>\n      <td>2023-10-15 01:26:44.642377</td>\n      <td>2023-10-15 01:26:48.616568</td>\n      <td>0 days 00:00:03.974191</td>\n      <td>0.584712</td>\n      <td>0.186831</td>\n      <td>3</td>\n      <td>31</td>\n      <td>1.942814</td>\n      <td>COMPLETE</td>\n    </tr>\n    <tr>\n      <th>45</th>\n      <td>45</td>\n      <td>0.666654</td>\n      <td>2023-10-15 01:26:48.619122</td>\n      <td>2023-10-15 01:26:56.754252</td>\n      <td>0 days 00:00:08.135130</td>\n      <td>0.598577</td>\n      <td>0.171239</td>\n      <td>4</td>\n      <td>38</td>\n      <td>1.866325</td>\n      <td>COMPLETE</td>\n    </tr>\n    <tr>\n      <th>46</th>\n      <td>46</td>\n      <td>0.665893</td>\n      <td>2023-10-15 01:26:56.756316</td>\n      <td>2023-10-15 01:27:03.565748</td>\n      <td>0 days 00:00:06.809432</td>\n      <td>0.685584</td>\n      <td>0.181786</td>\n      <td>4</td>\n      <td>42</td>\n      <td>1.700136</td>\n      <td>COMPLETE</td>\n    </tr>\n    <tr>\n      <th>47</th>\n      <td>47</td>\n      <td>0.666756</td>\n      <td>2023-10-15 01:27:03.567749</td>\n      <td>2023-10-15 01:27:09.170410</td>\n      <td>0 days 00:00:05.602661</td>\n      <td>0.621269</td>\n      <td>0.175688</td>\n      <td>4</td>\n      <td>35</td>\n      <td>1.823933</td>\n      <td>COMPLETE</td>\n    </tr>\n    <tr>\n      <th>48</th>\n      <td>48</td>\n      <td>0.666292</td>\n      <td>2023-10-15 01:27:09.172688</td>\n      <td>2023-10-15 01:27:15.818508</td>\n      <td>0 days 00:00:06.645820</td>\n      <td>0.592657</td>\n      <td>0.194505</td>\n      <td>5</td>\n      <td>33</td>\n      <td>1.774508</td>\n      <td>COMPLETE</td>\n    </tr>\n    <tr>\n      <th>49</th>\n      <td>49</td>\n      <td>0.666054</td>\n      <td>2023-10-15 01:27:15.820250</td>\n      <td>2023-10-15 01:27:21.632878</td>\n      <td>0 days 00:00:05.812628</td>\n      <td>0.563993</td>\n      <td>0.165876</td>\n      <td>4</td>\n      <td>37</td>\n      <td>1.960489</td>\n      <td>COMPLETE</td>\n    </tr>\n  </tbody>\n</table>\n</div>"
     },
     "execution_count": 37,
     "metadata": {},
     "output_type": "execute_result"
    }
   ],
   "source": [
    "# optuna가 시도했던 모든 실험 관련 데이터\n",
    "study.trials_dataframe()"
   ]
  },
  {
   "cell_type": "code",
   "execution_count": 38,
   "id": "a805da05",
   "metadata": {
    "colab": {
     "base_uri": "https://localhost:8080/"
    },
    "id": "a805da05",
    "outputId": "bcd1a494-0422-474c-d9e8-3e48cddef25a"
   },
   "outputs": [
    {
     "name": "stdout",
     "output_type": "stream",
     "text": [
      "Best Score: 0.6675\n",
      "Best params:  {'max_depth': 5, 'colsample_bynode': 0.6028784042231218, 'reg_lambda': 1.9107959408881667, 'n_estimators': 38, 'learning_rate': 0.19089614460186538}\n"
     ]
    }
   ],
   "source": [
    "print(\"Best Score: %.4f\" % study.best_value) # best score 출력\n",
    "print(\"Best params: \", study.best_trial.params) # best score일 때의 하이퍼파라미터들"
   ]
  },
  {
   "cell_type": "code",
   "execution_count": 39,
   "id": "051ae1eb",
   "metadata": {
    "colab": {
     "base_uri": "https://localhost:8080/",
     "height": 542
    },
    "id": "051ae1eb",
    "outputId": "58266f06-c9df-4dde-cafa-6c5a921f85fe"
   },
   "outputs": [
    {
     "data": {
      "application/vnd.plotly.v1+json": {
       "data": [
        {
         "mode": "markers",
         "name": "Objective Value",
         "x": [
          0,
          1,
          2,
          3,
          4,
          5,
          6,
          7,
          8,
          9,
          10,
          11,
          12,
          13,
          14,
          15,
          16,
          17,
          18,
          19,
          20,
          21,
          22,
          23,
          24,
          25,
          26,
          27,
          28,
          29,
          30,
          31,
          32,
          33,
          34,
          35,
          36,
          37,
          38,
          39,
          40,
          41,
          42,
          43,
          44,
          45,
          46,
          47,
          48,
          49
         ],
         "y": [
          0.6658877458138204,
          0.6658062204338558,
          0.6631236671505308,
          0.666685784650429,
          0.6653678358838957,
          0.6666689218856658,
          0.6660772109028112,
          0.6659583765207726,
          0.66613188567633,
          0.6624990709207729,
          0.6661194553406069,
          0.6660704981233385,
          0.666791563077174,
          0.6662578072854404,
          0.6662364007822479,
          0.6662107446598409,
          0.6660177927429155,
          0.6661266285638655,
          0.6649603641651448,
          0.6661064055566517,
          0.667070011130844,
          0.6670367461528862,
          0.6664203727192687,
          0.6660584993657974,
          0.6658238694449496,
          0.665878740924376,
          0.6675136202044092,
          0.6659980021212079,
          0.666062251726691,
          0.6659808169801604,
          0.6636065774124482,
          0.6671948384869486,
          0.6650632068325539,
          0.6662443414419433,
          0.6666260199575849,
          0.6663695643883343,
          0.6664158493064656,
          0.6655206775466018,
          0.6668371770144278,
          0.666005139033467,
          0.6624859296960585,
          0.6664547965436982,
          0.6668656031286273,
          0.666695558833505,
          0.6666591988587975,
          0.6666544295488567,
          0.6658925548076875,
          0.6667557379712417,
          0.6662917958181694,
          0.6660536816980602
         ],
         "type": "scatter"
        },
        {
         "mode": "lines",
         "name": "Best Value",
         "x": [
          0,
          1,
          2,
          3,
          4,
          5,
          6,
          7,
          8,
          9,
          10,
          11,
          12,
          13,
          14,
          15,
          16,
          17,
          18,
          19,
          20,
          21,
          22,
          23,
          24,
          25,
          26,
          27,
          28,
          29,
          30,
          31,
          32,
          33,
          34,
          35,
          36,
          37,
          38,
          39,
          40,
          41,
          42,
          43,
          44,
          45,
          46,
          47,
          48,
          49
         ],
         "y": [
          0.6658877458138204,
          0.6658877458138204,
          0.6658877458138204,
          0.666685784650429,
          0.666685784650429,
          0.666685784650429,
          0.666685784650429,
          0.666685784650429,
          0.666685784650429,
          0.666685784650429,
          0.666685784650429,
          0.666685784650429,
          0.666791563077174,
          0.666791563077174,
          0.666791563077174,
          0.666791563077174,
          0.666791563077174,
          0.666791563077174,
          0.666791563077174,
          0.666791563077174,
          0.667070011130844,
          0.667070011130844,
          0.667070011130844,
          0.667070011130844,
          0.667070011130844,
          0.667070011130844,
          0.6675136202044092,
          0.6675136202044092,
          0.6675136202044092,
          0.6675136202044092,
          0.6675136202044092,
          0.6675136202044092,
          0.6675136202044092,
          0.6675136202044092,
          0.6675136202044092,
          0.6675136202044092,
          0.6675136202044092,
          0.6675136202044092,
          0.6675136202044092,
          0.6675136202044092,
          0.6675136202044092,
          0.6675136202044092,
          0.6675136202044092,
          0.6675136202044092,
          0.6675136202044092,
          0.6675136202044092,
          0.6675136202044092,
          0.6675136202044092,
          0.6675136202044092,
          0.6675136202044092
         ],
         "type": "scatter"
        },
        {
         "marker": {
          "color": "#cccccc"
         },
         "mode": "markers",
         "name": "Infeasible Trial",
         "showlegend": false,
         "x": [],
         "y": [],
         "type": "scatter"
        }
       ],
       "layout": {
        "title": {
         "text": "Optimization History Plot"
        },
        "xaxis": {
         "title": {
          "text": "Trial"
         }
        },
        "yaxis": {
         "title": {
          "text": "Objective Value"
         }
        },
        "template": {
         "data": {
          "histogram2dcontour": [
           {
            "type": "histogram2dcontour",
            "colorbar": {
             "outlinewidth": 0,
             "ticks": ""
            },
            "colorscale": [
             [
              0.0,
              "#0d0887"
             ],
             [
              0.1111111111111111,
              "#46039f"
             ],
             [
              0.2222222222222222,
              "#7201a8"
             ],
             [
              0.3333333333333333,
              "#9c179e"
             ],
             [
              0.4444444444444444,
              "#bd3786"
             ],
             [
              0.5555555555555556,
              "#d8576b"
             ],
             [
              0.6666666666666666,
              "#ed7953"
             ],
             [
              0.7777777777777778,
              "#fb9f3a"
             ],
             [
              0.8888888888888888,
              "#fdca26"
             ],
             [
              1.0,
              "#f0f921"
             ]
            ]
           }
          ],
          "choropleth": [
           {
            "type": "choropleth",
            "colorbar": {
             "outlinewidth": 0,
             "ticks": ""
            }
           }
          ],
          "histogram2d": [
           {
            "type": "histogram2d",
            "colorbar": {
             "outlinewidth": 0,
             "ticks": ""
            },
            "colorscale": [
             [
              0.0,
              "#0d0887"
             ],
             [
              0.1111111111111111,
              "#46039f"
             ],
             [
              0.2222222222222222,
              "#7201a8"
             ],
             [
              0.3333333333333333,
              "#9c179e"
             ],
             [
              0.4444444444444444,
              "#bd3786"
             ],
             [
              0.5555555555555556,
              "#d8576b"
             ],
             [
              0.6666666666666666,
              "#ed7953"
             ],
             [
              0.7777777777777778,
              "#fb9f3a"
             ],
             [
              0.8888888888888888,
              "#fdca26"
             ],
             [
              1.0,
              "#f0f921"
             ]
            ]
           }
          ],
          "heatmap": [
           {
            "type": "heatmap",
            "colorbar": {
             "outlinewidth": 0,
             "ticks": ""
            },
            "colorscale": [
             [
              0.0,
              "#0d0887"
             ],
             [
              0.1111111111111111,
              "#46039f"
             ],
             [
              0.2222222222222222,
              "#7201a8"
             ],
             [
              0.3333333333333333,
              "#9c179e"
             ],
             [
              0.4444444444444444,
              "#bd3786"
             ],
             [
              0.5555555555555556,
              "#d8576b"
             ],
             [
              0.6666666666666666,
              "#ed7953"
             ],
             [
              0.7777777777777778,
              "#fb9f3a"
             ],
             [
              0.8888888888888888,
              "#fdca26"
             ],
             [
              1.0,
              "#f0f921"
             ]
            ]
           }
          ],
          "heatmapgl": [
           {
            "type": "heatmapgl",
            "colorbar": {
             "outlinewidth": 0,
             "ticks": ""
            },
            "colorscale": [
             [
              0.0,
              "#0d0887"
             ],
             [
              0.1111111111111111,
              "#46039f"
             ],
             [
              0.2222222222222222,
              "#7201a8"
             ],
             [
              0.3333333333333333,
              "#9c179e"
             ],
             [
              0.4444444444444444,
              "#bd3786"
             ],
             [
              0.5555555555555556,
              "#d8576b"
             ],
             [
              0.6666666666666666,
              "#ed7953"
             ],
             [
              0.7777777777777778,
              "#fb9f3a"
             ],
             [
              0.8888888888888888,
              "#fdca26"
             ],
             [
              1.0,
              "#f0f921"
             ]
            ]
           }
          ],
          "contourcarpet": [
           {
            "type": "contourcarpet",
            "colorbar": {
             "outlinewidth": 0,
             "ticks": ""
            }
           }
          ],
          "contour": [
           {
            "type": "contour",
            "colorbar": {
             "outlinewidth": 0,
             "ticks": ""
            },
            "colorscale": [
             [
              0.0,
              "#0d0887"
             ],
             [
              0.1111111111111111,
              "#46039f"
             ],
             [
              0.2222222222222222,
              "#7201a8"
             ],
             [
              0.3333333333333333,
              "#9c179e"
             ],
             [
              0.4444444444444444,
              "#bd3786"
             ],
             [
              0.5555555555555556,
              "#d8576b"
             ],
             [
              0.6666666666666666,
              "#ed7953"
             ],
             [
              0.7777777777777778,
              "#fb9f3a"
             ],
             [
              0.8888888888888888,
              "#fdca26"
             ],
             [
              1.0,
              "#f0f921"
             ]
            ]
           }
          ],
          "surface": [
           {
            "type": "surface",
            "colorbar": {
             "outlinewidth": 0,
             "ticks": ""
            },
            "colorscale": [
             [
              0.0,
              "#0d0887"
             ],
             [
              0.1111111111111111,
              "#46039f"
             ],
             [
              0.2222222222222222,
              "#7201a8"
             ],
             [
              0.3333333333333333,
              "#9c179e"
             ],
             [
              0.4444444444444444,
              "#bd3786"
             ],
             [
              0.5555555555555556,
              "#d8576b"
             ],
             [
              0.6666666666666666,
              "#ed7953"
             ],
             [
              0.7777777777777778,
              "#fb9f3a"
             ],
             [
              0.8888888888888888,
              "#fdca26"
             ],
             [
              1.0,
              "#f0f921"
             ]
            ]
           }
          ],
          "mesh3d": [
           {
            "type": "mesh3d",
            "colorbar": {
             "outlinewidth": 0,
             "ticks": ""
            }
           }
          ],
          "scatter": [
           {
            "fillpattern": {
             "fillmode": "overlay",
             "size": 10,
             "solidity": 0.2
            },
            "type": "scatter"
           }
          ],
          "parcoords": [
           {
            "type": "parcoords",
            "line": {
             "colorbar": {
              "outlinewidth": 0,
              "ticks": ""
             }
            }
           }
          ],
          "scatterpolargl": [
           {
            "type": "scatterpolargl",
            "marker": {
             "colorbar": {
              "outlinewidth": 0,
              "ticks": ""
             }
            }
           }
          ],
          "bar": [
           {
            "error_x": {
             "color": "#2a3f5f"
            },
            "error_y": {
             "color": "#2a3f5f"
            },
            "marker": {
             "line": {
              "color": "#E5ECF6",
              "width": 0.5
             },
             "pattern": {
              "fillmode": "overlay",
              "size": 10,
              "solidity": 0.2
             }
            },
            "type": "bar"
           }
          ],
          "scattergeo": [
           {
            "type": "scattergeo",
            "marker": {
             "colorbar": {
              "outlinewidth": 0,
              "ticks": ""
             }
            }
           }
          ],
          "scatterpolar": [
           {
            "type": "scatterpolar",
            "marker": {
             "colorbar": {
              "outlinewidth": 0,
              "ticks": ""
             }
            }
           }
          ],
          "histogram": [
           {
            "marker": {
             "pattern": {
              "fillmode": "overlay",
              "size": 10,
              "solidity": 0.2
             }
            },
            "type": "histogram"
           }
          ],
          "scattergl": [
           {
            "type": "scattergl",
            "marker": {
             "colorbar": {
              "outlinewidth": 0,
              "ticks": ""
             }
            }
           }
          ],
          "scatter3d": [
           {
            "type": "scatter3d",
            "line": {
             "colorbar": {
              "outlinewidth": 0,
              "ticks": ""
             }
            },
            "marker": {
             "colorbar": {
              "outlinewidth": 0,
              "ticks": ""
             }
            }
           }
          ],
          "scattermapbox": [
           {
            "type": "scattermapbox",
            "marker": {
             "colorbar": {
              "outlinewidth": 0,
              "ticks": ""
             }
            }
           }
          ],
          "scatterternary": [
           {
            "type": "scatterternary",
            "marker": {
             "colorbar": {
              "outlinewidth": 0,
              "ticks": ""
             }
            }
           }
          ],
          "scattercarpet": [
           {
            "type": "scattercarpet",
            "marker": {
             "colorbar": {
              "outlinewidth": 0,
              "ticks": ""
             }
            }
           }
          ],
          "carpet": [
           {
            "aaxis": {
             "endlinecolor": "#2a3f5f",
             "gridcolor": "white",
             "linecolor": "white",
             "minorgridcolor": "white",
             "startlinecolor": "#2a3f5f"
            },
            "baxis": {
             "endlinecolor": "#2a3f5f",
             "gridcolor": "white",
             "linecolor": "white",
             "minorgridcolor": "white",
             "startlinecolor": "#2a3f5f"
            },
            "type": "carpet"
           }
          ],
          "table": [
           {
            "cells": {
             "fill": {
              "color": "#EBF0F8"
             },
             "line": {
              "color": "white"
             }
            },
            "header": {
             "fill": {
              "color": "#C8D4E3"
             },
             "line": {
              "color": "white"
             }
            },
            "type": "table"
           }
          ],
          "barpolar": [
           {
            "marker": {
             "line": {
              "color": "#E5ECF6",
              "width": 0.5
             },
             "pattern": {
              "fillmode": "overlay",
              "size": 10,
              "solidity": 0.2
             }
            },
            "type": "barpolar"
           }
          ],
          "pie": [
           {
            "automargin": true,
            "type": "pie"
           }
          ]
         },
         "layout": {
          "autotypenumbers": "strict",
          "colorway": [
           "#636efa",
           "#EF553B",
           "#00cc96",
           "#ab63fa",
           "#FFA15A",
           "#19d3f3",
           "#FF6692",
           "#B6E880",
           "#FF97FF",
           "#FECB52"
          ],
          "font": {
           "color": "#2a3f5f"
          },
          "hovermode": "closest",
          "hoverlabel": {
           "align": "left"
          },
          "paper_bgcolor": "white",
          "plot_bgcolor": "#E5ECF6",
          "polar": {
           "bgcolor": "#E5ECF6",
           "angularaxis": {
            "gridcolor": "white",
            "linecolor": "white",
            "ticks": ""
           },
           "radialaxis": {
            "gridcolor": "white",
            "linecolor": "white",
            "ticks": ""
           }
          },
          "ternary": {
           "bgcolor": "#E5ECF6",
           "aaxis": {
            "gridcolor": "white",
            "linecolor": "white",
            "ticks": ""
           },
           "baxis": {
            "gridcolor": "white",
            "linecolor": "white",
            "ticks": ""
           },
           "caxis": {
            "gridcolor": "white",
            "linecolor": "white",
            "ticks": ""
           }
          },
          "coloraxis": {
           "colorbar": {
            "outlinewidth": 0,
            "ticks": ""
           }
          },
          "colorscale": {
           "sequential": [
            [
             0.0,
             "#0d0887"
            ],
            [
             0.1111111111111111,
             "#46039f"
            ],
            [
             0.2222222222222222,
             "#7201a8"
            ],
            [
             0.3333333333333333,
             "#9c179e"
            ],
            [
             0.4444444444444444,
             "#bd3786"
            ],
            [
             0.5555555555555556,
             "#d8576b"
            ],
            [
             0.6666666666666666,
             "#ed7953"
            ],
            [
             0.7777777777777778,
             "#fb9f3a"
            ],
            [
             0.8888888888888888,
             "#fdca26"
            ],
            [
             1.0,
             "#f0f921"
            ]
           ],
           "sequentialminus": [
            [
             0.0,
             "#0d0887"
            ],
            [
             0.1111111111111111,
             "#46039f"
            ],
            [
             0.2222222222222222,
             "#7201a8"
            ],
            [
             0.3333333333333333,
             "#9c179e"
            ],
            [
             0.4444444444444444,
             "#bd3786"
            ],
            [
             0.5555555555555556,
             "#d8576b"
            ],
            [
             0.6666666666666666,
             "#ed7953"
            ],
            [
             0.7777777777777778,
             "#fb9f3a"
            ],
            [
             0.8888888888888888,
             "#fdca26"
            ],
            [
             1.0,
             "#f0f921"
            ]
           ],
           "diverging": [
            [
             0,
             "#8e0152"
            ],
            [
             0.1,
             "#c51b7d"
            ],
            [
             0.2,
             "#de77ae"
            ],
            [
             0.3,
             "#f1b6da"
            ],
            [
             0.4,
             "#fde0ef"
            ],
            [
             0.5,
             "#f7f7f7"
            ],
            [
             0.6,
             "#e6f5d0"
            ],
            [
             0.7,
             "#b8e186"
            ],
            [
             0.8,
             "#7fbc41"
            ],
            [
             0.9,
             "#4d9221"
            ],
            [
             1,
             "#276419"
            ]
           ]
          },
          "xaxis": {
           "gridcolor": "white",
           "linecolor": "white",
           "ticks": "",
           "title": {
            "standoff": 15
           },
           "zerolinecolor": "white",
           "automargin": true,
           "zerolinewidth": 2
          },
          "yaxis": {
           "gridcolor": "white",
           "linecolor": "white",
           "ticks": "",
           "title": {
            "standoff": 15
           },
           "zerolinecolor": "white",
           "automargin": true,
           "zerolinewidth": 2
          },
          "scene": {
           "xaxis": {
            "backgroundcolor": "#E5ECF6",
            "gridcolor": "white",
            "linecolor": "white",
            "showbackground": true,
            "ticks": "",
            "zerolinecolor": "white",
            "gridwidth": 2
           },
           "yaxis": {
            "backgroundcolor": "#E5ECF6",
            "gridcolor": "white",
            "linecolor": "white",
            "showbackground": true,
            "ticks": "",
            "zerolinecolor": "white",
            "gridwidth": 2
           },
           "zaxis": {
            "backgroundcolor": "#E5ECF6",
            "gridcolor": "white",
            "linecolor": "white",
            "showbackground": true,
            "ticks": "",
            "zerolinecolor": "white",
            "gridwidth": 2
           }
          },
          "shapedefaults": {
           "line": {
            "color": "#2a3f5f"
           }
          },
          "annotationdefaults": {
           "arrowcolor": "#2a3f5f",
           "arrowhead": 0,
           "arrowwidth": 1
          },
          "geo": {
           "bgcolor": "white",
           "landcolor": "#E5ECF6",
           "subunitcolor": "white",
           "showland": true,
           "showlakes": true,
           "lakecolor": "white"
          },
          "title": {
           "x": 0.05
          },
          "mapbox": {
           "style": "light"
          }
         }
        }
       },
       "config": {
        "plotlyServerURL": "https://plotly.com"
       }
      },
      "text/html": "<div>                            <div id=\"93310608-044f-4d47-9811-85e0259a828f\" class=\"plotly-graph-div\" style=\"height:525px; width:100%;\"></div>            <script type=\"text/javascript\">                require([\"plotly\"], function(Plotly) {                    window.PLOTLYENV=window.PLOTLYENV || {};                                    if (document.getElementById(\"93310608-044f-4d47-9811-85e0259a828f\")) {                    Plotly.newPlot(                        \"93310608-044f-4d47-9811-85e0259a828f\",                        [{\"mode\":\"markers\",\"name\":\"Objective Value\",\"x\":[0,1,2,3,4,5,6,7,8,9,10,11,12,13,14,15,16,17,18,19,20,21,22,23,24,25,26,27,28,29,30,31,32,33,34,35,36,37,38,39,40,41,42,43,44,45,46,47,48,49],\"y\":[0.6658877458138204,0.6658062204338558,0.6631236671505308,0.666685784650429,0.6653678358838957,0.6666689218856658,0.6660772109028112,0.6659583765207726,0.66613188567633,0.6624990709207729,0.6661194553406069,0.6660704981233385,0.666791563077174,0.6662578072854404,0.6662364007822479,0.6662107446598409,0.6660177927429155,0.6661266285638655,0.6649603641651448,0.6661064055566517,0.667070011130844,0.6670367461528862,0.6664203727192687,0.6660584993657974,0.6658238694449496,0.665878740924376,0.6675136202044092,0.6659980021212079,0.666062251726691,0.6659808169801604,0.6636065774124482,0.6671948384869486,0.6650632068325539,0.6662443414419433,0.6666260199575849,0.6663695643883343,0.6664158493064656,0.6655206775466018,0.6668371770144278,0.666005139033467,0.6624859296960585,0.6664547965436982,0.6668656031286273,0.666695558833505,0.6666591988587975,0.6666544295488567,0.6658925548076875,0.6667557379712417,0.6662917958181694,0.6660536816980602],\"type\":\"scatter\"},{\"mode\":\"lines\",\"name\":\"Best Value\",\"x\":[0,1,2,3,4,5,6,7,8,9,10,11,12,13,14,15,16,17,18,19,20,21,22,23,24,25,26,27,28,29,30,31,32,33,34,35,36,37,38,39,40,41,42,43,44,45,46,47,48,49],\"y\":[0.6658877458138204,0.6658877458138204,0.6658877458138204,0.666685784650429,0.666685784650429,0.666685784650429,0.666685784650429,0.666685784650429,0.666685784650429,0.666685784650429,0.666685784650429,0.666685784650429,0.666791563077174,0.666791563077174,0.666791563077174,0.666791563077174,0.666791563077174,0.666791563077174,0.666791563077174,0.666791563077174,0.667070011130844,0.667070011130844,0.667070011130844,0.667070011130844,0.667070011130844,0.667070011130844,0.6675136202044092,0.6675136202044092,0.6675136202044092,0.6675136202044092,0.6675136202044092,0.6675136202044092,0.6675136202044092,0.6675136202044092,0.6675136202044092,0.6675136202044092,0.6675136202044092,0.6675136202044092,0.6675136202044092,0.6675136202044092,0.6675136202044092,0.6675136202044092,0.6675136202044092,0.6675136202044092,0.6675136202044092,0.6675136202044092,0.6675136202044092,0.6675136202044092,0.6675136202044092,0.6675136202044092],\"type\":\"scatter\"},{\"marker\":{\"color\":\"#cccccc\"},\"mode\":\"markers\",\"name\":\"Infeasible Trial\",\"showlegend\":false,\"x\":[],\"y\":[],\"type\":\"scatter\"}],                        {\"title\":{\"text\":\"Optimization History Plot\"},\"xaxis\":{\"title\":{\"text\":\"Trial\"}},\"yaxis\":{\"title\":{\"text\":\"Objective Value\"}},\"template\":{\"data\":{\"histogram2dcontour\":[{\"type\":\"histogram2dcontour\",\"colorbar\":{\"outlinewidth\":0,\"ticks\":\"\"},\"colorscale\":[[0.0,\"#0d0887\"],[0.1111111111111111,\"#46039f\"],[0.2222222222222222,\"#7201a8\"],[0.3333333333333333,\"#9c179e\"],[0.4444444444444444,\"#bd3786\"],[0.5555555555555556,\"#d8576b\"],[0.6666666666666666,\"#ed7953\"],[0.7777777777777778,\"#fb9f3a\"],[0.8888888888888888,\"#fdca26\"],[1.0,\"#f0f921\"]]}],\"choropleth\":[{\"type\":\"choropleth\",\"colorbar\":{\"outlinewidth\":0,\"ticks\":\"\"}}],\"histogram2d\":[{\"type\":\"histogram2d\",\"colorbar\":{\"outlinewidth\":0,\"ticks\":\"\"},\"colorscale\":[[0.0,\"#0d0887\"],[0.1111111111111111,\"#46039f\"],[0.2222222222222222,\"#7201a8\"],[0.3333333333333333,\"#9c179e\"],[0.4444444444444444,\"#bd3786\"],[0.5555555555555556,\"#d8576b\"],[0.6666666666666666,\"#ed7953\"],[0.7777777777777778,\"#fb9f3a\"],[0.8888888888888888,\"#fdca26\"],[1.0,\"#f0f921\"]]}],\"heatmap\":[{\"type\":\"heatmap\",\"colorbar\":{\"outlinewidth\":0,\"ticks\":\"\"},\"colorscale\":[[0.0,\"#0d0887\"],[0.1111111111111111,\"#46039f\"],[0.2222222222222222,\"#7201a8\"],[0.3333333333333333,\"#9c179e\"],[0.4444444444444444,\"#bd3786\"],[0.5555555555555556,\"#d8576b\"],[0.6666666666666666,\"#ed7953\"],[0.7777777777777778,\"#fb9f3a\"],[0.8888888888888888,\"#fdca26\"],[1.0,\"#f0f921\"]]}],\"heatmapgl\":[{\"type\":\"heatmapgl\",\"colorbar\":{\"outlinewidth\":0,\"ticks\":\"\"},\"colorscale\":[[0.0,\"#0d0887\"],[0.1111111111111111,\"#46039f\"],[0.2222222222222222,\"#7201a8\"],[0.3333333333333333,\"#9c179e\"],[0.4444444444444444,\"#bd3786\"],[0.5555555555555556,\"#d8576b\"],[0.6666666666666666,\"#ed7953\"],[0.7777777777777778,\"#fb9f3a\"],[0.8888888888888888,\"#fdca26\"],[1.0,\"#f0f921\"]]}],\"contourcarpet\":[{\"type\":\"contourcarpet\",\"colorbar\":{\"outlinewidth\":0,\"ticks\":\"\"}}],\"contour\":[{\"type\":\"contour\",\"colorbar\":{\"outlinewidth\":0,\"ticks\":\"\"},\"colorscale\":[[0.0,\"#0d0887\"],[0.1111111111111111,\"#46039f\"],[0.2222222222222222,\"#7201a8\"],[0.3333333333333333,\"#9c179e\"],[0.4444444444444444,\"#bd3786\"],[0.5555555555555556,\"#d8576b\"],[0.6666666666666666,\"#ed7953\"],[0.7777777777777778,\"#fb9f3a\"],[0.8888888888888888,\"#fdca26\"],[1.0,\"#f0f921\"]]}],\"surface\":[{\"type\":\"surface\",\"colorbar\":{\"outlinewidth\":0,\"ticks\":\"\"},\"colorscale\":[[0.0,\"#0d0887\"],[0.1111111111111111,\"#46039f\"],[0.2222222222222222,\"#7201a8\"],[0.3333333333333333,\"#9c179e\"],[0.4444444444444444,\"#bd3786\"],[0.5555555555555556,\"#d8576b\"],[0.6666666666666666,\"#ed7953\"],[0.7777777777777778,\"#fb9f3a\"],[0.8888888888888888,\"#fdca26\"],[1.0,\"#f0f921\"]]}],\"mesh3d\":[{\"type\":\"mesh3d\",\"colorbar\":{\"outlinewidth\":0,\"ticks\":\"\"}}],\"scatter\":[{\"fillpattern\":{\"fillmode\":\"overlay\",\"size\":10,\"solidity\":0.2},\"type\":\"scatter\"}],\"parcoords\":[{\"type\":\"parcoords\",\"line\":{\"colorbar\":{\"outlinewidth\":0,\"ticks\":\"\"}}}],\"scatterpolargl\":[{\"type\":\"scatterpolargl\",\"marker\":{\"colorbar\":{\"outlinewidth\":0,\"ticks\":\"\"}}}],\"bar\":[{\"error_x\":{\"color\":\"#2a3f5f\"},\"error_y\":{\"color\":\"#2a3f5f\"},\"marker\":{\"line\":{\"color\":\"#E5ECF6\",\"width\":0.5},\"pattern\":{\"fillmode\":\"overlay\",\"size\":10,\"solidity\":0.2}},\"type\":\"bar\"}],\"scattergeo\":[{\"type\":\"scattergeo\",\"marker\":{\"colorbar\":{\"outlinewidth\":0,\"ticks\":\"\"}}}],\"scatterpolar\":[{\"type\":\"scatterpolar\",\"marker\":{\"colorbar\":{\"outlinewidth\":0,\"ticks\":\"\"}}}],\"histogram\":[{\"marker\":{\"pattern\":{\"fillmode\":\"overlay\",\"size\":10,\"solidity\":0.2}},\"type\":\"histogram\"}],\"scattergl\":[{\"type\":\"scattergl\",\"marker\":{\"colorbar\":{\"outlinewidth\":0,\"ticks\":\"\"}}}],\"scatter3d\":[{\"type\":\"scatter3d\",\"line\":{\"colorbar\":{\"outlinewidth\":0,\"ticks\":\"\"}},\"marker\":{\"colorbar\":{\"outlinewidth\":0,\"ticks\":\"\"}}}],\"scattermapbox\":[{\"type\":\"scattermapbox\",\"marker\":{\"colorbar\":{\"outlinewidth\":0,\"ticks\":\"\"}}}],\"scatterternary\":[{\"type\":\"scatterternary\",\"marker\":{\"colorbar\":{\"outlinewidth\":0,\"ticks\":\"\"}}}],\"scattercarpet\":[{\"type\":\"scattercarpet\",\"marker\":{\"colorbar\":{\"outlinewidth\":0,\"ticks\":\"\"}}}],\"carpet\":[{\"aaxis\":{\"endlinecolor\":\"#2a3f5f\",\"gridcolor\":\"white\",\"linecolor\":\"white\",\"minorgridcolor\":\"white\",\"startlinecolor\":\"#2a3f5f\"},\"baxis\":{\"endlinecolor\":\"#2a3f5f\",\"gridcolor\":\"white\",\"linecolor\":\"white\",\"minorgridcolor\":\"white\",\"startlinecolor\":\"#2a3f5f\"},\"type\":\"carpet\"}],\"table\":[{\"cells\":{\"fill\":{\"color\":\"#EBF0F8\"},\"line\":{\"color\":\"white\"}},\"header\":{\"fill\":{\"color\":\"#C8D4E3\"},\"line\":{\"color\":\"white\"}},\"type\":\"table\"}],\"barpolar\":[{\"marker\":{\"line\":{\"color\":\"#E5ECF6\",\"width\":0.5},\"pattern\":{\"fillmode\":\"overlay\",\"size\":10,\"solidity\":0.2}},\"type\":\"barpolar\"}],\"pie\":[{\"automargin\":true,\"type\":\"pie\"}]},\"layout\":{\"autotypenumbers\":\"strict\",\"colorway\":[\"#636efa\",\"#EF553B\",\"#00cc96\",\"#ab63fa\",\"#FFA15A\",\"#19d3f3\",\"#FF6692\",\"#B6E880\",\"#FF97FF\",\"#FECB52\"],\"font\":{\"color\":\"#2a3f5f\"},\"hovermode\":\"closest\",\"hoverlabel\":{\"align\":\"left\"},\"paper_bgcolor\":\"white\",\"plot_bgcolor\":\"#E5ECF6\",\"polar\":{\"bgcolor\":\"#E5ECF6\",\"angularaxis\":{\"gridcolor\":\"white\",\"linecolor\":\"white\",\"ticks\":\"\"},\"radialaxis\":{\"gridcolor\":\"white\",\"linecolor\":\"white\",\"ticks\":\"\"}},\"ternary\":{\"bgcolor\":\"#E5ECF6\",\"aaxis\":{\"gridcolor\":\"white\",\"linecolor\":\"white\",\"ticks\":\"\"},\"baxis\":{\"gridcolor\":\"white\",\"linecolor\":\"white\",\"ticks\":\"\"},\"caxis\":{\"gridcolor\":\"white\",\"linecolor\":\"white\",\"ticks\":\"\"}},\"coloraxis\":{\"colorbar\":{\"outlinewidth\":0,\"ticks\":\"\"}},\"colorscale\":{\"sequential\":[[0.0,\"#0d0887\"],[0.1111111111111111,\"#46039f\"],[0.2222222222222222,\"#7201a8\"],[0.3333333333333333,\"#9c179e\"],[0.4444444444444444,\"#bd3786\"],[0.5555555555555556,\"#d8576b\"],[0.6666666666666666,\"#ed7953\"],[0.7777777777777778,\"#fb9f3a\"],[0.8888888888888888,\"#fdca26\"],[1.0,\"#f0f921\"]],\"sequentialminus\":[[0.0,\"#0d0887\"],[0.1111111111111111,\"#46039f\"],[0.2222222222222222,\"#7201a8\"],[0.3333333333333333,\"#9c179e\"],[0.4444444444444444,\"#bd3786\"],[0.5555555555555556,\"#d8576b\"],[0.6666666666666666,\"#ed7953\"],[0.7777777777777778,\"#fb9f3a\"],[0.8888888888888888,\"#fdca26\"],[1.0,\"#f0f921\"]],\"diverging\":[[0,\"#8e0152\"],[0.1,\"#c51b7d\"],[0.2,\"#de77ae\"],[0.3,\"#f1b6da\"],[0.4,\"#fde0ef\"],[0.5,\"#f7f7f7\"],[0.6,\"#e6f5d0\"],[0.7,\"#b8e186\"],[0.8,\"#7fbc41\"],[0.9,\"#4d9221\"],[1,\"#276419\"]]},\"xaxis\":{\"gridcolor\":\"white\",\"linecolor\":\"white\",\"ticks\":\"\",\"title\":{\"standoff\":15},\"zerolinecolor\":\"white\",\"automargin\":true,\"zerolinewidth\":2},\"yaxis\":{\"gridcolor\":\"white\",\"linecolor\":\"white\",\"ticks\":\"\",\"title\":{\"standoff\":15},\"zerolinecolor\":\"white\",\"automargin\":true,\"zerolinewidth\":2},\"scene\":{\"xaxis\":{\"backgroundcolor\":\"#E5ECF6\",\"gridcolor\":\"white\",\"linecolor\":\"white\",\"showbackground\":true,\"ticks\":\"\",\"zerolinecolor\":\"white\",\"gridwidth\":2},\"yaxis\":{\"backgroundcolor\":\"#E5ECF6\",\"gridcolor\":\"white\",\"linecolor\":\"white\",\"showbackground\":true,\"ticks\":\"\",\"zerolinecolor\":\"white\",\"gridwidth\":2},\"zaxis\":{\"backgroundcolor\":\"#E5ECF6\",\"gridcolor\":\"white\",\"linecolor\":\"white\",\"showbackground\":true,\"ticks\":\"\",\"zerolinecolor\":\"white\",\"gridwidth\":2}},\"shapedefaults\":{\"line\":{\"color\":\"#2a3f5f\"}},\"annotationdefaults\":{\"arrowcolor\":\"#2a3f5f\",\"arrowhead\":0,\"arrowwidth\":1},\"geo\":{\"bgcolor\":\"white\",\"landcolor\":\"#E5ECF6\",\"subunitcolor\":\"white\",\"showland\":true,\"showlakes\":true,\"lakecolor\":\"white\"},\"title\":{\"x\":0.05},\"mapbox\":{\"style\":\"light\"}}}},                        {\"responsive\": true}                    ).then(function(){\n                            \nvar gd = document.getElementById('93310608-044f-4d47-9811-85e0259a828f');\nvar x = new MutationObserver(function (mutations, observer) {{\n        var display = window.getComputedStyle(gd).display;\n        if (!display || display === 'none') {{\n            console.log([gd, 'removed!']);\n            Plotly.purge(gd);\n            observer.disconnect();\n        }}\n}});\n\n// Listen for the removal of the full notebook cells\nvar notebookContainer = gd.closest('#notebook-container');\nif (notebookContainer) {{\n    x.observe(notebookContainer, {childList: true});\n}}\n\n// Listen for the clearing of the current output cell\nvar outputEl = gd.closest('.output');\nif (outputEl) {{\n    x.observe(outputEl, {childList: true});\n}}\n\n                        })                };                });            </script>        </div>"
     },
     "metadata": {},
     "output_type": "display_data"
    }
   ],
   "source": [
    "# 실험 기록 시각화\n",
    "optuna.visualization.plot_optimization_history(study)"
   ]
  },
  {
   "cell_type": "code",
   "execution_count": 40,
   "id": "efbf8f65",
   "metadata": {
    "scrolled": false,
    "colab": {
     "base_uri": "https://localhost:8080/",
     "height": 542
    },
    "id": "efbf8f65",
    "outputId": "7368048b-ad41-45ef-9350-cf7a16da295b"
   },
   "outputs": [
    {
     "data": {
      "application/vnd.plotly.v1+json": {
       "data": [
        {
         "cliponaxis": false,
         "hovertemplate": [
          "reg_lambda (FloatDistribution): 0.006107095709268922<extra></extra>",
          "n_estimators (IntDistribution): 0.014246439817285819<extra></extra>",
          "learning_rate (FloatDistribution): 0.037167964812879976<extra></extra>",
          "colsample_bynode (FloatDistribution): 0.047796560751371495<extra></extra>",
          "max_depth (IntDistribution): 0.8946819389091938<extra></extra>"
         ],
         "marker": {
          "color": "rgb(66,146,198)"
         },
         "orientation": "h",
         "text": [
          "<0.01",
          "0.01",
          "0.04",
          "0.05",
          "0.89"
         ],
         "textposition": "outside",
         "x": [
          0.006107095709268922,
          0.014246439817285819,
          0.037167964812879976,
          0.047796560751371495,
          0.8946819389091938
         ],
         "y": [
          "reg_lambda",
          "n_estimators",
          "learning_rate",
          "colsample_bynode",
          "max_depth"
         ],
         "type": "bar"
        }
       ],
       "layout": {
        "showlegend": false,
        "title": {
         "text": "Hyperparameter Importances"
        },
        "xaxis": {
         "title": {
          "text": "Importance for Objective Value"
         }
        },
        "yaxis": {
         "title": {
          "text": "Hyperparameter"
         }
        },
        "template": {
         "data": {
          "histogram2dcontour": [
           {
            "type": "histogram2dcontour",
            "colorbar": {
             "outlinewidth": 0,
             "ticks": ""
            },
            "colorscale": [
             [
              0.0,
              "#0d0887"
             ],
             [
              0.1111111111111111,
              "#46039f"
             ],
             [
              0.2222222222222222,
              "#7201a8"
             ],
             [
              0.3333333333333333,
              "#9c179e"
             ],
             [
              0.4444444444444444,
              "#bd3786"
             ],
             [
              0.5555555555555556,
              "#d8576b"
             ],
             [
              0.6666666666666666,
              "#ed7953"
             ],
             [
              0.7777777777777778,
              "#fb9f3a"
             ],
             [
              0.8888888888888888,
              "#fdca26"
             ],
             [
              1.0,
              "#f0f921"
             ]
            ]
           }
          ],
          "choropleth": [
           {
            "type": "choropleth",
            "colorbar": {
             "outlinewidth": 0,
             "ticks": ""
            }
           }
          ],
          "histogram2d": [
           {
            "type": "histogram2d",
            "colorbar": {
             "outlinewidth": 0,
             "ticks": ""
            },
            "colorscale": [
             [
              0.0,
              "#0d0887"
             ],
             [
              0.1111111111111111,
              "#46039f"
             ],
             [
              0.2222222222222222,
              "#7201a8"
             ],
             [
              0.3333333333333333,
              "#9c179e"
             ],
             [
              0.4444444444444444,
              "#bd3786"
             ],
             [
              0.5555555555555556,
              "#d8576b"
             ],
             [
              0.6666666666666666,
              "#ed7953"
             ],
             [
              0.7777777777777778,
              "#fb9f3a"
             ],
             [
              0.8888888888888888,
              "#fdca26"
             ],
             [
              1.0,
              "#f0f921"
             ]
            ]
           }
          ],
          "heatmap": [
           {
            "type": "heatmap",
            "colorbar": {
             "outlinewidth": 0,
             "ticks": ""
            },
            "colorscale": [
             [
              0.0,
              "#0d0887"
             ],
             [
              0.1111111111111111,
              "#46039f"
             ],
             [
              0.2222222222222222,
              "#7201a8"
             ],
             [
              0.3333333333333333,
              "#9c179e"
             ],
             [
              0.4444444444444444,
              "#bd3786"
             ],
             [
              0.5555555555555556,
              "#d8576b"
             ],
             [
              0.6666666666666666,
              "#ed7953"
             ],
             [
              0.7777777777777778,
              "#fb9f3a"
             ],
             [
              0.8888888888888888,
              "#fdca26"
             ],
             [
              1.0,
              "#f0f921"
             ]
            ]
           }
          ],
          "heatmapgl": [
           {
            "type": "heatmapgl",
            "colorbar": {
             "outlinewidth": 0,
             "ticks": ""
            },
            "colorscale": [
             [
              0.0,
              "#0d0887"
             ],
             [
              0.1111111111111111,
              "#46039f"
             ],
             [
              0.2222222222222222,
              "#7201a8"
             ],
             [
              0.3333333333333333,
              "#9c179e"
             ],
             [
              0.4444444444444444,
              "#bd3786"
             ],
             [
              0.5555555555555556,
              "#d8576b"
             ],
             [
              0.6666666666666666,
              "#ed7953"
             ],
             [
              0.7777777777777778,
              "#fb9f3a"
             ],
             [
              0.8888888888888888,
              "#fdca26"
             ],
             [
              1.0,
              "#f0f921"
             ]
            ]
           }
          ],
          "contourcarpet": [
           {
            "type": "contourcarpet",
            "colorbar": {
             "outlinewidth": 0,
             "ticks": ""
            }
           }
          ],
          "contour": [
           {
            "type": "contour",
            "colorbar": {
             "outlinewidth": 0,
             "ticks": ""
            },
            "colorscale": [
             [
              0.0,
              "#0d0887"
             ],
             [
              0.1111111111111111,
              "#46039f"
             ],
             [
              0.2222222222222222,
              "#7201a8"
             ],
             [
              0.3333333333333333,
              "#9c179e"
             ],
             [
              0.4444444444444444,
              "#bd3786"
             ],
             [
              0.5555555555555556,
              "#d8576b"
             ],
             [
              0.6666666666666666,
              "#ed7953"
             ],
             [
              0.7777777777777778,
              "#fb9f3a"
             ],
             [
              0.8888888888888888,
              "#fdca26"
             ],
             [
              1.0,
              "#f0f921"
             ]
            ]
           }
          ],
          "surface": [
           {
            "type": "surface",
            "colorbar": {
             "outlinewidth": 0,
             "ticks": ""
            },
            "colorscale": [
             [
              0.0,
              "#0d0887"
             ],
             [
              0.1111111111111111,
              "#46039f"
             ],
             [
              0.2222222222222222,
              "#7201a8"
             ],
             [
              0.3333333333333333,
              "#9c179e"
             ],
             [
              0.4444444444444444,
              "#bd3786"
             ],
             [
              0.5555555555555556,
              "#d8576b"
             ],
             [
              0.6666666666666666,
              "#ed7953"
             ],
             [
              0.7777777777777778,
              "#fb9f3a"
             ],
             [
              0.8888888888888888,
              "#fdca26"
             ],
             [
              1.0,
              "#f0f921"
             ]
            ]
           }
          ],
          "mesh3d": [
           {
            "type": "mesh3d",
            "colorbar": {
             "outlinewidth": 0,
             "ticks": ""
            }
           }
          ],
          "scatter": [
           {
            "fillpattern": {
             "fillmode": "overlay",
             "size": 10,
             "solidity": 0.2
            },
            "type": "scatter"
           }
          ],
          "parcoords": [
           {
            "type": "parcoords",
            "line": {
             "colorbar": {
              "outlinewidth": 0,
              "ticks": ""
             }
            }
           }
          ],
          "scatterpolargl": [
           {
            "type": "scatterpolargl",
            "marker": {
             "colorbar": {
              "outlinewidth": 0,
              "ticks": ""
             }
            }
           }
          ],
          "bar": [
           {
            "error_x": {
             "color": "#2a3f5f"
            },
            "error_y": {
             "color": "#2a3f5f"
            },
            "marker": {
             "line": {
              "color": "#E5ECF6",
              "width": 0.5
             },
             "pattern": {
              "fillmode": "overlay",
              "size": 10,
              "solidity": 0.2
             }
            },
            "type": "bar"
           }
          ],
          "scattergeo": [
           {
            "type": "scattergeo",
            "marker": {
             "colorbar": {
              "outlinewidth": 0,
              "ticks": ""
             }
            }
           }
          ],
          "scatterpolar": [
           {
            "type": "scatterpolar",
            "marker": {
             "colorbar": {
              "outlinewidth": 0,
              "ticks": ""
             }
            }
           }
          ],
          "histogram": [
           {
            "marker": {
             "pattern": {
              "fillmode": "overlay",
              "size": 10,
              "solidity": 0.2
             }
            },
            "type": "histogram"
           }
          ],
          "scattergl": [
           {
            "type": "scattergl",
            "marker": {
             "colorbar": {
              "outlinewidth": 0,
              "ticks": ""
             }
            }
           }
          ],
          "scatter3d": [
           {
            "type": "scatter3d",
            "line": {
             "colorbar": {
              "outlinewidth": 0,
              "ticks": ""
             }
            },
            "marker": {
             "colorbar": {
              "outlinewidth": 0,
              "ticks": ""
             }
            }
           }
          ],
          "scattermapbox": [
           {
            "type": "scattermapbox",
            "marker": {
             "colorbar": {
              "outlinewidth": 0,
              "ticks": ""
             }
            }
           }
          ],
          "scatterternary": [
           {
            "type": "scatterternary",
            "marker": {
             "colorbar": {
              "outlinewidth": 0,
              "ticks": ""
             }
            }
           }
          ],
          "scattercarpet": [
           {
            "type": "scattercarpet",
            "marker": {
             "colorbar": {
              "outlinewidth": 0,
              "ticks": ""
             }
            }
           }
          ],
          "carpet": [
           {
            "aaxis": {
             "endlinecolor": "#2a3f5f",
             "gridcolor": "white",
             "linecolor": "white",
             "minorgridcolor": "white",
             "startlinecolor": "#2a3f5f"
            },
            "baxis": {
             "endlinecolor": "#2a3f5f",
             "gridcolor": "white",
             "linecolor": "white",
             "minorgridcolor": "white",
             "startlinecolor": "#2a3f5f"
            },
            "type": "carpet"
           }
          ],
          "table": [
           {
            "cells": {
             "fill": {
              "color": "#EBF0F8"
             },
             "line": {
              "color": "white"
             }
            },
            "header": {
             "fill": {
              "color": "#C8D4E3"
             },
             "line": {
              "color": "white"
             }
            },
            "type": "table"
           }
          ],
          "barpolar": [
           {
            "marker": {
             "line": {
              "color": "#E5ECF6",
              "width": 0.5
             },
             "pattern": {
              "fillmode": "overlay",
              "size": 10,
              "solidity": 0.2
             }
            },
            "type": "barpolar"
           }
          ],
          "pie": [
           {
            "automargin": true,
            "type": "pie"
           }
          ]
         },
         "layout": {
          "autotypenumbers": "strict",
          "colorway": [
           "#636efa",
           "#EF553B",
           "#00cc96",
           "#ab63fa",
           "#FFA15A",
           "#19d3f3",
           "#FF6692",
           "#B6E880",
           "#FF97FF",
           "#FECB52"
          ],
          "font": {
           "color": "#2a3f5f"
          },
          "hovermode": "closest",
          "hoverlabel": {
           "align": "left"
          },
          "paper_bgcolor": "white",
          "plot_bgcolor": "#E5ECF6",
          "polar": {
           "bgcolor": "#E5ECF6",
           "angularaxis": {
            "gridcolor": "white",
            "linecolor": "white",
            "ticks": ""
           },
           "radialaxis": {
            "gridcolor": "white",
            "linecolor": "white",
            "ticks": ""
           }
          },
          "ternary": {
           "bgcolor": "#E5ECF6",
           "aaxis": {
            "gridcolor": "white",
            "linecolor": "white",
            "ticks": ""
           },
           "baxis": {
            "gridcolor": "white",
            "linecolor": "white",
            "ticks": ""
           },
           "caxis": {
            "gridcolor": "white",
            "linecolor": "white",
            "ticks": ""
           }
          },
          "coloraxis": {
           "colorbar": {
            "outlinewidth": 0,
            "ticks": ""
           }
          },
          "colorscale": {
           "sequential": [
            [
             0.0,
             "#0d0887"
            ],
            [
             0.1111111111111111,
             "#46039f"
            ],
            [
             0.2222222222222222,
             "#7201a8"
            ],
            [
             0.3333333333333333,
             "#9c179e"
            ],
            [
             0.4444444444444444,
             "#bd3786"
            ],
            [
             0.5555555555555556,
             "#d8576b"
            ],
            [
             0.6666666666666666,
             "#ed7953"
            ],
            [
             0.7777777777777778,
             "#fb9f3a"
            ],
            [
             0.8888888888888888,
             "#fdca26"
            ],
            [
             1.0,
             "#f0f921"
            ]
           ],
           "sequentialminus": [
            [
             0.0,
             "#0d0887"
            ],
            [
             0.1111111111111111,
             "#46039f"
            ],
            [
             0.2222222222222222,
             "#7201a8"
            ],
            [
             0.3333333333333333,
             "#9c179e"
            ],
            [
             0.4444444444444444,
             "#bd3786"
            ],
            [
             0.5555555555555556,
             "#d8576b"
            ],
            [
             0.6666666666666666,
             "#ed7953"
            ],
            [
             0.7777777777777778,
             "#fb9f3a"
            ],
            [
             0.8888888888888888,
             "#fdca26"
            ],
            [
             1.0,
             "#f0f921"
            ]
           ],
           "diverging": [
            [
             0,
             "#8e0152"
            ],
            [
             0.1,
             "#c51b7d"
            ],
            [
             0.2,
             "#de77ae"
            ],
            [
             0.3,
             "#f1b6da"
            ],
            [
             0.4,
             "#fde0ef"
            ],
            [
             0.5,
             "#f7f7f7"
            ],
            [
             0.6,
             "#e6f5d0"
            ],
            [
             0.7,
             "#b8e186"
            ],
            [
             0.8,
             "#7fbc41"
            ],
            [
             0.9,
             "#4d9221"
            ],
            [
             1,
             "#276419"
            ]
           ]
          },
          "xaxis": {
           "gridcolor": "white",
           "linecolor": "white",
           "ticks": "",
           "title": {
            "standoff": 15
           },
           "zerolinecolor": "white",
           "automargin": true,
           "zerolinewidth": 2
          },
          "yaxis": {
           "gridcolor": "white",
           "linecolor": "white",
           "ticks": "",
           "title": {
            "standoff": 15
           },
           "zerolinecolor": "white",
           "automargin": true,
           "zerolinewidth": 2
          },
          "scene": {
           "xaxis": {
            "backgroundcolor": "#E5ECF6",
            "gridcolor": "white",
            "linecolor": "white",
            "showbackground": true,
            "ticks": "",
            "zerolinecolor": "white",
            "gridwidth": 2
           },
           "yaxis": {
            "backgroundcolor": "#E5ECF6",
            "gridcolor": "white",
            "linecolor": "white",
            "showbackground": true,
            "ticks": "",
            "zerolinecolor": "white",
            "gridwidth": 2
           },
           "zaxis": {
            "backgroundcolor": "#E5ECF6",
            "gridcolor": "white",
            "linecolor": "white",
            "showbackground": true,
            "ticks": "",
            "zerolinecolor": "white",
            "gridwidth": 2
           }
          },
          "shapedefaults": {
           "line": {
            "color": "#2a3f5f"
           }
          },
          "annotationdefaults": {
           "arrowcolor": "#2a3f5f",
           "arrowhead": 0,
           "arrowwidth": 1
          },
          "geo": {
           "bgcolor": "white",
           "landcolor": "#E5ECF6",
           "subunitcolor": "white",
           "showland": true,
           "showlakes": true,
           "lakecolor": "white"
          },
          "title": {
           "x": 0.05
          },
          "mapbox": {
           "style": "light"
          }
         }
        }
       },
       "config": {
        "plotlyServerURL": "https://plotly.com"
       }
      },
      "text/html": "<div>                            <div id=\"ea346487-60f5-4a9f-b224-ebb4087cea91\" class=\"plotly-graph-div\" style=\"height:525px; width:100%;\"></div>            <script type=\"text/javascript\">                require([\"plotly\"], function(Plotly) {                    window.PLOTLYENV=window.PLOTLYENV || {};                                    if (document.getElementById(\"ea346487-60f5-4a9f-b224-ebb4087cea91\")) {                    Plotly.newPlot(                        \"ea346487-60f5-4a9f-b224-ebb4087cea91\",                        [{\"cliponaxis\":false,\"hovertemplate\":[\"reg_lambda (FloatDistribution): 0.006107095709268922<extra></extra>\",\"n_estimators (IntDistribution): 0.014246439817285819<extra></extra>\",\"learning_rate (FloatDistribution): 0.037167964812879976<extra></extra>\",\"colsample_bynode (FloatDistribution): 0.047796560751371495<extra></extra>\",\"max_depth (IntDistribution): 0.8946819389091938<extra></extra>\"],\"marker\":{\"color\":\"rgb(66,146,198)\"},\"orientation\":\"h\",\"text\":[\"<0.01\",\"0.01\",\"0.04\",\"0.05\",\"0.89\"],\"textposition\":\"outside\",\"x\":[0.006107095709268922,0.014246439817285819,0.037167964812879976,0.047796560751371495,0.8946819389091938],\"y\":[\"reg_lambda\",\"n_estimators\",\"learning_rate\",\"colsample_bynode\",\"max_depth\"],\"type\":\"bar\"}],                        {\"showlegend\":false,\"title\":{\"text\":\"Hyperparameter Importances\"},\"xaxis\":{\"title\":{\"text\":\"Importance for Objective Value\"}},\"yaxis\":{\"title\":{\"text\":\"Hyperparameter\"}},\"template\":{\"data\":{\"histogram2dcontour\":[{\"type\":\"histogram2dcontour\",\"colorbar\":{\"outlinewidth\":0,\"ticks\":\"\"},\"colorscale\":[[0.0,\"#0d0887\"],[0.1111111111111111,\"#46039f\"],[0.2222222222222222,\"#7201a8\"],[0.3333333333333333,\"#9c179e\"],[0.4444444444444444,\"#bd3786\"],[0.5555555555555556,\"#d8576b\"],[0.6666666666666666,\"#ed7953\"],[0.7777777777777778,\"#fb9f3a\"],[0.8888888888888888,\"#fdca26\"],[1.0,\"#f0f921\"]]}],\"choropleth\":[{\"type\":\"choropleth\",\"colorbar\":{\"outlinewidth\":0,\"ticks\":\"\"}}],\"histogram2d\":[{\"type\":\"histogram2d\",\"colorbar\":{\"outlinewidth\":0,\"ticks\":\"\"},\"colorscale\":[[0.0,\"#0d0887\"],[0.1111111111111111,\"#46039f\"],[0.2222222222222222,\"#7201a8\"],[0.3333333333333333,\"#9c179e\"],[0.4444444444444444,\"#bd3786\"],[0.5555555555555556,\"#d8576b\"],[0.6666666666666666,\"#ed7953\"],[0.7777777777777778,\"#fb9f3a\"],[0.8888888888888888,\"#fdca26\"],[1.0,\"#f0f921\"]]}],\"heatmap\":[{\"type\":\"heatmap\",\"colorbar\":{\"outlinewidth\":0,\"ticks\":\"\"},\"colorscale\":[[0.0,\"#0d0887\"],[0.1111111111111111,\"#46039f\"],[0.2222222222222222,\"#7201a8\"],[0.3333333333333333,\"#9c179e\"],[0.4444444444444444,\"#bd3786\"],[0.5555555555555556,\"#d8576b\"],[0.6666666666666666,\"#ed7953\"],[0.7777777777777778,\"#fb9f3a\"],[0.8888888888888888,\"#fdca26\"],[1.0,\"#f0f921\"]]}],\"heatmapgl\":[{\"type\":\"heatmapgl\",\"colorbar\":{\"outlinewidth\":0,\"ticks\":\"\"},\"colorscale\":[[0.0,\"#0d0887\"],[0.1111111111111111,\"#46039f\"],[0.2222222222222222,\"#7201a8\"],[0.3333333333333333,\"#9c179e\"],[0.4444444444444444,\"#bd3786\"],[0.5555555555555556,\"#d8576b\"],[0.6666666666666666,\"#ed7953\"],[0.7777777777777778,\"#fb9f3a\"],[0.8888888888888888,\"#fdca26\"],[1.0,\"#f0f921\"]]}],\"contourcarpet\":[{\"type\":\"contourcarpet\",\"colorbar\":{\"outlinewidth\":0,\"ticks\":\"\"}}],\"contour\":[{\"type\":\"contour\",\"colorbar\":{\"outlinewidth\":0,\"ticks\":\"\"},\"colorscale\":[[0.0,\"#0d0887\"],[0.1111111111111111,\"#46039f\"],[0.2222222222222222,\"#7201a8\"],[0.3333333333333333,\"#9c179e\"],[0.4444444444444444,\"#bd3786\"],[0.5555555555555556,\"#d8576b\"],[0.6666666666666666,\"#ed7953\"],[0.7777777777777778,\"#fb9f3a\"],[0.8888888888888888,\"#fdca26\"],[1.0,\"#f0f921\"]]}],\"surface\":[{\"type\":\"surface\",\"colorbar\":{\"outlinewidth\":0,\"ticks\":\"\"},\"colorscale\":[[0.0,\"#0d0887\"],[0.1111111111111111,\"#46039f\"],[0.2222222222222222,\"#7201a8\"],[0.3333333333333333,\"#9c179e\"],[0.4444444444444444,\"#bd3786\"],[0.5555555555555556,\"#d8576b\"],[0.6666666666666666,\"#ed7953\"],[0.7777777777777778,\"#fb9f3a\"],[0.8888888888888888,\"#fdca26\"],[1.0,\"#f0f921\"]]}],\"mesh3d\":[{\"type\":\"mesh3d\",\"colorbar\":{\"outlinewidth\":0,\"ticks\":\"\"}}],\"scatter\":[{\"fillpattern\":{\"fillmode\":\"overlay\",\"size\":10,\"solidity\":0.2},\"type\":\"scatter\"}],\"parcoords\":[{\"type\":\"parcoords\",\"line\":{\"colorbar\":{\"outlinewidth\":0,\"ticks\":\"\"}}}],\"scatterpolargl\":[{\"type\":\"scatterpolargl\",\"marker\":{\"colorbar\":{\"outlinewidth\":0,\"ticks\":\"\"}}}],\"bar\":[{\"error_x\":{\"color\":\"#2a3f5f\"},\"error_y\":{\"color\":\"#2a3f5f\"},\"marker\":{\"line\":{\"color\":\"#E5ECF6\",\"width\":0.5},\"pattern\":{\"fillmode\":\"overlay\",\"size\":10,\"solidity\":0.2}},\"type\":\"bar\"}],\"scattergeo\":[{\"type\":\"scattergeo\",\"marker\":{\"colorbar\":{\"outlinewidth\":0,\"ticks\":\"\"}}}],\"scatterpolar\":[{\"type\":\"scatterpolar\",\"marker\":{\"colorbar\":{\"outlinewidth\":0,\"ticks\":\"\"}}}],\"histogram\":[{\"marker\":{\"pattern\":{\"fillmode\":\"overlay\",\"size\":10,\"solidity\":0.2}},\"type\":\"histogram\"}],\"scattergl\":[{\"type\":\"scattergl\",\"marker\":{\"colorbar\":{\"outlinewidth\":0,\"ticks\":\"\"}}}],\"scatter3d\":[{\"type\":\"scatter3d\",\"line\":{\"colorbar\":{\"outlinewidth\":0,\"ticks\":\"\"}},\"marker\":{\"colorbar\":{\"outlinewidth\":0,\"ticks\":\"\"}}}],\"scattermapbox\":[{\"type\":\"scattermapbox\",\"marker\":{\"colorbar\":{\"outlinewidth\":0,\"ticks\":\"\"}}}],\"scatterternary\":[{\"type\":\"scatterternary\",\"marker\":{\"colorbar\":{\"outlinewidth\":0,\"ticks\":\"\"}}}],\"scattercarpet\":[{\"type\":\"scattercarpet\",\"marker\":{\"colorbar\":{\"outlinewidth\":0,\"ticks\":\"\"}}}],\"carpet\":[{\"aaxis\":{\"endlinecolor\":\"#2a3f5f\",\"gridcolor\":\"white\",\"linecolor\":\"white\",\"minorgridcolor\":\"white\",\"startlinecolor\":\"#2a3f5f\"},\"baxis\":{\"endlinecolor\":\"#2a3f5f\",\"gridcolor\":\"white\",\"linecolor\":\"white\",\"minorgridcolor\":\"white\",\"startlinecolor\":\"#2a3f5f\"},\"type\":\"carpet\"}],\"table\":[{\"cells\":{\"fill\":{\"color\":\"#EBF0F8\"},\"line\":{\"color\":\"white\"}},\"header\":{\"fill\":{\"color\":\"#C8D4E3\"},\"line\":{\"color\":\"white\"}},\"type\":\"table\"}],\"barpolar\":[{\"marker\":{\"line\":{\"color\":\"#E5ECF6\",\"width\":0.5},\"pattern\":{\"fillmode\":\"overlay\",\"size\":10,\"solidity\":0.2}},\"type\":\"barpolar\"}],\"pie\":[{\"automargin\":true,\"type\":\"pie\"}]},\"layout\":{\"autotypenumbers\":\"strict\",\"colorway\":[\"#636efa\",\"#EF553B\",\"#00cc96\",\"#ab63fa\",\"#FFA15A\",\"#19d3f3\",\"#FF6692\",\"#B6E880\",\"#FF97FF\",\"#FECB52\"],\"font\":{\"color\":\"#2a3f5f\"},\"hovermode\":\"closest\",\"hoverlabel\":{\"align\":\"left\"},\"paper_bgcolor\":\"white\",\"plot_bgcolor\":\"#E5ECF6\",\"polar\":{\"bgcolor\":\"#E5ECF6\",\"angularaxis\":{\"gridcolor\":\"white\",\"linecolor\":\"white\",\"ticks\":\"\"},\"radialaxis\":{\"gridcolor\":\"white\",\"linecolor\":\"white\",\"ticks\":\"\"}},\"ternary\":{\"bgcolor\":\"#E5ECF6\",\"aaxis\":{\"gridcolor\":\"white\",\"linecolor\":\"white\",\"ticks\":\"\"},\"baxis\":{\"gridcolor\":\"white\",\"linecolor\":\"white\",\"ticks\":\"\"},\"caxis\":{\"gridcolor\":\"white\",\"linecolor\":\"white\",\"ticks\":\"\"}},\"coloraxis\":{\"colorbar\":{\"outlinewidth\":0,\"ticks\":\"\"}},\"colorscale\":{\"sequential\":[[0.0,\"#0d0887\"],[0.1111111111111111,\"#46039f\"],[0.2222222222222222,\"#7201a8\"],[0.3333333333333333,\"#9c179e\"],[0.4444444444444444,\"#bd3786\"],[0.5555555555555556,\"#d8576b\"],[0.6666666666666666,\"#ed7953\"],[0.7777777777777778,\"#fb9f3a\"],[0.8888888888888888,\"#fdca26\"],[1.0,\"#f0f921\"]],\"sequentialminus\":[[0.0,\"#0d0887\"],[0.1111111111111111,\"#46039f\"],[0.2222222222222222,\"#7201a8\"],[0.3333333333333333,\"#9c179e\"],[0.4444444444444444,\"#bd3786\"],[0.5555555555555556,\"#d8576b\"],[0.6666666666666666,\"#ed7953\"],[0.7777777777777778,\"#fb9f3a\"],[0.8888888888888888,\"#fdca26\"],[1.0,\"#f0f921\"]],\"diverging\":[[0,\"#8e0152\"],[0.1,\"#c51b7d\"],[0.2,\"#de77ae\"],[0.3,\"#f1b6da\"],[0.4,\"#fde0ef\"],[0.5,\"#f7f7f7\"],[0.6,\"#e6f5d0\"],[0.7,\"#b8e186\"],[0.8,\"#7fbc41\"],[0.9,\"#4d9221\"],[1,\"#276419\"]]},\"xaxis\":{\"gridcolor\":\"white\",\"linecolor\":\"white\",\"ticks\":\"\",\"title\":{\"standoff\":15},\"zerolinecolor\":\"white\",\"automargin\":true,\"zerolinewidth\":2},\"yaxis\":{\"gridcolor\":\"white\",\"linecolor\":\"white\",\"ticks\":\"\",\"title\":{\"standoff\":15},\"zerolinecolor\":\"white\",\"automargin\":true,\"zerolinewidth\":2},\"scene\":{\"xaxis\":{\"backgroundcolor\":\"#E5ECF6\",\"gridcolor\":\"white\",\"linecolor\":\"white\",\"showbackground\":true,\"ticks\":\"\",\"zerolinecolor\":\"white\",\"gridwidth\":2},\"yaxis\":{\"backgroundcolor\":\"#E5ECF6\",\"gridcolor\":\"white\",\"linecolor\":\"white\",\"showbackground\":true,\"ticks\":\"\",\"zerolinecolor\":\"white\",\"gridwidth\":2},\"zaxis\":{\"backgroundcolor\":\"#E5ECF6\",\"gridcolor\":\"white\",\"linecolor\":\"white\",\"showbackground\":true,\"ticks\":\"\",\"zerolinecolor\":\"white\",\"gridwidth\":2}},\"shapedefaults\":{\"line\":{\"color\":\"#2a3f5f\"}},\"annotationdefaults\":{\"arrowcolor\":\"#2a3f5f\",\"arrowhead\":0,\"arrowwidth\":1},\"geo\":{\"bgcolor\":\"white\",\"landcolor\":\"#E5ECF6\",\"subunitcolor\":\"white\",\"showland\":true,\"showlakes\":true,\"lakecolor\":\"white\"},\"title\":{\"x\":0.05},\"mapbox\":{\"style\":\"light\"}}}},                        {\"responsive\": true}                    ).then(function(){\n                            \nvar gd = document.getElementById('ea346487-60f5-4a9f-b224-ebb4087cea91');\nvar x = new MutationObserver(function (mutations, observer) {{\n        var display = window.getComputedStyle(gd).display;\n        if (!display || display === 'none') {{\n            console.log([gd, 'removed!']);\n            Plotly.purge(gd);\n            observer.disconnect();\n        }}\n}});\n\n// Listen for the removal of the full notebook cells\nvar notebookContainer = gd.closest('#notebook-container');\nif (notebookContainer) {{\n    x.observe(notebookContainer, {childList: true});\n}}\n\n// Listen for the clearing of the current output cell\nvar outputEl = gd.closest('.output');\nif (outputEl) {{\n    x.observe(outputEl, {childList: true});\n}}\n\n                        })                };                });            </script>        </div>"
     },
     "metadata": {},
     "output_type": "display_data"
    }
   ],
   "source": [
    "# hyper-parameter들의 중요도\n",
    "optuna.visualization.plot_param_importances(study)"
   ]
  },
  {
   "cell_type": "markdown",
   "id": "24b360ec",
   "metadata": {
    "id": "24b360ec"
   },
   "source": [
    "### 7. 테스트 및 제출 파일 생성"
   ]
  },
  {
   "cell_type": "code",
   "source": [
    "# Make KFold OOF prediction\n",
    "def oof_preds(best_model):\n",
    "\n",
    "    # make KFold\n",
    "    folds = StratifiedKFold(n_splits=K, random_state=61, shuffle=True)\n",
    "    final_preds = []\n",
    "    losses = []\n",
    "    oof = np.full(len(X), np.nan)\n",
    "    # fitting with best_model\n",
    "    for i, (train_idx, val_idx) in enumerate(folds.split(X, y)):\n",
    "        X_train = X.iloc[train_idx, :]\n",
    "        y_train = y.iloc[train_idx]\n",
    "        X_val = X.iloc[val_idx, :]\n",
    "        y_val = y.iloc[val_idx]\n",
    "\n",
    "        print(f\"========== Fold {i+1} ==========\")\n",
    "        best_model.fit(X_train, y_train)\n",
    "        preds = best_model.predict_proba(X_val)[:, 1]\n",
    "        oof[val_idx] = preds\n",
    "        test_preds = best_model.predict_proba(test)[:, 1]\n",
    "        final_preds.append(test_preds)\n",
    "        loss = evaluation_metric(y_val, preds)\n",
    "\n",
    "        losses.append(loss)\n",
    "\n",
    "    avg_loss = np.mean(losses)\n",
    "    print(f\"Loss : {avg_loss:.4f}\")\n",
    "    return final_preds, oof"
   ],
   "metadata": {
    "id": "vbGPA_pvtJXf"
   },
   "id": "vbGPA_pvtJXf",
   "execution_count": 41,
   "outputs": []
  },
  {
   "cell_type": "code",
   "source": [
    "test.info() # 결측치 없음."
   ],
   "metadata": {
    "colab": {
     "base_uri": "https://localhost:8080/"
    },
    "id": "xWEElxsC7Gfl",
    "outputId": "f9f39b1c-fde5-47e7-e5b1-bbc0094e9cb0"
   },
   "id": "xWEElxsC7Gfl",
   "execution_count": 42,
   "outputs": [
    {
     "name": "stdout",
     "output_type": "stream",
     "text": [
      "<class 'pandas.core.frame.DataFrame'>\n",
      "RangeIndex: 67842 entries, 0 to 67841\n",
      "Data columns (total 22 columns):\n",
      " #   Column             Non-Null Count  Dtype  \n",
      "---  ------             --------------  -----  \n",
      " 0   id                 67842 non-null  int64  \n",
      " 1   loc                67842 non-null  float64\n",
      " 2   v(g)               67842 non-null  float64\n",
      " 3   ev(g)              67842 non-null  float64\n",
      " 4   iv(g)              67842 non-null  float64\n",
      " 5   n                  67842 non-null  float64\n",
      " 6   v                  67842 non-null  float64\n",
      " 7   l                  67842 non-null  float64\n",
      " 8   d                  67842 non-null  float64\n",
      " 9   i                  67842 non-null  float64\n",
      " 10  e                  67842 non-null  float64\n",
      " 11  b                  67842 non-null  float64\n",
      " 12  t                  67842 non-null  float64\n",
      " 13  lOCode             67842 non-null  int64  \n",
      " 14  lOComment          67842 non-null  int64  \n",
      " 15  lOBlank            67842 non-null  int64  \n",
      " 16  locCodeAndComment  67842 non-null  int64  \n",
      " 17  uniq_Op            67842 non-null  float64\n",
      " 18  uniq_Opnd          67842 non-null  float64\n",
      " 19  total_Op           67842 non-null  float64\n",
      " 20  total_Opnd         67842 non-null  float64\n",
      " 21  branchCount        67842 non-null  float64\n",
      "dtypes: float64(17), int64(5)\n",
      "memory usage: 11.4 MB\n"
     ]
    }
   ]
  },
  {
   "cell_type": "code",
   "execution_count": 43,
   "id": "b6787765",
   "metadata": {
    "id": "b6787765",
    "colab": {
     "base_uri": "https://localhost:8080/",
     "height": 496
    },
    "outputId": "2876cc07-2f84-46b9-a06f-8058a88c1c59"
   },
   "outputs": [],
   "source": [
    "## X_test 만들기 : 앞서했던 전처리를 동일하게 적용해주면 됨.\n"
   ]
  },
  {
   "cell_type": "code",
   "execution_count": 44,
   "id": "a0daf54e",
   "metadata": {
    "id": "a0daf54e",
    "colab": {
     "base_uri": "https://localhost:8080/"
    },
    "outputId": "90168fcf-9c4d-4a37-a83c-45ed45ba9997"
   },
   "outputs": [
    {
     "name": "stdout",
     "output_type": "stream",
     "text": [
      "========== Fold 1 ==========\n",
      "========== Fold 2 ==========\n",
      "========== Fold 3 ==========\n",
      "========== Fold 4 ==========\n",
      "========== Fold 5 ==========\n",
      "Loss : 0.7916\n"
     ]
    },
    {
     "data": {
      "text/plain": "array([0.2593623 , 0.23225331, 0.64655656, ..., 0.18655631, 0.11410312,\n       0.7880367 ], dtype=float32)"
     },
     "execution_count": 44,
     "metadata": {},
     "output_type": "execute_result"
    }
   ],
   "source": [
    "best_params = study.best_trial.params\n",
    "\n",
    "# define best model\n",
    "best_model = XGBClassifier(**best_params, random_state=61, eval_metric=evaluation_metric)\n",
    "\n",
    "# model finalization : 가장 일반적으로 좋은 예측 성능을 냈던 모델로, 전체 데이터 트레이닝.\n",
    "\n",
    "preds, oof = oof_preds(best_model)\n",
    "preds = np.mean(preds, axis=0)\n",
    "preds"
   ]
  },
  {
   "cell_type": "code",
   "execution_count": 45,
   "id": "8ff2070c",
   "metadata": {
    "id": "8ff2070c"
   },
   "outputs": [],
   "source": [
    "submission['defects'] = preds"
   ]
  },
  {
   "cell_type": "code",
   "execution_count": 46,
   "id": "55a2c13f",
   "metadata": {
    "id": "55a2c13f"
   },
   "outputs": [],
   "source": [
    "submission.to_csv(base_path+'preds/xgboost.csv', index=False)"
   ]
  },
  {
   "cell_type": "code",
   "source": [
    "oof_df = pd.DataFrame({\n",
    "    'xgboost_oof': oof\n",
    "})\n",
    "oof_df.head()"
   ],
   "metadata": {
    "id": "QIgSFAdJ8oRh"
   },
   "id": "QIgSFAdJ8oRh",
   "execution_count": 47,
   "outputs": [
    {
     "data": {
      "text/plain": "   xgboost_oof\n0     0.071362\n1     0.053843\n2     0.045884\n3     0.085829\n4     0.112108",
      "text/html": "<div>\n<style scoped>\n    .dataframe tbody tr th:only-of-type {\n        vertical-align: middle;\n    }\n\n    .dataframe tbody tr th {\n        vertical-align: top;\n    }\n\n    .dataframe thead th {\n        text-align: right;\n    }\n</style>\n<table border=\"1\" class=\"dataframe\">\n  <thead>\n    <tr style=\"text-align: right;\">\n      <th></th>\n      <th>xgboost_oof</th>\n    </tr>\n  </thead>\n  <tbody>\n    <tr>\n      <th>0</th>\n      <td>0.071362</td>\n    </tr>\n    <tr>\n      <th>1</th>\n      <td>0.053843</td>\n    </tr>\n    <tr>\n      <th>2</th>\n      <td>0.045884</td>\n    </tr>\n    <tr>\n      <th>3</th>\n      <td>0.085829</td>\n    </tr>\n    <tr>\n      <th>4</th>\n      <td>0.112108</td>\n    </tr>\n  </tbody>\n</table>\n</div>"
     },
     "execution_count": 47,
     "metadata": {},
     "output_type": "execute_result"
    }
   ]
  },
  {
   "cell_type": "code",
   "execution_count": 48,
   "outputs": [],
   "source": [
    "oof_df.to_csv(base_path+'oof/xgboost.csv', index=False)"
   ],
   "metadata": {
    "collapsed": false,
    "pycharm": {
     "name": "#%%\n"
    }
   }
  },
  {
   "cell_type": "code",
   "execution_count": 48,
   "outputs": [],
   "source": [],
   "metadata": {
    "collapsed": false,
    "pycharm": {
     "name": "#%%\n"
    }
   }
  }
 ],
 "metadata": {
  "kernelspec": {
   "display_name": "Python 3 (ipykernel)",
   "language": "python",
   "name": "python3"
  },
  "language_info": {
   "codemirror_mode": {
    "name": "ipython",
    "version": 3
   },
   "file_extension": ".py",
   "mimetype": "text/x-python",
   "name": "python",
   "nbconvert_exporter": "python",
   "pygments_lexer": "ipython3",
   "version": "3.10.1"
  },
  "colab": {
   "provenance": []
  }
 },
 "nbformat": 4,
 "nbformat_minor": 5
}