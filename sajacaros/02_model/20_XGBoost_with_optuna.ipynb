{
 "cells": [
  {
   "cell_type": "markdown",
   "id": "8f3119aa",
   "metadata": {
    "id": "8f3119aa"
   },
   "source": [
    "## Machine Learning 프로젝트 수행을 위한 코드 구조화"
   ]
  },
  {
   "cell_type": "markdown",
   "id": "9f7610ea",
   "metadata": {
    "id": "9f7610ea"
   },
   "source": [
    "- ML project를 위해서 사용하는 템플릿 코드를 만듭니다.\n",
    "\n",
    "1. **필요한 라이브러리와 데이터를 불러옵니다.**\n",
    "\n",
    "\n",
    "2. **EDA를 수행합니다.** 이 때 EDA의 목적은 풀어야하는 문제를 위해서 수행됩니다.\n",
    "\n",
    "\n",
    "3. **전처리를 수행합니다.** 이 때 중요한건 **feature engineering**을 어떻게 하느냐 입니다.\n",
    "\n",
    "\n",
    "4. **데이터 분할을 합니다.** 이 때 train data와 test data 간의 분포 차이가 없는지 확인합니다.\n",
    "\n",
    "\n",
    "5. **학습을 진행합니다.** 어떤 모델을 사용하여 학습할지 정합니다. 성능이 잘 나오는 GBM을 추천합니다.\n",
    "\n",
    "\n",
    "6. **hyper-parameter tuning을 수행합니다.** 원하는 목표 성능이 나올 때 까지 진행합니다. 검증 단계를 통해 지속적으로 **overfitting이 되지 않게 주의**하세요.\n",
    "\n",
    "\n",
    "7. **최종 테스트를 진행합니다.** 데이터 분석 대회 포맷에 맞는 submission 파일을 만들어서 성능을 확인해보세요."
   ]
  },
  {
   "cell_type": "markdown",
   "id": "bd2f7530",
   "metadata": {
    "id": "bd2f7530"
   },
   "source": [
    "## 1. 라이브러리, 데이터 불러오기"
   ]
  },
  {
   "cell_type": "code",
   "execution_count": 53,
   "id": "125fc348",
   "metadata": {
    "id": "125fc348"
   },
   "outputs": [],
   "source": [
    "# 데이터분석 4종 세트\n",
    "import numpy as np\n",
    "import pandas as pd\n",
    "import matplotlib.pyplot as plt\n",
    "import seaborn as sns\n",
    "\n",
    "# 모델들, 성능 평가\n",
    "# (저는 일반적으로 정형데이터로 머신러닝 분석할 때는 이 2개 모델은 그냥 돌려봅니다. 특히 RF가 테스트하기 좋습니다.)\n",
    "from sklearn.ensemble import RandomForestClassifier, RandomForestRegressor\n",
    "from xgboost import XGBClassifier\n",
    "\n",
    "# KFold(CV), partial : optuna를 사용하기 위함\n",
    "from sklearn.model_selection import StratifiedKFold\n",
    "from sklearn.metrics import roc_auc_score\n",
    "from functools import partial\n",
    "\n",
    "# hyper-parameter tuning을 위한 라이브러리, optuna\n",
    "import optuna"
   ]
  },
  {
   "cell_type": "code",
   "execution_count": 54,
   "id": "3615c24a",
   "metadata": {
    "colab": {
     "base_uri": "https://localhost:8080/"
    },
    "id": "3615c24a",
    "outputId": "6dc93ad0-06c8-4ee0-a96d-8d9a5dd6ddaf"
   },
   "outputs": [
    {
     "name": "stdout",
     "output_type": "stream",
     "text": [
      "(101763, 23) (67842, 22) (67842, 1)\n"
     ]
    }
   ],
   "source": [
    "# 데이터를 불러옵니다.\n",
    "base_path = '../../data/'\n",
    "# train = pd.read_csv(base_path + 'train.csv', index_col='id')\n",
    "# test = pd.read_csv(base_path + 'test.csv', index_col='id')\n",
    "train = pd.read_csv(base_path + 'train_f5.csv', index_col='id')\n",
    "test = pd.read_csv(base_path + 'test_f5.csv', index_col='id')\n",
    "submission = pd.read_csv(base_path + 'sample_submission.csv', index_col='id')\n",
    "print(train.shape, test.shape, submission.shape)"
   ]
  },
  {
   "cell_type": "code",
   "execution_count": 55,
   "outputs": [],
   "source": [
    "train['lOBlank_n'] = train['lOBlank_n'].astype('category')\n",
    "test['lOBlank_n'] = test['lOBlank_n'].astype('category')\n",
    "train['l_n'] = train['l_n'].astype('category')\n",
    "test['l_n'] = test['l_n'].astype('category')\n",
    "train['n_n'] = train['n_n'].astype('category')\n",
    "test['n_n'] = test['n_n'].astype('category')\n",
    "train['branchCount_n'] = train['branchCount_n'].astype('category')\n",
    "test['branchCount_n'] = test['branchCount_n'].astype('category')\n",
    "train['outlier_count'] = train['outlier_count'].astype('category')\n",
    "test['outlier_count'] = test['outlier_count'].astype('category')\n",
    "train['total_Op_n'] = train['total_Op_n'].astype('category')\n",
    "test['total_Op_n'] = test['total_Op_n'].astype('category')\n",
    "train['total_Opnd_n'] = train['total_Opnd_n'].astype('category')\n",
    "test['total_Opnd_n'] = test['total_Opnd_n'].astype('category')"
   ],
   "metadata": {
    "collapsed": false,
    "pycharm": {
     "name": "#%%\n"
    }
   }
  },
  {
   "cell_type": "markdown",
   "id": "c9c9acb8",
   "metadata": {
    "id": "c9c9acb8"
   },
   "source": [
    "## 2. EDA"
   ]
  },
  {
   "cell_type": "markdown",
   "id": "6fdf620b",
   "metadata": {
    "id": "6fdf620b"
   },
   "source": [
    "- 데이터에서 찾아야 하는 기초적인 내용들을 확인합니다.\n",
    "\n",
    "\n",
    "- class imbalance, target distribution, outlier, correlation을 확인합니다."
   ]
  },
  {
   "cell_type": "code",
   "source": [
    "train.columns"
   ],
   "metadata": {
    "colab": {
     "base_uri": "https://localhost:8080/"
    },
    "id": "R1TxMunIv4zb",
    "outputId": "56e20880-07fb-4f2a-c614-ef0c3202a0d0"
   },
   "id": "R1TxMunIv4zb",
   "execution_count": 56,
   "outputs": [
    {
     "data": {
      "text/plain": "Index(['loc', 'v(g)', 'ev(g)', 'iv(g)', 'v', 'd', 'i', 'e', 'b', 't', 'lOCode',\n       'lOComment', 'locCodeAndComment', 'uniq_Op', 'uniq_Opnd', 'lOBlank_n',\n       'n_n', 'branchCount_n', 'l_n', 'total_Op_n', 'total_Opnd_n',\n       'outlier_count', 'defects'],\n      dtype='object')"
     },
     "execution_count": 56,
     "metadata": {},
     "output_type": "execute_result"
    }
   ]
  },
  {
   "cell_type": "code",
   "execution_count": 57,
   "outputs": [
    {
     "name": "stdout",
     "output_type": "stream",
     "text": [
      "<class 'pandas.core.frame.DataFrame'>\n",
      "Index: 101763 entries, 0 to 101762\n",
      "Data columns (total 23 columns):\n",
      " #   Column             Non-Null Count   Dtype   \n",
      "---  ------             --------------   -----   \n",
      " 0   loc                101763 non-null  float64 \n",
      " 1   v(g)               101763 non-null  float64 \n",
      " 2   ev(g)              101763 non-null  float64 \n",
      " 3   iv(g)              101763 non-null  float64 \n",
      " 4   v                  101763 non-null  float64 \n",
      " 5   d                  101763 non-null  float64 \n",
      " 6   i                  101763 non-null  float64 \n",
      " 7   e                  101763 non-null  float64 \n",
      " 8   b                  101763 non-null  float64 \n",
      " 9   t                  101763 non-null  float64 \n",
      " 10  lOCode             101763 non-null  int64   \n",
      " 11  lOComment          101763 non-null  int64   \n",
      " 12  locCodeAndComment  101763 non-null  int64   \n",
      " 13  uniq_Op            101763 non-null  float64 \n",
      " 14  uniq_Opnd          101763 non-null  float64 \n",
      " 15  lOBlank_n          101763 non-null  category\n",
      " 16  n_n                101763 non-null  category\n",
      " 17  branchCount_n      101763 non-null  category\n",
      " 18  l_n                101763 non-null  category\n",
      " 19  total_Op_n         101763 non-null  category\n",
      " 20  total_Opnd_n       101763 non-null  category\n",
      " 21  outlier_count      101763 non-null  category\n",
      " 22  defects            101763 non-null  bool    \n",
      "dtypes: bool(1), category(7), float64(12), int64(3)\n",
      "memory usage: 13.2 MB\n"
     ]
    }
   ],
   "source": [
    "train.info()"
   ],
   "metadata": {
    "collapsed": false,
    "pycharm": {
     "name": "#%%\n"
    }
   }
  },
  {
   "cell_type": "markdown",
   "id": "9dbb8802",
   "metadata": {
    "id": "9dbb8802"
   },
   "source": [
    "### 3. 전처리"
   ]
  },
  {
   "cell_type": "markdown",
   "id": "b79a6f0a",
   "metadata": {
    "id": "b79a6f0a"
   },
   "source": [
    "#### 결측치 처리"
   ]
  },
  {
   "cell_type": "markdown",
   "id": "f497a2d8",
   "metadata": {
    "id": "f497a2d8"
   },
   "source": [
    "### 4. 학습 데이터 분할"
   ]
  },
  {
   "cell_type": "code",
   "execution_count": 58,
   "id": "47306aaf",
   "metadata": {
    "id": "47306aaf"
   },
   "outputs": [],
   "source": [
    "# 첫번째 테스트용으로 사용하고, 실제 학습시에는 K-Fold CV를 사용합니다.\n",
    "from sklearn.model_selection import train_test_split\n",
    "\n",
    "X = train.drop(columns=['defects'])\n",
    "y = train.defects\n",
    "\n",
    "# for OOF-prediction split 5% of data as validation dataset.\n",
    "X_train, X_val, y_train, y_val = train_test_split(X, y, test_size=0.2, random_state=61, stratify=y)"
   ]
  },
  {
   "cell_type": "code",
   "execution_count": 59,
   "id": "67efd2ee",
   "metadata": {
    "colab": {
     "base_uri": "https://localhost:8080/"
    },
    "id": "67efd2ee",
    "outputId": "a8a904f0-8109-4e87-b0d8-81d97dde4a49"
   },
   "outputs": [
    {
     "name": "stdout",
     "output_type": "stream",
     "text": [
      "(81410, 22) (81410,) (20353, 22) (20353,)\n",
      "0.2266429185603734 0.22664963396059548\n"
     ]
    }
   ],
   "source": [
    "print(X_train.shape, y_train.shape, X_val.shape, y_val.shape)\n",
    "print(y_train.mean(), y_val.mean())"
   ]
  },
  {
   "cell_type": "markdown",
   "id": "58056e51",
   "metadata": {
    "id": "58056e51"
   },
   "source": [
    "### 5. 학습 및 평가"
   ]
  },
  {
   "cell_type": "code",
   "execution_count": 60,
   "id": "39fd2515",
   "metadata": {
    "id": "39fd2515"
   },
   "outputs": [],
   "source": [
    "# 간단하게 LightGBM 테스트\n",
    "# 적당한 hyper-parameter 조합을 두었습니다. (항상 best는 아닙니다. 예시입니다.)\n",
    "model = XGBClassifier(\n",
    "    booster='gbtree',\n",
    "    objective='binary:logistic',\n",
    "    max_depth=6,\n",
    "    learning_rate=0.1,\n",
    "    n_estimators=100,\n",
    "    n_jobs=-1,\n",
    "    random_state=61,\n",
    "    tree_method='hist',\n",
    "    enable_categorical=True,\n",
    ")"
   ]
  },
  {
   "cell_type": "code",
   "execution_count": 61,
   "id": "ddffa474",
   "metadata": {
    "scrolled": true,
    "colab": {
     "base_uri": "https://localhost:8080/",
     "height": 214
    },
    "id": "ddffa474",
    "outputId": "4e723622-af5a-4fea-9cd4-dfcd3c65630a"
   },
   "outputs": [
    {
     "name": "stdout",
     "output_type": "stream",
     "text": [
      "\n",
      "Fitting LightGBM...\n"
     ]
    },
    {
     "data": {
      "text/plain": "XGBClassifier(base_score=None, booster='gbtree', callbacks=None,\n              colsample_bylevel=None, colsample_bynode=None,\n              colsample_bytree=None, early_stopping_rounds=None,\n              enable_categorical=True, eval_metric=None, feature_types=None,\n              gamma=None, gpu_id=None, grow_policy=None, importance_type=None,\n              interaction_constraints=None, learning_rate=0.1, max_bin=None,\n              max_cat_threshold=None, max_cat_to_onehot=None,\n              max_delta_step=None, max_depth=6, max_leaves=None,\n              min_child_weight=None, missing=nan, monotone_constraints=None,\n              n_estimators=100, n_jobs=-1, num_parallel_tree=None,\n              predictor=None, random_state=61, ...)",
      "text/html": "<style>#sk-container-id-3 {color: black;}#sk-container-id-3 pre{padding: 0;}#sk-container-id-3 div.sk-toggleable {background-color: white;}#sk-container-id-3 label.sk-toggleable__label {cursor: pointer;display: block;width: 100%;margin-bottom: 0;padding: 0.3em;box-sizing: border-box;text-align: center;}#sk-container-id-3 label.sk-toggleable__label-arrow:before {content: \"▸\";float: left;margin-right: 0.25em;color: #696969;}#sk-container-id-3 label.sk-toggleable__label-arrow:hover:before {color: black;}#sk-container-id-3 div.sk-estimator:hover label.sk-toggleable__label-arrow:before {color: black;}#sk-container-id-3 div.sk-toggleable__content {max-height: 0;max-width: 0;overflow: hidden;text-align: left;background-color: #f0f8ff;}#sk-container-id-3 div.sk-toggleable__content pre {margin: 0.2em;color: black;border-radius: 0.25em;background-color: #f0f8ff;}#sk-container-id-3 input.sk-toggleable__control:checked~div.sk-toggleable__content {max-height: 200px;max-width: 100%;overflow: auto;}#sk-container-id-3 input.sk-toggleable__control:checked~label.sk-toggleable__label-arrow:before {content: \"▾\";}#sk-container-id-3 div.sk-estimator input.sk-toggleable__control:checked~label.sk-toggleable__label {background-color: #d4ebff;}#sk-container-id-3 div.sk-label input.sk-toggleable__control:checked~label.sk-toggleable__label {background-color: #d4ebff;}#sk-container-id-3 input.sk-hidden--visually {border: 0;clip: rect(1px 1px 1px 1px);clip: rect(1px, 1px, 1px, 1px);height: 1px;margin: -1px;overflow: hidden;padding: 0;position: absolute;width: 1px;}#sk-container-id-3 div.sk-estimator {font-family: monospace;background-color: #f0f8ff;border: 1px dotted black;border-radius: 0.25em;box-sizing: border-box;margin-bottom: 0.5em;}#sk-container-id-3 div.sk-estimator:hover {background-color: #d4ebff;}#sk-container-id-3 div.sk-parallel-item::after {content: \"\";width: 100%;border-bottom: 1px solid gray;flex-grow: 1;}#sk-container-id-3 div.sk-label:hover label.sk-toggleable__label {background-color: #d4ebff;}#sk-container-id-3 div.sk-serial::before {content: \"\";position: absolute;border-left: 1px solid gray;box-sizing: border-box;top: 0;bottom: 0;left: 50%;z-index: 0;}#sk-container-id-3 div.sk-serial {display: flex;flex-direction: column;align-items: center;background-color: white;padding-right: 0.2em;padding-left: 0.2em;position: relative;}#sk-container-id-3 div.sk-item {position: relative;z-index: 1;}#sk-container-id-3 div.sk-parallel {display: flex;align-items: stretch;justify-content: center;background-color: white;position: relative;}#sk-container-id-3 div.sk-item::before, #sk-container-id-3 div.sk-parallel-item::before {content: \"\";position: absolute;border-left: 1px solid gray;box-sizing: border-box;top: 0;bottom: 0;left: 50%;z-index: -1;}#sk-container-id-3 div.sk-parallel-item {display: flex;flex-direction: column;z-index: 1;position: relative;background-color: white;}#sk-container-id-3 div.sk-parallel-item:first-child::after {align-self: flex-end;width: 50%;}#sk-container-id-3 div.sk-parallel-item:last-child::after {align-self: flex-start;width: 50%;}#sk-container-id-3 div.sk-parallel-item:only-child::after {width: 0;}#sk-container-id-3 div.sk-dashed-wrapped {border: 1px dashed gray;margin: 0 0.4em 0.5em 0.4em;box-sizing: border-box;padding-bottom: 0.4em;background-color: white;}#sk-container-id-3 div.sk-label label {font-family: monospace;font-weight: bold;display: inline-block;line-height: 1.2em;}#sk-container-id-3 div.sk-label-container {text-align: center;}#sk-container-id-3 div.sk-container {/* jupyter's `normalize.less` sets `[hidden] { display: none; }` but bootstrap.min.css set `[hidden] { display: none !important; }` so we also need the `!important` here to be able to override the default hidden behavior on the sphinx rendered scikit-learn.org. See: https://github.com/scikit-learn/scikit-learn/issues/21755 */display: inline-block !important;position: relative;}#sk-container-id-3 div.sk-text-repr-fallback {display: none;}</style><div id=\"sk-container-id-3\" class=\"sk-top-container\"><div class=\"sk-text-repr-fallback\"><pre>XGBClassifier(base_score=None, booster=&#x27;gbtree&#x27;, callbacks=None,\n              colsample_bylevel=None, colsample_bynode=None,\n              colsample_bytree=None, early_stopping_rounds=None,\n              enable_categorical=True, eval_metric=None, feature_types=None,\n              gamma=None, gpu_id=None, grow_policy=None, importance_type=None,\n              interaction_constraints=None, learning_rate=0.1, max_bin=None,\n              max_cat_threshold=None, max_cat_to_onehot=None,\n              max_delta_step=None, max_depth=6, max_leaves=None,\n              min_child_weight=None, missing=nan, monotone_constraints=None,\n              n_estimators=100, n_jobs=-1, num_parallel_tree=None,\n              predictor=None, random_state=61, ...)</pre><b>In a Jupyter environment, please rerun this cell to show the HTML representation or trust the notebook. <br />On GitHub, the HTML representation is unable to render, please try loading this page with nbviewer.org.</b></div><div class=\"sk-container\" hidden><div class=\"sk-item\"><div class=\"sk-estimator sk-toggleable\"><input class=\"sk-toggleable__control sk-hidden--visually\" id=\"sk-estimator-id-3\" type=\"checkbox\" checked><label for=\"sk-estimator-id-3\" class=\"sk-toggleable__label sk-toggleable__label-arrow\">XGBClassifier</label><div class=\"sk-toggleable__content\"><pre>XGBClassifier(base_score=None, booster=&#x27;gbtree&#x27;, callbacks=None,\n              colsample_bylevel=None, colsample_bynode=None,\n              colsample_bytree=None, early_stopping_rounds=None,\n              enable_categorical=True, eval_metric=None, feature_types=None,\n              gamma=None, gpu_id=None, grow_policy=None, importance_type=None,\n              interaction_constraints=None, learning_rate=0.1, max_bin=None,\n              max_cat_threshold=None, max_cat_to_onehot=None,\n              max_delta_step=None, max_depth=6, max_leaves=None,\n              min_child_weight=None, missing=nan, monotone_constraints=None,\n              n_estimators=100, n_jobs=-1, num_parallel_tree=None,\n              predictor=None, random_state=61, ...)</pre></div></div></div></div></div>"
     },
     "execution_count": 61,
     "metadata": {},
     "output_type": "execute_result"
    }
   ],
   "source": [
    "print(\"\\nFitting LightGBM...\")\n",
    "model.fit(X_train, y_train)"
   ]
  },
  {
   "cell_type": "code",
   "execution_count": 62,
   "id": "6c8b0259",
   "metadata": {
    "id": "6c8b0259"
   },
   "outputs": [],
   "source": [
    "# metric은 그때마다 맞게 바꿔줘야 합니다.\n",
    "evaluation_metric = roc_auc_score"
   ]
  },
  {
   "cell_type": "code",
   "execution_count": 63,
   "id": "a6b39be5",
   "metadata": {
    "colab": {
     "base_uri": "https://localhost:8080/"
    },
    "id": "a6b39be5",
    "outputId": "2e2c256f-fe78-4deb-8fab-727306e3ffec"
   },
   "outputs": [
    {
     "name": "stdout",
     "output_type": "stream",
     "text": [
      "Prediction\n",
      "Train Score : 0.6801\n",
      "Validation Score : 0.6664\n"
     ]
    }
   ],
   "source": [
    "print(\"Prediction\")\n",
    "pred_train = model.predict(X_train)\n",
    "pred_val = model.predict(X_val)\n",
    "\n",
    "\n",
    "train_score = evaluation_metric(y_train, pred_train)\n",
    "val_score = evaluation_metric(y_val, pred_val)\n",
    "\n",
    "print(\"Train Score : %.4f\" % train_score)\n",
    "print(\"Validation Score : %.4f\" % val_score)"
   ]
  },
  {
   "cell_type": "markdown",
   "id": "bc755b17",
   "metadata": {
    "id": "bc755b17"
   },
   "source": [
    "### 6. Hyper-parameter Tuning"
   ]
  },
  {
   "cell_type": "code",
   "execution_count": 64,
   "id": "34ce4986",
   "metadata": {
    "id": "34ce4986"
   },
   "outputs": [],
   "source": [
    "def optimizer(trial, X, y, K):\n",
    "    # 조절할 hyper-parameter 조합을 적어줍니다.\n",
    "    max_depth = trial.suggest_int('max_depth', 5, 15)\n",
    "    colsample_bynode = trial.suggest_float('colsample_bynode', 0.5, 0.8)\n",
    "    reg_lambda = trial.suggest_float('reg_lambda', 0.5, 5.0)\n",
    "    n_estimators = trial.suggest_int('n_estimators', 50, 2000)\n",
    "    learning_rate = trial.suggest_float('learning_rate', 0.01, 0.3)\n",
    "\n",
    "    # 원하는 모델을 지정합니다, optuna는 시간이 오래걸리기 때문에 저는 보통 RF로 일단 테스트를 해본 뒤에 LGBM을 사용합니다.\n",
    "    model = XGBClassifier(\n",
    "        max_depth=max_depth,\n",
    "        colsample_bynode=colsample_bynode,\n",
    "        reg_lambda=reg_lambda,\n",
    "        n_estimators=n_estimators,\n",
    "        learning_rate=learning_rate,\n",
    "        random_state=61,\n",
    "        tree_method='hist',\n",
    "        enable_categorical=True,\n",
    "    )\n",
    "\n",
    "    # K-Fold Cross validation을 구현합니다.\n",
    "    folds = StratifiedKFold(n_splits=K, random_state=61, shuffle=True)\n",
    "    losses = []\n",
    "\n",
    "    for train_idx, val_idx in folds.split(X, y):\n",
    "        X_train = X.iloc[train_idx, :]\n",
    "        y_train = y.iloc[train_idx]\n",
    "\n",
    "        X_val = X.iloc[val_idx, :]\n",
    "        y_val = y.iloc[val_idx]\n",
    "\n",
    "        model.fit(X_train, y_train)\n",
    "        preds = model.predict(X_val)\n",
    "        loss = evaluation_metric(y_val, preds)\n",
    "        losses.append(loss)\n",
    "\n",
    "\n",
    "    # K-Fold의 평균 loss값을 돌려줍니다.\n",
    "    return np.mean(losses)"
   ]
  },
  {
   "cell_type": "code",
   "execution_count": 65,
   "id": "7150b210",
   "metadata": {
    "scrolled": false,
    "colab": {
     "base_uri": "https://localhost:8080/"
    },
    "id": "7150b210",
    "outputId": "fa1c663f-0f17-4f21-8016-ac43d456666d"
   },
   "outputs": [
    {
     "name": "stderr",
     "output_type": "stream",
     "text": [
      "[I 2023-10-19 02:27:05,748] A new study created in memory with name: no-name-15ccb2eb-adf4-4c4d-8867-5a66978adfed\n",
      "[I 2023-10-19 02:27:34,106] Trial 0 finished with value: 0.6619712621672823 and parameters: {'max_depth': 6, 'colsample_bynode': 0.7377810247213195, 'reg_lambda': 0.7052452702564933, 'n_estimators': 1347, 'learning_rate': 0.022253594404113296}. Best is trial 0 with value: 0.6619712621672823.\n",
      "[I 2023-10-19 02:27:56,685] Trial 1 finished with value: 0.6555666929575741 and parameters: {'max_depth': 11, 'colsample_bynode': 0.6605602936965537, 'reg_lambda': 4.849863580030156, 'n_estimators': 342, 'learning_rate': 0.2866384107016313}. Best is trial 0 with value: 0.6619712621672823.\n",
      "[I 2023-10-19 02:30:20,938] Trial 2 finished with value: 0.6491230220045756 and parameters: {'max_depth': 13, 'colsample_bynode': 0.7264856041848916, 'reg_lambda': 4.343899109477942, 'n_estimators': 1909, 'learning_rate': 0.19206908603114892}. Best is trial 0 with value: 0.6619712621672823.\n",
      "[I 2023-10-19 02:31:30,174] Trial 3 finished with value: 0.6509494077249984 and parameters: {'max_depth': 7, 'colsample_bynode': 0.5689866831682687, 'reg_lambda': 4.901383604373023, 'n_estimators': 1821, 'learning_rate': 0.28447102963163523}. Best is trial 0 with value: 0.6619712621672823.\n",
      "[I 2023-10-19 02:32:57,376] Trial 4 finished with value: 0.6491530721268386 and parameters: {'max_depth': 12, 'colsample_bynode': 0.6390578486548626, 'reg_lambda': 1.33497099721775, 'n_estimators': 1313, 'learning_rate': 0.25040727802933116}. Best is trial 0 with value: 0.6619712621672823.\n",
      "[I 2023-10-19 02:33:55,987] Trial 5 finished with value: 0.6538924636569087 and parameters: {'max_depth': 7, 'colsample_bynode': 0.7139138232277291, 'reg_lambda': 0.9878116155036701, 'n_estimators': 1544, 'learning_rate': 0.13901265789689884}. Best is trial 0 with value: 0.6619712621672823.\n",
      "[I 2023-10-19 02:34:39,435] Trial 6 finished with value: 0.6535422213320088 and parameters: {'max_depth': 6, 'colsample_bynode': 0.6686304219138816, 'reg_lambda': 3.569922825545259, 'n_estimators': 1388, 'learning_rate': 0.21145470960716328}. Best is trial 0 with value: 0.6619712621672823.\n",
      "[I 2023-10-19 02:35:21,631] Trial 7 finished with value: 0.6524298530756099 and parameters: {'max_depth': 6, 'colsample_bynode': 0.7625237334126291, 'reg_lambda': 2.1600203454032085, 'n_estimators': 1425, 'learning_rate': 0.20528766013870797}. Best is trial 0 with value: 0.6619712621672823.\n",
      "[I 2023-10-19 02:36:06,476] Trial 8 finished with value: 0.6528524897162475 and parameters: {'max_depth': 12, 'colsample_bynode': 0.6291490390660588, 'reg_lambda': 4.684517430450237, 'n_estimators': 577, 'learning_rate': 0.23915370037494504}. Best is trial 0 with value: 0.6619712621672823.\n",
      "[I 2023-10-19 02:37:49,297] Trial 9 finished with value: 0.6493736334601871 and parameters: {'max_depth': 13, 'colsample_bynode': 0.6387758085565729, 'reg_lambda': 0.7655497194321951, 'n_estimators': 1532, 'learning_rate': 0.12884780542262653}. Best is trial 0 with value: 0.6619712621672823.\n",
      "[I 2023-10-19 02:38:43,839] Trial 10 finished with value: 0.6607076143903641 and parameters: {'max_depth': 9, 'colsample_bynode': 0.7988965625824876, 'reg_lambda': 2.183358523154794, 'n_estimators': 866, 'learning_rate': 0.02278174567917974}. Best is trial 0 with value: 0.6619712621672823.\n",
      "[I 2023-10-19 02:39:40,289] Trial 11 finished with value: 0.6612563004295436 and parameters: {'max_depth': 9, 'colsample_bynode': 0.7824411306141086, 'reg_lambda': 1.9607073227638196, 'n_estimators': 893, 'learning_rate': 0.016793747533283}. Best is trial 0 with value: 0.6619712621672823.\n",
      "[I 2023-10-19 02:40:36,172] Trial 12 finished with value: 0.6580850198122201 and parameters: {'max_depth': 9, 'colsample_bynode': 0.7952380602179867, 'reg_lambda': 0.5249179091029295, 'n_estimators': 991, 'learning_rate': 0.03289868230696084}. Best is trial 0 with value: 0.6619712621672823.\n",
      "[I 2023-10-19 02:42:10,028] Trial 13 finished with value: 0.6564818918578188 and parameters: {'max_depth': 15, 'colsample_bynode': 0.7444429427865015, 'reg_lambda': 1.5160618412651399, 'n_estimators': 796, 'learning_rate': 0.05400785080398483}. Best is trial 0 with value: 0.6619712621672823.\n",
      "[I 2023-10-19 02:42:17,079] Trial 14 finished with value: 0.6654637624830145 and parameters: {'max_depth': 5, 'colsample_bynode': 0.6985059042710741, 'reg_lambda': 1.8257640287991417, 'n_estimators': 150, 'learning_rate': 0.07956973801151183}. Best is trial 14 with value: 0.6654637624830145.\n",
      "[I 2023-10-19 02:42:22,897] Trial 15 finished with value: 0.6654477721763346 and parameters: {'max_depth': 5, 'colsample_bynode': 0.7016010778274158, 'reg_lambda': 2.867312627291247, 'n_estimators': 104, 'learning_rate': 0.09008616536281534}. Best is trial 14 with value: 0.6654637624830145.\n",
      "[I 2023-10-19 02:42:28,464] Trial 16 finished with value: 0.6655053167883319 and parameters: {'max_depth': 5, 'colsample_bynode': 0.6970684927278905, 'reg_lambda': 2.79713113869755, 'n_estimators': 116, 'learning_rate': 0.09118662658573717}. Best is trial 16 with value: 0.6655053167883319.\n",
      "[I 2023-10-19 02:42:32,836] Trial 17 finished with value: 0.6663432924068997 and parameters: {'max_depth': 5, 'colsample_bynode': 0.692816255775162, 'reg_lambda': 2.7789702315835974, 'n_estimators': 53, 'learning_rate': 0.0792031169946991}. Best is trial 17 with value: 0.6663432924068997.\n",
      "[I 2023-10-19 02:42:50,050] Trial 18 finished with value: 0.6587529000600165 and parameters: {'max_depth': 8, 'colsample_bynode': 0.5137226862440324, 'reg_lambda': 2.806839088023727, 'n_estimators': 372, 'learning_rate': 0.12033234118090863}. Best is trial 17 with value: 0.6663432924068997.\n",
      "[I 2023-10-19 02:43:06,853] Trial 19 finished with value: 0.6613691535437213 and parameters: {'max_depth': 5, 'colsample_bynode': 0.6739874229020991, 'reg_lambda': 3.3588342212450844, 'n_estimators': 579, 'learning_rate': 0.0951775206685885}. Best is trial 17 with value: 0.6663432924068997.\n",
      "[I 2023-10-19 02:43:19,442] Trial 20 finished with value: 0.6623278346702526 and parameters: {'max_depth': 7, 'colsample_bynode': 0.6057090088432646, 'reg_lambda': 2.5421717860695363, 'n_estimators': 312, 'learning_rate': 0.0648122245914536}. Best is trial 17 with value: 0.6663432924068997.\n",
      "[I 2023-10-19 02:43:23,415] Trial 21 finished with value: 0.6663545105780033 and parameters: {'max_depth': 5, 'colsample_bynode': 0.6963627739387489, 'reg_lambda': 3.172197415214419, 'n_estimators': 59, 'learning_rate': 0.0853627665529891}. Best is trial 21 with value: 0.6663545105780033.\n",
      "[I 2023-10-19 02:43:27,810] Trial 22 finished with value: 0.6657478124771533 and parameters: {'max_depth': 5, 'colsample_bynode': 0.6889438169489334, 'reg_lambda': 3.205759453219822, 'n_estimators': 87, 'learning_rate': 0.10606945171160698}. Best is trial 21 with value: 0.6663545105780033.\n",
      "[I 2023-10-19 02:43:44,988] Trial 23 finished with value: 0.6574712719704385 and parameters: {'max_depth': 6, 'colsample_bynode': 0.677047211515557, 'reg_lambda': 3.3366708750024676, 'n_estimators': 542, 'learning_rate': 0.1605006722467508}. Best is trial 21 with value: 0.6663545105780033.\n",
      "[I 2023-10-19 02:43:50,125] Trial 24 finished with value: 0.6646403088383381 and parameters: {'max_depth': 8, 'colsample_bynode': 0.722700988971563, 'reg_lambda': 3.9746707223051834, 'n_estimators': 57, 'learning_rate': 0.10612285149635618}. Best is trial 21 with value: 0.6663545105780033.\n",
      "[I 2023-10-19 02:44:03,386] Trial 25 finished with value: 0.663051489308587 and parameters: {'max_depth': 7, 'colsample_bynode': 0.6865567125148316, 'reg_lambda': 3.1301146181529824, 'n_estimators': 262, 'learning_rate': 0.05810983991817008}. Best is trial 21 with value: 0.6663545105780033.\n",
      "[I 2023-10-19 02:44:18,522] Trial 26 finished with value: 0.6608104706919945 and parameters: {'max_depth': 5, 'colsample_bynode': 0.7531618001942456, 'reg_lambda': 3.761833177758507, 'n_estimators': 468, 'learning_rate': 0.11576098338415408}. Best is trial 21 with value: 0.6663545105780033.\n",
      "[I 2023-10-19 02:44:50,433] Trial 27 finished with value: 0.6577086890424774 and parameters: {'max_depth': 8, 'colsample_bynode': 0.7102811955669948, 'reg_lambda': 2.5090861197834657, 'n_estimators': 735, 'learning_rate': 0.07410974368018217}. Best is trial 21 with value: 0.6663545105780033.\n",
      "[I 2023-10-19 02:44:58,338] Trial 28 finished with value: 0.661044004538488 and parameters: {'max_depth': 6, 'colsample_bynode': 0.6527204884049435, 'reg_lambda': 3.2684958717532555, 'n_estimators': 238, 'learning_rate': 0.14788014078728234}. Best is trial 21 with value: 0.6663545105780033.\n",
      "[I 2023-10-19 02:45:13,486] Trial 29 finished with value: 0.6634984855621908 and parameters: {'max_depth': 6, 'colsample_bynode': 0.734496451713818, 'reg_lambda': 3.0625797983233514, 'n_estimators': 442, 'learning_rate': 0.05018527909683524}. Best is trial 21 with value: 0.6663545105780033.\n",
      "[I 2023-10-19 02:45:43,673] Trial 30 finished with value: 0.6572865379505455 and parameters: {'max_depth': 15, 'colsample_bynode': 0.6836621541053258, 'reg_lambda': 3.6607208047141575, 'n_estimators': 203, 'learning_rate': 0.10904806115020896}. Best is trial 21 with value: 0.6663545105780033.\n",
      "[I 2023-10-19 02:45:47,251] Trial 31 finished with value: 0.6665159876070601 and parameters: {'max_depth': 5, 'colsample_bynode': 0.6961189200064242, 'reg_lambda': 2.5677242247002603, 'n_estimators': 51, 'learning_rate': 0.09786684812197355}. Best is trial 31 with value: 0.6665159876070601.\n",
      "[I 2023-10-19 02:45:50,643] Trial 32 finished with value: 0.666020340420431 and parameters: {'max_depth': 5, 'colsample_bynode': 0.7210770810665308, 'reg_lambda': 2.508180378099081, 'n_estimators': 54, 'learning_rate': 0.07991706643790683}. Best is trial 31 with value: 0.6665159876070601.\n",
      "[I 2023-10-19 02:46:02,985] Trial 33 finished with value: 0.6649577017606012 and parameters: {'max_depth': 6, 'colsample_bynode': 0.7273181903344664, 'reg_lambda': 2.506490174199888, 'n_estimators': 307, 'learning_rate': 0.04081602625627067}. Best is trial 31 with value: 0.6665159876070601.\n",
      "[I 2023-10-19 02:46:33,296] Trial 34 finished with value: 0.6592233571938988 and parameters: {'max_depth': 5, 'colsample_bynode': 0.7143819590218999, 'reg_lambda': 2.3934234988122696, 'n_estimators': 1191, 'learning_rate': 0.07476292217141392}. Best is trial 31 with value: 0.6665159876070601.\n",
      "[I 2023-10-19 02:46:42,765] Trial 35 finished with value: 0.6632413857962847 and parameters: {'max_depth': 7, 'colsample_bynode': 0.6611703761242609, 'reg_lambda': 2.937681845622297, 'n_estimators': 197, 'learning_rate': 0.07134035662977897}. Best is trial 31 with value: 0.6665159876070601.\n",
      "[I 2023-10-19 02:47:27,658] Trial 36 finished with value: 0.6585312691889371 and parameters: {'max_depth': 10, 'colsample_bynode': 0.7366273757722395, 'reg_lambda': 2.6600811750474334, 'n_estimators': 687, 'learning_rate': 0.040889283820503636}. Best is trial 31 with value: 0.6665159876070601.\n",
      "[I 2023-10-19 02:47:42,206] Trial 37 finished with value: 0.6601246333905831 and parameters: {'max_depth': 6, 'colsample_bynode': 0.708197002951992, 'reg_lambda': 2.9827750101460797, 'n_estimators': 407, 'learning_rate': 0.1285134545797817}. Best is trial 31 with value: 0.6665159876070601.\n",
      "[I 2023-10-19 02:47:47,247] Trial 38 finished with value: 0.6649224926494158 and parameters: {'max_depth': 7, 'colsample_bynode': 0.6641612945108276, 'reg_lambda': 2.2949803111028486, 'n_estimators': 63, 'learning_rate': 0.010551531356624427}. Best is trial 31 with value: 0.6665159876070601.\n",
      "[I 2023-10-19 02:48:36,842] Trial 39 finished with value: 0.6570724863978081 and parameters: {'max_depth': 5, 'colsample_bynode': 0.762062269209685, 'reg_lambda': 2.004288395698757, 'n_estimators': 1883, 'learning_rate': 0.08474465791862135}. Best is trial 31 with value: 0.6665159876070601.\n",
      "[I 2023-10-19 02:48:57,818] Trial 40 finished with value: 0.6601907709855104 and parameters: {'max_depth': 11, 'colsample_bynode': 0.7163787891581861, 'reg_lambda': 2.67128960698052, 'n_estimators': 219, 'learning_rate': 0.0609927109063271}. Best is trial 31 with value: 0.6665159876070601.\n",
      "[I 2023-10-19 02:49:01,825] Trial 41 finished with value: 0.6656533408638594 and parameters: {'max_depth': 5, 'colsample_bynode': 0.6882380720052438, 'reg_lambda': 3.257884163905689, 'n_estimators': 69, 'learning_rate': 0.08919803809660348}. Best is trial 31 with value: 0.6665159876070601.\n",
      "[I 2023-10-19 02:49:52,685] Trial 42 finished with value: 0.6556134931676336 and parameters: {'max_depth': 6, 'colsample_bynode': 0.6926509561435408, 'reg_lambda': 2.7160856425715463, 'n_estimators': 1728, 'learning_rate': 0.09954246966756984}. Best is trial 31 with value: 0.6665159876070601.\n",
      "[I 2023-10-19 02:49:58,532] Trial 43 finished with value: 0.6649382231549665 and parameters: {'max_depth': 5, 'colsample_bynode': 0.6770830582393788, 'reg_lambda': 2.329057179239032, 'n_estimators': 141, 'learning_rate': 0.11518596446994145}. Best is trial 31 with value: 0.6665159876070601.\n",
      "[I 2023-10-19 02:50:11,765] Trial 44 finished with value: 0.6613369642775304 and parameters: {'max_depth': 6, 'colsample_bynode': 0.7281207580370281, 'reg_lambda': 3.5464189469654435, 'n_estimators': 304, 'learning_rate': 0.10252927834883929}. Best is trial 31 with value: 0.6665159876070601.\n",
      "[I 2023-10-19 02:50:19,060] Trial 45 finished with value: 0.6651367311396085 and parameters: {'max_depth': 5, 'colsample_bynode': 0.703410004631296, 'reg_lambda': 3.0663235488620573, 'n_estimators': 184, 'learning_rate': 0.07675326570513247}. Best is trial 31 with value: 0.6665159876070601.\n",
      "[I 2023-10-19 02:50:23,331] Trial 46 finished with value: 0.6653486730795447 and parameters: {'max_depth': 7, 'colsample_bynode': 0.6533506585476061, 'reg_lambda': 2.972933777440507, 'n_estimators': 50, 'learning_rate': 0.13535958826980096}. Best is trial 31 with value: 0.6665159876070601.\n",
      "[I 2023-10-19 02:50:58,823] Trial 47 finished with value: 0.657686639571104 and parameters: {'max_depth': 6, 'colsample_bynode': 0.6708514597925845, 'reg_lambda': 2.1978833274397678, 'n_estimators': 1148, 'learning_rate': 0.10043218896497326}. Best is trial 31 with value: 0.6665159876070601.\n",
      "[I 2023-10-19 02:51:10,774] Trial 48 finished with value: 0.6631145716537615 and parameters: {'max_depth': 5, 'colsample_bynode': 0.7139600059316576, 'reg_lambda': 2.5360464904786895, 'n_estimators': 348, 'learning_rate': 0.08382197565928895}. Best is trial 31 with value: 0.6665159876070601.\n",
      "[I 2023-10-19 02:52:09,813] Trial 49 finished with value: 0.6572200135556062 and parameters: {'max_depth': 14, 'colsample_bynode': 0.7470680882832871, 'reg_lambda': 2.810228571817696, 'n_estimators': 505, 'learning_rate': 0.0653493146207422}. Best is trial 31 with value: 0.6665159876070601.\n"
     ]
    }
   ],
   "source": [
    "K = 5   # Kfold 수\n",
    "opt_func = partial(optimizer, X=X, y=y, K=K)\n",
    "\n",
    "study = optuna.create_study(direction=\"maximize\") # 최소/최대 어느 방향의 최적값을 구할 건지.\n",
    "study.optimize(opt_func, n_trials=50)"
   ]
  },
  {
   "cell_type": "markdown",
   "source": [],
   "metadata": {
    "collapsed": false
   }
  },
  {
   "cell_type": "code",
   "execution_count": 66,
   "id": "72d0a118",
   "metadata": {
    "colab": {
     "base_uri": "https://localhost:8080/",
     "height": 1000
    },
    "id": "72d0a118",
    "outputId": "978d6a99-5370-4b0e-c5f7-bb38fdde033b"
   },
   "outputs": [
    {
     "data": {
      "text/plain": "    number     value             datetime_start          datetime_complete  \\\n0        0  0.661971 2023-10-19 02:27:05.752472 2023-10-19 02:27:34.106394   \n1        1  0.655567 2023-10-19 02:27:34.108527 2023-10-19 02:27:56.684503   \n2        2  0.649123 2023-10-19 02:27:56.686503 2023-10-19 02:30:20.937871   \n3        3  0.650949 2023-10-19 02:30:20.940719 2023-10-19 02:31:30.174115   \n4        4  0.649153 2023-10-19 02:31:30.175698 2023-10-19 02:32:57.376025   \n5        5  0.653892 2023-10-19 02:32:57.378173 2023-10-19 02:33:55.986407   \n6        6  0.653542 2023-10-19 02:33:55.989473 2023-10-19 02:34:39.434516   \n7        7  0.652430 2023-10-19 02:34:39.436957 2023-10-19 02:35:21.631533   \n8        8  0.652852 2023-10-19 02:35:21.633534 2023-10-19 02:36:06.475640   \n9        9  0.649374 2023-10-19 02:36:06.477809 2023-10-19 02:37:49.296168   \n10      10  0.660708 2023-10-19 02:37:49.298575 2023-10-19 02:38:43.839126   \n11      11  0.661256 2023-10-19 02:38:43.841407 2023-10-19 02:39:40.288055   \n12      12  0.658085 2023-10-19 02:39:40.290903 2023-10-19 02:40:36.172917   \n13      13  0.656482 2023-10-19 02:40:36.174933 2023-10-19 02:42:10.028405   \n14      14  0.665464 2023-10-19 02:42:10.029404 2023-10-19 02:42:17.078692   \n15      15  0.665448 2023-10-19 02:42:17.080711 2023-10-19 02:42:22.896468   \n16      16  0.665505 2023-10-19 02:42:22.898077 2023-10-19 02:42:28.463523   \n17      17  0.666343 2023-10-19 02:42:28.465523 2023-10-19 02:42:32.835997   \n18      18  0.658753 2023-10-19 02:42:32.838789 2023-10-19 02:42:50.050087   \n19      19  0.661369 2023-10-19 02:42:50.052087 2023-10-19 02:43:06.853448   \n20      20  0.662328 2023-10-19 02:43:06.855660 2023-10-19 02:43:19.442723   \n21      21  0.666355 2023-10-19 02:43:19.443722 2023-10-19 02:43:23.414090   \n22      22  0.665748 2023-10-19 02:43:23.416532 2023-10-19 02:43:27.808977   \n23      23  0.657471 2023-10-19 02:43:27.810963 2023-10-19 02:43:44.987446   \n24      24  0.664640 2023-10-19 02:43:44.990024 2023-10-19 02:43:50.125619   \n25      25  0.663051 2023-10-19 02:43:50.126620 2023-10-19 02:44:03.385721   \n26      26  0.660810 2023-10-19 02:44:03.387721 2023-10-19 02:44:18.521822   \n27      27  0.657709 2023-10-19 02:44:18.523822 2023-10-19 02:44:50.433757   \n28      28  0.661044 2023-10-19 02:44:50.435445 2023-10-19 02:44:58.337805   \n29      29  0.663498 2023-10-19 02:44:58.339805 2023-10-19 02:45:13.485914   \n30      30  0.657287 2023-10-19 02:45:13.488369 2023-10-19 02:45:43.673339   \n31      31  0.666516 2023-10-19 02:45:43.675494 2023-10-19 02:45:47.250868   \n32      32  0.666020 2023-10-19 02:45:47.252868 2023-10-19 02:45:50.643138   \n33      33  0.664958 2023-10-19 02:45:50.645162 2023-10-19 02:46:02.984025   \n34      34  0.659223 2023-10-19 02:46:02.986022 2023-10-19 02:46:33.295792   \n35      35  0.663241 2023-10-19 02:46:33.297792 2023-10-19 02:46:42.763891   \n36      36  0.658531 2023-10-19 02:46:42.766045 2023-10-19 02:47:27.658610   \n37      37  0.660125 2023-10-19 02:47:27.660610 2023-10-19 02:47:42.205479   \n38      38  0.664922 2023-10-19 02:47:42.207683 2023-10-19 02:47:47.246605   \n39      39  0.657072 2023-10-19 02:47:47.248605 2023-10-19 02:48:36.842144   \n40      40  0.660191 2023-10-19 02:48:36.844145 2023-10-19 02:48:57.818988   \n41      41  0.665653 2023-10-19 02:48:57.820568 2023-10-19 02:49:01.824454   \n42      42  0.655613 2023-10-19 02:49:01.827054 2023-10-19 02:49:52.684059   \n43      43  0.664938 2023-10-19 02:49:52.686059 2023-10-19 02:49:58.532498   \n44      44  0.661337 2023-10-19 02:49:58.534497 2023-10-19 02:50:11.765294   \n45      45  0.665137 2023-10-19 02:50:11.766312 2023-10-19 02:50:19.060929   \n46      46  0.665349 2023-10-19 02:50:19.062946 2023-10-19 02:50:23.330131   \n47      47  0.657687 2023-10-19 02:50:23.332132 2023-10-19 02:50:58.822431   \n48      48  0.663115 2023-10-19 02:50:58.824436 2023-10-19 02:51:10.773824   \n49      49  0.657220 2023-10-19 02:51:10.775824 2023-10-19 02:52:09.813223   \n\n                 duration  params_colsample_bynode  params_learning_rate  \\\n0  0 days 00:00:28.353922                 0.737781              0.022254   \n1  0 days 00:00:22.575976                 0.660560              0.286638   \n2  0 days 00:02:24.251368                 0.726486              0.192069   \n3  0 days 00:01:09.233396                 0.568987              0.284471   \n4  0 days 00:01:27.200327                 0.639058              0.250407   \n5  0 days 00:00:58.608234                 0.713914              0.139013   \n6  0 days 00:00:43.445043                 0.668630              0.211455   \n7  0 days 00:00:42.194576                 0.762524              0.205288   \n8  0 days 00:00:44.842106                 0.629149              0.239154   \n9  0 days 00:01:42.818359                 0.638776              0.128848   \n10 0 days 00:00:54.540551                 0.798897              0.022782   \n11 0 days 00:00:56.446648                 0.782441              0.016794   \n12 0 days 00:00:55.882014                 0.795238              0.032899   \n13 0 days 00:01:33.853472                 0.744443              0.054008   \n14 0 days 00:00:07.049288                 0.698506              0.079570   \n15 0 days 00:00:05.815757                 0.701601              0.090086   \n16 0 days 00:00:05.565446                 0.697068              0.091187   \n17 0 days 00:00:04.370474                 0.692816              0.079203   \n18 0 days 00:00:17.211298                 0.513723              0.120332   \n19 0 days 00:00:16.801361                 0.673987              0.095178   \n20 0 days 00:00:12.587063                 0.605709              0.064812   \n21 0 days 00:00:03.970368                 0.696363              0.085363   \n22 0 days 00:00:04.392445                 0.688944              0.106069   \n23 0 days 00:00:17.176483                 0.677047              0.160501   \n24 0 days 00:00:05.135595                 0.722701              0.106123   \n25 0 days 00:00:13.259101                 0.686557              0.058110   \n26 0 days 00:00:15.134101                 0.753162              0.115761   \n27 0 days 00:00:31.909935                 0.710281              0.074110   \n28 0 days 00:00:07.902360                 0.652720              0.147880   \n29 0 days 00:00:15.146109                 0.734496              0.050185   \n30 0 days 00:00:30.184970                 0.683662              0.109048   \n31 0 days 00:00:03.575374                 0.696119              0.097867   \n32 0 days 00:00:03.390270                 0.721077              0.079917   \n33 0 days 00:00:12.338863                 0.727318              0.040816   \n34 0 days 00:00:30.309770                 0.714382              0.074763   \n35 0 days 00:00:09.466099                 0.661170              0.071340   \n36 0 days 00:00:44.892565                 0.736627              0.040889   \n37 0 days 00:00:14.544869                 0.708197              0.128513   \n38 0 days 00:00:05.038922                 0.664161              0.010552   \n39 0 days 00:00:49.593539                 0.762062              0.084745   \n40 0 days 00:00:20.974843                 0.716379              0.060993   \n41 0 days 00:00:04.003886                 0.688238              0.089198   \n42 0 days 00:00:50.857005                 0.692651              0.099542   \n43 0 days 00:00:05.846439                 0.677083              0.115186   \n44 0 days 00:00:13.230797                 0.728121              0.102529   \n45 0 days 00:00:07.294617                 0.703410              0.076753   \n46 0 days 00:00:04.267185                 0.653351              0.135360   \n47 0 days 00:00:35.490299                 0.670851              0.100432   \n48 0 days 00:00:11.949388                 0.713960              0.083822   \n49 0 days 00:00:59.037399                 0.747068              0.065349   \n\n    params_max_depth  params_n_estimators  params_reg_lambda     state  \n0                  6                 1347           0.705245  COMPLETE  \n1                 11                  342           4.849864  COMPLETE  \n2                 13                 1909           4.343899  COMPLETE  \n3                  7                 1821           4.901384  COMPLETE  \n4                 12                 1313           1.334971  COMPLETE  \n5                  7                 1544           0.987812  COMPLETE  \n6                  6                 1388           3.569923  COMPLETE  \n7                  6                 1425           2.160020  COMPLETE  \n8                 12                  577           4.684517  COMPLETE  \n9                 13                 1532           0.765550  COMPLETE  \n10                 9                  866           2.183359  COMPLETE  \n11                 9                  893           1.960707  COMPLETE  \n12                 9                  991           0.524918  COMPLETE  \n13                15                  796           1.516062  COMPLETE  \n14                 5                  150           1.825764  COMPLETE  \n15                 5                  104           2.867313  COMPLETE  \n16                 5                  116           2.797131  COMPLETE  \n17                 5                   53           2.778970  COMPLETE  \n18                 8                  372           2.806839  COMPLETE  \n19                 5                  579           3.358834  COMPLETE  \n20                 7                  312           2.542172  COMPLETE  \n21                 5                   59           3.172197  COMPLETE  \n22                 5                   87           3.205759  COMPLETE  \n23                 6                  542           3.336671  COMPLETE  \n24                 8                   57           3.974671  COMPLETE  \n25                 7                  262           3.130115  COMPLETE  \n26                 5                  468           3.761833  COMPLETE  \n27                 8                  735           2.509086  COMPLETE  \n28                 6                  238           3.268496  COMPLETE  \n29                 6                  442           3.062580  COMPLETE  \n30                15                  203           3.660721  COMPLETE  \n31                 5                   51           2.567724  COMPLETE  \n32                 5                   54           2.508180  COMPLETE  \n33                 6                  307           2.506490  COMPLETE  \n34                 5                 1191           2.393423  COMPLETE  \n35                 7                  197           2.937682  COMPLETE  \n36                10                  687           2.660081  COMPLETE  \n37                 6                  407           2.982775  COMPLETE  \n38                 7                   63           2.294980  COMPLETE  \n39                 5                 1883           2.004288  COMPLETE  \n40                11                  219           2.671290  COMPLETE  \n41                 5                   69           3.257884  COMPLETE  \n42                 6                 1728           2.716086  COMPLETE  \n43                 5                  141           2.329057  COMPLETE  \n44                 6                  304           3.546419  COMPLETE  \n45                 5                  184           3.066324  COMPLETE  \n46                 7                   50           2.972934  COMPLETE  \n47                 6                 1148           2.197883  COMPLETE  \n48                 5                  348           2.536046  COMPLETE  \n49                14                  505           2.810229  COMPLETE  ",
      "text/html": "<div>\n<style scoped>\n    .dataframe tbody tr th:only-of-type {\n        vertical-align: middle;\n    }\n\n    .dataframe tbody tr th {\n        vertical-align: top;\n    }\n\n    .dataframe thead th {\n        text-align: right;\n    }\n</style>\n<table border=\"1\" class=\"dataframe\">\n  <thead>\n    <tr style=\"text-align: right;\">\n      <th></th>\n      <th>number</th>\n      <th>value</th>\n      <th>datetime_start</th>\n      <th>datetime_complete</th>\n      <th>duration</th>\n      <th>params_colsample_bynode</th>\n      <th>params_learning_rate</th>\n      <th>params_max_depth</th>\n      <th>params_n_estimators</th>\n      <th>params_reg_lambda</th>\n      <th>state</th>\n    </tr>\n  </thead>\n  <tbody>\n    <tr>\n      <th>0</th>\n      <td>0</td>\n      <td>0.661971</td>\n      <td>2023-10-19 02:27:05.752472</td>\n      <td>2023-10-19 02:27:34.106394</td>\n      <td>0 days 00:00:28.353922</td>\n      <td>0.737781</td>\n      <td>0.022254</td>\n      <td>6</td>\n      <td>1347</td>\n      <td>0.705245</td>\n      <td>COMPLETE</td>\n    </tr>\n    <tr>\n      <th>1</th>\n      <td>1</td>\n      <td>0.655567</td>\n      <td>2023-10-19 02:27:34.108527</td>\n      <td>2023-10-19 02:27:56.684503</td>\n      <td>0 days 00:00:22.575976</td>\n      <td>0.660560</td>\n      <td>0.286638</td>\n      <td>11</td>\n      <td>342</td>\n      <td>4.849864</td>\n      <td>COMPLETE</td>\n    </tr>\n    <tr>\n      <th>2</th>\n      <td>2</td>\n      <td>0.649123</td>\n      <td>2023-10-19 02:27:56.686503</td>\n      <td>2023-10-19 02:30:20.937871</td>\n      <td>0 days 00:02:24.251368</td>\n      <td>0.726486</td>\n      <td>0.192069</td>\n      <td>13</td>\n      <td>1909</td>\n      <td>4.343899</td>\n      <td>COMPLETE</td>\n    </tr>\n    <tr>\n      <th>3</th>\n      <td>3</td>\n      <td>0.650949</td>\n      <td>2023-10-19 02:30:20.940719</td>\n      <td>2023-10-19 02:31:30.174115</td>\n      <td>0 days 00:01:09.233396</td>\n      <td>0.568987</td>\n      <td>0.284471</td>\n      <td>7</td>\n      <td>1821</td>\n      <td>4.901384</td>\n      <td>COMPLETE</td>\n    </tr>\n    <tr>\n      <th>4</th>\n      <td>4</td>\n      <td>0.649153</td>\n      <td>2023-10-19 02:31:30.175698</td>\n      <td>2023-10-19 02:32:57.376025</td>\n      <td>0 days 00:01:27.200327</td>\n      <td>0.639058</td>\n      <td>0.250407</td>\n      <td>12</td>\n      <td>1313</td>\n      <td>1.334971</td>\n      <td>COMPLETE</td>\n    </tr>\n    <tr>\n      <th>5</th>\n      <td>5</td>\n      <td>0.653892</td>\n      <td>2023-10-19 02:32:57.378173</td>\n      <td>2023-10-19 02:33:55.986407</td>\n      <td>0 days 00:00:58.608234</td>\n      <td>0.713914</td>\n      <td>0.139013</td>\n      <td>7</td>\n      <td>1544</td>\n      <td>0.987812</td>\n      <td>COMPLETE</td>\n    </tr>\n    <tr>\n      <th>6</th>\n      <td>6</td>\n      <td>0.653542</td>\n      <td>2023-10-19 02:33:55.989473</td>\n      <td>2023-10-19 02:34:39.434516</td>\n      <td>0 days 00:00:43.445043</td>\n      <td>0.668630</td>\n      <td>0.211455</td>\n      <td>6</td>\n      <td>1388</td>\n      <td>3.569923</td>\n      <td>COMPLETE</td>\n    </tr>\n    <tr>\n      <th>7</th>\n      <td>7</td>\n      <td>0.652430</td>\n      <td>2023-10-19 02:34:39.436957</td>\n      <td>2023-10-19 02:35:21.631533</td>\n      <td>0 days 00:00:42.194576</td>\n      <td>0.762524</td>\n      <td>0.205288</td>\n      <td>6</td>\n      <td>1425</td>\n      <td>2.160020</td>\n      <td>COMPLETE</td>\n    </tr>\n    <tr>\n      <th>8</th>\n      <td>8</td>\n      <td>0.652852</td>\n      <td>2023-10-19 02:35:21.633534</td>\n      <td>2023-10-19 02:36:06.475640</td>\n      <td>0 days 00:00:44.842106</td>\n      <td>0.629149</td>\n      <td>0.239154</td>\n      <td>12</td>\n      <td>577</td>\n      <td>4.684517</td>\n      <td>COMPLETE</td>\n    </tr>\n    <tr>\n      <th>9</th>\n      <td>9</td>\n      <td>0.649374</td>\n      <td>2023-10-19 02:36:06.477809</td>\n      <td>2023-10-19 02:37:49.296168</td>\n      <td>0 days 00:01:42.818359</td>\n      <td>0.638776</td>\n      <td>0.128848</td>\n      <td>13</td>\n      <td>1532</td>\n      <td>0.765550</td>\n      <td>COMPLETE</td>\n    </tr>\n    <tr>\n      <th>10</th>\n      <td>10</td>\n      <td>0.660708</td>\n      <td>2023-10-19 02:37:49.298575</td>\n      <td>2023-10-19 02:38:43.839126</td>\n      <td>0 days 00:00:54.540551</td>\n      <td>0.798897</td>\n      <td>0.022782</td>\n      <td>9</td>\n      <td>866</td>\n      <td>2.183359</td>\n      <td>COMPLETE</td>\n    </tr>\n    <tr>\n      <th>11</th>\n      <td>11</td>\n      <td>0.661256</td>\n      <td>2023-10-19 02:38:43.841407</td>\n      <td>2023-10-19 02:39:40.288055</td>\n      <td>0 days 00:00:56.446648</td>\n      <td>0.782441</td>\n      <td>0.016794</td>\n      <td>9</td>\n      <td>893</td>\n      <td>1.960707</td>\n      <td>COMPLETE</td>\n    </tr>\n    <tr>\n      <th>12</th>\n      <td>12</td>\n      <td>0.658085</td>\n      <td>2023-10-19 02:39:40.290903</td>\n      <td>2023-10-19 02:40:36.172917</td>\n      <td>0 days 00:00:55.882014</td>\n      <td>0.795238</td>\n      <td>0.032899</td>\n      <td>9</td>\n      <td>991</td>\n      <td>0.524918</td>\n      <td>COMPLETE</td>\n    </tr>\n    <tr>\n      <th>13</th>\n      <td>13</td>\n      <td>0.656482</td>\n      <td>2023-10-19 02:40:36.174933</td>\n      <td>2023-10-19 02:42:10.028405</td>\n      <td>0 days 00:01:33.853472</td>\n      <td>0.744443</td>\n      <td>0.054008</td>\n      <td>15</td>\n      <td>796</td>\n      <td>1.516062</td>\n      <td>COMPLETE</td>\n    </tr>\n    <tr>\n      <th>14</th>\n      <td>14</td>\n      <td>0.665464</td>\n      <td>2023-10-19 02:42:10.029404</td>\n      <td>2023-10-19 02:42:17.078692</td>\n      <td>0 days 00:00:07.049288</td>\n      <td>0.698506</td>\n      <td>0.079570</td>\n      <td>5</td>\n      <td>150</td>\n      <td>1.825764</td>\n      <td>COMPLETE</td>\n    </tr>\n    <tr>\n      <th>15</th>\n      <td>15</td>\n      <td>0.665448</td>\n      <td>2023-10-19 02:42:17.080711</td>\n      <td>2023-10-19 02:42:22.896468</td>\n      <td>0 days 00:00:05.815757</td>\n      <td>0.701601</td>\n      <td>0.090086</td>\n      <td>5</td>\n      <td>104</td>\n      <td>2.867313</td>\n      <td>COMPLETE</td>\n    </tr>\n    <tr>\n      <th>16</th>\n      <td>16</td>\n      <td>0.665505</td>\n      <td>2023-10-19 02:42:22.898077</td>\n      <td>2023-10-19 02:42:28.463523</td>\n      <td>0 days 00:00:05.565446</td>\n      <td>0.697068</td>\n      <td>0.091187</td>\n      <td>5</td>\n      <td>116</td>\n      <td>2.797131</td>\n      <td>COMPLETE</td>\n    </tr>\n    <tr>\n      <th>17</th>\n      <td>17</td>\n      <td>0.666343</td>\n      <td>2023-10-19 02:42:28.465523</td>\n      <td>2023-10-19 02:42:32.835997</td>\n      <td>0 days 00:00:04.370474</td>\n      <td>0.692816</td>\n      <td>0.079203</td>\n      <td>5</td>\n      <td>53</td>\n      <td>2.778970</td>\n      <td>COMPLETE</td>\n    </tr>\n    <tr>\n      <th>18</th>\n      <td>18</td>\n      <td>0.658753</td>\n      <td>2023-10-19 02:42:32.838789</td>\n      <td>2023-10-19 02:42:50.050087</td>\n      <td>0 days 00:00:17.211298</td>\n      <td>0.513723</td>\n      <td>0.120332</td>\n      <td>8</td>\n      <td>372</td>\n      <td>2.806839</td>\n      <td>COMPLETE</td>\n    </tr>\n    <tr>\n      <th>19</th>\n      <td>19</td>\n      <td>0.661369</td>\n      <td>2023-10-19 02:42:50.052087</td>\n      <td>2023-10-19 02:43:06.853448</td>\n      <td>0 days 00:00:16.801361</td>\n      <td>0.673987</td>\n      <td>0.095178</td>\n      <td>5</td>\n      <td>579</td>\n      <td>3.358834</td>\n      <td>COMPLETE</td>\n    </tr>\n    <tr>\n      <th>20</th>\n      <td>20</td>\n      <td>0.662328</td>\n      <td>2023-10-19 02:43:06.855660</td>\n      <td>2023-10-19 02:43:19.442723</td>\n      <td>0 days 00:00:12.587063</td>\n      <td>0.605709</td>\n      <td>0.064812</td>\n      <td>7</td>\n      <td>312</td>\n      <td>2.542172</td>\n      <td>COMPLETE</td>\n    </tr>\n    <tr>\n      <th>21</th>\n      <td>21</td>\n      <td>0.666355</td>\n      <td>2023-10-19 02:43:19.443722</td>\n      <td>2023-10-19 02:43:23.414090</td>\n      <td>0 days 00:00:03.970368</td>\n      <td>0.696363</td>\n      <td>0.085363</td>\n      <td>5</td>\n      <td>59</td>\n      <td>3.172197</td>\n      <td>COMPLETE</td>\n    </tr>\n    <tr>\n      <th>22</th>\n      <td>22</td>\n      <td>0.665748</td>\n      <td>2023-10-19 02:43:23.416532</td>\n      <td>2023-10-19 02:43:27.808977</td>\n      <td>0 days 00:00:04.392445</td>\n      <td>0.688944</td>\n      <td>0.106069</td>\n      <td>5</td>\n      <td>87</td>\n      <td>3.205759</td>\n      <td>COMPLETE</td>\n    </tr>\n    <tr>\n      <th>23</th>\n      <td>23</td>\n      <td>0.657471</td>\n      <td>2023-10-19 02:43:27.810963</td>\n      <td>2023-10-19 02:43:44.987446</td>\n      <td>0 days 00:00:17.176483</td>\n      <td>0.677047</td>\n      <td>0.160501</td>\n      <td>6</td>\n      <td>542</td>\n      <td>3.336671</td>\n      <td>COMPLETE</td>\n    </tr>\n    <tr>\n      <th>24</th>\n      <td>24</td>\n      <td>0.664640</td>\n      <td>2023-10-19 02:43:44.990024</td>\n      <td>2023-10-19 02:43:50.125619</td>\n      <td>0 days 00:00:05.135595</td>\n      <td>0.722701</td>\n      <td>0.106123</td>\n      <td>8</td>\n      <td>57</td>\n      <td>3.974671</td>\n      <td>COMPLETE</td>\n    </tr>\n    <tr>\n      <th>25</th>\n      <td>25</td>\n      <td>0.663051</td>\n      <td>2023-10-19 02:43:50.126620</td>\n      <td>2023-10-19 02:44:03.385721</td>\n      <td>0 days 00:00:13.259101</td>\n      <td>0.686557</td>\n      <td>0.058110</td>\n      <td>7</td>\n      <td>262</td>\n      <td>3.130115</td>\n      <td>COMPLETE</td>\n    </tr>\n    <tr>\n      <th>26</th>\n      <td>26</td>\n      <td>0.660810</td>\n      <td>2023-10-19 02:44:03.387721</td>\n      <td>2023-10-19 02:44:18.521822</td>\n      <td>0 days 00:00:15.134101</td>\n      <td>0.753162</td>\n      <td>0.115761</td>\n      <td>5</td>\n      <td>468</td>\n      <td>3.761833</td>\n      <td>COMPLETE</td>\n    </tr>\n    <tr>\n      <th>27</th>\n      <td>27</td>\n      <td>0.657709</td>\n      <td>2023-10-19 02:44:18.523822</td>\n      <td>2023-10-19 02:44:50.433757</td>\n      <td>0 days 00:00:31.909935</td>\n      <td>0.710281</td>\n      <td>0.074110</td>\n      <td>8</td>\n      <td>735</td>\n      <td>2.509086</td>\n      <td>COMPLETE</td>\n    </tr>\n    <tr>\n      <th>28</th>\n      <td>28</td>\n      <td>0.661044</td>\n      <td>2023-10-19 02:44:50.435445</td>\n      <td>2023-10-19 02:44:58.337805</td>\n      <td>0 days 00:00:07.902360</td>\n      <td>0.652720</td>\n      <td>0.147880</td>\n      <td>6</td>\n      <td>238</td>\n      <td>3.268496</td>\n      <td>COMPLETE</td>\n    </tr>\n    <tr>\n      <th>29</th>\n      <td>29</td>\n      <td>0.663498</td>\n      <td>2023-10-19 02:44:58.339805</td>\n      <td>2023-10-19 02:45:13.485914</td>\n      <td>0 days 00:00:15.146109</td>\n      <td>0.734496</td>\n      <td>0.050185</td>\n      <td>6</td>\n      <td>442</td>\n      <td>3.062580</td>\n      <td>COMPLETE</td>\n    </tr>\n    <tr>\n      <th>30</th>\n      <td>30</td>\n      <td>0.657287</td>\n      <td>2023-10-19 02:45:13.488369</td>\n      <td>2023-10-19 02:45:43.673339</td>\n      <td>0 days 00:00:30.184970</td>\n      <td>0.683662</td>\n      <td>0.109048</td>\n      <td>15</td>\n      <td>203</td>\n      <td>3.660721</td>\n      <td>COMPLETE</td>\n    </tr>\n    <tr>\n      <th>31</th>\n      <td>31</td>\n      <td>0.666516</td>\n      <td>2023-10-19 02:45:43.675494</td>\n      <td>2023-10-19 02:45:47.250868</td>\n      <td>0 days 00:00:03.575374</td>\n      <td>0.696119</td>\n      <td>0.097867</td>\n      <td>5</td>\n      <td>51</td>\n      <td>2.567724</td>\n      <td>COMPLETE</td>\n    </tr>\n    <tr>\n      <th>32</th>\n      <td>32</td>\n      <td>0.666020</td>\n      <td>2023-10-19 02:45:47.252868</td>\n      <td>2023-10-19 02:45:50.643138</td>\n      <td>0 days 00:00:03.390270</td>\n      <td>0.721077</td>\n      <td>0.079917</td>\n      <td>5</td>\n      <td>54</td>\n      <td>2.508180</td>\n      <td>COMPLETE</td>\n    </tr>\n    <tr>\n      <th>33</th>\n      <td>33</td>\n      <td>0.664958</td>\n      <td>2023-10-19 02:45:50.645162</td>\n      <td>2023-10-19 02:46:02.984025</td>\n      <td>0 days 00:00:12.338863</td>\n      <td>0.727318</td>\n      <td>0.040816</td>\n      <td>6</td>\n      <td>307</td>\n      <td>2.506490</td>\n      <td>COMPLETE</td>\n    </tr>\n    <tr>\n      <th>34</th>\n      <td>34</td>\n      <td>0.659223</td>\n      <td>2023-10-19 02:46:02.986022</td>\n      <td>2023-10-19 02:46:33.295792</td>\n      <td>0 days 00:00:30.309770</td>\n      <td>0.714382</td>\n      <td>0.074763</td>\n      <td>5</td>\n      <td>1191</td>\n      <td>2.393423</td>\n      <td>COMPLETE</td>\n    </tr>\n    <tr>\n      <th>35</th>\n      <td>35</td>\n      <td>0.663241</td>\n      <td>2023-10-19 02:46:33.297792</td>\n      <td>2023-10-19 02:46:42.763891</td>\n      <td>0 days 00:00:09.466099</td>\n      <td>0.661170</td>\n      <td>0.071340</td>\n      <td>7</td>\n      <td>197</td>\n      <td>2.937682</td>\n      <td>COMPLETE</td>\n    </tr>\n    <tr>\n      <th>36</th>\n      <td>36</td>\n      <td>0.658531</td>\n      <td>2023-10-19 02:46:42.766045</td>\n      <td>2023-10-19 02:47:27.658610</td>\n      <td>0 days 00:00:44.892565</td>\n      <td>0.736627</td>\n      <td>0.040889</td>\n      <td>10</td>\n      <td>687</td>\n      <td>2.660081</td>\n      <td>COMPLETE</td>\n    </tr>\n    <tr>\n      <th>37</th>\n      <td>37</td>\n      <td>0.660125</td>\n      <td>2023-10-19 02:47:27.660610</td>\n      <td>2023-10-19 02:47:42.205479</td>\n      <td>0 days 00:00:14.544869</td>\n      <td>0.708197</td>\n      <td>0.128513</td>\n      <td>6</td>\n      <td>407</td>\n      <td>2.982775</td>\n      <td>COMPLETE</td>\n    </tr>\n    <tr>\n      <th>38</th>\n      <td>38</td>\n      <td>0.664922</td>\n      <td>2023-10-19 02:47:42.207683</td>\n      <td>2023-10-19 02:47:47.246605</td>\n      <td>0 days 00:00:05.038922</td>\n      <td>0.664161</td>\n      <td>0.010552</td>\n      <td>7</td>\n      <td>63</td>\n      <td>2.294980</td>\n      <td>COMPLETE</td>\n    </tr>\n    <tr>\n      <th>39</th>\n      <td>39</td>\n      <td>0.657072</td>\n      <td>2023-10-19 02:47:47.248605</td>\n      <td>2023-10-19 02:48:36.842144</td>\n      <td>0 days 00:00:49.593539</td>\n      <td>0.762062</td>\n      <td>0.084745</td>\n      <td>5</td>\n      <td>1883</td>\n      <td>2.004288</td>\n      <td>COMPLETE</td>\n    </tr>\n    <tr>\n      <th>40</th>\n      <td>40</td>\n      <td>0.660191</td>\n      <td>2023-10-19 02:48:36.844145</td>\n      <td>2023-10-19 02:48:57.818988</td>\n      <td>0 days 00:00:20.974843</td>\n      <td>0.716379</td>\n      <td>0.060993</td>\n      <td>11</td>\n      <td>219</td>\n      <td>2.671290</td>\n      <td>COMPLETE</td>\n    </tr>\n    <tr>\n      <th>41</th>\n      <td>41</td>\n      <td>0.665653</td>\n      <td>2023-10-19 02:48:57.820568</td>\n      <td>2023-10-19 02:49:01.824454</td>\n      <td>0 days 00:00:04.003886</td>\n      <td>0.688238</td>\n      <td>0.089198</td>\n      <td>5</td>\n      <td>69</td>\n      <td>3.257884</td>\n      <td>COMPLETE</td>\n    </tr>\n    <tr>\n      <th>42</th>\n      <td>42</td>\n      <td>0.655613</td>\n      <td>2023-10-19 02:49:01.827054</td>\n      <td>2023-10-19 02:49:52.684059</td>\n      <td>0 days 00:00:50.857005</td>\n      <td>0.692651</td>\n      <td>0.099542</td>\n      <td>6</td>\n      <td>1728</td>\n      <td>2.716086</td>\n      <td>COMPLETE</td>\n    </tr>\n    <tr>\n      <th>43</th>\n      <td>43</td>\n      <td>0.664938</td>\n      <td>2023-10-19 02:49:52.686059</td>\n      <td>2023-10-19 02:49:58.532498</td>\n      <td>0 days 00:00:05.846439</td>\n      <td>0.677083</td>\n      <td>0.115186</td>\n      <td>5</td>\n      <td>141</td>\n      <td>2.329057</td>\n      <td>COMPLETE</td>\n    </tr>\n    <tr>\n      <th>44</th>\n      <td>44</td>\n      <td>0.661337</td>\n      <td>2023-10-19 02:49:58.534497</td>\n      <td>2023-10-19 02:50:11.765294</td>\n      <td>0 days 00:00:13.230797</td>\n      <td>0.728121</td>\n      <td>0.102529</td>\n      <td>6</td>\n      <td>304</td>\n      <td>3.546419</td>\n      <td>COMPLETE</td>\n    </tr>\n    <tr>\n      <th>45</th>\n      <td>45</td>\n      <td>0.665137</td>\n      <td>2023-10-19 02:50:11.766312</td>\n      <td>2023-10-19 02:50:19.060929</td>\n      <td>0 days 00:00:07.294617</td>\n      <td>0.703410</td>\n      <td>0.076753</td>\n      <td>5</td>\n      <td>184</td>\n      <td>3.066324</td>\n      <td>COMPLETE</td>\n    </tr>\n    <tr>\n      <th>46</th>\n      <td>46</td>\n      <td>0.665349</td>\n      <td>2023-10-19 02:50:19.062946</td>\n      <td>2023-10-19 02:50:23.330131</td>\n      <td>0 days 00:00:04.267185</td>\n      <td>0.653351</td>\n      <td>0.135360</td>\n      <td>7</td>\n      <td>50</td>\n      <td>2.972934</td>\n      <td>COMPLETE</td>\n    </tr>\n    <tr>\n      <th>47</th>\n      <td>47</td>\n      <td>0.657687</td>\n      <td>2023-10-19 02:50:23.332132</td>\n      <td>2023-10-19 02:50:58.822431</td>\n      <td>0 days 00:00:35.490299</td>\n      <td>0.670851</td>\n      <td>0.100432</td>\n      <td>6</td>\n      <td>1148</td>\n      <td>2.197883</td>\n      <td>COMPLETE</td>\n    </tr>\n    <tr>\n      <th>48</th>\n      <td>48</td>\n      <td>0.663115</td>\n      <td>2023-10-19 02:50:58.824436</td>\n      <td>2023-10-19 02:51:10.773824</td>\n      <td>0 days 00:00:11.949388</td>\n      <td>0.713960</td>\n      <td>0.083822</td>\n      <td>5</td>\n      <td>348</td>\n      <td>2.536046</td>\n      <td>COMPLETE</td>\n    </tr>\n    <tr>\n      <th>49</th>\n      <td>49</td>\n      <td>0.657220</td>\n      <td>2023-10-19 02:51:10.775824</td>\n      <td>2023-10-19 02:52:09.813223</td>\n      <td>0 days 00:00:59.037399</td>\n      <td>0.747068</td>\n      <td>0.065349</td>\n      <td>14</td>\n      <td>505</td>\n      <td>2.810229</td>\n      <td>COMPLETE</td>\n    </tr>\n  </tbody>\n</table>\n</div>"
     },
     "execution_count": 66,
     "metadata": {},
     "output_type": "execute_result"
    }
   ],
   "source": [
    "# optuna가 시도했던 모든 실험 관련 데이터\n",
    "study.trials_dataframe()"
   ]
  },
  {
   "cell_type": "code",
   "execution_count": 67,
   "id": "a805da05",
   "metadata": {
    "colab": {
     "base_uri": "https://localhost:8080/"
    },
    "id": "a805da05",
    "outputId": "bcd1a494-0422-474c-d9e8-3e48cddef25a"
   },
   "outputs": [
    {
     "name": "stdout",
     "output_type": "stream",
     "text": [
      "Best Score: 0.6665\n",
      "Best params:  {'max_depth': 5, 'colsample_bynode': 0.6961189200064242, 'reg_lambda': 2.5677242247002603, 'n_estimators': 51, 'learning_rate': 0.09786684812197355}\n"
     ]
    }
   ],
   "source": [
    "print(\"Best Score: %.4f\" % study.best_value) # best score 출력\n",
    "print(\"Best params: \", study.best_trial.params) # best score일 때의 하이퍼파라미터들"
   ]
  },
  {
   "cell_type": "code",
   "execution_count": 68,
   "id": "051ae1eb",
   "metadata": {
    "colab": {
     "base_uri": "https://localhost:8080/",
     "height": 542
    },
    "id": "051ae1eb",
    "outputId": "58266f06-c9df-4dde-cafa-6c5a921f85fe"
   },
   "outputs": [
    {
     "data": {
      "application/vnd.plotly.v1+json": {
       "data": [
        {
         "mode": "markers",
         "name": "Objective Value",
         "x": [
          0,
          1,
          2,
          3,
          4,
          5,
          6,
          7,
          8,
          9,
          10,
          11,
          12,
          13,
          14,
          15,
          16,
          17,
          18,
          19,
          20,
          21,
          22,
          23,
          24,
          25,
          26,
          27,
          28,
          29,
          30,
          31,
          32,
          33,
          34,
          35,
          36,
          37,
          38,
          39,
          40,
          41,
          42,
          43,
          44,
          45,
          46,
          47,
          48,
          49
         ],
         "y": [
          0.6619712621672823,
          0.6555666929575741,
          0.6491230220045756,
          0.6509494077249984,
          0.6491530721268386,
          0.6538924636569087,
          0.6535422213320088,
          0.6524298530756099,
          0.6528524897162475,
          0.6493736334601871,
          0.6607076143903641,
          0.6612563004295436,
          0.6580850198122201,
          0.6564818918578188,
          0.6654637624830145,
          0.6654477721763346,
          0.6655053167883319,
          0.6663432924068997,
          0.6587529000600165,
          0.6613691535437213,
          0.6623278346702526,
          0.6663545105780033,
          0.6657478124771533,
          0.6574712719704385,
          0.6646403088383381,
          0.663051489308587,
          0.6608104706919945,
          0.6577086890424774,
          0.661044004538488,
          0.6634984855621908,
          0.6572865379505455,
          0.6665159876070601,
          0.666020340420431,
          0.6649577017606012,
          0.6592233571938988,
          0.6632413857962847,
          0.6585312691889371,
          0.6601246333905831,
          0.6649224926494158,
          0.6570724863978081,
          0.6601907709855104,
          0.6656533408638594,
          0.6556134931676336,
          0.6649382231549665,
          0.6613369642775304,
          0.6651367311396085,
          0.6653486730795447,
          0.657686639571104,
          0.6631145716537615,
          0.6572200135556062
         ],
         "type": "scatter"
        },
        {
         "mode": "lines",
         "name": "Best Value",
         "x": [
          0,
          1,
          2,
          3,
          4,
          5,
          6,
          7,
          8,
          9,
          10,
          11,
          12,
          13,
          14,
          15,
          16,
          17,
          18,
          19,
          20,
          21,
          22,
          23,
          24,
          25,
          26,
          27,
          28,
          29,
          30,
          31,
          32,
          33,
          34,
          35,
          36,
          37,
          38,
          39,
          40,
          41,
          42,
          43,
          44,
          45,
          46,
          47,
          48,
          49
         ],
         "y": [
          0.6619712621672823,
          0.6619712621672823,
          0.6619712621672823,
          0.6619712621672823,
          0.6619712621672823,
          0.6619712621672823,
          0.6619712621672823,
          0.6619712621672823,
          0.6619712621672823,
          0.6619712621672823,
          0.6619712621672823,
          0.6619712621672823,
          0.6619712621672823,
          0.6619712621672823,
          0.6654637624830145,
          0.6654637624830145,
          0.6655053167883319,
          0.6663432924068997,
          0.6663432924068997,
          0.6663432924068997,
          0.6663432924068997,
          0.6663545105780033,
          0.6663545105780033,
          0.6663545105780033,
          0.6663545105780033,
          0.6663545105780033,
          0.6663545105780033,
          0.6663545105780033,
          0.6663545105780033,
          0.6663545105780033,
          0.6663545105780033,
          0.6665159876070601,
          0.6665159876070601,
          0.6665159876070601,
          0.6665159876070601,
          0.6665159876070601,
          0.6665159876070601,
          0.6665159876070601,
          0.6665159876070601,
          0.6665159876070601,
          0.6665159876070601,
          0.6665159876070601,
          0.6665159876070601,
          0.6665159876070601,
          0.6665159876070601,
          0.6665159876070601,
          0.6665159876070601,
          0.6665159876070601,
          0.6665159876070601,
          0.6665159876070601
         ],
         "type": "scatter"
        },
        {
         "marker": {
          "color": "#cccccc"
         },
         "mode": "markers",
         "name": "Infeasible Trial",
         "showlegend": false,
         "x": [],
         "y": [],
         "type": "scatter"
        }
       ],
       "layout": {
        "title": {
         "text": "Optimization History Plot"
        },
        "xaxis": {
         "title": {
          "text": "Trial"
         }
        },
        "yaxis": {
         "title": {
          "text": "Objective Value"
         }
        },
        "template": {
         "data": {
          "histogram2dcontour": [
           {
            "type": "histogram2dcontour",
            "colorbar": {
             "outlinewidth": 0,
             "ticks": ""
            },
            "colorscale": [
             [
              0.0,
              "#0d0887"
             ],
             [
              0.1111111111111111,
              "#46039f"
             ],
             [
              0.2222222222222222,
              "#7201a8"
             ],
             [
              0.3333333333333333,
              "#9c179e"
             ],
             [
              0.4444444444444444,
              "#bd3786"
             ],
             [
              0.5555555555555556,
              "#d8576b"
             ],
             [
              0.6666666666666666,
              "#ed7953"
             ],
             [
              0.7777777777777778,
              "#fb9f3a"
             ],
             [
              0.8888888888888888,
              "#fdca26"
             ],
             [
              1.0,
              "#f0f921"
             ]
            ]
           }
          ],
          "choropleth": [
           {
            "type": "choropleth",
            "colorbar": {
             "outlinewidth": 0,
             "ticks": ""
            }
           }
          ],
          "histogram2d": [
           {
            "type": "histogram2d",
            "colorbar": {
             "outlinewidth": 0,
             "ticks": ""
            },
            "colorscale": [
             [
              0.0,
              "#0d0887"
             ],
             [
              0.1111111111111111,
              "#46039f"
             ],
             [
              0.2222222222222222,
              "#7201a8"
             ],
             [
              0.3333333333333333,
              "#9c179e"
             ],
             [
              0.4444444444444444,
              "#bd3786"
             ],
             [
              0.5555555555555556,
              "#d8576b"
             ],
             [
              0.6666666666666666,
              "#ed7953"
             ],
             [
              0.7777777777777778,
              "#fb9f3a"
             ],
             [
              0.8888888888888888,
              "#fdca26"
             ],
             [
              1.0,
              "#f0f921"
             ]
            ]
           }
          ],
          "heatmap": [
           {
            "type": "heatmap",
            "colorbar": {
             "outlinewidth": 0,
             "ticks": ""
            },
            "colorscale": [
             [
              0.0,
              "#0d0887"
             ],
             [
              0.1111111111111111,
              "#46039f"
             ],
             [
              0.2222222222222222,
              "#7201a8"
             ],
             [
              0.3333333333333333,
              "#9c179e"
             ],
             [
              0.4444444444444444,
              "#bd3786"
             ],
             [
              0.5555555555555556,
              "#d8576b"
             ],
             [
              0.6666666666666666,
              "#ed7953"
             ],
             [
              0.7777777777777778,
              "#fb9f3a"
             ],
             [
              0.8888888888888888,
              "#fdca26"
             ],
             [
              1.0,
              "#f0f921"
             ]
            ]
           }
          ],
          "heatmapgl": [
           {
            "type": "heatmapgl",
            "colorbar": {
             "outlinewidth": 0,
             "ticks": ""
            },
            "colorscale": [
             [
              0.0,
              "#0d0887"
             ],
             [
              0.1111111111111111,
              "#46039f"
             ],
             [
              0.2222222222222222,
              "#7201a8"
             ],
             [
              0.3333333333333333,
              "#9c179e"
             ],
             [
              0.4444444444444444,
              "#bd3786"
             ],
             [
              0.5555555555555556,
              "#d8576b"
             ],
             [
              0.6666666666666666,
              "#ed7953"
             ],
             [
              0.7777777777777778,
              "#fb9f3a"
             ],
             [
              0.8888888888888888,
              "#fdca26"
             ],
             [
              1.0,
              "#f0f921"
             ]
            ]
           }
          ],
          "contourcarpet": [
           {
            "type": "contourcarpet",
            "colorbar": {
             "outlinewidth": 0,
             "ticks": ""
            }
           }
          ],
          "contour": [
           {
            "type": "contour",
            "colorbar": {
             "outlinewidth": 0,
             "ticks": ""
            },
            "colorscale": [
             [
              0.0,
              "#0d0887"
             ],
             [
              0.1111111111111111,
              "#46039f"
             ],
             [
              0.2222222222222222,
              "#7201a8"
             ],
             [
              0.3333333333333333,
              "#9c179e"
             ],
             [
              0.4444444444444444,
              "#bd3786"
             ],
             [
              0.5555555555555556,
              "#d8576b"
             ],
             [
              0.6666666666666666,
              "#ed7953"
             ],
             [
              0.7777777777777778,
              "#fb9f3a"
             ],
             [
              0.8888888888888888,
              "#fdca26"
             ],
             [
              1.0,
              "#f0f921"
             ]
            ]
           }
          ],
          "surface": [
           {
            "type": "surface",
            "colorbar": {
             "outlinewidth": 0,
             "ticks": ""
            },
            "colorscale": [
             [
              0.0,
              "#0d0887"
             ],
             [
              0.1111111111111111,
              "#46039f"
             ],
             [
              0.2222222222222222,
              "#7201a8"
             ],
             [
              0.3333333333333333,
              "#9c179e"
             ],
             [
              0.4444444444444444,
              "#bd3786"
             ],
             [
              0.5555555555555556,
              "#d8576b"
             ],
             [
              0.6666666666666666,
              "#ed7953"
             ],
             [
              0.7777777777777778,
              "#fb9f3a"
             ],
             [
              0.8888888888888888,
              "#fdca26"
             ],
             [
              1.0,
              "#f0f921"
             ]
            ]
           }
          ],
          "mesh3d": [
           {
            "type": "mesh3d",
            "colorbar": {
             "outlinewidth": 0,
             "ticks": ""
            }
           }
          ],
          "scatter": [
           {
            "fillpattern": {
             "fillmode": "overlay",
             "size": 10,
             "solidity": 0.2
            },
            "type": "scatter"
           }
          ],
          "parcoords": [
           {
            "type": "parcoords",
            "line": {
             "colorbar": {
              "outlinewidth": 0,
              "ticks": ""
             }
            }
           }
          ],
          "scatterpolargl": [
           {
            "type": "scatterpolargl",
            "marker": {
             "colorbar": {
              "outlinewidth": 0,
              "ticks": ""
             }
            }
           }
          ],
          "bar": [
           {
            "error_x": {
             "color": "#2a3f5f"
            },
            "error_y": {
             "color": "#2a3f5f"
            },
            "marker": {
             "line": {
              "color": "#E5ECF6",
              "width": 0.5
             },
             "pattern": {
              "fillmode": "overlay",
              "size": 10,
              "solidity": 0.2
             }
            },
            "type": "bar"
           }
          ],
          "scattergeo": [
           {
            "type": "scattergeo",
            "marker": {
             "colorbar": {
              "outlinewidth": 0,
              "ticks": ""
             }
            }
           }
          ],
          "scatterpolar": [
           {
            "type": "scatterpolar",
            "marker": {
             "colorbar": {
              "outlinewidth": 0,
              "ticks": ""
             }
            }
           }
          ],
          "histogram": [
           {
            "marker": {
             "pattern": {
              "fillmode": "overlay",
              "size": 10,
              "solidity": 0.2
             }
            },
            "type": "histogram"
           }
          ],
          "scattergl": [
           {
            "type": "scattergl",
            "marker": {
             "colorbar": {
              "outlinewidth": 0,
              "ticks": ""
             }
            }
           }
          ],
          "scatter3d": [
           {
            "type": "scatter3d",
            "line": {
             "colorbar": {
              "outlinewidth": 0,
              "ticks": ""
             }
            },
            "marker": {
             "colorbar": {
              "outlinewidth": 0,
              "ticks": ""
             }
            }
           }
          ],
          "scattermapbox": [
           {
            "type": "scattermapbox",
            "marker": {
             "colorbar": {
              "outlinewidth": 0,
              "ticks": ""
             }
            }
           }
          ],
          "scatterternary": [
           {
            "type": "scatterternary",
            "marker": {
             "colorbar": {
              "outlinewidth": 0,
              "ticks": ""
             }
            }
           }
          ],
          "scattercarpet": [
           {
            "type": "scattercarpet",
            "marker": {
             "colorbar": {
              "outlinewidth": 0,
              "ticks": ""
             }
            }
           }
          ],
          "carpet": [
           {
            "aaxis": {
             "endlinecolor": "#2a3f5f",
             "gridcolor": "white",
             "linecolor": "white",
             "minorgridcolor": "white",
             "startlinecolor": "#2a3f5f"
            },
            "baxis": {
             "endlinecolor": "#2a3f5f",
             "gridcolor": "white",
             "linecolor": "white",
             "minorgridcolor": "white",
             "startlinecolor": "#2a3f5f"
            },
            "type": "carpet"
           }
          ],
          "table": [
           {
            "cells": {
             "fill": {
              "color": "#EBF0F8"
             },
             "line": {
              "color": "white"
             }
            },
            "header": {
             "fill": {
              "color": "#C8D4E3"
             },
             "line": {
              "color": "white"
             }
            },
            "type": "table"
           }
          ],
          "barpolar": [
           {
            "marker": {
             "line": {
              "color": "#E5ECF6",
              "width": 0.5
             },
             "pattern": {
              "fillmode": "overlay",
              "size": 10,
              "solidity": 0.2
             }
            },
            "type": "barpolar"
           }
          ],
          "pie": [
           {
            "automargin": true,
            "type": "pie"
           }
          ]
         },
         "layout": {
          "autotypenumbers": "strict",
          "colorway": [
           "#636efa",
           "#EF553B",
           "#00cc96",
           "#ab63fa",
           "#FFA15A",
           "#19d3f3",
           "#FF6692",
           "#B6E880",
           "#FF97FF",
           "#FECB52"
          ],
          "font": {
           "color": "#2a3f5f"
          },
          "hovermode": "closest",
          "hoverlabel": {
           "align": "left"
          },
          "paper_bgcolor": "white",
          "plot_bgcolor": "#E5ECF6",
          "polar": {
           "bgcolor": "#E5ECF6",
           "angularaxis": {
            "gridcolor": "white",
            "linecolor": "white",
            "ticks": ""
           },
           "radialaxis": {
            "gridcolor": "white",
            "linecolor": "white",
            "ticks": ""
           }
          },
          "ternary": {
           "bgcolor": "#E5ECF6",
           "aaxis": {
            "gridcolor": "white",
            "linecolor": "white",
            "ticks": ""
           },
           "baxis": {
            "gridcolor": "white",
            "linecolor": "white",
            "ticks": ""
           },
           "caxis": {
            "gridcolor": "white",
            "linecolor": "white",
            "ticks": ""
           }
          },
          "coloraxis": {
           "colorbar": {
            "outlinewidth": 0,
            "ticks": ""
           }
          },
          "colorscale": {
           "sequential": [
            [
             0.0,
             "#0d0887"
            ],
            [
             0.1111111111111111,
             "#46039f"
            ],
            [
             0.2222222222222222,
             "#7201a8"
            ],
            [
             0.3333333333333333,
             "#9c179e"
            ],
            [
             0.4444444444444444,
             "#bd3786"
            ],
            [
             0.5555555555555556,
             "#d8576b"
            ],
            [
             0.6666666666666666,
             "#ed7953"
            ],
            [
             0.7777777777777778,
             "#fb9f3a"
            ],
            [
             0.8888888888888888,
             "#fdca26"
            ],
            [
             1.0,
             "#f0f921"
            ]
           ],
           "sequentialminus": [
            [
             0.0,
             "#0d0887"
            ],
            [
             0.1111111111111111,
             "#46039f"
            ],
            [
             0.2222222222222222,
             "#7201a8"
            ],
            [
             0.3333333333333333,
             "#9c179e"
            ],
            [
             0.4444444444444444,
             "#bd3786"
            ],
            [
             0.5555555555555556,
             "#d8576b"
            ],
            [
             0.6666666666666666,
             "#ed7953"
            ],
            [
             0.7777777777777778,
             "#fb9f3a"
            ],
            [
             0.8888888888888888,
             "#fdca26"
            ],
            [
             1.0,
             "#f0f921"
            ]
           ],
           "diverging": [
            [
             0,
             "#8e0152"
            ],
            [
             0.1,
             "#c51b7d"
            ],
            [
             0.2,
             "#de77ae"
            ],
            [
             0.3,
             "#f1b6da"
            ],
            [
             0.4,
             "#fde0ef"
            ],
            [
             0.5,
             "#f7f7f7"
            ],
            [
             0.6,
             "#e6f5d0"
            ],
            [
             0.7,
             "#b8e186"
            ],
            [
             0.8,
             "#7fbc41"
            ],
            [
             0.9,
             "#4d9221"
            ],
            [
             1,
             "#276419"
            ]
           ]
          },
          "xaxis": {
           "gridcolor": "white",
           "linecolor": "white",
           "ticks": "",
           "title": {
            "standoff": 15
           },
           "zerolinecolor": "white",
           "automargin": true,
           "zerolinewidth": 2
          },
          "yaxis": {
           "gridcolor": "white",
           "linecolor": "white",
           "ticks": "",
           "title": {
            "standoff": 15
           },
           "zerolinecolor": "white",
           "automargin": true,
           "zerolinewidth": 2
          },
          "scene": {
           "xaxis": {
            "backgroundcolor": "#E5ECF6",
            "gridcolor": "white",
            "linecolor": "white",
            "showbackground": true,
            "ticks": "",
            "zerolinecolor": "white",
            "gridwidth": 2
           },
           "yaxis": {
            "backgroundcolor": "#E5ECF6",
            "gridcolor": "white",
            "linecolor": "white",
            "showbackground": true,
            "ticks": "",
            "zerolinecolor": "white",
            "gridwidth": 2
           },
           "zaxis": {
            "backgroundcolor": "#E5ECF6",
            "gridcolor": "white",
            "linecolor": "white",
            "showbackground": true,
            "ticks": "",
            "zerolinecolor": "white",
            "gridwidth": 2
           }
          },
          "shapedefaults": {
           "line": {
            "color": "#2a3f5f"
           }
          },
          "annotationdefaults": {
           "arrowcolor": "#2a3f5f",
           "arrowhead": 0,
           "arrowwidth": 1
          },
          "geo": {
           "bgcolor": "white",
           "landcolor": "#E5ECF6",
           "subunitcolor": "white",
           "showland": true,
           "showlakes": true,
           "lakecolor": "white"
          },
          "title": {
           "x": 0.05
          },
          "mapbox": {
           "style": "light"
          }
         }
        }
       },
       "config": {
        "plotlyServerURL": "https://plotly.com"
       }
      },
      "text/html": "<div>                            <div id=\"c85fdbd0-80aa-43d0-86ad-bfa7b9fa35e2\" class=\"plotly-graph-div\" style=\"height:525px; width:100%;\"></div>            <script type=\"text/javascript\">                require([\"plotly\"], function(Plotly) {                    window.PLOTLYENV=window.PLOTLYENV || {};                                    if (document.getElementById(\"c85fdbd0-80aa-43d0-86ad-bfa7b9fa35e2\")) {                    Plotly.newPlot(                        \"c85fdbd0-80aa-43d0-86ad-bfa7b9fa35e2\",                        [{\"mode\":\"markers\",\"name\":\"Objective Value\",\"x\":[0,1,2,3,4,5,6,7,8,9,10,11,12,13,14,15,16,17,18,19,20,21,22,23,24,25,26,27,28,29,30,31,32,33,34,35,36,37,38,39,40,41,42,43,44,45,46,47,48,49],\"y\":[0.6619712621672823,0.6555666929575741,0.6491230220045756,0.6509494077249984,0.6491530721268386,0.6538924636569087,0.6535422213320088,0.6524298530756099,0.6528524897162475,0.6493736334601871,0.6607076143903641,0.6612563004295436,0.6580850198122201,0.6564818918578188,0.6654637624830145,0.6654477721763346,0.6655053167883319,0.6663432924068997,0.6587529000600165,0.6613691535437213,0.6623278346702526,0.6663545105780033,0.6657478124771533,0.6574712719704385,0.6646403088383381,0.663051489308587,0.6608104706919945,0.6577086890424774,0.661044004538488,0.6634984855621908,0.6572865379505455,0.6665159876070601,0.666020340420431,0.6649577017606012,0.6592233571938988,0.6632413857962847,0.6585312691889371,0.6601246333905831,0.6649224926494158,0.6570724863978081,0.6601907709855104,0.6656533408638594,0.6556134931676336,0.6649382231549665,0.6613369642775304,0.6651367311396085,0.6653486730795447,0.657686639571104,0.6631145716537615,0.6572200135556062],\"type\":\"scatter\"},{\"mode\":\"lines\",\"name\":\"Best Value\",\"x\":[0,1,2,3,4,5,6,7,8,9,10,11,12,13,14,15,16,17,18,19,20,21,22,23,24,25,26,27,28,29,30,31,32,33,34,35,36,37,38,39,40,41,42,43,44,45,46,47,48,49],\"y\":[0.6619712621672823,0.6619712621672823,0.6619712621672823,0.6619712621672823,0.6619712621672823,0.6619712621672823,0.6619712621672823,0.6619712621672823,0.6619712621672823,0.6619712621672823,0.6619712621672823,0.6619712621672823,0.6619712621672823,0.6619712621672823,0.6654637624830145,0.6654637624830145,0.6655053167883319,0.6663432924068997,0.6663432924068997,0.6663432924068997,0.6663432924068997,0.6663545105780033,0.6663545105780033,0.6663545105780033,0.6663545105780033,0.6663545105780033,0.6663545105780033,0.6663545105780033,0.6663545105780033,0.6663545105780033,0.6663545105780033,0.6665159876070601,0.6665159876070601,0.6665159876070601,0.6665159876070601,0.6665159876070601,0.6665159876070601,0.6665159876070601,0.6665159876070601,0.6665159876070601,0.6665159876070601,0.6665159876070601,0.6665159876070601,0.6665159876070601,0.6665159876070601,0.6665159876070601,0.6665159876070601,0.6665159876070601,0.6665159876070601,0.6665159876070601],\"type\":\"scatter\"},{\"marker\":{\"color\":\"#cccccc\"},\"mode\":\"markers\",\"name\":\"Infeasible Trial\",\"showlegend\":false,\"x\":[],\"y\":[],\"type\":\"scatter\"}],                        {\"title\":{\"text\":\"Optimization History Plot\"},\"xaxis\":{\"title\":{\"text\":\"Trial\"}},\"yaxis\":{\"title\":{\"text\":\"Objective Value\"}},\"template\":{\"data\":{\"histogram2dcontour\":[{\"type\":\"histogram2dcontour\",\"colorbar\":{\"outlinewidth\":0,\"ticks\":\"\"},\"colorscale\":[[0.0,\"#0d0887\"],[0.1111111111111111,\"#46039f\"],[0.2222222222222222,\"#7201a8\"],[0.3333333333333333,\"#9c179e\"],[0.4444444444444444,\"#bd3786\"],[0.5555555555555556,\"#d8576b\"],[0.6666666666666666,\"#ed7953\"],[0.7777777777777778,\"#fb9f3a\"],[0.8888888888888888,\"#fdca26\"],[1.0,\"#f0f921\"]]}],\"choropleth\":[{\"type\":\"choropleth\",\"colorbar\":{\"outlinewidth\":0,\"ticks\":\"\"}}],\"histogram2d\":[{\"type\":\"histogram2d\",\"colorbar\":{\"outlinewidth\":0,\"ticks\":\"\"},\"colorscale\":[[0.0,\"#0d0887\"],[0.1111111111111111,\"#46039f\"],[0.2222222222222222,\"#7201a8\"],[0.3333333333333333,\"#9c179e\"],[0.4444444444444444,\"#bd3786\"],[0.5555555555555556,\"#d8576b\"],[0.6666666666666666,\"#ed7953\"],[0.7777777777777778,\"#fb9f3a\"],[0.8888888888888888,\"#fdca26\"],[1.0,\"#f0f921\"]]}],\"heatmap\":[{\"type\":\"heatmap\",\"colorbar\":{\"outlinewidth\":0,\"ticks\":\"\"},\"colorscale\":[[0.0,\"#0d0887\"],[0.1111111111111111,\"#46039f\"],[0.2222222222222222,\"#7201a8\"],[0.3333333333333333,\"#9c179e\"],[0.4444444444444444,\"#bd3786\"],[0.5555555555555556,\"#d8576b\"],[0.6666666666666666,\"#ed7953\"],[0.7777777777777778,\"#fb9f3a\"],[0.8888888888888888,\"#fdca26\"],[1.0,\"#f0f921\"]]}],\"heatmapgl\":[{\"type\":\"heatmapgl\",\"colorbar\":{\"outlinewidth\":0,\"ticks\":\"\"},\"colorscale\":[[0.0,\"#0d0887\"],[0.1111111111111111,\"#46039f\"],[0.2222222222222222,\"#7201a8\"],[0.3333333333333333,\"#9c179e\"],[0.4444444444444444,\"#bd3786\"],[0.5555555555555556,\"#d8576b\"],[0.6666666666666666,\"#ed7953\"],[0.7777777777777778,\"#fb9f3a\"],[0.8888888888888888,\"#fdca26\"],[1.0,\"#f0f921\"]]}],\"contourcarpet\":[{\"type\":\"contourcarpet\",\"colorbar\":{\"outlinewidth\":0,\"ticks\":\"\"}}],\"contour\":[{\"type\":\"contour\",\"colorbar\":{\"outlinewidth\":0,\"ticks\":\"\"},\"colorscale\":[[0.0,\"#0d0887\"],[0.1111111111111111,\"#46039f\"],[0.2222222222222222,\"#7201a8\"],[0.3333333333333333,\"#9c179e\"],[0.4444444444444444,\"#bd3786\"],[0.5555555555555556,\"#d8576b\"],[0.6666666666666666,\"#ed7953\"],[0.7777777777777778,\"#fb9f3a\"],[0.8888888888888888,\"#fdca26\"],[1.0,\"#f0f921\"]]}],\"surface\":[{\"type\":\"surface\",\"colorbar\":{\"outlinewidth\":0,\"ticks\":\"\"},\"colorscale\":[[0.0,\"#0d0887\"],[0.1111111111111111,\"#46039f\"],[0.2222222222222222,\"#7201a8\"],[0.3333333333333333,\"#9c179e\"],[0.4444444444444444,\"#bd3786\"],[0.5555555555555556,\"#d8576b\"],[0.6666666666666666,\"#ed7953\"],[0.7777777777777778,\"#fb9f3a\"],[0.8888888888888888,\"#fdca26\"],[1.0,\"#f0f921\"]]}],\"mesh3d\":[{\"type\":\"mesh3d\",\"colorbar\":{\"outlinewidth\":0,\"ticks\":\"\"}}],\"scatter\":[{\"fillpattern\":{\"fillmode\":\"overlay\",\"size\":10,\"solidity\":0.2},\"type\":\"scatter\"}],\"parcoords\":[{\"type\":\"parcoords\",\"line\":{\"colorbar\":{\"outlinewidth\":0,\"ticks\":\"\"}}}],\"scatterpolargl\":[{\"type\":\"scatterpolargl\",\"marker\":{\"colorbar\":{\"outlinewidth\":0,\"ticks\":\"\"}}}],\"bar\":[{\"error_x\":{\"color\":\"#2a3f5f\"},\"error_y\":{\"color\":\"#2a3f5f\"},\"marker\":{\"line\":{\"color\":\"#E5ECF6\",\"width\":0.5},\"pattern\":{\"fillmode\":\"overlay\",\"size\":10,\"solidity\":0.2}},\"type\":\"bar\"}],\"scattergeo\":[{\"type\":\"scattergeo\",\"marker\":{\"colorbar\":{\"outlinewidth\":0,\"ticks\":\"\"}}}],\"scatterpolar\":[{\"type\":\"scatterpolar\",\"marker\":{\"colorbar\":{\"outlinewidth\":0,\"ticks\":\"\"}}}],\"histogram\":[{\"marker\":{\"pattern\":{\"fillmode\":\"overlay\",\"size\":10,\"solidity\":0.2}},\"type\":\"histogram\"}],\"scattergl\":[{\"type\":\"scattergl\",\"marker\":{\"colorbar\":{\"outlinewidth\":0,\"ticks\":\"\"}}}],\"scatter3d\":[{\"type\":\"scatter3d\",\"line\":{\"colorbar\":{\"outlinewidth\":0,\"ticks\":\"\"}},\"marker\":{\"colorbar\":{\"outlinewidth\":0,\"ticks\":\"\"}}}],\"scattermapbox\":[{\"type\":\"scattermapbox\",\"marker\":{\"colorbar\":{\"outlinewidth\":0,\"ticks\":\"\"}}}],\"scatterternary\":[{\"type\":\"scatterternary\",\"marker\":{\"colorbar\":{\"outlinewidth\":0,\"ticks\":\"\"}}}],\"scattercarpet\":[{\"type\":\"scattercarpet\",\"marker\":{\"colorbar\":{\"outlinewidth\":0,\"ticks\":\"\"}}}],\"carpet\":[{\"aaxis\":{\"endlinecolor\":\"#2a3f5f\",\"gridcolor\":\"white\",\"linecolor\":\"white\",\"minorgridcolor\":\"white\",\"startlinecolor\":\"#2a3f5f\"},\"baxis\":{\"endlinecolor\":\"#2a3f5f\",\"gridcolor\":\"white\",\"linecolor\":\"white\",\"minorgridcolor\":\"white\",\"startlinecolor\":\"#2a3f5f\"},\"type\":\"carpet\"}],\"table\":[{\"cells\":{\"fill\":{\"color\":\"#EBF0F8\"},\"line\":{\"color\":\"white\"}},\"header\":{\"fill\":{\"color\":\"#C8D4E3\"},\"line\":{\"color\":\"white\"}},\"type\":\"table\"}],\"barpolar\":[{\"marker\":{\"line\":{\"color\":\"#E5ECF6\",\"width\":0.5},\"pattern\":{\"fillmode\":\"overlay\",\"size\":10,\"solidity\":0.2}},\"type\":\"barpolar\"}],\"pie\":[{\"automargin\":true,\"type\":\"pie\"}]},\"layout\":{\"autotypenumbers\":\"strict\",\"colorway\":[\"#636efa\",\"#EF553B\",\"#00cc96\",\"#ab63fa\",\"#FFA15A\",\"#19d3f3\",\"#FF6692\",\"#B6E880\",\"#FF97FF\",\"#FECB52\"],\"font\":{\"color\":\"#2a3f5f\"},\"hovermode\":\"closest\",\"hoverlabel\":{\"align\":\"left\"},\"paper_bgcolor\":\"white\",\"plot_bgcolor\":\"#E5ECF6\",\"polar\":{\"bgcolor\":\"#E5ECF6\",\"angularaxis\":{\"gridcolor\":\"white\",\"linecolor\":\"white\",\"ticks\":\"\"},\"radialaxis\":{\"gridcolor\":\"white\",\"linecolor\":\"white\",\"ticks\":\"\"}},\"ternary\":{\"bgcolor\":\"#E5ECF6\",\"aaxis\":{\"gridcolor\":\"white\",\"linecolor\":\"white\",\"ticks\":\"\"},\"baxis\":{\"gridcolor\":\"white\",\"linecolor\":\"white\",\"ticks\":\"\"},\"caxis\":{\"gridcolor\":\"white\",\"linecolor\":\"white\",\"ticks\":\"\"}},\"coloraxis\":{\"colorbar\":{\"outlinewidth\":0,\"ticks\":\"\"}},\"colorscale\":{\"sequential\":[[0.0,\"#0d0887\"],[0.1111111111111111,\"#46039f\"],[0.2222222222222222,\"#7201a8\"],[0.3333333333333333,\"#9c179e\"],[0.4444444444444444,\"#bd3786\"],[0.5555555555555556,\"#d8576b\"],[0.6666666666666666,\"#ed7953\"],[0.7777777777777778,\"#fb9f3a\"],[0.8888888888888888,\"#fdca26\"],[1.0,\"#f0f921\"]],\"sequentialminus\":[[0.0,\"#0d0887\"],[0.1111111111111111,\"#46039f\"],[0.2222222222222222,\"#7201a8\"],[0.3333333333333333,\"#9c179e\"],[0.4444444444444444,\"#bd3786\"],[0.5555555555555556,\"#d8576b\"],[0.6666666666666666,\"#ed7953\"],[0.7777777777777778,\"#fb9f3a\"],[0.8888888888888888,\"#fdca26\"],[1.0,\"#f0f921\"]],\"diverging\":[[0,\"#8e0152\"],[0.1,\"#c51b7d\"],[0.2,\"#de77ae\"],[0.3,\"#f1b6da\"],[0.4,\"#fde0ef\"],[0.5,\"#f7f7f7\"],[0.6,\"#e6f5d0\"],[0.7,\"#b8e186\"],[0.8,\"#7fbc41\"],[0.9,\"#4d9221\"],[1,\"#276419\"]]},\"xaxis\":{\"gridcolor\":\"white\",\"linecolor\":\"white\",\"ticks\":\"\",\"title\":{\"standoff\":15},\"zerolinecolor\":\"white\",\"automargin\":true,\"zerolinewidth\":2},\"yaxis\":{\"gridcolor\":\"white\",\"linecolor\":\"white\",\"ticks\":\"\",\"title\":{\"standoff\":15},\"zerolinecolor\":\"white\",\"automargin\":true,\"zerolinewidth\":2},\"scene\":{\"xaxis\":{\"backgroundcolor\":\"#E5ECF6\",\"gridcolor\":\"white\",\"linecolor\":\"white\",\"showbackground\":true,\"ticks\":\"\",\"zerolinecolor\":\"white\",\"gridwidth\":2},\"yaxis\":{\"backgroundcolor\":\"#E5ECF6\",\"gridcolor\":\"white\",\"linecolor\":\"white\",\"showbackground\":true,\"ticks\":\"\",\"zerolinecolor\":\"white\",\"gridwidth\":2},\"zaxis\":{\"backgroundcolor\":\"#E5ECF6\",\"gridcolor\":\"white\",\"linecolor\":\"white\",\"showbackground\":true,\"ticks\":\"\",\"zerolinecolor\":\"white\",\"gridwidth\":2}},\"shapedefaults\":{\"line\":{\"color\":\"#2a3f5f\"}},\"annotationdefaults\":{\"arrowcolor\":\"#2a3f5f\",\"arrowhead\":0,\"arrowwidth\":1},\"geo\":{\"bgcolor\":\"white\",\"landcolor\":\"#E5ECF6\",\"subunitcolor\":\"white\",\"showland\":true,\"showlakes\":true,\"lakecolor\":\"white\"},\"title\":{\"x\":0.05},\"mapbox\":{\"style\":\"light\"}}}},                        {\"responsive\": true}                    ).then(function(){\n                            \nvar gd = document.getElementById('c85fdbd0-80aa-43d0-86ad-bfa7b9fa35e2');\nvar x = new MutationObserver(function (mutations, observer) {{\n        var display = window.getComputedStyle(gd).display;\n        if (!display || display === 'none') {{\n            console.log([gd, 'removed!']);\n            Plotly.purge(gd);\n            observer.disconnect();\n        }}\n}});\n\n// Listen for the removal of the full notebook cells\nvar notebookContainer = gd.closest('#notebook-container');\nif (notebookContainer) {{\n    x.observe(notebookContainer, {childList: true});\n}}\n\n// Listen for the clearing of the current output cell\nvar outputEl = gd.closest('.output');\nif (outputEl) {{\n    x.observe(outputEl, {childList: true});\n}}\n\n                        })                };                });            </script>        </div>"
     },
     "metadata": {},
     "output_type": "display_data"
    }
   ],
   "source": [
    "# 실험 기록 시각화\n",
    "optuna.visualization.plot_optimization_history(study)"
   ]
  },
  {
   "cell_type": "code",
   "execution_count": 69,
   "id": "efbf8f65",
   "metadata": {
    "scrolled": false,
    "colab": {
     "base_uri": "https://localhost:8080/",
     "height": 542
    },
    "id": "efbf8f65",
    "outputId": "7368048b-ad41-45ef-9350-cf7a16da295b"
   },
   "outputs": [
    {
     "data": {
      "application/vnd.plotly.v1+json": {
       "data": [
        {
         "cliponaxis": false,
         "hovertemplate": [
          "reg_lambda (FloatDistribution): 0.013403433518573846<extra></extra>",
          "colsample_bynode (FloatDistribution): 0.026021706943254216<extra></extra>",
          "max_depth (IntDistribution): 0.0752112859925425<extra></extra>",
          "learning_rate (FloatDistribution): 0.3686718857440908<extra></extra>",
          "n_estimators (IntDistribution): 0.5166916878015387<extra></extra>"
         ],
         "marker": {
          "color": "rgb(66,146,198)"
         },
         "orientation": "h",
         "text": [
          "0.01",
          "0.03",
          "0.08",
          "0.37",
          "0.52"
         ],
         "textposition": "outside",
         "x": [
          0.013403433518573846,
          0.026021706943254216,
          0.0752112859925425,
          0.3686718857440908,
          0.5166916878015387
         ],
         "y": [
          "reg_lambda",
          "colsample_bynode",
          "max_depth",
          "learning_rate",
          "n_estimators"
         ],
         "type": "bar"
        }
       ],
       "layout": {
        "showlegend": false,
        "title": {
         "text": "Hyperparameter Importances"
        },
        "xaxis": {
         "title": {
          "text": "Importance for Objective Value"
         }
        },
        "yaxis": {
         "title": {
          "text": "Hyperparameter"
         }
        },
        "template": {
         "data": {
          "histogram2dcontour": [
           {
            "type": "histogram2dcontour",
            "colorbar": {
             "outlinewidth": 0,
             "ticks": ""
            },
            "colorscale": [
             [
              0.0,
              "#0d0887"
             ],
             [
              0.1111111111111111,
              "#46039f"
             ],
             [
              0.2222222222222222,
              "#7201a8"
             ],
             [
              0.3333333333333333,
              "#9c179e"
             ],
             [
              0.4444444444444444,
              "#bd3786"
             ],
             [
              0.5555555555555556,
              "#d8576b"
             ],
             [
              0.6666666666666666,
              "#ed7953"
             ],
             [
              0.7777777777777778,
              "#fb9f3a"
             ],
             [
              0.8888888888888888,
              "#fdca26"
             ],
             [
              1.0,
              "#f0f921"
             ]
            ]
           }
          ],
          "choropleth": [
           {
            "type": "choropleth",
            "colorbar": {
             "outlinewidth": 0,
             "ticks": ""
            }
           }
          ],
          "histogram2d": [
           {
            "type": "histogram2d",
            "colorbar": {
             "outlinewidth": 0,
             "ticks": ""
            },
            "colorscale": [
             [
              0.0,
              "#0d0887"
             ],
             [
              0.1111111111111111,
              "#46039f"
             ],
             [
              0.2222222222222222,
              "#7201a8"
             ],
             [
              0.3333333333333333,
              "#9c179e"
             ],
             [
              0.4444444444444444,
              "#bd3786"
             ],
             [
              0.5555555555555556,
              "#d8576b"
             ],
             [
              0.6666666666666666,
              "#ed7953"
             ],
             [
              0.7777777777777778,
              "#fb9f3a"
             ],
             [
              0.8888888888888888,
              "#fdca26"
             ],
             [
              1.0,
              "#f0f921"
             ]
            ]
           }
          ],
          "heatmap": [
           {
            "type": "heatmap",
            "colorbar": {
             "outlinewidth": 0,
             "ticks": ""
            },
            "colorscale": [
             [
              0.0,
              "#0d0887"
             ],
             [
              0.1111111111111111,
              "#46039f"
             ],
             [
              0.2222222222222222,
              "#7201a8"
             ],
             [
              0.3333333333333333,
              "#9c179e"
             ],
             [
              0.4444444444444444,
              "#bd3786"
             ],
             [
              0.5555555555555556,
              "#d8576b"
             ],
             [
              0.6666666666666666,
              "#ed7953"
             ],
             [
              0.7777777777777778,
              "#fb9f3a"
             ],
             [
              0.8888888888888888,
              "#fdca26"
             ],
             [
              1.0,
              "#f0f921"
             ]
            ]
           }
          ],
          "heatmapgl": [
           {
            "type": "heatmapgl",
            "colorbar": {
             "outlinewidth": 0,
             "ticks": ""
            },
            "colorscale": [
             [
              0.0,
              "#0d0887"
             ],
             [
              0.1111111111111111,
              "#46039f"
             ],
             [
              0.2222222222222222,
              "#7201a8"
             ],
             [
              0.3333333333333333,
              "#9c179e"
             ],
             [
              0.4444444444444444,
              "#bd3786"
             ],
             [
              0.5555555555555556,
              "#d8576b"
             ],
             [
              0.6666666666666666,
              "#ed7953"
             ],
             [
              0.7777777777777778,
              "#fb9f3a"
             ],
             [
              0.8888888888888888,
              "#fdca26"
             ],
             [
              1.0,
              "#f0f921"
             ]
            ]
           }
          ],
          "contourcarpet": [
           {
            "type": "contourcarpet",
            "colorbar": {
             "outlinewidth": 0,
             "ticks": ""
            }
           }
          ],
          "contour": [
           {
            "type": "contour",
            "colorbar": {
             "outlinewidth": 0,
             "ticks": ""
            },
            "colorscale": [
             [
              0.0,
              "#0d0887"
             ],
             [
              0.1111111111111111,
              "#46039f"
             ],
             [
              0.2222222222222222,
              "#7201a8"
             ],
             [
              0.3333333333333333,
              "#9c179e"
             ],
             [
              0.4444444444444444,
              "#bd3786"
             ],
             [
              0.5555555555555556,
              "#d8576b"
             ],
             [
              0.6666666666666666,
              "#ed7953"
             ],
             [
              0.7777777777777778,
              "#fb9f3a"
             ],
             [
              0.8888888888888888,
              "#fdca26"
             ],
             [
              1.0,
              "#f0f921"
             ]
            ]
           }
          ],
          "surface": [
           {
            "type": "surface",
            "colorbar": {
             "outlinewidth": 0,
             "ticks": ""
            },
            "colorscale": [
             [
              0.0,
              "#0d0887"
             ],
             [
              0.1111111111111111,
              "#46039f"
             ],
             [
              0.2222222222222222,
              "#7201a8"
             ],
             [
              0.3333333333333333,
              "#9c179e"
             ],
             [
              0.4444444444444444,
              "#bd3786"
             ],
             [
              0.5555555555555556,
              "#d8576b"
             ],
             [
              0.6666666666666666,
              "#ed7953"
             ],
             [
              0.7777777777777778,
              "#fb9f3a"
             ],
             [
              0.8888888888888888,
              "#fdca26"
             ],
             [
              1.0,
              "#f0f921"
             ]
            ]
           }
          ],
          "mesh3d": [
           {
            "type": "mesh3d",
            "colorbar": {
             "outlinewidth": 0,
             "ticks": ""
            }
           }
          ],
          "scatter": [
           {
            "fillpattern": {
             "fillmode": "overlay",
             "size": 10,
             "solidity": 0.2
            },
            "type": "scatter"
           }
          ],
          "parcoords": [
           {
            "type": "parcoords",
            "line": {
             "colorbar": {
              "outlinewidth": 0,
              "ticks": ""
             }
            }
           }
          ],
          "scatterpolargl": [
           {
            "type": "scatterpolargl",
            "marker": {
             "colorbar": {
              "outlinewidth": 0,
              "ticks": ""
             }
            }
           }
          ],
          "bar": [
           {
            "error_x": {
             "color": "#2a3f5f"
            },
            "error_y": {
             "color": "#2a3f5f"
            },
            "marker": {
             "line": {
              "color": "#E5ECF6",
              "width": 0.5
             },
             "pattern": {
              "fillmode": "overlay",
              "size": 10,
              "solidity": 0.2
             }
            },
            "type": "bar"
           }
          ],
          "scattergeo": [
           {
            "type": "scattergeo",
            "marker": {
             "colorbar": {
              "outlinewidth": 0,
              "ticks": ""
             }
            }
           }
          ],
          "scatterpolar": [
           {
            "type": "scatterpolar",
            "marker": {
             "colorbar": {
              "outlinewidth": 0,
              "ticks": ""
             }
            }
           }
          ],
          "histogram": [
           {
            "marker": {
             "pattern": {
              "fillmode": "overlay",
              "size": 10,
              "solidity": 0.2
             }
            },
            "type": "histogram"
           }
          ],
          "scattergl": [
           {
            "type": "scattergl",
            "marker": {
             "colorbar": {
              "outlinewidth": 0,
              "ticks": ""
             }
            }
           }
          ],
          "scatter3d": [
           {
            "type": "scatter3d",
            "line": {
             "colorbar": {
              "outlinewidth": 0,
              "ticks": ""
             }
            },
            "marker": {
             "colorbar": {
              "outlinewidth": 0,
              "ticks": ""
             }
            }
           }
          ],
          "scattermapbox": [
           {
            "type": "scattermapbox",
            "marker": {
             "colorbar": {
              "outlinewidth": 0,
              "ticks": ""
             }
            }
           }
          ],
          "scatterternary": [
           {
            "type": "scatterternary",
            "marker": {
             "colorbar": {
              "outlinewidth": 0,
              "ticks": ""
             }
            }
           }
          ],
          "scattercarpet": [
           {
            "type": "scattercarpet",
            "marker": {
             "colorbar": {
              "outlinewidth": 0,
              "ticks": ""
             }
            }
           }
          ],
          "carpet": [
           {
            "aaxis": {
             "endlinecolor": "#2a3f5f",
             "gridcolor": "white",
             "linecolor": "white",
             "minorgridcolor": "white",
             "startlinecolor": "#2a3f5f"
            },
            "baxis": {
             "endlinecolor": "#2a3f5f",
             "gridcolor": "white",
             "linecolor": "white",
             "minorgridcolor": "white",
             "startlinecolor": "#2a3f5f"
            },
            "type": "carpet"
           }
          ],
          "table": [
           {
            "cells": {
             "fill": {
              "color": "#EBF0F8"
             },
             "line": {
              "color": "white"
             }
            },
            "header": {
             "fill": {
              "color": "#C8D4E3"
             },
             "line": {
              "color": "white"
             }
            },
            "type": "table"
           }
          ],
          "barpolar": [
           {
            "marker": {
             "line": {
              "color": "#E5ECF6",
              "width": 0.5
             },
             "pattern": {
              "fillmode": "overlay",
              "size": 10,
              "solidity": 0.2
             }
            },
            "type": "barpolar"
           }
          ],
          "pie": [
           {
            "automargin": true,
            "type": "pie"
           }
          ]
         },
         "layout": {
          "autotypenumbers": "strict",
          "colorway": [
           "#636efa",
           "#EF553B",
           "#00cc96",
           "#ab63fa",
           "#FFA15A",
           "#19d3f3",
           "#FF6692",
           "#B6E880",
           "#FF97FF",
           "#FECB52"
          ],
          "font": {
           "color": "#2a3f5f"
          },
          "hovermode": "closest",
          "hoverlabel": {
           "align": "left"
          },
          "paper_bgcolor": "white",
          "plot_bgcolor": "#E5ECF6",
          "polar": {
           "bgcolor": "#E5ECF6",
           "angularaxis": {
            "gridcolor": "white",
            "linecolor": "white",
            "ticks": ""
           },
           "radialaxis": {
            "gridcolor": "white",
            "linecolor": "white",
            "ticks": ""
           }
          },
          "ternary": {
           "bgcolor": "#E5ECF6",
           "aaxis": {
            "gridcolor": "white",
            "linecolor": "white",
            "ticks": ""
           },
           "baxis": {
            "gridcolor": "white",
            "linecolor": "white",
            "ticks": ""
           },
           "caxis": {
            "gridcolor": "white",
            "linecolor": "white",
            "ticks": ""
           }
          },
          "coloraxis": {
           "colorbar": {
            "outlinewidth": 0,
            "ticks": ""
           }
          },
          "colorscale": {
           "sequential": [
            [
             0.0,
             "#0d0887"
            ],
            [
             0.1111111111111111,
             "#46039f"
            ],
            [
             0.2222222222222222,
             "#7201a8"
            ],
            [
             0.3333333333333333,
             "#9c179e"
            ],
            [
             0.4444444444444444,
             "#bd3786"
            ],
            [
             0.5555555555555556,
             "#d8576b"
            ],
            [
             0.6666666666666666,
             "#ed7953"
            ],
            [
             0.7777777777777778,
             "#fb9f3a"
            ],
            [
             0.8888888888888888,
             "#fdca26"
            ],
            [
             1.0,
             "#f0f921"
            ]
           ],
           "sequentialminus": [
            [
             0.0,
             "#0d0887"
            ],
            [
             0.1111111111111111,
             "#46039f"
            ],
            [
             0.2222222222222222,
             "#7201a8"
            ],
            [
             0.3333333333333333,
             "#9c179e"
            ],
            [
             0.4444444444444444,
             "#bd3786"
            ],
            [
             0.5555555555555556,
             "#d8576b"
            ],
            [
             0.6666666666666666,
             "#ed7953"
            ],
            [
             0.7777777777777778,
             "#fb9f3a"
            ],
            [
             0.8888888888888888,
             "#fdca26"
            ],
            [
             1.0,
             "#f0f921"
            ]
           ],
           "diverging": [
            [
             0,
             "#8e0152"
            ],
            [
             0.1,
             "#c51b7d"
            ],
            [
             0.2,
             "#de77ae"
            ],
            [
             0.3,
             "#f1b6da"
            ],
            [
             0.4,
             "#fde0ef"
            ],
            [
             0.5,
             "#f7f7f7"
            ],
            [
             0.6,
             "#e6f5d0"
            ],
            [
             0.7,
             "#b8e186"
            ],
            [
             0.8,
             "#7fbc41"
            ],
            [
             0.9,
             "#4d9221"
            ],
            [
             1,
             "#276419"
            ]
           ]
          },
          "xaxis": {
           "gridcolor": "white",
           "linecolor": "white",
           "ticks": "",
           "title": {
            "standoff": 15
           },
           "zerolinecolor": "white",
           "automargin": true,
           "zerolinewidth": 2
          },
          "yaxis": {
           "gridcolor": "white",
           "linecolor": "white",
           "ticks": "",
           "title": {
            "standoff": 15
           },
           "zerolinecolor": "white",
           "automargin": true,
           "zerolinewidth": 2
          },
          "scene": {
           "xaxis": {
            "backgroundcolor": "#E5ECF6",
            "gridcolor": "white",
            "linecolor": "white",
            "showbackground": true,
            "ticks": "",
            "zerolinecolor": "white",
            "gridwidth": 2
           },
           "yaxis": {
            "backgroundcolor": "#E5ECF6",
            "gridcolor": "white",
            "linecolor": "white",
            "showbackground": true,
            "ticks": "",
            "zerolinecolor": "white",
            "gridwidth": 2
           },
           "zaxis": {
            "backgroundcolor": "#E5ECF6",
            "gridcolor": "white",
            "linecolor": "white",
            "showbackground": true,
            "ticks": "",
            "zerolinecolor": "white",
            "gridwidth": 2
           }
          },
          "shapedefaults": {
           "line": {
            "color": "#2a3f5f"
           }
          },
          "annotationdefaults": {
           "arrowcolor": "#2a3f5f",
           "arrowhead": 0,
           "arrowwidth": 1
          },
          "geo": {
           "bgcolor": "white",
           "landcolor": "#E5ECF6",
           "subunitcolor": "white",
           "showland": true,
           "showlakes": true,
           "lakecolor": "white"
          },
          "title": {
           "x": 0.05
          },
          "mapbox": {
           "style": "light"
          }
         }
        }
       },
       "config": {
        "plotlyServerURL": "https://plotly.com"
       }
      },
      "text/html": "<div>                            <div id=\"a90a9af0-3579-4f43-ae4f-f4a040f84eb5\" class=\"plotly-graph-div\" style=\"height:525px; width:100%;\"></div>            <script type=\"text/javascript\">                require([\"plotly\"], function(Plotly) {                    window.PLOTLYENV=window.PLOTLYENV || {};                                    if (document.getElementById(\"a90a9af0-3579-4f43-ae4f-f4a040f84eb5\")) {                    Plotly.newPlot(                        \"a90a9af0-3579-4f43-ae4f-f4a040f84eb5\",                        [{\"cliponaxis\":false,\"hovertemplate\":[\"reg_lambda (FloatDistribution): 0.013403433518573846<extra></extra>\",\"colsample_bynode (FloatDistribution): 0.026021706943254216<extra></extra>\",\"max_depth (IntDistribution): 0.0752112859925425<extra></extra>\",\"learning_rate (FloatDistribution): 0.3686718857440908<extra></extra>\",\"n_estimators (IntDistribution): 0.5166916878015387<extra></extra>\"],\"marker\":{\"color\":\"rgb(66,146,198)\"},\"orientation\":\"h\",\"text\":[\"0.01\",\"0.03\",\"0.08\",\"0.37\",\"0.52\"],\"textposition\":\"outside\",\"x\":[0.013403433518573846,0.026021706943254216,0.0752112859925425,0.3686718857440908,0.5166916878015387],\"y\":[\"reg_lambda\",\"colsample_bynode\",\"max_depth\",\"learning_rate\",\"n_estimators\"],\"type\":\"bar\"}],                        {\"showlegend\":false,\"title\":{\"text\":\"Hyperparameter Importances\"},\"xaxis\":{\"title\":{\"text\":\"Importance for Objective Value\"}},\"yaxis\":{\"title\":{\"text\":\"Hyperparameter\"}},\"template\":{\"data\":{\"histogram2dcontour\":[{\"type\":\"histogram2dcontour\",\"colorbar\":{\"outlinewidth\":0,\"ticks\":\"\"},\"colorscale\":[[0.0,\"#0d0887\"],[0.1111111111111111,\"#46039f\"],[0.2222222222222222,\"#7201a8\"],[0.3333333333333333,\"#9c179e\"],[0.4444444444444444,\"#bd3786\"],[0.5555555555555556,\"#d8576b\"],[0.6666666666666666,\"#ed7953\"],[0.7777777777777778,\"#fb9f3a\"],[0.8888888888888888,\"#fdca26\"],[1.0,\"#f0f921\"]]}],\"choropleth\":[{\"type\":\"choropleth\",\"colorbar\":{\"outlinewidth\":0,\"ticks\":\"\"}}],\"histogram2d\":[{\"type\":\"histogram2d\",\"colorbar\":{\"outlinewidth\":0,\"ticks\":\"\"},\"colorscale\":[[0.0,\"#0d0887\"],[0.1111111111111111,\"#46039f\"],[0.2222222222222222,\"#7201a8\"],[0.3333333333333333,\"#9c179e\"],[0.4444444444444444,\"#bd3786\"],[0.5555555555555556,\"#d8576b\"],[0.6666666666666666,\"#ed7953\"],[0.7777777777777778,\"#fb9f3a\"],[0.8888888888888888,\"#fdca26\"],[1.0,\"#f0f921\"]]}],\"heatmap\":[{\"type\":\"heatmap\",\"colorbar\":{\"outlinewidth\":0,\"ticks\":\"\"},\"colorscale\":[[0.0,\"#0d0887\"],[0.1111111111111111,\"#46039f\"],[0.2222222222222222,\"#7201a8\"],[0.3333333333333333,\"#9c179e\"],[0.4444444444444444,\"#bd3786\"],[0.5555555555555556,\"#d8576b\"],[0.6666666666666666,\"#ed7953\"],[0.7777777777777778,\"#fb9f3a\"],[0.8888888888888888,\"#fdca26\"],[1.0,\"#f0f921\"]]}],\"heatmapgl\":[{\"type\":\"heatmapgl\",\"colorbar\":{\"outlinewidth\":0,\"ticks\":\"\"},\"colorscale\":[[0.0,\"#0d0887\"],[0.1111111111111111,\"#46039f\"],[0.2222222222222222,\"#7201a8\"],[0.3333333333333333,\"#9c179e\"],[0.4444444444444444,\"#bd3786\"],[0.5555555555555556,\"#d8576b\"],[0.6666666666666666,\"#ed7953\"],[0.7777777777777778,\"#fb9f3a\"],[0.8888888888888888,\"#fdca26\"],[1.0,\"#f0f921\"]]}],\"contourcarpet\":[{\"type\":\"contourcarpet\",\"colorbar\":{\"outlinewidth\":0,\"ticks\":\"\"}}],\"contour\":[{\"type\":\"contour\",\"colorbar\":{\"outlinewidth\":0,\"ticks\":\"\"},\"colorscale\":[[0.0,\"#0d0887\"],[0.1111111111111111,\"#46039f\"],[0.2222222222222222,\"#7201a8\"],[0.3333333333333333,\"#9c179e\"],[0.4444444444444444,\"#bd3786\"],[0.5555555555555556,\"#d8576b\"],[0.6666666666666666,\"#ed7953\"],[0.7777777777777778,\"#fb9f3a\"],[0.8888888888888888,\"#fdca26\"],[1.0,\"#f0f921\"]]}],\"surface\":[{\"type\":\"surface\",\"colorbar\":{\"outlinewidth\":0,\"ticks\":\"\"},\"colorscale\":[[0.0,\"#0d0887\"],[0.1111111111111111,\"#46039f\"],[0.2222222222222222,\"#7201a8\"],[0.3333333333333333,\"#9c179e\"],[0.4444444444444444,\"#bd3786\"],[0.5555555555555556,\"#d8576b\"],[0.6666666666666666,\"#ed7953\"],[0.7777777777777778,\"#fb9f3a\"],[0.8888888888888888,\"#fdca26\"],[1.0,\"#f0f921\"]]}],\"mesh3d\":[{\"type\":\"mesh3d\",\"colorbar\":{\"outlinewidth\":0,\"ticks\":\"\"}}],\"scatter\":[{\"fillpattern\":{\"fillmode\":\"overlay\",\"size\":10,\"solidity\":0.2},\"type\":\"scatter\"}],\"parcoords\":[{\"type\":\"parcoords\",\"line\":{\"colorbar\":{\"outlinewidth\":0,\"ticks\":\"\"}}}],\"scatterpolargl\":[{\"type\":\"scatterpolargl\",\"marker\":{\"colorbar\":{\"outlinewidth\":0,\"ticks\":\"\"}}}],\"bar\":[{\"error_x\":{\"color\":\"#2a3f5f\"},\"error_y\":{\"color\":\"#2a3f5f\"},\"marker\":{\"line\":{\"color\":\"#E5ECF6\",\"width\":0.5},\"pattern\":{\"fillmode\":\"overlay\",\"size\":10,\"solidity\":0.2}},\"type\":\"bar\"}],\"scattergeo\":[{\"type\":\"scattergeo\",\"marker\":{\"colorbar\":{\"outlinewidth\":0,\"ticks\":\"\"}}}],\"scatterpolar\":[{\"type\":\"scatterpolar\",\"marker\":{\"colorbar\":{\"outlinewidth\":0,\"ticks\":\"\"}}}],\"histogram\":[{\"marker\":{\"pattern\":{\"fillmode\":\"overlay\",\"size\":10,\"solidity\":0.2}},\"type\":\"histogram\"}],\"scattergl\":[{\"type\":\"scattergl\",\"marker\":{\"colorbar\":{\"outlinewidth\":0,\"ticks\":\"\"}}}],\"scatter3d\":[{\"type\":\"scatter3d\",\"line\":{\"colorbar\":{\"outlinewidth\":0,\"ticks\":\"\"}},\"marker\":{\"colorbar\":{\"outlinewidth\":0,\"ticks\":\"\"}}}],\"scattermapbox\":[{\"type\":\"scattermapbox\",\"marker\":{\"colorbar\":{\"outlinewidth\":0,\"ticks\":\"\"}}}],\"scatterternary\":[{\"type\":\"scatterternary\",\"marker\":{\"colorbar\":{\"outlinewidth\":0,\"ticks\":\"\"}}}],\"scattercarpet\":[{\"type\":\"scattercarpet\",\"marker\":{\"colorbar\":{\"outlinewidth\":0,\"ticks\":\"\"}}}],\"carpet\":[{\"aaxis\":{\"endlinecolor\":\"#2a3f5f\",\"gridcolor\":\"white\",\"linecolor\":\"white\",\"minorgridcolor\":\"white\",\"startlinecolor\":\"#2a3f5f\"},\"baxis\":{\"endlinecolor\":\"#2a3f5f\",\"gridcolor\":\"white\",\"linecolor\":\"white\",\"minorgridcolor\":\"white\",\"startlinecolor\":\"#2a3f5f\"},\"type\":\"carpet\"}],\"table\":[{\"cells\":{\"fill\":{\"color\":\"#EBF0F8\"},\"line\":{\"color\":\"white\"}},\"header\":{\"fill\":{\"color\":\"#C8D4E3\"},\"line\":{\"color\":\"white\"}},\"type\":\"table\"}],\"barpolar\":[{\"marker\":{\"line\":{\"color\":\"#E5ECF6\",\"width\":0.5},\"pattern\":{\"fillmode\":\"overlay\",\"size\":10,\"solidity\":0.2}},\"type\":\"barpolar\"}],\"pie\":[{\"automargin\":true,\"type\":\"pie\"}]},\"layout\":{\"autotypenumbers\":\"strict\",\"colorway\":[\"#636efa\",\"#EF553B\",\"#00cc96\",\"#ab63fa\",\"#FFA15A\",\"#19d3f3\",\"#FF6692\",\"#B6E880\",\"#FF97FF\",\"#FECB52\"],\"font\":{\"color\":\"#2a3f5f\"},\"hovermode\":\"closest\",\"hoverlabel\":{\"align\":\"left\"},\"paper_bgcolor\":\"white\",\"plot_bgcolor\":\"#E5ECF6\",\"polar\":{\"bgcolor\":\"#E5ECF6\",\"angularaxis\":{\"gridcolor\":\"white\",\"linecolor\":\"white\",\"ticks\":\"\"},\"radialaxis\":{\"gridcolor\":\"white\",\"linecolor\":\"white\",\"ticks\":\"\"}},\"ternary\":{\"bgcolor\":\"#E5ECF6\",\"aaxis\":{\"gridcolor\":\"white\",\"linecolor\":\"white\",\"ticks\":\"\"},\"baxis\":{\"gridcolor\":\"white\",\"linecolor\":\"white\",\"ticks\":\"\"},\"caxis\":{\"gridcolor\":\"white\",\"linecolor\":\"white\",\"ticks\":\"\"}},\"coloraxis\":{\"colorbar\":{\"outlinewidth\":0,\"ticks\":\"\"}},\"colorscale\":{\"sequential\":[[0.0,\"#0d0887\"],[0.1111111111111111,\"#46039f\"],[0.2222222222222222,\"#7201a8\"],[0.3333333333333333,\"#9c179e\"],[0.4444444444444444,\"#bd3786\"],[0.5555555555555556,\"#d8576b\"],[0.6666666666666666,\"#ed7953\"],[0.7777777777777778,\"#fb9f3a\"],[0.8888888888888888,\"#fdca26\"],[1.0,\"#f0f921\"]],\"sequentialminus\":[[0.0,\"#0d0887\"],[0.1111111111111111,\"#46039f\"],[0.2222222222222222,\"#7201a8\"],[0.3333333333333333,\"#9c179e\"],[0.4444444444444444,\"#bd3786\"],[0.5555555555555556,\"#d8576b\"],[0.6666666666666666,\"#ed7953\"],[0.7777777777777778,\"#fb9f3a\"],[0.8888888888888888,\"#fdca26\"],[1.0,\"#f0f921\"]],\"diverging\":[[0,\"#8e0152\"],[0.1,\"#c51b7d\"],[0.2,\"#de77ae\"],[0.3,\"#f1b6da\"],[0.4,\"#fde0ef\"],[0.5,\"#f7f7f7\"],[0.6,\"#e6f5d0\"],[0.7,\"#b8e186\"],[0.8,\"#7fbc41\"],[0.9,\"#4d9221\"],[1,\"#276419\"]]},\"xaxis\":{\"gridcolor\":\"white\",\"linecolor\":\"white\",\"ticks\":\"\",\"title\":{\"standoff\":15},\"zerolinecolor\":\"white\",\"automargin\":true,\"zerolinewidth\":2},\"yaxis\":{\"gridcolor\":\"white\",\"linecolor\":\"white\",\"ticks\":\"\",\"title\":{\"standoff\":15},\"zerolinecolor\":\"white\",\"automargin\":true,\"zerolinewidth\":2},\"scene\":{\"xaxis\":{\"backgroundcolor\":\"#E5ECF6\",\"gridcolor\":\"white\",\"linecolor\":\"white\",\"showbackground\":true,\"ticks\":\"\",\"zerolinecolor\":\"white\",\"gridwidth\":2},\"yaxis\":{\"backgroundcolor\":\"#E5ECF6\",\"gridcolor\":\"white\",\"linecolor\":\"white\",\"showbackground\":true,\"ticks\":\"\",\"zerolinecolor\":\"white\",\"gridwidth\":2},\"zaxis\":{\"backgroundcolor\":\"#E5ECF6\",\"gridcolor\":\"white\",\"linecolor\":\"white\",\"showbackground\":true,\"ticks\":\"\",\"zerolinecolor\":\"white\",\"gridwidth\":2}},\"shapedefaults\":{\"line\":{\"color\":\"#2a3f5f\"}},\"annotationdefaults\":{\"arrowcolor\":\"#2a3f5f\",\"arrowhead\":0,\"arrowwidth\":1},\"geo\":{\"bgcolor\":\"white\",\"landcolor\":\"#E5ECF6\",\"subunitcolor\":\"white\",\"showland\":true,\"showlakes\":true,\"lakecolor\":\"white\"},\"title\":{\"x\":0.05},\"mapbox\":{\"style\":\"light\"}}}},                        {\"responsive\": true}                    ).then(function(){\n                            \nvar gd = document.getElementById('a90a9af0-3579-4f43-ae4f-f4a040f84eb5');\nvar x = new MutationObserver(function (mutations, observer) {{\n        var display = window.getComputedStyle(gd).display;\n        if (!display || display === 'none') {{\n            console.log([gd, 'removed!']);\n            Plotly.purge(gd);\n            observer.disconnect();\n        }}\n}});\n\n// Listen for the removal of the full notebook cells\nvar notebookContainer = gd.closest('#notebook-container');\nif (notebookContainer) {{\n    x.observe(notebookContainer, {childList: true});\n}}\n\n// Listen for the clearing of the current output cell\nvar outputEl = gd.closest('.output');\nif (outputEl) {{\n    x.observe(outputEl, {childList: true});\n}}\n\n                        })                };                });            </script>        </div>"
     },
     "metadata": {},
     "output_type": "display_data"
    }
   ],
   "source": [
    "# hyper-parameter들의 중요도\n",
    "optuna.visualization.plot_param_importances(study)"
   ]
  },
  {
   "cell_type": "markdown",
   "id": "24b360ec",
   "metadata": {
    "id": "24b360ec"
   },
   "source": [
    "### 7. 테스트 및 제출 파일 생성"
   ]
  },
  {
   "cell_type": "code",
   "source": [
    "# Make KFold OOF prediction\n",
    "def oof_preds(best_model):\n",
    "\n",
    "    # make KFold\n",
    "    folds = StratifiedKFold(n_splits=K, random_state=61, shuffle=True)\n",
    "    final_preds = []\n",
    "    losses = []\n",
    "    oof = np.full(len(X), np.nan)\n",
    "    # fitting with best_model\n",
    "    for i, (train_idx, val_idx) in enumerate(folds.split(X, y)):\n",
    "        X_train = X.iloc[train_idx, :]\n",
    "        y_train = y.iloc[train_idx]\n",
    "        X_val = X.iloc[val_idx, :]\n",
    "        y_val = y.iloc[val_idx]\n",
    "\n",
    "        print(f\"========== Fold {i+1} ==========\")\n",
    "        best_model.fit(X_train, y_train)\n",
    "        preds = best_model.predict_proba(X_val)[:, 1]\n",
    "        oof[val_idx] = preds\n",
    "        test_preds = best_model.predict_proba(test)[:, 1]\n",
    "        final_preds.append(test_preds)\n",
    "        loss = evaluation_metric(y_val, preds)\n",
    "\n",
    "        losses.append(loss)\n",
    "\n",
    "    avg_loss = np.mean(losses)\n",
    "    print(f\"Loss : {avg_loss:.4f}\")\n",
    "    return final_preds, oof"
   ],
   "metadata": {
    "id": "vbGPA_pvtJXf"
   },
   "id": "vbGPA_pvtJXf",
   "execution_count": 70,
   "outputs": []
  },
  {
   "cell_type": "code",
   "source": [
    "test.info() # 결측치 없음."
   ],
   "metadata": {
    "colab": {
     "base_uri": "https://localhost:8080/"
    },
    "id": "xWEElxsC7Gfl",
    "outputId": "f9f39b1c-fde5-47e7-e5b1-bbc0094e9cb0"
   },
   "id": "xWEElxsC7Gfl",
   "execution_count": 71,
   "outputs": [
    {
     "name": "stdout",
     "output_type": "stream",
     "text": [
      "<class 'pandas.core.frame.DataFrame'>\n",
      "Index: 67842 entries, 101763 to 169604\n",
      "Data columns (total 22 columns):\n",
      " #   Column             Non-Null Count  Dtype   \n",
      "---  ------             --------------  -----   \n",
      " 0   loc                67842 non-null  float64 \n",
      " 1   v(g)               67842 non-null  float64 \n",
      " 2   ev(g)              67842 non-null  float64 \n",
      " 3   iv(g)              67842 non-null  float64 \n",
      " 4   v                  67842 non-null  float64 \n",
      " 5   d                  67842 non-null  float64 \n",
      " 6   i                  67842 non-null  float64 \n",
      " 7   e                  67842 non-null  float64 \n",
      " 8   b                  67842 non-null  float64 \n",
      " 9   t                  67842 non-null  float64 \n",
      " 10  lOCode             67842 non-null  int64   \n",
      " 11  lOComment          67842 non-null  int64   \n",
      " 12  locCodeAndComment  67842 non-null  int64   \n",
      " 13  uniq_Op            67842 non-null  float64 \n",
      " 14  uniq_Opnd          67842 non-null  float64 \n",
      " 15  lOBlank_n          67842 non-null  category\n",
      " 16  n_n                67842 non-null  category\n",
      " 17  branchCount_n      67842 non-null  category\n",
      " 18  l_n                67842 non-null  category\n",
      " 19  total_Op_n         67842 non-null  category\n",
      " 20  total_Opnd_n       67842 non-null  category\n",
      " 21  outlier_count      67842 non-null  category\n",
      "dtypes: category(7), float64(12), int64(3)\n",
      "memory usage: 8.7 MB\n"
     ]
    }
   ]
  },
  {
   "cell_type": "code",
   "execution_count": 72,
   "id": "b6787765",
   "metadata": {
    "id": "b6787765",
    "colab": {
     "base_uri": "https://localhost:8080/",
     "height": 496
    },
    "outputId": "2876cc07-2f84-46b9-a06f-8058a88c1c59"
   },
   "outputs": [],
   "source": [
    "## X_test 만들기 : 앞서했던 전처리를 동일하게 적용해주면 됨.\n"
   ]
  },
  {
   "cell_type": "code",
   "execution_count": 73,
   "id": "a0daf54e",
   "metadata": {
    "id": "a0daf54e",
    "colab": {
     "base_uri": "https://localhost:8080/"
    },
    "outputId": "90168fcf-9c4d-4a37-a83c-45ed45ba9997"
   },
   "outputs": [
    {
     "name": "stdout",
     "output_type": "stream",
     "text": [
      "========== Fold 1 ==========\n",
      "========== Fold 2 ==========\n",
      "========== Fold 3 ==========\n",
      "========== Fold 4 ==========\n",
      "========== Fold 5 ==========\n",
      "Loss : 0.7911\n"
     ]
    },
    {
     "data": {
      "text/plain": "array([0.26471943, 0.21795687, 0.66364557, ..., 0.15508252, 0.10903223,\n       0.7923894 ], dtype=float32)"
     },
     "execution_count": 73,
     "metadata": {},
     "output_type": "execute_result"
    }
   ],
   "source": [
    "best_params = study.best_trial.params\n",
    "\n",
    "# define best model\n",
    "best_model = XGBClassifier(**best_params, random_state=61, tree_method='hist', enable_categorical=True,)\n",
    "\n",
    "# model finalization : 가장 일반적으로 좋은 예측 성능을 냈던 모델로, 전체 데이터 트레이닝.\n",
    "\n",
    "preds, oof = oof_preds(best_model)\n",
    "preds = np.mean(preds, axis=0)\n",
    "preds"
   ]
  },
  {
   "cell_type": "code",
   "execution_count": 74,
   "id": "8ff2070c",
   "metadata": {
    "id": "8ff2070c"
   },
   "outputs": [],
   "source": [
    "submission['defects'] = preds"
   ]
  },
  {
   "cell_type": "code",
   "execution_count": 75,
   "id": "55a2c13f",
   "metadata": {
    "id": "55a2c13f"
   },
   "outputs": [],
   "source": [
    "submission.to_csv(base_path+'preds/xgboost.csv')"
   ]
  },
  {
   "cell_type": "code",
   "source": [
    "oof_df = pd.DataFrame({\n",
    "    'xgboost_oof': oof\n",
    "})\n",
    "oof_df.head()"
   ],
   "metadata": {
    "id": "QIgSFAdJ8oRh"
   },
   "id": "QIgSFAdJ8oRh",
   "execution_count": 76,
   "outputs": [
    {
     "data": {
      "text/plain": "   xgboost_oof\n0     0.090458\n1     0.055308\n2     0.051901\n3     0.095929\n4     0.122568",
      "text/html": "<div>\n<style scoped>\n    .dataframe tbody tr th:only-of-type {\n        vertical-align: middle;\n    }\n\n    .dataframe tbody tr th {\n        vertical-align: top;\n    }\n\n    .dataframe thead th {\n        text-align: right;\n    }\n</style>\n<table border=\"1\" class=\"dataframe\">\n  <thead>\n    <tr style=\"text-align: right;\">\n      <th></th>\n      <th>xgboost_oof</th>\n    </tr>\n  </thead>\n  <tbody>\n    <tr>\n      <th>0</th>\n      <td>0.090458</td>\n    </tr>\n    <tr>\n      <th>1</th>\n      <td>0.055308</td>\n    </tr>\n    <tr>\n      <th>2</th>\n      <td>0.051901</td>\n    </tr>\n    <tr>\n      <th>3</th>\n      <td>0.095929</td>\n    </tr>\n    <tr>\n      <th>4</th>\n      <td>0.122568</td>\n    </tr>\n  </tbody>\n</table>\n</div>"
     },
     "execution_count": 76,
     "metadata": {},
     "output_type": "execute_result"
    }
   ]
  },
  {
   "cell_type": "code",
   "execution_count": 77,
   "outputs": [],
   "source": [
    "oof_df.to_csv(base_path+'oof/xgboost.csv', index_label='id', header=['xgboost_oof'])"
   ],
   "metadata": {
    "collapsed": false,
    "pycharm": {
     "name": "#%%\n"
    }
   }
  },
  {
   "cell_type": "code",
   "execution_count": 78,
   "outputs": [
    {
     "data": {
      "text/plain": "    importance             column\n21    0.665631      outlier_count\n17    0.154951      branchCount_n\n0     0.057944                loc\n8     0.035403                  b\n19    0.026022         total_Op_n\n15    0.008913          lOBlank_n\n14    0.008393          uniq_Opnd\n1     0.007044               v(g)\n4     0.006454                  v\n3     0.004163              iv(g)\n13    0.003151            uniq_Op\n5     0.003012                  d\n10    0.002808             lOCode\n9     0.002652                  t\n20    0.002564       total_Opnd_n\n7     0.002548                  e\n6     0.002477                  i\n12    0.002127  locCodeAndComment\n2     0.002009              ev(g)\n11    0.001732          lOComment\n18    0.000000                l_n\n16    0.000000                n_n",
      "text/html": "<div>\n<style scoped>\n    .dataframe tbody tr th:only-of-type {\n        vertical-align: middle;\n    }\n\n    .dataframe tbody tr th {\n        vertical-align: top;\n    }\n\n    .dataframe thead th {\n        text-align: right;\n    }\n</style>\n<table border=\"1\" class=\"dataframe\">\n  <thead>\n    <tr style=\"text-align: right;\">\n      <th></th>\n      <th>importance</th>\n      <th>column</th>\n    </tr>\n  </thead>\n  <tbody>\n    <tr>\n      <th>21</th>\n      <td>0.665631</td>\n      <td>outlier_count</td>\n    </tr>\n    <tr>\n      <th>17</th>\n      <td>0.154951</td>\n      <td>branchCount_n</td>\n    </tr>\n    <tr>\n      <th>0</th>\n      <td>0.057944</td>\n      <td>loc</td>\n    </tr>\n    <tr>\n      <th>8</th>\n      <td>0.035403</td>\n      <td>b</td>\n    </tr>\n    <tr>\n      <th>19</th>\n      <td>0.026022</td>\n      <td>total_Op_n</td>\n    </tr>\n    <tr>\n      <th>15</th>\n      <td>0.008913</td>\n      <td>lOBlank_n</td>\n    </tr>\n    <tr>\n      <th>14</th>\n      <td>0.008393</td>\n      <td>uniq_Opnd</td>\n    </tr>\n    <tr>\n      <th>1</th>\n      <td>0.007044</td>\n      <td>v(g)</td>\n    </tr>\n    <tr>\n      <th>4</th>\n      <td>0.006454</td>\n      <td>v</td>\n    </tr>\n    <tr>\n      <th>3</th>\n      <td>0.004163</td>\n      <td>iv(g)</td>\n    </tr>\n    <tr>\n      <th>13</th>\n      <td>0.003151</td>\n      <td>uniq_Op</td>\n    </tr>\n    <tr>\n      <th>5</th>\n      <td>0.003012</td>\n      <td>d</td>\n    </tr>\n    <tr>\n      <th>10</th>\n      <td>0.002808</td>\n      <td>lOCode</td>\n    </tr>\n    <tr>\n      <th>9</th>\n      <td>0.002652</td>\n      <td>t</td>\n    </tr>\n    <tr>\n      <th>20</th>\n      <td>0.002564</td>\n      <td>total_Opnd_n</td>\n    </tr>\n    <tr>\n      <th>7</th>\n      <td>0.002548</td>\n      <td>e</td>\n    </tr>\n    <tr>\n      <th>6</th>\n      <td>0.002477</td>\n      <td>i</td>\n    </tr>\n    <tr>\n      <th>12</th>\n      <td>0.002127</td>\n      <td>locCodeAndComment</td>\n    </tr>\n    <tr>\n      <th>2</th>\n      <td>0.002009</td>\n      <td>ev(g)</td>\n    </tr>\n    <tr>\n      <th>11</th>\n      <td>0.001732</td>\n      <td>lOComment</td>\n    </tr>\n    <tr>\n      <th>18</th>\n      <td>0.000000</td>\n      <td>l_n</td>\n    </tr>\n    <tr>\n      <th>16</th>\n      <td>0.000000</td>\n      <td>n_n</td>\n    </tr>\n  </tbody>\n</table>\n</div>"
     },
     "execution_count": 78,
     "metadata": {},
     "output_type": "execute_result"
    }
   ],
   "source": [
    "pd.DataFrame({'importance':best_model.feature_importances_,'column':test.columns}).sort_values(by='importance', ascending=False)"
   ],
   "metadata": {
    "collapsed": false,
    "pycharm": {
     "name": "#%%\n"
    }
   }
  },
  {
   "cell_type": "code",
   "execution_count": 78,
   "outputs": [],
   "source": [],
   "metadata": {
    "collapsed": false,
    "pycharm": {
     "name": "#%%\n"
    }
   }
  }
 ],
 "metadata": {
  "kernelspec": {
   "display_name": "Python 3 (ipykernel)",
   "language": "python",
   "name": "python3"
  },
  "language_info": {
   "codemirror_mode": {
    "name": "ipython",
    "version": 3
   },
   "file_extension": ".py",
   "mimetype": "text/x-python",
   "name": "python",
   "nbconvert_exporter": "python",
   "pygments_lexer": "ipython3",
   "version": "3.10.1"
  },
  "colab": {
   "provenance": []
  }
 },
 "nbformat": 4,
 "nbformat_minor": 5
}