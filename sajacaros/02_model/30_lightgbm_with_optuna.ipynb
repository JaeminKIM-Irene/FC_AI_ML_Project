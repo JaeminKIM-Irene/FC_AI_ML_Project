{
 "cells": [
  {
   "cell_type": "markdown",
   "id": "8f3119aa",
   "metadata": {
    "id": "8f3119aa"
   },
   "source": [
    "## Machine Learning 프로젝트 수행을 위한 코드 구조화"
   ]
  },
  {
   "cell_type": "markdown",
   "id": "9f7610ea",
   "metadata": {
    "id": "9f7610ea"
   },
   "source": [
    "- ML project를 위해서 사용하는 템플릿 코드를 만듭니다.\n",
    "\n",
    "1. **필요한 라이브러리와 데이터를 불러옵니다.**\n",
    "\n",
    "\n",
    "2. **EDA를 수행합니다.** 이 때 EDA의 목적은 풀어야하는 문제를 위해서 수행됩니다.\n",
    "\n",
    "\n",
    "3. **전처리를 수행합니다.** 이 때 중요한건 **feature engineering**을 어떻게 하느냐 입니다.\n",
    "\n",
    "\n",
    "4. **데이터 분할을 합니다.** 이 때 train data와 test data 간의 분포 차이가 없는지 확인합니다.\n",
    "\n",
    "\n",
    "5. **학습을 진행합니다.** 어떤 모델을 사용하여 학습할지 정합니다. 성능이 잘 나오는 GBM을 추천합니다.\n",
    "\n",
    "\n",
    "6. **hyper-parameter tuning을 수행합니다.** 원하는 목표 성능이 나올 때 까지 진행합니다. 검증 단계를 통해 지속적으로 **overfitting이 되지 않게 주의**하세요.\n",
    "\n",
    "\n",
    "7. **최종 테스트를 진행합니다.** 데이터 분석 대회 포맷에 맞는 submission 파일을 만들어서 성능을 확인해보세요."
   ]
  },
  {
   "cell_type": "markdown",
   "id": "bd2f7530",
   "metadata": {
    "id": "bd2f7530"
   },
   "source": [
    "## 1. 라이브러리, 데이터 불러오기"
   ]
  },
  {
   "cell_type": "code",
   "execution_count": 25,
   "id": "125fc348",
   "metadata": {
    "id": "125fc348"
   },
   "outputs": [],
   "source": [
    "# 데이터분석 4종 세트\n",
    "import numpy as np\n",
    "import pandas as pd\n",
    "import matplotlib.pyplot as plt\n",
    "import seaborn as sns\n",
    "\n",
    "# 모델들, 성능 평가\n",
    "# (저는 일반적으로 정형데이터로 머신러닝 분석할 때는 이 2개 모델은 그냥 돌려봅니다. 특히 RF가 테스트하기 좋습니다.)\n",
    "from sklearn.ensemble import RandomForestClassifier, RandomForestRegressor\n",
    "from lightgbm import LGBMClassifier\n",
    "\n",
    "# KFold(CV), partial : optuna를 사용하기 위함\n",
    "from sklearn.model_selection import StratifiedKFold\n",
    "from sklearn.metrics import roc_auc_score\n",
    "from functools import partial\n",
    "\n",
    "# hyper-parameter tuning을 위한 라이브러리, optuna\n",
    "import optuna"
   ]
  },
  {
   "cell_type": "code",
   "execution_count": 26,
   "id": "3615c24a",
   "metadata": {
    "colab": {
     "base_uri": "https://localhost:8080/"
    },
    "id": "3615c24a",
    "outputId": "6dc93ad0-06c8-4ee0-a96d-8d9a5dd6ddaf"
   },
   "outputs": [
    {
     "name": "stdout",
     "output_type": "stream",
     "text": [
      "(101763, 23) (67842, 22) (67842, 2)\n"
     ]
    }
   ],
   "source": [
    "# 데이터를 불러옵니다.\n",
    "base_path = '../../data/'\n",
    "train = pd.read_csv(base_path + 'train.csv')\n",
    "test = pd.read_csv(base_path + 'test.csv')\n",
    "submission = pd.read_csv(base_path + 'sample_submission.csv')\n",
    "print(train.shape, test.shape, submission.shape)"
   ]
  },
  {
   "cell_type": "markdown",
   "id": "c9c9acb8",
   "metadata": {
    "id": "c9c9acb8"
   },
   "source": [
    "## 2. EDA"
   ]
  },
  {
   "cell_type": "markdown",
   "id": "6fdf620b",
   "metadata": {
    "id": "6fdf620b"
   },
   "source": [
    "- 데이터에서 찾아야 하는 기초적인 내용들을 확인합니다.\n",
    "\n",
    "\n",
    "- class imbalance, target distribution, outlier, correlation을 확인합니다."
   ]
  },
  {
   "cell_type": "code",
   "source": [
    "train.columns"
   ],
   "metadata": {
    "colab": {
     "base_uri": "https://localhost:8080/"
    },
    "id": "R1TxMunIv4zb",
    "outputId": "56e20880-07fb-4f2a-c614-ef0c3202a0d0"
   },
   "id": "R1TxMunIv4zb",
   "execution_count": 27,
   "outputs": [
    {
     "data": {
      "text/plain": "Index(['id', 'loc', 'v(g)', 'ev(g)', 'iv(g)', 'n', 'v', 'l', 'd', 'i', 'e',\n       'b', 't', 'lOCode', 'lOComment', 'lOBlank', 'locCodeAndComment',\n       'uniq_Op', 'uniq_Opnd', 'total_Op', 'total_Opnd', 'branchCount',\n       'defects'],\n      dtype='object')"
     },
     "execution_count": 27,
     "metadata": {},
     "output_type": "execute_result"
    }
   ]
  },
  {
   "cell_type": "markdown",
   "id": "9dbb8802",
   "metadata": {
    "id": "9dbb8802"
   },
   "source": [
    "### 3. 전처리"
   ]
  },
  {
   "cell_type": "markdown",
   "id": "b79a6f0a",
   "metadata": {
    "id": "b79a6f0a"
   },
   "source": [
    "#### 결측치 처리"
   ]
  },
  {
   "cell_type": "markdown",
   "id": "f497a2d8",
   "metadata": {
    "id": "f497a2d8"
   },
   "source": [
    "### 4. 학습 데이터 분할"
   ]
  },
  {
   "cell_type": "code",
   "execution_count": 28,
   "id": "47306aaf",
   "metadata": {
    "id": "47306aaf"
   },
   "outputs": [],
   "source": [
    "# 첫번째 테스트용으로 사용하고, 실제 학습시에는 K-Fold CV를 사용합니다.\n",
    "from sklearn.model_selection import train_test_split\n",
    "\n",
    "X = train.drop(columns=['defects'])\n",
    "y = train.defects\n",
    "\n",
    "# for OOF-prediction split 5% of data as validation dataset.\n",
    "X_train, X_val, y_train, y_val = train_test_split(X, y, test_size=0.2, random_state=61, stratify=y)"
   ]
  },
  {
   "cell_type": "code",
   "execution_count": 29,
   "id": "67efd2ee",
   "metadata": {
    "colab": {
     "base_uri": "https://localhost:8080/"
    },
    "id": "67efd2ee",
    "outputId": "a8a904f0-8109-4e87-b0d8-81d97dde4a49"
   },
   "outputs": [
    {
     "name": "stdout",
     "output_type": "stream",
     "text": [
      "(81410, 22) (81410,) (20353, 22) (20353,)\n",
      "0.2266429185603734 0.22664963396059548\n"
     ]
    }
   ],
   "source": [
    "print(X_train.shape, y_train.shape, X_val.shape, y_val.shape)\n",
    "print(y_train.mean(), y_val.mean())"
   ]
  },
  {
   "cell_type": "markdown",
   "id": "58056e51",
   "metadata": {
    "id": "58056e51"
   },
   "source": [
    "### 5. 학습 및 평가"
   ]
  },
  {
   "cell_type": "code",
   "execution_count": 30,
   "id": "39fd2515",
   "metadata": {
    "id": "39fd2515"
   },
   "outputs": [],
   "source": [
    "# 간단하게 LightGBM 테스트\n",
    "# 적당한 hyper-parameter 조합을 두었습니다. (항상 best는 아닙니다. 예시입니다.)\n",
    "model = LGBMClassifier(\n",
    "    n_jobs=-1,\n",
    "    random_state=61\n",
    ")"
   ]
  },
  {
   "cell_type": "code",
   "execution_count": 31,
   "id": "ddffa474",
   "metadata": {
    "scrolled": true,
    "colab": {
     "base_uri": "https://localhost:8080/",
     "height": 214
    },
    "id": "ddffa474",
    "outputId": "4e723622-af5a-4fea-9cd4-dfcd3c65630a"
   },
   "outputs": [
    {
     "name": "stdout",
     "output_type": "stream",
     "text": [
      "\n",
      "Fitting LightGBM...\n"
     ]
    },
    {
     "data": {
      "text/plain": "LGBMClassifier(random_state=61)",
      "text/html": "<style>#sk-container-id-2 {color: black;}#sk-container-id-2 pre{padding: 0;}#sk-container-id-2 div.sk-toggleable {background-color: white;}#sk-container-id-2 label.sk-toggleable__label {cursor: pointer;display: block;width: 100%;margin-bottom: 0;padding: 0.3em;box-sizing: border-box;text-align: center;}#sk-container-id-2 label.sk-toggleable__label-arrow:before {content: \"▸\";float: left;margin-right: 0.25em;color: #696969;}#sk-container-id-2 label.sk-toggleable__label-arrow:hover:before {color: black;}#sk-container-id-2 div.sk-estimator:hover label.sk-toggleable__label-arrow:before {color: black;}#sk-container-id-2 div.sk-toggleable__content {max-height: 0;max-width: 0;overflow: hidden;text-align: left;background-color: #f0f8ff;}#sk-container-id-2 div.sk-toggleable__content pre {margin: 0.2em;color: black;border-radius: 0.25em;background-color: #f0f8ff;}#sk-container-id-2 input.sk-toggleable__control:checked~div.sk-toggleable__content {max-height: 200px;max-width: 100%;overflow: auto;}#sk-container-id-2 input.sk-toggleable__control:checked~label.sk-toggleable__label-arrow:before {content: \"▾\";}#sk-container-id-2 div.sk-estimator input.sk-toggleable__control:checked~label.sk-toggleable__label {background-color: #d4ebff;}#sk-container-id-2 div.sk-label input.sk-toggleable__control:checked~label.sk-toggleable__label {background-color: #d4ebff;}#sk-container-id-2 input.sk-hidden--visually {border: 0;clip: rect(1px 1px 1px 1px);clip: rect(1px, 1px, 1px, 1px);height: 1px;margin: -1px;overflow: hidden;padding: 0;position: absolute;width: 1px;}#sk-container-id-2 div.sk-estimator {font-family: monospace;background-color: #f0f8ff;border: 1px dotted black;border-radius: 0.25em;box-sizing: border-box;margin-bottom: 0.5em;}#sk-container-id-2 div.sk-estimator:hover {background-color: #d4ebff;}#sk-container-id-2 div.sk-parallel-item::after {content: \"\";width: 100%;border-bottom: 1px solid gray;flex-grow: 1;}#sk-container-id-2 div.sk-label:hover label.sk-toggleable__label {background-color: #d4ebff;}#sk-container-id-2 div.sk-serial::before {content: \"\";position: absolute;border-left: 1px solid gray;box-sizing: border-box;top: 0;bottom: 0;left: 50%;z-index: 0;}#sk-container-id-2 div.sk-serial {display: flex;flex-direction: column;align-items: center;background-color: white;padding-right: 0.2em;padding-left: 0.2em;position: relative;}#sk-container-id-2 div.sk-item {position: relative;z-index: 1;}#sk-container-id-2 div.sk-parallel {display: flex;align-items: stretch;justify-content: center;background-color: white;position: relative;}#sk-container-id-2 div.sk-item::before, #sk-container-id-2 div.sk-parallel-item::before {content: \"\";position: absolute;border-left: 1px solid gray;box-sizing: border-box;top: 0;bottom: 0;left: 50%;z-index: -1;}#sk-container-id-2 div.sk-parallel-item {display: flex;flex-direction: column;z-index: 1;position: relative;background-color: white;}#sk-container-id-2 div.sk-parallel-item:first-child::after {align-self: flex-end;width: 50%;}#sk-container-id-2 div.sk-parallel-item:last-child::after {align-self: flex-start;width: 50%;}#sk-container-id-2 div.sk-parallel-item:only-child::after {width: 0;}#sk-container-id-2 div.sk-dashed-wrapped {border: 1px dashed gray;margin: 0 0.4em 0.5em 0.4em;box-sizing: border-box;padding-bottom: 0.4em;background-color: white;}#sk-container-id-2 div.sk-label label {font-family: monospace;font-weight: bold;display: inline-block;line-height: 1.2em;}#sk-container-id-2 div.sk-label-container {text-align: center;}#sk-container-id-2 div.sk-container {/* jupyter's `normalize.less` sets `[hidden] { display: none; }` but bootstrap.min.css set `[hidden] { display: none !important; }` so we also need the `!important` here to be able to override the default hidden behavior on the sphinx rendered scikit-learn.org. See: https://github.com/scikit-learn/scikit-learn/issues/21755 */display: inline-block !important;position: relative;}#sk-container-id-2 div.sk-text-repr-fallback {display: none;}</style><div id=\"sk-container-id-2\" class=\"sk-top-container\"><div class=\"sk-text-repr-fallback\"><pre>LGBMClassifier(random_state=61)</pre><b>In a Jupyter environment, please rerun this cell to show the HTML representation or trust the notebook. <br />On GitHub, the HTML representation is unable to render, please try loading this page with nbviewer.org.</b></div><div class=\"sk-container\" hidden><div class=\"sk-item\"><div class=\"sk-estimator sk-toggleable\"><input class=\"sk-toggleable__control sk-hidden--visually\" id=\"sk-estimator-id-2\" type=\"checkbox\" checked><label for=\"sk-estimator-id-2\" class=\"sk-toggleable__label sk-toggleable__label-arrow\">LGBMClassifier</label><div class=\"sk-toggleable__content\"><pre>LGBMClassifier(random_state=61)</pre></div></div></div></div></div>"
     },
     "execution_count": 31,
     "metadata": {},
     "output_type": "execute_result"
    }
   ],
   "source": [
    "print(\"\\nFitting LightGBM...\")\n",
    "model.fit(X_train, y_train)"
   ]
  },
  {
   "cell_type": "code",
   "execution_count": 32,
   "id": "6c8b0259",
   "metadata": {
    "id": "6c8b0259"
   },
   "outputs": [],
   "source": [
    "# metric은 그때마다 맞게 바꿔줘야 합니다.\n",
    "evaluation_metric = roc_auc_score"
   ]
  },
  {
   "cell_type": "code",
   "execution_count": 33,
   "id": "a6b39be5",
   "metadata": {
    "colab": {
     "base_uri": "https://localhost:8080/"
    },
    "id": "a6b39be5",
    "outputId": "2e2c256f-fe78-4deb-8fab-727306e3ffec"
   },
   "outputs": [
    {
     "name": "stdout",
     "output_type": "stream",
     "text": [
      "Prediction\n",
      "Train Score : 0.6770\n",
      "Validation Score : 0.6676\n"
     ]
    }
   ],
   "source": [
    "print(\"Prediction\")\n",
    "pred_train = model.predict(X_train)\n",
    "pred_val = model.predict(X_val)\n",
    "\n",
    "\n",
    "train_score = evaluation_metric(y_train, pred_train)\n",
    "val_score = evaluation_metric(y_val, pred_val)\n",
    "\n",
    "print(\"Train Score : %.4f\" % train_score)\n",
    "print(\"Validation Score : %.4f\" % val_score)"
   ]
  },
  {
   "cell_type": "markdown",
   "id": "bc755b17",
   "metadata": {
    "id": "bc755b17"
   },
   "source": [
    "### 6. Hyper-parameter Tuning"
   ]
  },
  {
   "cell_type": "code",
   "execution_count": 34,
   "id": "34ce4986",
   "metadata": {
    "id": "34ce4986"
   },
   "outputs": [],
   "source": [
    "def optimizer(trial, X, y, K):\n",
    "    # 조절할 hyper-parameter 조합을 적어줍니다.\n",
    "    max_depth = trial.suggest_int('max_depth', 15, 25)\n",
    "    num_leaves = trial.suggest_categorical('num_leaves', [32, 64,128,256,512,1024,2048])\n",
    "    min_child_samples = trial.suggest_int('min_child_samples', 60, 80)\n",
    "    colsample_bytree = trial.suggest_float('colsample_bytree', 0.6, 0.8)\n",
    "    n_estimators = trial.suggest_int('n_estimators', 50, 2047)\n",
    "    learning_rate = trial.suggest_float('learning_rate', 0.005, 0.1)\n",
    "\n",
    "    # 원하는 모델을 지정합니다, optuna는 시간이 오래걸리기 때문에 저는 보통 RF로 일단 테스트를 해본 뒤에 LGBM을 사용합니다.\n",
    "    model = LGBMClassifier(\n",
    "        max_depth=max_depth,\n",
    "        num_leaves=num_leaves,\n",
    "        min_child_samples=min_child_samples,\n",
    "        colsample_bytree=colsample_bytree,\n",
    "        n_estimators=n_estimators,\n",
    "        learning_rate=learning_rate,\n",
    "        random_state=61,\n",
    "    )\n",
    "\n",
    "    # K-Fold Cross validation을 구현합니다.\n",
    "    folds = StratifiedKFold(n_splits=K, random_state=61, shuffle=True)\n",
    "    losses = []\n",
    "\n",
    "    for train_idx, val_idx in folds.split(X, y):\n",
    "        X_train = X.iloc[train_idx, :]\n",
    "        y_train = y.iloc[train_idx]\n",
    "\n",
    "        X_val = X.iloc[val_idx, :]\n",
    "        y_val = y.iloc[val_idx]\n",
    "\n",
    "        model.fit(X_train, y_train)\n",
    "        preds = model.predict(X_val)\n",
    "        loss = evaluation_metric(y_val, preds)\n",
    "        losses.append(loss)\n",
    "\n",
    "\n",
    "    # K-Fold의 평균 loss값을 돌려줍니다.\n",
    "    return np.mean(losses)"
   ]
  },
  {
   "cell_type": "code",
   "execution_count": 35,
   "id": "7150b210",
   "metadata": {
    "scrolled": false,
    "colab": {
     "base_uri": "https://localhost:8080/"
    },
    "id": "7150b210",
    "outputId": "fa1c663f-0f17-4f21-8016-ac43d456666d"
   },
   "outputs": [
    {
     "name": "stderr",
     "output_type": "stream",
     "text": [
      "[I 2023-10-15 01:24:34,215] A new study created in memory with name: no-name-032db553-1e11-401d-a0d6-5384561b33fb\n",
      "[I 2023-10-15 01:27:50,984] Trial 0 finished with value: 0.6577500206037464 and parameters: {'max_depth': 19, 'num_leaves': 512, 'min_child_samples': 64, 'colsample_bytree': 0.6502067446158839, 'n_estimators': 1215, 'learning_rate': 0.017442666412207996}. Best is trial 0 with value: 0.6577500206037464.\n",
      "[I 2023-10-15 01:27:57,779] Trial 1 finished with value: 0.663642404536692 and parameters: {'max_depth': 21, 'num_leaves': 32, 'min_child_samples': 68, 'colsample_bytree': 0.7272271257119367, 'n_estimators': 234, 'learning_rate': 0.06706234390276307}. Best is trial 1 with value: 0.663642404536692.\n",
      "[I 2023-10-15 01:30:02,607] Trial 2 finished with value: 0.6509488588781851 and parameters: {'max_depth': 17, 'num_leaves': 512, 'min_child_samples': 77, 'colsample_bytree': 0.6598573369208828, 'n_estimators': 1613, 'learning_rate': 0.07823595927762073}. Best is trial 1 with value: 0.663642404536692.\n",
      "[I 2023-10-15 01:32:06,592] Trial 3 finished with value: 0.656835796962746 and parameters: {'max_depth': 19, 'num_leaves': 512, 'min_child_samples': 78, 'colsample_bytree': 0.7397577381009123, 'n_estimators': 1397, 'learning_rate': 0.01844986525781864}. Best is trial 1 with value: 0.663642404536692.\n",
      "[I 2023-10-15 01:33:55,904] Trial 4 finished with value: 0.6558846071207434 and parameters: {'max_depth': 22, 'num_leaves': 2048, 'min_child_samples': 76, 'colsample_bytree': 0.6378247572487803, 'n_estimators': 1337, 'learning_rate': 0.027265323718354648}. Best is trial 1 with value: 0.663642404536692.\n",
      "[I 2023-10-15 01:34:42,351] Trial 5 finished with value: 0.6541310851926638 and parameters: {'max_depth': 18, 'num_leaves': 1024, 'min_child_samples': 79, 'colsample_bytree': 0.7630123130878668, 'n_estimators': 851, 'learning_rate': 0.06484586492437315}. Best is trial 1 with value: 0.663642404536692.\n",
      "[I 2023-10-15 01:35:29,343] Trial 6 finished with value: 0.6531732139393243 and parameters: {'max_depth': 18, 'num_leaves': 1024, 'min_child_samples': 65, 'colsample_bytree': 0.614329814776896, 'n_estimators': 734, 'learning_rate': 0.08654149196500296}. Best is trial 1 with value: 0.663642404536692.\n",
      "[I 2023-10-15 01:36:47,157] Trial 7 finished with value: 0.6570776852773563 and parameters: {'max_depth': 15, 'num_leaves': 128, 'min_child_samples': 76, 'colsample_bytree': 0.6979776911913459, 'n_estimators': 1855, 'learning_rate': 0.022347464104820414}. Best is trial 1 with value: 0.663642404536692.\n",
      "[I 2023-10-15 01:37:39,198] Trial 8 finished with value: 0.654337339348195 and parameters: {'max_depth': 16, 'num_leaves': 64, 'min_child_samples': 61, 'colsample_bytree': 0.7880420589458266, 'n_estimators': 1501, 'learning_rate': 0.05984722002376671}. Best is trial 1 with value: 0.663642404536692.\n",
      "[I 2023-10-15 01:37:44,874] Trial 9 finished with value: 0.6069518511023763 and parameters: {'max_depth': 23, 'num_leaves': 32, 'min_child_samples': 63, 'colsample_bytree': 0.6535036005304005, 'n_estimators': 159, 'learning_rate': 0.007628313266935395}. Best is trial 1 with value: 0.663642404536692.\n",
      "[I 2023-10-15 01:37:47,616] Trial 10 finished with value: 0.6643306092967928 and parameters: {'max_depth': 21, 'num_leaves': 32, 'min_child_samples': 70, 'colsample_bytree': 0.7132484871459221, 'n_estimators': 62, 'learning_rate': 0.09536546590509594}. Best is trial 10 with value: 0.6643306092967928.\n",
      "[I 2023-10-15 01:37:50,238] Trial 11 finished with value: 0.6649494888765418 and parameters: {'max_depth': 25, 'num_leaves': 32, 'min_child_samples': 70, 'colsample_bytree': 0.7175525201882949, 'n_estimators': 57, 'learning_rate': 0.0995958809028886}. Best is trial 11 with value: 0.6649494888765418.\n",
      "[I 2023-10-15 01:38:14,819] Trial 12 finished with value: 0.6539776928729305 and parameters: {'max_depth': 25, 'num_leaves': 256, 'min_child_samples': 72, 'colsample_bytree': 0.7013439501046744, 'n_estimators': 454, 'learning_rate': 0.09960958606351025}. Best is trial 11 with value: 0.6649494888765418.\n",
      "[I 2023-10-15 01:38:17,758] Trial 13 finished with value: 0.6642752180102358 and parameters: {'max_depth': 25, 'num_leaves': 32, 'min_child_samples': 71, 'colsample_bytree': 0.693328446974042, 'n_estimators': 79, 'learning_rate': 0.09956830020992888}. Best is trial 11 with value: 0.6649494888765418.\n",
      "[I 2023-10-15 01:38:29,503] Trial 14 finished with value: 0.6585749679488624 and parameters: {'max_depth': 23, 'num_leaves': 32, 'min_child_samples': 68, 'colsample_bytree': 0.7282069548187531, 'n_estimators': 472, 'learning_rate': 0.08409533127023117}. Best is trial 11 with value: 0.6649494888765418.\n",
      "[I 2023-10-15 01:38:43,391] Trial 15 finished with value: 0.6610589064501331 and parameters: {'max_depth': 24, 'num_leaves': 32, 'min_child_samples': 73, 'colsample_bytree': 0.7993171067073561, 'n_estimators': 529, 'learning_rate': 0.04604156381106479}. Best is trial 11 with value: 0.6649494888765418.\n",
      "[I 2023-10-15 01:39:51,052] Trial 16 finished with value: 0.6527175829628795 and parameters: {'max_depth': 21, 'num_leaves': 2048, 'min_child_samples': 68, 'colsample_bytree': 0.6829923483844016, 'n_estimators': 957, 'learning_rate': 0.09114612917626189}. Best is trial 11 with value: 0.6649494888765418.\n",
      "[I 2023-10-15 01:40:09,771] Trial 17 finished with value: 0.6567256921776068 and parameters: {'max_depth': 20, 'num_leaves': 256, 'min_child_samples': 73, 'colsample_bytree': 0.7507144205292127, 'n_estimators': 346, 'learning_rate': 0.07916389506619972}. Best is trial 11 with value: 0.6649494888765418.\n",
      "[I 2023-10-15 01:40:31,218] Trial 18 finished with value: 0.6552652622532615 and parameters: {'max_depth': 23, 'num_leaves': 64, 'min_child_samples': 69, 'colsample_bytree': 0.7129654272594588, 'n_estimators': 675, 'learning_rate': 0.09299336237539789}. Best is trial 11 with value: 0.6649494888765418.\n",
      "[I 2023-10-15 01:41:18,972] Trial 19 finished with value: 0.6537257605097835 and parameters: {'max_depth': 21, 'num_leaves': 128, 'min_child_samples': 65, 'colsample_bytree': 0.6765760065311307, 'n_estimators': 1142, 'learning_rate': 0.07500935237264893}. Best is trial 11 with value: 0.6649494888765418.\n",
      "[I 2023-10-15 01:41:22,281] Trial 20 finished with value: 0.6652029739628815 and parameters: {'max_depth': 24, 'num_leaves': 32, 'min_child_samples': 74, 'colsample_bytree': 0.7099890824690083, 'n_estimators': 75, 'learning_rate': 0.09064403496322172}. Best is trial 20 with value: 0.6652029739628815.\n",
      "[I 2023-10-15 01:41:25,223] Trial 21 finished with value: 0.6656346200698383 and parameters: {'max_depth': 24, 'num_leaves': 32, 'min_child_samples': 74, 'colsample_bytree': 0.7080352104708246, 'n_estimators': 63, 'learning_rate': 0.09089244698723227}. Best is trial 21 with value: 0.6656346200698383.\n",
      "[I 2023-10-15 01:41:35,372] Trial 22 finished with value: 0.6606717353025883 and parameters: {'max_depth': 24, 'num_leaves': 32, 'min_child_samples': 74, 'colsample_bytree': 0.7224232546005932, 'n_estimators': 297, 'learning_rate': 0.08720942688862476}. Best is trial 21 with value: 0.6656346200698383.\n",
      "[I 2023-10-15 01:41:42,865] Trial 23 finished with value: 0.6617776857253687 and parameters: {'max_depth': 25, 'num_leaves': 32, 'min_child_samples': 75, 'colsample_bytree': 0.7059729391760567, 'n_estimators': 208, 'learning_rate': 0.09971128768500717}. Best is trial 21 with value: 0.6656346200698383.\n",
      "[I 2023-10-15 01:41:57,825] Trial 24 finished with value: 0.6567020701599934 and parameters: {'max_depth': 24, 'num_leaves': 32, 'min_child_samples': 71, 'colsample_bytree': 0.6803549463920302, 'n_estimators': 627, 'learning_rate': 0.09045836422651583}. Best is trial 21 with value: 0.6656346200698383.\n",
      "[I 2023-10-15 01:42:00,476] Trial 25 finished with value: 0.6648198018904293 and parameters: {'max_depth': 24, 'num_leaves': 32, 'min_child_samples': 80, 'colsample_bytree': 0.7394804873358793, 'n_estimators': 57, 'learning_rate': 0.08072238362849489}. Best is trial 21 with value: 0.6656346200698383.\n",
      "[I 2023-10-15 01:42:10,039] Trial 26 finished with value: 0.6607614817301524 and parameters: {'max_depth': 22, 'num_leaves': 32, 'min_child_samples': 74, 'colsample_bytree': 0.7161485985527876, 'n_estimators': 362, 'learning_rate': 0.07260916031452297}. Best is trial 21 with value: 0.6656346200698383.\n",
      "[I 2023-10-15 01:44:06,159] Trial 27 finished with value: 0.6498321349292275 and parameters: {'max_depth': 25, 'num_leaves': 256, 'min_child_samples': 72, 'colsample_bytree': 0.6952871726642428, 'n_estimators': 2020, 'learning_rate': 0.08498781755021019}. Best is trial 21 with value: 0.6656346200698383.\n",
      "[I 2023-10-15 01:44:31,956] Trial 28 finished with value: 0.6564760861182026 and parameters: {'max_depth': 22, 'num_leaves': 1024, 'min_child_samples': 67, 'colsample_bytree': 0.7666080143162178, 'n_estimators': 260, 'learning_rate': 0.09175643201947557}. Best is trial 21 with value: 0.6656346200698383.\n",
      "[I 2023-10-15 01:44:49,856] Trial 29 finished with value: 0.6564470057806895 and parameters: {'max_depth': 23, 'num_leaves': 64, 'min_child_samples': 70, 'colsample_bytree': 0.7360255750203836, 'n_estimators': 545, 'learning_rate': 0.07185687613238438}. Best is trial 21 with value: 0.6656346200698383.\n",
      "[I 2023-10-15 01:45:17,907] Trial 30 finished with value: 0.6547563922939255 and parameters: {'max_depth': 24, 'num_leaves': 2048, 'min_child_samples': 75, 'colsample_bytree': 0.6676274079785028, 'n_estimators': 414, 'learning_rate': 0.08591202931684}. Best is trial 21 with value: 0.6656346200698383.\n",
      "[I 2023-10-15 01:45:20,077] Trial 31 finished with value: 0.6648586263721011 and parameters: {'max_depth': 24, 'num_leaves': 32, 'min_child_samples': 79, 'colsample_bytree': 0.7411517812058738, 'n_estimators': 64, 'learning_rate': 0.0820584172161195}. Best is trial 21 with value: 0.6656346200698383.\n",
      "[I 2023-10-15 01:45:23,887] Trial 32 finished with value: 0.6635717761711548 and parameters: {'max_depth': 25, 'num_leaves': 32, 'min_child_samples': 80, 'colsample_bytree': 0.7265798481013858, 'n_estimators': 172, 'learning_rate': 0.0931181478897823}. Best is trial 21 with value: 0.6656346200698383.\n",
      "[I 2023-10-15 01:45:27,860] Trial 33 finished with value: 0.6633719035207551 and parameters: {'max_depth': 23, 'num_leaves': 32, 'min_child_samples': 77, 'colsample_bytree': 0.7115681791824534, 'n_estimators': 186, 'learning_rate': 0.0797739666948419}. Best is trial 21 with value: 0.6656346200698383.\n",
      "[I 2023-10-15 01:45:33,388] Trial 34 finished with value: 0.6613499714162041 and parameters: {'max_depth': 24, 'num_leaves': 512, 'min_child_samples': 78, 'colsample_bytree': 0.7238734585574518, 'n_estimators': 56, 'learning_rate': 0.09449930973933778}. Best is trial 21 with value: 0.6656346200698383.\n",
      "[I 2023-10-15 01:45:38,627] Trial 35 finished with value: 0.6623465649552049 and parameters: {'max_depth': 22, 'num_leaves': 32, 'min_child_samples': 78, 'colsample_bytree': 0.68948682897831, 'n_estimators': 273, 'learning_rate': 0.08250896743763332}. Best is trial 21 with value: 0.6656346200698383.\n",
      "[I 2023-10-15 01:46:12,580] Trial 36 finished with value: 0.6527610657234949 and parameters: {'max_depth': 25, 'num_leaves': 512, 'min_child_samples': 76, 'colsample_bytree': 0.7051180563322355, 'n_estimators': 804, 'learning_rate': 0.0771344842952326}. Best is trial 21 with value: 0.6656346200698383.\n",
      "[I 2023-10-15 01:46:23,838] Trial 37 finished with value: 0.655677991066989 and parameters: {'max_depth': 24, 'num_leaves': 128, 'min_child_samples': 66, 'colsample_bytree': 0.7489606612207479, 'n_estimators': 356, 'learning_rate': 0.08735956062981794}. Best is trial 21 with value: 0.6656346200698383.\n",
      "[I 2023-10-15 01:46:27,322] Trial 38 finished with value: 0.6643579288511563 and parameters: {'max_depth': 23, 'num_leaves': 32, 'min_child_samples': 74, 'colsample_bytree': 0.7319272625720028, 'n_estimators': 149, 'learning_rate': 0.06855554636918086}. Best is trial 21 with value: 0.6656346200698383.\n",
      "[I 2023-10-15 01:46:50,099] Trial 39 finished with value: 0.6529665700600992 and parameters: {'max_depth': 19, 'num_leaves': 1024, 'min_child_samples': 77, 'colsample_bytree': 0.7202006868859344, 'n_estimators': 571, 'learning_rate': 0.0965938667795619}. Best is trial 21 with value: 0.6656346200698383.\n",
      "[I 2023-10-15 01:47:15,493] Trial 40 finished with value: 0.6532306355540859 and parameters: {'max_depth': 20, 'num_leaves': 32, 'min_child_samples': 79, 'colsample_bytree': 0.7056315492302938, 'n_estimators': 1614, 'learning_rate': 0.08998981552156511}. Best is trial 21 with value: 0.6656346200698383.\n",
      "[I 2023-10-15 01:47:17,892] Trial 41 finished with value: 0.6653722476194937 and parameters: {'max_depth': 24, 'num_leaves': 32, 'min_child_samples': 80, 'colsample_bytree': 0.7416109785449767, 'n_estimators': 85, 'learning_rate': 0.07981948814805465}. Best is trial 21 with value: 0.6656346200698383.\n",
      "[I 2023-10-15 01:47:21,495] Trial 42 finished with value: 0.6630002583789569 and parameters: {'max_depth': 25, 'num_leaves': 32, 'min_child_samples': 79, 'colsample_bytree': 0.7450860151588856, 'n_estimators': 160, 'learning_rate': 0.08259526445278335}. Best is trial 21 with value: 0.6656346200698383.\n",
      "[I 2023-10-15 01:47:26,859] Trial 43 finished with value: 0.6622441795295082 and parameters: {'max_depth': 22, 'num_leaves': 32, 'min_child_samples': 80, 'colsample_bytree': 0.7331554993636231, 'n_estimators': 273, 'learning_rate': 0.07681430538462457}. Best is trial 21 with value: 0.6656346200698383.\n",
      "[I 2023-10-15 01:47:28,706] Trial 44 finished with value: 0.665444017277063 and parameters: {'max_depth': 24, 'num_leaves': 32, 'min_child_samples': 77, 'colsample_bytree': 0.7565240377851016, 'n_estimators': 50, 'learning_rate': 0.09513372762982761}. Best is trial 21 with value: 0.6656346200698383.\n",
      "[I 2023-10-15 01:47:41,021] Trial 45 finished with value: 0.6575648042714844 and parameters: {'max_depth': 23, 'num_leaves': 2048, 'min_child_samples': 77, 'colsample_bytree': 0.7605771417518657, 'n_estimators': 179, 'learning_rate': 0.09613193739036137}. Best is trial 21 with value: 0.6656346200698383.\n",
      "[I 2023-10-15 01:47:48,897] Trial 46 finished with value: 0.6596204221944111 and parameters: {'max_depth': 17, 'num_leaves': 32, 'min_child_samples': 75, 'colsample_bytree': 0.7573971855389389, 'n_estimators': 444, 'learning_rate': 0.08954040743907105}. Best is trial 21 with value: 0.6656346200698383.\n",
      "[I 2023-10-15 01:47:53,759] Trial 47 finished with value: 0.6615748700399757 and parameters: {'max_depth': 25, 'num_leaves': 128, 'min_child_samples': 72, 'colsample_bytree': 0.7212588100519417, 'n_estimators': 128, 'learning_rate': 0.09717647920825488}. Best is trial 21 with value: 0.6656346200698383.\n",
      "[I 2023-10-15 01:48:06,747] Trial 48 finished with value: 0.6574793501678323 and parameters: {'max_depth': 24, 'num_leaves': 512, 'min_child_samples': 60, 'colsample_bytree': 0.7703964726855059, 'n_estimators': 241, 'learning_rate': 0.09475406675648815}. Best is trial 21 with value: 0.6656346200698383.\n",
      "[I 2023-10-15 01:48:15,175] Trial 49 finished with value: 0.6575396394960936 and parameters: {'max_depth': 23, 'num_leaves': 64, 'min_child_samples': 76, 'colsample_bytree': 0.729465077053413, 'n_estimators': 352, 'learning_rate': 0.08821937385708042}. Best is trial 21 with value: 0.6656346200698383.\n"
     ]
    }
   ],
   "source": [
    "K = 5   # Kfold 수\n",
    "opt_func = partial(optimizer, X=X, y=y, K=K)\n",
    "\n",
    "study = optuna.create_study(direction=\"maximize\") # 최소/최대 어느 방향의 최적값을 구할 건지.\n",
    "study.optimize(opt_func, n_trials=50)"
   ]
  },
  {
   "cell_type": "markdown",
   "source": [],
   "metadata": {
    "collapsed": false
   }
  },
  {
   "cell_type": "code",
   "execution_count": 36,
   "id": "72d0a118",
   "metadata": {
    "colab": {
     "base_uri": "https://localhost:8080/",
     "height": 1000
    },
    "id": "72d0a118",
    "outputId": "978d6a99-5370-4b0e-c5f7-bb38fdde033b"
   },
   "outputs": [
    {
     "data": {
      "text/plain": "    number     value             datetime_start          datetime_complete  \\\n0        0  0.657750 2023-10-15 01:24:34.218367 2023-10-15 01:27:50.984095   \n1        1  0.663642 2023-10-15 01:27:50.985628 2023-10-15 01:27:57.778574   \n2        2  0.650949 2023-10-15 01:27:57.780574 2023-10-15 01:30:02.606383   \n3        3  0.656836 2023-10-15 01:30:02.608656 2023-10-15 01:32:06.592852   \n4        4  0.655885 2023-10-15 01:32:06.594879 2023-10-15 01:33:55.904361   \n5        5  0.654131 2023-10-15 01:33:55.905362 2023-10-15 01:34:42.350474   \n6        6  0.653173 2023-10-15 01:34:42.352475 2023-10-15 01:35:29.342105   \n7        7  0.657078 2023-10-15 01:35:29.344105 2023-10-15 01:36:47.156751   \n8        8  0.654337 2023-10-15 01:36:47.158585 2023-10-15 01:37:39.198144   \n9        9  0.606952 2023-10-15 01:37:39.200143 2023-10-15 01:37:44.874245   \n10      10  0.664331 2023-10-15 01:37:44.876253 2023-10-15 01:37:47.616223   \n11      11  0.664949 2023-10-15 01:37:47.617945 2023-10-15 01:37:50.238913   \n12      12  0.653978 2023-10-15 01:37:50.239914 2023-10-15 01:38:14.818409   \n13      13  0.664275 2023-10-15 01:38:14.820409 2023-10-15 01:38:17.757956   \n14      14  0.658575 2023-10-15 01:38:17.759957 2023-10-15 01:38:29.502542   \n15      15  0.661059 2023-10-15 01:38:29.504542 2023-10-15 01:38:43.390782   \n16      16  0.652718 2023-10-15 01:38:43.392784 2023-10-15 01:39:51.051415   \n17      17  0.656726 2023-10-15 01:39:51.053416 2023-10-15 01:40:09.770752   \n18      18  0.655265 2023-10-15 01:40:09.772752 2023-10-15 01:40:31.218544   \n19      19  0.653726 2023-10-15 01:40:31.219544 2023-10-15 01:41:18.971009   \n20      20  0.665203 2023-10-15 01:41:18.973009 2023-10-15 01:41:22.281619   \n21      21  0.665635 2023-10-15 01:41:22.283159 2023-10-15 01:41:25.222148   \n22      22  0.660672 2023-10-15 01:41:25.224149 2023-10-15 01:41:35.370411   \n23      23  0.661778 2023-10-15 01:41:35.374945 2023-10-15 01:41:42.865087   \n24      24  0.656702 2023-10-15 01:41:42.866088 2023-10-15 01:41:57.824636   \n25      25  0.664820 2023-10-15 01:41:57.826659 2023-10-15 01:42:00.476063   \n26      26  0.660761 2023-10-15 01:42:00.477879 2023-10-15 01:42:10.038047   \n27      27  0.649832 2023-10-15 01:42:10.040047 2023-10-15 01:44:06.159705   \n28      28  0.656476 2023-10-15 01:44:06.160707 2023-10-15 01:44:31.955335   \n29      29  0.656447 2023-10-15 01:44:31.957674 2023-10-15 01:44:49.856425   \n30      30  0.654756 2023-10-15 01:44:49.858374 2023-10-15 01:45:17.906527   \n31      31  0.664859 2023-10-15 01:45:17.908528 2023-10-15 01:45:20.076386   \n32      32  0.663572 2023-10-15 01:45:20.078385 2023-10-15 01:45:23.887786   \n33      33  0.663372 2023-10-15 01:45:23.888786 2023-10-15 01:45:27.859584   \n34      34  0.661350 2023-10-15 01:45:27.861598 2023-10-15 01:45:33.387761   \n35      35  0.662347 2023-10-15 01:45:33.389761 2023-10-15 01:45:38.626522   \n36      36  0.652761 2023-10-15 01:45:38.628522 2023-10-15 01:46:12.580209   \n37      37  0.655678 2023-10-15 01:46:12.581209 2023-10-15 01:46:23.838112   \n38      38  0.664358 2023-10-15 01:46:23.839113 2023-10-15 01:46:27.322577   \n39      39  0.652967 2023-10-15 01:46:27.323575 2023-10-15 01:46:50.099949   \n40      40  0.653231 2023-10-15 01:46:50.100950 2023-10-15 01:47:15.492917   \n41      41  0.665372 2023-10-15 01:47:15.494983 2023-10-15 01:47:17.891764   \n42      42  0.663000 2023-10-15 01:47:17.893777 2023-10-15 01:47:21.494808   \n43      43  0.662244 2023-10-15 01:47:21.496809 2023-10-15 01:47:26.858564   \n44      44  0.665444 2023-10-15 01:47:26.860565 2023-10-15 01:47:28.705765   \n45      45  0.657565 2023-10-15 01:47:28.707767 2023-10-15 01:47:41.021375   \n46      46  0.659620 2023-10-15 01:47:41.022375 2023-10-15 01:47:48.896869   \n47      47  0.661575 2023-10-15 01:47:48.898884 2023-10-15 01:47:53.758583   \n48      48  0.657479 2023-10-15 01:47:53.760584 2023-10-15 01:48:06.747413   \n49      49  0.657540 2023-10-15 01:48:06.748414 2023-10-15 01:48:15.175833   \n\n                 duration  params_colsample_bytree  params_learning_rate  \\\n0  0 days 00:03:16.765728                 0.650207              0.017443   \n1  0 days 00:00:06.792946                 0.727227              0.067062   \n2  0 days 00:02:04.825809                 0.659857              0.078236   \n3  0 days 00:02:03.984196                 0.739758              0.018450   \n4  0 days 00:01:49.309482                 0.637825              0.027265   \n5  0 days 00:00:46.445112                 0.763012              0.064846   \n6  0 days 00:00:46.989630                 0.614330              0.086541   \n7  0 days 00:01:17.812646                 0.697978              0.022347   \n8  0 days 00:00:52.039559                 0.788042              0.059847   \n9  0 days 00:00:05.674102                 0.653504              0.007628   \n10 0 days 00:00:02.739970                 0.713248              0.095365   \n11 0 days 00:00:02.620968                 0.717553              0.099596   \n12 0 days 00:00:24.578495                 0.701344              0.099610   \n13 0 days 00:00:02.937547                 0.693328              0.099568   \n14 0 days 00:00:11.742585                 0.728207              0.084095   \n15 0 days 00:00:13.886240                 0.799317              0.046042   \n16 0 days 00:01:07.658631                 0.682992              0.091146   \n17 0 days 00:00:18.717336                 0.750714              0.079164   \n18 0 days 00:00:21.445792                 0.712965              0.092993   \n19 0 days 00:00:47.751465                 0.676576              0.075009   \n20 0 days 00:00:03.308610                 0.709989              0.090644   \n21 0 days 00:00:02.938989                 0.708035              0.090892   \n22 0 days 00:00:10.146262                 0.722423              0.087209   \n23 0 days 00:00:07.490142                 0.705973              0.099711   \n24 0 days 00:00:14.958548                 0.680355              0.090458   \n25 0 days 00:00:02.649404                 0.739480              0.080722   \n26 0 days 00:00:09.560168                 0.716149              0.072609   \n27 0 days 00:01:56.119658                 0.695287              0.084988   \n28 0 days 00:00:25.794628                 0.766608              0.091756   \n29 0 days 00:00:17.898751                 0.736026              0.071857   \n30 0 days 00:00:28.048153                 0.667627              0.085912   \n31 0 days 00:00:02.167858                 0.741152              0.082058   \n32 0 days 00:00:03.809401                 0.726580              0.093118   \n33 0 days 00:00:03.970798                 0.711568              0.079774   \n34 0 days 00:00:05.526163                 0.723873              0.094499   \n35 0 days 00:00:05.236761                 0.689487              0.082509   \n36 0 days 00:00:33.951687                 0.705118              0.077134   \n37 0 days 00:00:11.256903                 0.748961              0.087360   \n38 0 days 00:00:03.483464                 0.731927              0.068556   \n39 0 days 00:00:22.776374                 0.720201              0.096594   \n40 0 days 00:00:25.391967                 0.705632              0.089990   \n41 0 days 00:00:02.396781                 0.741611              0.079819   \n42 0 days 00:00:03.601031                 0.745086              0.082595   \n43 0 days 00:00:05.361755                 0.733155              0.076814   \n44 0 days 00:00:01.845200                 0.756524              0.095134   \n45 0 days 00:00:12.313608                 0.760577              0.096132   \n46 0 days 00:00:07.874494                 0.757397              0.089540   \n47 0 days 00:00:04.859699                 0.721259              0.097176   \n48 0 days 00:00:12.986829                 0.770396              0.094754   \n49 0 days 00:00:08.427419                 0.729465              0.088219   \n\n    params_max_depth  params_min_child_samples  params_n_estimators  \\\n0                 19                        64                 1215   \n1                 21                        68                  234   \n2                 17                        77                 1613   \n3                 19                        78                 1397   \n4                 22                        76                 1337   \n5                 18                        79                  851   \n6                 18                        65                  734   \n7                 15                        76                 1855   \n8                 16                        61                 1501   \n9                 23                        63                  159   \n10                21                        70                   62   \n11                25                        70                   57   \n12                25                        72                  454   \n13                25                        71                   79   \n14                23                        68                  472   \n15                24                        73                  529   \n16                21                        68                  957   \n17                20                        73                  346   \n18                23                        69                  675   \n19                21                        65                 1142   \n20                24                        74                   75   \n21                24                        74                   63   \n22                24                        74                  297   \n23                25                        75                  208   \n24                24                        71                  627   \n25                24                        80                   57   \n26                22                        74                  362   \n27                25                        72                 2020   \n28                22                        67                  260   \n29                23                        70                  545   \n30                24                        75                  414   \n31                24                        79                   64   \n32                25                        80                  172   \n33                23                        77                  186   \n34                24                        78                   56   \n35                22                        78                  273   \n36                25                        76                  804   \n37                24                        66                  356   \n38                23                        74                  149   \n39                19                        77                  571   \n40                20                        79                 1614   \n41                24                        80                   85   \n42                25                        79                  160   \n43                22                        80                  273   \n44                24                        77                   50   \n45                23                        77                  179   \n46                17                        75                  444   \n47                25                        72                  128   \n48                24                        60                  241   \n49                23                        76                  352   \n\n    params_num_leaves     state  \n0                 512  COMPLETE  \n1                  32  COMPLETE  \n2                 512  COMPLETE  \n3                 512  COMPLETE  \n4                2048  COMPLETE  \n5                1024  COMPLETE  \n6                1024  COMPLETE  \n7                 128  COMPLETE  \n8                  64  COMPLETE  \n9                  32  COMPLETE  \n10                 32  COMPLETE  \n11                 32  COMPLETE  \n12                256  COMPLETE  \n13                 32  COMPLETE  \n14                 32  COMPLETE  \n15                 32  COMPLETE  \n16               2048  COMPLETE  \n17                256  COMPLETE  \n18                 64  COMPLETE  \n19                128  COMPLETE  \n20                 32  COMPLETE  \n21                 32  COMPLETE  \n22                 32  COMPLETE  \n23                 32  COMPLETE  \n24                 32  COMPLETE  \n25                 32  COMPLETE  \n26                 32  COMPLETE  \n27                256  COMPLETE  \n28               1024  COMPLETE  \n29                 64  COMPLETE  \n30               2048  COMPLETE  \n31                 32  COMPLETE  \n32                 32  COMPLETE  \n33                 32  COMPLETE  \n34                512  COMPLETE  \n35                 32  COMPLETE  \n36                512  COMPLETE  \n37                128  COMPLETE  \n38                 32  COMPLETE  \n39               1024  COMPLETE  \n40                 32  COMPLETE  \n41                 32  COMPLETE  \n42                 32  COMPLETE  \n43                 32  COMPLETE  \n44                 32  COMPLETE  \n45               2048  COMPLETE  \n46                 32  COMPLETE  \n47                128  COMPLETE  \n48                512  COMPLETE  \n49                 64  COMPLETE  ",
      "text/html": "<div>\n<style scoped>\n    .dataframe tbody tr th:only-of-type {\n        vertical-align: middle;\n    }\n\n    .dataframe tbody tr th {\n        vertical-align: top;\n    }\n\n    .dataframe thead th {\n        text-align: right;\n    }\n</style>\n<table border=\"1\" class=\"dataframe\">\n  <thead>\n    <tr style=\"text-align: right;\">\n      <th></th>\n      <th>number</th>\n      <th>value</th>\n      <th>datetime_start</th>\n      <th>datetime_complete</th>\n      <th>duration</th>\n      <th>params_colsample_bytree</th>\n      <th>params_learning_rate</th>\n      <th>params_max_depth</th>\n      <th>params_min_child_samples</th>\n      <th>params_n_estimators</th>\n      <th>params_num_leaves</th>\n      <th>state</th>\n    </tr>\n  </thead>\n  <tbody>\n    <tr>\n      <th>0</th>\n      <td>0</td>\n      <td>0.657750</td>\n      <td>2023-10-15 01:24:34.218367</td>\n      <td>2023-10-15 01:27:50.984095</td>\n      <td>0 days 00:03:16.765728</td>\n      <td>0.650207</td>\n      <td>0.017443</td>\n      <td>19</td>\n      <td>64</td>\n      <td>1215</td>\n      <td>512</td>\n      <td>COMPLETE</td>\n    </tr>\n    <tr>\n      <th>1</th>\n      <td>1</td>\n      <td>0.663642</td>\n      <td>2023-10-15 01:27:50.985628</td>\n      <td>2023-10-15 01:27:57.778574</td>\n      <td>0 days 00:00:06.792946</td>\n      <td>0.727227</td>\n      <td>0.067062</td>\n      <td>21</td>\n      <td>68</td>\n      <td>234</td>\n      <td>32</td>\n      <td>COMPLETE</td>\n    </tr>\n    <tr>\n      <th>2</th>\n      <td>2</td>\n      <td>0.650949</td>\n      <td>2023-10-15 01:27:57.780574</td>\n      <td>2023-10-15 01:30:02.606383</td>\n      <td>0 days 00:02:04.825809</td>\n      <td>0.659857</td>\n      <td>0.078236</td>\n      <td>17</td>\n      <td>77</td>\n      <td>1613</td>\n      <td>512</td>\n      <td>COMPLETE</td>\n    </tr>\n    <tr>\n      <th>3</th>\n      <td>3</td>\n      <td>0.656836</td>\n      <td>2023-10-15 01:30:02.608656</td>\n      <td>2023-10-15 01:32:06.592852</td>\n      <td>0 days 00:02:03.984196</td>\n      <td>0.739758</td>\n      <td>0.018450</td>\n      <td>19</td>\n      <td>78</td>\n      <td>1397</td>\n      <td>512</td>\n      <td>COMPLETE</td>\n    </tr>\n    <tr>\n      <th>4</th>\n      <td>4</td>\n      <td>0.655885</td>\n      <td>2023-10-15 01:32:06.594879</td>\n      <td>2023-10-15 01:33:55.904361</td>\n      <td>0 days 00:01:49.309482</td>\n      <td>0.637825</td>\n      <td>0.027265</td>\n      <td>22</td>\n      <td>76</td>\n      <td>1337</td>\n      <td>2048</td>\n      <td>COMPLETE</td>\n    </tr>\n    <tr>\n      <th>5</th>\n      <td>5</td>\n      <td>0.654131</td>\n      <td>2023-10-15 01:33:55.905362</td>\n      <td>2023-10-15 01:34:42.350474</td>\n      <td>0 days 00:00:46.445112</td>\n      <td>0.763012</td>\n      <td>0.064846</td>\n      <td>18</td>\n      <td>79</td>\n      <td>851</td>\n      <td>1024</td>\n      <td>COMPLETE</td>\n    </tr>\n    <tr>\n      <th>6</th>\n      <td>6</td>\n      <td>0.653173</td>\n      <td>2023-10-15 01:34:42.352475</td>\n      <td>2023-10-15 01:35:29.342105</td>\n      <td>0 days 00:00:46.989630</td>\n      <td>0.614330</td>\n      <td>0.086541</td>\n      <td>18</td>\n      <td>65</td>\n      <td>734</td>\n      <td>1024</td>\n      <td>COMPLETE</td>\n    </tr>\n    <tr>\n      <th>7</th>\n      <td>7</td>\n      <td>0.657078</td>\n      <td>2023-10-15 01:35:29.344105</td>\n      <td>2023-10-15 01:36:47.156751</td>\n      <td>0 days 00:01:17.812646</td>\n      <td>0.697978</td>\n      <td>0.022347</td>\n      <td>15</td>\n      <td>76</td>\n      <td>1855</td>\n      <td>128</td>\n      <td>COMPLETE</td>\n    </tr>\n    <tr>\n      <th>8</th>\n      <td>8</td>\n      <td>0.654337</td>\n      <td>2023-10-15 01:36:47.158585</td>\n      <td>2023-10-15 01:37:39.198144</td>\n      <td>0 days 00:00:52.039559</td>\n      <td>0.788042</td>\n      <td>0.059847</td>\n      <td>16</td>\n      <td>61</td>\n      <td>1501</td>\n      <td>64</td>\n      <td>COMPLETE</td>\n    </tr>\n    <tr>\n      <th>9</th>\n      <td>9</td>\n      <td>0.606952</td>\n      <td>2023-10-15 01:37:39.200143</td>\n      <td>2023-10-15 01:37:44.874245</td>\n      <td>0 days 00:00:05.674102</td>\n      <td>0.653504</td>\n      <td>0.007628</td>\n      <td>23</td>\n      <td>63</td>\n      <td>159</td>\n      <td>32</td>\n      <td>COMPLETE</td>\n    </tr>\n    <tr>\n      <th>10</th>\n      <td>10</td>\n      <td>0.664331</td>\n      <td>2023-10-15 01:37:44.876253</td>\n      <td>2023-10-15 01:37:47.616223</td>\n      <td>0 days 00:00:02.739970</td>\n      <td>0.713248</td>\n      <td>0.095365</td>\n      <td>21</td>\n      <td>70</td>\n      <td>62</td>\n      <td>32</td>\n      <td>COMPLETE</td>\n    </tr>\n    <tr>\n      <th>11</th>\n      <td>11</td>\n      <td>0.664949</td>\n      <td>2023-10-15 01:37:47.617945</td>\n      <td>2023-10-15 01:37:50.238913</td>\n      <td>0 days 00:00:02.620968</td>\n      <td>0.717553</td>\n      <td>0.099596</td>\n      <td>25</td>\n      <td>70</td>\n      <td>57</td>\n      <td>32</td>\n      <td>COMPLETE</td>\n    </tr>\n    <tr>\n      <th>12</th>\n      <td>12</td>\n      <td>0.653978</td>\n      <td>2023-10-15 01:37:50.239914</td>\n      <td>2023-10-15 01:38:14.818409</td>\n      <td>0 days 00:00:24.578495</td>\n      <td>0.701344</td>\n      <td>0.099610</td>\n      <td>25</td>\n      <td>72</td>\n      <td>454</td>\n      <td>256</td>\n      <td>COMPLETE</td>\n    </tr>\n    <tr>\n      <th>13</th>\n      <td>13</td>\n      <td>0.664275</td>\n      <td>2023-10-15 01:38:14.820409</td>\n      <td>2023-10-15 01:38:17.757956</td>\n      <td>0 days 00:00:02.937547</td>\n      <td>0.693328</td>\n      <td>0.099568</td>\n      <td>25</td>\n      <td>71</td>\n      <td>79</td>\n      <td>32</td>\n      <td>COMPLETE</td>\n    </tr>\n    <tr>\n      <th>14</th>\n      <td>14</td>\n      <td>0.658575</td>\n      <td>2023-10-15 01:38:17.759957</td>\n      <td>2023-10-15 01:38:29.502542</td>\n      <td>0 days 00:00:11.742585</td>\n      <td>0.728207</td>\n      <td>0.084095</td>\n      <td>23</td>\n      <td>68</td>\n      <td>472</td>\n      <td>32</td>\n      <td>COMPLETE</td>\n    </tr>\n    <tr>\n      <th>15</th>\n      <td>15</td>\n      <td>0.661059</td>\n      <td>2023-10-15 01:38:29.504542</td>\n      <td>2023-10-15 01:38:43.390782</td>\n      <td>0 days 00:00:13.886240</td>\n      <td>0.799317</td>\n      <td>0.046042</td>\n      <td>24</td>\n      <td>73</td>\n      <td>529</td>\n      <td>32</td>\n      <td>COMPLETE</td>\n    </tr>\n    <tr>\n      <th>16</th>\n      <td>16</td>\n      <td>0.652718</td>\n      <td>2023-10-15 01:38:43.392784</td>\n      <td>2023-10-15 01:39:51.051415</td>\n      <td>0 days 00:01:07.658631</td>\n      <td>0.682992</td>\n      <td>0.091146</td>\n      <td>21</td>\n      <td>68</td>\n      <td>957</td>\n      <td>2048</td>\n      <td>COMPLETE</td>\n    </tr>\n    <tr>\n      <th>17</th>\n      <td>17</td>\n      <td>0.656726</td>\n      <td>2023-10-15 01:39:51.053416</td>\n      <td>2023-10-15 01:40:09.770752</td>\n      <td>0 days 00:00:18.717336</td>\n      <td>0.750714</td>\n      <td>0.079164</td>\n      <td>20</td>\n      <td>73</td>\n      <td>346</td>\n      <td>256</td>\n      <td>COMPLETE</td>\n    </tr>\n    <tr>\n      <th>18</th>\n      <td>18</td>\n      <td>0.655265</td>\n      <td>2023-10-15 01:40:09.772752</td>\n      <td>2023-10-15 01:40:31.218544</td>\n      <td>0 days 00:00:21.445792</td>\n      <td>0.712965</td>\n      <td>0.092993</td>\n      <td>23</td>\n      <td>69</td>\n      <td>675</td>\n      <td>64</td>\n      <td>COMPLETE</td>\n    </tr>\n    <tr>\n      <th>19</th>\n      <td>19</td>\n      <td>0.653726</td>\n      <td>2023-10-15 01:40:31.219544</td>\n      <td>2023-10-15 01:41:18.971009</td>\n      <td>0 days 00:00:47.751465</td>\n      <td>0.676576</td>\n      <td>0.075009</td>\n      <td>21</td>\n      <td>65</td>\n      <td>1142</td>\n      <td>128</td>\n      <td>COMPLETE</td>\n    </tr>\n    <tr>\n      <th>20</th>\n      <td>20</td>\n      <td>0.665203</td>\n      <td>2023-10-15 01:41:18.973009</td>\n      <td>2023-10-15 01:41:22.281619</td>\n      <td>0 days 00:00:03.308610</td>\n      <td>0.709989</td>\n      <td>0.090644</td>\n      <td>24</td>\n      <td>74</td>\n      <td>75</td>\n      <td>32</td>\n      <td>COMPLETE</td>\n    </tr>\n    <tr>\n      <th>21</th>\n      <td>21</td>\n      <td>0.665635</td>\n      <td>2023-10-15 01:41:22.283159</td>\n      <td>2023-10-15 01:41:25.222148</td>\n      <td>0 days 00:00:02.938989</td>\n      <td>0.708035</td>\n      <td>0.090892</td>\n      <td>24</td>\n      <td>74</td>\n      <td>63</td>\n      <td>32</td>\n      <td>COMPLETE</td>\n    </tr>\n    <tr>\n      <th>22</th>\n      <td>22</td>\n      <td>0.660672</td>\n      <td>2023-10-15 01:41:25.224149</td>\n      <td>2023-10-15 01:41:35.370411</td>\n      <td>0 days 00:00:10.146262</td>\n      <td>0.722423</td>\n      <td>0.087209</td>\n      <td>24</td>\n      <td>74</td>\n      <td>297</td>\n      <td>32</td>\n      <td>COMPLETE</td>\n    </tr>\n    <tr>\n      <th>23</th>\n      <td>23</td>\n      <td>0.661778</td>\n      <td>2023-10-15 01:41:35.374945</td>\n      <td>2023-10-15 01:41:42.865087</td>\n      <td>0 days 00:00:07.490142</td>\n      <td>0.705973</td>\n      <td>0.099711</td>\n      <td>25</td>\n      <td>75</td>\n      <td>208</td>\n      <td>32</td>\n      <td>COMPLETE</td>\n    </tr>\n    <tr>\n      <th>24</th>\n      <td>24</td>\n      <td>0.656702</td>\n      <td>2023-10-15 01:41:42.866088</td>\n      <td>2023-10-15 01:41:57.824636</td>\n      <td>0 days 00:00:14.958548</td>\n      <td>0.680355</td>\n      <td>0.090458</td>\n      <td>24</td>\n      <td>71</td>\n      <td>627</td>\n      <td>32</td>\n      <td>COMPLETE</td>\n    </tr>\n    <tr>\n      <th>25</th>\n      <td>25</td>\n      <td>0.664820</td>\n      <td>2023-10-15 01:41:57.826659</td>\n      <td>2023-10-15 01:42:00.476063</td>\n      <td>0 days 00:00:02.649404</td>\n      <td>0.739480</td>\n      <td>0.080722</td>\n      <td>24</td>\n      <td>80</td>\n      <td>57</td>\n      <td>32</td>\n      <td>COMPLETE</td>\n    </tr>\n    <tr>\n      <th>26</th>\n      <td>26</td>\n      <td>0.660761</td>\n      <td>2023-10-15 01:42:00.477879</td>\n      <td>2023-10-15 01:42:10.038047</td>\n      <td>0 days 00:00:09.560168</td>\n      <td>0.716149</td>\n      <td>0.072609</td>\n      <td>22</td>\n      <td>74</td>\n      <td>362</td>\n      <td>32</td>\n      <td>COMPLETE</td>\n    </tr>\n    <tr>\n      <th>27</th>\n      <td>27</td>\n      <td>0.649832</td>\n      <td>2023-10-15 01:42:10.040047</td>\n      <td>2023-10-15 01:44:06.159705</td>\n      <td>0 days 00:01:56.119658</td>\n      <td>0.695287</td>\n      <td>0.084988</td>\n      <td>25</td>\n      <td>72</td>\n      <td>2020</td>\n      <td>256</td>\n      <td>COMPLETE</td>\n    </tr>\n    <tr>\n      <th>28</th>\n      <td>28</td>\n      <td>0.656476</td>\n      <td>2023-10-15 01:44:06.160707</td>\n      <td>2023-10-15 01:44:31.955335</td>\n      <td>0 days 00:00:25.794628</td>\n      <td>0.766608</td>\n      <td>0.091756</td>\n      <td>22</td>\n      <td>67</td>\n      <td>260</td>\n      <td>1024</td>\n      <td>COMPLETE</td>\n    </tr>\n    <tr>\n      <th>29</th>\n      <td>29</td>\n      <td>0.656447</td>\n      <td>2023-10-15 01:44:31.957674</td>\n      <td>2023-10-15 01:44:49.856425</td>\n      <td>0 days 00:00:17.898751</td>\n      <td>0.736026</td>\n      <td>0.071857</td>\n      <td>23</td>\n      <td>70</td>\n      <td>545</td>\n      <td>64</td>\n      <td>COMPLETE</td>\n    </tr>\n    <tr>\n      <th>30</th>\n      <td>30</td>\n      <td>0.654756</td>\n      <td>2023-10-15 01:44:49.858374</td>\n      <td>2023-10-15 01:45:17.906527</td>\n      <td>0 days 00:00:28.048153</td>\n      <td>0.667627</td>\n      <td>0.085912</td>\n      <td>24</td>\n      <td>75</td>\n      <td>414</td>\n      <td>2048</td>\n      <td>COMPLETE</td>\n    </tr>\n    <tr>\n      <th>31</th>\n      <td>31</td>\n      <td>0.664859</td>\n      <td>2023-10-15 01:45:17.908528</td>\n      <td>2023-10-15 01:45:20.076386</td>\n      <td>0 days 00:00:02.167858</td>\n      <td>0.741152</td>\n      <td>0.082058</td>\n      <td>24</td>\n      <td>79</td>\n      <td>64</td>\n      <td>32</td>\n      <td>COMPLETE</td>\n    </tr>\n    <tr>\n      <th>32</th>\n      <td>32</td>\n      <td>0.663572</td>\n      <td>2023-10-15 01:45:20.078385</td>\n      <td>2023-10-15 01:45:23.887786</td>\n      <td>0 days 00:00:03.809401</td>\n      <td>0.726580</td>\n      <td>0.093118</td>\n      <td>25</td>\n      <td>80</td>\n      <td>172</td>\n      <td>32</td>\n      <td>COMPLETE</td>\n    </tr>\n    <tr>\n      <th>33</th>\n      <td>33</td>\n      <td>0.663372</td>\n      <td>2023-10-15 01:45:23.888786</td>\n      <td>2023-10-15 01:45:27.859584</td>\n      <td>0 days 00:00:03.970798</td>\n      <td>0.711568</td>\n      <td>0.079774</td>\n      <td>23</td>\n      <td>77</td>\n      <td>186</td>\n      <td>32</td>\n      <td>COMPLETE</td>\n    </tr>\n    <tr>\n      <th>34</th>\n      <td>34</td>\n      <td>0.661350</td>\n      <td>2023-10-15 01:45:27.861598</td>\n      <td>2023-10-15 01:45:33.387761</td>\n      <td>0 days 00:00:05.526163</td>\n      <td>0.723873</td>\n      <td>0.094499</td>\n      <td>24</td>\n      <td>78</td>\n      <td>56</td>\n      <td>512</td>\n      <td>COMPLETE</td>\n    </tr>\n    <tr>\n      <th>35</th>\n      <td>35</td>\n      <td>0.662347</td>\n      <td>2023-10-15 01:45:33.389761</td>\n      <td>2023-10-15 01:45:38.626522</td>\n      <td>0 days 00:00:05.236761</td>\n      <td>0.689487</td>\n      <td>0.082509</td>\n      <td>22</td>\n      <td>78</td>\n      <td>273</td>\n      <td>32</td>\n      <td>COMPLETE</td>\n    </tr>\n    <tr>\n      <th>36</th>\n      <td>36</td>\n      <td>0.652761</td>\n      <td>2023-10-15 01:45:38.628522</td>\n      <td>2023-10-15 01:46:12.580209</td>\n      <td>0 days 00:00:33.951687</td>\n      <td>0.705118</td>\n      <td>0.077134</td>\n      <td>25</td>\n      <td>76</td>\n      <td>804</td>\n      <td>512</td>\n      <td>COMPLETE</td>\n    </tr>\n    <tr>\n      <th>37</th>\n      <td>37</td>\n      <td>0.655678</td>\n      <td>2023-10-15 01:46:12.581209</td>\n      <td>2023-10-15 01:46:23.838112</td>\n      <td>0 days 00:00:11.256903</td>\n      <td>0.748961</td>\n      <td>0.087360</td>\n      <td>24</td>\n      <td>66</td>\n      <td>356</td>\n      <td>128</td>\n      <td>COMPLETE</td>\n    </tr>\n    <tr>\n      <th>38</th>\n      <td>38</td>\n      <td>0.664358</td>\n      <td>2023-10-15 01:46:23.839113</td>\n      <td>2023-10-15 01:46:27.322577</td>\n      <td>0 days 00:00:03.483464</td>\n      <td>0.731927</td>\n      <td>0.068556</td>\n      <td>23</td>\n      <td>74</td>\n      <td>149</td>\n      <td>32</td>\n      <td>COMPLETE</td>\n    </tr>\n    <tr>\n      <th>39</th>\n      <td>39</td>\n      <td>0.652967</td>\n      <td>2023-10-15 01:46:27.323575</td>\n      <td>2023-10-15 01:46:50.099949</td>\n      <td>0 days 00:00:22.776374</td>\n      <td>0.720201</td>\n      <td>0.096594</td>\n      <td>19</td>\n      <td>77</td>\n      <td>571</td>\n      <td>1024</td>\n      <td>COMPLETE</td>\n    </tr>\n    <tr>\n      <th>40</th>\n      <td>40</td>\n      <td>0.653231</td>\n      <td>2023-10-15 01:46:50.100950</td>\n      <td>2023-10-15 01:47:15.492917</td>\n      <td>0 days 00:00:25.391967</td>\n      <td>0.705632</td>\n      <td>0.089990</td>\n      <td>20</td>\n      <td>79</td>\n      <td>1614</td>\n      <td>32</td>\n      <td>COMPLETE</td>\n    </tr>\n    <tr>\n      <th>41</th>\n      <td>41</td>\n      <td>0.665372</td>\n      <td>2023-10-15 01:47:15.494983</td>\n      <td>2023-10-15 01:47:17.891764</td>\n      <td>0 days 00:00:02.396781</td>\n      <td>0.741611</td>\n      <td>0.079819</td>\n      <td>24</td>\n      <td>80</td>\n      <td>85</td>\n      <td>32</td>\n      <td>COMPLETE</td>\n    </tr>\n    <tr>\n      <th>42</th>\n      <td>42</td>\n      <td>0.663000</td>\n      <td>2023-10-15 01:47:17.893777</td>\n      <td>2023-10-15 01:47:21.494808</td>\n      <td>0 days 00:00:03.601031</td>\n      <td>0.745086</td>\n      <td>0.082595</td>\n      <td>25</td>\n      <td>79</td>\n      <td>160</td>\n      <td>32</td>\n      <td>COMPLETE</td>\n    </tr>\n    <tr>\n      <th>43</th>\n      <td>43</td>\n      <td>0.662244</td>\n      <td>2023-10-15 01:47:21.496809</td>\n      <td>2023-10-15 01:47:26.858564</td>\n      <td>0 days 00:00:05.361755</td>\n      <td>0.733155</td>\n      <td>0.076814</td>\n      <td>22</td>\n      <td>80</td>\n      <td>273</td>\n      <td>32</td>\n      <td>COMPLETE</td>\n    </tr>\n    <tr>\n      <th>44</th>\n      <td>44</td>\n      <td>0.665444</td>\n      <td>2023-10-15 01:47:26.860565</td>\n      <td>2023-10-15 01:47:28.705765</td>\n      <td>0 days 00:00:01.845200</td>\n      <td>0.756524</td>\n      <td>0.095134</td>\n      <td>24</td>\n      <td>77</td>\n      <td>50</td>\n      <td>32</td>\n      <td>COMPLETE</td>\n    </tr>\n    <tr>\n      <th>45</th>\n      <td>45</td>\n      <td>0.657565</td>\n      <td>2023-10-15 01:47:28.707767</td>\n      <td>2023-10-15 01:47:41.021375</td>\n      <td>0 days 00:00:12.313608</td>\n      <td>0.760577</td>\n      <td>0.096132</td>\n      <td>23</td>\n      <td>77</td>\n      <td>179</td>\n      <td>2048</td>\n      <td>COMPLETE</td>\n    </tr>\n    <tr>\n      <th>46</th>\n      <td>46</td>\n      <td>0.659620</td>\n      <td>2023-10-15 01:47:41.022375</td>\n      <td>2023-10-15 01:47:48.896869</td>\n      <td>0 days 00:00:07.874494</td>\n      <td>0.757397</td>\n      <td>0.089540</td>\n      <td>17</td>\n      <td>75</td>\n      <td>444</td>\n      <td>32</td>\n      <td>COMPLETE</td>\n    </tr>\n    <tr>\n      <th>47</th>\n      <td>47</td>\n      <td>0.661575</td>\n      <td>2023-10-15 01:47:48.898884</td>\n      <td>2023-10-15 01:47:53.758583</td>\n      <td>0 days 00:00:04.859699</td>\n      <td>0.721259</td>\n      <td>0.097176</td>\n      <td>25</td>\n      <td>72</td>\n      <td>128</td>\n      <td>128</td>\n      <td>COMPLETE</td>\n    </tr>\n    <tr>\n      <th>48</th>\n      <td>48</td>\n      <td>0.657479</td>\n      <td>2023-10-15 01:47:53.760584</td>\n      <td>2023-10-15 01:48:06.747413</td>\n      <td>0 days 00:00:12.986829</td>\n      <td>0.770396</td>\n      <td>0.094754</td>\n      <td>24</td>\n      <td>60</td>\n      <td>241</td>\n      <td>512</td>\n      <td>COMPLETE</td>\n    </tr>\n    <tr>\n      <th>49</th>\n      <td>49</td>\n      <td>0.657540</td>\n      <td>2023-10-15 01:48:06.748414</td>\n      <td>2023-10-15 01:48:15.175833</td>\n      <td>0 days 00:00:08.427419</td>\n      <td>0.729465</td>\n      <td>0.088219</td>\n      <td>23</td>\n      <td>76</td>\n      <td>352</td>\n      <td>64</td>\n      <td>COMPLETE</td>\n    </tr>\n  </tbody>\n</table>\n</div>"
     },
     "execution_count": 36,
     "metadata": {},
     "output_type": "execute_result"
    }
   ],
   "source": [
    "# optuna가 시도했던 모든 실험 관련 데이터\n",
    "study.trials_dataframe()"
   ]
  },
  {
   "cell_type": "code",
   "execution_count": 37,
   "id": "a805da05",
   "metadata": {
    "colab": {
     "base_uri": "https://localhost:8080/"
    },
    "id": "a805da05",
    "outputId": "bcd1a494-0422-474c-d9e8-3e48cddef25a"
   },
   "outputs": [
    {
     "name": "stdout",
     "output_type": "stream",
     "text": [
      "Best Score: 0.6656\n",
      "Best params:  {'max_depth': 24, 'num_leaves': 32, 'min_child_samples': 74, 'colsample_bytree': 0.7080352104708246, 'n_estimators': 63, 'learning_rate': 0.09089244698723227}\n"
     ]
    }
   ],
   "source": [
    "print(\"Best Score: %.4f\" % study.best_value) # best score 출력\n",
    "print(\"Best params: \", study.best_trial.params) # best score일 때의 하이퍼파라미터들"
   ]
  },
  {
   "cell_type": "code",
   "execution_count": 38,
   "id": "051ae1eb",
   "metadata": {
    "colab": {
     "base_uri": "https://localhost:8080/",
     "height": 542
    },
    "id": "051ae1eb",
    "outputId": "58266f06-c9df-4dde-cafa-6c5a921f85fe"
   },
   "outputs": [
    {
     "data": {
      "application/vnd.plotly.v1+json": {
       "data": [
        {
         "mode": "markers",
         "name": "Objective Value",
         "x": [
          0,
          1,
          2,
          3,
          4,
          5,
          6,
          7,
          8,
          9,
          10,
          11,
          12,
          13,
          14,
          15,
          16,
          17,
          18,
          19,
          20,
          21,
          22,
          23,
          24,
          25,
          26,
          27,
          28,
          29,
          30,
          31,
          32,
          33,
          34,
          35,
          36,
          37,
          38,
          39,
          40,
          41,
          42,
          43,
          44,
          45,
          46,
          47,
          48,
          49
         ],
         "y": [
          0.6577500206037464,
          0.663642404536692,
          0.6509488588781851,
          0.656835796962746,
          0.6558846071207434,
          0.6541310851926638,
          0.6531732139393243,
          0.6570776852773563,
          0.654337339348195,
          0.6069518511023763,
          0.6643306092967928,
          0.6649494888765418,
          0.6539776928729305,
          0.6642752180102358,
          0.6585749679488624,
          0.6610589064501331,
          0.6527175829628795,
          0.6567256921776068,
          0.6552652622532615,
          0.6537257605097835,
          0.6652029739628815,
          0.6656346200698383,
          0.6606717353025883,
          0.6617776857253687,
          0.6567020701599934,
          0.6648198018904293,
          0.6607614817301524,
          0.6498321349292275,
          0.6564760861182026,
          0.6564470057806895,
          0.6547563922939255,
          0.6648586263721011,
          0.6635717761711548,
          0.6633719035207551,
          0.6613499714162041,
          0.6623465649552049,
          0.6527610657234949,
          0.655677991066989,
          0.6643579288511563,
          0.6529665700600992,
          0.6532306355540859,
          0.6653722476194937,
          0.6630002583789569,
          0.6622441795295082,
          0.665444017277063,
          0.6575648042714844,
          0.6596204221944111,
          0.6615748700399757,
          0.6574793501678323,
          0.6575396394960936
         ],
         "type": "scatter"
        },
        {
         "mode": "lines",
         "name": "Best Value",
         "x": [
          0,
          1,
          2,
          3,
          4,
          5,
          6,
          7,
          8,
          9,
          10,
          11,
          12,
          13,
          14,
          15,
          16,
          17,
          18,
          19,
          20,
          21,
          22,
          23,
          24,
          25,
          26,
          27,
          28,
          29,
          30,
          31,
          32,
          33,
          34,
          35,
          36,
          37,
          38,
          39,
          40,
          41,
          42,
          43,
          44,
          45,
          46,
          47,
          48,
          49
         ],
         "y": [
          0.6577500206037464,
          0.663642404536692,
          0.663642404536692,
          0.663642404536692,
          0.663642404536692,
          0.663642404536692,
          0.663642404536692,
          0.663642404536692,
          0.663642404536692,
          0.663642404536692,
          0.6643306092967928,
          0.6649494888765418,
          0.6649494888765418,
          0.6649494888765418,
          0.6649494888765418,
          0.6649494888765418,
          0.6649494888765418,
          0.6649494888765418,
          0.6649494888765418,
          0.6649494888765418,
          0.6652029739628815,
          0.6656346200698383,
          0.6656346200698383,
          0.6656346200698383,
          0.6656346200698383,
          0.6656346200698383,
          0.6656346200698383,
          0.6656346200698383,
          0.6656346200698383,
          0.6656346200698383,
          0.6656346200698383,
          0.6656346200698383,
          0.6656346200698383,
          0.6656346200698383,
          0.6656346200698383,
          0.6656346200698383,
          0.6656346200698383,
          0.6656346200698383,
          0.6656346200698383,
          0.6656346200698383,
          0.6656346200698383,
          0.6656346200698383,
          0.6656346200698383,
          0.6656346200698383,
          0.6656346200698383,
          0.6656346200698383,
          0.6656346200698383,
          0.6656346200698383,
          0.6656346200698383,
          0.6656346200698383
         ],
         "type": "scatter"
        },
        {
         "marker": {
          "color": "#cccccc"
         },
         "mode": "markers",
         "name": "Infeasible Trial",
         "showlegend": false,
         "x": [],
         "y": [],
         "type": "scatter"
        }
       ],
       "layout": {
        "title": {
         "text": "Optimization History Plot"
        },
        "xaxis": {
         "title": {
          "text": "Trial"
         }
        },
        "yaxis": {
         "title": {
          "text": "Objective Value"
         }
        },
        "template": {
         "data": {
          "histogram2dcontour": [
           {
            "type": "histogram2dcontour",
            "colorbar": {
             "outlinewidth": 0,
             "ticks": ""
            },
            "colorscale": [
             [
              0.0,
              "#0d0887"
             ],
             [
              0.1111111111111111,
              "#46039f"
             ],
             [
              0.2222222222222222,
              "#7201a8"
             ],
             [
              0.3333333333333333,
              "#9c179e"
             ],
             [
              0.4444444444444444,
              "#bd3786"
             ],
             [
              0.5555555555555556,
              "#d8576b"
             ],
             [
              0.6666666666666666,
              "#ed7953"
             ],
             [
              0.7777777777777778,
              "#fb9f3a"
             ],
             [
              0.8888888888888888,
              "#fdca26"
             ],
             [
              1.0,
              "#f0f921"
             ]
            ]
           }
          ],
          "choropleth": [
           {
            "type": "choropleth",
            "colorbar": {
             "outlinewidth": 0,
             "ticks": ""
            }
           }
          ],
          "histogram2d": [
           {
            "type": "histogram2d",
            "colorbar": {
             "outlinewidth": 0,
             "ticks": ""
            },
            "colorscale": [
             [
              0.0,
              "#0d0887"
             ],
             [
              0.1111111111111111,
              "#46039f"
             ],
             [
              0.2222222222222222,
              "#7201a8"
             ],
             [
              0.3333333333333333,
              "#9c179e"
             ],
             [
              0.4444444444444444,
              "#bd3786"
             ],
             [
              0.5555555555555556,
              "#d8576b"
             ],
             [
              0.6666666666666666,
              "#ed7953"
             ],
             [
              0.7777777777777778,
              "#fb9f3a"
             ],
             [
              0.8888888888888888,
              "#fdca26"
             ],
             [
              1.0,
              "#f0f921"
             ]
            ]
           }
          ],
          "heatmap": [
           {
            "type": "heatmap",
            "colorbar": {
             "outlinewidth": 0,
             "ticks": ""
            },
            "colorscale": [
             [
              0.0,
              "#0d0887"
             ],
             [
              0.1111111111111111,
              "#46039f"
             ],
             [
              0.2222222222222222,
              "#7201a8"
             ],
             [
              0.3333333333333333,
              "#9c179e"
             ],
             [
              0.4444444444444444,
              "#bd3786"
             ],
             [
              0.5555555555555556,
              "#d8576b"
             ],
             [
              0.6666666666666666,
              "#ed7953"
             ],
             [
              0.7777777777777778,
              "#fb9f3a"
             ],
             [
              0.8888888888888888,
              "#fdca26"
             ],
             [
              1.0,
              "#f0f921"
             ]
            ]
           }
          ],
          "heatmapgl": [
           {
            "type": "heatmapgl",
            "colorbar": {
             "outlinewidth": 0,
             "ticks": ""
            },
            "colorscale": [
             [
              0.0,
              "#0d0887"
             ],
             [
              0.1111111111111111,
              "#46039f"
             ],
             [
              0.2222222222222222,
              "#7201a8"
             ],
             [
              0.3333333333333333,
              "#9c179e"
             ],
             [
              0.4444444444444444,
              "#bd3786"
             ],
             [
              0.5555555555555556,
              "#d8576b"
             ],
             [
              0.6666666666666666,
              "#ed7953"
             ],
             [
              0.7777777777777778,
              "#fb9f3a"
             ],
             [
              0.8888888888888888,
              "#fdca26"
             ],
             [
              1.0,
              "#f0f921"
             ]
            ]
           }
          ],
          "contourcarpet": [
           {
            "type": "contourcarpet",
            "colorbar": {
             "outlinewidth": 0,
             "ticks": ""
            }
           }
          ],
          "contour": [
           {
            "type": "contour",
            "colorbar": {
             "outlinewidth": 0,
             "ticks": ""
            },
            "colorscale": [
             [
              0.0,
              "#0d0887"
             ],
             [
              0.1111111111111111,
              "#46039f"
             ],
             [
              0.2222222222222222,
              "#7201a8"
             ],
             [
              0.3333333333333333,
              "#9c179e"
             ],
             [
              0.4444444444444444,
              "#bd3786"
             ],
             [
              0.5555555555555556,
              "#d8576b"
             ],
             [
              0.6666666666666666,
              "#ed7953"
             ],
             [
              0.7777777777777778,
              "#fb9f3a"
             ],
             [
              0.8888888888888888,
              "#fdca26"
             ],
             [
              1.0,
              "#f0f921"
             ]
            ]
           }
          ],
          "surface": [
           {
            "type": "surface",
            "colorbar": {
             "outlinewidth": 0,
             "ticks": ""
            },
            "colorscale": [
             [
              0.0,
              "#0d0887"
             ],
             [
              0.1111111111111111,
              "#46039f"
             ],
             [
              0.2222222222222222,
              "#7201a8"
             ],
             [
              0.3333333333333333,
              "#9c179e"
             ],
             [
              0.4444444444444444,
              "#bd3786"
             ],
             [
              0.5555555555555556,
              "#d8576b"
             ],
             [
              0.6666666666666666,
              "#ed7953"
             ],
             [
              0.7777777777777778,
              "#fb9f3a"
             ],
             [
              0.8888888888888888,
              "#fdca26"
             ],
             [
              1.0,
              "#f0f921"
             ]
            ]
           }
          ],
          "mesh3d": [
           {
            "type": "mesh3d",
            "colorbar": {
             "outlinewidth": 0,
             "ticks": ""
            }
           }
          ],
          "scatter": [
           {
            "fillpattern": {
             "fillmode": "overlay",
             "size": 10,
             "solidity": 0.2
            },
            "type": "scatter"
           }
          ],
          "parcoords": [
           {
            "type": "parcoords",
            "line": {
             "colorbar": {
              "outlinewidth": 0,
              "ticks": ""
             }
            }
           }
          ],
          "scatterpolargl": [
           {
            "type": "scatterpolargl",
            "marker": {
             "colorbar": {
              "outlinewidth": 0,
              "ticks": ""
             }
            }
           }
          ],
          "bar": [
           {
            "error_x": {
             "color": "#2a3f5f"
            },
            "error_y": {
             "color": "#2a3f5f"
            },
            "marker": {
             "line": {
              "color": "#E5ECF6",
              "width": 0.5
             },
             "pattern": {
              "fillmode": "overlay",
              "size": 10,
              "solidity": 0.2
             }
            },
            "type": "bar"
           }
          ],
          "scattergeo": [
           {
            "type": "scattergeo",
            "marker": {
             "colorbar": {
              "outlinewidth": 0,
              "ticks": ""
             }
            }
           }
          ],
          "scatterpolar": [
           {
            "type": "scatterpolar",
            "marker": {
             "colorbar": {
              "outlinewidth": 0,
              "ticks": ""
             }
            }
           }
          ],
          "histogram": [
           {
            "marker": {
             "pattern": {
              "fillmode": "overlay",
              "size": 10,
              "solidity": 0.2
             }
            },
            "type": "histogram"
           }
          ],
          "scattergl": [
           {
            "type": "scattergl",
            "marker": {
             "colorbar": {
              "outlinewidth": 0,
              "ticks": ""
             }
            }
           }
          ],
          "scatter3d": [
           {
            "type": "scatter3d",
            "line": {
             "colorbar": {
              "outlinewidth": 0,
              "ticks": ""
             }
            },
            "marker": {
             "colorbar": {
              "outlinewidth": 0,
              "ticks": ""
             }
            }
           }
          ],
          "scattermapbox": [
           {
            "type": "scattermapbox",
            "marker": {
             "colorbar": {
              "outlinewidth": 0,
              "ticks": ""
             }
            }
           }
          ],
          "scatterternary": [
           {
            "type": "scatterternary",
            "marker": {
             "colorbar": {
              "outlinewidth": 0,
              "ticks": ""
             }
            }
           }
          ],
          "scattercarpet": [
           {
            "type": "scattercarpet",
            "marker": {
             "colorbar": {
              "outlinewidth": 0,
              "ticks": ""
             }
            }
           }
          ],
          "carpet": [
           {
            "aaxis": {
             "endlinecolor": "#2a3f5f",
             "gridcolor": "white",
             "linecolor": "white",
             "minorgridcolor": "white",
             "startlinecolor": "#2a3f5f"
            },
            "baxis": {
             "endlinecolor": "#2a3f5f",
             "gridcolor": "white",
             "linecolor": "white",
             "minorgridcolor": "white",
             "startlinecolor": "#2a3f5f"
            },
            "type": "carpet"
           }
          ],
          "table": [
           {
            "cells": {
             "fill": {
              "color": "#EBF0F8"
             },
             "line": {
              "color": "white"
             }
            },
            "header": {
             "fill": {
              "color": "#C8D4E3"
             },
             "line": {
              "color": "white"
             }
            },
            "type": "table"
           }
          ],
          "barpolar": [
           {
            "marker": {
             "line": {
              "color": "#E5ECF6",
              "width": 0.5
             },
             "pattern": {
              "fillmode": "overlay",
              "size": 10,
              "solidity": 0.2
             }
            },
            "type": "barpolar"
           }
          ],
          "pie": [
           {
            "automargin": true,
            "type": "pie"
           }
          ]
         },
         "layout": {
          "autotypenumbers": "strict",
          "colorway": [
           "#636efa",
           "#EF553B",
           "#00cc96",
           "#ab63fa",
           "#FFA15A",
           "#19d3f3",
           "#FF6692",
           "#B6E880",
           "#FF97FF",
           "#FECB52"
          ],
          "font": {
           "color": "#2a3f5f"
          },
          "hovermode": "closest",
          "hoverlabel": {
           "align": "left"
          },
          "paper_bgcolor": "white",
          "plot_bgcolor": "#E5ECF6",
          "polar": {
           "bgcolor": "#E5ECF6",
           "angularaxis": {
            "gridcolor": "white",
            "linecolor": "white",
            "ticks": ""
           },
           "radialaxis": {
            "gridcolor": "white",
            "linecolor": "white",
            "ticks": ""
           }
          },
          "ternary": {
           "bgcolor": "#E5ECF6",
           "aaxis": {
            "gridcolor": "white",
            "linecolor": "white",
            "ticks": ""
           },
           "baxis": {
            "gridcolor": "white",
            "linecolor": "white",
            "ticks": ""
           },
           "caxis": {
            "gridcolor": "white",
            "linecolor": "white",
            "ticks": ""
           }
          },
          "coloraxis": {
           "colorbar": {
            "outlinewidth": 0,
            "ticks": ""
           }
          },
          "colorscale": {
           "sequential": [
            [
             0.0,
             "#0d0887"
            ],
            [
             0.1111111111111111,
             "#46039f"
            ],
            [
             0.2222222222222222,
             "#7201a8"
            ],
            [
             0.3333333333333333,
             "#9c179e"
            ],
            [
             0.4444444444444444,
             "#bd3786"
            ],
            [
             0.5555555555555556,
             "#d8576b"
            ],
            [
             0.6666666666666666,
             "#ed7953"
            ],
            [
             0.7777777777777778,
             "#fb9f3a"
            ],
            [
             0.8888888888888888,
             "#fdca26"
            ],
            [
             1.0,
             "#f0f921"
            ]
           ],
           "sequentialminus": [
            [
             0.0,
             "#0d0887"
            ],
            [
             0.1111111111111111,
             "#46039f"
            ],
            [
             0.2222222222222222,
             "#7201a8"
            ],
            [
             0.3333333333333333,
             "#9c179e"
            ],
            [
             0.4444444444444444,
             "#bd3786"
            ],
            [
             0.5555555555555556,
             "#d8576b"
            ],
            [
             0.6666666666666666,
             "#ed7953"
            ],
            [
             0.7777777777777778,
             "#fb9f3a"
            ],
            [
             0.8888888888888888,
             "#fdca26"
            ],
            [
             1.0,
             "#f0f921"
            ]
           ],
           "diverging": [
            [
             0,
             "#8e0152"
            ],
            [
             0.1,
             "#c51b7d"
            ],
            [
             0.2,
             "#de77ae"
            ],
            [
             0.3,
             "#f1b6da"
            ],
            [
             0.4,
             "#fde0ef"
            ],
            [
             0.5,
             "#f7f7f7"
            ],
            [
             0.6,
             "#e6f5d0"
            ],
            [
             0.7,
             "#b8e186"
            ],
            [
             0.8,
             "#7fbc41"
            ],
            [
             0.9,
             "#4d9221"
            ],
            [
             1,
             "#276419"
            ]
           ]
          },
          "xaxis": {
           "gridcolor": "white",
           "linecolor": "white",
           "ticks": "",
           "title": {
            "standoff": 15
           },
           "zerolinecolor": "white",
           "automargin": true,
           "zerolinewidth": 2
          },
          "yaxis": {
           "gridcolor": "white",
           "linecolor": "white",
           "ticks": "",
           "title": {
            "standoff": 15
           },
           "zerolinecolor": "white",
           "automargin": true,
           "zerolinewidth": 2
          },
          "scene": {
           "xaxis": {
            "backgroundcolor": "#E5ECF6",
            "gridcolor": "white",
            "linecolor": "white",
            "showbackground": true,
            "ticks": "",
            "zerolinecolor": "white",
            "gridwidth": 2
           },
           "yaxis": {
            "backgroundcolor": "#E5ECF6",
            "gridcolor": "white",
            "linecolor": "white",
            "showbackground": true,
            "ticks": "",
            "zerolinecolor": "white",
            "gridwidth": 2
           },
           "zaxis": {
            "backgroundcolor": "#E5ECF6",
            "gridcolor": "white",
            "linecolor": "white",
            "showbackground": true,
            "ticks": "",
            "zerolinecolor": "white",
            "gridwidth": 2
           }
          },
          "shapedefaults": {
           "line": {
            "color": "#2a3f5f"
           }
          },
          "annotationdefaults": {
           "arrowcolor": "#2a3f5f",
           "arrowhead": 0,
           "arrowwidth": 1
          },
          "geo": {
           "bgcolor": "white",
           "landcolor": "#E5ECF6",
           "subunitcolor": "white",
           "showland": true,
           "showlakes": true,
           "lakecolor": "white"
          },
          "title": {
           "x": 0.05
          },
          "mapbox": {
           "style": "light"
          }
         }
        }
       },
       "config": {
        "plotlyServerURL": "https://plotly.com"
       }
      },
      "text/html": "<div>                            <div id=\"6286a8ba-95b4-440a-a070-e6d616c19033\" class=\"plotly-graph-div\" style=\"height:525px; width:100%;\"></div>            <script type=\"text/javascript\">                require([\"plotly\"], function(Plotly) {                    window.PLOTLYENV=window.PLOTLYENV || {};                                    if (document.getElementById(\"6286a8ba-95b4-440a-a070-e6d616c19033\")) {                    Plotly.newPlot(                        \"6286a8ba-95b4-440a-a070-e6d616c19033\",                        [{\"mode\":\"markers\",\"name\":\"Objective Value\",\"x\":[0,1,2,3,4,5,6,7,8,9,10,11,12,13,14,15,16,17,18,19,20,21,22,23,24,25,26,27,28,29,30,31,32,33,34,35,36,37,38,39,40,41,42,43,44,45,46,47,48,49],\"y\":[0.6577500206037464,0.663642404536692,0.6509488588781851,0.656835796962746,0.6558846071207434,0.6541310851926638,0.6531732139393243,0.6570776852773563,0.654337339348195,0.6069518511023763,0.6643306092967928,0.6649494888765418,0.6539776928729305,0.6642752180102358,0.6585749679488624,0.6610589064501331,0.6527175829628795,0.6567256921776068,0.6552652622532615,0.6537257605097835,0.6652029739628815,0.6656346200698383,0.6606717353025883,0.6617776857253687,0.6567020701599934,0.6648198018904293,0.6607614817301524,0.6498321349292275,0.6564760861182026,0.6564470057806895,0.6547563922939255,0.6648586263721011,0.6635717761711548,0.6633719035207551,0.6613499714162041,0.6623465649552049,0.6527610657234949,0.655677991066989,0.6643579288511563,0.6529665700600992,0.6532306355540859,0.6653722476194937,0.6630002583789569,0.6622441795295082,0.665444017277063,0.6575648042714844,0.6596204221944111,0.6615748700399757,0.6574793501678323,0.6575396394960936],\"type\":\"scatter\"},{\"mode\":\"lines\",\"name\":\"Best Value\",\"x\":[0,1,2,3,4,5,6,7,8,9,10,11,12,13,14,15,16,17,18,19,20,21,22,23,24,25,26,27,28,29,30,31,32,33,34,35,36,37,38,39,40,41,42,43,44,45,46,47,48,49],\"y\":[0.6577500206037464,0.663642404536692,0.663642404536692,0.663642404536692,0.663642404536692,0.663642404536692,0.663642404536692,0.663642404536692,0.663642404536692,0.663642404536692,0.6643306092967928,0.6649494888765418,0.6649494888765418,0.6649494888765418,0.6649494888765418,0.6649494888765418,0.6649494888765418,0.6649494888765418,0.6649494888765418,0.6649494888765418,0.6652029739628815,0.6656346200698383,0.6656346200698383,0.6656346200698383,0.6656346200698383,0.6656346200698383,0.6656346200698383,0.6656346200698383,0.6656346200698383,0.6656346200698383,0.6656346200698383,0.6656346200698383,0.6656346200698383,0.6656346200698383,0.6656346200698383,0.6656346200698383,0.6656346200698383,0.6656346200698383,0.6656346200698383,0.6656346200698383,0.6656346200698383,0.6656346200698383,0.6656346200698383,0.6656346200698383,0.6656346200698383,0.6656346200698383,0.6656346200698383,0.6656346200698383,0.6656346200698383,0.6656346200698383],\"type\":\"scatter\"},{\"marker\":{\"color\":\"#cccccc\"},\"mode\":\"markers\",\"name\":\"Infeasible Trial\",\"showlegend\":false,\"x\":[],\"y\":[],\"type\":\"scatter\"}],                        {\"title\":{\"text\":\"Optimization History Plot\"},\"xaxis\":{\"title\":{\"text\":\"Trial\"}},\"yaxis\":{\"title\":{\"text\":\"Objective Value\"}},\"template\":{\"data\":{\"histogram2dcontour\":[{\"type\":\"histogram2dcontour\",\"colorbar\":{\"outlinewidth\":0,\"ticks\":\"\"},\"colorscale\":[[0.0,\"#0d0887\"],[0.1111111111111111,\"#46039f\"],[0.2222222222222222,\"#7201a8\"],[0.3333333333333333,\"#9c179e\"],[0.4444444444444444,\"#bd3786\"],[0.5555555555555556,\"#d8576b\"],[0.6666666666666666,\"#ed7953\"],[0.7777777777777778,\"#fb9f3a\"],[0.8888888888888888,\"#fdca26\"],[1.0,\"#f0f921\"]]}],\"choropleth\":[{\"type\":\"choropleth\",\"colorbar\":{\"outlinewidth\":0,\"ticks\":\"\"}}],\"histogram2d\":[{\"type\":\"histogram2d\",\"colorbar\":{\"outlinewidth\":0,\"ticks\":\"\"},\"colorscale\":[[0.0,\"#0d0887\"],[0.1111111111111111,\"#46039f\"],[0.2222222222222222,\"#7201a8\"],[0.3333333333333333,\"#9c179e\"],[0.4444444444444444,\"#bd3786\"],[0.5555555555555556,\"#d8576b\"],[0.6666666666666666,\"#ed7953\"],[0.7777777777777778,\"#fb9f3a\"],[0.8888888888888888,\"#fdca26\"],[1.0,\"#f0f921\"]]}],\"heatmap\":[{\"type\":\"heatmap\",\"colorbar\":{\"outlinewidth\":0,\"ticks\":\"\"},\"colorscale\":[[0.0,\"#0d0887\"],[0.1111111111111111,\"#46039f\"],[0.2222222222222222,\"#7201a8\"],[0.3333333333333333,\"#9c179e\"],[0.4444444444444444,\"#bd3786\"],[0.5555555555555556,\"#d8576b\"],[0.6666666666666666,\"#ed7953\"],[0.7777777777777778,\"#fb9f3a\"],[0.8888888888888888,\"#fdca26\"],[1.0,\"#f0f921\"]]}],\"heatmapgl\":[{\"type\":\"heatmapgl\",\"colorbar\":{\"outlinewidth\":0,\"ticks\":\"\"},\"colorscale\":[[0.0,\"#0d0887\"],[0.1111111111111111,\"#46039f\"],[0.2222222222222222,\"#7201a8\"],[0.3333333333333333,\"#9c179e\"],[0.4444444444444444,\"#bd3786\"],[0.5555555555555556,\"#d8576b\"],[0.6666666666666666,\"#ed7953\"],[0.7777777777777778,\"#fb9f3a\"],[0.8888888888888888,\"#fdca26\"],[1.0,\"#f0f921\"]]}],\"contourcarpet\":[{\"type\":\"contourcarpet\",\"colorbar\":{\"outlinewidth\":0,\"ticks\":\"\"}}],\"contour\":[{\"type\":\"contour\",\"colorbar\":{\"outlinewidth\":0,\"ticks\":\"\"},\"colorscale\":[[0.0,\"#0d0887\"],[0.1111111111111111,\"#46039f\"],[0.2222222222222222,\"#7201a8\"],[0.3333333333333333,\"#9c179e\"],[0.4444444444444444,\"#bd3786\"],[0.5555555555555556,\"#d8576b\"],[0.6666666666666666,\"#ed7953\"],[0.7777777777777778,\"#fb9f3a\"],[0.8888888888888888,\"#fdca26\"],[1.0,\"#f0f921\"]]}],\"surface\":[{\"type\":\"surface\",\"colorbar\":{\"outlinewidth\":0,\"ticks\":\"\"},\"colorscale\":[[0.0,\"#0d0887\"],[0.1111111111111111,\"#46039f\"],[0.2222222222222222,\"#7201a8\"],[0.3333333333333333,\"#9c179e\"],[0.4444444444444444,\"#bd3786\"],[0.5555555555555556,\"#d8576b\"],[0.6666666666666666,\"#ed7953\"],[0.7777777777777778,\"#fb9f3a\"],[0.8888888888888888,\"#fdca26\"],[1.0,\"#f0f921\"]]}],\"mesh3d\":[{\"type\":\"mesh3d\",\"colorbar\":{\"outlinewidth\":0,\"ticks\":\"\"}}],\"scatter\":[{\"fillpattern\":{\"fillmode\":\"overlay\",\"size\":10,\"solidity\":0.2},\"type\":\"scatter\"}],\"parcoords\":[{\"type\":\"parcoords\",\"line\":{\"colorbar\":{\"outlinewidth\":0,\"ticks\":\"\"}}}],\"scatterpolargl\":[{\"type\":\"scatterpolargl\",\"marker\":{\"colorbar\":{\"outlinewidth\":0,\"ticks\":\"\"}}}],\"bar\":[{\"error_x\":{\"color\":\"#2a3f5f\"},\"error_y\":{\"color\":\"#2a3f5f\"},\"marker\":{\"line\":{\"color\":\"#E5ECF6\",\"width\":0.5},\"pattern\":{\"fillmode\":\"overlay\",\"size\":10,\"solidity\":0.2}},\"type\":\"bar\"}],\"scattergeo\":[{\"type\":\"scattergeo\",\"marker\":{\"colorbar\":{\"outlinewidth\":0,\"ticks\":\"\"}}}],\"scatterpolar\":[{\"type\":\"scatterpolar\",\"marker\":{\"colorbar\":{\"outlinewidth\":0,\"ticks\":\"\"}}}],\"histogram\":[{\"marker\":{\"pattern\":{\"fillmode\":\"overlay\",\"size\":10,\"solidity\":0.2}},\"type\":\"histogram\"}],\"scattergl\":[{\"type\":\"scattergl\",\"marker\":{\"colorbar\":{\"outlinewidth\":0,\"ticks\":\"\"}}}],\"scatter3d\":[{\"type\":\"scatter3d\",\"line\":{\"colorbar\":{\"outlinewidth\":0,\"ticks\":\"\"}},\"marker\":{\"colorbar\":{\"outlinewidth\":0,\"ticks\":\"\"}}}],\"scattermapbox\":[{\"type\":\"scattermapbox\",\"marker\":{\"colorbar\":{\"outlinewidth\":0,\"ticks\":\"\"}}}],\"scatterternary\":[{\"type\":\"scatterternary\",\"marker\":{\"colorbar\":{\"outlinewidth\":0,\"ticks\":\"\"}}}],\"scattercarpet\":[{\"type\":\"scattercarpet\",\"marker\":{\"colorbar\":{\"outlinewidth\":0,\"ticks\":\"\"}}}],\"carpet\":[{\"aaxis\":{\"endlinecolor\":\"#2a3f5f\",\"gridcolor\":\"white\",\"linecolor\":\"white\",\"minorgridcolor\":\"white\",\"startlinecolor\":\"#2a3f5f\"},\"baxis\":{\"endlinecolor\":\"#2a3f5f\",\"gridcolor\":\"white\",\"linecolor\":\"white\",\"minorgridcolor\":\"white\",\"startlinecolor\":\"#2a3f5f\"},\"type\":\"carpet\"}],\"table\":[{\"cells\":{\"fill\":{\"color\":\"#EBF0F8\"},\"line\":{\"color\":\"white\"}},\"header\":{\"fill\":{\"color\":\"#C8D4E3\"},\"line\":{\"color\":\"white\"}},\"type\":\"table\"}],\"barpolar\":[{\"marker\":{\"line\":{\"color\":\"#E5ECF6\",\"width\":0.5},\"pattern\":{\"fillmode\":\"overlay\",\"size\":10,\"solidity\":0.2}},\"type\":\"barpolar\"}],\"pie\":[{\"automargin\":true,\"type\":\"pie\"}]},\"layout\":{\"autotypenumbers\":\"strict\",\"colorway\":[\"#636efa\",\"#EF553B\",\"#00cc96\",\"#ab63fa\",\"#FFA15A\",\"#19d3f3\",\"#FF6692\",\"#B6E880\",\"#FF97FF\",\"#FECB52\"],\"font\":{\"color\":\"#2a3f5f\"},\"hovermode\":\"closest\",\"hoverlabel\":{\"align\":\"left\"},\"paper_bgcolor\":\"white\",\"plot_bgcolor\":\"#E5ECF6\",\"polar\":{\"bgcolor\":\"#E5ECF6\",\"angularaxis\":{\"gridcolor\":\"white\",\"linecolor\":\"white\",\"ticks\":\"\"},\"radialaxis\":{\"gridcolor\":\"white\",\"linecolor\":\"white\",\"ticks\":\"\"}},\"ternary\":{\"bgcolor\":\"#E5ECF6\",\"aaxis\":{\"gridcolor\":\"white\",\"linecolor\":\"white\",\"ticks\":\"\"},\"baxis\":{\"gridcolor\":\"white\",\"linecolor\":\"white\",\"ticks\":\"\"},\"caxis\":{\"gridcolor\":\"white\",\"linecolor\":\"white\",\"ticks\":\"\"}},\"coloraxis\":{\"colorbar\":{\"outlinewidth\":0,\"ticks\":\"\"}},\"colorscale\":{\"sequential\":[[0.0,\"#0d0887\"],[0.1111111111111111,\"#46039f\"],[0.2222222222222222,\"#7201a8\"],[0.3333333333333333,\"#9c179e\"],[0.4444444444444444,\"#bd3786\"],[0.5555555555555556,\"#d8576b\"],[0.6666666666666666,\"#ed7953\"],[0.7777777777777778,\"#fb9f3a\"],[0.8888888888888888,\"#fdca26\"],[1.0,\"#f0f921\"]],\"sequentialminus\":[[0.0,\"#0d0887\"],[0.1111111111111111,\"#46039f\"],[0.2222222222222222,\"#7201a8\"],[0.3333333333333333,\"#9c179e\"],[0.4444444444444444,\"#bd3786\"],[0.5555555555555556,\"#d8576b\"],[0.6666666666666666,\"#ed7953\"],[0.7777777777777778,\"#fb9f3a\"],[0.8888888888888888,\"#fdca26\"],[1.0,\"#f0f921\"]],\"diverging\":[[0,\"#8e0152\"],[0.1,\"#c51b7d\"],[0.2,\"#de77ae\"],[0.3,\"#f1b6da\"],[0.4,\"#fde0ef\"],[0.5,\"#f7f7f7\"],[0.6,\"#e6f5d0\"],[0.7,\"#b8e186\"],[0.8,\"#7fbc41\"],[0.9,\"#4d9221\"],[1,\"#276419\"]]},\"xaxis\":{\"gridcolor\":\"white\",\"linecolor\":\"white\",\"ticks\":\"\",\"title\":{\"standoff\":15},\"zerolinecolor\":\"white\",\"automargin\":true,\"zerolinewidth\":2},\"yaxis\":{\"gridcolor\":\"white\",\"linecolor\":\"white\",\"ticks\":\"\",\"title\":{\"standoff\":15},\"zerolinecolor\":\"white\",\"automargin\":true,\"zerolinewidth\":2},\"scene\":{\"xaxis\":{\"backgroundcolor\":\"#E5ECF6\",\"gridcolor\":\"white\",\"linecolor\":\"white\",\"showbackground\":true,\"ticks\":\"\",\"zerolinecolor\":\"white\",\"gridwidth\":2},\"yaxis\":{\"backgroundcolor\":\"#E5ECF6\",\"gridcolor\":\"white\",\"linecolor\":\"white\",\"showbackground\":true,\"ticks\":\"\",\"zerolinecolor\":\"white\",\"gridwidth\":2},\"zaxis\":{\"backgroundcolor\":\"#E5ECF6\",\"gridcolor\":\"white\",\"linecolor\":\"white\",\"showbackground\":true,\"ticks\":\"\",\"zerolinecolor\":\"white\",\"gridwidth\":2}},\"shapedefaults\":{\"line\":{\"color\":\"#2a3f5f\"}},\"annotationdefaults\":{\"arrowcolor\":\"#2a3f5f\",\"arrowhead\":0,\"arrowwidth\":1},\"geo\":{\"bgcolor\":\"white\",\"landcolor\":\"#E5ECF6\",\"subunitcolor\":\"white\",\"showland\":true,\"showlakes\":true,\"lakecolor\":\"white\"},\"title\":{\"x\":0.05},\"mapbox\":{\"style\":\"light\"}}}},                        {\"responsive\": true}                    ).then(function(){\n                            \nvar gd = document.getElementById('6286a8ba-95b4-440a-a070-e6d616c19033');\nvar x = new MutationObserver(function (mutations, observer) {{\n        var display = window.getComputedStyle(gd).display;\n        if (!display || display === 'none') {{\n            console.log([gd, 'removed!']);\n            Plotly.purge(gd);\n            observer.disconnect();\n        }}\n}});\n\n// Listen for the removal of the full notebook cells\nvar notebookContainer = gd.closest('#notebook-container');\nif (notebookContainer) {{\n    x.observe(notebookContainer, {childList: true});\n}}\n\n// Listen for the clearing of the current output cell\nvar outputEl = gd.closest('.output');\nif (outputEl) {{\n    x.observe(outputEl, {childList: true});\n}}\n\n                        })                };                });            </script>        </div>"
     },
     "metadata": {},
     "output_type": "display_data"
    }
   ],
   "source": [
    "# 실험 기록 시각화\n",
    "optuna.visualization.plot_optimization_history(study)"
   ]
  },
  {
   "cell_type": "code",
   "execution_count": 39,
   "id": "efbf8f65",
   "metadata": {
    "scrolled": false,
    "colab": {
     "base_uri": "https://localhost:8080/",
     "height": 542
    },
    "id": "efbf8f65",
    "outputId": "7368048b-ad41-45ef-9350-cf7a16da295b"
   },
   "outputs": [
    {
     "data": {
      "application/vnd.plotly.v1+json": {
       "data": [
        {
         "cliponaxis": false,
         "hovertemplate": [
          "max_depth (IntDistribution): 0.003842187932666991<extra></extra>",
          "colsample_bytree (FloatDistribution): 0.04552194275509064<extra></extra>",
          "num_leaves (CategoricalDistribution): 0.0641210553466226<extra></extra>",
          "n_estimators (IntDistribution): 0.09792009318970897<extra></extra>",
          "min_child_samples (IntDistribution): 0.10778243424364967<extra></extra>",
          "learning_rate (FloatDistribution): 0.6808122865322612<extra></extra>"
         ],
         "marker": {
          "color": "rgb(66,146,198)"
         },
         "orientation": "h",
         "text": [
          "<0.01",
          "0.05",
          "0.06",
          "0.10",
          "0.11",
          "0.68"
         ],
         "textposition": "outside",
         "x": [
          0.003842187932666991,
          0.04552194275509064,
          0.0641210553466226,
          0.09792009318970897,
          0.10778243424364967,
          0.6808122865322612
         ],
         "y": [
          "max_depth",
          "colsample_bytree",
          "num_leaves",
          "n_estimators",
          "min_child_samples",
          "learning_rate"
         ],
         "type": "bar"
        }
       ],
       "layout": {
        "showlegend": false,
        "title": {
         "text": "Hyperparameter Importances"
        },
        "xaxis": {
         "title": {
          "text": "Importance for Objective Value"
         }
        },
        "yaxis": {
         "title": {
          "text": "Hyperparameter"
         }
        },
        "template": {
         "data": {
          "histogram2dcontour": [
           {
            "type": "histogram2dcontour",
            "colorbar": {
             "outlinewidth": 0,
             "ticks": ""
            },
            "colorscale": [
             [
              0.0,
              "#0d0887"
             ],
             [
              0.1111111111111111,
              "#46039f"
             ],
             [
              0.2222222222222222,
              "#7201a8"
             ],
             [
              0.3333333333333333,
              "#9c179e"
             ],
             [
              0.4444444444444444,
              "#bd3786"
             ],
             [
              0.5555555555555556,
              "#d8576b"
             ],
             [
              0.6666666666666666,
              "#ed7953"
             ],
             [
              0.7777777777777778,
              "#fb9f3a"
             ],
             [
              0.8888888888888888,
              "#fdca26"
             ],
             [
              1.0,
              "#f0f921"
             ]
            ]
           }
          ],
          "choropleth": [
           {
            "type": "choropleth",
            "colorbar": {
             "outlinewidth": 0,
             "ticks": ""
            }
           }
          ],
          "histogram2d": [
           {
            "type": "histogram2d",
            "colorbar": {
             "outlinewidth": 0,
             "ticks": ""
            },
            "colorscale": [
             [
              0.0,
              "#0d0887"
             ],
             [
              0.1111111111111111,
              "#46039f"
             ],
             [
              0.2222222222222222,
              "#7201a8"
             ],
             [
              0.3333333333333333,
              "#9c179e"
             ],
             [
              0.4444444444444444,
              "#bd3786"
             ],
             [
              0.5555555555555556,
              "#d8576b"
             ],
             [
              0.6666666666666666,
              "#ed7953"
             ],
             [
              0.7777777777777778,
              "#fb9f3a"
             ],
             [
              0.8888888888888888,
              "#fdca26"
             ],
             [
              1.0,
              "#f0f921"
             ]
            ]
           }
          ],
          "heatmap": [
           {
            "type": "heatmap",
            "colorbar": {
             "outlinewidth": 0,
             "ticks": ""
            },
            "colorscale": [
             [
              0.0,
              "#0d0887"
             ],
             [
              0.1111111111111111,
              "#46039f"
             ],
             [
              0.2222222222222222,
              "#7201a8"
             ],
             [
              0.3333333333333333,
              "#9c179e"
             ],
             [
              0.4444444444444444,
              "#bd3786"
             ],
             [
              0.5555555555555556,
              "#d8576b"
             ],
             [
              0.6666666666666666,
              "#ed7953"
             ],
             [
              0.7777777777777778,
              "#fb9f3a"
             ],
             [
              0.8888888888888888,
              "#fdca26"
             ],
             [
              1.0,
              "#f0f921"
             ]
            ]
           }
          ],
          "heatmapgl": [
           {
            "type": "heatmapgl",
            "colorbar": {
             "outlinewidth": 0,
             "ticks": ""
            },
            "colorscale": [
             [
              0.0,
              "#0d0887"
             ],
             [
              0.1111111111111111,
              "#46039f"
             ],
             [
              0.2222222222222222,
              "#7201a8"
             ],
             [
              0.3333333333333333,
              "#9c179e"
             ],
             [
              0.4444444444444444,
              "#bd3786"
             ],
             [
              0.5555555555555556,
              "#d8576b"
             ],
             [
              0.6666666666666666,
              "#ed7953"
             ],
             [
              0.7777777777777778,
              "#fb9f3a"
             ],
             [
              0.8888888888888888,
              "#fdca26"
             ],
             [
              1.0,
              "#f0f921"
             ]
            ]
           }
          ],
          "contourcarpet": [
           {
            "type": "contourcarpet",
            "colorbar": {
             "outlinewidth": 0,
             "ticks": ""
            }
           }
          ],
          "contour": [
           {
            "type": "contour",
            "colorbar": {
             "outlinewidth": 0,
             "ticks": ""
            },
            "colorscale": [
             [
              0.0,
              "#0d0887"
             ],
             [
              0.1111111111111111,
              "#46039f"
             ],
             [
              0.2222222222222222,
              "#7201a8"
             ],
             [
              0.3333333333333333,
              "#9c179e"
             ],
             [
              0.4444444444444444,
              "#bd3786"
             ],
             [
              0.5555555555555556,
              "#d8576b"
             ],
             [
              0.6666666666666666,
              "#ed7953"
             ],
             [
              0.7777777777777778,
              "#fb9f3a"
             ],
             [
              0.8888888888888888,
              "#fdca26"
             ],
             [
              1.0,
              "#f0f921"
             ]
            ]
           }
          ],
          "surface": [
           {
            "type": "surface",
            "colorbar": {
             "outlinewidth": 0,
             "ticks": ""
            },
            "colorscale": [
             [
              0.0,
              "#0d0887"
             ],
             [
              0.1111111111111111,
              "#46039f"
             ],
             [
              0.2222222222222222,
              "#7201a8"
             ],
             [
              0.3333333333333333,
              "#9c179e"
             ],
             [
              0.4444444444444444,
              "#bd3786"
             ],
             [
              0.5555555555555556,
              "#d8576b"
             ],
             [
              0.6666666666666666,
              "#ed7953"
             ],
             [
              0.7777777777777778,
              "#fb9f3a"
             ],
             [
              0.8888888888888888,
              "#fdca26"
             ],
             [
              1.0,
              "#f0f921"
             ]
            ]
           }
          ],
          "mesh3d": [
           {
            "type": "mesh3d",
            "colorbar": {
             "outlinewidth": 0,
             "ticks": ""
            }
           }
          ],
          "scatter": [
           {
            "fillpattern": {
             "fillmode": "overlay",
             "size": 10,
             "solidity": 0.2
            },
            "type": "scatter"
           }
          ],
          "parcoords": [
           {
            "type": "parcoords",
            "line": {
             "colorbar": {
              "outlinewidth": 0,
              "ticks": ""
             }
            }
           }
          ],
          "scatterpolargl": [
           {
            "type": "scatterpolargl",
            "marker": {
             "colorbar": {
              "outlinewidth": 0,
              "ticks": ""
             }
            }
           }
          ],
          "bar": [
           {
            "error_x": {
             "color": "#2a3f5f"
            },
            "error_y": {
             "color": "#2a3f5f"
            },
            "marker": {
             "line": {
              "color": "#E5ECF6",
              "width": 0.5
             },
             "pattern": {
              "fillmode": "overlay",
              "size": 10,
              "solidity": 0.2
             }
            },
            "type": "bar"
           }
          ],
          "scattergeo": [
           {
            "type": "scattergeo",
            "marker": {
             "colorbar": {
              "outlinewidth": 0,
              "ticks": ""
             }
            }
           }
          ],
          "scatterpolar": [
           {
            "type": "scatterpolar",
            "marker": {
             "colorbar": {
              "outlinewidth": 0,
              "ticks": ""
             }
            }
           }
          ],
          "histogram": [
           {
            "marker": {
             "pattern": {
              "fillmode": "overlay",
              "size": 10,
              "solidity": 0.2
             }
            },
            "type": "histogram"
           }
          ],
          "scattergl": [
           {
            "type": "scattergl",
            "marker": {
             "colorbar": {
              "outlinewidth": 0,
              "ticks": ""
             }
            }
           }
          ],
          "scatter3d": [
           {
            "type": "scatter3d",
            "line": {
             "colorbar": {
              "outlinewidth": 0,
              "ticks": ""
             }
            },
            "marker": {
             "colorbar": {
              "outlinewidth": 0,
              "ticks": ""
             }
            }
           }
          ],
          "scattermapbox": [
           {
            "type": "scattermapbox",
            "marker": {
             "colorbar": {
              "outlinewidth": 0,
              "ticks": ""
             }
            }
           }
          ],
          "scatterternary": [
           {
            "type": "scatterternary",
            "marker": {
             "colorbar": {
              "outlinewidth": 0,
              "ticks": ""
             }
            }
           }
          ],
          "scattercarpet": [
           {
            "type": "scattercarpet",
            "marker": {
             "colorbar": {
              "outlinewidth": 0,
              "ticks": ""
             }
            }
           }
          ],
          "carpet": [
           {
            "aaxis": {
             "endlinecolor": "#2a3f5f",
             "gridcolor": "white",
             "linecolor": "white",
             "minorgridcolor": "white",
             "startlinecolor": "#2a3f5f"
            },
            "baxis": {
             "endlinecolor": "#2a3f5f",
             "gridcolor": "white",
             "linecolor": "white",
             "minorgridcolor": "white",
             "startlinecolor": "#2a3f5f"
            },
            "type": "carpet"
           }
          ],
          "table": [
           {
            "cells": {
             "fill": {
              "color": "#EBF0F8"
             },
             "line": {
              "color": "white"
             }
            },
            "header": {
             "fill": {
              "color": "#C8D4E3"
             },
             "line": {
              "color": "white"
             }
            },
            "type": "table"
           }
          ],
          "barpolar": [
           {
            "marker": {
             "line": {
              "color": "#E5ECF6",
              "width": 0.5
             },
             "pattern": {
              "fillmode": "overlay",
              "size": 10,
              "solidity": 0.2
             }
            },
            "type": "barpolar"
           }
          ],
          "pie": [
           {
            "automargin": true,
            "type": "pie"
           }
          ]
         },
         "layout": {
          "autotypenumbers": "strict",
          "colorway": [
           "#636efa",
           "#EF553B",
           "#00cc96",
           "#ab63fa",
           "#FFA15A",
           "#19d3f3",
           "#FF6692",
           "#B6E880",
           "#FF97FF",
           "#FECB52"
          ],
          "font": {
           "color": "#2a3f5f"
          },
          "hovermode": "closest",
          "hoverlabel": {
           "align": "left"
          },
          "paper_bgcolor": "white",
          "plot_bgcolor": "#E5ECF6",
          "polar": {
           "bgcolor": "#E5ECF6",
           "angularaxis": {
            "gridcolor": "white",
            "linecolor": "white",
            "ticks": ""
           },
           "radialaxis": {
            "gridcolor": "white",
            "linecolor": "white",
            "ticks": ""
           }
          },
          "ternary": {
           "bgcolor": "#E5ECF6",
           "aaxis": {
            "gridcolor": "white",
            "linecolor": "white",
            "ticks": ""
           },
           "baxis": {
            "gridcolor": "white",
            "linecolor": "white",
            "ticks": ""
           },
           "caxis": {
            "gridcolor": "white",
            "linecolor": "white",
            "ticks": ""
           }
          },
          "coloraxis": {
           "colorbar": {
            "outlinewidth": 0,
            "ticks": ""
           }
          },
          "colorscale": {
           "sequential": [
            [
             0.0,
             "#0d0887"
            ],
            [
             0.1111111111111111,
             "#46039f"
            ],
            [
             0.2222222222222222,
             "#7201a8"
            ],
            [
             0.3333333333333333,
             "#9c179e"
            ],
            [
             0.4444444444444444,
             "#bd3786"
            ],
            [
             0.5555555555555556,
             "#d8576b"
            ],
            [
             0.6666666666666666,
             "#ed7953"
            ],
            [
             0.7777777777777778,
             "#fb9f3a"
            ],
            [
             0.8888888888888888,
             "#fdca26"
            ],
            [
             1.0,
             "#f0f921"
            ]
           ],
           "sequentialminus": [
            [
             0.0,
             "#0d0887"
            ],
            [
             0.1111111111111111,
             "#46039f"
            ],
            [
             0.2222222222222222,
             "#7201a8"
            ],
            [
             0.3333333333333333,
             "#9c179e"
            ],
            [
             0.4444444444444444,
             "#bd3786"
            ],
            [
             0.5555555555555556,
             "#d8576b"
            ],
            [
             0.6666666666666666,
             "#ed7953"
            ],
            [
             0.7777777777777778,
             "#fb9f3a"
            ],
            [
             0.8888888888888888,
             "#fdca26"
            ],
            [
             1.0,
             "#f0f921"
            ]
           ],
           "diverging": [
            [
             0,
             "#8e0152"
            ],
            [
             0.1,
             "#c51b7d"
            ],
            [
             0.2,
             "#de77ae"
            ],
            [
             0.3,
             "#f1b6da"
            ],
            [
             0.4,
             "#fde0ef"
            ],
            [
             0.5,
             "#f7f7f7"
            ],
            [
             0.6,
             "#e6f5d0"
            ],
            [
             0.7,
             "#b8e186"
            ],
            [
             0.8,
             "#7fbc41"
            ],
            [
             0.9,
             "#4d9221"
            ],
            [
             1,
             "#276419"
            ]
           ]
          },
          "xaxis": {
           "gridcolor": "white",
           "linecolor": "white",
           "ticks": "",
           "title": {
            "standoff": 15
           },
           "zerolinecolor": "white",
           "automargin": true,
           "zerolinewidth": 2
          },
          "yaxis": {
           "gridcolor": "white",
           "linecolor": "white",
           "ticks": "",
           "title": {
            "standoff": 15
           },
           "zerolinecolor": "white",
           "automargin": true,
           "zerolinewidth": 2
          },
          "scene": {
           "xaxis": {
            "backgroundcolor": "#E5ECF6",
            "gridcolor": "white",
            "linecolor": "white",
            "showbackground": true,
            "ticks": "",
            "zerolinecolor": "white",
            "gridwidth": 2
           },
           "yaxis": {
            "backgroundcolor": "#E5ECF6",
            "gridcolor": "white",
            "linecolor": "white",
            "showbackground": true,
            "ticks": "",
            "zerolinecolor": "white",
            "gridwidth": 2
           },
           "zaxis": {
            "backgroundcolor": "#E5ECF6",
            "gridcolor": "white",
            "linecolor": "white",
            "showbackground": true,
            "ticks": "",
            "zerolinecolor": "white",
            "gridwidth": 2
           }
          },
          "shapedefaults": {
           "line": {
            "color": "#2a3f5f"
           }
          },
          "annotationdefaults": {
           "arrowcolor": "#2a3f5f",
           "arrowhead": 0,
           "arrowwidth": 1
          },
          "geo": {
           "bgcolor": "white",
           "landcolor": "#E5ECF6",
           "subunitcolor": "white",
           "showland": true,
           "showlakes": true,
           "lakecolor": "white"
          },
          "title": {
           "x": 0.05
          },
          "mapbox": {
           "style": "light"
          }
         }
        }
       },
       "config": {
        "plotlyServerURL": "https://plotly.com"
       }
      },
      "text/html": "<div>                            <div id=\"214c8f51-c964-4125-97d2-fcfb83918734\" class=\"plotly-graph-div\" style=\"height:525px; width:100%;\"></div>            <script type=\"text/javascript\">                require([\"plotly\"], function(Plotly) {                    window.PLOTLYENV=window.PLOTLYENV || {};                                    if (document.getElementById(\"214c8f51-c964-4125-97d2-fcfb83918734\")) {                    Plotly.newPlot(                        \"214c8f51-c964-4125-97d2-fcfb83918734\",                        [{\"cliponaxis\":false,\"hovertemplate\":[\"max_depth (IntDistribution): 0.003842187932666991<extra></extra>\",\"colsample_bytree (FloatDistribution): 0.04552194275509064<extra></extra>\",\"num_leaves (CategoricalDistribution): 0.0641210553466226<extra></extra>\",\"n_estimators (IntDistribution): 0.09792009318970897<extra></extra>\",\"min_child_samples (IntDistribution): 0.10778243424364967<extra></extra>\",\"learning_rate (FloatDistribution): 0.6808122865322612<extra></extra>\"],\"marker\":{\"color\":\"rgb(66,146,198)\"},\"orientation\":\"h\",\"text\":[\"<0.01\",\"0.05\",\"0.06\",\"0.10\",\"0.11\",\"0.68\"],\"textposition\":\"outside\",\"x\":[0.003842187932666991,0.04552194275509064,0.0641210553466226,0.09792009318970897,0.10778243424364967,0.6808122865322612],\"y\":[\"max_depth\",\"colsample_bytree\",\"num_leaves\",\"n_estimators\",\"min_child_samples\",\"learning_rate\"],\"type\":\"bar\"}],                        {\"showlegend\":false,\"title\":{\"text\":\"Hyperparameter Importances\"},\"xaxis\":{\"title\":{\"text\":\"Importance for Objective Value\"}},\"yaxis\":{\"title\":{\"text\":\"Hyperparameter\"}},\"template\":{\"data\":{\"histogram2dcontour\":[{\"type\":\"histogram2dcontour\",\"colorbar\":{\"outlinewidth\":0,\"ticks\":\"\"},\"colorscale\":[[0.0,\"#0d0887\"],[0.1111111111111111,\"#46039f\"],[0.2222222222222222,\"#7201a8\"],[0.3333333333333333,\"#9c179e\"],[0.4444444444444444,\"#bd3786\"],[0.5555555555555556,\"#d8576b\"],[0.6666666666666666,\"#ed7953\"],[0.7777777777777778,\"#fb9f3a\"],[0.8888888888888888,\"#fdca26\"],[1.0,\"#f0f921\"]]}],\"choropleth\":[{\"type\":\"choropleth\",\"colorbar\":{\"outlinewidth\":0,\"ticks\":\"\"}}],\"histogram2d\":[{\"type\":\"histogram2d\",\"colorbar\":{\"outlinewidth\":0,\"ticks\":\"\"},\"colorscale\":[[0.0,\"#0d0887\"],[0.1111111111111111,\"#46039f\"],[0.2222222222222222,\"#7201a8\"],[0.3333333333333333,\"#9c179e\"],[0.4444444444444444,\"#bd3786\"],[0.5555555555555556,\"#d8576b\"],[0.6666666666666666,\"#ed7953\"],[0.7777777777777778,\"#fb9f3a\"],[0.8888888888888888,\"#fdca26\"],[1.0,\"#f0f921\"]]}],\"heatmap\":[{\"type\":\"heatmap\",\"colorbar\":{\"outlinewidth\":0,\"ticks\":\"\"},\"colorscale\":[[0.0,\"#0d0887\"],[0.1111111111111111,\"#46039f\"],[0.2222222222222222,\"#7201a8\"],[0.3333333333333333,\"#9c179e\"],[0.4444444444444444,\"#bd3786\"],[0.5555555555555556,\"#d8576b\"],[0.6666666666666666,\"#ed7953\"],[0.7777777777777778,\"#fb9f3a\"],[0.8888888888888888,\"#fdca26\"],[1.0,\"#f0f921\"]]}],\"heatmapgl\":[{\"type\":\"heatmapgl\",\"colorbar\":{\"outlinewidth\":0,\"ticks\":\"\"},\"colorscale\":[[0.0,\"#0d0887\"],[0.1111111111111111,\"#46039f\"],[0.2222222222222222,\"#7201a8\"],[0.3333333333333333,\"#9c179e\"],[0.4444444444444444,\"#bd3786\"],[0.5555555555555556,\"#d8576b\"],[0.6666666666666666,\"#ed7953\"],[0.7777777777777778,\"#fb9f3a\"],[0.8888888888888888,\"#fdca26\"],[1.0,\"#f0f921\"]]}],\"contourcarpet\":[{\"type\":\"contourcarpet\",\"colorbar\":{\"outlinewidth\":0,\"ticks\":\"\"}}],\"contour\":[{\"type\":\"contour\",\"colorbar\":{\"outlinewidth\":0,\"ticks\":\"\"},\"colorscale\":[[0.0,\"#0d0887\"],[0.1111111111111111,\"#46039f\"],[0.2222222222222222,\"#7201a8\"],[0.3333333333333333,\"#9c179e\"],[0.4444444444444444,\"#bd3786\"],[0.5555555555555556,\"#d8576b\"],[0.6666666666666666,\"#ed7953\"],[0.7777777777777778,\"#fb9f3a\"],[0.8888888888888888,\"#fdca26\"],[1.0,\"#f0f921\"]]}],\"surface\":[{\"type\":\"surface\",\"colorbar\":{\"outlinewidth\":0,\"ticks\":\"\"},\"colorscale\":[[0.0,\"#0d0887\"],[0.1111111111111111,\"#46039f\"],[0.2222222222222222,\"#7201a8\"],[0.3333333333333333,\"#9c179e\"],[0.4444444444444444,\"#bd3786\"],[0.5555555555555556,\"#d8576b\"],[0.6666666666666666,\"#ed7953\"],[0.7777777777777778,\"#fb9f3a\"],[0.8888888888888888,\"#fdca26\"],[1.0,\"#f0f921\"]]}],\"mesh3d\":[{\"type\":\"mesh3d\",\"colorbar\":{\"outlinewidth\":0,\"ticks\":\"\"}}],\"scatter\":[{\"fillpattern\":{\"fillmode\":\"overlay\",\"size\":10,\"solidity\":0.2},\"type\":\"scatter\"}],\"parcoords\":[{\"type\":\"parcoords\",\"line\":{\"colorbar\":{\"outlinewidth\":0,\"ticks\":\"\"}}}],\"scatterpolargl\":[{\"type\":\"scatterpolargl\",\"marker\":{\"colorbar\":{\"outlinewidth\":0,\"ticks\":\"\"}}}],\"bar\":[{\"error_x\":{\"color\":\"#2a3f5f\"},\"error_y\":{\"color\":\"#2a3f5f\"},\"marker\":{\"line\":{\"color\":\"#E5ECF6\",\"width\":0.5},\"pattern\":{\"fillmode\":\"overlay\",\"size\":10,\"solidity\":0.2}},\"type\":\"bar\"}],\"scattergeo\":[{\"type\":\"scattergeo\",\"marker\":{\"colorbar\":{\"outlinewidth\":0,\"ticks\":\"\"}}}],\"scatterpolar\":[{\"type\":\"scatterpolar\",\"marker\":{\"colorbar\":{\"outlinewidth\":0,\"ticks\":\"\"}}}],\"histogram\":[{\"marker\":{\"pattern\":{\"fillmode\":\"overlay\",\"size\":10,\"solidity\":0.2}},\"type\":\"histogram\"}],\"scattergl\":[{\"type\":\"scattergl\",\"marker\":{\"colorbar\":{\"outlinewidth\":0,\"ticks\":\"\"}}}],\"scatter3d\":[{\"type\":\"scatter3d\",\"line\":{\"colorbar\":{\"outlinewidth\":0,\"ticks\":\"\"}},\"marker\":{\"colorbar\":{\"outlinewidth\":0,\"ticks\":\"\"}}}],\"scattermapbox\":[{\"type\":\"scattermapbox\",\"marker\":{\"colorbar\":{\"outlinewidth\":0,\"ticks\":\"\"}}}],\"scatterternary\":[{\"type\":\"scatterternary\",\"marker\":{\"colorbar\":{\"outlinewidth\":0,\"ticks\":\"\"}}}],\"scattercarpet\":[{\"type\":\"scattercarpet\",\"marker\":{\"colorbar\":{\"outlinewidth\":0,\"ticks\":\"\"}}}],\"carpet\":[{\"aaxis\":{\"endlinecolor\":\"#2a3f5f\",\"gridcolor\":\"white\",\"linecolor\":\"white\",\"minorgridcolor\":\"white\",\"startlinecolor\":\"#2a3f5f\"},\"baxis\":{\"endlinecolor\":\"#2a3f5f\",\"gridcolor\":\"white\",\"linecolor\":\"white\",\"minorgridcolor\":\"white\",\"startlinecolor\":\"#2a3f5f\"},\"type\":\"carpet\"}],\"table\":[{\"cells\":{\"fill\":{\"color\":\"#EBF0F8\"},\"line\":{\"color\":\"white\"}},\"header\":{\"fill\":{\"color\":\"#C8D4E3\"},\"line\":{\"color\":\"white\"}},\"type\":\"table\"}],\"barpolar\":[{\"marker\":{\"line\":{\"color\":\"#E5ECF6\",\"width\":0.5},\"pattern\":{\"fillmode\":\"overlay\",\"size\":10,\"solidity\":0.2}},\"type\":\"barpolar\"}],\"pie\":[{\"automargin\":true,\"type\":\"pie\"}]},\"layout\":{\"autotypenumbers\":\"strict\",\"colorway\":[\"#636efa\",\"#EF553B\",\"#00cc96\",\"#ab63fa\",\"#FFA15A\",\"#19d3f3\",\"#FF6692\",\"#B6E880\",\"#FF97FF\",\"#FECB52\"],\"font\":{\"color\":\"#2a3f5f\"},\"hovermode\":\"closest\",\"hoverlabel\":{\"align\":\"left\"},\"paper_bgcolor\":\"white\",\"plot_bgcolor\":\"#E5ECF6\",\"polar\":{\"bgcolor\":\"#E5ECF6\",\"angularaxis\":{\"gridcolor\":\"white\",\"linecolor\":\"white\",\"ticks\":\"\"},\"radialaxis\":{\"gridcolor\":\"white\",\"linecolor\":\"white\",\"ticks\":\"\"}},\"ternary\":{\"bgcolor\":\"#E5ECF6\",\"aaxis\":{\"gridcolor\":\"white\",\"linecolor\":\"white\",\"ticks\":\"\"},\"baxis\":{\"gridcolor\":\"white\",\"linecolor\":\"white\",\"ticks\":\"\"},\"caxis\":{\"gridcolor\":\"white\",\"linecolor\":\"white\",\"ticks\":\"\"}},\"coloraxis\":{\"colorbar\":{\"outlinewidth\":0,\"ticks\":\"\"}},\"colorscale\":{\"sequential\":[[0.0,\"#0d0887\"],[0.1111111111111111,\"#46039f\"],[0.2222222222222222,\"#7201a8\"],[0.3333333333333333,\"#9c179e\"],[0.4444444444444444,\"#bd3786\"],[0.5555555555555556,\"#d8576b\"],[0.6666666666666666,\"#ed7953\"],[0.7777777777777778,\"#fb9f3a\"],[0.8888888888888888,\"#fdca26\"],[1.0,\"#f0f921\"]],\"sequentialminus\":[[0.0,\"#0d0887\"],[0.1111111111111111,\"#46039f\"],[0.2222222222222222,\"#7201a8\"],[0.3333333333333333,\"#9c179e\"],[0.4444444444444444,\"#bd3786\"],[0.5555555555555556,\"#d8576b\"],[0.6666666666666666,\"#ed7953\"],[0.7777777777777778,\"#fb9f3a\"],[0.8888888888888888,\"#fdca26\"],[1.0,\"#f0f921\"]],\"diverging\":[[0,\"#8e0152\"],[0.1,\"#c51b7d\"],[0.2,\"#de77ae\"],[0.3,\"#f1b6da\"],[0.4,\"#fde0ef\"],[0.5,\"#f7f7f7\"],[0.6,\"#e6f5d0\"],[0.7,\"#b8e186\"],[0.8,\"#7fbc41\"],[0.9,\"#4d9221\"],[1,\"#276419\"]]},\"xaxis\":{\"gridcolor\":\"white\",\"linecolor\":\"white\",\"ticks\":\"\",\"title\":{\"standoff\":15},\"zerolinecolor\":\"white\",\"automargin\":true,\"zerolinewidth\":2},\"yaxis\":{\"gridcolor\":\"white\",\"linecolor\":\"white\",\"ticks\":\"\",\"title\":{\"standoff\":15},\"zerolinecolor\":\"white\",\"automargin\":true,\"zerolinewidth\":2},\"scene\":{\"xaxis\":{\"backgroundcolor\":\"#E5ECF6\",\"gridcolor\":\"white\",\"linecolor\":\"white\",\"showbackground\":true,\"ticks\":\"\",\"zerolinecolor\":\"white\",\"gridwidth\":2},\"yaxis\":{\"backgroundcolor\":\"#E5ECF6\",\"gridcolor\":\"white\",\"linecolor\":\"white\",\"showbackground\":true,\"ticks\":\"\",\"zerolinecolor\":\"white\",\"gridwidth\":2},\"zaxis\":{\"backgroundcolor\":\"#E5ECF6\",\"gridcolor\":\"white\",\"linecolor\":\"white\",\"showbackground\":true,\"ticks\":\"\",\"zerolinecolor\":\"white\",\"gridwidth\":2}},\"shapedefaults\":{\"line\":{\"color\":\"#2a3f5f\"}},\"annotationdefaults\":{\"arrowcolor\":\"#2a3f5f\",\"arrowhead\":0,\"arrowwidth\":1},\"geo\":{\"bgcolor\":\"white\",\"landcolor\":\"#E5ECF6\",\"subunitcolor\":\"white\",\"showland\":true,\"showlakes\":true,\"lakecolor\":\"white\"},\"title\":{\"x\":0.05},\"mapbox\":{\"style\":\"light\"}}}},                        {\"responsive\": true}                    ).then(function(){\n                            \nvar gd = document.getElementById('214c8f51-c964-4125-97d2-fcfb83918734');\nvar x = new MutationObserver(function (mutations, observer) {{\n        var display = window.getComputedStyle(gd).display;\n        if (!display || display === 'none') {{\n            console.log([gd, 'removed!']);\n            Plotly.purge(gd);\n            observer.disconnect();\n        }}\n}});\n\n// Listen for the removal of the full notebook cells\nvar notebookContainer = gd.closest('#notebook-container');\nif (notebookContainer) {{\n    x.observe(notebookContainer, {childList: true});\n}}\n\n// Listen for the clearing of the current output cell\nvar outputEl = gd.closest('.output');\nif (outputEl) {{\n    x.observe(outputEl, {childList: true});\n}}\n\n                        })                };                });            </script>        </div>"
     },
     "metadata": {},
     "output_type": "display_data"
    }
   ],
   "source": [
    "# hyper-parameter들의 중요도\n",
    "optuna.visualization.plot_param_importances(study)"
   ]
  },
  {
   "cell_type": "markdown",
   "id": "24b360ec",
   "metadata": {
    "id": "24b360ec"
   },
   "source": [
    "### 7. 테스트 및 제출 파일 생성"
   ]
  },
  {
   "cell_type": "code",
   "source": [
    "# Make KFold OOF prediction\n",
    "def oof_preds(best_model):\n",
    "\n",
    "    # make KFold\n",
    "    folds = StratifiedKFold(n_splits=K, random_state=61, shuffle=True)\n",
    "    final_preds = []\n",
    "    losses = []\n",
    "    oof = np.full(len(X), np.nan)\n",
    "    # fitting with best_model\n",
    "    for i, (train_idx, val_idx) in enumerate(folds.split(X, y)):\n",
    "        X_train = X.iloc[train_idx, :]\n",
    "        y_train = y.iloc[train_idx]\n",
    "        X_val = X.iloc[val_idx, :]\n",
    "        y_val = y.iloc[val_idx]\n",
    "\n",
    "        print(f\"========== Fold {i+1} ==========\")\n",
    "        best_model.fit(X_train, y_train)\n",
    "        preds = best_model.predict_proba(X_val)[:, 1]\n",
    "        oof[val_idx] = preds\n",
    "        test_preds = best_model.predict_proba(test)[:, 1]\n",
    "        final_preds.append(test_preds)\n",
    "        loss = evaluation_metric(y_val, preds)\n",
    "\n",
    "        losses.append(loss)\n",
    "\n",
    "    avg_loss = np.mean(losses)\n",
    "    print(f\"Loss : {avg_loss:.4f}\")\n",
    "    return final_preds, oof"
   ],
   "metadata": {
    "id": "vbGPA_pvtJXf"
   },
   "id": "vbGPA_pvtJXf",
   "execution_count": 40,
   "outputs": []
  },
  {
   "cell_type": "code",
   "source": [
    "test.info() # 결측치 없음."
   ],
   "metadata": {
    "colab": {
     "base_uri": "https://localhost:8080/"
    },
    "id": "xWEElxsC7Gfl",
    "outputId": "f9f39b1c-fde5-47e7-e5b1-bbc0094e9cb0"
   },
   "id": "xWEElxsC7Gfl",
   "execution_count": 41,
   "outputs": [
    {
     "name": "stdout",
     "output_type": "stream",
     "text": [
      "<class 'pandas.core.frame.DataFrame'>\n",
      "RangeIndex: 67842 entries, 0 to 67841\n",
      "Data columns (total 22 columns):\n",
      " #   Column             Non-Null Count  Dtype  \n",
      "---  ------             --------------  -----  \n",
      " 0   id                 67842 non-null  int64  \n",
      " 1   loc                67842 non-null  float64\n",
      " 2   v(g)               67842 non-null  float64\n",
      " 3   ev(g)              67842 non-null  float64\n",
      " 4   iv(g)              67842 non-null  float64\n",
      " 5   n                  67842 non-null  float64\n",
      " 6   v                  67842 non-null  float64\n",
      " 7   l                  67842 non-null  float64\n",
      " 8   d                  67842 non-null  float64\n",
      " 9   i                  67842 non-null  float64\n",
      " 10  e                  67842 non-null  float64\n",
      " 11  b                  67842 non-null  float64\n",
      " 12  t                  67842 non-null  float64\n",
      " 13  lOCode             67842 non-null  int64  \n",
      " 14  lOComment          67842 non-null  int64  \n",
      " 15  lOBlank            67842 non-null  int64  \n",
      " 16  locCodeAndComment  67842 non-null  int64  \n",
      " 17  uniq_Op            67842 non-null  float64\n",
      " 18  uniq_Opnd          67842 non-null  float64\n",
      " 19  total_Op           67842 non-null  float64\n",
      " 20  total_Opnd         67842 non-null  float64\n",
      " 21  branchCount        67842 non-null  float64\n",
      "dtypes: float64(17), int64(5)\n",
      "memory usage: 11.4 MB\n"
     ]
    }
   ]
  },
  {
   "cell_type": "code",
   "execution_count": 42,
   "id": "b6787765",
   "metadata": {
    "id": "b6787765",
    "colab": {
     "base_uri": "https://localhost:8080/",
     "height": 496
    },
    "outputId": "2876cc07-2f84-46b9-a06f-8058a88c1c59"
   },
   "outputs": [],
   "source": [
    "## X_test 만들기 : 앞서했던 전처리를 동일하게 적용해주면 됨.\n"
   ]
  },
  {
   "cell_type": "code",
   "execution_count": 43,
   "id": "a0daf54e",
   "metadata": {
    "id": "a0daf54e",
    "colab": {
     "base_uri": "https://localhost:8080/"
    },
    "outputId": "90168fcf-9c4d-4a37-a83c-45ed45ba9997"
   },
   "outputs": [
    {
     "name": "stdout",
     "output_type": "stream",
     "text": [
      "========== Fold 1 ==========\n",
      "========== Fold 2 ==========\n",
      "========== Fold 3 ==========\n",
      "========== Fold 4 ==========\n",
      "========== Fold 5 ==========\n",
      "Loss : 0.7918\n"
     ]
    },
    {
     "data": {
      "text/plain": "array([0.24119651, 0.18711343, 0.66155625, ..., 0.17619331, 0.10272604,\n       0.80090445])"
     },
     "execution_count": 43,
     "metadata": {},
     "output_type": "execute_result"
    }
   ],
   "source": [
    "best_params = study.best_trial.params\n",
    "\n",
    "# define best model\n",
    "best_model = LGBMClassifier(**best_params, random_state=61)\n",
    "\n",
    "# model finalization : 가장 일반적으로 좋은 예측 성능을 냈던 모델로, 전체 데이터 트레이닝.\n",
    "\n",
    "preds, oof = oof_preds(best_model)\n",
    "preds = np.mean(preds, axis=0)\n",
    "preds"
   ]
  },
  {
   "cell_type": "code",
   "execution_count": 44,
   "id": "8ff2070c",
   "metadata": {
    "id": "8ff2070c"
   },
   "outputs": [],
   "source": [
    "submission['defects'] = preds"
   ]
  },
  {
   "cell_type": "code",
   "execution_count": 45,
   "id": "55a2c13f",
   "metadata": {
    "id": "55a2c13f"
   },
   "outputs": [],
   "source": [
    "submission.to_csv(base_path+'preds/lightgbm.csv', index=False)"
   ]
  },
  {
   "cell_type": "code",
   "source": [
    "oof_df = pd.DataFrame({\n",
    "    'lightgbm_oof': oof\n",
    "})\n",
    "oof_df.head()"
   ],
   "metadata": {
    "id": "QIgSFAdJ8oRh"
   },
   "id": "QIgSFAdJ8oRh",
   "execution_count": 46,
   "outputs": [
    {
     "data": {
      "text/plain": "   lightgbm_oof\n0      0.074083\n1      0.055853\n2      0.049316\n3      0.080914\n4      0.104143",
      "text/html": "<div>\n<style scoped>\n    .dataframe tbody tr th:only-of-type {\n        vertical-align: middle;\n    }\n\n    .dataframe tbody tr th {\n        vertical-align: top;\n    }\n\n    .dataframe thead th {\n        text-align: right;\n    }\n</style>\n<table border=\"1\" class=\"dataframe\">\n  <thead>\n    <tr style=\"text-align: right;\">\n      <th></th>\n      <th>lightgbm_oof</th>\n    </tr>\n  </thead>\n  <tbody>\n    <tr>\n      <th>0</th>\n      <td>0.074083</td>\n    </tr>\n    <tr>\n      <th>1</th>\n      <td>0.055853</td>\n    </tr>\n    <tr>\n      <th>2</th>\n      <td>0.049316</td>\n    </tr>\n    <tr>\n      <th>3</th>\n      <td>0.080914</td>\n    </tr>\n    <tr>\n      <th>4</th>\n      <td>0.104143</td>\n    </tr>\n  </tbody>\n</table>\n</div>"
     },
     "execution_count": 46,
     "metadata": {},
     "output_type": "execute_result"
    }
   ]
  },
  {
   "cell_type": "code",
   "execution_count": 47,
   "outputs": [],
   "source": [
    "oof_df.to_csv(base_path+'oof/lightgbm.csv', index=False)"
   ],
   "metadata": {
    "collapsed": false,
    "pycharm": {
     "name": "#%%\n"
    }
   }
  },
  {
   "cell_type": "code",
   "execution_count": 47,
   "outputs": [],
   "source": [],
   "metadata": {
    "collapsed": false,
    "pycharm": {
     "name": "#%%\n"
    }
   }
  }
 ],
 "metadata": {
  "kernelspec": {
   "display_name": "Python 3 (ipykernel)",
   "language": "python",
   "name": "python3"
  },
  "language_info": {
   "codemirror_mode": {
    "name": "ipython",
    "version": 3
   },
   "file_extension": ".py",
   "mimetype": "text/x-python",
   "name": "python",
   "nbconvert_exporter": "python",
   "pygments_lexer": "ipython3",
   "version": "3.10.1"
  },
  "colab": {
   "provenance": []
  }
 },
 "nbformat": 4,
 "nbformat_minor": 5
}