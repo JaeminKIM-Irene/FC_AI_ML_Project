{
 "cells": [
  {
   "cell_type": "markdown",
   "id": "8f3119aa",
   "metadata": {
    "id": "8f3119aa"
   },
   "source": [
    "## Machine Learning 프로젝트 수행을 위한 코드 구조화"
   ]
  },
  {
   "cell_type": "markdown",
   "id": "9f7610ea",
   "metadata": {
    "id": "9f7610ea"
   },
   "source": [
    "- ML project를 위해서 사용하는 템플릿 코드를 만듭니다.\n",
    "\n",
    "1. **필요한 라이브러리와 데이터를 불러옵니다.**\n",
    "\n",
    "\n",
    "2. **EDA를 수행합니다.** 이 때 EDA의 목적은 풀어야하는 문제를 위해서 수행됩니다.\n",
    "\n",
    "\n",
    "3. **전처리를 수행합니다.** 이 때 중요한건 **feature engineering**을 어떻게 하느냐 입니다.\n",
    "\n",
    "\n",
    "4. **데이터 분할을 합니다.** 이 때 train data와 test data 간의 분포 차이가 없는지 확인합니다.\n",
    "\n",
    "\n",
    "5. **학습을 진행합니다.** 어떤 모델을 사용하여 학습할지 정합니다. 성능이 잘 나오는 GBM을 추천합니다.\n",
    "\n",
    "\n",
    "6. **hyper-parameter tuning을 수행합니다.** 원하는 목표 성능이 나올 때 까지 진행합니다. 검증 단계를 통해 지속적으로 **overfitting이 되지 않게 주의**하세요.\n",
    "\n",
    "\n",
    "7. **최종 테스트를 진행합니다.** 데이터 분석 대회 포맷에 맞는 submission 파일을 만들어서 성능을 확인해보세요."
   ]
  },
  {
   "cell_type": "markdown",
   "id": "bd2f7530",
   "metadata": {
    "id": "bd2f7530"
   },
   "source": [
    "## 1. 라이브러리, 데이터 불러오기"
   ]
  },
  {
   "cell_type": "code",
   "execution_count": 103,
   "id": "125fc348",
   "metadata": {
    "id": "125fc348"
   },
   "outputs": [],
   "source": [
    "# 데이터분석 4종 세트\n",
    "import numpy as np\n",
    "import pandas as pd\n",
    "import matplotlib.pyplot as plt\n",
    "import seaborn as sns\n",
    "\n",
    "# 모델들, 성능 평가\n",
    "# (저는 일반적으로 정형데이터로 머신러닝 분석할 때는 이 2개 모델은 그냥 돌려봅니다. 특히 RF가 테스트하기 좋습니다.)\n",
    "from sklearn.ensemble import RandomForestClassifier, RandomForestRegressor\n",
    "from lightgbm import LGBMClassifier\n",
    "\n",
    "# KFold(CV), partial : optuna를 사용하기 위함\n",
    "from sklearn.model_selection import StratifiedKFold\n",
    "from sklearn.metrics import roc_auc_score\n",
    "from functools import partial\n",
    "\n",
    "# hyper-parameter tuning을 위한 라이브러리, optuna\n",
    "import optuna"
   ]
  },
  {
   "cell_type": "code",
   "execution_count": 104,
   "id": "3615c24a",
   "metadata": {
    "colab": {
     "base_uri": "https://localhost:8080/"
    },
    "id": "3615c24a",
    "outputId": "6dc93ad0-06c8-4ee0-a96d-8d9a5dd6ddaf"
   },
   "outputs": [
    {
     "name": "stdout",
     "output_type": "stream",
     "text": [
      "(101763, 23) (67842, 22) (67842, 1)\n"
     ]
    }
   ],
   "source": [
    "# 데이터를 불러옵니다.\n",
    "base_path = '../../data/'\n",
    "# train = pd.read_csv(base_path + 'train.csv', index_col='id')\n",
    "# test = pd.read_csv(base_path + 'test.csv', index_col='id')\n",
    "train = pd.read_csv(base_path + 'train_f5.csv', index_col='id')\n",
    "test = pd.read_csv(base_path + 'test_f5.csv', index_col='id')\n",
    "submission = pd.read_csv(base_path + 'sample_submission.csv', index_col='id')\n",
    "print(train.shape, test.shape, submission.shape)"
   ]
  },
  {
   "cell_type": "code",
   "execution_count": 105,
   "outputs": [],
   "source": [
    "train['lOBlank_n'] = train['lOBlank_n'].astype('category')\n",
    "test['lOBlank_n'] = test['lOBlank_n'].astype('category')\n",
    "train['l_n'] = train['l_n'].astype('category')\n",
    "test['l_n'] = test['l_n'].astype('category')\n",
    "train['n_n'] = train['n_n'].astype('category')\n",
    "test['n_n'] = test['n_n'].astype('category')\n",
    "train['branchCount_n'] = train['branchCount_n'].astype('category')\n",
    "test['branchCount_n'] = test['branchCount_n'].astype('category')\n",
    "train['outlier_count'] = train['outlier_count'].astype('category')\n",
    "test['outlier_count'] = test['outlier_count'].astype('category')\n",
    "train['total_Op_n'] = train['total_Op_n'].astype('category')\n",
    "test['total_Op_n'] = test['total_Op_n'].astype('category')\n",
    "train['total_Opnd_n'] = train['total_Opnd_n'].astype('category')\n",
    "test['total_Opnd_n'] = test['total_Opnd_n'].astype('category')"
   ],
   "metadata": {
    "collapsed": false,
    "pycharm": {
     "name": "#%%\n"
    }
   }
  },
  {
   "cell_type": "code",
   "execution_count": 106,
   "outputs": [
    {
     "name": "stdout",
     "output_type": "stream",
     "text": [
      "<class 'pandas.core.frame.DataFrame'>\n",
      "Index: 67842 entries, 101763 to 169604\n",
      "Data columns (total 22 columns):\n",
      " #   Column             Non-Null Count  Dtype   \n",
      "---  ------             --------------  -----   \n",
      " 0   loc                67842 non-null  float64 \n",
      " 1   v(g)               67842 non-null  float64 \n",
      " 2   ev(g)              67842 non-null  float64 \n",
      " 3   iv(g)              67842 non-null  float64 \n",
      " 4   v                  67842 non-null  float64 \n",
      " 5   d                  67842 non-null  float64 \n",
      " 6   i                  67842 non-null  float64 \n",
      " 7   e                  67842 non-null  float64 \n",
      " 8   b                  67842 non-null  float64 \n",
      " 9   t                  67842 non-null  float64 \n",
      " 10  lOCode             67842 non-null  int64   \n",
      " 11  lOComment          67842 non-null  int64   \n",
      " 12  locCodeAndComment  67842 non-null  int64   \n",
      " 13  uniq_Op            67842 non-null  float64 \n",
      " 14  uniq_Opnd          67842 non-null  float64 \n",
      " 15  lOBlank_n          67842 non-null  category\n",
      " 16  n_n                67842 non-null  category\n",
      " 17  branchCount_n      67842 non-null  category\n",
      " 18  l_n                67842 non-null  category\n",
      " 19  total_Op_n         67842 non-null  category\n",
      " 20  total_Opnd_n       67842 non-null  category\n",
      " 21  outlier_count      67842 non-null  category\n",
      "dtypes: category(7), float64(12), int64(3)\n",
      "memory usage: 8.7 MB\n"
     ]
    }
   ],
   "source": [
    "test.info()"
   ],
   "metadata": {
    "collapsed": false,
    "pycharm": {
     "name": "#%%\n"
    }
   }
  },
  {
   "cell_type": "markdown",
   "id": "c9c9acb8",
   "metadata": {
    "id": "c9c9acb8"
   },
   "source": [
    "## 2. EDA"
   ]
  },
  {
   "cell_type": "markdown",
   "id": "6fdf620b",
   "metadata": {
    "id": "6fdf620b"
   },
   "source": [
    "- 데이터에서 찾아야 하는 기초적인 내용들을 확인합니다.\n",
    "\n",
    "\n",
    "- class imbalance, target distribution, outlier, correlation을 확인합니다."
   ]
  },
  {
   "cell_type": "code",
   "source": [
    "train.columns"
   ],
   "metadata": {
    "colab": {
     "base_uri": "https://localhost:8080/"
    },
    "id": "R1TxMunIv4zb",
    "outputId": "56e20880-07fb-4f2a-c614-ef0c3202a0d0"
   },
   "id": "R1TxMunIv4zb",
   "execution_count": 107,
   "outputs": [
    {
     "data": {
      "text/plain": "Index(['loc', 'v(g)', 'ev(g)', 'iv(g)', 'v', 'd', 'i', 'e', 'b', 't', 'lOCode',\n       'lOComment', 'locCodeAndComment', 'uniq_Op', 'uniq_Opnd', 'lOBlank_n',\n       'n_n', 'branchCount_n', 'l_n', 'total_Op_n', 'total_Opnd_n',\n       'outlier_count', 'defects'],\n      dtype='object')"
     },
     "execution_count": 107,
     "metadata": {},
     "output_type": "execute_result"
    }
   ]
  },
  {
   "cell_type": "code",
   "execution_count": 108,
   "outputs": [
    {
     "name": "stdout",
     "output_type": "stream",
     "text": [
      "<class 'pandas.core.frame.DataFrame'>\n",
      "Index: 101763 entries, 0 to 101762\n",
      "Data columns (total 23 columns):\n",
      " #   Column             Non-Null Count   Dtype   \n",
      "---  ------             --------------   -----   \n",
      " 0   loc                101763 non-null  float64 \n",
      " 1   v(g)               101763 non-null  float64 \n",
      " 2   ev(g)              101763 non-null  float64 \n",
      " 3   iv(g)              101763 non-null  float64 \n",
      " 4   v                  101763 non-null  float64 \n",
      " 5   d                  101763 non-null  float64 \n",
      " 6   i                  101763 non-null  float64 \n",
      " 7   e                  101763 non-null  float64 \n",
      " 8   b                  101763 non-null  float64 \n",
      " 9   t                  101763 non-null  float64 \n",
      " 10  lOCode             101763 non-null  int64   \n",
      " 11  lOComment          101763 non-null  int64   \n",
      " 12  locCodeAndComment  101763 non-null  int64   \n",
      " 13  uniq_Op            101763 non-null  float64 \n",
      " 14  uniq_Opnd          101763 non-null  float64 \n",
      " 15  lOBlank_n          101763 non-null  category\n",
      " 16  n_n                101763 non-null  category\n",
      " 17  branchCount_n      101763 non-null  category\n",
      " 18  l_n                101763 non-null  category\n",
      " 19  total_Op_n         101763 non-null  category\n",
      " 20  total_Opnd_n       101763 non-null  category\n",
      " 21  outlier_count      101763 non-null  category\n",
      " 22  defects            101763 non-null  bool    \n",
      "dtypes: bool(1), category(7), float64(12), int64(3)\n",
      "memory usage: 13.2 MB\n"
     ]
    }
   ],
   "source": [
    "train.info()"
   ],
   "metadata": {
    "collapsed": false,
    "pycharm": {
     "name": "#%%\n"
    }
   }
  },
  {
   "cell_type": "markdown",
   "id": "9dbb8802",
   "metadata": {
    "id": "9dbb8802"
   },
   "source": [
    "### 3. 전처리"
   ]
  },
  {
   "cell_type": "markdown",
   "id": "b79a6f0a",
   "metadata": {
    "id": "b79a6f0a"
   },
   "source": [
    "#### 결측치 처리"
   ]
  },
  {
   "cell_type": "markdown",
   "id": "f497a2d8",
   "metadata": {
    "id": "f497a2d8"
   },
   "source": [
    "### 4. 학습 데이터 분할"
   ]
  },
  {
   "cell_type": "code",
   "execution_count": 109,
   "id": "47306aaf",
   "metadata": {
    "id": "47306aaf"
   },
   "outputs": [],
   "source": [
    "# 첫번째 테스트용으로 사용하고, 실제 학습시에는 K-Fold CV를 사용합니다.\n",
    "from sklearn.model_selection import train_test_split\n",
    "\n",
    "X = train.drop(columns=['defects'])\n",
    "y = train.defects\n",
    "\n",
    "# for OOF-prediction split 5% of data as validation dataset.\n",
    "X_train, X_val, y_train, y_val = train_test_split(X, y, test_size=0.2, random_state=61, stratify=y)"
   ]
  },
  {
   "cell_type": "code",
   "execution_count": 110,
   "id": "67efd2ee",
   "metadata": {
    "colab": {
     "base_uri": "https://localhost:8080/"
    },
    "id": "67efd2ee",
    "outputId": "a8a904f0-8109-4e87-b0d8-81d97dde4a49"
   },
   "outputs": [
    {
     "name": "stdout",
     "output_type": "stream",
     "text": [
      "(81410, 22) (81410,) (20353, 22) (20353,)\n",
      "0.2266429185603734 0.22664963396059548\n"
     ]
    }
   ],
   "source": [
    "print(X_train.shape, y_train.shape, X_val.shape, y_val.shape)\n",
    "print(y_train.mean(), y_val.mean())"
   ]
  },
  {
   "cell_type": "markdown",
   "id": "58056e51",
   "metadata": {
    "id": "58056e51"
   },
   "source": [
    "### 5. 학습 및 평가"
   ]
  },
  {
   "cell_type": "code",
   "execution_count": 111,
   "id": "39fd2515",
   "metadata": {
    "id": "39fd2515"
   },
   "outputs": [],
   "source": [
    "# 간단하게 LightGBM 테스트\n",
    "# 적당한 hyper-parameter 조합을 두었습니다. (항상 best는 아닙니다. 예시입니다.)\n",
    "model = LGBMClassifier(\n",
    "    n_jobs=-1,\n",
    "    random_state=61\n",
    ")"
   ]
  },
  {
   "cell_type": "code",
   "execution_count": 112,
   "id": "ddffa474",
   "metadata": {
    "scrolled": true,
    "colab": {
     "base_uri": "https://localhost:8080/",
     "height": 214
    },
    "id": "ddffa474",
    "outputId": "4e723622-af5a-4fea-9cd4-dfcd3c65630a"
   },
   "outputs": [
    {
     "name": "stdout",
     "output_type": "stream",
     "text": [
      "\n",
      "Fitting LightGBM...\n"
     ]
    },
    {
     "data": {
      "text/plain": "LGBMClassifier(random_state=61)",
      "text/html": "<style>#sk-container-id-5 {color: black;}#sk-container-id-5 pre{padding: 0;}#sk-container-id-5 div.sk-toggleable {background-color: white;}#sk-container-id-5 label.sk-toggleable__label {cursor: pointer;display: block;width: 100%;margin-bottom: 0;padding: 0.3em;box-sizing: border-box;text-align: center;}#sk-container-id-5 label.sk-toggleable__label-arrow:before {content: \"▸\";float: left;margin-right: 0.25em;color: #696969;}#sk-container-id-5 label.sk-toggleable__label-arrow:hover:before {color: black;}#sk-container-id-5 div.sk-estimator:hover label.sk-toggleable__label-arrow:before {color: black;}#sk-container-id-5 div.sk-toggleable__content {max-height: 0;max-width: 0;overflow: hidden;text-align: left;background-color: #f0f8ff;}#sk-container-id-5 div.sk-toggleable__content pre {margin: 0.2em;color: black;border-radius: 0.25em;background-color: #f0f8ff;}#sk-container-id-5 input.sk-toggleable__control:checked~div.sk-toggleable__content {max-height: 200px;max-width: 100%;overflow: auto;}#sk-container-id-5 input.sk-toggleable__control:checked~label.sk-toggleable__label-arrow:before {content: \"▾\";}#sk-container-id-5 div.sk-estimator input.sk-toggleable__control:checked~label.sk-toggleable__label {background-color: #d4ebff;}#sk-container-id-5 div.sk-label input.sk-toggleable__control:checked~label.sk-toggleable__label {background-color: #d4ebff;}#sk-container-id-5 input.sk-hidden--visually {border: 0;clip: rect(1px 1px 1px 1px);clip: rect(1px, 1px, 1px, 1px);height: 1px;margin: -1px;overflow: hidden;padding: 0;position: absolute;width: 1px;}#sk-container-id-5 div.sk-estimator {font-family: monospace;background-color: #f0f8ff;border: 1px dotted black;border-radius: 0.25em;box-sizing: border-box;margin-bottom: 0.5em;}#sk-container-id-5 div.sk-estimator:hover {background-color: #d4ebff;}#sk-container-id-5 div.sk-parallel-item::after {content: \"\";width: 100%;border-bottom: 1px solid gray;flex-grow: 1;}#sk-container-id-5 div.sk-label:hover label.sk-toggleable__label {background-color: #d4ebff;}#sk-container-id-5 div.sk-serial::before {content: \"\";position: absolute;border-left: 1px solid gray;box-sizing: border-box;top: 0;bottom: 0;left: 50%;z-index: 0;}#sk-container-id-5 div.sk-serial {display: flex;flex-direction: column;align-items: center;background-color: white;padding-right: 0.2em;padding-left: 0.2em;position: relative;}#sk-container-id-5 div.sk-item {position: relative;z-index: 1;}#sk-container-id-5 div.sk-parallel {display: flex;align-items: stretch;justify-content: center;background-color: white;position: relative;}#sk-container-id-5 div.sk-item::before, #sk-container-id-5 div.sk-parallel-item::before {content: \"\";position: absolute;border-left: 1px solid gray;box-sizing: border-box;top: 0;bottom: 0;left: 50%;z-index: -1;}#sk-container-id-5 div.sk-parallel-item {display: flex;flex-direction: column;z-index: 1;position: relative;background-color: white;}#sk-container-id-5 div.sk-parallel-item:first-child::after {align-self: flex-end;width: 50%;}#sk-container-id-5 div.sk-parallel-item:last-child::after {align-self: flex-start;width: 50%;}#sk-container-id-5 div.sk-parallel-item:only-child::after {width: 0;}#sk-container-id-5 div.sk-dashed-wrapped {border: 1px dashed gray;margin: 0 0.4em 0.5em 0.4em;box-sizing: border-box;padding-bottom: 0.4em;background-color: white;}#sk-container-id-5 div.sk-label label {font-family: monospace;font-weight: bold;display: inline-block;line-height: 1.2em;}#sk-container-id-5 div.sk-label-container {text-align: center;}#sk-container-id-5 div.sk-container {/* jupyter's `normalize.less` sets `[hidden] { display: none; }` but bootstrap.min.css set `[hidden] { display: none !important; }` so we also need the `!important` here to be able to override the default hidden behavior on the sphinx rendered scikit-learn.org. See: https://github.com/scikit-learn/scikit-learn/issues/21755 */display: inline-block !important;position: relative;}#sk-container-id-5 div.sk-text-repr-fallback {display: none;}</style><div id=\"sk-container-id-5\" class=\"sk-top-container\"><div class=\"sk-text-repr-fallback\"><pre>LGBMClassifier(random_state=61)</pre><b>In a Jupyter environment, please rerun this cell to show the HTML representation or trust the notebook. <br />On GitHub, the HTML representation is unable to render, please try loading this page with nbviewer.org.</b></div><div class=\"sk-container\" hidden><div class=\"sk-item\"><div class=\"sk-estimator sk-toggleable\"><input class=\"sk-toggleable__control sk-hidden--visually\" id=\"sk-estimator-id-5\" type=\"checkbox\" checked><label for=\"sk-estimator-id-5\" class=\"sk-toggleable__label sk-toggleable__label-arrow\">LGBMClassifier</label><div class=\"sk-toggleable__content\"><pre>LGBMClassifier(random_state=61)</pre></div></div></div></div></div>"
     },
     "execution_count": 112,
     "metadata": {},
     "output_type": "execute_result"
    }
   ],
   "source": [
    "print(\"\\nFitting LightGBM...\")\n",
    "model.fit(X_train, y_train)"
   ]
  },
  {
   "cell_type": "code",
   "execution_count": 113,
   "id": "6c8b0259",
   "metadata": {
    "id": "6c8b0259"
   },
   "outputs": [],
   "source": [
    "# metric은 그때마다 맞게 바꿔줘야 합니다.\n",
    "evaluation_metric = roc_auc_score"
   ]
  },
  {
   "cell_type": "code",
   "execution_count": 114,
   "id": "a6b39be5",
   "metadata": {
    "colab": {
     "base_uri": "https://localhost:8080/"
    },
    "id": "a6b39be5",
    "outputId": "2e2c256f-fe78-4deb-8fab-727306e3ffec"
   },
   "outputs": [
    {
     "name": "stdout",
     "output_type": "stream",
     "text": [
      "Prediction\n",
      "Train Score : 0.6766\n",
      "Validation Score : 0.6677\n"
     ]
    }
   ],
   "source": [
    "print(\"Prediction\")\n",
    "pred_train = model.predict(X_train)\n",
    "pred_val = model.predict(X_val)\n",
    "\n",
    "\n",
    "train_score = evaluation_metric(y_train, pred_train)\n",
    "val_score = evaluation_metric(y_val, pred_val)\n",
    "\n",
    "print(\"Train Score : %.4f\" % train_score)\n",
    "print(\"Validation Score : %.4f\" % val_score)"
   ]
  },
  {
   "cell_type": "markdown",
   "id": "bc755b17",
   "metadata": {
    "id": "bc755b17"
   },
   "source": [
    "### 6. Hyper-parameter Tuning"
   ]
  },
  {
   "cell_type": "code",
   "execution_count": 115,
   "id": "34ce4986",
   "metadata": {
    "id": "34ce4986"
   },
   "outputs": [],
   "source": [
    "def optimizer(trial, X, y, K):\n",
    "    # 조절할 hyper-parameter 조합을 적어줍니다.\n",
    "    max_depth = trial.suggest_int('max_depth', 15, 25)\n",
    "    num_leaves = trial.suggest_categorical('num_leaves', [32,64,128,256,512,])\n",
    "    min_child_samples = trial.suggest_int('min_child_samples', 20, 80)\n",
    "    colsample_bytree = trial.suggest_float('colsample_bytree', 0.5, 0.7)\n",
    "    n_estimators = trial.suggest_int('n_estimators', 50, 1023)\n",
    "    learning_rate = trial.suggest_float('learning_rate', 0.005, 0.2)\n",
    "\n",
    "    # 원하는 모델을 지정합니다, optuna는 시간이 오래걸리기 때문에 저는 보통 RF로 일단 테스트를 해본 뒤에 LGBM을 사용합니다.\n",
    "    model = LGBMClassifier(\n",
    "        max_depth=max_depth,\n",
    "        num_leaves=num_leaves,\n",
    "        min_child_samples=min_child_samples,\n",
    "        colsample_bytree=colsample_bytree,\n",
    "        n_estimators=n_estimators,\n",
    "        learning_rate=learning_rate,\n",
    "        random_state=61,\n",
    "    )\n",
    "\n",
    "    # K-Fold Cross validation을 구현합니다.\n",
    "    folds = StratifiedKFold(n_splits=K, random_state=61, shuffle=True)\n",
    "    losses = []\n",
    "\n",
    "    for train_idx, val_idx in folds.split(X, y):\n",
    "        X_train = X.iloc[train_idx, :]\n",
    "        y_train = y.iloc[train_idx]\n",
    "\n",
    "        X_val = X.iloc[val_idx, :]\n",
    "        y_val = y.iloc[val_idx]\n",
    "\n",
    "        model.fit(X_train, y_train)\n",
    "        preds = model.predict(X_val)\n",
    "        loss = evaluation_metric(y_val, preds)\n",
    "        losses.append(loss)\n",
    "\n",
    "\n",
    "    # K-Fold의 평균 loss값을 돌려줍니다.\n",
    "    return np.mean(losses)"
   ]
  },
  {
   "cell_type": "code",
   "execution_count": 116,
   "id": "7150b210",
   "metadata": {
    "scrolled": false,
    "colab": {
     "base_uri": "https://localhost:8080/"
    },
    "id": "7150b210",
    "outputId": "fa1c663f-0f17-4f21-8016-ac43d456666d"
   },
   "outputs": [
    {
     "name": "stderr",
     "output_type": "stream",
     "text": [
      "[I 2023-10-19 02:28:23,454] A new study created in memory with name: no-name-a75215cc-ad2a-434c-830c-fa0f9ec66744\n",
      "[I 2023-10-19 02:29:28,630] Trial 0 finished with value: 0.6526392318019023 and parameters: {'max_depth': 20, 'num_leaves': 64, 'min_child_samples': 26, 'colsample_bytree': 0.5100788961201105, 'n_estimators': 925, 'learning_rate': 0.18401347928183212}. Best is trial 0 with value: 0.6526392318019023.\n",
      "[I 2023-10-19 02:29:58,756] Trial 1 finished with value: 0.6552852886351263 and parameters: {'max_depth': 15, 'num_leaves': 32, 'min_child_samples': 30, 'colsample_bytree': 0.6417886331778208, 'n_estimators': 704, 'learning_rate': 0.16557138205766944}. Best is trial 1 with value: 0.6552852886351263.\n",
      "[I 2023-10-19 02:32:31,248] Trial 2 finished with value: 0.6548954179173035 and parameters: {'max_depth': 21, 'num_leaves': 256, 'min_child_samples': 26, 'colsample_bytree': 0.6948174622687029, 'n_estimators': 1002, 'learning_rate': 0.05936937086736877}. Best is trial 1 with value: 0.6552852886351263.\n",
      "[I 2023-10-19 02:33:15,133] Trial 3 finished with value: 0.6574245106512431 and parameters: {'max_depth': 24, 'num_leaves': 32, 'min_child_samples': 67, 'colsample_bytree': 0.626727530795461, 'n_estimators': 930, 'learning_rate': 0.07571389859848471}. Best is trial 3 with value: 0.6574245106512431.\n",
      "[I 2023-10-19 02:34:05,927] Trial 4 finished with value: 0.6542872568574154 and parameters: {'max_depth': 19, 'num_leaves': 512, 'min_child_samples': 57, 'colsample_bytree': 0.5006874877990357, 'n_estimators': 342, 'learning_rate': 0.13941043034322956}. Best is trial 3 with value: 0.6574245106512431.\n",
      "[I 2023-10-19 02:35:31,523] Trial 5 finished with value: 0.6531632015521047 and parameters: {'max_depth': 16, 'num_leaves': 512, 'min_child_samples': 42, 'colsample_bytree': 0.6686909801168632, 'n_estimators': 702, 'learning_rate': 0.1288632433510329}. Best is trial 3 with value: 0.6574245106512431.\n",
      "[I 2023-10-19 02:36:02,091] Trial 6 finished with value: 0.6589778059524065 and parameters: {'max_depth': 23, 'num_leaves': 256, 'min_child_samples': 80, 'colsample_bytree': 0.6659661464576816, 'n_estimators': 128, 'learning_rate': 0.022474875874219535}. Best is trial 6 with value: 0.6589778059524065.\n",
      "[I 2023-10-19 02:37:05,054] Trial 7 finished with value: 0.6533632368573125 and parameters: {'max_depth': 19, 'num_leaves': 256, 'min_child_samples': 75, 'colsample_bytree': 0.5864358436329808, 'n_estimators': 625, 'learning_rate': 0.14306435656247504}. Best is trial 6 with value: 0.6589778059524065.\n",
      "[I 2023-10-19 02:38:05,839] Trial 8 finished with value: 0.6631874670227678 and parameters: {'max_depth': 22, 'num_leaves': 64, 'min_child_samples': 67, 'colsample_bytree': 0.6964524517108561, 'n_estimators': 905, 'learning_rate': 0.014823314693426317}. Best is trial 8 with value: 0.6631874670227678.\n",
      "[I 2023-10-19 02:38:46,375] Trial 9 finished with value: 0.6563007133433592 and parameters: {'max_depth': 22, 'num_leaves': 256, 'min_child_samples': 78, 'colsample_bytree': 0.5937937729612051, 'n_estimators': 315, 'learning_rate': 0.126855076627649}. Best is trial 8 with value: 0.6631874670227678.\n",
      "[I 2023-10-19 02:39:29,048] Trial 10 finished with value: 0.6574407879235254 and parameters: {'max_depth': 25, 'num_leaves': 64, 'min_child_samples': 54, 'colsample_bytree': 0.6998620917006966, 'n_estimators': 475, 'learning_rate': 0.005466475817663897}. Best is trial 8 with value: 0.6631874670227678.\n",
      "[I 2023-10-19 02:39:44,317] Trial 11 finished with value: 0.5022063400677894 and parameters: {'max_depth': 23, 'num_leaves': 128, 'min_child_samples': 65, 'colsample_bytree': 0.6666977933961719, 'n_estimators': 101, 'learning_rate': 0.00612270903942288}. Best is trial 8 with value: 0.6631874670227678.\n",
      "[I 2023-10-19 02:39:49,728] Trial 12 finished with value: 0.6466691179999167 and parameters: {'max_depth': 23, 'num_leaves': 64, 'min_child_samples': 68, 'colsample_bytree': 0.6995785509488317, 'n_estimators': 52, 'learning_rate': 0.03673595131264415}. Best is trial 8 with value: 0.6631874670227678.\n",
      "[I 2023-10-19 02:40:17,908] Trial 13 finished with value: 0.6637788335715434 and parameters: {'max_depth': 25, 'num_leaves': 128, 'min_child_samples': 79, 'colsample_bytree': 0.6622444514218929, 'n_estimators': 223, 'learning_rate': 0.04006101813247738}. Best is trial 13 with value: 0.6637788335715434.\n",
      "[I 2023-10-19 02:40:51,590] Trial 14 finished with value: 0.6609370667810505 and parameters: {'max_depth': 25, 'num_leaves': 128, 'min_child_samples': 44, 'colsample_bytree': 0.6261583360189402, 'n_estimators': 290, 'learning_rate': 0.049425269759031804}. Best is trial 13 with value: 0.6637788335715434.\n",
      "[I 2023-10-19 02:42:04,346] Trial 15 finished with value: 0.6538712617726229 and parameters: {'max_depth': 17, 'num_leaves': 128, 'min_child_samples': 60, 'colsample_bytree': 0.6730591391550936, 'n_estimators': 815, 'learning_rate': 0.09197499431894766}. Best is trial 13 with value: 0.6637788335715434.\n",
      "[I 2023-10-19 02:42:48,466] Trial 16 finished with value: 0.6584481358754621 and parameters: {'max_depth': 25, 'num_leaves': 128, 'min_child_samples': 71, 'colsample_bytree': 0.6481668176651818, 'n_estimators': 471, 'learning_rate': 0.041294287052621774}. Best is trial 13 with value: 0.6637788335715434.\n",
      "[I 2023-10-19 02:43:01,788] Trial 17 finished with value: 0.6625105867197373 and parameters: {'max_depth': 21, 'num_leaves': 64, 'min_child_samples': 47, 'colsample_bytree': 0.6803852074403463, 'n_estimators': 201, 'learning_rate': 0.0666654591619943}. Best is trial 13 with value: 0.6637788335715434.\n",
      "[I 2023-10-19 02:43:51,198] Trial 18 finished with value: 0.6615579387081945 and parameters: {'max_depth': 22, 'num_leaves': 128, 'min_child_samples': 62, 'colsample_bytree': 0.6454425763164621, 'n_estimators': 517, 'learning_rate': 0.030920556750068426}. Best is trial 13 with value: 0.6637788335715434.\n",
      "[I 2023-10-19 02:44:18,657] Trial 19 finished with value: 0.6590020918006692 and parameters: {'max_depth': 18, 'num_leaves': 64, 'min_child_samples': 72, 'colsample_bytree': 0.6806282678416866, 'n_estimators': 388, 'learning_rate': 0.0852590193779082}. Best is trial 13 with value: 0.6637788335715434.\n",
      "[I 2023-10-19 02:46:17,373] Trial 20 finished with value: 0.6539660631989748 and parameters: {'max_depth': 24, 'num_leaves': 512, 'min_child_samples': 50, 'colsample_bytree': 0.6169011884318619, 'n_estimators': 782, 'learning_rate': 0.05729772385714357}. Best is trial 13 with value: 0.6637788335715434.\n",
      "[I 2023-10-19 02:46:32,716] Trial 21 finished with value: 0.6621069996617058 and parameters: {'max_depth': 21, 'num_leaves': 64, 'min_child_samples': 40, 'colsample_bytree': 0.6848963026824132, 'n_estimators': 216, 'learning_rate': 0.0708326348446103}. Best is trial 13 with value: 0.6637788335715434.\n",
      "[I 2023-10-19 02:46:49,049] Trial 22 finished with value: 0.6654752592837441 and parameters: {'max_depth': 21, 'num_leaves': 64, 'min_child_samples': 49, 'colsample_bytree': 0.6851699518820538, 'n_estimators': 199, 'learning_rate': 0.02402570420437527}. Best is trial 22 with value: 0.6654752592837441.\n",
      "[I 2023-10-19 02:47:09,471] Trial 23 finished with value: 0.6648667736584071 and parameters: {'max_depth': 20, 'num_leaves': 64, 'min_child_samples': 53, 'colsample_bytree': 0.6572077865835371, 'n_estimators': 224, 'learning_rate': 0.020742496320051144}. Best is trial 22 with value: 0.6654752592837441.\n",
      "[I 2023-10-19 02:47:26,944] Trial 24 finished with value: 0.6653598020076756 and parameters: {'max_depth': 19, 'num_leaves': 64, 'min_child_samples': 35, 'colsample_bytree': 0.6554600830313179, 'n_estimators': 212, 'learning_rate': 0.028091012065473125}. Best is trial 22 with value: 0.6654752592837441.\n",
      "[I 2023-10-19 02:47:55,454] Trial 25 finished with value: 0.6645543743872946 and parameters: {'max_depth': 20, 'num_leaves': 64, 'min_child_samples': 38, 'colsample_bytree': 0.6528095225320678, 'n_estimators': 419, 'learning_rate': 0.0253823943439354}. Best is trial 22 with value: 0.6654752592837441.\n",
      "[I 2023-10-19 02:48:09,556] Trial 26 finished with value: 0.6616547933637164 and parameters: {'max_depth': 19, 'num_leaves': 64, 'min_child_samples': 34, 'colsample_bytree': 0.6574741846315352, 'n_estimators': 159, 'learning_rate': 0.0203048101102254}. Best is trial 22 with value: 0.6654752592837441.\n",
      "[I 2023-10-19 02:48:30,576] Trial 27 finished with value: 0.6638434830639687 and parameters: {'max_depth': 18, 'num_leaves': 64, 'min_child_samples': 21, 'colsample_bytree': 0.6805191842449715, 'n_estimators': 279, 'learning_rate': 0.05098003976882124}. Best is trial 22 with value: 0.6654752592837441.\n",
      "[I 2023-10-19 02:48:36,221] Trial 28 finished with value: 0.6399058073008282 and parameters: {'max_depth': 18, 'num_leaves': 64, 'min_child_samples': 48, 'colsample_bytree': 0.639619482544859, 'n_estimators': 53, 'learning_rate': 0.032078583849548134}. Best is trial 22 with value: 0.6654752592837441.\n",
      "[I 2023-10-19 02:48:50,972] Trial 29 finished with value: 0.6636545843203837 and parameters: {'max_depth': 20, 'num_leaves': 32, 'min_child_samples': 54, 'colsample_bytree': 0.5692858478333381, 'n_estimators': 242, 'learning_rate': 0.017898839014475747}. Best is trial 22 with value: 0.6654752592837441.\n",
      "[I 2023-10-19 02:49:14,483] Trial 30 finished with value: 0.663292909492341 and parameters: {'max_depth': 19, 'num_leaves': 64, 'min_child_samples': 34, 'colsample_bytree': 0.6554706113881263, 'n_estimators': 371, 'learning_rate': 0.046157303057268895}. Best is trial 22 with value: 0.6654752592837441.\n",
      "[I 2023-10-19 02:49:41,742] Trial 31 finished with value: 0.6643304741179973 and parameters: {'max_depth': 20, 'num_leaves': 64, 'min_child_samples': 37, 'colsample_bytree': 0.6559099152682191, 'n_estimators': 409, 'learning_rate': 0.027930633977710066}. Best is trial 22 with value: 0.6654752592837441.\n",
      "[I 2023-10-19 02:49:56,936] Trial 32 finished with value: 0.6111252245425077 and parameters: {'max_depth': 21, 'num_leaves': 64, 'min_child_samples': 30, 'colsample_bytree': 0.6451170712718913, 'n_estimators': 172, 'learning_rate': 0.007094614985384988}. Best is trial 22 with value: 0.6654752592837441.\n",
      "[I 2023-10-19 02:50:37,111] Trial 33 finished with value: 0.6635190151136813 and parameters: {'max_depth': 20, 'num_leaves': 64, 'min_child_samples': 45, 'colsample_bytree': 0.6851806563976365, 'n_estimators': 580, 'learning_rate': 0.023878145732055038}. Best is trial 22 with value: 0.6654752592837441.\n",
      "[I 2023-10-19 02:51:06,073] Trial 34 finished with value: 0.6601548111044447 and parameters: {'max_depth': 20, 'num_leaves': 64, 'min_child_samples': 39, 'colsample_bytree': 0.6334734074398477, 'n_estimators': 436, 'learning_rate': 0.059222854596356865}. Best is trial 22 with value: 0.6654752592837441.\n",
      "[I 2023-10-19 02:51:20,089] Trial 35 finished with value: 0.6648088843522976 and parameters: {'max_depth': 17, 'num_leaves': 32, 'min_child_samples': 28, 'colsample_bytree': 0.6187276797252348, 'n_estimators': 276, 'learning_rate': 0.03630060185777405}. Best is trial 22 with value: 0.6654752592837441.\n",
      "[I 2023-10-19 02:51:33,681] Trial 36 finished with value: 0.6644433391081186 and parameters: {'max_depth': 15, 'num_leaves': 32, 'min_child_samples': 22, 'colsample_bytree': 0.618598335080495, 'n_estimators': 263, 'learning_rate': 0.0361006858832313}. Best is trial 22 with value: 0.6654752592837441.\n",
      "[I 2023-10-19 02:51:40,712] Trial 37 finished with value: 0.6655279800566662 and parameters: {'max_depth': 17, 'num_leaves': 32, 'min_child_samples': 31, 'colsample_bytree': 0.6338246570775382, 'n_estimators': 115, 'learning_rate': 0.04902005456004471}. Best is trial 37 with value: 0.6655279800566662.\n",
      "[I 2023-10-19 02:51:47,251] Trial 38 finished with value: 0.6653736063739466 and parameters: {'max_depth': 16, 'num_leaves': 32, 'min_child_samples': 54, 'colsample_bytree': 0.6695910691545088, 'n_estimators': 104, 'learning_rate': 0.049772978541004084}. Best is trial 37 with value: 0.6655279800566662.\n",
      "[I 2023-10-19 02:51:53,799] Trial 39 finished with value: 0.6647879662522538 and parameters: {'max_depth': 16, 'num_leaves': 32, 'min_child_samples': 25, 'colsample_bytree': 0.674988480595197, 'n_estimators': 112, 'learning_rate': 0.06320694765901419}. Best is trial 37 with value: 0.6655279800566662.\n",
      "[I 2023-10-19 02:52:01,200] Trial 40 finished with value: 0.6641204501276914 and parameters: {'max_depth': 15, 'num_leaves': 32, 'min_child_samples': 33, 'colsample_bytree': 0.6681145509290936, 'n_estimators': 143, 'learning_rate': 0.07728060784987179}. Best is trial 37 with value: 0.6655279800566662.\n",
      "[I 2023-10-19 02:52:07,543] Trial 41 finished with value: 0.6651639910608572 and parameters: {'max_depth': 16, 'num_leaves': 32, 'min_child_samples': 55, 'colsample_bytree': 0.6621268974581693, 'n_estimators': 100, 'learning_rate': 0.05002702115930242}. Best is trial 37 with value: 0.6655279800566662.\n",
      "[I 2023-10-19 02:52:13,192] Trial 42 finished with value: 0.6651161052859244 and parameters: {'max_depth': 16, 'num_leaves': 32, 'min_child_samples': 58, 'colsample_bytree': 0.666318527452944, 'n_estimators': 113, 'learning_rate': 0.04935473482812745}. Best is trial 37 with value: 0.6655279800566662.\n",
      "[I 2023-10-19 02:52:17,991] Trial 43 finished with value: 0.6648095906040413 and parameters: {'max_depth': 17, 'num_leaves': 32, 'min_child_samples': 52, 'colsample_bytree': 0.6898496815995598, 'n_estimators': 79, 'learning_rate': 0.055318106589231086}. Best is trial 37 with value: 0.6655279800566662.\n",
      "[I 2023-10-19 02:52:22,874] Trial 44 finished with value: 0.6648548484282354 and parameters: {'max_depth': 16, 'num_leaves': 32, 'min_child_samples': 57, 'colsample_bytree': 0.6900849044644748, 'n_estimators': 168, 'learning_rate': 0.044425220530407684}. Best is trial 37 with value: 0.6655279800566662.\n",
      "[I 2023-10-19 02:52:30,119] Trial 45 finished with value: 0.661832606683283 and parameters: {'max_depth': 15, 'num_leaves': 32, 'min_child_samples': 42, 'colsample_bytree': 0.6412529043277388, 'n_estimators': 353, 'learning_rate': 0.06775451432565459}. Best is trial 37 with value: 0.6655279800566662.\n",
      "[I 2023-10-19 02:52:39,731] Trial 46 finished with value: 0.6602877355599593 and parameters: {'max_depth': 17, 'num_leaves': 512, 'min_child_samples': 62, 'colsample_bytree': 0.6752865434696365, 'n_estimators': 87, 'learning_rate': 0.042160140823818686}. Best is trial 37 with value: 0.6655279800566662.\n",
      "[I 2023-10-19 02:52:44,722] Trial 47 finished with value: 0.6570486418630318 and parameters: {'max_depth': 16, 'num_leaves': 32, 'min_child_samples': 31, 'colsample_bytree': 0.6664510468391499, 'n_estimators': 189, 'learning_rate': 0.014083634257498166}. Best is trial 37 with value: 0.6655279800566662.\n",
      "[I 2023-10-19 02:52:58,324] Trial 48 finished with value: 0.6586755139932078 and parameters: {'max_depth': 18, 'num_leaves': 256, 'min_child_samples': 50, 'colsample_bytree': 0.6941927430457301, 'n_estimators': 319, 'learning_rate': 0.056247832714181836}. Best is trial 37 with value: 0.6655279800566662.\n",
      "[I 2023-10-19 02:53:02,103] Trial 49 finished with value: 0.6643472823536263 and parameters: {'max_depth': 17, 'num_leaves': 32, 'min_child_samples': 57, 'colsample_bytree': 0.6642432432242752, 'n_estimators': 142, 'learning_rate': 0.031685542206113027}. Best is trial 37 with value: 0.6655279800566662.\n"
     ]
    }
   ],
   "source": [
    "K = 5   # Kfold 수\n",
    "opt_func = partial(optimizer, X=X, y=y, K=K)\n",
    "\n",
    "study = optuna.create_study(direction=\"maximize\") # 최소/최대 어느 방향의 최적값을 구할 건지.\n",
    "study.optimize(opt_func, n_trials=50)"
   ]
  },
  {
   "cell_type": "markdown",
   "source": [],
   "metadata": {
    "collapsed": false
   }
  },
  {
   "cell_type": "code",
   "execution_count": 117,
   "id": "72d0a118",
   "metadata": {
    "colab": {
     "base_uri": "https://localhost:8080/",
     "height": 1000
    },
    "id": "72d0a118",
    "outputId": "978d6a99-5370-4b0e-c5f7-bb38fdde033b"
   },
   "outputs": [
    {
     "data": {
      "text/plain": "    number     value             datetime_start          datetime_complete  \\\n0        0  0.652639 2023-10-19 02:28:23.460734 2023-10-19 02:29:28.628557   \n1        1  0.655285 2023-10-19 02:29:28.631021 2023-10-19 02:29:58.755732   \n2        2  0.654895 2023-10-19 02:29:58.758471 2023-10-19 02:32:31.247383   \n3        3  0.657425 2023-10-19 02:32:31.249381 2023-10-19 02:33:15.133273   \n4        4  0.654287 2023-10-19 02:33:15.135275 2023-10-19 02:34:05.927393   \n5        5  0.653163 2023-10-19 02:34:05.929078 2023-10-19 02:35:31.522810   \n6        6  0.658978 2023-10-19 02:35:31.525340 2023-10-19 02:36:02.090703   \n7        7  0.653363 2023-10-19 02:36:02.094140 2023-10-19 02:37:05.054266   \n8        8  0.663187 2023-10-19 02:37:05.056265 2023-10-19 02:38:05.839970   \n9        9  0.656301 2023-10-19 02:38:05.841646 2023-10-19 02:38:46.375486   \n10      10  0.657441 2023-10-19 02:38:46.377368 2023-10-19 02:39:29.048527   \n11      11  0.502206 2023-10-19 02:39:29.050267 2023-10-19 02:39:44.316330   \n12      12  0.646669 2023-10-19 02:39:44.318537 2023-10-19 02:39:49.727780   \n13      13  0.663779 2023-10-19 02:39:49.729791 2023-10-19 02:40:17.907601   \n14      14  0.660937 2023-10-19 02:40:17.910208 2023-10-19 02:40:51.589242   \n15      15  0.653871 2023-10-19 02:40:51.591244 2023-10-19 02:42:04.346370   \n16      16  0.658448 2023-10-19 02:42:04.348532 2023-10-19 02:42:48.465528   \n17      17  0.662511 2023-10-19 02:42:48.467666 2023-10-19 02:43:01.787096   \n18      18  0.661558 2023-10-19 02:43:01.790321 2023-10-19 02:43:51.198301   \n19      19  0.659002 2023-10-19 02:43:51.200302 2023-10-19 02:44:18.657495   \n20      20  0.653966 2023-10-19 02:44:18.659496 2023-10-19 02:46:17.372598   \n21      21  0.662107 2023-10-19 02:46:17.374827 2023-10-19 02:46:32.715554   \n22      22  0.665475 2023-10-19 02:46:32.717831 2023-10-19 02:46:49.049752   \n23      23  0.664867 2023-10-19 02:46:49.051836 2023-10-19 02:47:09.470718   \n24      24  0.665360 2023-10-19 02:47:09.473710 2023-10-19 02:47:26.944319   \n25      25  0.664554 2023-10-19 02:47:26.945843 2023-10-19 02:47:55.453132   \n26      26  0.661655 2023-10-19 02:47:55.455142 2023-10-19 02:48:09.555218   \n27      27  0.663843 2023-10-19 02:48:09.557219 2023-10-19 02:48:30.576805   \n28      28  0.639906 2023-10-19 02:48:30.578825 2023-10-19 02:48:36.220800   \n29      29  0.663655 2023-10-19 02:48:36.223321 2023-10-19 02:48:50.971120   \n30      30  0.663293 2023-10-19 02:48:50.972715 2023-10-19 02:49:14.482913   \n31      31  0.664330 2023-10-19 02:49:14.484832 2023-10-19 02:49:41.741497   \n32      32  0.611125 2023-10-19 02:49:41.744496 2023-10-19 02:49:56.935299   \n33      33  0.663519 2023-10-19 02:49:56.937296 2023-10-19 02:50:37.110030   \n34      34  0.660155 2023-10-19 02:50:37.112829 2023-10-19 02:51:06.072188   \n35      35  0.664809 2023-10-19 02:51:06.074724 2023-10-19 02:51:20.089168   \n36      36  0.664443 2023-10-19 02:51:20.091168 2023-10-19 02:51:33.680629   \n37      37  0.665528 2023-10-19 02:51:33.683045 2023-10-19 02:51:40.711378   \n38      38  0.665374 2023-10-19 02:51:40.713792 2023-10-19 02:51:47.250851   \n39      39  0.664788 2023-10-19 02:51:47.253431 2023-10-19 02:51:53.799688   \n40      40  0.664120 2023-10-19 02:51:53.801259 2023-10-19 02:52:01.199363   \n41      41  0.665164 2023-10-19 02:52:01.201388 2023-10-19 02:52:07.543407   \n42      42  0.665116 2023-10-19 02:52:07.545996 2023-10-19 02:52:13.192014   \n43      43  0.664810 2023-10-19 02:52:13.194004 2023-10-19 02:52:17.991395   \n44      44  0.664855 2023-10-19 02:52:17.993289 2023-10-19 02:52:22.874593   \n45      45  0.661833 2023-10-19 02:52:22.876303 2023-10-19 02:52:30.118566   \n46      46  0.660288 2023-10-19 02:52:30.120865 2023-10-19 02:52:39.730948   \n47      47  0.657049 2023-10-19 02:52:39.732325 2023-10-19 02:52:44.721066   \n48      48  0.658676 2023-10-19 02:52:44.723065 2023-10-19 02:52:58.323630   \n49      49  0.664347 2023-10-19 02:52:58.325271 2023-10-19 02:53:02.102165   \n\n                 duration  params_colsample_bytree  params_learning_rate  \\\n0  0 days 00:01:05.167823                 0.510079              0.184013   \n1  0 days 00:00:30.124711                 0.641789              0.165571   \n2  0 days 00:02:32.488912                 0.694817              0.059369   \n3  0 days 00:00:43.883892                 0.626728              0.075714   \n4  0 days 00:00:50.792118                 0.500687              0.139410   \n5  0 days 00:01:25.593732                 0.668691              0.128863   \n6  0 days 00:00:30.565363                 0.665966              0.022475   \n7  0 days 00:01:02.960126                 0.586436              0.143064   \n8  0 days 00:01:00.783705                 0.696452              0.014823   \n9  0 days 00:00:40.533840                 0.593794              0.126855   \n10 0 days 00:00:42.671159                 0.699862              0.005466   \n11 0 days 00:00:15.266063                 0.666698              0.006123   \n12 0 days 00:00:05.409243                 0.699579              0.036736   \n13 0 days 00:00:28.177810                 0.662244              0.040061   \n14 0 days 00:00:33.679034                 0.626158              0.049425   \n15 0 days 00:01:12.755126                 0.673059              0.091975   \n16 0 days 00:00:44.116996                 0.648167              0.041294   \n17 0 days 00:00:13.319430                 0.680385              0.066665   \n18 0 days 00:00:49.407980                 0.645443              0.030921   \n19 0 days 00:00:27.457193                 0.680628              0.085259   \n20 0 days 00:01:58.713102                 0.616901              0.057298   \n21 0 days 00:00:15.340727                 0.684896              0.070833   \n22 0 days 00:00:16.331921                 0.685170              0.024026   \n23 0 days 00:00:20.418882                 0.657208              0.020742   \n24 0 days 00:00:17.470609                 0.655460              0.028091   \n25 0 days 00:00:28.507289                 0.652810              0.025382   \n26 0 days 00:00:14.100076                 0.657474              0.020305   \n27 0 days 00:00:21.019586                 0.680519              0.050980   \n28 0 days 00:00:05.641975                 0.639619              0.032079   \n29 0 days 00:00:14.747799                 0.569286              0.017899   \n30 0 days 00:00:23.510198                 0.655471              0.046157   \n31 0 days 00:00:27.256665                 0.655910              0.027931   \n32 0 days 00:00:15.190803                 0.645117              0.007095   \n33 0 days 00:00:40.172734                 0.685181              0.023878   \n34 0 days 00:00:28.959359                 0.633473              0.059223   \n35 0 days 00:00:14.014444                 0.618728              0.036301   \n36 0 days 00:00:13.589461                 0.618598              0.036101   \n37 0 days 00:00:07.028333                 0.633825              0.049020   \n38 0 days 00:00:06.537059                 0.669591              0.049773   \n39 0 days 00:00:06.546257                 0.674988              0.063207   \n40 0 days 00:00:07.398104                 0.668115              0.077281   \n41 0 days 00:00:06.342019                 0.662127              0.050027   \n42 0 days 00:00:05.646018                 0.666319              0.049355   \n43 0 days 00:00:04.797391                 0.689850              0.055318   \n44 0 days 00:00:04.881304                 0.690085              0.044425   \n45 0 days 00:00:07.242263                 0.641253              0.067755   \n46 0 days 00:00:09.610083                 0.675287              0.042160   \n47 0 days 00:00:04.988741                 0.666451              0.014084   \n48 0 days 00:00:13.600565                 0.694193              0.056248   \n49 0 days 00:00:03.776894                 0.664243              0.031686   \n\n    params_max_depth  params_min_child_samples  params_n_estimators  \\\n0                 20                        26                  925   \n1                 15                        30                  704   \n2                 21                        26                 1002   \n3                 24                        67                  930   \n4                 19                        57                  342   \n5                 16                        42                  702   \n6                 23                        80                  128   \n7                 19                        75                  625   \n8                 22                        67                  905   \n9                 22                        78                  315   \n10                25                        54                  475   \n11                23                        65                  101   \n12                23                        68                   52   \n13                25                        79                  223   \n14                25                        44                  290   \n15                17                        60                  815   \n16                25                        71                  471   \n17                21                        47                  201   \n18                22                        62                  517   \n19                18                        72                  388   \n20                24                        50                  782   \n21                21                        40                  216   \n22                21                        49                  199   \n23                20                        53                  224   \n24                19                        35                  212   \n25                20                        38                  419   \n26                19                        34                  159   \n27                18                        21                  279   \n28                18                        48                   53   \n29                20                        54                  242   \n30                19                        34                  371   \n31                20                        37                  409   \n32                21                        30                  172   \n33                20                        45                  580   \n34                20                        39                  436   \n35                17                        28                  276   \n36                15                        22                  263   \n37                17                        31                  115   \n38                16                        54                  104   \n39                16                        25                  112   \n40                15                        33                  143   \n41                16                        55                  100   \n42                16                        58                  113   \n43                17                        52                   79   \n44                16                        57                  168   \n45                15                        42                  353   \n46                17                        62                   87   \n47                16                        31                  189   \n48                18                        50                  319   \n49                17                        57                  142   \n\n    params_num_leaves     state  \n0                  64  COMPLETE  \n1                  32  COMPLETE  \n2                 256  COMPLETE  \n3                  32  COMPLETE  \n4                 512  COMPLETE  \n5                 512  COMPLETE  \n6                 256  COMPLETE  \n7                 256  COMPLETE  \n8                  64  COMPLETE  \n9                 256  COMPLETE  \n10                 64  COMPLETE  \n11                128  COMPLETE  \n12                 64  COMPLETE  \n13                128  COMPLETE  \n14                128  COMPLETE  \n15                128  COMPLETE  \n16                128  COMPLETE  \n17                 64  COMPLETE  \n18                128  COMPLETE  \n19                 64  COMPLETE  \n20                512  COMPLETE  \n21                 64  COMPLETE  \n22                 64  COMPLETE  \n23                 64  COMPLETE  \n24                 64  COMPLETE  \n25                 64  COMPLETE  \n26                 64  COMPLETE  \n27                 64  COMPLETE  \n28                 64  COMPLETE  \n29                 32  COMPLETE  \n30                 64  COMPLETE  \n31                 64  COMPLETE  \n32                 64  COMPLETE  \n33                 64  COMPLETE  \n34                 64  COMPLETE  \n35                 32  COMPLETE  \n36                 32  COMPLETE  \n37                 32  COMPLETE  \n38                 32  COMPLETE  \n39                 32  COMPLETE  \n40                 32  COMPLETE  \n41                 32  COMPLETE  \n42                 32  COMPLETE  \n43                 32  COMPLETE  \n44                 32  COMPLETE  \n45                 32  COMPLETE  \n46                512  COMPLETE  \n47                 32  COMPLETE  \n48                256  COMPLETE  \n49                 32  COMPLETE  ",
      "text/html": "<div>\n<style scoped>\n    .dataframe tbody tr th:only-of-type {\n        vertical-align: middle;\n    }\n\n    .dataframe tbody tr th {\n        vertical-align: top;\n    }\n\n    .dataframe thead th {\n        text-align: right;\n    }\n</style>\n<table border=\"1\" class=\"dataframe\">\n  <thead>\n    <tr style=\"text-align: right;\">\n      <th></th>\n      <th>number</th>\n      <th>value</th>\n      <th>datetime_start</th>\n      <th>datetime_complete</th>\n      <th>duration</th>\n      <th>params_colsample_bytree</th>\n      <th>params_learning_rate</th>\n      <th>params_max_depth</th>\n      <th>params_min_child_samples</th>\n      <th>params_n_estimators</th>\n      <th>params_num_leaves</th>\n      <th>state</th>\n    </tr>\n  </thead>\n  <tbody>\n    <tr>\n      <th>0</th>\n      <td>0</td>\n      <td>0.652639</td>\n      <td>2023-10-19 02:28:23.460734</td>\n      <td>2023-10-19 02:29:28.628557</td>\n      <td>0 days 00:01:05.167823</td>\n      <td>0.510079</td>\n      <td>0.184013</td>\n      <td>20</td>\n      <td>26</td>\n      <td>925</td>\n      <td>64</td>\n      <td>COMPLETE</td>\n    </tr>\n    <tr>\n      <th>1</th>\n      <td>1</td>\n      <td>0.655285</td>\n      <td>2023-10-19 02:29:28.631021</td>\n      <td>2023-10-19 02:29:58.755732</td>\n      <td>0 days 00:00:30.124711</td>\n      <td>0.641789</td>\n      <td>0.165571</td>\n      <td>15</td>\n      <td>30</td>\n      <td>704</td>\n      <td>32</td>\n      <td>COMPLETE</td>\n    </tr>\n    <tr>\n      <th>2</th>\n      <td>2</td>\n      <td>0.654895</td>\n      <td>2023-10-19 02:29:58.758471</td>\n      <td>2023-10-19 02:32:31.247383</td>\n      <td>0 days 00:02:32.488912</td>\n      <td>0.694817</td>\n      <td>0.059369</td>\n      <td>21</td>\n      <td>26</td>\n      <td>1002</td>\n      <td>256</td>\n      <td>COMPLETE</td>\n    </tr>\n    <tr>\n      <th>3</th>\n      <td>3</td>\n      <td>0.657425</td>\n      <td>2023-10-19 02:32:31.249381</td>\n      <td>2023-10-19 02:33:15.133273</td>\n      <td>0 days 00:00:43.883892</td>\n      <td>0.626728</td>\n      <td>0.075714</td>\n      <td>24</td>\n      <td>67</td>\n      <td>930</td>\n      <td>32</td>\n      <td>COMPLETE</td>\n    </tr>\n    <tr>\n      <th>4</th>\n      <td>4</td>\n      <td>0.654287</td>\n      <td>2023-10-19 02:33:15.135275</td>\n      <td>2023-10-19 02:34:05.927393</td>\n      <td>0 days 00:00:50.792118</td>\n      <td>0.500687</td>\n      <td>0.139410</td>\n      <td>19</td>\n      <td>57</td>\n      <td>342</td>\n      <td>512</td>\n      <td>COMPLETE</td>\n    </tr>\n    <tr>\n      <th>5</th>\n      <td>5</td>\n      <td>0.653163</td>\n      <td>2023-10-19 02:34:05.929078</td>\n      <td>2023-10-19 02:35:31.522810</td>\n      <td>0 days 00:01:25.593732</td>\n      <td>0.668691</td>\n      <td>0.128863</td>\n      <td>16</td>\n      <td>42</td>\n      <td>702</td>\n      <td>512</td>\n      <td>COMPLETE</td>\n    </tr>\n    <tr>\n      <th>6</th>\n      <td>6</td>\n      <td>0.658978</td>\n      <td>2023-10-19 02:35:31.525340</td>\n      <td>2023-10-19 02:36:02.090703</td>\n      <td>0 days 00:00:30.565363</td>\n      <td>0.665966</td>\n      <td>0.022475</td>\n      <td>23</td>\n      <td>80</td>\n      <td>128</td>\n      <td>256</td>\n      <td>COMPLETE</td>\n    </tr>\n    <tr>\n      <th>7</th>\n      <td>7</td>\n      <td>0.653363</td>\n      <td>2023-10-19 02:36:02.094140</td>\n      <td>2023-10-19 02:37:05.054266</td>\n      <td>0 days 00:01:02.960126</td>\n      <td>0.586436</td>\n      <td>0.143064</td>\n      <td>19</td>\n      <td>75</td>\n      <td>625</td>\n      <td>256</td>\n      <td>COMPLETE</td>\n    </tr>\n    <tr>\n      <th>8</th>\n      <td>8</td>\n      <td>0.663187</td>\n      <td>2023-10-19 02:37:05.056265</td>\n      <td>2023-10-19 02:38:05.839970</td>\n      <td>0 days 00:01:00.783705</td>\n      <td>0.696452</td>\n      <td>0.014823</td>\n      <td>22</td>\n      <td>67</td>\n      <td>905</td>\n      <td>64</td>\n      <td>COMPLETE</td>\n    </tr>\n    <tr>\n      <th>9</th>\n      <td>9</td>\n      <td>0.656301</td>\n      <td>2023-10-19 02:38:05.841646</td>\n      <td>2023-10-19 02:38:46.375486</td>\n      <td>0 days 00:00:40.533840</td>\n      <td>0.593794</td>\n      <td>0.126855</td>\n      <td>22</td>\n      <td>78</td>\n      <td>315</td>\n      <td>256</td>\n      <td>COMPLETE</td>\n    </tr>\n    <tr>\n      <th>10</th>\n      <td>10</td>\n      <td>0.657441</td>\n      <td>2023-10-19 02:38:46.377368</td>\n      <td>2023-10-19 02:39:29.048527</td>\n      <td>0 days 00:00:42.671159</td>\n      <td>0.699862</td>\n      <td>0.005466</td>\n      <td>25</td>\n      <td>54</td>\n      <td>475</td>\n      <td>64</td>\n      <td>COMPLETE</td>\n    </tr>\n    <tr>\n      <th>11</th>\n      <td>11</td>\n      <td>0.502206</td>\n      <td>2023-10-19 02:39:29.050267</td>\n      <td>2023-10-19 02:39:44.316330</td>\n      <td>0 days 00:00:15.266063</td>\n      <td>0.666698</td>\n      <td>0.006123</td>\n      <td>23</td>\n      <td>65</td>\n      <td>101</td>\n      <td>128</td>\n      <td>COMPLETE</td>\n    </tr>\n    <tr>\n      <th>12</th>\n      <td>12</td>\n      <td>0.646669</td>\n      <td>2023-10-19 02:39:44.318537</td>\n      <td>2023-10-19 02:39:49.727780</td>\n      <td>0 days 00:00:05.409243</td>\n      <td>0.699579</td>\n      <td>0.036736</td>\n      <td>23</td>\n      <td>68</td>\n      <td>52</td>\n      <td>64</td>\n      <td>COMPLETE</td>\n    </tr>\n    <tr>\n      <th>13</th>\n      <td>13</td>\n      <td>0.663779</td>\n      <td>2023-10-19 02:39:49.729791</td>\n      <td>2023-10-19 02:40:17.907601</td>\n      <td>0 days 00:00:28.177810</td>\n      <td>0.662244</td>\n      <td>0.040061</td>\n      <td>25</td>\n      <td>79</td>\n      <td>223</td>\n      <td>128</td>\n      <td>COMPLETE</td>\n    </tr>\n    <tr>\n      <th>14</th>\n      <td>14</td>\n      <td>0.660937</td>\n      <td>2023-10-19 02:40:17.910208</td>\n      <td>2023-10-19 02:40:51.589242</td>\n      <td>0 days 00:00:33.679034</td>\n      <td>0.626158</td>\n      <td>0.049425</td>\n      <td>25</td>\n      <td>44</td>\n      <td>290</td>\n      <td>128</td>\n      <td>COMPLETE</td>\n    </tr>\n    <tr>\n      <th>15</th>\n      <td>15</td>\n      <td>0.653871</td>\n      <td>2023-10-19 02:40:51.591244</td>\n      <td>2023-10-19 02:42:04.346370</td>\n      <td>0 days 00:01:12.755126</td>\n      <td>0.673059</td>\n      <td>0.091975</td>\n      <td>17</td>\n      <td>60</td>\n      <td>815</td>\n      <td>128</td>\n      <td>COMPLETE</td>\n    </tr>\n    <tr>\n      <th>16</th>\n      <td>16</td>\n      <td>0.658448</td>\n      <td>2023-10-19 02:42:04.348532</td>\n      <td>2023-10-19 02:42:48.465528</td>\n      <td>0 days 00:00:44.116996</td>\n      <td>0.648167</td>\n      <td>0.041294</td>\n      <td>25</td>\n      <td>71</td>\n      <td>471</td>\n      <td>128</td>\n      <td>COMPLETE</td>\n    </tr>\n    <tr>\n      <th>17</th>\n      <td>17</td>\n      <td>0.662511</td>\n      <td>2023-10-19 02:42:48.467666</td>\n      <td>2023-10-19 02:43:01.787096</td>\n      <td>0 days 00:00:13.319430</td>\n      <td>0.680385</td>\n      <td>0.066665</td>\n      <td>21</td>\n      <td>47</td>\n      <td>201</td>\n      <td>64</td>\n      <td>COMPLETE</td>\n    </tr>\n    <tr>\n      <th>18</th>\n      <td>18</td>\n      <td>0.661558</td>\n      <td>2023-10-19 02:43:01.790321</td>\n      <td>2023-10-19 02:43:51.198301</td>\n      <td>0 days 00:00:49.407980</td>\n      <td>0.645443</td>\n      <td>0.030921</td>\n      <td>22</td>\n      <td>62</td>\n      <td>517</td>\n      <td>128</td>\n      <td>COMPLETE</td>\n    </tr>\n    <tr>\n      <th>19</th>\n      <td>19</td>\n      <td>0.659002</td>\n      <td>2023-10-19 02:43:51.200302</td>\n      <td>2023-10-19 02:44:18.657495</td>\n      <td>0 days 00:00:27.457193</td>\n      <td>0.680628</td>\n      <td>0.085259</td>\n      <td>18</td>\n      <td>72</td>\n      <td>388</td>\n      <td>64</td>\n      <td>COMPLETE</td>\n    </tr>\n    <tr>\n      <th>20</th>\n      <td>20</td>\n      <td>0.653966</td>\n      <td>2023-10-19 02:44:18.659496</td>\n      <td>2023-10-19 02:46:17.372598</td>\n      <td>0 days 00:01:58.713102</td>\n      <td>0.616901</td>\n      <td>0.057298</td>\n      <td>24</td>\n      <td>50</td>\n      <td>782</td>\n      <td>512</td>\n      <td>COMPLETE</td>\n    </tr>\n    <tr>\n      <th>21</th>\n      <td>21</td>\n      <td>0.662107</td>\n      <td>2023-10-19 02:46:17.374827</td>\n      <td>2023-10-19 02:46:32.715554</td>\n      <td>0 days 00:00:15.340727</td>\n      <td>0.684896</td>\n      <td>0.070833</td>\n      <td>21</td>\n      <td>40</td>\n      <td>216</td>\n      <td>64</td>\n      <td>COMPLETE</td>\n    </tr>\n    <tr>\n      <th>22</th>\n      <td>22</td>\n      <td>0.665475</td>\n      <td>2023-10-19 02:46:32.717831</td>\n      <td>2023-10-19 02:46:49.049752</td>\n      <td>0 days 00:00:16.331921</td>\n      <td>0.685170</td>\n      <td>0.024026</td>\n      <td>21</td>\n      <td>49</td>\n      <td>199</td>\n      <td>64</td>\n      <td>COMPLETE</td>\n    </tr>\n    <tr>\n      <th>23</th>\n      <td>23</td>\n      <td>0.664867</td>\n      <td>2023-10-19 02:46:49.051836</td>\n      <td>2023-10-19 02:47:09.470718</td>\n      <td>0 days 00:00:20.418882</td>\n      <td>0.657208</td>\n      <td>0.020742</td>\n      <td>20</td>\n      <td>53</td>\n      <td>224</td>\n      <td>64</td>\n      <td>COMPLETE</td>\n    </tr>\n    <tr>\n      <th>24</th>\n      <td>24</td>\n      <td>0.665360</td>\n      <td>2023-10-19 02:47:09.473710</td>\n      <td>2023-10-19 02:47:26.944319</td>\n      <td>0 days 00:00:17.470609</td>\n      <td>0.655460</td>\n      <td>0.028091</td>\n      <td>19</td>\n      <td>35</td>\n      <td>212</td>\n      <td>64</td>\n      <td>COMPLETE</td>\n    </tr>\n    <tr>\n      <th>25</th>\n      <td>25</td>\n      <td>0.664554</td>\n      <td>2023-10-19 02:47:26.945843</td>\n      <td>2023-10-19 02:47:55.453132</td>\n      <td>0 days 00:00:28.507289</td>\n      <td>0.652810</td>\n      <td>0.025382</td>\n      <td>20</td>\n      <td>38</td>\n      <td>419</td>\n      <td>64</td>\n      <td>COMPLETE</td>\n    </tr>\n    <tr>\n      <th>26</th>\n      <td>26</td>\n      <td>0.661655</td>\n      <td>2023-10-19 02:47:55.455142</td>\n      <td>2023-10-19 02:48:09.555218</td>\n      <td>0 days 00:00:14.100076</td>\n      <td>0.657474</td>\n      <td>0.020305</td>\n      <td>19</td>\n      <td>34</td>\n      <td>159</td>\n      <td>64</td>\n      <td>COMPLETE</td>\n    </tr>\n    <tr>\n      <th>27</th>\n      <td>27</td>\n      <td>0.663843</td>\n      <td>2023-10-19 02:48:09.557219</td>\n      <td>2023-10-19 02:48:30.576805</td>\n      <td>0 days 00:00:21.019586</td>\n      <td>0.680519</td>\n      <td>0.050980</td>\n      <td>18</td>\n      <td>21</td>\n      <td>279</td>\n      <td>64</td>\n      <td>COMPLETE</td>\n    </tr>\n    <tr>\n      <th>28</th>\n      <td>28</td>\n      <td>0.639906</td>\n      <td>2023-10-19 02:48:30.578825</td>\n      <td>2023-10-19 02:48:36.220800</td>\n      <td>0 days 00:00:05.641975</td>\n      <td>0.639619</td>\n      <td>0.032079</td>\n      <td>18</td>\n      <td>48</td>\n      <td>53</td>\n      <td>64</td>\n      <td>COMPLETE</td>\n    </tr>\n    <tr>\n      <th>29</th>\n      <td>29</td>\n      <td>0.663655</td>\n      <td>2023-10-19 02:48:36.223321</td>\n      <td>2023-10-19 02:48:50.971120</td>\n      <td>0 days 00:00:14.747799</td>\n      <td>0.569286</td>\n      <td>0.017899</td>\n      <td>20</td>\n      <td>54</td>\n      <td>242</td>\n      <td>32</td>\n      <td>COMPLETE</td>\n    </tr>\n    <tr>\n      <th>30</th>\n      <td>30</td>\n      <td>0.663293</td>\n      <td>2023-10-19 02:48:50.972715</td>\n      <td>2023-10-19 02:49:14.482913</td>\n      <td>0 days 00:00:23.510198</td>\n      <td>0.655471</td>\n      <td>0.046157</td>\n      <td>19</td>\n      <td>34</td>\n      <td>371</td>\n      <td>64</td>\n      <td>COMPLETE</td>\n    </tr>\n    <tr>\n      <th>31</th>\n      <td>31</td>\n      <td>0.664330</td>\n      <td>2023-10-19 02:49:14.484832</td>\n      <td>2023-10-19 02:49:41.741497</td>\n      <td>0 days 00:00:27.256665</td>\n      <td>0.655910</td>\n      <td>0.027931</td>\n      <td>20</td>\n      <td>37</td>\n      <td>409</td>\n      <td>64</td>\n      <td>COMPLETE</td>\n    </tr>\n    <tr>\n      <th>32</th>\n      <td>32</td>\n      <td>0.611125</td>\n      <td>2023-10-19 02:49:41.744496</td>\n      <td>2023-10-19 02:49:56.935299</td>\n      <td>0 days 00:00:15.190803</td>\n      <td>0.645117</td>\n      <td>0.007095</td>\n      <td>21</td>\n      <td>30</td>\n      <td>172</td>\n      <td>64</td>\n      <td>COMPLETE</td>\n    </tr>\n    <tr>\n      <th>33</th>\n      <td>33</td>\n      <td>0.663519</td>\n      <td>2023-10-19 02:49:56.937296</td>\n      <td>2023-10-19 02:50:37.110030</td>\n      <td>0 days 00:00:40.172734</td>\n      <td>0.685181</td>\n      <td>0.023878</td>\n      <td>20</td>\n      <td>45</td>\n      <td>580</td>\n      <td>64</td>\n      <td>COMPLETE</td>\n    </tr>\n    <tr>\n      <th>34</th>\n      <td>34</td>\n      <td>0.660155</td>\n      <td>2023-10-19 02:50:37.112829</td>\n      <td>2023-10-19 02:51:06.072188</td>\n      <td>0 days 00:00:28.959359</td>\n      <td>0.633473</td>\n      <td>0.059223</td>\n      <td>20</td>\n      <td>39</td>\n      <td>436</td>\n      <td>64</td>\n      <td>COMPLETE</td>\n    </tr>\n    <tr>\n      <th>35</th>\n      <td>35</td>\n      <td>0.664809</td>\n      <td>2023-10-19 02:51:06.074724</td>\n      <td>2023-10-19 02:51:20.089168</td>\n      <td>0 days 00:00:14.014444</td>\n      <td>0.618728</td>\n      <td>0.036301</td>\n      <td>17</td>\n      <td>28</td>\n      <td>276</td>\n      <td>32</td>\n      <td>COMPLETE</td>\n    </tr>\n    <tr>\n      <th>36</th>\n      <td>36</td>\n      <td>0.664443</td>\n      <td>2023-10-19 02:51:20.091168</td>\n      <td>2023-10-19 02:51:33.680629</td>\n      <td>0 days 00:00:13.589461</td>\n      <td>0.618598</td>\n      <td>0.036101</td>\n      <td>15</td>\n      <td>22</td>\n      <td>263</td>\n      <td>32</td>\n      <td>COMPLETE</td>\n    </tr>\n    <tr>\n      <th>37</th>\n      <td>37</td>\n      <td>0.665528</td>\n      <td>2023-10-19 02:51:33.683045</td>\n      <td>2023-10-19 02:51:40.711378</td>\n      <td>0 days 00:00:07.028333</td>\n      <td>0.633825</td>\n      <td>0.049020</td>\n      <td>17</td>\n      <td>31</td>\n      <td>115</td>\n      <td>32</td>\n      <td>COMPLETE</td>\n    </tr>\n    <tr>\n      <th>38</th>\n      <td>38</td>\n      <td>0.665374</td>\n      <td>2023-10-19 02:51:40.713792</td>\n      <td>2023-10-19 02:51:47.250851</td>\n      <td>0 days 00:00:06.537059</td>\n      <td>0.669591</td>\n      <td>0.049773</td>\n      <td>16</td>\n      <td>54</td>\n      <td>104</td>\n      <td>32</td>\n      <td>COMPLETE</td>\n    </tr>\n    <tr>\n      <th>39</th>\n      <td>39</td>\n      <td>0.664788</td>\n      <td>2023-10-19 02:51:47.253431</td>\n      <td>2023-10-19 02:51:53.799688</td>\n      <td>0 days 00:00:06.546257</td>\n      <td>0.674988</td>\n      <td>0.063207</td>\n      <td>16</td>\n      <td>25</td>\n      <td>112</td>\n      <td>32</td>\n      <td>COMPLETE</td>\n    </tr>\n    <tr>\n      <th>40</th>\n      <td>40</td>\n      <td>0.664120</td>\n      <td>2023-10-19 02:51:53.801259</td>\n      <td>2023-10-19 02:52:01.199363</td>\n      <td>0 days 00:00:07.398104</td>\n      <td>0.668115</td>\n      <td>0.077281</td>\n      <td>15</td>\n      <td>33</td>\n      <td>143</td>\n      <td>32</td>\n      <td>COMPLETE</td>\n    </tr>\n    <tr>\n      <th>41</th>\n      <td>41</td>\n      <td>0.665164</td>\n      <td>2023-10-19 02:52:01.201388</td>\n      <td>2023-10-19 02:52:07.543407</td>\n      <td>0 days 00:00:06.342019</td>\n      <td>0.662127</td>\n      <td>0.050027</td>\n      <td>16</td>\n      <td>55</td>\n      <td>100</td>\n      <td>32</td>\n      <td>COMPLETE</td>\n    </tr>\n    <tr>\n      <th>42</th>\n      <td>42</td>\n      <td>0.665116</td>\n      <td>2023-10-19 02:52:07.545996</td>\n      <td>2023-10-19 02:52:13.192014</td>\n      <td>0 days 00:00:05.646018</td>\n      <td>0.666319</td>\n      <td>0.049355</td>\n      <td>16</td>\n      <td>58</td>\n      <td>113</td>\n      <td>32</td>\n      <td>COMPLETE</td>\n    </tr>\n    <tr>\n      <th>43</th>\n      <td>43</td>\n      <td>0.664810</td>\n      <td>2023-10-19 02:52:13.194004</td>\n      <td>2023-10-19 02:52:17.991395</td>\n      <td>0 days 00:00:04.797391</td>\n      <td>0.689850</td>\n      <td>0.055318</td>\n      <td>17</td>\n      <td>52</td>\n      <td>79</td>\n      <td>32</td>\n      <td>COMPLETE</td>\n    </tr>\n    <tr>\n      <th>44</th>\n      <td>44</td>\n      <td>0.664855</td>\n      <td>2023-10-19 02:52:17.993289</td>\n      <td>2023-10-19 02:52:22.874593</td>\n      <td>0 days 00:00:04.881304</td>\n      <td>0.690085</td>\n      <td>0.044425</td>\n      <td>16</td>\n      <td>57</td>\n      <td>168</td>\n      <td>32</td>\n      <td>COMPLETE</td>\n    </tr>\n    <tr>\n      <th>45</th>\n      <td>45</td>\n      <td>0.661833</td>\n      <td>2023-10-19 02:52:22.876303</td>\n      <td>2023-10-19 02:52:30.118566</td>\n      <td>0 days 00:00:07.242263</td>\n      <td>0.641253</td>\n      <td>0.067755</td>\n      <td>15</td>\n      <td>42</td>\n      <td>353</td>\n      <td>32</td>\n      <td>COMPLETE</td>\n    </tr>\n    <tr>\n      <th>46</th>\n      <td>46</td>\n      <td>0.660288</td>\n      <td>2023-10-19 02:52:30.120865</td>\n      <td>2023-10-19 02:52:39.730948</td>\n      <td>0 days 00:00:09.610083</td>\n      <td>0.675287</td>\n      <td>0.042160</td>\n      <td>17</td>\n      <td>62</td>\n      <td>87</td>\n      <td>512</td>\n      <td>COMPLETE</td>\n    </tr>\n    <tr>\n      <th>47</th>\n      <td>47</td>\n      <td>0.657049</td>\n      <td>2023-10-19 02:52:39.732325</td>\n      <td>2023-10-19 02:52:44.721066</td>\n      <td>0 days 00:00:04.988741</td>\n      <td>0.666451</td>\n      <td>0.014084</td>\n      <td>16</td>\n      <td>31</td>\n      <td>189</td>\n      <td>32</td>\n      <td>COMPLETE</td>\n    </tr>\n    <tr>\n      <th>48</th>\n      <td>48</td>\n      <td>0.658676</td>\n      <td>2023-10-19 02:52:44.723065</td>\n      <td>2023-10-19 02:52:58.323630</td>\n      <td>0 days 00:00:13.600565</td>\n      <td>0.694193</td>\n      <td>0.056248</td>\n      <td>18</td>\n      <td>50</td>\n      <td>319</td>\n      <td>256</td>\n      <td>COMPLETE</td>\n    </tr>\n    <tr>\n      <th>49</th>\n      <td>49</td>\n      <td>0.664347</td>\n      <td>2023-10-19 02:52:58.325271</td>\n      <td>2023-10-19 02:53:02.102165</td>\n      <td>0 days 00:00:03.776894</td>\n      <td>0.664243</td>\n      <td>0.031686</td>\n      <td>17</td>\n      <td>57</td>\n      <td>142</td>\n      <td>32</td>\n      <td>COMPLETE</td>\n    </tr>\n  </tbody>\n</table>\n</div>"
     },
     "execution_count": 117,
     "metadata": {},
     "output_type": "execute_result"
    }
   ],
   "source": [
    "# optuna가 시도했던 모든 실험 관련 데이터\n",
    "study.trials_dataframe()"
   ]
  },
  {
   "cell_type": "code",
   "execution_count": 118,
   "id": "a805da05",
   "metadata": {
    "colab": {
     "base_uri": "https://localhost:8080/"
    },
    "id": "a805da05",
    "outputId": "bcd1a494-0422-474c-d9e8-3e48cddef25a"
   },
   "outputs": [
    {
     "name": "stdout",
     "output_type": "stream",
     "text": [
      "Best Score: 0.6655\n",
      "Best params:  {'max_depth': 17, 'num_leaves': 32, 'min_child_samples': 31, 'colsample_bytree': 0.6338246570775382, 'n_estimators': 115, 'learning_rate': 0.04902005456004471}\n"
     ]
    }
   ],
   "source": [
    "print(\"Best Score: %.4f\" % study.best_value) # best score 출력\n",
    "print(\"Best params: \", study.best_trial.params) # best score일 때의 하이퍼파라미터들"
   ]
  },
  {
   "cell_type": "code",
   "execution_count": 119,
   "id": "051ae1eb",
   "metadata": {
    "colab": {
     "base_uri": "https://localhost:8080/",
     "height": 542
    },
    "id": "051ae1eb",
    "outputId": "58266f06-c9df-4dde-cafa-6c5a921f85fe"
   },
   "outputs": [
    {
     "data": {
      "application/vnd.plotly.v1+json": {
       "data": [
        {
         "mode": "markers",
         "name": "Objective Value",
         "x": [
          0,
          1,
          2,
          3,
          4,
          5,
          6,
          7,
          8,
          9,
          10,
          11,
          12,
          13,
          14,
          15,
          16,
          17,
          18,
          19,
          20,
          21,
          22,
          23,
          24,
          25,
          26,
          27,
          28,
          29,
          30,
          31,
          32,
          33,
          34,
          35,
          36,
          37,
          38,
          39,
          40,
          41,
          42,
          43,
          44,
          45,
          46,
          47,
          48,
          49
         ],
         "y": [
          0.6526392318019023,
          0.6552852886351263,
          0.6548954179173035,
          0.6574245106512431,
          0.6542872568574154,
          0.6531632015521047,
          0.6589778059524065,
          0.6533632368573125,
          0.6631874670227678,
          0.6563007133433592,
          0.6574407879235254,
          0.5022063400677894,
          0.6466691179999167,
          0.6637788335715434,
          0.6609370667810505,
          0.6538712617726229,
          0.6584481358754621,
          0.6625105867197373,
          0.6615579387081945,
          0.6590020918006692,
          0.6539660631989748,
          0.6621069996617058,
          0.6654752592837441,
          0.6648667736584071,
          0.6653598020076756,
          0.6645543743872946,
          0.6616547933637164,
          0.6638434830639687,
          0.6399058073008282,
          0.6636545843203837,
          0.663292909492341,
          0.6643304741179973,
          0.6111252245425077,
          0.6635190151136813,
          0.6601548111044447,
          0.6648088843522976,
          0.6644433391081186,
          0.6655279800566662,
          0.6653736063739466,
          0.6647879662522538,
          0.6641204501276914,
          0.6651639910608572,
          0.6651161052859244,
          0.6648095906040413,
          0.6648548484282354,
          0.661832606683283,
          0.6602877355599593,
          0.6570486418630318,
          0.6586755139932078,
          0.6643472823536263
         ],
         "type": "scatter"
        },
        {
         "mode": "lines",
         "name": "Best Value",
         "x": [
          0,
          1,
          2,
          3,
          4,
          5,
          6,
          7,
          8,
          9,
          10,
          11,
          12,
          13,
          14,
          15,
          16,
          17,
          18,
          19,
          20,
          21,
          22,
          23,
          24,
          25,
          26,
          27,
          28,
          29,
          30,
          31,
          32,
          33,
          34,
          35,
          36,
          37,
          38,
          39,
          40,
          41,
          42,
          43,
          44,
          45,
          46,
          47,
          48,
          49
         ],
         "y": [
          0.6526392318019023,
          0.6552852886351263,
          0.6552852886351263,
          0.6574245106512431,
          0.6574245106512431,
          0.6574245106512431,
          0.6589778059524065,
          0.6589778059524065,
          0.6631874670227678,
          0.6631874670227678,
          0.6631874670227678,
          0.6631874670227678,
          0.6631874670227678,
          0.6637788335715434,
          0.6637788335715434,
          0.6637788335715434,
          0.6637788335715434,
          0.6637788335715434,
          0.6637788335715434,
          0.6637788335715434,
          0.6637788335715434,
          0.6637788335715434,
          0.6654752592837441,
          0.6654752592837441,
          0.6654752592837441,
          0.6654752592837441,
          0.6654752592837441,
          0.6654752592837441,
          0.6654752592837441,
          0.6654752592837441,
          0.6654752592837441,
          0.6654752592837441,
          0.6654752592837441,
          0.6654752592837441,
          0.6654752592837441,
          0.6654752592837441,
          0.6654752592837441,
          0.6655279800566662,
          0.6655279800566662,
          0.6655279800566662,
          0.6655279800566662,
          0.6655279800566662,
          0.6655279800566662,
          0.6655279800566662,
          0.6655279800566662,
          0.6655279800566662,
          0.6655279800566662,
          0.6655279800566662,
          0.6655279800566662,
          0.6655279800566662
         ],
         "type": "scatter"
        },
        {
         "marker": {
          "color": "#cccccc"
         },
         "mode": "markers",
         "name": "Infeasible Trial",
         "showlegend": false,
         "x": [],
         "y": [],
         "type": "scatter"
        }
       ],
       "layout": {
        "title": {
         "text": "Optimization History Plot"
        },
        "xaxis": {
         "title": {
          "text": "Trial"
         }
        },
        "yaxis": {
         "title": {
          "text": "Objective Value"
         }
        },
        "template": {
         "data": {
          "histogram2dcontour": [
           {
            "type": "histogram2dcontour",
            "colorbar": {
             "outlinewidth": 0,
             "ticks": ""
            },
            "colorscale": [
             [
              0.0,
              "#0d0887"
             ],
             [
              0.1111111111111111,
              "#46039f"
             ],
             [
              0.2222222222222222,
              "#7201a8"
             ],
             [
              0.3333333333333333,
              "#9c179e"
             ],
             [
              0.4444444444444444,
              "#bd3786"
             ],
             [
              0.5555555555555556,
              "#d8576b"
             ],
             [
              0.6666666666666666,
              "#ed7953"
             ],
             [
              0.7777777777777778,
              "#fb9f3a"
             ],
             [
              0.8888888888888888,
              "#fdca26"
             ],
             [
              1.0,
              "#f0f921"
             ]
            ]
           }
          ],
          "choropleth": [
           {
            "type": "choropleth",
            "colorbar": {
             "outlinewidth": 0,
             "ticks": ""
            }
           }
          ],
          "histogram2d": [
           {
            "type": "histogram2d",
            "colorbar": {
             "outlinewidth": 0,
             "ticks": ""
            },
            "colorscale": [
             [
              0.0,
              "#0d0887"
             ],
             [
              0.1111111111111111,
              "#46039f"
             ],
             [
              0.2222222222222222,
              "#7201a8"
             ],
             [
              0.3333333333333333,
              "#9c179e"
             ],
             [
              0.4444444444444444,
              "#bd3786"
             ],
             [
              0.5555555555555556,
              "#d8576b"
             ],
             [
              0.6666666666666666,
              "#ed7953"
             ],
             [
              0.7777777777777778,
              "#fb9f3a"
             ],
             [
              0.8888888888888888,
              "#fdca26"
             ],
             [
              1.0,
              "#f0f921"
             ]
            ]
           }
          ],
          "heatmap": [
           {
            "type": "heatmap",
            "colorbar": {
             "outlinewidth": 0,
             "ticks": ""
            },
            "colorscale": [
             [
              0.0,
              "#0d0887"
             ],
             [
              0.1111111111111111,
              "#46039f"
             ],
             [
              0.2222222222222222,
              "#7201a8"
             ],
             [
              0.3333333333333333,
              "#9c179e"
             ],
             [
              0.4444444444444444,
              "#bd3786"
             ],
             [
              0.5555555555555556,
              "#d8576b"
             ],
             [
              0.6666666666666666,
              "#ed7953"
             ],
             [
              0.7777777777777778,
              "#fb9f3a"
             ],
             [
              0.8888888888888888,
              "#fdca26"
             ],
             [
              1.0,
              "#f0f921"
             ]
            ]
           }
          ],
          "heatmapgl": [
           {
            "type": "heatmapgl",
            "colorbar": {
             "outlinewidth": 0,
             "ticks": ""
            },
            "colorscale": [
             [
              0.0,
              "#0d0887"
             ],
             [
              0.1111111111111111,
              "#46039f"
             ],
             [
              0.2222222222222222,
              "#7201a8"
             ],
             [
              0.3333333333333333,
              "#9c179e"
             ],
             [
              0.4444444444444444,
              "#bd3786"
             ],
             [
              0.5555555555555556,
              "#d8576b"
             ],
             [
              0.6666666666666666,
              "#ed7953"
             ],
             [
              0.7777777777777778,
              "#fb9f3a"
             ],
             [
              0.8888888888888888,
              "#fdca26"
             ],
             [
              1.0,
              "#f0f921"
             ]
            ]
           }
          ],
          "contourcarpet": [
           {
            "type": "contourcarpet",
            "colorbar": {
             "outlinewidth": 0,
             "ticks": ""
            }
           }
          ],
          "contour": [
           {
            "type": "contour",
            "colorbar": {
             "outlinewidth": 0,
             "ticks": ""
            },
            "colorscale": [
             [
              0.0,
              "#0d0887"
             ],
             [
              0.1111111111111111,
              "#46039f"
             ],
             [
              0.2222222222222222,
              "#7201a8"
             ],
             [
              0.3333333333333333,
              "#9c179e"
             ],
             [
              0.4444444444444444,
              "#bd3786"
             ],
             [
              0.5555555555555556,
              "#d8576b"
             ],
             [
              0.6666666666666666,
              "#ed7953"
             ],
             [
              0.7777777777777778,
              "#fb9f3a"
             ],
             [
              0.8888888888888888,
              "#fdca26"
             ],
             [
              1.0,
              "#f0f921"
             ]
            ]
           }
          ],
          "surface": [
           {
            "type": "surface",
            "colorbar": {
             "outlinewidth": 0,
             "ticks": ""
            },
            "colorscale": [
             [
              0.0,
              "#0d0887"
             ],
             [
              0.1111111111111111,
              "#46039f"
             ],
             [
              0.2222222222222222,
              "#7201a8"
             ],
             [
              0.3333333333333333,
              "#9c179e"
             ],
             [
              0.4444444444444444,
              "#bd3786"
             ],
             [
              0.5555555555555556,
              "#d8576b"
             ],
             [
              0.6666666666666666,
              "#ed7953"
             ],
             [
              0.7777777777777778,
              "#fb9f3a"
             ],
             [
              0.8888888888888888,
              "#fdca26"
             ],
             [
              1.0,
              "#f0f921"
             ]
            ]
           }
          ],
          "mesh3d": [
           {
            "type": "mesh3d",
            "colorbar": {
             "outlinewidth": 0,
             "ticks": ""
            }
           }
          ],
          "scatter": [
           {
            "fillpattern": {
             "fillmode": "overlay",
             "size": 10,
             "solidity": 0.2
            },
            "type": "scatter"
           }
          ],
          "parcoords": [
           {
            "type": "parcoords",
            "line": {
             "colorbar": {
              "outlinewidth": 0,
              "ticks": ""
             }
            }
           }
          ],
          "scatterpolargl": [
           {
            "type": "scatterpolargl",
            "marker": {
             "colorbar": {
              "outlinewidth": 0,
              "ticks": ""
             }
            }
           }
          ],
          "bar": [
           {
            "error_x": {
             "color": "#2a3f5f"
            },
            "error_y": {
             "color": "#2a3f5f"
            },
            "marker": {
             "line": {
              "color": "#E5ECF6",
              "width": 0.5
             },
             "pattern": {
              "fillmode": "overlay",
              "size": 10,
              "solidity": 0.2
             }
            },
            "type": "bar"
           }
          ],
          "scattergeo": [
           {
            "type": "scattergeo",
            "marker": {
             "colorbar": {
              "outlinewidth": 0,
              "ticks": ""
             }
            }
           }
          ],
          "scatterpolar": [
           {
            "type": "scatterpolar",
            "marker": {
             "colorbar": {
              "outlinewidth": 0,
              "ticks": ""
             }
            }
           }
          ],
          "histogram": [
           {
            "marker": {
             "pattern": {
              "fillmode": "overlay",
              "size": 10,
              "solidity": 0.2
             }
            },
            "type": "histogram"
           }
          ],
          "scattergl": [
           {
            "type": "scattergl",
            "marker": {
             "colorbar": {
              "outlinewidth": 0,
              "ticks": ""
             }
            }
           }
          ],
          "scatter3d": [
           {
            "type": "scatter3d",
            "line": {
             "colorbar": {
              "outlinewidth": 0,
              "ticks": ""
             }
            },
            "marker": {
             "colorbar": {
              "outlinewidth": 0,
              "ticks": ""
             }
            }
           }
          ],
          "scattermapbox": [
           {
            "type": "scattermapbox",
            "marker": {
             "colorbar": {
              "outlinewidth": 0,
              "ticks": ""
             }
            }
           }
          ],
          "scatterternary": [
           {
            "type": "scatterternary",
            "marker": {
             "colorbar": {
              "outlinewidth": 0,
              "ticks": ""
             }
            }
           }
          ],
          "scattercarpet": [
           {
            "type": "scattercarpet",
            "marker": {
             "colorbar": {
              "outlinewidth": 0,
              "ticks": ""
             }
            }
           }
          ],
          "carpet": [
           {
            "aaxis": {
             "endlinecolor": "#2a3f5f",
             "gridcolor": "white",
             "linecolor": "white",
             "minorgridcolor": "white",
             "startlinecolor": "#2a3f5f"
            },
            "baxis": {
             "endlinecolor": "#2a3f5f",
             "gridcolor": "white",
             "linecolor": "white",
             "minorgridcolor": "white",
             "startlinecolor": "#2a3f5f"
            },
            "type": "carpet"
           }
          ],
          "table": [
           {
            "cells": {
             "fill": {
              "color": "#EBF0F8"
             },
             "line": {
              "color": "white"
             }
            },
            "header": {
             "fill": {
              "color": "#C8D4E3"
             },
             "line": {
              "color": "white"
             }
            },
            "type": "table"
           }
          ],
          "barpolar": [
           {
            "marker": {
             "line": {
              "color": "#E5ECF6",
              "width": 0.5
             },
             "pattern": {
              "fillmode": "overlay",
              "size": 10,
              "solidity": 0.2
             }
            },
            "type": "barpolar"
           }
          ],
          "pie": [
           {
            "automargin": true,
            "type": "pie"
           }
          ]
         },
         "layout": {
          "autotypenumbers": "strict",
          "colorway": [
           "#636efa",
           "#EF553B",
           "#00cc96",
           "#ab63fa",
           "#FFA15A",
           "#19d3f3",
           "#FF6692",
           "#B6E880",
           "#FF97FF",
           "#FECB52"
          ],
          "font": {
           "color": "#2a3f5f"
          },
          "hovermode": "closest",
          "hoverlabel": {
           "align": "left"
          },
          "paper_bgcolor": "white",
          "plot_bgcolor": "#E5ECF6",
          "polar": {
           "bgcolor": "#E5ECF6",
           "angularaxis": {
            "gridcolor": "white",
            "linecolor": "white",
            "ticks": ""
           },
           "radialaxis": {
            "gridcolor": "white",
            "linecolor": "white",
            "ticks": ""
           }
          },
          "ternary": {
           "bgcolor": "#E5ECF6",
           "aaxis": {
            "gridcolor": "white",
            "linecolor": "white",
            "ticks": ""
           },
           "baxis": {
            "gridcolor": "white",
            "linecolor": "white",
            "ticks": ""
           },
           "caxis": {
            "gridcolor": "white",
            "linecolor": "white",
            "ticks": ""
           }
          },
          "coloraxis": {
           "colorbar": {
            "outlinewidth": 0,
            "ticks": ""
           }
          },
          "colorscale": {
           "sequential": [
            [
             0.0,
             "#0d0887"
            ],
            [
             0.1111111111111111,
             "#46039f"
            ],
            [
             0.2222222222222222,
             "#7201a8"
            ],
            [
             0.3333333333333333,
             "#9c179e"
            ],
            [
             0.4444444444444444,
             "#bd3786"
            ],
            [
             0.5555555555555556,
             "#d8576b"
            ],
            [
             0.6666666666666666,
             "#ed7953"
            ],
            [
             0.7777777777777778,
             "#fb9f3a"
            ],
            [
             0.8888888888888888,
             "#fdca26"
            ],
            [
             1.0,
             "#f0f921"
            ]
           ],
           "sequentialminus": [
            [
             0.0,
             "#0d0887"
            ],
            [
             0.1111111111111111,
             "#46039f"
            ],
            [
             0.2222222222222222,
             "#7201a8"
            ],
            [
             0.3333333333333333,
             "#9c179e"
            ],
            [
             0.4444444444444444,
             "#bd3786"
            ],
            [
             0.5555555555555556,
             "#d8576b"
            ],
            [
             0.6666666666666666,
             "#ed7953"
            ],
            [
             0.7777777777777778,
             "#fb9f3a"
            ],
            [
             0.8888888888888888,
             "#fdca26"
            ],
            [
             1.0,
             "#f0f921"
            ]
           ],
           "diverging": [
            [
             0,
             "#8e0152"
            ],
            [
             0.1,
             "#c51b7d"
            ],
            [
             0.2,
             "#de77ae"
            ],
            [
             0.3,
             "#f1b6da"
            ],
            [
             0.4,
             "#fde0ef"
            ],
            [
             0.5,
             "#f7f7f7"
            ],
            [
             0.6,
             "#e6f5d0"
            ],
            [
             0.7,
             "#b8e186"
            ],
            [
             0.8,
             "#7fbc41"
            ],
            [
             0.9,
             "#4d9221"
            ],
            [
             1,
             "#276419"
            ]
           ]
          },
          "xaxis": {
           "gridcolor": "white",
           "linecolor": "white",
           "ticks": "",
           "title": {
            "standoff": 15
           },
           "zerolinecolor": "white",
           "automargin": true,
           "zerolinewidth": 2
          },
          "yaxis": {
           "gridcolor": "white",
           "linecolor": "white",
           "ticks": "",
           "title": {
            "standoff": 15
           },
           "zerolinecolor": "white",
           "automargin": true,
           "zerolinewidth": 2
          },
          "scene": {
           "xaxis": {
            "backgroundcolor": "#E5ECF6",
            "gridcolor": "white",
            "linecolor": "white",
            "showbackground": true,
            "ticks": "",
            "zerolinecolor": "white",
            "gridwidth": 2
           },
           "yaxis": {
            "backgroundcolor": "#E5ECF6",
            "gridcolor": "white",
            "linecolor": "white",
            "showbackground": true,
            "ticks": "",
            "zerolinecolor": "white",
            "gridwidth": 2
           },
           "zaxis": {
            "backgroundcolor": "#E5ECF6",
            "gridcolor": "white",
            "linecolor": "white",
            "showbackground": true,
            "ticks": "",
            "zerolinecolor": "white",
            "gridwidth": 2
           }
          },
          "shapedefaults": {
           "line": {
            "color": "#2a3f5f"
           }
          },
          "annotationdefaults": {
           "arrowcolor": "#2a3f5f",
           "arrowhead": 0,
           "arrowwidth": 1
          },
          "geo": {
           "bgcolor": "white",
           "landcolor": "#E5ECF6",
           "subunitcolor": "white",
           "showland": true,
           "showlakes": true,
           "lakecolor": "white"
          },
          "title": {
           "x": 0.05
          },
          "mapbox": {
           "style": "light"
          }
         }
        }
       },
       "config": {
        "plotlyServerURL": "https://plotly.com"
       }
      },
      "text/html": "<div>                            <div id=\"808eac51-bdfe-45fd-ac6a-18312b2b714e\" class=\"plotly-graph-div\" style=\"height:525px; width:100%;\"></div>            <script type=\"text/javascript\">                require([\"plotly\"], function(Plotly) {                    window.PLOTLYENV=window.PLOTLYENV || {};                                    if (document.getElementById(\"808eac51-bdfe-45fd-ac6a-18312b2b714e\")) {                    Plotly.newPlot(                        \"808eac51-bdfe-45fd-ac6a-18312b2b714e\",                        [{\"mode\":\"markers\",\"name\":\"Objective Value\",\"x\":[0,1,2,3,4,5,6,7,8,9,10,11,12,13,14,15,16,17,18,19,20,21,22,23,24,25,26,27,28,29,30,31,32,33,34,35,36,37,38,39,40,41,42,43,44,45,46,47,48,49],\"y\":[0.6526392318019023,0.6552852886351263,0.6548954179173035,0.6574245106512431,0.6542872568574154,0.6531632015521047,0.6589778059524065,0.6533632368573125,0.6631874670227678,0.6563007133433592,0.6574407879235254,0.5022063400677894,0.6466691179999167,0.6637788335715434,0.6609370667810505,0.6538712617726229,0.6584481358754621,0.6625105867197373,0.6615579387081945,0.6590020918006692,0.6539660631989748,0.6621069996617058,0.6654752592837441,0.6648667736584071,0.6653598020076756,0.6645543743872946,0.6616547933637164,0.6638434830639687,0.6399058073008282,0.6636545843203837,0.663292909492341,0.6643304741179973,0.6111252245425077,0.6635190151136813,0.6601548111044447,0.6648088843522976,0.6644433391081186,0.6655279800566662,0.6653736063739466,0.6647879662522538,0.6641204501276914,0.6651639910608572,0.6651161052859244,0.6648095906040413,0.6648548484282354,0.661832606683283,0.6602877355599593,0.6570486418630318,0.6586755139932078,0.6643472823536263],\"type\":\"scatter\"},{\"mode\":\"lines\",\"name\":\"Best Value\",\"x\":[0,1,2,3,4,5,6,7,8,9,10,11,12,13,14,15,16,17,18,19,20,21,22,23,24,25,26,27,28,29,30,31,32,33,34,35,36,37,38,39,40,41,42,43,44,45,46,47,48,49],\"y\":[0.6526392318019023,0.6552852886351263,0.6552852886351263,0.6574245106512431,0.6574245106512431,0.6574245106512431,0.6589778059524065,0.6589778059524065,0.6631874670227678,0.6631874670227678,0.6631874670227678,0.6631874670227678,0.6631874670227678,0.6637788335715434,0.6637788335715434,0.6637788335715434,0.6637788335715434,0.6637788335715434,0.6637788335715434,0.6637788335715434,0.6637788335715434,0.6637788335715434,0.6654752592837441,0.6654752592837441,0.6654752592837441,0.6654752592837441,0.6654752592837441,0.6654752592837441,0.6654752592837441,0.6654752592837441,0.6654752592837441,0.6654752592837441,0.6654752592837441,0.6654752592837441,0.6654752592837441,0.6654752592837441,0.6654752592837441,0.6655279800566662,0.6655279800566662,0.6655279800566662,0.6655279800566662,0.6655279800566662,0.6655279800566662,0.6655279800566662,0.6655279800566662,0.6655279800566662,0.6655279800566662,0.6655279800566662,0.6655279800566662,0.6655279800566662],\"type\":\"scatter\"},{\"marker\":{\"color\":\"#cccccc\"},\"mode\":\"markers\",\"name\":\"Infeasible Trial\",\"showlegend\":false,\"x\":[],\"y\":[],\"type\":\"scatter\"}],                        {\"title\":{\"text\":\"Optimization History Plot\"},\"xaxis\":{\"title\":{\"text\":\"Trial\"}},\"yaxis\":{\"title\":{\"text\":\"Objective Value\"}},\"template\":{\"data\":{\"histogram2dcontour\":[{\"type\":\"histogram2dcontour\",\"colorbar\":{\"outlinewidth\":0,\"ticks\":\"\"},\"colorscale\":[[0.0,\"#0d0887\"],[0.1111111111111111,\"#46039f\"],[0.2222222222222222,\"#7201a8\"],[0.3333333333333333,\"#9c179e\"],[0.4444444444444444,\"#bd3786\"],[0.5555555555555556,\"#d8576b\"],[0.6666666666666666,\"#ed7953\"],[0.7777777777777778,\"#fb9f3a\"],[0.8888888888888888,\"#fdca26\"],[1.0,\"#f0f921\"]]}],\"choropleth\":[{\"type\":\"choropleth\",\"colorbar\":{\"outlinewidth\":0,\"ticks\":\"\"}}],\"histogram2d\":[{\"type\":\"histogram2d\",\"colorbar\":{\"outlinewidth\":0,\"ticks\":\"\"},\"colorscale\":[[0.0,\"#0d0887\"],[0.1111111111111111,\"#46039f\"],[0.2222222222222222,\"#7201a8\"],[0.3333333333333333,\"#9c179e\"],[0.4444444444444444,\"#bd3786\"],[0.5555555555555556,\"#d8576b\"],[0.6666666666666666,\"#ed7953\"],[0.7777777777777778,\"#fb9f3a\"],[0.8888888888888888,\"#fdca26\"],[1.0,\"#f0f921\"]]}],\"heatmap\":[{\"type\":\"heatmap\",\"colorbar\":{\"outlinewidth\":0,\"ticks\":\"\"},\"colorscale\":[[0.0,\"#0d0887\"],[0.1111111111111111,\"#46039f\"],[0.2222222222222222,\"#7201a8\"],[0.3333333333333333,\"#9c179e\"],[0.4444444444444444,\"#bd3786\"],[0.5555555555555556,\"#d8576b\"],[0.6666666666666666,\"#ed7953\"],[0.7777777777777778,\"#fb9f3a\"],[0.8888888888888888,\"#fdca26\"],[1.0,\"#f0f921\"]]}],\"heatmapgl\":[{\"type\":\"heatmapgl\",\"colorbar\":{\"outlinewidth\":0,\"ticks\":\"\"},\"colorscale\":[[0.0,\"#0d0887\"],[0.1111111111111111,\"#46039f\"],[0.2222222222222222,\"#7201a8\"],[0.3333333333333333,\"#9c179e\"],[0.4444444444444444,\"#bd3786\"],[0.5555555555555556,\"#d8576b\"],[0.6666666666666666,\"#ed7953\"],[0.7777777777777778,\"#fb9f3a\"],[0.8888888888888888,\"#fdca26\"],[1.0,\"#f0f921\"]]}],\"contourcarpet\":[{\"type\":\"contourcarpet\",\"colorbar\":{\"outlinewidth\":0,\"ticks\":\"\"}}],\"contour\":[{\"type\":\"contour\",\"colorbar\":{\"outlinewidth\":0,\"ticks\":\"\"},\"colorscale\":[[0.0,\"#0d0887\"],[0.1111111111111111,\"#46039f\"],[0.2222222222222222,\"#7201a8\"],[0.3333333333333333,\"#9c179e\"],[0.4444444444444444,\"#bd3786\"],[0.5555555555555556,\"#d8576b\"],[0.6666666666666666,\"#ed7953\"],[0.7777777777777778,\"#fb9f3a\"],[0.8888888888888888,\"#fdca26\"],[1.0,\"#f0f921\"]]}],\"surface\":[{\"type\":\"surface\",\"colorbar\":{\"outlinewidth\":0,\"ticks\":\"\"},\"colorscale\":[[0.0,\"#0d0887\"],[0.1111111111111111,\"#46039f\"],[0.2222222222222222,\"#7201a8\"],[0.3333333333333333,\"#9c179e\"],[0.4444444444444444,\"#bd3786\"],[0.5555555555555556,\"#d8576b\"],[0.6666666666666666,\"#ed7953\"],[0.7777777777777778,\"#fb9f3a\"],[0.8888888888888888,\"#fdca26\"],[1.0,\"#f0f921\"]]}],\"mesh3d\":[{\"type\":\"mesh3d\",\"colorbar\":{\"outlinewidth\":0,\"ticks\":\"\"}}],\"scatter\":[{\"fillpattern\":{\"fillmode\":\"overlay\",\"size\":10,\"solidity\":0.2},\"type\":\"scatter\"}],\"parcoords\":[{\"type\":\"parcoords\",\"line\":{\"colorbar\":{\"outlinewidth\":0,\"ticks\":\"\"}}}],\"scatterpolargl\":[{\"type\":\"scatterpolargl\",\"marker\":{\"colorbar\":{\"outlinewidth\":0,\"ticks\":\"\"}}}],\"bar\":[{\"error_x\":{\"color\":\"#2a3f5f\"},\"error_y\":{\"color\":\"#2a3f5f\"},\"marker\":{\"line\":{\"color\":\"#E5ECF6\",\"width\":0.5},\"pattern\":{\"fillmode\":\"overlay\",\"size\":10,\"solidity\":0.2}},\"type\":\"bar\"}],\"scattergeo\":[{\"type\":\"scattergeo\",\"marker\":{\"colorbar\":{\"outlinewidth\":0,\"ticks\":\"\"}}}],\"scatterpolar\":[{\"type\":\"scatterpolar\",\"marker\":{\"colorbar\":{\"outlinewidth\":0,\"ticks\":\"\"}}}],\"histogram\":[{\"marker\":{\"pattern\":{\"fillmode\":\"overlay\",\"size\":10,\"solidity\":0.2}},\"type\":\"histogram\"}],\"scattergl\":[{\"type\":\"scattergl\",\"marker\":{\"colorbar\":{\"outlinewidth\":0,\"ticks\":\"\"}}}],\"scatter3d\":[{\"type\":\"scatter3d\",\"line\":{\"colorbar\":{\"outlinewidth\":0,\"ticks\":\"\"}},\"marker\":{\"colorbar\":{\"outlinewidth\":0,\"ticks\":\"\"}}}],\"scattermapbox\":[{\"type\":\"scattermapbox\",\"marker\":{\"colorbar\":{\"outlinewidth\":0,\"ticks\":\"\"}}}],\"scatterternary\":[{\"type\":\"scatterternary\",\"marker\":{\"colorbar\":{\"outlinewidth\":0,\"ticks\":\"\"}}}],\"scattercarpet\":[{\"type\":\"scattercarpet\",\"marker\":{\"colorbar\":{\"outlinewidth\":0,\"ticks\":\"\"}}}],\"carpet\":[{\"aaxis\":{\"endlinecolor\":\"#2a3f5f\",\"gridcolor\":\"white\",\"linecolor\":\"white\",\"minorgridcolor\":\"white\",\"startlinecolor\":\"#2a3f5f\"},\"baxis\":{\"endlinecolor\":\"#2a3f5f\",\"gridcolor\":\"white\",\"linecolor\":\"white\",\"minorgridcolor\":\"white\",\"startlinecolor\":\"#2a3f5f\"},\"type\":\"carpet\"}],\"table\":[{\"cells\":{\"fill\":{\"color\":\"#EBF0F8\"},\"line\":{\"color\":\"white\"}},\"header\":{\"fill\":{\"color\":\"#C8D4E3\"},\"line\":{\"color\":\"white\"}},\"type\":\"table\"}],\"barpolar\":[{\"marker\":{\"line\":{\"color\":\"#E5ECF6\",\"width\":0.5},\"pattern\":{\"fillmode\":\"overlay\",\"size\":10,\"solidity\":0.2}},\"type\":\"barpolar\"}],\"pie\":[{\"automargin\":true,\"type\":\"pie\"}]},\"layout\":{\"autotypenumbers\":\"strict\",\"colorway\":[\"#636efa\",\"#EF553B\",\"#00cc96\",\"#ab63fa\",\"#FFA15A\",\"#19d3f3\",\"#FF6692\",\"#B6E880\",\"#FF97FF\",\"#FECB52\"],\"font\":{\"color\":\"#2a3f5f\"},\"hovermode\":\"closest\",\"hoverlabel\":{\"align\":\"left\"},\"paper_bgcolor\":\"white\",\"plot_bgcolor\":\"#E5ECF6\",\"polar\":{\"bgcolor\":\"#E5ECF6\",\"angularaxis\":{\"gridcolor\":\"white\",\"linecolor\":\"white\",\"ticks\":\"\"},\"radialaxis\":{\"gridcolor\":\"white\",\"linecolor\":\"white\",\"ticks\":\"\"}},\"ternary\":{\"bgcolor\":\"#E5ECF6\",\"aaxis\":{\"gridcolor\":\"white\",\"linecolor\":\"white\",\"ticks\":\"\"},\"baxis\":{\"gridcolor\":\"white\",\"linecolor\":\"white\",\"ticks\":\"\"},\"caxis\":{\"gridcolor\":\"white\",\"linecolor\":\"white\",\"ticks\":\"\"}},\"coloraxis\":{\"colorbar\":{\"outlinewidth\":0,\"ticks\":\"\"}},\"colorscale\":{\"sequential\":[[0.0,\"#0d0887\"],[0.1111111111111111,\"#46039f\"],[0.2222222222222222,\"#7201a8\"],[0.3333333333333333,\"#9c179e\"],[0.4444444444444444,\"#bd3786\"],[0.5555555555555556,\"#d8576b\"],[0.6666666666666666,\"#ed7953\"],[0.7777777777777778,\"#fb9f3a\"],[0.8888888888888888,\"#fdca26\"],[1.0,\"#f0f921\"]],\"sequentialminus\":[[0.0,\"#0d0887\"],[0.1111111111111111,\"#46039f\"],[0.2222222222222222,\"#7201a8\"],[0.3333333333333333,\"#9c179e\"],[0.4444444444444444,\"#bd3786\"],[0.5555555555555556,\"#d8576b\"],[0.6666666666666666,\"#ed7953\"],[0.7777777777777778,\"#fb9f3a\"],[0.8888888888888888,\"#fdca26\"],[1.0,\"#f0f921\"]],\"diverging\":[[0,\"#8e0152\"],[0.1,\"#c51b7d\"],[0.2,\"#de77ae\"],[0.3,\"#f1b6da\"],[0.4,\"#fde0ef\"],[0.5,\"#f7f7f7\"],[0.6,\"#e6f5d0\"],[0.7,\"#b8e186\"],[0.8,\"#7fbc41\"],[0.9,\"#4d9221\"],[1,\"#276419\"]]},\"xaxis\":{\"gridcolor\":\"white\",\"linecolor\":\"white\",\"ticks\":\"\",\"title\":{\"standoff\":15},\"zerolinecolor\":\"white\",\"automargin\":true,\"zerolinewidth\":2},\"yaxis\":{\"gridcolor\":\"white\",\"linecolor\":\"white\",\"ticks\":\"\",\"title\":{\"standoff\":15},\"zerolinecolor\":\"white\",\"automargin\":true,\"zerolinewidth\":2},\"scene\":{\"xaxis\":{\"backgroundcolor\":\"#E5ECF6\",\"gridcolor\":\"white\",\"linecolor\":\"white\",\"showbackground\":true,\"ticks\":\"\",\"zerolinecolor\":\"white\",\"gridwidth\":2},\"yaxis\":{\"backgroundcolor\":\"#E5ECF6\",\"gridcolor\":\"white\",\"linecolor\":\"white\",\"showbackground\":true,\"ticks\":\"\",\"zerolinecolor\":\"white\",\"gridwidth\":2},\"zaxis\":{\"backgroundcolor\":\"#E5ECF6\",\"gridcolor\":\"white\",\"linecolor\":\"white\",\"showbackground\":true,\"ticks\":\"\",\"zerolinecolor\":\"white\",\"gridwidth\":2}},\"shapedefaults\":{\"line\":{\"color\":\"#2a3f5f\"}},\"annotationdefaults\":{\"arrowcolor\":\"#2a3f5f\",\"arrowhead\":0,\"arrowwidth\":1},\"geo\":{\"bgcolor\":\"white\",\"landcolor\":\"#E5ECF6\",\"subunitcolor\":\"white\",\"showland\":true,\"showlakes\":true,\"lakecolor\":\"white\"},\"title\":{\"x\":0.05},\"mapbox\":{\"style\":\"light\"}}}},                        {\"responsive\": true}                    ).then(function(){\n                            \nvar gd = document.getElementById('808eac51-bdfe-45fd-ac6a-18312b2b714e');\nvar x = new MutationObserver(function (mutations, observer) {{\n        var display = window.getComputedStyle(gd).display;\n        if (!display || display === 'none') {{\n            console.log([gd, 'removed!']);\n            Plotly.purge(gd);\n            observer.disconnect();\n        }}\n}});\n\n// Listen for the removal of the full notebook cells\nvar notebookContainer = gd.closest('#notebook-container');\nif (notebookContainer) {{\n    x.observe(notebookContainer, {childList: true});\n}}\n\n// Listen for the clearing of the current output cell\nvar outputEl = gd.closest('.output');\nif (outputEl) {{\n    x.observe(outputEl, {childList: true});\n}}\n\n                        })                };                });            </script>        </div>"
     },
     "metadata": {},
     "output_type": "display_data"
    }
   ],
   "source": [
    "# 실험 기록 시각화\n",
    "optuna.visualization.plot_optimization_history(study)"
   ]
  },
  {
   "cell_type": "code",
   "execution_count": 120,
   "id": "efbf8f65",
   "metadata": {
    "scrolled": false,
    "colab": {
     "base_uri": "https://localhost:8080/",
     "height": 542
    },
    "id": "efbf8f65",
    "outputId": "7368048b-ad41-45ef-9350-cf7a16da295b"
   },
   "outputs": [
    {
     "data": {
      "application/vnd.plotly.v1+json": {
       "data": [
        {
         "cliponaxis": false,
         "hovertemplate": [
          "max_depth (IntDistribution): 0.004455562255676099<extra></extra>",
          "min_child_samples (IntDistribution): 0.005514039644949258<extra></extra>",
          "colsample_bytree (FloatDistribution): 0.008938963188723916<extra></extra>",
          "num_leaves (CategoricalDistribution): 0.028288194159132807<extra></extra>",
          "n_estimators (IntDistribution): 0.07542635731660462<extra></extra>",
          "learning_rate (FloatDistribution): 0.8773768834349134<extra></extra>"
         ],
         "marker": {
          "color": "rgb(66,146,198)"
         },
         "orientation": "h",
         "text": [
          "<0.01",
          "<0.01",
          "<0.01",
          "0.03",
          "0.08",
          "0.88"
         ],
         "textposition": "outside",
         "x": [
          0.004455562255676099,
          0.005514039644949258,
          0.008938963188723916,
          0.028288194159132807,
          0.07542635731660462,
          0.8773768834349134
         ],
         "y": [
          "max_depth",
          "min_child_samples",
          "colsample_bytree",
          "num_leaves",
          "n_estimators",
          "learning_rate"
         ],
         "type": "bar"
        }
       ],
       "layout": {
        "showlegend": false,
        "title": {
         "text": "Hyperparameter Importances"
        },
        "xaxis": {
         "title": {
          "text": "Importance for Objective Value"
         }
        },
        "yaxis": {
         "title": {
          "text": "Hyperparameter"
         }
        },
        "template": {
         "data": {
          "histogram2dcontour": [
           {
            "type": "histogram2dcontour",
            "colorbar": {
             "outlinewidth": 0,
             "ticks": ""
            },
            "colorscale": [
             [
              0.0,
              "#0d0887"
             ],
             [
              0.1111111111111111,
              "#46039f"
             ],
             [
              0.2222222222222222,
              "#7201a8"
             ],
             [
              0.3333333333333333,
              "#9c179e"
             ],
             [
              0.4444444444444444,
              "#bd3786"
             ],
             [
              0.5555555555555556,
              "#d8576b"
             ],
             [
              0.6666666666666666,
              "#ed7953"
             ],
             [
              0.7777777777777778,
              "#fb9f3a"
             ],
             [
              0.8888888888888888,
              "#fdca26"
             ],
             [
              1.0,
              "#f0f921"
             ]
            ]
           }
          ],
          "choropleth": [
           {
            "type": "choropleth",
            "colorbar": {
             "outlinewidth": 0,
             "ticks": ""
            }
           }
          ],
          "histogram2d": [
           {
            "type": "histogram2d",
            "colorbar": {
             "outlinewidth": 0,
             "ticks": ""
            },
            "colorscale": [
             [
              0.0,
              "#0d0887"
             ],
             [
              0.1111111111111111,
              "#46039f"
             ],
             [
              0.2222222222222222,
              "#7201a8"
             ],
             [
              0.3333333333333333,
              "#9c179e"
             ],
             [
              0.4444444444444444,
              "#bd3786"
             ],
             [
              0.5555555555555556,
              "#d8576b"
             ],
             [
              0.6666666666666666,
              "#ed7953"
             ],
             [
              0.7777777777777778,
              "#fb9f3a"
             ],
             [
              0.8888888888888888,
              "#fdca26"
             ],
             [
              1.0,
              "#f0f921"
             ]
            ]
           }
          ],
          "heatmap": [
           {
            "type": "heatmap",
            "colorbar": {
             "outlinewidth": 0,
             "ticks": ""
            },
            "colorscale": [
             [
              0.0,
              "#0d0887"
             ],
             [
              0.1111111111111111,
              "#46039f"
             ],
             [
              0.2222222222222222,
              "#7201a8"
             ],
             [
              0.3333333333333333,
              "#9c179e"
             ],
             [
              0.4444444444444444,
              "#bd3786"
             ],
             [
              0.5555555555555556,
              "#d8576b"
             ],
             [
              0.6666666666666666,
              "#ed7953"
             ],
             [
              0.7777777777777778,
              "#fb9f3a"
             ],
             [
              0.8888888888888888,
              "#fdca26"
             ],
             [
              1.0,
              "#f0f921"
             ]
            ]
           }
          ],
          "heatmapgl": [
           {
            "type": "heatmapgl",
            "colorbar": {
             "outlinewidth": 0,
             "ticks": ""
            },
            "colorscale": [
             [
              0.0,
              "#0d0887"
             ],
             [
              0.1111111111111111,
              "#46039f"
             ],
             [
              0.2222222222222222,
              "#7201a8"
             ],
             [
              0.3333333333333333,
              "#9c179e"
             ],
             [
              0.4444444444444444,
              "#bd3786"
             ],
             [
              0.5555555555555556,
              "#d8576b"
             ],
             [
              0.6666666666666666,
              "#ed7953"
             ],
             [
              0.7777777777777778,
              "#fb9f3a"
             ],
             [
              0.8888888888888888,
              "#fdca26"
             ],
             [
              1.0,
              "#f0f921"
             ]
            ]
           }
          ],
          "contourcarpet": [
           {
            "type": "contourcarpet",
            "colorbar": {
             "outlinewidth": 0,
             "ticks": ""
            }
           }
          ],
          "contour": [
           {
            "type": "contour",
            "colorbar": {
             "outlinewidth": 0,
             "ticks": ""
            },
            "colorscale": [
             [
              0.0,
              "#0d0887"
             ],
             [
              0.1111111111111111,
              "#46039f"
             ],
             [
              0.2222222222222222,
              "#7201a8"
             ],
             [
              0.3333333333333333,
              "#9c179e"
             ],
             [
              0.4444444444444444,
              "#bd3786"
             ],
             [
              0.5555555555555556,
              "#d8576b"
             ],
             [
              0.6666666666666666,
              "#ed7953"
             ],
             [
              0.7777777777777778,
              "#fb9f3a"
             ],
             [
              0.8888888888888888,
              "#fdca26"
             ],
             [
              1.0,
              "#f0f921"
             ]
            ]
           }
          ],
          "surface": [
           {
            "type": "surface",
            "colorbar": {
             "outlinewidth": 0,
             "ticks": ""
            },
            "colorscale": [
             [
              0.0,
              "#0d0887"
             ],
             [
              0.1111111111111111,
              "#46039f"
             ],
             [
              0.2222222222222222,
              "#7201a8"
             ],
             [
              0.3333333333333333,
              "#9c179e"
             ],
             [
              0.4444444444444444,
              "#bd3786"
             ],
             [
              0.5555555555555556,
              "#d8576b"
             ],
             [
              0.6666666666666666,
              "#ed7953"
             ],
             [
              0.7777777777777778,
              "#fb9f3a"
             ],
             [
              0.8888888888888888,
              "#fdca26"
             ],
             [
              1.0,
              "#f0f921"
             ]
            ]
           }
          ],
          "mesh3d": [
           {
            "type": "mesh3d",
            "colorbar": {
             "outlinewidth": 0,
             "ticks": ""
            }
           }
          ],
          "scatter": [
           {
            "fillpattern": {
             "fillmode": "overlay",
             "size": 10,
             "solidity": 0.2
            },
            "type": "scatter"
           }
          ],
          "parcoords": [
           {
            "type": "parcoords",
            "line": {
             "colorbar": {
              "outlinewidth": 0,
              "ticks": ""
             }
            }
           }
          ],
          "scatterpolargl": [
           {
            "type": "scatterpolargl",
            "marker": {
             "colorbar": {
              "outlinewidth": 0,
              "ticks": ""
             }
            }
           }
          ],
          "bar": [
           {
            "error_x": {
             "color": "#2a3f5f"
            },
            "error_y": {
             "color": "#2a3f5f"
            },
            "marker": {
             "line": {
              "color": "#E5ECF6",
              "width": 0.5
             },
             "pattern": {
              "fillmode": "overlay",
              "size": 10,
              "solidity": 0.2
             }
            },
            "type": "bar"
           }
          ],
          "scattergeo": [
           {
            "type": "scattergeo",
            "marker": {
             "colorbar": {
              "outlinewidth": 0,
              "ticks": ""
             }
            }
           }
          ],
          "scatterpolar": [
           {
            "type": "scatterpolar",
            "marker": {
             "colorbar": {
              "outlinewidth": 0,
              "ticks": ""
             }
            }
           }
          ],
          "histogram": [
           {
            "marker": {
             "pattern": {
              "fillmode": "overlay",
              "size": 10,
              "solidity": 0.2
             }
            },
            "type": "histogram"
           }
          ],
          "scattergl": [
           {
            "type": "scattergl",
            "marker": {
             "colorbar": {
              "outlinewidth": 0,
              "ticks": ""
             }
            }
           }
          ],
          "scatter3d": [
           {
            "type": "scatter3d",
            "line": {
             "colorbar": {
              "outlinewidth": 0,
              "ticks": ""
             }
            },
            "marker": {
             "colorbar": {
              "outlinewidth": 0,
              "ticks": ""
             }
            }
           }
          ],
          "scattermapbox": [
           {
            "type": "scattermapbox",
            "marker": {
             "colorbar": {
              "outlinewidth": 0,
              "ticks": ""
             }
            }
           }
          ],
          "scatterternary": [
           {
            "type": "scatterternary",
            "marker": {
             "colorbar": {
              "outlinewidth": 0,
              "ticks": ""
             }
            }
           }
          ],
          "scattercarpet": [
           {
            "type": "scattercarpet",
            "marker": {
             "colorbar": {
              "outlinewidth": 0,
              "ticks": ""
             }
            }
           }
          ],
          "carpet": [
           {
            "aaxis": {
             "endlinecolor": "#2a3f5f",
             "gridcolor": "white",
             "linecolor": "white",
             "minorgridcolor": "white",
             "startlinecolor": "#2a3f5f"
            },
            "baxis": {
             "endlinecolor": "#2a3f5f",
             "gridcolor": "white",
             "linecolor": "white",
             "minorgridcolor": "white",
             "startlinecolor": "#2a3f5f"
            },
            "type": "carpet"
           }
          ],
          "table": [
           {
            "cells": {
             "fill": {
              "color": "#EBF0F8"
             },
             "line": {
              "color": "white"
             }
            },
            "header": {
             "fill": {
              "color": "#C8D4E3"
             },
             "line": {
              "color": "white"
             }
            },
            "type": "table"
           }
          ],
          "barpolar": [
           {
            "marker": {
             "line": {
              "color": "#E5ECF6",
              "width": 0.5
             },
             "pattern": {
              "fillmode": "overlay",
              "size": 10,
              "solidity": 0.2
             }
            },
            "type": "barpolar"
           }
          ],
          "pie": [
           {
            "automargin": true,
            "type": "pie"
           }
          ]
         },
         "layout": {
          "autotypenumbers": "strict",
          "colorway": [
           "#636efa",
           "#EF553B",
           "#00cc96",
           "#ab63fa",
           "#FFA15A",
           "#19d3f3",
           "#FF6692",
           "#B6E880",
           "#FF97FF",
           "#FECB52"
          ],
          "font": {
           "color": "#2a3f5f"
          },
          "hovermode": "closest",
          "hoverlabel": {
           "align": "left"
          },
          "paper_bgcolor": "white",
          "plot_bgcolor": "#E5ECF6",
          "polar": {
           "bgcolor": "#E5ECF6",
           "angularaxis": {
            "gridcolor": "white",
            "linecolor": "white",
            "ticks": ""
           },
           "radialaxis": {
            "gridcolor": "white",
            "linecolor": "white",
            "ticks": ""
           }
          },
          "ternary": {
           "bgcolor": "#E5ECF6",
           "aaxis": {
            "gridcolor": "white",
            "linecolor": "white",
            "ticks": ""
           },
           "baxis": {
            "gridcolor": "white",
            "linecolor": "white",
            "ticks": ""
           },
           "caxis": {
            "gridcolor": "white",
            "linecolor": "white",
            "ticks": ""
           }
          },
          "coloraxis": {
           "colorbar": {
            "outlinewidth": 0,
            "ticks": ""
           }
          },
          "colorscale": {
           "sequential": [
            [
             0.0,
             "#0d0887"
            ],
            [
             0.1111111111111111,
             "#46039f"
            ],
            [
             0.2222222222222222,
             "#7201a8"
            ],
            [
             0.3333333333333333,
             "#9c179e"
            ],
            [
             0.4444444444444444,
             "#bd3786"
            ],
            [
             0.5555555555555556,
             "#d8576b"
            ],
            [
             0.6666666666666666,
             "#ed7953"
            ],
            [
             0.7777777777777778,
             "#fb9f3a"
            ],
            [
             0.8888888888888888,
             "#fdca26"
            ],
            [
             1.0,
             "#f0f921"
            ]
           ],
           "sequentialminus": [
            [
             0.0,
             "#0d0887"
            ],
            [
             0.1111111111111111,
             "#46039f"
            ],
            [
             0.2222222222222222,
             "#7201a8"
            ],
            [
             0.3333333333333333,
             "#9c179e"
            ],
            [
             0.4444444444444444,
             "#bd3786"
            ],
            [
             0.5555555555555556,
             "#d8576b"
            ],
            [
             0.6666666666666666,
             "#ed7953"
            ],
            [
             0.7777777777777778,
             "#fb9f3a"
            ],
            [
             0.8888888888888888,
             "#fdca26"
            ],
            [
             1.0,
             "#f0f921"
            ]
           ],
           "diverging": [
            [
             0,
             "#8e0152"
            ],
            [
             0.1,
             "#c51b7d"
            ],
            [
             0.2,
             "#de77ae"
            ],
            [
             0.3,
             "#f1b6da"
            ],
            [
             0.4,
             "#fde0ef"
            ],
            [
             0.5,
             "#f7f7f7"
            ],
            [
             0.6,
             "#e6f5d0"
            ],
            [
             0.7,
             "#b8e186"
            ],
            [
             0.8,
             "#7fbc41"
            ],
            [
             0.9,
             "#4d9221"
            ],
            [
             1,
             "#276419"
            ]
           ]
          },
          "xaxis": {
           "gridcolor": "white",
           "linecolor": "white",
           "ticks": "",
           "title": {
            "standoff": 15
           },
           "zerolinecolor": "white",
           "automargin": true,
           "zerolinewidth": 2
          },
          "yaxis": {
           "gridcolor": "white",
           "linecolor": "white",
           "ticks": "",
           "title": {
            "standoff": 15
           },
           "zerolinecolor": "white",
           "automargin": true,
           "zerolinewidth": 2
          },
          "scene": {
           "xaxis": {
            "backgroundcolor": "#E5ECF6",
            "gridcolor": "white",
            "linecolor": "white",
            "showbackground": true,
            "ticks": "",
            "zerolinecolor": "white",
            "gridwidth": 2
           },
           "yaxis": {
            "backgroundcolor": "#E5ECF6",
            "gridcolor": "white",
            "linecolor": "white",
            "showbackground": true,
            "ticks": "",
            "zerolinecolor": "white",
            "gridwidth": 2
           },
           "zaxis": {
            "backgroundcolor": "#E5ECF6",
            "gridcolor": "white",
            "linecolor": "white",
            "showbackground": true,
            "ticks": "",
            "zerolinecolor": "white",
            "gridwidth": 2
           }
          },
          "shapedefaults": {
           "line": {
            "color": "#2a3f5f"
           }
          },
          "annotationdefaults": {
           "arrowcolor": "#2a3f5f",
           "arrowhead": 0,
           "arrowwidth": 1
          },
          "geo": {
           "bgcolor": "white",
           "landcolor": "#E5ECF6",
           "subunitcolor": "white",
           "showland": true,
           "showlakes": true,
           "lakecolor": "white"
          },
          "title": {
           "x": 0.05
          },
          "mapbox": {
           "style": "light"
          }
         }
        }
       },
       "config": {
        "plotlyServerURL": "https://plotly.com"
       }
      },
      "text/html": "<div>                            <div id=\"bcd1fe18-3458-4d9b-b5d0-3742f076cc1a\" class=\"plotly-graph-div\" style=\"height:525px; width:100%;\"></div>            <script type=\"text/javascript\">                require([\"plotly\"], function(Plotly) {                    window.PLOTLYENV=window.PLOTLYENV || {};                                    if (document.getElementById(\"bcd1fe18-3458-4d9b-b5d0-3742f076cc1a\")) {                    Plotly.newPlot(                        \"bcd1fe18-3458-4d9b-b5d0-3742f076cc1a\",                        [{\"cliponaxis\":false,\"hovertemplate\":[\"max_depth (IntDistribution): 0.004455562255676099<extra></extra>\",\"min_child_samples (IntDistribution): 0.005514039644949258<extra></extra>\",\"colsample_bytree (FloatDistribution): 0.008938963188723916<extra></extra>\",\"num_leaves (CategoricalDistribution): 0.028288194159132807<extra></extra>\",\"n_estimators (IntDistribution): 0.07542635731660462<extra></extra>\",\"learning_rate (FloatDistribution): 0.8773768834349134<extra></extra>\"],\"marker\":{\"color\":\"rgb(66,146,198)\"},\"orientation\":\"h\",\"text\":[\"<0.01\",\"<0.01\",\"<0.01\",\"0.03\",\"0.08\",\"0.88\"],\"textposition\":\"outside\",\"x\":[0.004455562255676099,0.005514039644949258,0.008938963188723916,0.028288194159132807,0.07542635731660462,0.8773768834349134],\"y\":[\"max_depth\",\"min_child_samples\",\"colsample_bytree\",\"num_leaves\",\"n_estimators\",\"learning_rate\"],\"type\":\"bar\"}],                        {\"showlegend\":false,\"title\":{\"text\":\"Hyperparameter Importances\"},\"xaxis\":{\"title\":{\"text\":\"Importance for Objective Value\"}},\"yaxis\":{\"title\":{\"text\":\"Hyperparameter\"}},\"template\":{\"data\":{\"histogram2dcontour\":[{\"type\":\"histogram2dcontour\",\"colorbar\":{\"outlinewidth\":0,\"ticks\":\"\"},\"colorscale\":[[0.0,\"#0d0887\"],[0.1111111111111111,\"#46039f\"],[0.2222222222222222,\"#7201a8\"],[0.3333333333333333,\"#9c179e\"],[0.4444444444444444,\"#bd3786\"],[0.5555555555555556,\"#d8576b\"],[0.6666666666666666,\"#ed7953\"],[0.7777777777777778,\"#fb9f3a\"],[0.8888888888888888,\"#fdca26\"],[1.0,\"#f0f921\"]]}],\"choropleth\":[{\"type\":\"choropleth\",\"colorbar\":{\"outlinewidth\":0,\"ticks\":\"\"}}],\"histogram2d\":[{\"type\":\"histogram2d\",\"colorbar\":{\"outlinewidth\":0,\"ticks\":\"\"},\"colorscale\":[[0.0,\"#0d0887\"],[0.1111111111111111,\"#46039f\"],[0.2222222222222222,\"#7201a8\"],[0.3333333333333333,\"#9c179e\"],[0.4444444444444444,\"#bd3786\"],[0.5555555555555556,\"#d8576b\"],[0.6666666666666666,\"#ed7953\"],[0.7777777777777778,\"#fb9f3a\"],[0.8888888888888888,\"#fdca26\"],[1.0,\"#f0f921\"]]}],\"heatmap\":[{\"type\":\"heatmap\",\"colorbar\":{\"outlinewidth\":0,\"ticks\":\"\"},\"colorscale\":[[0.0,\"#0d0887\"],[0.1111111111111111,\"#46039f\"],[0.2222222222222222,\"#7201a8\"],[0.3333333333333333,\"#9c179e\"],[0.4444444444444444,\"#bd3786\"],[0.5555555555555556,\"#d8576b\"],[0.6666666666666666,\"#ed7953\"],[0.7777777777777778,\"#fb9f3a\"],[0.8888888888888888,\"#fdca26\"],[1.0,\"#f0f921\"]]}],\"heatmapgl\":[{\"type\":\"heatmapgl\",\"colorbar\":{\"outlinewidth\":0,\"ticks\":\"\"},\"colorscale\":[[0.0,\"#0d0887\"],[0.1111111111111111,\"#46039f\"],[0.2222222222222222,\"#7201a8\"],[0.3333333333333333,\"#9c179e\"],[0.4444444444444444,\"#bd3786\"],[0.5555555555555556,\"#d8576b\"],[0.6666666666666666,\"#ed7953\"],[0.7777777777777778,\"#fb9f3a\"],[0.8888888888888888,\"#fdca26\"],[1.0,\"#f0f921\"]]}],\"contourcarpet\":[{\"type\":\"contourcarpet\",\"colorbar\":{\"outlinewidth\":0,\"ticks\":\"\"}}],\"contour\":[{\"type\":\"contour\",\"colorbar\":{\"outlinewidth\":0,\"ticks\":\"\"},\"colorscale\":[[0.0,\"#0d0887\"],[0.1111111111111111,\"#46039f\"],[0.2222222222222222,\"#7201a8\"],[0.3333333333333333,\"#9c179e\"],[0.4444444444444444,\"#bd3786\"],[0.5555555555555556,\"#d8576b\"],[0.6666666666666666,\"#ed7953\"],[0.7777777777777778,\"#fb9f3a\"],[0.8888888888888888,\"#fdca26\"],[1.0,\"#f0f921\"]]}],\"surface\":[{\"type\":\"surface\",\"colorbar\":{\"outlinewidth\":0,\"ticks\":\"\"},\"colorscale\":[[0.0,\"#0d0887\"],[0.1111111111111111,\"#46039f\"],[0.2222222222222222,\"#7201a8\"],[0.3333333333333333,\"#9c179e\"],[0.4444444444444444,\"#bd3786\"],[0.5555555555555556,\"#d8576b\"],[0.6666666666666666,\"#ed7953\"],[0.7777777777777778,\"#fb9f3a\"],[0.8888888888888888,\"#fdca26\"],[1.0,\"#f0f921\"]]}],\"mesh3d\":[{\"type\":\"mesh3d\",\"colorbar\":{\"outlinewidth\":0,\"ticks\":\"\"}}],\"scatter\":[{\"fillpattern\":{\"fillmode\":\"overlay\",\"size\":10,\"solidity\":0.2},\"type\":\"scatter\"}],\"parcoords\":[{\"type\":\"parcoords\",\"line\":{\"colorbar\":{\"outlinewidth\":0,\"ticks\":\"\"}}}],\"scatterpolargl\":[{\"type\":\"scatterpolargl\",\"marker\":{\"colorbar\":{\"outlinewidth\":0,\"ticks\":\"\"}}}],\"bar\":[{\"error_x\":{\"color\":\"#2a3f5f\"},\"error_y\":{\"color\":\"#2a3f5f\"},\"marker\":{\"line\":{\"color\":\"#E5ECF6\",\"width\":0.5},\"pattern\":{\"fillmode\":\"overlay\",\"size\":10,\"solidity\":0.2}},\"type\":\"bar\"}],\"scattergeo\":[{\"type\":\"scattergeo\",\"marker\":{\"colorbar\":{\"outlinewidth\":0,\"ticks\":\"\"}}}],\"scatterpolar\":[{\"type\":\"scatterpolar\",\"marker\":{\"colorbar\":{\"outlinewidth\":0,\"ticks\":\"\"}}}],\"histogram\":[{\"marker\":{\"pattern\":{\"fillmode\":\"overlay\",\"size\":10,\"solidity\":0.2}},\"type\":\"histogram\"}],\"scattergl\":[{\"type\":\"scattergl\",\"marker\":{\"colorbar\":{\"outlinewidth\":0,\"ticks\":\"\"}}}],\"scatter3d\":[{\"type\":\"scatter3d\",\"line\":{\"colorbar\":{\"outlinewidth\":0,\"ticks\":\"\"}},\"marker\":{\"colorbar\":{\"outlinewidth\":0,\"ticks\":\"\"}}}],\"scattermapbox\":[{\"type\":\"scattermapbox\",\"marker\":{\"colorbar\":{\"outlinewidth\":0,\"ticks\":\"\"}}}],\"scatterternary\":[{\"type\":\"scatterternary\",\"marker\":{\"colorbar\":{\"outlinewidth\":0,\"ticks\":\"\"}}}],\"scattercarpet\":[{\"type\":\"scattercarpet\",\"marker\":{\"colorbar\":{\"outlinewidth\":0,\"ticks\":\"\"}}}],\"carpet\":[{\"aaxis\":{\"endlinecolor\":\"#2a3f5f\",\"gridcolor\":\"white\",\"linecolor\":\"white\",\"minorgridcolor\":\"white\",\"startlinecolor\":\"#2a3f5f\"},\"baxis\":{\"endlinecolor\":\"#2a3f5f\",\"gridcolor\":\"white\",\"linecolor\":\"white\",\"minorgridcolor\":\"white\",\"startlinecolor\":\"#2a3f5f\"},\"type\":\"carpet\"}],\"table\":[{\"cells\":{\"fill\":{\"color\":\"#EBF0F8\"},\"line\":{\"color\":\"white\"}},\"header\":{\"fill\":{\"color\":\"#C8D4E3\"},\"line\":{\"color\":\"white\"}},\"type\":\"table\"}],\"barpolar\":[{\"marker\":{\"line\":{\"color\":\"#E5ECF6\",\"width\":0.5},\"pattern\":{\"fillmode\":\"overlay\",\"size\":10,\"solidity\":0.2}},\"type\":\"barpolar\"}],\"pie\":[{\"automargin\":true,\"type\":\"pie\"}]},\"layout\":{\"autotypenumbers\":\"strict\",\"colorway\":[\"#636efa\",\"#EF553B\",\"#00cc96\",\"#ab63fa\",\"#FFA15A\",\"#19d3f3\",\"#FF6692\",\"#B6E880\",\"#FF97FF\",\"#FECB52\"],\"font\":{\"color\":\"#2a3f5f\"},\"hovermode\":\"closest\",\"hoverlabel\":{\"align\":\"left\"},\"paper_bgcolor\":\"white\",\"plot_bgcolor\":\"#E5ECF6\",\"polar\":{\"bgcolor\":\"#E5ECF6\",\"angularaxis\":{\"gridcolor\":\"white\",\"linecolor\":\"white\",\"ticks\":\"\"},\"radialaxis\":{\"gridcolor\":\"white\",\"linecolor\":\"white\",\"ticks\":\"\"}},\"ternary\":{\"bgcolor\":\"#E5ECF6\",\"aaxis\":{\"gridcolor\":\"white\",\"linecolor\":\"white\",\"ticks\":\"\"},\"baxis\":{\"gridcolor\":\"white\",\"linecolor\":\"white\",\"ticks\":\"\"},\"caxis\":{\"gridcolor\":\"white\",\"linecolor\":\"white\",\"ticks\":\"\"}},\"coloraxis\":{\"colorbar\":{\"outlinewidth\":0,\"ticks\":\"\"}},\"colorscale\":{\"sequential\":[[0.0,\"#0d0887\"],[0.1111111111111111,\"#46039f\"],[0.2222222222222222,\"#7201a8\"],[0.3333333333333333,\"#9c179e\"],[0.4444444444444444,\"#bd3786\"],[0.5555555555555556,\"#d8576b\"],[0.6666666666666666,\"#ed7953\"],[0.7777777777777778,\"#fb9f3a\"],[0.8888888888888888,\"#fdca26\"],[1.0,\"#f0f921\"]],\"sequentialminus\":[[0.0,\"#0d0887\"],[0.1111111111111111,\"#46039f\"],[0.2222222222222222,\"#7201a8\"],[0.3333333333333333,\"#9c179e\"],[0.4444444444444444,\"#bd3786\"],[0.5555555555555556,\"#d8576b\"],[0.6666666666666666,\"#ed7953\"],[0.7777777777777778,\"#fb9f3a\"],[0.8888888888888888,\"#fdca26\"],[1.0,\"#f0f921\"]],\"diverging\":[[0,\"#8e0152\"],[0.1,\"#c51b7d\"],[0.2,\"#de77ae\"],[0.3,\"#f1b6da\"],[0.4,\"#fde0ef\"],[0.5,\"#f7f7f7\"],[0.6,\"#e6f5d0\"],[0.7,\"#b8e186\"],[0.8,\"#7fbc41\"],[0.9,\"#4d9221\"],[1,\"#276419\"]]},\"xaxis\":{\"gridcolor\":\"white\",\"linecolor\":\"white\",\"ticks\":\"\",\"title\":{\"standoff\":15},\"zerolinecolor\":\"white\",\"automargin\":true,\"zerolinewidth\":2},\"yaxis\":{\"gridcolor\":\"white\",\"linecolor\":\"white\",\"ticks\":\"\",\"title\":{\"standoff\":15},\"zerolinecolor\":\"white\",\"automargin\":true,\"zerolinewidth\":2},\"scene\":{\"xaxis\":{\"backgroundcolor\":\"#E5ECF6\",\"gridcolor\":\"white\",\"linecolor\":\"white\",\"showbackground\":true,\"ticks\":\"\",\"zerolinecolor\":\"white\",\"gridwidth\":2},\"yaxis\":{\"backgroundcolor\":\"#E5ECF6\",\"gridcolor\":\"white\",\"linecolor\":\"white\",\"showbackground\":true,\"ticks\":\"\",\"zerolinecolor\":\"white\",\"gridwidth\":2},\"zaxis\":{\"backgroundcolor\":\"#E5ECF6\",\"gridcolor\":\"white\",\"linecolor\":\"white\",\"showbackground\":true,\"ticks\":\"\",\"zerolinecolor\":\"white\",\"gridwidth\":2}},\"shapedefaults\":{\"line\":{\"color\":\"#2a3f5f\"}},\"annotationdefaults\":{\"arrowcolor\":\"#2a3f5f\",\"arrowhead\":0,\"arrowwidth\":1},\"geo\":{\"bgcolor\":\"white\",\"landcolor\":\"#E5ECF6\",\"subunitcolor\":\"white\",\"showland\":true,\"showlakes\":true,\"lakecolor\":\"white\"},\"title\":{\"x\":0.05},\"mapbox\":{\"style\":\"light\"}}}},                        {\"responsive\": true}                    ).then(function(){\n                            \nvar gd = document.getElementById('bcd1fe18-3458-4d9b-b5d0-3742f076cc1a');\nvar x = new MutationObserver(function (mutations, observer) {{\n        var display = window.getComputedStyle(gd).display;\n        if (!display || display === 'none') {{\n            console.log([gd, 'removed!']);\n            Plotly.purge(gd);\n            observer.disconnect();\n        }}\n}});\n\n// Listen for the removal of the full notebook cells\nvar notebookContainer = gd.closest('#notebook-container');\nif (notebookContainer) {{\n    x.observe(notebookContainer, {childList: true});\n}}\n\n// Listen for the clearing of the current output cell\nvar outputEl = gd.closest('.output');\nif (outputEl) {{\n    x.observe(outputEl, {childList: true});\n}}\n\n                        })                };                });            </script>        </div>"
     },
     "metadata": {},
     "output_type": "display_data"
    }
   ],
   "source": [
    "# hyper-parameter들의 중요도\n",
    "optuna.visualization.plot_param_importances(study)"
   ]
  },
  {
   "cell_type": "markdown",
   "id": "24b360ec",
   "metadata": {
    "id": "24b360ec"
   },
   "source": [
    "### 7. 테스트 및 제출 파일 생성"
   ]
  },
  {
   "cell_type": "code",
   "source": [
    "# Make KFold OOF prediction\n",
    "def oof_preds(best_model):\n",
    "\n",
    "    # make KFold\n",
    "    folds = StratifiedKFold(n_splits=K, random_state=61, shuffle=True)\n",
    "    final_preds = []\n",
    "    losses = []\n",
    "    oof = np.full(len(X), np.nan)\n",
    "    # fitting with best_model\n",
    "    for i, (train_idx, val_idx) in enumerate(folds.split(X, y)):\n",
    "        X_train = X.iloc[train_idx, :]\n",
    "        y_train = y.iloc[train_idx]\n",
    "        X_val = X.iloc[val_idx, :]\n",
    "        y_val = y.iloc[val_idx]\n",
    "\n",
    "        print(f\"========== Fold {i+1} ==========\")\n",
    "        best_model.fit(X_train, y_train)\n",
    "        preds = best_model.predict_proba(X_val)[:, 1]\n",
    "        oof[val_idx] = preds\n",
    "        test_preds = best_model.predict_proba(test)[:, 1]\n",
    "        final_preds.append(test_preds)\n",
    "        loss = evaluation_metric(y_val, preds)\n",
    "\n",
    "        losses.append(loss)\n",
    "\n",
    "    avg_loss = np.mean(losses)\n",
    "    print(f\"Loss : {avg_loss:.4f}\")\n",
    "    return final_preds, oof"
   ],
   "metadata": {
    "id": "vbGPA_pvtJXf"
   },
   "id": "vbGPA_pvtJXf",
   "execution_count": 121,
   "outputs": []
  },
  {
   "cell_type": "code",
   "source": [
    "test.info() # 결측치 없음."
   ],
   "metadata": {
    "colab": {
     "base_uri": "https://localhost:8080/"
    },
    "id": "xWEElxsC7Gfl",
    "outputId": "f9f39b1c-fde5-47e7-e5b1-bbc0094e9cb0"
   },
   "id": "xWEElxsC7Gfl",
   "execution_count": 122,
   "outputs": [
    {
     "name": "stdout",
     "output_type": "stream",
     "text": [
      "<class 'pandas.core.frame.DataFrame'>\n",
      "Index: 67842 entries, 101763 to 169604\n",
      "Data columns (total 22 columns):\n",
      " #   Column             Non-Null Count  Dtype   \n",
      "---  ------             --------------  -----   \n",
      " 0   loc                67842 non-null  float64 \n",
      " 1   v(g)               67842 non-null  float64 \n",
      " 2   ev(g)              67842 non-null  float64 \n",
      " 3   iv(g)              67842 non-null  float64 \n",
      " 4   v                  67842 non-null  float64 \n",
      " 5   d                  67842 non-null  float64 \n",
      " 6   i                  67842 non-null  float64 \n",
      " 7   e                  67842 non-null  float64 \n",
      " 8   b                  67842 non-null  float64 \n",
      " 9   t                  67842 non-null  float64 \n",
      " 10  lOCode             67842 non-null  int64   \n",
      " 11  lOComment          67842 non-null  int64   \n",
      " 12  locCodeAndComment  67842 non-null  int64   \n",
      " 13  uniq_Op            67842 non-null  float64 \n",
      " 14  uniq_Opnd          67842 non-null  float64 \n",
      " 15  lOBlank_n          67842 non-null  category\n",
      " 16  n_n                67842 non-null  category\n",
      " 17  branchCount_n      67842 non-null  category\n",
      " 18  l_n                67842 non-null  category\n",
      " 19  total_Op_n         67842 non-null  category\n",
      " 20  total_Opnd_n       67842 non-null  category\n",
      " 21  outlier_count      67842 non-null  category\n",
      "dtypes: category(7), float64(12), int64(3)\n",
      "memory usage: 8.7 MB\n"
     ]
    }
   ]
  },
  {
   "cell_type": "code",
   "execution_count": 123,
   "id": "b6787765",
   "metadata": {
    "id": "b6787765",
    "colab": {
     "base_uri": "https://localhost:8080/",
     "height": 496
    },
    "outputId": "2876cc07-2f84-46b9-a06f-8058a88c1c59"
   },
   "outputs": [],
   "source": [
    "## X_test 만들기 : 앞서했던 전처리를 동일하게 적용해주면 됨.\n"
   ]
  },
  {
   "cell_type": "code",
   "execution_count": 124,
   "id": "a0daf54e",
   "metadata": {
    "id": "a0daf54e",
    "colab": {
     "base_uri": "https://localhost:8080/"
    },
    "outputId": "90168fcf-9c4d-4a37-a83c-45ed45ba9997"
   },
   "outputs": [
    {
     "name": "stdout",
     "output_type": "stream",
     "text": [
      "========== Fold 1 ==========\n",
      "========== Fold 2 ==========\n",
      "========== Fold 3 ==========\n",
      "========== Fold 4 ==========\n",
      "========== Fold 5 ==========\n",
      "Loss : 0.7914\n"
     ]
    },
    {
     "data": {
      "text/plain": "array([0.26603909, 0.21272493, 0.67021534, ..., 0.16518349, 0.10858143,\n       0.80623079])"
     },
     "execution_count": 124,
     "metadata": {},
     "output_type": "execute_result"
    }
   ],
   "source": [
    "best_params = study.best_trial.params\n",
    "\n",
    "# define best model\n",
    "best_model = LGBMClassifier(**best_params, random_state=61)\n",
    "\n",
    "# model finalization : 가장 일반적으로 좋은 예측 성능을 냈던 모델로, 전체 데이터 트레이닝.\n",
    "\n",
    "preds, oof = oof_preds(best_model)\n",
    "preds = np.mean(preds, axis=0)\n",
    "preds # 0.7913"
   ]
  },
  {
   "cell_type": "code",
   "execution_count": 125,
   "id": "8ff2070c",
   "metadata": {
    "id": "8ff2070c"
   },
   "outputs": [],
   "source": [
    "submission['defects'] = preds"
   ]
  },
  {
   "cell_type": "code",
   "execution_count": 126,
   "id": "55a2c13f",
   "metadata": {
    "id": "55a2c13f"
   },
   "outputs": [],
   "source": [
    "submission.to_csv(base_path+'preds/lightgbm.csv')"
   ]
  },
  {
   "cell_type": "code",
   "source": [
    "oof_df = pd.DataFrame({\n",
    "    'lightgbm_oof': oof\n",
    "})\n",
    "oof_df.head()"
   ],
   "metadata": {
    "id": "QIgSFAdJ8oRh"
   },
   "id": "QIgSFAdJ8oRh",
   "execution_count": 127,
   "outputs": [
    {
     "data": {
      "text/plain": "   lightgbm_oof\n0      0.084921\n1      0.057131\n2      0.048797\n3      0.096845\n4      0.108230",
      "text/html": "<div>\n<style scoped>\n    .dataframe tbody tr th:only-of-type {\n        vertical-align: middle;\n    }\n\n    .dataframe tbody tr th {\n        vertical-align: top;\n    }\n\n    .dataframe thead th {\n        text-align: right;\n    }\n</style>\n<table border=\"1\" class=\"dataframe\">\n  <thead>\n    <tr style=\"text-align: right;\">\n      <th></th>\n      <th>lightgbm_oof</th>\n    </tr>\n  </thead>\n  <tbody>\n    <tr>\n      <th>0</th>\n      <td>0.084921</td>\n    </tr>\n    <tr>\n      <th>1</th>\n      <td>0.057131</td>\n    </tr>\n    <tr>\n      <th>2</th>\n      <td>0.048797</td>\n    </tr>\n    <tr>\n      <th>3</th>\n      <td>0.096845</td>\n    </tr>\n    <tr>\n      <th>4</th>\n      <td>0.108230</td>\n    </tr>\n  </tbody>\n</table>\n</div>"
     },
     "execution_count": 127,
     "metadata": {},
     "output_type": "execute_result"
    }
   ]
  },
  {
   "cell_type": "code",
   "execution_count": 128,
   "outputs": [],
   "source": [
    "oof_df.to_csv(base_path+'oof/lightgbm.csv',index_label='id', header=['lightgbm_oof'])"
   ],
   "metadata": {
    "collapsed": false,
    "pycharm": {
     "name": "#%%\n"
    }
   }
  },
  {
   "cell_type": "code",
   "execution_count": 129,
   "outputs": [
    {
     "data": {
      "text/plain": "    importance             column\n0          544                loc\n6          324                  i\n5          303                  d\n13         267            uniq_Op\n14         248          uniq_Opnd\n4          236                  v\n10         227             lOCode\n1          203               v(g)\n9          191                  t\n7          181                  e\n2          155              ev(g)\n11         143          lOComment\n3          138              iv(g)\n15         110          lOBlank_n\n8          108                  b\n12         103  locCodeAndComment\n17          32      branchCount_n\n21          25      outlier_count\n19          16         total_Op_n\n20           9       total_Opnd_n\n16           2                n_n\n18           0                l_n",
      "text/html": "<div>\n<style scoped>\n    .dataframe tbody tr th:only-of-type {\n        vertical-align: middle;\n    }\n\n    .dataframe tbody tr th {\n        vertical-align: top;\n    }\n\n    .dataframe thead th {\n        text-align: right;\n    }\n</style>\n<table border=\"1\" class=\"dataframe\">\n  <thead>\n    <tr style=\"text-align: right;\">\n      <th></th>\n      <th>importance</th>\n      <th>column</th>\n    </tr>\n  </thead>\n  <tbody>\n    <tr>\n      <th>0</th>\n      <td>544</td>\n      <td>loc</td>\n    </tr>\n    <tr>\n      <th>6</th>\n      <td>324</td>\n      <td>i</td>\n    </tr>\n    <tr>\n      <th>5</th>\n      <td>303</td>\n      <td>d</td>\n    </tr>\n    <tr>\n      <th>13</th>\n      <td>267</td>\n      <td>uniq_Op</td>\n    </tr>\n    <tr>\n      <th>14</th>\n      <td>248</td>\n      <td>uniq_Opnd</td>\n    </tr>\n    <tr>\n      <th>4</th>\n      <td>236</td>\n      <td>v</td>\n    </tr>\n    <tr>\n      <th>10</th>\n      <td>227</td>\n      <td>lOCode</td>\n    </tr>\n    <tr>\n      <th>1</th>\n      <td>203</td>\n      <td>v(g)</td>\n    </tr>\n    <tr>\n      <th>9</th>\n      <td>191</td>\n      <td>t</td>\n    </tr>\n    <tr>\n      <th>7</th>\n      <td>181</td>\n      <td>e</td>\n    </tr>\n    <tr>\n      <th>2</th>\n      <td>155</td>\n      <td>ev(g)</td>\n    </tr>\n    <tr>\n      <th>11</th>\n      <td>143</td>\n      <td>lOComment</td>\n    </tr>\n    <tr>\n      <th>3</th>\n      <td>138</td>\n      <td>iv(g)</td>\n    </tr>\n    <tr>\n      <th>15</th>\n      <td>110</td>\n      <td>lOBlank_n</td>\n    </tr>\n    <tr>\n      <th>8</th>\n      <td>108</td>\n      <td>b</td>\n    </tr>\n    <tr>\n      <th>12</th>\n      <td>103</td>\n      <td>locCodeAndComment</td>\n    </tr>\n    <tr>\n      <th>17</th>\n      <td>32</td>\n      <td>branchCount_n</td>\n    </tr>\n    <tr>\n      <th>21</th>\n      <td>25</td>\n      <td>outlier_count</td>\n    </tr>\n    <tr>\n      <th>19</th>\n      <td>16</td>\n      <td>total_Op_n</td>\n    </tr>\n    <tr>\n      <th>20</th>\n      <td>9</td>\n      <td>total_Opnd_n</td>\n    </tr>\n    <tr>\n      <th>16</th>\n      <td>2</td>\n      <td>n_n</td>\n    </tr>\n    <tr>\n      <th>18</th>\n      <td>0</td>\n      <td>l_n</td>\n    </tr>\n  </tbody>\n</table>\n</div>"
     },
     "execution_count": 129,
     "metadata": {},
     "output_type": "execute_result"
    }
   ],
   "source": [
    "pd.DataFrame({'importance':best_model.feature_importances_,'column':test.columns}).sort_values(by='importance', ascending=False)"
   ],
   "metadata": {
    "collapsed": false,
    "pycharm": {
     "name": "#%%\n"
    }
   }
  },
  {
   "cell_type": "code",
   "execution_count": 129,
   "outputs": [],
   "source": [],
   "metadata": {
    "collapsed": false,
    "pycharm": {
     "name": "#%%\n"
    }
   }
  }
 ],
 "metadata": {
  "kernelspec": {
   "display_name": "Python 3 (ipykernel)",
   "language": "python",
   "name": "python3"
  },
  "language_info": {
   "codemirror_mode": {
    "name": "ipython",
    "version": 3
   },
   "file_extension": ".py",
   "mimetype": "text/x-python",
   "name": "python",
   "nbconvert_exporter": "python",
   "pygments_lexer": "ipython3",
   "version": "3.10.1"
  },
  "colab": {
   "provenance": []
  }
 },
 "nbformat": 4,
 "nbformat_minor": 5
}