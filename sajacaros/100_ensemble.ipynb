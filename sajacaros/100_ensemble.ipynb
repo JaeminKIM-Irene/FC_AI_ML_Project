{
 "cells": [
  {
   "cell_type": "code",
   "execution_count": 1,
   "metadata": {
    "collapsed": true
   },
   "outputs": [],
   "source": [
    "import pandas as pd\n",
    "data_path='../data/'\n",
    "submission_df = (\n",
    "                        pd.read_csv(data_path+'submission_ambrosm.csv', index_col='id')\n",
    "                        + pd.read_csv(data_path+'submission_xgboost_kfold.csv',index_col='id')\n",
    "                        + pd.read_csv(data_path+'submission_lightgbm_kfold.csv',index_col='id')\n",
    "                )/3\n",
    "submission_df.to_csv(data_path+'submission_all.csv')"
   ]
  },
  {
   "cell_type": "code",
   "execution_count": null,
   "outputs": [],
   "source": [],
   "metadata": {
    "collapsed": false,
    "pycharm": {
     "name": "#%%\n"
    }
   }
  }
 ],
 "metadata": {
  "kernelspec": {
   "display_name": "Python 3",
   "language": "python",
   "name": "python3"
  },
  "language_info": {
   "codemirror_mode": {
    "name": "ipython",
    "version": 2
   },
   "file_extension": ".py",
   "mimetype": "text/x-python",
   "name": "python",
   "nbconvert_exporter": "python",
   "pygments_lexer": "ipython2",
   "version": "2.7.6"
  }
 },
 "nbformat": 4,
 "nbformat_minor": 0
}