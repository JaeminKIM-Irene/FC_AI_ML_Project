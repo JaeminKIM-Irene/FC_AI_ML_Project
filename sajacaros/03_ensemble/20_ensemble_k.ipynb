{
 "cells": [
  {
   "cell_type": "code",
   "execution_count": 10,
   "outputs": [],
   "source": [
    "# 각 알고리즘 별 oof를 수집하여 Ridge를 이용하여 weight를 추출\n",
    "# Voting model을 구성하여 위에서 구한 weight기반하여 결과 추출"
   ],
   "metadata": {
    "collapsed": false,
    "pycharm": {
     "name": "#%%\n"
    }
   }
  },
  {
   "cell_type": "code",
   "execution_count": 21,
   "metadata": {
    "collapsed": true
   },
   "outputs": [],
   "source": [
    "import pandas as pd\n",
    "import numpy as np\n",
    "import seaborn as sns\n",
    "import matplotlib.pyplot as plt"
   ]
  },
  {
   "cell_type": "code",
   "execution_count": 12,
   "outputs": [],
   "source": [
    "from sklearn.neural_network import MLPClassifier\n",
    "from sklearn.calibration import CalibratedClassifierCV\n",
    "from lightgbm import LGBMClassifier\n",
    "from sklearn.metrics import roc_auc_score\n",
    "from xgboost import XGBClassifier\n",
    "from sklearn.neighbors import KNeighborsClassifier\n",
    "from sklearn.ensemble import ExtraTreesClassifier, RandomForestClassifier, HistGradientBoostingClassifier\n",
    "from sklearn.kernel_approximation import Nystroem\n",
    "from sklearn.linear_model import LogisticRegression\n",
    "from sklearn.svm import LinearSVC\n",
    "from sklearn.preprocessing import FunctionTransformer, PolynomialFeatures, StandardScaler\n",
    "from sklearn.pipeline import make_pipeline\n",
    "from sklearn.model_selection import train_test_split"
   ],
   "metadata": {
    "collapsed": false,
    "pycharm": {
     "name": "#%%\n"
    }
   }
  },
  {
   "cell_type": "code",
   "execution_count": 13,
   "outputs": [],
   "source": [
    "data_path='../../data/'"
   ],
   "metadata": {
    "collapsed": false,
    "pycharm": {
     "name": "#%%\n"
    }
   }
  },
  {
   "cell_type": "code",
   "execution_count": 14,
   "outputs": [],
   "source": [
    "ambrosm_oof_df = pd.read_csv(data_path+'oof/ambrosm.csv')\n",
    "lightgbm_oof_df = pd.read_csv(data_path+'oof/lightgbm.csv')\n",
    "xgboost_oof_df = pd.read_csv(data_path+'oof/xgboost.csv')"
   ],
   "metadata": {
    "collapsed": false,
    "pycharm": {
     "name": "#%%\n"
    }
   }
  },
  {
   "cell_type": "code",
   "execution_count": 15,
   "outputs": [],
   "source": [
    "train_df = pd.read_csv(data_path + 'train.csv', index_col='id')\n",
    "test_df = pd.read_csv(data_path + 'test.csv', index_col='id')\n",
    "# train = pd.read_csv(data_path + 'train_f5.csv', index_col='id')\n",
    "# test = pd.read_csv(data_path + 'test_f5.csv', index_col='id')\n",
    "# train_vif20 = pd.read_csv(data_path + 'train_vif20.csv', index_col='id')\n",
    "# test_vif20 = pd.read_csv(data_path + 'test_vif20.csv', index_col='id')\n",
    "submission = pd.read_csv(data_path + 'sample_submission.csv', index_col='id')"
   ],
   "metadata": {
    "collapsed": false,
    "pycharm": {
     "name": "#%%\n"
    }
   }
  },
  {
   "cell_type": "code",
   "execution_count": 16,
   "outputs": [],
   "source": [
    "X = train_df.drop(columns=['defects'])\n",
    "y = train_df.defects\n",
    "X_origin_train, X_origin_val, y_origin_train, y_origin_val = train_test_split(X, y, test_size=0.2, random_state=61, stratify=y)"
   ],
   "metadata": {
    "collapsed": false,
    "pycharm": {
     "name": "#%%\n"
    }
   }
  },
  {
   "cell_type": "code",
   "execution_count": 17,
   "outputs": [],
   "source": [
    "models = {\n",
    "    'xgboost': XGBClassifier(\n",
    "        max_depth=5,\n",
    "        colsample_bynode=0.5195981912942003,\n",
    "        reg_lambda=2.0596502472632006,\n",
    "        n_estimators=1345,\n",
    "        learning_rate=0.010119804013091233,\n",
    "        random_state=61,\n",
    "        tree_method='hist',\n",
    "        enable_categorical=True,\n",
    "    ),\n",
    "    'lightgbm': LGBMClassifier(\n",
    "        max_depth=22,\n",
    "        num_leaves=128,\n",
    "        min_child_samples=46,\n",
    "        colsample_bytree=0.5924502637788397,\n",
    "        n_estimators=659,\n",
    "        learning_rate=0.008200284931836449,\n",
    "        random_state=61,\n",
    "    ),\n",
    "    'rf':RandomForestClassifier(min_samples_leaf=190, max_features=1.0, random_state=61),\n",
    "    'hgb':HistGradientBoostingClassifier(random_state=61),\n",
    "    'logistic_nystroem': make_pipeline(\n",
    "        FunctionTransformer(np.log1p),\n",
    "        Nystroem(n_components=400, random_state=61),\n",
    "        StandardScaler(),\n",
    "        LogisticRegression(dual=False, C=0.0042, max_iter=1500, random_state=61)\n",
    "    ),\n",
    "    'extra': make_pipeline(\n",
    "        FunctionTransformer(np.log1p),\n",
    "        ExtraTreesClassifier(\n",
    "            n_estimators=100,\n",
    "            min_samples_leaf=130,\n",
    "            max_features=1.0,\n",
    "            random_state=61\n",
    "        ),\n",
    "    ),\n",
    "\n",
    "}"
   ],
   "metadata": {
    "collapsed": false,
    "pycharm": {
     "name": "#%%\n"
    }
   }
  },
  {
   "cell_type": "code",
   "execution_count": 18,
   "outputs": [],
   "source": [
    "from sklearn.model_selection import StratifiedKFold, train_test_split\n",
    "\n",
    "# Make KFold OOF prediction\n",
    "K=10\n",
    "def oof_preds(best_model, model_name=None):\n",
    "    if model_name:\n",
    "        print(f\"{model_name}'s oof prediction\")\n",
    "\n",
    "    # make KFold\n",
    "    folds = StratifiedKFold(n_splits=K, random_state=61, shuffle=True)\n",
    "    final_preds = []\n",
    "    losses = []\n",
    "    # fitting with best_model\n",
    "    # X = train_df.drop(columns='defects')\n",
    "    # y = train_df['defects']\n",
    "\n",
    "    oof = np.full(len(X), np.nan)\n",
    "    for i, (train_idx, val_idx) in enumerate(folds.split(X_origin_train, y_origin_train)):\n",
    "        X_train = X.iloc[train_idx, :]\n",
    "        y_train = y.iloc[train_idx]\n",
    "        X_val = X.iloc[val_idx, :]\n",
    "        y_val = y.iloc[val_idx]\n",
    "\n",
    "        print(f\"========== Fold {i+1} ==========\")\n",
    "        best_model.fit(X_train, y_train)\n",
    "        preds = best_model.predict_proba(X_val)[:, 1]\n",
    "        oof[val_idx] = preds\n",
    "        test_preds = best_model.predict_proba(test_df)[:, 1]\n",
    "        final_preds.append(test_preds)\n",
    "        loss = roc_auc_score(y_val, preds)\n",
    "\n",
    "        losses.append(loss)\n",
    "\n",
    "    avg_loss = np.mean(losses)\n",
    "    print(f\"Loss : {avg_loss:.4f}\")\n",
    "    return final_preds, oof, avg_loss"
   ],
   "metadata": {
    "collapsed": false,
    "pycharm": {
     "name": "#%%\n"
    }
   }
  },
  {
   "cell_type": "code",
   "execution_count": 19,
   "outputs": [
    {
     "name": "stdout",
     "output_type": "stream",
     "text": [
      "xgboost's oof prediction\n",
      "========== Fold 1 ==========\n",
      "========== Fold 2 ==========\n",
      "========== Fold 3 ==========\n",
      "========== Fold 4 ==========\n",
      "========== Fold 5 ==========\n",
      "========== Fold 6 ==========\n",
      "========== Fold 7 ==========\n",
      "========== Fold 8 ==========\n",
      "========== Fold 9 ==========\n",
      "========== Fold 10 ==========\n",
      "Loss : 0.7936\n",
      "lightgbm's oof prediction\n",
      "========== Fold 1 ==========\n",
      "========== Fold 2 ==========\n",
      "========== Fold 3 ==========\n",
      "========== Fold 4 ==========\n",
      "========== Fold 5 ==========\n",
      "========== Fold 6 ==========\n",
      "========== Fold 7 ==========\n",
      "========== Fold 8 ==========\n",
      "========== Fold 9 ==========\n",
      "========== Fold 10 ==========\n",
      "Loss : 0.7926\n",
      "rf's oof prediction\n",
      "========== Fold 1 ==========\n",
      "========== Fold 2 ==========\n",
      "========== Fold 3 ==========\n",
      "========== Fold 4 ==========\n",
      "========== Fold 5 ==========\n",
      "========== Fold 6 ==========\n",
      "========== Fold 7 ==========\n",
      "========== Fold 8 ==========\n",
      "========== Fold 9 ==========\n",
      "========== Fold 10 ==========\n",
      "Loss : 0.7921\n",
      "hgb's oof prediction\n",
      "========== Fold 1 ==========\n",
      "========== Fold 2 ==========\n",
      "========== Fold 3 ==========\n",
      "========== Fold 4 ==========\n",
      "========== Fold 5 ==========\n",
      "========== Fold 6 ==========\n",
      "========== Fold 7 ==========\n",
      "========== Fold 8 ==========\n",
      "========== Fold 9 ==========\n",
      "========== Fold 10 ==========\n",
      "Loss : 0.7920\n",
      "logistic_nystroem's oof prediction\n",
      "========== Fold 1 ==========\n",
      "========== Fold 2 ==========\n",
      "========== Fold 3 ==========\n",
      "========== Fold 4 ==========\n",
      "========== Fold 5 ==========\n",
      "========== Fold 6 ==========\n",
      "========== Fold 7 ==========\n",
      "========== Fold 8 ==========\n",
      "========== Fold 9 ==========\n",
      "========== Fold 10 ==========\n",
      "Loss : 0.7921\n",
      "extra's oof prediction\n",
      "========== Fold 1 ==========\n",
      "========== Fold 2 ==========\n",
      "========== Fold 3 ==========\n",
      "========== Fold 4 ==========\n",
      "========== Fold 5 ==========\n",
      "========== Fold 6 ==========\n",
      "========== Fold 7 ==========\n",
      "========== Fold 8 ==========\n",
      "========== Fold 9 ==========\n",
      "========== Fold 10 ==========\n",
      "Loss : 0.7922\n"
     ]
    }
   ],
   "source": [
    "model_scores = [(model_name, oof_preds(model, model_name)[2]) for model_name, model in models.items()]"
   ],
   "metadata": {
    "collapsed": false,
    "pycharm": {
     "name": "#%%\n"
    }
   }
  },
  {
   "cell_type": "code",
   "execution_count": 20,
   "outputs": [
    {
     "data": {
      "text/plain": "[('xgboost', 0.7935995059519462),\n ('lightgbm', 0.7926080723099801),\n ('extra', 0.7921566281931738),\n ('rf', 0.7920955584985394),\n ('logistic_nystroem', 0.7920636134131127),\n ('hgb', 0.7919931855932343)]"
     },
     "execution_count": 20,
     "metadata": {},
     "output_type": "execute_result"
    }
   ],
   "source": [
    "model_scores.sort(key=lambda m: m[1], reverse=True)\n",
    "model_scores"
   ],
   "metadata": {
    "collapsed": false,
    "pycharm": {
     "name": "#%%\n"
    }
   }
  },
  {
   "cell_type": "code",
   "execution_count": 52,
   "outputs": [],
   "source": [
    "from sklearn.ensemble import VotingClassifier\n",
    "def run_k_fold(models, model_scores, num=6, weight='auto'):\n",
    "    start = 2\n",
    "    if weight=='auto':\n",
    "        weights = [6,5,4,3,2,1]\n",
    "    elif weight=='balance':\n",
    "        weights = [1]*num\n",
    "    else:\n",
    "        weights = [6,5,4,3,2,1]\n",
    "    print(f'{weight}!!', weights)\n",
    "    best_score = 0\n",
    "    best_model_num = 0\n",
    "    for model_num in range(start, start+num-1):\n",
    "        chosen_models = [(model_scores[m_idx][0], models[model_scores[m_idx][0]]) for m_idx in range(model_num)]\n",
    "        chosen_model_names = [model_scores[m_idx][0] for m_idx in range(model_num)]\n",
    "        print(f'chosen models : {chosen_model_names}')\n",
    "        voter_model = VotingClassifier(chosen_models, weights = weights[:model_num], voting = 'soft')\n",
    "        preds, oof, oof_score = oof_preds(voter_model)\n",
    "        preds = np.mean(preds, axis=0)\n",
    "        if model_num==2 or best_score<oof_score:\n",
    "            best_preds = preds\n",
    "            best_score = oof_score\n",
    "            best_model_num = model_num\n",
    "    print(f'best model 개수 : {best_model_num}, best oof score : {best_score}')\n",
    "    return best_model_num, best_score, best_preds"
   ],
   "metadata": {
    "collapsed": false,
    "pycharm": {
     "name": "#%%\n"
    }
   }
  },
  {
   "cell_type": "code",
   "execution_count": 53,
   "outputs": [
    {
     "name": "stdout",
     "output_type": "stream",
     "text": [
      "balance!! [1, 1, 1, 1, 1, 1]\n",
      "chosen models : ['xgboost', 'lightgbm']\n",
      "========== Fold 1 ==========\n",
      "========== Fold 2 ==========\n",
      "========== Fold 3 ==========\n",
      "========== Fold 4 ==========\n",
      "========== Fold 5 ==========\n",
      "========== Fold 6 ==========\n",
      "========== Fold 7 ==========\n",
      "========== Fold 8 ==========\n",
      "========== Fold 9 ==========\n",
      "========== Fold 10 ==========\n",
      "Loss : 0.7936\n",
      "chosen models : ['xgboost', 'lightgbm', 'extra']\n",
      "========== Fold 1 ==========\n",
      "========== Fold 2 ==========\n",
      "========== Fold 3 ==========\n",
      "========== Fold 4 ==========\n",
      "========== Fold 5 ==========\n",
      "========== Fold 6 ==========\n",
      "========== Fold 7 ==========\n",
      "========== Fold 8 ==========\n",
      "========== Fold 9 ==========\n",
      "========== Fold 10 ==========\n",
      "Loss : 0.7937\n",
      "chosen models : ['xgboost', 'lightgbm', 'extra', 'rf']\n",
      "========== Fold 1 ==========\n",
      "========== Fold 2 ==========\n",
      "========== Fold 3 ==========\n",
      "========== Fold 4 ==========\n",
      "========== Fold 5 ==========\n",
      "========== Fold 6 ==========\n",
      "========== Fold 7 ==========\n",
      "========== Fold 8 ==========\n",
      "========== Fold 9 ==========\n",
      "========== Fold 10 ==========\n",
      "Loss : 0.7936\n",
      "chosen models : ['xgboost', 'lightgbm', 'extra', 'rf', 'logistic_nystroem']\n",
      "========== Fold 1 ==========\n",
      "========== Fold 2 ==========\n",
      "========== Fold 3 ==========\n",
      "========== Fold 4 ==========\n",
      "========== Fold 5 ==========\n",
      "========== Fold 6 ==========\n",
      "========== Fold 7 ==========\n",
      "========== Fold 8 ==========\n",
      "========== Fold 9 ==========\n",
      "========== Fold 10 ==========\n",
      "Loss : 0.7939\n",
      "chosen models : ['xgboost', 'lightgbm', 'extra', 'rf', 'logistic_nystroem', 'hgb']\n",
      "========== Fold 1 ==========\n",
      "========== Fold 2 ==========\n",
      "========== Fold 3 ==========\n",
      "========== Fold 4 ==========\n",
      "========== Fold 5 ==========\n",
      "========== Fold 6 ==========\n",
      "========== Fold 7 ==========\n",
      "========== Fold 8 ==========\n",
      "========== Fold 9 ==========\n",
      "========== Fold 10 ==========\n",
      "Loss : 0.7938\n",
      "best model 개수 : 5, best oof score : 0.7938949856695136\n"
     ]
    }
   ],
   "source": [
    "k,best_score_auto,best_preds_auto = run_k_fold(models, model_scores, num=6, weight='balance')"
   ],
   "metadata": {
    "collapsed": false,
    "pycharm": {
     "name": "#%%\n"
    }
   }
  },
  {
   "cell_type": "code",
   "execution_count": 23,
   "outputs": [
    {
     "name": "stdout",
     "output_type": "stream",
     "text": [
      "chosen models : ['xgboost', 'lightgbm']\n",
      "========== Fold 1 ==========\n",
      "========== Fold 2 ==========\n",
      "========== Fold 3 ==========\n",
      "========== Fold 4 ==========\n",
      "========== Fold 5 ==========\n",
      "========== Fold 6 ==========\n",
      "========== Fold 7 ==========\n",
      "========== Fold 8 ==========\n",
      "========== Fold 9 ==========\n",
      "========== Fold 10 ==========\n",
      "Loss : 0.7936\n",
      "chosen models : ['xgboost', 'lightgbm', 'extra']\n",
      "========== Fold 1 ==========\n",
      "========== Fold 2 ==========\n",
      "========== Fold 3 ==========\n",
      "========== Fold 4 ==========\n",
      "========== Fold 5 ==========\n",
      "========== Fold 6 ==========\n",
      "========== Fold 7 ==========\n",
      "========== Fold 8 ==========\n",
      "========== Fold 9 ==========\n",
      "========== Fold 10 ==========\n",
      "Loss : 0.7937\n",
      "chosen models : ['xgboost', 'lightgbm', 'extra', 'rf']\n",
      "========== Fold 1 ==========\n",
      "========== Fold 2 ==========\n",
      "========== Fold 3 ==========\n",
      "========== Fold 4 ==========\n",
      "========== Fold 5 ==========\n",
      "========== Fold 6 ==========\n",
      "========== Fold 7 ==========\n",
      "========== Fold 8 ==========\n",
      "========== Fold 9 ==========\n",
      "========== Fold 10 ==========\n",
      "Loss : 0.7937\n",
      "chosen models : ['xgboost', 'lightgbm', 'extra', 'rf', 'logistic_nystroem']\n",
      "========== Fold 1 ==========\n",
      "========== Fold 2 ==========\n",
      "========== Fold 3 ==========\n",
      "========== Fold 4 ==========\n",
      "========== Fold 5 ==========\n",
      "========== Fold 6 ==========\n",
      "========== Fold 7 ==========\n",
      "========== Fold 8 ==========\n",
      "========== Fold 9 ==========\n",
      "========== Fold 10 ==========\n",
      "Loss : 0.7939\n",
      "chosen models : ['xgboost', 'lightgbm', 'extra', 'rf', 'logistic_nystroem', 'hgb']\n",
      "========== Fold 1 ==========\n",
      "========== Fold 2 ==========\n",
      "========== Fold 3 ==========\n",
      "========== Fold 4 ==========\n",
      "========== Fold 5 ==========\n",
      "========== Fold 6 ==========\n",
      "========== Fold 7 ==========\n",
      "========== Fold 8 ==========\n",
      "========== Fold 9 ==========\n",
      "========== Fold 10 ==========\n",
      "Loss : 0.7938\n",
      "best model 개수 : 5, best oof score : 0.793854034278247\n"
     ]
    }
   ],
   "source": [
    "# k,best_score_auto,best_preds_auto = run_k_fold(models, model_scores, num=6, weight='auto')"
   ],
   "metadata": {
    "collapsed": false,
    "pycharm": {
     "name": "#%%\n"
    }
   }
  },
  {
   "cell_type": "code",
   "execution_count": 59,
   "outputs": [
    {
     "name": "stdout",
     "output_type": "stream",
     "text": [
      "chosen models : ['xgboost', 'lightgbm', 'extra', 'rf', 'logistic_nystroem']\n",
      "========== Fold 1 ==========\n",
      "========== Fold 2 ==========\n",
      "========== Fold 3 ==========\n",
      "========== Fold 4 ==========\n",
      "========== Fold 5 ==========\n",
      "========== Fold 6 ==========\n",
      "========== Fold 7 ==========\n",
      "========== Fold 8 ==========\n",
      "========== Fold 9 ==========\n",
      "========== Fold 10 ==========\n",
      "Loss : 0.7939\n"
     ]
    }
   ],
   "source": [
    "chosen_models = [(model_scores[m_idx][0], models[model_scores[m_idx][0]]) for m_idx in range(k)]\n",
    "chosen_model_names = [model_scores[m_idx][0] for m_idx in range(k)]\n",
    "print(f'chosen models : {chosen_model_names}')\n",
    "voter_model = VotingClassifier(chosen_models, weights = [1 for idx in range(k)], voting = 'soft')\n",
    "preds, oof, oof_score = oof_preds(voter_model)\n",
    "val_preds_proba = voter_model.predict_proba(X_origin_val)[:, 1]\n",
    "val_preds = voter_model.predict(X_origin_val)"
   ],
   "metadata": {
    "collapsed": false,
    "pycharm": {
     "name": "#%%\n"
    }
   }
  },
  {
   "cell_type": "code",
   "execution_count": 60,
   "outputs": [
    {
     "name": "stdout",
     "output_type": "stream",
     "text": [
      "Validation auc roc : 0.8099\n",
      "Validation acc : 0.8203\n",
      "Validation f1_score : 0.5067\n"
     ]
    }
   ],
   "source": [
    "from sklearn.metrics import accuracy_score, f1_score\n",
    "\n",
    "val_score = roc_auc_score(y_origin_val, val_preds_proba)\n",
    "\n",
    "print(\"Validation auc roc : %.4f\" % val_score)\n",
    "print(\"Validation acc : %.4f\" % accuracy_score(y_origin_val, val_preds))\n",
    "print(\"Validation f1_score : %.4f\" % f1_score(y_origin_val, val_preds))"
   ],
   "metadata": {
    "collapsed": false,
    "pycharm": {
     "name": "#%%\n"
    }
   }
  },
  {
   "cell_type": "code",
   "execution_count": 61,
   "outputs": [
    {
     "data": {
      "text/plain": "<Figure size 500x500 with 1 Axes>",
      "image/png": "[encoded data removed]"
     },
     "metadata": {},
     "output_type": "display_data"
    }
   ],
   "source": [
    "from sklearn.metrics import confusion_matrix\n",
    "\n",
    "def plot_confusion_matrix(cm, title, model_name):\n",
    "    plt.figure(figsize=(5,5))\n",
    "    sns.heatmap(cm, annot=True, cmap='GnBu_r', cbar=False, fmt='.0f', annot_kws={\"size\": 17})\n",
    "    plt.xlabel('Predicted')\n",
    "    plt.ylabel('True')\n",
    "    plt.suptitle(title, fontsize=12, fontweight='bold')\n",
    "    plt.savefig(f'{model_name}_baseline.png')\n",
    "    plt.show()\n",
    "\n",
    "cm=confusion_matrix(y_origin_val, np.greater_equal(val_preds, 0.5).astype(int))\n",
    "plot_confusion_matrix(cm, 'ensemble Confusion Matrix', 'ensemble')"
   ],
   "metadata": {
    "collapsed": false,
    "pycharm": {
     "name": "#%%\n"
    }
   }
  },
  {
   "cell_type": "code",
   "execution_count": 62,
   "outputs": [],
   "source": [
    "submission['defects'] = voter_model.predict_proba(test_df)[:, 1]"
   ],
   "metadata": {
    "collapsed": false,
    "pycharm": {
     "name": "#%%\n"
    }
   }
  },
  {
   "cell_type": "code",
   "execution_count": 63,
   "outputs": [],
   "source": [
    "submission.to_csv(data_path+'submission/ensemble_selected_final_balance.csv')"
   ],
   "metadata": {
    "collapsed": false,
    "pycharm": {
     "name": "#%%\n"
    }
   }
  },
  {
   "cell_type": "code",
   "execution_count": 64,
   "outputs": [
    {
     "data": {
      "text/plain": "<Axes: xlabel='id'>"
     },
     "execution_count": 64,
     "metadata": {},
     "output_type": "execute_result"
    },
    {
     "data": {
      "text/plain": "<Figure size 640x480 with 1 Axes>",
      "image/png": "[encoded data removed]"
     },
     "metadata": {},
     "output_type": "display_data"
    }
   ],
   "source": [
    "submission['defects'].cumsum().plot()"
   ],
   "metadata": {
    "collapsed": false,
    "pycharm": {
     "name": "#%%\n"
    }
   }
  },
  {
   "cell_type": "code",
   "execution_count": null,
   "outputs": [],
   "source": [],
   "metadata": {
    "collapsed": false,
    "pycharm": {
     "name": "#%%\n"
    }
   }
  }
 ],
 "metadata": {
  "kernelspec": {
   "display_name": "Python 3",
   "language": "python",
   "name": "python3"
  },
  "language_info": {
   "codemirror_mode": {
    "name": "ipython",
    "version": 2
   },
   "file_extension": ".py",
   "mimetype": "text/x-python",
   "name": "python",
   "nbconvert_exporter": "python",
   "pygments_lexer": "ipython2",
   "version": "2.7.6"
  }
 },
 "nbformat": 4,
 "nbformat_minor": 0
}