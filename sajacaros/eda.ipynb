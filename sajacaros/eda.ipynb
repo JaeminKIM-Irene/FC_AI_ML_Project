{
 "cells": [
  {
   "cell_type": "markdown",
   "source": [
    "# 대회 개요\n",
    "* Playground 대회\n",
    "* 실제 데이터를 바탕으로 합성 데이터를 제공\n",
    "* 제공된 feature를 바탕으로 소프트웨어 결함 여부를 검출\n",
    "# 대회 기간\n",
    "* 시작일 23/10/03\n",
    "* 종료일 23/10/23\n",
    "# 평가 지표\n",
    "* area under the ROC curve\n",
    "    * `from sklearn.metrics import roc_auc_score`\n",
    "# 데이터 요약\n",
    "* feature\n",
    "    * int와 float형태의 22개의 feature를 제공함\n",
    "* target\n",
    "    * defects를 나타내는 boolean 값\n",
    "        * 결함이 있으면 True\n",
    "        * 결함이 없으면 False\n",
    "* feature 정리\n",
    "    ```\n",
    "    1. loc              : numeric % McCabe's line count of code\n",
    "    2. v(g)             : numeric % McCabe \"cyclomatic complexity\"\n",
    "    3. ev(g)            : numeric % McCabe \"essential complexity\"\n",
    "    4. iv(g)            : numeric % McCabe \"design complexity\"\n",
    "    5. n                : numeric % Halstead total operators + operands\n",
    "    6. v                : numeric % Halstead \"volume\"\n",
    "    7. l                : numeric % Halstead \"program length\"\n",
    "    8. d                : numeric % Halstead \"difficulty\"\n",
    "    9. i                : numeric % Halstead \"intelligence\"\n",
    "    10. e               : numeric % Halstead \"effort\"\n",
    "    11. b               : numeric % Halstead\n",
    "    12. t               : numeric % Halstead's time estimator\n",
    "    13. lOCode          : numeric % Halstead's line count\n",
    "    14. lOComment       : numeric % Halstead's count of lines of comments\n",
    "    15. lOBlank         : numeric % Halstead's count of blank lines\n",
    "    16. lOCodeAndComment: numeric\n",
    "    17. uniq_Op         : numeric % unique operators\n",
    "    18. uniq_Opnd       : numeric % unique operands\n",
    "    19. total_Op        : numeric % total operators\n",
    "    20. total_Opnd      : numeric % total operands\n",
    "    21: branchCount     : numeric % of the flow graph\n",
    "    22. defects         : {false,true} % module has/has not one or more  reported defects\n",
    "    ```"
   ],
   "metadata": {
    "collapsed": false,
    "pycharm": {
     "name": "#%% md\n"
    }
   }
  },
  {
   "cell_type": "markdown",
   "source": [
    "# discussion, code 리뷰"
   ],
   "metadata": {
    "collapsed": false
   }
  },
  {
   "cell_type": "code",
   "execution_count": 1,
   "metadata": {
    "collapsed": true
   },
   "outputs": [],
   "source": [
    "import pandas as pd\n",
    "import numpy as np\n",
    "import matplotlib.pyplot as plt\n",
    "import seaborn\n",
    "import seaborn as sns"
   ]
  },
  {
   "cell_type": "code",
   "execution_count": null,
   "outputs": [],
   "source": [
    "# 데이터 둘러보기"
   ],
   "metadata": {
    "collapsed": false,
    "pycharm": {
     "name": "#%%\n"
    }
   }
  },
  {
   "cell_type": "code",
   "execution_count": 2,
   "outputs": [],
   "source": [
    "data_path = '../data/'\n",
    "\n",
    "train_df = pd.read_csv(data_path+'train.csv', index_col='id')\n",
    "test_df = pd.read_csv(data_path+'test.csv', index_col='id')\n",
    "submission_df = pd.read_csv(data_path+'sample_submission.csv', index_col='id')"
   ],
   "metadata": {
    "collapsed": false,
    "pycharm": {
     "name": "#%%\n"
    }
   }
  },
  {
   "cell_type": "code",
   "execution_count": 3,
   "outputs": [
    {
     "name": "stdout",
     "output_type": "stream",
     "text": [
      "<class 'pandas.core.frame.DataFrame'>\n",
      "Index: 101763 entries, 0 to 101762\n",
      "Data columns (total 22 columns):\n",
      " #   Column             Non-Null Count   Dtype  \n",
      "---  ------             --------------   -----  \n",
      " 0   loc                101763 non-null  float64\n",
      " 1   v(g)               101763 non-null  float64\n",
      " 2   ev(g)              101763 non-null  float64\n",
      " 3   iv(g)              101763 non-null  float64\n",
      " 4   n                  101763 non-null  float64\n",
      " 5   v                  101763 non-null  float64\n",
      " 6   l                  101763 non-null  float64\n",
      " 7   d                  101763 non-null  float64\n",
      " 8   i                  101763 non-null  float64\n",
      " 9   e                  101763 non-null  float64\n",
      " 10  b                  101763 non-null  float64\n",
      " 11  t                  101763 non-null  float64\n",
      " 12  lOCode             101763 non-null  int64  \n",
      " 13  lOComment          101763 non-null  int64  \n",
      " 14  lOBlank            101763 non-null  int64  \n",
      " 15  locCodeAndComment  101763 non-null  int64  \n",
      " 16  uniq_Op            101763 non-null  float64\n",
      " 17  uniq_Opnd          101763 non-null  float64\n",
      " 18  total_Op           101763 non-null  float64\n",
      " 19  total_Opnd         101763 non-null  float64\n",
      " 20  branchCount        101763 non-null  float64\n",
      " 21  defects            101763 non-null  bool   \n",
      "dtypes: bool(1), float64(17), int64(4)\n",
      "memory usage: 17.2 MB\n"
     ]
    }
   ],
   "source": [
    "train_df.info()"
   ],
   "metadata": {
    "collapsed": false,
    "pycharm": {
     "name": "#%%\n"
    }
   }
  },
  {
   "cell_type": "code",
   "execution_count": 21,
   "outputs": [
    {
     "name": "stdout",
     "output_type": "stream",
     "text": [
      "<class 'pandas.core.frame.DataFrame'>\n",
      "Index: 67842 entries, 101763 to 169604\n",
      "Data columns (total 21 columns):\n",
      " #   Column             Non-Null Count  Dtype  \n",
      "---  ------             --------------  -----  \n",
      " 0   loc                67842 non-null  float64\n",
      " 1   v(g)               67842 non-null  float64\n",
      " 2   ev(g)              67842 non-null  float64\n",
      " 3   iv(g)              67842 non-null  float64\n",
      " 4   n                  67842 non-null  float64\n",
      " 5   v                  67842 non-null  float64\n",
      " 6   l                  67842 non-null  float64\n",
      " 7   d                  67842 non-null  float64\n",
      " 8   i                  67842 non-null  float64\n",
      " 9   e                  67842 non-null  float64\n",
      " 10  b                  67842 non-null  float64\n",
      " 11  t                  67842 non-null  float64\n",
      " 12  lOCode             67842 non-null  int64  \n",
      " 13  lOComment          67842 non-null  int64  \n",
      " 14  lOBlank            67842 non-null  int64  \n",
      " 15  locCodeAndComment  67842 non-null  int64  \n",
      " 16  uniq_Op            67842 non-null  float64\n",
      " 17  uniq_Opnd          67842 non-null  float64\n",
      " 18  total_Op           67842 non-null  float64\n",
      " 19  total_Opnd         67842 non-null  float64\n",
      " 20  branchCount        67842 non-null  float64\n",
      "dtypes: float64(17), int64(4)\n",
      "memory usage: 11.4 MB\n"
     ]
    }
   ],
   "source": [
    "test_df.info()"
   ],
   "metadata": {
    "collapsed": false,
    "pycharm": {
     "name": "#%%\n"
    }
   }
  },
  {
   "cell_type": "code",
   "execution_count": 23,
   "outputs": [
    {
     "data": {
      "text/plain": "        defects\nid             \n101763      0.5\n101764      0.5\n101765      0.5\n101766      0.5\n101767      0.5",
      "text/html": "<div>\n<style scoped>\n    .dataframe tbody tr th:only-of-type {\n        vertical-align: middle;\n    }\n\n    .dataframe tbody tr th {\n        vertical-align: top;\n    }\n\n    .dataframe thead th {\n        text-align: right;\n    }\n</style>\n<table border=\"1\" class=\"dataframe\">\n  <thead>\n    <tr style=\"text-align: right;\">\n      <th></th>\n      <th>defects</th>\n    </tr>\n    <tr>\n      <th>id</th>\n      <th></th>\n    </tr>\n  </thead>\n  <tbody>\n    <tr>\n      <th>101763</th>\n      <td>0.5</td>\n    </tr>\n    <tr>\n      <th>101764</th>\n      <td>0.5</td>\n    </tr>\n    <tr>\n      <th>101765</th>\n      <td>0.5</td>\n    </tr>\n    <tr>\n      <th>101766</th>\n      <td>0.5</td>\n    </tr>\n    <tr>\n      <th>101767</th>\n      <td>0.5</td>\n    </tr>\n  </tbody>\n</table>\n</div>"
     },
     "execution_count": 23,
     "metadata": {},
     "output_type": "execute_result"
    }
   ],
   "source": [
    "submission_df.head()"
   ],
   "metadata": {
    "collapsed": false,
    "pycharm": {
     "name": "#%%\n"
    }
   }
  },
  {
   "cell_type": "code",
   "execution_count": 49,
   "outputs": [
    {
     "data": {
      "text/plain": "                    Dtypes  결측치  유니크개수            평균  min   median  \\\nColumn                                                               \nloc                float64    0    378     37.347160  1.0    22.00   \nv(g)               float64    0    106      5.492684  1.0     3.00   \nev(g)              float64    0     71      2.845022  1.0     1.00   \niv(g)              float64    0     84      3.498826  1.0     2.00   \nn                  float64    0    836     96.655995  0.0    51.00   \nv                  float64    0   4515    538.280956  0.0   232.79   \nl                  float64    0     55      0.111634  0.0     0.09   \nd                  float64    0   3360     13.681881  0.0     9.82   \ni                  float64    0   5171     27.573007  0.0    23.36   \ne                  float64    0   8729  20853.589876  0.0  2256.23   \nb                  float64    0    315      0.179164  0.0     0.08   \nt                  float64    0   8608   1141.357982  0.0   125.40   \nlOCode               int64    0    298     22.802453  0.0    14.00   \nlOComment            int64    0     91      1.773945  0.0     0.00   \nlOBlank              int64    0     94      3.979865  0.0     2.00   \nlocCodeAndComment    int64    0     29      0.196604  0.0     0.00   \nuniq_Op            float64    0     70     11.896131  0.0    11.00   \nuniq_Opnd          float64    0    176     15.596671  0.0    12.00   \ntotal_Op           float64    0    623     57.628116  0.0    30.00   \ntotal_Opnd         float64    0    485     39.249698  0.0    20.00   \nbranchCount        float64    0    144      9.839549  1.0     5.00   \ndefects               bool    0      2      0.226644  0.0     0.00   \n\n                           max  \nColumn                          \nloc                    3442.00  \nv(g)                    404.00  \nev(g)                   165.00  \niv(g)                   402.00  \nn                      8441.00  \nv                     80843.08  \nl                         1.00  \nd                       418.20  \ni                       569.78  \ne                  16846621.12  \nb                        26.95  \nt                    935923.39  \nlOCode                 2824.00  \nlOComment               344.00  \nlOBlank                 219.00  \nlocCodeAndComment        43.00  \nuniq_Op                 410.00  \nuniq_Opnd              1026.00  \ntotal_Op               5420.00  \ntotal_Opnd             3021.00  \nbranchCount             503.00  \ndefects                   1.00  ",
      "text/html": "<div>\n<style scoped>\n    .dataframe tbody tr th:only-of-type {\n        vertical-align: middle;\n    }\n\n    .dataframe tbody tr th {\n        vertical-align: top;\n    }\n\n    .dataframe thead th {\n        text-align: right;\n    }\n</style>\n<table border=\"1\" class=\"dataframe\">\n  <thead>\n    <tr style=\"text-align: right;\">\n      <th></th>\n      <th>Dtypes</th>\n      <th>결측치</th>\n      <th>유니크개수</th>\n      <th>평균</th>\n      <th>min</th>\n      <th>median</th>\n      <th>max</th>\n    </tr>\n    <tr>\n      <th>Column</th>\n      <th></th>\n      <th></th>\n      <th></th>\n      <th></th>\n      <th></th>\n      <th></th>\n      <th></th>\n    </tr>\n  </thead>\n  <tbody>\n    <tr>\n      <th>loc</th>\n      <td>float64</td>\n      <td>0</td>\n      <td>378</td>\n      <td>37.347160</td>\n      <td>1.0</td>\n      <td>22.00</td>\n      <td>3442.00</td>\n    </tr>\n    <tr>\n      <th>v(g)</th>\n      <td>float64</td>\n      <td>0</td>\n      <td>106</td>\n      <td>5.492684</td>\n      <td>1.0</td>\n      <td>3.00</td>\n      <td>404.00</td>\n    </tr>\n    <tr>\n      <th>ev(g)</th>\n      <td>float64</td>\n      <td>0</td>\n      <td>71</td>\n      <td>2.845022</td>\n      <td>1.0</td>\n      <td>1.00</td>\n      <td>165.00</td>\n    </tr>\n    <tr>\n      <th>iv(g)</th>\n      <td>float64</td>\n      <td>0</td>\n      <td>84</td>\n      <td>3.498826</td>\n      <td>1.0</td>\n      <td>2.00</td>\n      <td>402.00</td>\n    </tr>\n    <tr>\n      <th>n</th>\n      <td>float64</td>\n      <td>0</td>\n      <td>836</td>\n      <td>96.655995</td>\n      <td>0.0</td>\n      <td>51.00</td>\n      <td>8441.00</td>\n    </tr>\n    <tr>\n      <th>v</th>\n      <td>float64</td>\n      <td>0</td>\n      <td>4515</td>\n      <td>538.280956</td>\n      <td>0.0</td>\n      <td>232.79</td>\n      <td>80843.08</td>\n    </tr>\n    <tr>\n      <th>l</th>\n      <td>float64</td>\n      <td>0</td>\n      <td>55</td>\n      <td>0.111634</td>\n      <td>0.0</td>\n      <td>0.09</td>\n      <td>1.00</td>\n    </tr>\n    <tr>\n      <th>d</th>\n      <td>float64</td>\n      <td>0</td>\n      <td>3360</td>\n      <td>13.681881</td>\n      <td>0.0</td>\n      <td>9.82</td>\n      <td>418.20</td>\n    </tr>\n    <tr>\n      <th>i</th>\n      <td>float64</td>\n      <td>0</td>\n      <td>5171</td>\n      <td>27.573007</td>\n      <td>0.0</td>\n      <td>23.36</td>\n      <td>569.78</td>\n    </tr>\n    <tr>\n      <th>e</th>\n      <td>float64</td>\n      <td>0</td>\n      <td>8729</td>\n      <td>20853.589876</td>\n      <td>0.0</td>\n      <td>2256.23</td>\n      <td>16846621.12</td>\n    </tr>\n    <tr>\n      <th>b</th>\n      <td>float64</td>\n      <td>0</td>\n      <td>315</td>\n      <td>0.179164</td>\n      <td>0.0</td>\n      <td>0.08</td>\n      <td>26.95</td>\n    </tr>\n    <tr>\n      <th>t</th>\n      <td>float64</td>\n      <td>0</td>\n      <td>8608</td>\n      <td>1141.357982</td>\n      <td>0.0</td>\n      <td>125.40</td>\n      <td>935923.39</td>\n    </tr>\n    <tr>\n      <th>lOCode</th>\n      <td>int64</td>\n      <td>0</td>\n      <td>298</td>\n      <td>22.802453</td>\n      <td>0.0</td>\n      <td>14.00</td>\n      <td>2824.00</td>\n    </tr>\n    <tr>\n      <th>lOComment</th>\n      <td>int64</td>\n      <td>0</td>\n      <td>91</td>\n      <td>1.773945</td>\n      <td>0.0</td>\n      <td>0.00</td>\n      <td>344.00</td>\n    </tr>\n    <tr>\n      <th>lOBlank</th>\n      <td>int64</td>\n      <td>0</td>\n      <td>94</td>\n      <td>3.979865</td>\n      <td>0.0</td>\n      <td>2.00</td>\n      <td>219.00</td>\n    </tr>\n    <tr>\n      <th>locCodeAndComment</th>\n      <td>int64</td>\n      <td>0</td>\n      <td>29</td>\n      <td>0.196604</td>\n      <td>0.0</td>\n      <td>0.00</td>\n      <td>43.00</td>\n    </tr>\n    <tr>\n      <th>uniq_Op</th>\n      <td>float64</td>\n      <td>0</td>\n      <td>70</td>\n      <td>11.896131</td>\n      <td>0.0</td>\n      <td>11.00</td>\n      <td>410.00</td>\n    </tr>\n    <tr>\n      <th>uniq_Opnd</th>\n      <td>float64</td>\n      <td>0</td>\n      <td>176</td>\n      <td>15.596671</td>\n      <td>0.0</td>\n      <td>12.00</td>\n      <td>1026.00</td>\n    </tr>\n    <tr>\n      <th>total_Op</th>\n      <td>float64</td>\n      <td>0</td>\n      <td>623</td>\n      <td>57.628116</td>\n      <td>0.0</td>\n      <td>30.00</td>\n      <td>5420.00</td>\n    </tr>\n    <tr>\n      <th>total_Opnd</th>\n      <td>float64</td>\n      <td>0</td>\n      <td>485</td>\n      <td>39.249698</td>\n      <td>0.0</td>\n      <td>20.00</td>\n      <td>3021.00</td>\n    </tr>\n    <tr>\n      <th>branchCount</th>\n      <td>float64</td>\n      <td>0</td>\n      <td>144</td>\n      <td>9.839549</td>\n      <td>1.0</td>\n      <td>5.00</td>\n      <td>503.00</td>\n    </tr>\n    <tr>\n      <th>defects</th>\n      <td>bool</td>\n      <td>0</td>\n      <td>2</td>\n      <td>0.226644</td>\n      <td>0.0</td>\n      <td>0.00</td>\n      <td>1.00</td>\n    </tr>\n  </tbody>\n</table>\n</div>"
     },
     "execution_count": 49,
     "metadata": {},
     "output_type": "execute_result"
    }
   ],
   "source": [
    "# 데이터 요약\n",
    "def resume_table(df):\n",
    "    # df = df.drop(columns=target_name)\n",
    "    summary_df = df.dtypes\n",
    "    df = df * 1 # defects를 int형으로 바꾸기\n",
    "    summary_df = summary_df.reset_index()\n",
    "    summary_df.columns = ['Column', 'Dtypes']\n",
    "    summary_df['결측치'] = df.isnull().sum().values\n",
    "    summary_df['유니크개수'] = df.nunique().values\n",
    "    summary_df['평균'] = df.describe().loc['mean'].values\n",
    "    summary_df['min'] = df.describe().loc['min'].values\n",
    "    summary_df['median'] = df.describe().loc['50%'].values\n",
    "    summary_df['max'] = df.describe().loc['max'].values\n",
    "    return summary_df.set_index('Column')\n",
    "\n",
    "resume_table(train_df)"
   ],
   "metadata": {
    "collapsed": false,
    "pycharm": {
     "name": "#%%\n"
    }
   }
  },
  {
   "cell_type": "code",
   "execution_count": 50,
   "outputs": [],
   "source": [
    "# countplot 백분률 추가\n",
    "def write_percent(ax, total_size):\n",
    "    for patch in ax.patches:\n",
    "        height = patch.get_height()\n",
    "        width = patch.get_width()\n",
    "        left_coord = patch.get_x()\n",
    "        percent = height/total_size*100\n",
    "\n",
    "        ax.text(\n",
    "            left_coord+width/2.0,\n",
    "            height/2.0,\n",
    "            f'{percent:.1f}%',\n",
    "            ha='center'\n",
    "        )"
   ],
   "metadata": {
    "collapsed": false,
    "pycharm": {
     "name": "#%%\n"
    }
   }
  },
  {
   "cell_type": "code",
   "execution_count": 51,
   "outputs": [
    {
     "data": {
      "text/plain": "<Figure size 640x480 with 1 Axes>",
      "image/png": "[encoded data removed]"
     },
     "metadata": {},
     "output_type": "display_data"
    }
   ],
   "source": [
    "# target 분포 출력\n",
    "ax = sns.countplot(data=train_df, x='defects')\n",
    "write_percent(ax, train_df.shape[0])"
   ],
   "metadata": {
    "collapsed": false,
    "pycharm": {
     "name": "#%%\n"
    }
   }
  },
  {
   "cell_type": "code",
   "execution_count": null,
   "outputs": [],
   "source": [],
   "metadata": {
    "collapsed": false,
    "pycharm": {
     "name": "#%%\n"
    }
   }
  },
  {
   "cell_type": "code",
   "execution_count": null,
   "outputs": [],
   "source": [],
   "metadata": {
    "collapsed": false,
    "pycharm": {
     "name": "#%%\n"
    }
   }
  },
  {
   "cell_type": "code",
   "execution_count": null,
   "outputs": [],
   "source": [],
   "metadata": {
    "collapsed": false,
    "pycharm": {
     "name": "#%%\n"
    }
   }
  },
  {
   "cell_type": "code",
   "execution_count": null,
   "outputs": [],
   "source": [],
   "metadata": {
    "collapsed": false,
    "pycharm": {
     "name": "#%%\n"
    }
   }
  },
  {
   "cell_type": "code",
   "execution_count": null,
   "outputs": [],
   "source": [],
   "metadata": {
    "collapsed": false,
    "pycharm": {
     "name": "#%%\n"
    }
   }
  },
  {
   "cell_type": "code",
   "execution_count": null,
   "outputs": [],
   "source": [],
   "metadata": {
    "collapsed": false,
    "pycharm": {
     "name": "#%%\n"
    }
   }
  },
  {
   "cell_type": "code",
   "execution_count": null,
   "outputs": [],
   "source": [],
   "metadata": {
    "collapsed": false,
    "pycharm": {
     "name": "#%%\n"
    }
   }
  },
  {
   "cell_type": "code",
   "execution_count": null,
   "outputs": [],
   "source": [],
   "metadata": {
    "collapsed": false,
    "pycharm": {
     "name": "#%%\n"
    }
   }
  },
  {
   "cell_type": "code",
   "execution_count": null,
   "outputs": [],
   "source": [],
   "metadata": {
    "collapsed": false,
    "pycharm": {
     "name": "#%%\n"
    }
   }
  },
  {
   "cell_type": "code",
   "execution_count": null,
   "outputs": [],
   "source": [],
   "metadata": {
    "collapsed": false,
    "pycharm": {
     "name": "#%%\n"
    }
   }
  },
  {
   "cell_type": "code",
   "execution_count": null,
   "outputs": [],
   "source": [],
   "metadata": {
    "collapsed": false,
    "pycharm": {
     "name": "#%%\n"
    }
   }
  },
  {
   "cell_type": "code",
   "execution_count": null,
   "outputs": [],
   "source": [],
   "metadata": {
    "collapsed": false,
    "pycharm": {
     "name": "#%%\n"
    }
   }
  }
 ],
 "metadata": {
  "kernelspec": {
   "display_name": "Python 3",
   "language": "python",
   "name": "python3"
  },
  "language_info": {
   "codemirror_mode": {
    "name": "ipython",
    "version": 2
   },
   "file_extension": ".py",
   "mimetype": "text/x-python",
   "name": "python",
   "nbconvert_exporter": "python",
   "pygments_lexer": "ipython2",
   "version": "2.7.6"
  }
 },
 "nbformat": 4,
 "nbformat_minor": 0
}